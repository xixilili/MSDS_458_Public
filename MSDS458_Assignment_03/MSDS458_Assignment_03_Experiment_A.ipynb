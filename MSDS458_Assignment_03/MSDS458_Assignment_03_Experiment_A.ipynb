{
  "nbformat": 4,
  "nbformat_minor": 0,
  "metadata": {
    "colab": {
      "name": "MSDS458_Assignment_03_ExperimentA.ipynb",
      "provenance": [],
      "authorship_tag": "ABX9TyMThmtaBkWECPVW//tHA43+",
      "include_colab_link": true
    },
    "kernelspec": {
      "name": "python3",
      "display_name": "Python 3"
    },
    "language_info": {
      "name": "python"
    }
  },
  "cells": [
    {
      "cell_type": "markdown",
      "metadata": {
        "id": "view-in-github",
        "colab_type": "text"
      },
      "source": [
        "<a href=\"https://colab.research.google.com/github/xixilili/MSDS_458_Public/blob/master/MSDS458_Assignment_03/MSDS458_Assignment_03_Experiment_A.ipynb\" target=\"_parent\"><img src=\"https://colab.research.google.com/assets/colab-badge.svg\" alt=\"Open In Colab\"/></a>"
      ]
    },
    {
      "cell_type": "markdown",
      "source": [
        "### Load Package"
      ],
      "metadata": {
        "id": "1aCwgEKag1yI"
      }
    },
    {
      "cell_type": "code",
      "source": [
        "from IPython.core.interactiveshell import InteractiveShell\n",
        "InteractiveShell.ast_node_interactivity = \"all\""
      ],
      "metadata": {
        "id": "r_VF1bTsisyU"
      },
      "execution_count": 65,
      "outputs": []
    },
    {
      "cell_type": "code",
      "source": [
        "import datetime\n",
        "from packaging import version\n",
        "from collections import Counter\n",
        "import numpy as np\n",
        "import pandas as pd\n",
        "import time\n",
        "\n",
        "import matplotlib.pyplot as plt\n",
        "import matplotlib as mpl\n",
        "import seaborn as sns\n",
        "\n",
        "from sklearn.metrics import confusion_matrix, classification_report\n",
        "from sklearn.preprocessing import StandardScaler\n",
        "from sklearn.decomposition import PCA\n",
        "from sklearn.manifold import TSNE\n",
        "from sklearn.ensemble import RandomForestClassifier\n",
        "from sklearn.metrics import mean_squared_error as MSE\n",
        "from sklearn.metrics import accuracy_score\n",
        "\n",
        "import tensorflow as tf\n",
        "from tensorflow import keras\n",
        "import tensorflow_datasets as tfds"
      ],
      "metadata": {
        "id": "RJqMG9yqg5BX"
      },
      "execution_count": 66,
      "outputs": []
    },
    {
      "cell_type": "markdown",
      "source": [
        "### Load and Process Data"
      ],
      "metadata": {
        "id": "4Nn84T_qePrI"
      }
    },
    {
      "cell_type": "code",
      "execution_count": 67,
      "metadata": {
        "colab": {
          "base_uri": "https://localhost:8080/"
        },
        "id": "Dyu_R81id9n4",
        "outputId": "075e024e-cb08-4592-963b-9c654bd051d8"
      },
      "outputs": [
        {
          "output_type": "stream",
          "name": "stdout",
          "text": [
            "2022-02-18 22:05:28.565415: E tensorflow/stream_executor/cuda/cuda_driver.cc:271] failed call to cuInit: CUDA_ERROR_NO_DEVICE: no CUDA-capable device is detected\n",
            "I0218 22:05:28.565774 140020690442112 download_and_prepare.py:200] Running download_and_prepare for dataset(s):\n",
            "ag_news_subset\n",
            "I0218 22:05:28.567388 140020690442112 dataset_info.py:361] Load dataset info from /root/tensorflow_datasets/ag_news_subset/1.0.0\n",
            "I0218 22:05:28.576868 140020690442112 download_and_prepare.py:138] download_and_prepare for dataset ag_news_subset/1.0.0...\n",
            "I0218 22:05:28.577253 140020690442112 dataset_builder.py:299] Reusing dataset ag_news_subset (/root/tensorflow_datasets/ag_news_subset/1.0.0)\n",
            "\u001b[1mname: \"ag_news_subset\"\n",
            "description: \"AG is a collection of more than 1 million news articles.\\nNews articles have been gathered from more than 2000  news sources by ComeToMyHead in more than 1 year of activity.\\nComeToMyHead is an academic news search engine which has been running since July, 2004.\\nThe dataset is provided by the academic comunity for research purposes in data mining (clustering, classification, etc),\\ninformation retrieval (ranking, search, etc), xml, data compression, data streaming,\\nand any other non-commercial activity.\\nFor more information, please refer to the link http://www.di.unipi.it/~gulli/AG_corpus_of_news_articles.html .\\n\\nThe AG\\'s news topic classification dataset is constructed by Xiang Zhang (xiang.zhang@nyu.edu) from the dataset above.\\nIt is used as a text classification benchmark in the following paper:\\nXiang Zhang, Junbo Zhao, Yann LeCun. Character-level Convolutional Networks for Text Classification. Advances in Neural Information Processing Systems 28 (NIPS 2015).\\n\\nThe AG\\'s news topic classification dataset is constructed by choosing 4 largest classes from the original corpus.\\nEach class contains 30,000 training samples and 1,900 testing samples.\\nThe total number of training samples is 120,000 and testing 7,600.\"\n",
            "citation: \"@misc{zhang2015characterlevel,\\n    title={Character-level Convolutional Networks for Text Classification},\\n    author={Xiang Zhang and Junbo Zhao and Yann LeCun},\\n    year={2015},\\n    eprint={1509.01626},\\n    archivePrefix={arXiv},\\n    primaryClass={cs.LG}\\n}\"\n",
            "location {\n",
            "  urls: \"https://arxiv.org/abs/1509.01626\"\n",
            "}\n",
            "splits {\n",
            "  name: \"test\"\n",
            "  shard_lengths: 7600\n",
            "  num_bytes: 2226751\n",
            "}\n",
            "splits {\n",
            "  name: \"train\"\n",
            "  shard_lengths: 120000\n",
            "  num_bytes: 35301386\n",
            "}\n",
            "supervised_keys {\n",
            "  input: \"description\"\n",
            "  output: \"label\"\n",
            "}\n",
            "version: \"1.0.0\"\n",
            "download_size: 11784327\n",
            "\u001b[0m\n"
          ]
        }
      ],
      "source": [
        "# register  ag_news_subset so that tfds.load doesn't generate a checksum (mismatch) error\n",
        "!python -m tensorflow_datasets.scripts.download_and_prepare --register_checksums --datasets=ag_news_subset\n",
        "\n",
        "# Example Approaches to Split Data Set\n",
        "# dataset, info = tfds.load('ag_news_subset', with_info=True,  split=['train[:]','test[:1000]', 'test[1000:]'],\n",
        "dataset, info = tfds.load('ag_news_subset', with_info=True,  split=['train[:95%]','train[95%:]', 'test[:]'],\n",
        "# dataset, info = tfds.load('ag_news_subset', with_info=True,  split=['train[:114000]','train[114000:]', 'test[:]'],\n",
        "                          as_supervised=True)\n",
        "train_dataset, validation_dataset, test_dataset = dataset\n",
        "# train_dataset, test_dataset = dataset['train'],dataset['test']"
      ]
    },
    {
      "cell_type": "code",
      "source": [
        "BUFFER_SIZE = 10000\n",
        "BATCH_SIZE = 64"
      ],
      "metadata": {
        "id": "jGZlYD3R1rag"
      },
      "execution_count": 68,
      "outputs": []
    },
    {
      "cell_type": "code",
      "source": [
        "train_dataset = train_dataset.shuffle(BUFFER_SIZE).batch(BATCH_SIZE).prefetch(tf.data.experimental.AUTOTUNE)\n",
        "validation_dataset = validation_dataset.shuffle(BUFFER_SIZE).batch(BATCH_SIZE).prefetch(tf.data.experimental.AUTOTUNE)\n",
        "test_dataset = test_dataset.batch(BATCH_SIZE).prefetch(tf.data.experimental.AUTOTUNE)"
      ],
      "metadata": {
        "id": "B6HRSW6d1qku"
      },
      "execution_count": 69,
      "outputs": []
    },
    {
      "cell_type": "markdown",
      "source": [
        "### Encoder"
      ],
      "metadata": {
        "id": "kqyQvZUFeUAh"
      }
    },
    {
      "cell_type": "code",
      "source": [
        "def get_encoder(VOCAB_SIZE):\n",
        "  encoder = tf.keras.layers.experimental.preprocessing.TextVectorization(max_tokens=VOCAB_SIZE)\n",
        "  encoder.adapt(train_dataset.map(lambda text, label: text))\n",
        "  return encoder"
      ],
      "metadata": {
        "id": "A-Bsb3k3eMLA"
      },
      "execution_count": 70,
      "outputs": []
    },
    {
      "cell_type": "markdown",
      "source": [
        "### Create Model"
      ],
      "metadata": {
        "id": "shH2_ALqeTgM"
      }
    },
    {
      "cell_type": "code",
      "source": [
        "def creat_model(encoder):\n",
        "  model = tf.keras.Sequential([\n",
        "                              encoder\n",
        "                              ,tf.keras.layers.Embedding(input_dim=len(encoder.get_vocabulary())\n",
        "                              ,output_dim=64\n",
        "                                # Use masking to handle the variable sequence lengths\n",
        "                              ,mask_zero=True)\n",
        "                              ,tf.keras.layers.Bidirectional(tf.keras.layers.LSTM(64))\n",
        "                              ,tf.keras.layers.Dense(64, activation='relu')\n",
        "                              ,tf.keras.layers.Dense(4,activation='softmax')   # num_classes = 4\n",
        "  ])\n",
        "  return model"
      ],
      "metadata": {
        "id": "vEoPYv-Wenik"
      },
      "execution_count": 71,
      "outputs": []
    },
    {
      "cell_type": "markdown",
      "source": [
        "### Compile, Train Model"
      ],
      "metadata": {
        "id": "ogNw-Hdge25x"
      }
    },
    {
      "cell_type": "code",
      "source": [
        "def namestr(obj, namespace):\n",
        "  for name in namespace:\n",
        "    if namespace[name] is obj:\n",
        "      return name"
      ],
      "metadata": {
        "id": "MTnJI_UEuXsl"
      },
      "execution_count": 72,
      "outputs": []
    },
    {
      "cell_type": "code",
      "source": [
        "import datetime as dt\n",
        "\n",
        "def compile_train_model(model, epoch):\n",
        "  #compile model\n",
        "  model.compile(optimizer=tf.keras.optimizers.Adam(1e-4)\n",
        "              ,loss=tf.keras.losses.SparseCategoricalCrossentropy() # if we set from_logits=True we don not have specify a softmax activation function in the last layer\n",
        "              ,metrics=['accuracy'])\n",
        "\n",
        "  start_datetime = dt.datetime.now()\n",
        "\n",
        "  #train model  \n",
        "  history = model.fit(train_dataset\n",
        "                    ,epochs = epoch\n",
        "                    ,validation_data=validation_dataset\n",
        "                    ,callbacks=[tf.keras.callbacks.EarlyStopping(monitor='val_accuracy', patience=2)]\n",
        "                    )\n",
        "\n",
        "\n",
        "  #evaluate model\n",
        "  loss, accuracy = model.evaluate(test_dataset)\n",
        "  print('test set accuracy: ', accuracy * 100)\n",
        "\n",
        "  runtime = (dt.datetime.now() - start_datetime).total_seconds()\n",
        "\n",
        "  #training and validation performance metrix\n",
        "  history_dict = history.history\n",
        "  history_df=pd.DataFrame(history_dict)\n",
        "\n",
        "  #loss and accuracy for training and validation data\n",
        "  losses = history.history['loss']\n",
        "  accs = history.history['accuracy']\n",
        "  val_losses = history.history['val_loss']\n",
        "  val_accs = history.history['val_accuracy']\n",
        "  epochs = len(losses)\n",
        "\n",
        "  result = history_df.tail(1)\n",
        "  result['test_loss'] = loss\n",
        "  result['test_accuracy'] = accuracy\n",
        "  result['process_time'] = runtime\n",
        "  result['epochs_setting'] = epoch  \n",
        "  result['epochs_actual'] = epochs    \n",
        "\n",
        "  plt.figure(figsize=(16, 4))\n",
        "  for i, metrics in enumerate(zip([losses, accs], [val_losses, val_accs], ['Loss', 'Accuracy'])):\n",
        "      plt.subplot(1, 2, i + 1)\n",
        "      plt.plot(range(epochs), metrics[0], label='Training {}'.format(metrics[2]))\n",
        "      plt.plot(range(epochs), metrics[1], label='Validation {}'.format(metrics[2]))\n",
        "      plt.legend()\n",
        "      plt.title('{0} with {1} epochs'.format(namestr(model, globals()), epoch))   \n",
        "  plt.show()  \n",
        "\n",
        "  return result"
      ],
      "metadata": {
        "id": "YmShiKBnfZGW"
      },
      "execution_count": 73,
      "outputs": []
    },
    {
      "cell_type": "markdown",
      "source": [
        "### Explore Vocab"
      ],
      "metadata": {
        "id": "nRU1LsKDuhXr"
      }
    },
    {
      "cell_type": "code",
      "source": [
        "def explore_vocab(train_dataset,encoder):\n",
        "  doc_sizes = []\n",
        "  corpus = []\n",
        "  for example, _ in train_dataset.as_numpy_iterator():\n",
        "    enc_example = encoder(example)\n",
        "    doc_sizes.append(len(enc_example))\n",
        "    corpus+=list(enc_example.numpy())\n",
        "  return  corpus, doc_sizes"
      ],
      "metadata": {
        "id": "SyebLb6Qo5ja"
      },
      "execution_count": 74,
      "outputs": []
    },
    {
      "cell_type": "markdown",
      "source": [
        "## Experiment A a\n",
        "(a) Vocabulary Size: Tweak the vocabulary size, at least 3 levels, eg. vocab size of 1000, 2000, 3000. This way, we can get insights whether the performance metric is non linearly related to the vocab size."
      ],
      "metadata": {
        "id": "v7Bm_fDthKnG"
      }
    },
    {
      "cell_type": "markdown",
      "source": [
        "### Vocab 1000"
      ],
      "metadata": {
        "id": "IrnBPmCj2dtT"
      }
    },
    {
      "cell_type": "code",
      "source": [
        "len(train_dataset),len(validation_dataset),len(test_dataset) "
      ],
      "metadata": {
        "id": "kZ1gM_wOWoum",
        "outputId": "7d226cd0-9913-4549-c7f3-fc328e6e311b",
        "colab": {
          "base_uri": "https://localhost:8080/"
        }
      },
      "execution_count": 75,
      "outputs": [
        {
          "output_type": "execute_result",
          "data": {
            "text/plain": [
              "(1782, 94, 119)"
            ]
          },
          "metadata": {},
          "execution_count": 75
        }
      ]
    },
    {
      "cell_type": "code",
      "source": [
        "#for example, label in train_dataset.take(1):\n",
        "#  print('text: ', example.numpy())"
      ],
      "metadata": {
        "id": "uM28bqeeY2IL"
      },
      "execution_count": 76,
      "outputs": []
    },
    {
      "cell_type": "code",
      "source": [
        "VOCAB_SIZE = 1000\n",
        "EPOCH_SIZE = 200\n",
        "encoder1000 = get_encoder(VOCAB_SIZE)"
      ],
      "metadata": {
        "id": "hkBui_ADhQ1F"
      },
      "execution_count": 77,
      "outputs": []
    },
    {
      "cell_type": "code",
      "source": [
        "corpus1000, doc_sizes1000 = explore_vocab(train_dataset,encoder1000)"
      ],
      "metadata": {
        "id": "KxtNKiq2pm7J"
      },
      "execution_count": 78,
      "outputs": []
    },
    {
      "cell_type": "code",
      "source": [
        "\n",
        "vocab1000 = np.array(encoder1000.get_vocabulary())\n",
        "num_vocab_words_in_corpus =len(vocab1000)\n",
        "\n",
        "num_words =len(corpus1000)\n",
        "num_articles =len(doc_sizes1000)\n",
        "min_token_in_a_article = min(doc_sizes1000)\n",
        "max_token_in_a_article = max(doc_sizes1000)  \n",
        "\n",
        "print(num_vocab_words_in_corpus)\n",
        "print(num_words)\n",
        "print(num_articles)\n",
        "print(min_token_in_a_article)\n",
        "print(max_token_in_a_article)\n",
        "\n",
        "\"\"\"\n",
        "plt.figure(figsize=(15,9))\n",
        "plt.hist(doc_sizes1000, bins=20,range = (0,120))\n",
        "plt.xlabel(\"Tokens Per Document\")\n",
        "plt.ylabel(\"Number of AG News Articles\")\n",
        "\"\"\""
      ],
      "metadata": {
        "colab": {
          "base_uri": "https://localhost:8080/",
          "height": 140
        },
        "id": "ttHkXBZ0oO7C",
        "outputId": "dd5db4e6-c57f-4624-b363-b8d4d8ee8811"
      },
      "execution_count": 79,
      "outputs": [
        {
          "output_type": "stream",
          "name": "stdout",
          "text": [
            "1000\n",
            "114000\n",
            "1782\n",
            "16\n",
            "64\n"
          ]
        },
        {
          "output_type": "execute_result",
          "data": {
            "application/vnd.google.colaboratory.intrinsic+json": {
              "type": "string"
            },
            "text/plain": [
              "'\\nplt.figure(figsize=(15,9))\\nplt.hist(doc_sizes1000, bins=20,range = (0,120))\\nplt.xlabel(\"Tokens Per Document\")\\nplt.ylabel(\"Number of AG News Articles\")\\n'"
            ]
          },
          "metadata": {},
          "execution_count": 79
        }
      ]
    },
    {
      "cell_type": "code",
      "source": [
        "RNN1000 = creat_model(encoder1000)\n",
        "result1000 = compile_train_model(RNN1000, 200)"
      ],
      "metadata": {
        "colab": {
          "base_uri": "https://localhost:8080/",
          "height": 1000
        },
        "id": "CxAGGboviGqu",
        "outputId": "6699c700-7eb1-4ef2-b5cc-49503ba81409"
      },
      "execution_count": 80,
      "outputs": [
        {
          "output_type": "stream",
          "name": "stdout",
          "text": [
            "Epoch 1/200\n",
            "1782/1782 [==============================] - 266s 144ms/step - loss: 0.7732 - accuracy: 0.6925 - val_loss: 0.4960 - val_accuracy: 0.8288\n",
            "Epoch 2/200\n",
            "1782/1782 [==============================] - 263s 147ms/step - loss: 0.4633 - accuracy: 0.8358 - val_loss: 0.4328 - val_accuracy: 0.8512\n",
            "Epoch 3/200\n",
            "1782/1782 [==============================] - 253s 142ms/step - loss: 0.4237 - accuracy: 0.8478 - val_loss: 0.4090 - val_accuracy: 0.8557\n",
            "Epoch 4/200\n",
            "1782/1782 [==============================] - 255s 143ms/step - loss: 0.4042 - accuracy: 0.8544 - val_loss: 0.3967 - val_accuracy: 0.8595\n",
            "Epoch 5/200\n",
            "1782/1782 [==============================] - 256s 143ms/step - loss: 0.3936 - accuracy: 0.8573 - val_loss: 0.3972 - val_accuracy: 0.8558\n",
            "Epoch 6/200\n",
            "1782/1782 [==============================] - 255s 143ms/step - loss: 0.3864 - accuracy: 0.8604 - val_loss: 0.3898 - val_accuracy: 0.8610\n",
            "Epoch 7/200\n",
            "1782/1782 [==============================] - 253s 142ms/step - loss: 0.3823 - accuracy: 0.8607 - val_loss: 0.3845 - val_accuracy: 0.8630\n",
            "Epoch 8/200\n",
            "1782/1782 [==============================] - 254s 142ms/step - loss: 0.3782 - accuracy: 0.8624 - val_loss: 0.3907 - val_accuracy: 0.8632\n",
            "Epoch 9/200\n",
            "1782/1782 [==============================] - 252s 142ms/step - loss: 0.3741 - accuracy: 0.8634 - val_loss: 0.3816 - val_accuracy: 0.8652\n",
            "Epoch 10/200\n",
            "1782/1782 [==============================] - 253s 142ms/step - loss: 0.3716 - accuracy: 0.8645 - val_loss: 0.3805 - val_accuracy: 0.8623\n",
            "Epoch 11/200\n",
            "1782/1782 [==============================] - 254s 142ms/step - loss: 0.3684 - accuracy: 0.8654 - val_loss: 0.3811 - val_accuracy: 0.8627\n",
            "119/119 [==============================] - 5s 43ms/step - loss: 0.4037 - accuracy: 0.8528\n",
            "test set accuracy:  85.27631759643555\n"
          ]
        },
        {
          "output_type": "stream",
          "name": "stderr",
          "text": [
            "/usr/local/lib/python3.7/dist-packages/ipykernel_launcher.py:37: SettingWithCopyWarning: \n",
            "A value is trying to be set on a copy of a slice from a DataFrame.\n",
            "Try using .loc[row_indexer,col_indexer] = value instead\n",
            "\n",
            "See the caveats in the documentation: https://pandas.pydata.org/pandas-docs/stable/user_guide/indexing.html#returning-a-view-versus-a-copy\n",
            "/usr/local/lib/python3.7/dist-packages/ipykernel_launcher.py:38: SettingWithCopyWarning: \n",
            "A value is trying to be set on a copy of a slice from a DataFrame.\n",
            "Try using .loc[row_indexer,col_indexer] = value instead\n",
            "\n",
            "See the caveats in the documentation: https://pandas.pydata.org/pandas-docs/stable/user_guide/indexing.html#returning-a-view-versus-a-copy\n",
            "/usr/local/lib/python3.7/dist-packages/ipykernel_launcher.py:39: SettingWithCopyWarning: \n",
            "A value is trying to be set on a copy of a slice from a DataFrame.\n",
            "Try using .loc[row_indexer,col_indexer] = value instead\n",
            "\n",
            "See the caveats in the documentation: https://pandas.pydata.org/pandas-docs/stable/user_guide/indexing.html#returning-a-view-versus-a-copy\n",
            "/usr/local/lib/python3.7/dist-packages/ipykernel_launcher.py:40: SettingWithCopyWarning: \n",
            "A value is trying to be set on a copy of a slice from a DataFrame.\n",
            "Try using .loc[row_indexer,col_indexer] = value instead\n",
            "\n",
            "See the caveats in the documentation: https://pandas.pydata.org/pandas-docs/stable/user_guide/indexing.html#returning-a-view-versus-a-copy\n",
            "/usr/local/lib/python3.7/dist-packages/ipykernel_launcher.py:41: SettingWithCopyWarning: \n",
            "A value is trying to be set on a copy of a slice from a DataFrame.\n",
            "Try using .loc[row_indexer,col_indexer] = value instead\n",
            "\n",
            "See the caveats in the documentation: https://pandas.pydata.org/pandas-docs/stable/user_guide/indexing.html#returning-a-view-versus-a-copy\n"
          ]
        },
        {
          "output_type": "display_data",
          "data": {
            "image/png": "[encoded data removed]",
            "text/plain": [
              "<Figure size 1152x288 with 2 Axes>"
            ]
          },
          "metadata": {
            "needs_background": "light"
          }
        }
      ]
    },
    {
      "cell_type": "code",
      "source": [
        "result1000['vocab_size'] = VOCAB_SIZE \n",
        "result1000['num_words'] = num_words \n",
        "result1000['num_articles'] = num_articles\n",
        "result1000['min_token_in_a_article'] = min_token_in_a_article \n",
        "result1000['max_token_in_a_article'] = max_token_in_a_article "
      ],
      "metadata": {
        "id": "csZM1XnyoP-k"
      },
      "execution_count": 81,
      "outputs": []
    },
    {
      "cell_type": "code",
      "source": [
        "assignment_result_table = result1000\n",
        "new_col = ['RNN with 1000 vocab size']   \n",
        "assignment_result_table.insert(loc=0, column='Model', value=new_col)\n",
        "assignment_result_table"
      ],
      "metadata": {
        "colab": {
          "base_uri": "https://localhost:8080/",
          "height": 212
        },
        "id": "UFGVytCA3ZYO",
        "outputId": "da46590d-34a1-4270-8ccd-ec86181ce551"
      },
      "execution_count": 82,
      "outputs": [
        {
          "output_type": "execute_result",
          "data": {
            "text/html": [
              "\n",
              "  <div id=\"df-83af180d-b9ea-49fa-bd6a-541e57d57387\">\n",
              "    <div class=\"colab-df-container\">\n",
              "      <div>\n",
              "<style scoped>\n",
              "    .dataframe tbody tr th:only-of-type {\n",
              "        vertical-align: middle;\n",
              "    }\n",
              "\n",
              "    .dataframe tbody tr th {\n",
              "        vertical-align: top;\n",
              "    }\n",
              "\n",
              "    .dataframe thead th {\n",
              "        text-align: right;\n",
              "    }\n",
              "</style>\n",
              "<table border=\"1\" class=\"dataframe\">\n",
              "  <thead>\n",
              "    <tr style=\"text-align: right;\">\n",
              "      <th></th>\n",
              "      <th>Model</th>\n",
              "      <th>loss</th>\n",
              "      <th>accuracy</th>\n",
              "      <th>val_loss</th>\n",
              "      <th>val_accuracy</th>\n",
              "      <th>test_loss</th>\n",
              "      <th>test_accuracy</th>\n",
              "      <th>process_time</th>\n",
              "      <th>epochs_setting</th>\n",
              "      <th>epochs_actual</th>\n",
              "      <th>vocab_size</th>\n",
              "      <th>num_words</th>\n",
              "      <th>num_articles</th>\n",
              "      <th>min_token_in_a_article</th>\n",
              "      <th>max_token_in_a_article</th>\n",
              "    </tr>\n",
              "  </thead>\n",
              "  <tbody>\n",
              "    <tr>\n",
              "      <th>10</th>\n",
              "      <td>RNN with 1000 vocab size</td>\n",
              "      <td>0.368356</td>\n",
              "      <td>0.86543</td>\n",
              "      <td>0.381142</td>\n",
              "      <td>0.862667</td>\n",
              "      <td>0.403663</td>\n",
              "      <td>0.852763</td>\n",
              "      <td>2900.283143</td>\n",
              "      <td>200</td>\n",
              "      <td>11</td>\n",
              "      <td>1000</td>\n",
              "      <td>114000</td>\n",
              "      <td>1782</td>\n",
              "      <td>16</td>\n",
              "      <td>64</td>\n",
              "    </tr>\n",
              "  </tbody>\n",
              "</table>\n",
              "</div>\n",
              "      <button class=\"colab-df-convert\" onclick=\"convertToInteractive('df-83af180d-b9ea-49fa-bd6a-541e57d57387')\"\n",
              "              title=\"Convert this dataframe to an interactive table.\"\n",
              "              style=\"display:none;\">\n",
              "        \n",
              "  <svg xmlns=\"http://www.w3.org/2000/svg\" height=\"24px\"viewBox=\"0 0 24 24\"\n",
              "       width=\"24px\">\n",
              "    <path d=\"M0 0h24v24H0V0z\" fill=\"none\"/>\n",
              "    <path d=\"M18.56 5.44l.94 2.06.94-2.06 2.06-.94-2.06-.94-.94-2.06-.94 2.06-2.06.94zm-11 1L8.5 8.5l.94-2.06 2.06-.94-2.06-.94L8.5 2.5l-.94 2.06-2.06.94zm10 10l.94 2.06.94-2.06 2.06-.94-2.06-.94-.94-2.06-.94 2.06-2.06.94z\"/><path d=\"M17.41 7.96l-1.37-1.37c-.4-.4-.92-.59-1.43-.59-.52 0-1.04.2-1.43.59L10.3 9.45l-7.72 7.72c-.78.78-.78 2.05 0 2.83L4 21.41c.39.39.9.59 1.41.59.51 0 1.02-.2 1.41-.59l7.78-7.78 2.81-2.81c.8-.78.8-2.07 0-2.86zM5.41 20L4 18.59l7.72-7.72 1.47 1.35L5.41 20z\"/>\n",
              "  </svg>\n",
              "      </button>\n",
              "      \n",
              "  <style>\n",
              "    .colab-df-container {\n",
              "      display:flex;\n",
              "      flex-wrap:wrap;\n",
              "      gap: 12px;\n",
              "    }\n",
              "\n",
              "    .colab-df-convert {\n",
              "      background-color: #E8F0FE;\n",
              "      border: none;\n",
              "      border-radius: 50%;\n",
              "      cursor: pointer;\n",
              "      display: none;\n",
              "      fill: #1967D2;\n",
              "      height: 32px;\n",
              "      padding: 0 0 0 0;\n",
              "      width: 32px;\n",
              "    }\n",
              "\n",
              "    .colab-df-convert:hover {\n",
              "      background-color: #E2EBFA;\n",
              "      box-shadow: 0px 1px 2px rgba(60, 64, 67, 0.3), 0px 1px 3px 1px rgba(60, 64, 67, 0.15);\n",
              "      fill: #174EA6;\n",
              "    }\n",
              "\n",
              "    [theme=dark] .colab-df-convert {\n",
              "      background-color: #3B4455;\n",
              "      fill: #D2E3FC;\n",
              "    }\n",
              "\n",
              "    [theme=dark] .colab-df-convert:hover {\n",
              "      background-color: #434B5C;\n",
              "      box-shadow: 0px 1px 3px 1px rgba(0, 0, 0, 0.15);\n",
              "      filter: drop-shadow(0px 1px 2px rgba(0, 0, 0, 0.3));\n",
              "      fill: #FFFFFF;\n",
              "    }\n",
              "  </style>\n",
              "\n",
              "      <script>\n",
              "        const buttonEl =\n",
              "          document.querySelector('#df-83af180d-b9ea-49fa-bd6a-541e57d57387 button.colab-df-convert');\n",
              "        buttonEl.style.display =\n",
              "          google.colab.kernel.accessAllowed ? 'block' : 'none';\n",
              "\n",
              "        async function convertToInteractive(key) {\n",
              "          const element = document.querySelector('#df-83af180d-b9ea-49fa-bd6a-541e57d57387');\n",
              "          const dataTable =\n",
              "            await google.colab.kernel.invokeFunction('convertToInteractive',\n",
              "                                                     [key], {});\n",
              "          if (!dataTable) return;\n",
              "\n",
              "          const docLinkHtml = 'Like what you see? Visit the ' +\n",
              "            '<a target=\"_blank\" href=https://colab.research.google.com/notebooks/data_table.ipynb>data table notebook</a>'\n",
              "            + ' to learn more about interactive tables.';\n",
              "          element.innerHTML = '';\n",
              "          dataTable['output_type'] = 'display_data';\n",
              "          await google.colab.output.renderOutput(dataTable, element);\n",
              "          const docLink = document.createElement('div');\n",
              "          docLink.innerHTML = docLinkHtml;\n",
              "          element.appendChild(docLink);\n",
              "        }\n",
              "      </script>\n",
              "    </div>\n",
              "  </div>\n",
              "  "
            ],
            "text/plain": [
              "                       Model  ...  max_token_in_a_article\n",
              "10  RNN with 1000 vocab size  ...                      64\n",
              "\n",
              "[1 rows x 15 columns]"
            ]
          },
          "metadata": {},
          "execution_count": 82
        }
      ]
    },
    {
      "cell_type": "markdown",
      "source": [
        "### Vocab 2000"
      ],
      "metadata": {
        "id": "U1hD3wrA2ibc"
      }
    },
    {
      "cell_type": "code",
      "source": [
        "VOCAB_SIZE = 2000\n",
        "EPOCH_SIZE = 200\n",
        "encoder2000 = get_encoder(VOCAB_SIZE)"
      ],
      "metadata": {
        "id": "bqzQUUu42keW"
      },
      "execution_count": 83,
      "outputs": []
    },
    {
      "cell_type": "code",
      "source": [
        "corpus2000, doc_sizes2000 = explore_vocab(train_dataset,encoder2000)"
      ],
      "metadata": {
        "id": "RJu3uXcT2q6R"
      },
      "execution_count": 84,
      "outputs": []
    },
    {
      "cell_type": "code",
      "source": [
        "vocab2000 = np.array(encoder2000.get_vocabulary())\n",
        "num_vocab_words_in_corpus =len(vocab2000)\n",
        "\n",
        "num_words =len(corpus2000)\n",
        "num_articles =len(doc_sizes2000)\n",
        "min_token_in_a_article = min(doc_sizes2000)\n",
        "max_token_in_a_article = max(doc_sizes2000)  \n",
        "\n",
        "print(num_vocab_words_in_corpus)\n",
        "print(num_words)\n",
        "print(num_articles)\n",
        "print(min_token_in_a_article)\n",
        "print(max_token_in_a_article)\n",
        "\n",
        "\"\"\"\n",
        "plt.figure(figsize=(15,9))\n",
        "plt.hist(doc_sizes2000, bins=20,range = (0,120))\n",
        "plt.xlabel(\"Tokens Per Document\")\n",
        "plt.ylabel(\"Number of AG News Articles\");\n",
        "\"\"\""
      ],
      "metadata": {
        "colab": {
          "base_uri": "https://localhost:8080/",
          "height": 140
        },
        "id": "gMMPUM3I21ol",
        "outputId": "2e30170e-3700-44ae-f0a4-f81e223a2534"
      },
      "execution_count": 85,
      "outputs": [
        {
          "output_type": "stream",
          "name": "stdout",
          "text": [
            "2000\n",
            "114000\n",
            "1782\n",
            "16\n",
            "64\n"
          ]
        },
        {
          "output_type": "execute_result",
          "data": {
            "application/vnd.google.colaboratory.intrinsic+json": {
              "type": "string"
            },
            "text/plain": [
              "'\\nplt.figure(figsize=(15,9))\\nplt.hist(doc_sizes2000, bins=20,range = (0,120))\\nplt.xlabel(\"Tokens Per Document\")\\nplt.ylabel(\"Number of AG News Articles\");\\n'"
            ]
          },
          "metadata": {},
          "execution_count": 85
        }
      ]
    },
    {
      "cell_type": "code",
      "source": [
        "RNN2000 = creat_model(encoder2000)\n",
        "result2000 = compile_train_model(RNN2000, 200)"
      ],
      "metadata": {
        "colab": {
          "base_uri": "https://localhost:8080/"
        },
        "id": "pz6JuXTA3DpS",
        "outputId": "9721c0d6-2bd1-4b2f-ddd9-743a436a7132"
      },
      "execution_count": null,
      "outputs": [
        {
          "output_type": "stream",
          "name": "stdout",
          "text": [
            "Epoch 1/200\n",
            "1782/1782 [==============================] - 265s 144ms/step - loss: 0.6666 - accuracy: 0.7502 - val_loss: 0.4223 - val_accuracy: 0.8568\n",
            "Epoch 2/200\n",
            "1782/1782 [==============================] - 256s 143ms/step - loss: 0.3959 - accuracy: 0.8618 - val_loss: 0.3903 - val_accuracy: 0.8667\n",
            "Epoch 3/200\n",
            "1782/1782 [==============================] - 264s 148ms/step - loss: 0.3704 - accuracy: 0.8701 - val_loss: 0.3800 - val_accuracy: 0.8678\n",
            "Epoch 4/200\n",
            "  31/1782 [..............................] - ETA: 4:25 - loss: 0.3458 - accuracy: 0.8705"
          ]
        }
      ]
    },
    {
      "cell_type": "code",
      "source": [
        "result2000['vocab_size'] = VOCAB_SIZE \n",
        "result2000['num_words'] = num_words \n",
        "result2000['num_articles'] = num_articles\n",
        "result2000['min_token_in_a_article'] = min_token_in_a_article \n",
        "result2000['max_token_in_a_article'] = max_token_in_a_article \n",
        "new_col = ['RNN with 2000 vocab size']   \n",
        "result2000.insert(loc=0, column='Model', value=new_col)"
      ],
      "metadata": {
        "id": "h4CHwO8w4Hdc"
      },
      "execution_count": null,
      "outputs": []
    },
    {
      "cell_type": "code",
      "source": [
        "assignment_result_table = assignment_result_table.append(result2000, ignore_index = True)\n",
        "assignment_result_table"
      ],
      "metadata": {
        "id": "FLDko_bK4Jhu"
      },
      "execution_count": null,
      "outputs": []
    },
    {
      "cell_type": "markdown",
      "source": [
        "### Vocab 3000"
      ],
      "metadata": {
        "id": "qUv8AcS74_79"
      }
    },
    {
      "cell_type": "code",
      "source": [
        "VOCAB_SIZE = 3000\n",
        "EPOCH_SIZE = 200\n",
        "encoder3000 = get_encoder(VOCAB_SIZE)"
      ],
      "metadata": {
        "id": "rFFc5N_15Ewo"
      },
      "execution_count": null,
      "outputs": []
    },
    {
      "cell_type": "code",
      "source": [
        "corpus3000, doc_sizes3000 = explore_vocab(train_dataset,encoder3000)"
      ],
      "metadata": {
        "id": "fTmgjVIO5IYs"
      },
      "execution_count": null,
      "outputs": []
    },
    {
      "cell_type": "code",
      "source": [
        "vocab3000 = np.array(encoder3000.get_vocabulary())\n",
        "num_vocab_words_in_corpus =len(vocab3000)\n",
        "\n",
        "num_words =len(corpus3000)\n",
        "num_articles =len(doc_sizes3000)\n",
        "min_token_in_a_article = min(doc_sizes3000)\n",
        "max_token_in_a_article = max(doc_sizes3000)  \n",
        "\n",
        "print(num_vocab_words_in_corpus)\n",
        "print(num_words)\n",
        "print(num_articles)\n",
        "print(min_token_in_a_article)\n",
        "print(max_token_in_a_article)\n",
        "\n",
        "\"\"\"\n",
        "plt.figure(figsize=(15,9))\n",
        "plt.hist(doc_sizes3000, bins=20,range = (0,120))\n",
        "plt.xlabel(\"Tokens Per Document\")\n",
        "plt.ylabel(\"Number of AG News Articles\");\n",
        "\"\"\""
      ],
      "metadata": {
        "id": "MU_v0Cge5Q7a"
      },
      "execution_count": null,
      "outputs": []
    },
    {
      "cell_type": "code",
      "source": [
        "RNN3000 = creat_model(encoder3000)\n",
        "result3000 = compile_train_model(RNN3000, 200)"
      ],
      "metadata": {
        "id": "-4_tel-95ZE8"
      },
      "execution_count": null,
      "outputs": []
    },
    {
      "cell_type": "code",
      "source": [
        "result3000['vocab_size'] = VOCAB_SIZE \n",
        "result3000['num_words'] = num_words \n",
        "result3000['num_articles'] = num_articles\n",
        "result3000['min_token_in_a_article'] = min_token_in_a_article \n",
        "result3000['max_token_in_a_article'] = max_token_in_a_article \n",
        "new_col = ['RNN with 3000 vocab size']   \n",
        "result3000.insert(loc=0, column='Model', value=new_col)"
      ],
      "metadata": {
        "id": "VkbLUvR65daK"
      },
      "execution_count": null,
      "outputs": []
    },
    {
      "cell_type": "code",
      "source": [
        "assignment_result_table = assignment_result_table.append(result3000, ignore_index = True)\n",
        "assignment_result_table"
      ],
      "metadata": {
        "id": "j406UjTd5ilE"
      },
      "execution_count": null,
      "outputs": []
    },
    {
      "cell_type": "markdown",
      "source": [
        "### Plot Test Accuracy by Vocab Size"
      ],
      "metadata": {
        "id": "WzdCFWUW7Tph"
      }
    },
    {
      "cell_type": "code",
      "source": [
        "x= assignment_result_table['vocab_size']\n",
        "y= assignment_result_table['test_accuracy']\n",
        "plt.plot(x,y)"
      ],
      "metadata": {
        "id": "1X4ZpceQ7TJG"
      },
      "execution_count": null,
      "outputs": []
    },
    {
      "cell_type": "markdown",
      "source": [
        "## Experiment A b\n",
        "(b) Editing the Vocabulary: Try unedited most frequent words, VERSUS edit the list by deleting the most frequent words such as article, ‘the’, ‘a’, etc."
      ],
      "metadata": {
        "id": "E0sdKXmK7cT5"
      }
    },
    {
      "cell_type": "markdown",
      "source": [
        "### Deleting the most frequent words from vocab"
      ],
      "metadata": {
        "id": "Fy5jhVdT9Faa"
      }
    },
    {
      "cell_type": "code",
      "source": [
        "#import nltk\n",
        "#nltk.download('stopwords')"
      ],
      "metadata": {
        "id": "eMO6lQWitSmp"
      },
      "execution_count": null,
      "outputs": []
    },
    {
      "cell_type": "code",
      "source": [
        "import nltk\n",
        "from nltk.corpus import stopwords\n",
        "stopwords = stopwords.words('english')"
      ],
      "metadata": {
        "id": "QPr7HjZB9Fvb"
      },
      "execution_count": null,
      "outputs": []
    },
    {
      "cell_type": "code",
      "source": [
        "vocab1000[:20]"
      ],
      "metadata": {
        "id": "KWdVmWmB7IFR"
      },
      "execution_count": null,
      "outputs": []
    },
    {
      "cell_type": "code",
      "source": [
        "filtered_vocab1000= []\n",
        "for w in vocab1000:\n",
        "    if w not in stopwords:\n",
        "        filtered_vocab1000.append(w)"
      ],
      "metadata": {
        "id": "bGsn6pg9DHt7"
      },
      "execution_count": null,
      "outputs": []
    },
    {
      "cell_type": "code",
      "source": [
        "filtered_vocab1000[:20]"
      ],
      "metadata": {
        "id": "jFJQfWleDtjZ"
      },
      "execution_count": null,
      "outputs": []
    },
    {
      "cell_type": "code",
      "source": [
        "len(filtered_vocab1000)"
      ],
      "metadata": {
        "id": "QFg0UG8e9Dez"
      },
      "execution_count": null,
      "outputs": []
    },
    {
      "cell_type": "code",
      "source": [
        "def get_encoder_with_filtered_vocab(VOCAB_SIZE, VOCAB):\n",
        "  encoder = tf.keras.layers.experimental.preprocessing.TextVectorization(max_tokens=VOCAB_SIZE, vocabulary=VOCAB)\n",
        "  #encoder.adapt(train_dataset.map(lambda text, label: text)) # Because we've passed the vocabulary directly, we don't need to adapt the layer - the vocabulary is already set. \n",
        "  return encoder"
      ],
      "metadata": {
        "id": "HhJL-x5Bw1hg"
      },
      "execution_count": null,
      "outputs": []
    },
    {
      "cell_type": "code",
      "source": [
        "VOCAB_SIZE = 1000\n",
        "EPOCH_SIZE = 200\n",
        "VOCAB = filtered_vocab1000 \n",
        "encoder1000_vocab = get_encoder_with_filtered_vocab(VOCAB_SIZE, VOCAB)"
      ],
      "metadata": {
        "id": "FNK4oEkTxBek"
      },
      "execution_count": null,
      "outputs": []
    },
    {
      "cell_type": "code",
      "source": [
        "corpus1000_vocab, doc_sizes1000_vocab = explore_vocab(train_dataset,encoder1000_vocab)"
      ],
      "metadata": {
        "id": "qze5sx2YxvBe"
      },
      "execution_count": null,
      "outputs": []
    },
    {
      "cell_type": "code",
      "source": [
        "vocab1000_50 = np.array(encoder1000_vocab.get_vocabulary())\n",
        "num_vocab_words_in_corpus =len(vocab1000_50)\n",
        "\n",
        "num_words =len(corpus1000_vocab)\n",
        "num_articles =len(doc_sizes1000_vocab)\n",
        "min_token_in_a_article = min(doc_sizes1000_vocab)\n",
        "max_token_in_a_article = max(doc_sizes1000_vocab)  \n",
        "\n",
        "print(num_vocab_words_in_corpus)\n",
        "print(num_words)\n",
        "print(num_articles)\n",
        "print(min_token_in_a_article)\n",
        "print(max_token_in_a_article)\n",
        "\n",
        "\"\"\"\n",
        "plt.figure(figsize=(15,9))\n",
        "plt.hist(doc_sizes1000_vocab, bins=20,range = (0,120))\n",
        "plt.xlabel(\"Tokens Per Document\")\n",
        "plt.ylabel(\"Number of AG News Articles\")\n",
        "\"\"\""
      ],
      "metadata": {
        "id": "-lnG07TMx2G7"
      },
      "execution_count": null,
      "outputs": []
    },
    {
      "cell_type": "code",
      "source": [
        "RNN1000_vocab = creat_model(encoder1000_vocab)\n",
        "result1000_vocab = compile_train_model(RNN1000_vocab, 200)"
      ],
      "metadata": {
        "id": "4DJux2e3yJsZ"
      },
      "execution_count": null,
      "outputs": []
    },
    {
      "cell_type": "code",
      "source": [
        "result1000_vocab['vocab_size'] = num_vocab_words_in_corpus \n",
        "result1000_vocab['num_words'] = num_words \n",
        "result1000_vocab['num_articles'] = num_articles\n",
        "result1000_vocab['min_token_in_a_article'] = min_token_in_a_article \n",
        "result1000_vocab['max_token_in_a_article'] = max_token_in_a_article \n",
        "new_col = ['RNN with filtered vocab that deleting the most frequent words']   \n",
        "result1000_vocab.insert(loc=0, column='Model', value=new_col)\n",
        "#result1000_vocab"
      ],
      "metadata": {
        "id": "TANVXna9yRVb"
      },
      "execution_count": null,
      "outputs": []
    },
    {
      "cell_type": "code",
      "source": [
        "assignment_result_table = assignment_result_table.append(result1000_vocab, ignore_index = True)\n",
        "assignment_result_table"
      ],
      "metadata": {
        "id": "-CYHWkF_yXpK"
      },
      "execution_count": null,
      "outputs": []
    },
    {
      "cell_type": "markdown",
      "source": [
        "## Experiment A c\n",
        "(c) Output sequence length: Use the default VERSUS set it to a fixed number"
      ],
      "metadata": {
        "id": "mvNHiJVk8-2h"
      }
    },
    {
      "cell_type": "markdown",
      "source": [
        "### Output sequence length"
      ],
      "metadata": {
        "id": "ZiMD1a2n9WIo"
      }
    },
    {
      "cell_type": "code",
      "source": [
        "def get_encoder_with_seq_length(VOCAB_SIZE, SEQ_LENGTH):\n",
        "  encoder = tf.keras.layers.experimental.preprocessing.TextVectorization(max_tokens=VOCAB_SIZE, output_sequence_length=SEQ_LENGTH)\n",
        "  encoder.adapt(train_dataset.map(lambda text, label: text))\n",
        "  return encoder"
      ],
      "metadata": {
        "id": "P2uV8KAw9K_m"
      },
      "execution_count": null,
      "outputs": []
    },
    {
      "cell_type": "code",
      "source": [
        "VOCAB_SIZE = 1000\n",
        "EPOCH_SIZE = 200\n",
        "SEQ_LENGTH = 50 \n",
        "encoder1000_50 = get_encoder_with_seq_length(VOCAB_SIZE, SEQ_LENGTH)"
      ],
      "metadata": {
        "id": "u2B4edun-gFB"
      },
      "execution_count": null,
      "outputs": []
    },
    {
      "cell_type": "code",
      "source": [
        "corpus1000_50, doc_sizes1000_50 = explore_vocab(train_dataset,encoder1000_50)"
      ],
      "metadata": {
        "id": "QujSio0h_DpE"
      },
      "execution_count": null,
      "outputs": []
    },
    {
      "cell_type": "code",
      "source": [
        "vocab1000_50 = np.array(encoder1000_50.get_vocabulary())\n",
        "num_vocab_words_in_corpus =len(vocab1000_50)\n",
        "\n",
        "num_words =len(corpus1000_50)\n",
        "num_articles =len(doc_sizes1000_50)\n",
        "min_token_in_a_article = min(doc_sizes1000_50)\n",
        "max_token_in_a_article = max(doc_sizes1000_50)  \n",
        "\n",
        "print(num_vocab_words_in_corpus)\n",
        "print(num_words)\n",
        "print(num_articles)\n",
        "print(min_token_in_a_article)\n",
        "print(max_token_in_a_article)\n",
        "\n",
        "\"\"\"\n",
        "plt.figure(figsize=(15,9))\n",
        "plt.hist(doc_sizes1000_50, bins=20,range = (0,120))\n",
        "plt.xlabel(\"Tokens Per Document\")\n",
        "plt.ylabel(\"Number of AG News Articles\")\n",
        "\"\"\""
      ],
      "metadata": {
        "id": "qSXBZ1iF_JQs"
      },
      "execution_count": null,
      "outputs": []
    },
    {
      "cell_type": "code",
      "source": [
        "RNN1000_50 = creat_model(encoder1000_50)\n",
        "result1000_50 = compile_train_model(RNN1000_50, 200)"
      ],
      "metadata": {
        "id": "-WePjs9wAsS6"
      },
      "execution_count": null,
      "outputs": []
    },
    {
      "cell_type": "code",
      "source": [
        "result1000_50['vocab_size'] = VOCAB_SIZE \n",
        "result1000_50['num_words'] = num_words \n",
        "result1000_50['num_articles'] = num_articles\n",
        "result1000_50['min_token_in_a_article'] = min_token_in_a_article \n",
        "result1000_50['max_token_in_a_article'] = max_token_in_a_article \n",
        "new_col = ['RNN with 1000 vocab size 50 output sequence length']   \n",
        "result1000_50.insert(loc=0, column='Model', value=new_col)\n",
        "#result1000_50"
      ],
      "metadata": {
        "id": "39O-eWVcAv68"
      },
      "execution_count": null,
      "outputs": []
    },
    {
      "cell_type": "code",
      "source": [
        "assignment_result_table = assignment_result_table.append(result1000_50, ignore_index = True)\n",
        "assignment_result_table"
      ],
      "metadata": {
        "id": "ggfq1HyaAy-2"
      },
      "execution_count": null,
      "outputs": []
    },
    {
      "cell_type": "markdown",
      "source": [
        "## Save data"
      ],
      "metadata": {
        "id": "UeZjVGEg5_2K"
      }
    },
    {
      "cell_type": "code",
      "source": [
        "assignment_result_table.to_pickle(\"resultsAa.pkl\") \n",
        "assignment_result_table.to_csv(\"resultsAa.csv\") "
      ],
      "metadata": {
        "id": "NamBFDFZ59Fm"
      },
      "execution_count": null,
      "outputs": []
    },
    {
      "cell_type": "code",
      "source": [
        "#prev_results_df = pd.read_pickle('resultsAa.pkl')\n",
        "#assignment_result_table = prev_results_df.append(assignment_result_table,ignore_index=True)\n",
        "#assignment_result_table"
      ],
      "metadata": {
        "id": "91BlRjfM58PA"
      },
      "execution_count": null,
      "outputs": []
    }
  ]
}