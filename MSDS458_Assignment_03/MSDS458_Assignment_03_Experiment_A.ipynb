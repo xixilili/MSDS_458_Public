{
  "nbformat": 4,
  "nbformat_minor": 0,
  "metadata": {
    "colab": {
      "name": "MSDS458_Assignment_03_ExperimentA.ipynb",
      "provenance": [],
      "mount_file_id": "https://github.com/xixilili/MSDS_458_Public/blob/master/MSDS458_Assignment_03/MSDS458_Assignment_03_Experiment_A.ipynb",
      "authorship_tag": "ABX9TyN82rBmbWLzmvXtMPhoNbGi",
      "include_colab_link": true
    },
    "kernelspec": {
      "name": "python3",
      "display_name": "Python 3"
    },
    "language_info": {
      "name": "python"
    }
  },
  "cells": [
    {
      "cell_type": "markdown",
      "metadata": {
        "id": "view-in-github",
        "colab_type": "text"
      },
      "source": [
        "<a href=\"https://colab.research.google.com/github/xixilili/MSDS_458_Public/blob/master/MSDS458_Assignment_03/MSDS458_Assignment_03_Experiment_A.ipynb\" target=\"_parent\"><img src=\"https://colab.research.google.com/assets/colab-badge.svg\" alt=\"Open In Colab\"/></a>"
      ]
    },
    {
      "cell_type": "markdown",
      "source": [
        "### Load Package"
      ],
      "metadata": {
        "id": "1aCwgEKag1yI"
      }
    },
    {
      "cell_type": "code",
      "source": [
        "from IPython.core.interactiveshell import InteractiveShell\n",
        "InteractiveShell.ast_node_interactivity = \"all\""
      ],
      "metadata": {
        "id": "r_VF1bTsisyU"
      },
      "execution_count": 12,
      "outputs": []
    },
    {
      "cell_type": "code",
      "source": [
        "import datetime\n",
        "from packaging import version\n",
        "from collections import Counter\n",
        "import numpy as np\n",
        "import pandas as pd\n",
        "import time\n",
        "\n",
        "import matplotlib.pyplot as plt\n",
        "import matplotlib as mpl\n",
        "import seaborn as sns\n",
        "\n",
        "from sklearn.metrics import confusion_matrix, classification_report\n",
        "from sklearn.preprocessing import StandardScaler\n",
        "from sklearn.decomposition import PCA\n",
        "from sklearn.manifold import TSNE\n",
        "from sklearn.ensemble import RandomForestClassifier\n",
        "from sklearn.metrics import mean_squared_error as MSE\n",
        "from sklearn.metrics import accuracy_score\n",
        "\n",
        "import tensorflow as tf\n",
        "from tensorflow import keras\n",
        "import tensorflow_datasets as tfds"
      ],
      "metadata": {
        "id": "RJqMG9yqg5BX"
      },
      "execution_count": 13,
      "outputs": []
    },
    {
      "cell_type": "markdown",
      "source": [
        "### Load and Process Data"
      ],
      "metadata": {
        "id": "4Nn84T_qePrI"
      }
    },
    {
      "cell_type": "code",
      "execution_count": 14,
      "metadata": {
        "colab": {
          "base_uri": "https://localhost:8080/"
        },
        "id": "Dyu_R81id9n4",
        "outputId": "4840e8f8-ee55-49a3-f4b2-08708ffdcc6c"
      },
      "outputs": [
        {
          "output_type": "stream",
          "name": "stdout",
          "text": [
            "2022-02-19 00:25:44.158029: E tensorflow/stream_executor/cuda/cuda_driver.cc:271] failed call to cuInit: CUDA_ERROR_NO_DEVICE: no CUDA-capable device is detected\n",
            "I0219 00:25:44.158329 140607014307712 download_and_prepare.py:200] Running download_and_prepare for dataset(s):\n",
            "ag_news_subset\n",
            "I0219 00:25:44.159623 140607014307712 dataset_info.py:361] Load dataset info from /root/tensorflow_datasets/ag_news_subset/1.0.0\n",
            "I0219 00:25:44.164968 140607014307712 download_and_prepare.py:138] download_and_prepare for dataset ag_news_subset/1.0.0...\n",
            "I0219 00:25:44.165245 140607014307712 dataset_builder.py:299] Reusing dataset ag_news_subset (/root/tensorflow_datasets/ag_news_subset/1.0.0)\n",
            "\u001b[1mname: \"ag_news_subset\"\n",
            "description: \"AG is a collection of more than 1 million news articles.\\nNews articles have been gathered from more than 2000  news sources by ComeToMyHead in more than 1 year of activity.\\nComeToMyHead is an academic news search engine which has been running since July, 2004.\\nThe dataset is provided by the academic comunity for research purposes in data mining (clustering, classification, etc),\\ninformation retrieval (ranking, search, etc), xml, data compression, data streaming,\\nand any other non-commercial activity.\\nFor more information, please refer to the link http://www.di.unipi.it/~gulli/AG_corpus_of_news_articles.html .\\n\\nThe AG\\'s news topic classification dataset is constructed by Xiang Zhang (xiang.zhang@nyu.edu) from the dataset above.\\nIt is used as a text classification benchmark in the following paper:\\nXiang Zhang, Junbo Zhao, Yann LeCun. Character-level Convolutional Networks for Text Classification. Advances in Neural Information Processing Systems 28 (NIPS 2015).\\n\\nThe AG\\'s news topic classification dataset is constructed by choosing 4 largest classes from the original corpus.\\nEach class contains 30,000 training samples and 1,900 testing samples.\\nThe total number of training samples is 120,000 and testing 7,600.\"\n",
            "citation: \"@misc{zhang2015characterlevel,\\n    title={Character-level Convolutional Networks for Text Classification},\\n    author={Xiang Zhang and Junbo Zhao and Yann LeCun},\\n    year={2015},\\n    eprint={1509.01626},\\n    archivePrefix={arXiv},\\n    primaryClass={cs.LG}\\n}\"\n",
            "location {\n",
            "  urls: \"https://arxiv.org/abs/1509.01626\"\n",
            "}\n",
            "splits {\n",
            "  name: \"test\"\n",
            "  shard_lengths: 7600\n",
            "  num_bytes: 2226751\n",
            "}\n",
            "splits {\n",
            "  name: \"train\"\n",
            "  shard_lengths: 120000\n",
            "  num_bytes: 35301386\n",
            "}\n",
            "supervised_keys {\n",
            "  input: \"description\"\n",
            "  output: \"label\"\n",
            "}\n",
            "version: \"1.0.0\"\n",
            "download_size: 11784327\n",
            "\u001b[0m\n"
          ]
        }
      ],
      "source": [
        "# register  ag_news_subset so that tfds.load doesn't generate a checksum (mismatch) error\n",
        "!python -m tensorflow_datasets.scripts.download_and_prepare --register_checksums --datasets=ag_news_subset\n",
        "\n",
        "# Example Approaches to Split Data Set\n",
        "# dataset, info = tfds.load('ag_news_subset', with_info=True,  split=['train[:]','test[:1000]', 'test[1000:]'],\n",
        "dataset, info = tfds.load('ag_news_subset', with_info=True,  split=['train[:95%]','train[95%:]', 'test[:]'],\n",
        "# dataset, info = tfds.load('ag_news_subset', with_info=True,  split=['train[:114000]','train[114000:]', 'test[:]'],\n",
        "                          as_supervised=True)\n",
        "train_dataset, validation_dataset, test_dataset = dataset\n",
        "# train_dataset, test_dataset = dataset['train'],dataset['test']"
      ]
    },
    {
      "cell_type": "code",
      "source": [
        "BUFFER_SIZE = 10000\n",
        "BATCH_SIZE = 64"
      ],
      "metadata": {
        "id": "jGZlYD3R1rag"
      },
      "execution_count": 15,
      "outputs": []
    },
    {
      "cell_type": "code",
      "source": [
        "train_dataset = train_dataset.shuffle(BUFFER_SIZE).batch(BATCH_SIZE).prefetch(tf.data.experimental.AUTOTUNE)\n",
        "validation_dataset = validation_dataset.shuffle(BUFFER_SIZE).batch(BATCH_SIZE).prefetch(tf.data.experimental.AUTOTUNE)\n",
        "test_dataset = test_dataset.batch(BATCH_SIZE).prefetch(tf.data.experimental.AUTOTUNE)"
      ],
      "metadata": {
        "id": "B6HRSW6d1qku"
      },
      "execution_count": 16,
      "outputs": []
    },
    {
      "cell_type": "markdown",
      "source": [
        "### Encoder"
      ],
      "metadata": {
        "id": "kqyQvZUFeUAh"
      }
    },
    {
      "cell_type": "code",
      "source": [
        "def get_encoder(VOCAB_SIZE):\n",
        "  encoder = tf.keras.layers.experimental.preprocessing.TextVectorization(max_tokens=VOCAB_SIZE)\n",
        "  encoder.adapt(train_dataset.map(lambda text, label: text))\n",
        "  return encoder"
      ],
      "metadata": {
        "id": "A-Bsb3k3eMLA"
      },
      "execution_count": 17,
      "outputs": []
    },
    {
      "cell_type": "markdown",
      "source": [
        "### Create Model"
      ],
      "metadata": {
        "id": "shH2_ALqeTgM"
      }
    },
    {
      "cell_type": "code",
      "source": [
        "def creat_model(encoder):\n",
        "  model = tf.keras.Sequential([\n",
        "                              encoder\n",
        "                              ,tf.keras.layers.Embedding(input_dim=len(encoder.get_vocabulary())\n",
        "                              ,output_dim=64\n",
        "                                # Use masking to handle the variable sequence lengths\n",
        "                              ,mask_zero=True)\n",
        "                              ,tf.keras.layers.Bidirectional(tf.keras.layers.LSTM(64))\n",
        "                              ,tf.keras.layers.Dense(64, activation='relu')\n",
        "                              ,tf.keras.layers.Dense(4,activation='softmax')   # num_classes = 4\n",
        "  ])\n",
        "  return model"
      ],
      "metadata": {
        "id": "vEoPYv-Wenik"
      },
      "execution_count": 18,
      "outputs": []
    },
    {
      "cell_type": "markdown",
      "source": [
        "### Compile, Train Model"
      ],
      "metadata": {
        "id": "ogNw-Hdge25x"
      }
    },
    {
      "cell_type": "code",
      "source": [
        "def namestr(obj, namespace):\n",
        "  for name in namespace:\n",
        "    if namespace[name] is obj:\n",
        "      return name"
      ],
      "metadata": {
        "id": "MTnJI_UEuXsl"
      },
      "execution_count": 19,
      "outputs": []
    },
    {
      "cell_type": "code",
      "source": [
        "import datetime as dt\n",
        "\n",
        "def compile_train_model(model, epoch):\n",
        "  #compile model\n",
        "  model.compile(optimizer=tf.keras.optimizers.Adam(1e-4)\n",
        "              ,loss=tf.keras.losses.SparseCategoricalCrossentropy() # if we set from_logits=True we don not have specify a softmax activation function in the last layer\n",
        "              ,metrics=['accuracy'])\n",
        "\n",
        "  start_datetime = dt.datetime.now()\n",
        "\n",
        "  #train model  \n",
        "  history = model.fit(train_dataset\n",
        "                    ,epochs = epoch\n",
        "                    ,validation_data=validation_dataset\n",
        "                    ,callbacks=[tf.keras.callbacks.EarlyStopping(monitor='val_accuracy', patience=2)]\n",
        "                    )\n",
        "\n",
        "\n",
        "  #evaluate model\n",
        "  loss, accuracy = model.evaluate(test_dataset)\n",
        "  print('test set accuracy: ', accuracy * 100)\n",
        "\n",
        "  runtime = (dt.datetime.now() - start_datetime).total_seconds()\n",
        "\n",
        "  #training and validation performance metrix\n",
        "  history_dict = history.history\n",
        "  history_df=pd.DataFrame(history_dict)\n",
        "\n",
        "  #loss and accuracy for training and validation data\n",
        "  losses = history.history['loss']\n",
        "  accs = history.history['accuracy']\n",
        "  val_losses = history.history['val_loss']\n",
        "  val_accs = history.history['val_accuracy']\n",
        "  epochs = len(losses)\n",
        "\n",
        "  result = history_df.tail(1)\n",
        "  result['test_loss'] = loss\n",
        "  result['test_accuracy'] = accuracy\n",
        "  result['process_time'] = runtime\n",
        "  result['epochs_setting'] = epoch  \n",
        "  result['epochs_actual'] = epochs    \n",
        "\n",
        "  plt.figure(figsize=(16, 4))\n",
        "  for i, metrics in enumerate(zip([losses, accs], [val_losses, val_accs], ['Loss', 'Accuracy'])):\n",
        "      plt.subplot(1, 2, i + 1)\n",
        "      plt.plot(range(epochs), metrics[0], label='Training {}'.format(metrics[2]))\n",
        "      plt.plot(range(epochs), metrics[1], label='Validation {}'.format(metrics[2]))\n",
        "      plt.legend()\n",
        "      plt.title('{0} with {1} epochs'.format(namestr(model, globals()), epoch))   \n",
        "  plt.show()  \n",
        "\n",
        "  return result"
      ],
      "metadata": {
        "id": "YmShiKBnfZGW"
      },
      "execution_count": 20,
      "outputs": []
    },
    {
      "cell_type": "markdown",
      "source": [
        "### Explore Vocab"
      ],
      "metadata": {
        "id": "nRU1LsKDuhXr"
      }
    },
    {
      "cell_type": "code",
      "source": [
        "def explore_vocab(train_dataset,encoder):\n",
        "  doc_sizes = []\n",
        "  corpus = []\n",
        "  for example, _ in train_dataset.as_numpy_iterator():\n",
        "    enc_example = encoder(example)\n",
        "    doc_sizes.append(len(enc_example))\n",
        "    corpus+=list(enc_example.numpy())\n",
        "  return  corpus, doc_sizes"
      ],
      "metadata": {
        "id": "SyebLb6Qo5ja"
      },
      "execution_count": 21,
      "outputs": []
    },
    {
      "cell_type": "markdown",
      "source": [
        "## Experiment A a\n",
        "(a) Vocabulary Size: Tweak the vocabulary size, at least 3 levels, eg. vocab size of 1000, 2000, 3000. This way, we can get insights whether the performance metric is non linearly related to the vocab size."
      ],
      "metadata": {
        "id": "v7Bm_fDthKnG"
      }
    },
    {
      "cell_type": "markdown",
      "source": [
        "### Vocab 1000"
      ],
      "metadata": {
        "id": "IrnBPmCj2dtT"
      }
    },
    {
      "cell_type": "code",
      "source": [
        "len(train_dataset),len(validation_dataset),len(test_dataset) "
      ],
      "metadata": {
        "id": "kZ1gM_wOWoum",
        "outputId": "253295fd-be40-4247-c0c7-ce232e340012",
        "colab": {
          "base_uri": "https://localhost:8080/"
        }
      },
      "execution_count": 28,
      "outputs": [
        {
          "output_type": "execute_result",
          "data": {
            "text/plain": [
              "(1782, 94, 119)"
            ]
          },
          "metadata": {},
          "execution_count": 28
        }
      ]
    },
    {
      "cell_type": "code",
      "source": [
        "#for example, label in train_dataset.take(1):\n",
        "#  print('text: ', example.numpy())"
      ],
      "metadata": {
        "id": "uM28bqeeY2IL"
      },
      "execution_count": 29,
      "outputs": []
    },
    {
      "cell_type": "code",
      "source": [
        "VOCAB_SIZE = 1000\n",
        "EPOCH_SIZE = 200\n",
        "encoder1000 = get_encoder(VOCAB_SIZE)"
      ],
      "metadata": {
        "id": "hkBui_ADhQ1F"
      },
      "execution_count": 30,
      "outputs": []
    },
    {
      "cell_type": "code",
      "source": [
        "corpus1000, doc_sizes1000 = explore_vocab(train_dataset,encoder1000)"
      ],
      "metadata": {
        "id": "KxtNKiq2pm7J"
      },
      "execution_count": 31,
      "outputs": []
    },
    {
      "cell_type": "code",
      "source": [
        "\n",
        "vocab1000 = np.array(encoder1000.get_vocabulary())\n",
        "num_vocab_words_in_corpus =len(vocab1000)\n",
        "\n",
        "num_words =len(corpus1000)\n",
        "num_articles =len(doc_sizes1000)\n",
        "min_token_in_a_article = min(doc_sizes1000)\n",
        "max_token_in_a_article = max(doc_sizes1000)  \n",
        "\n",
        "print(num_vocab_words_in_corpus)\n",
        "print(num_words)\n",
        "print(num_articles)\n",
        "print(min_token_in_a_article)\n",
        "print(max_token_in_a_article)\n",
        "\n",
        "\"\"\"\n",
        "plt.figure(figsize=(15,9))\n",
        "plt.hist(doc_sizes1000, bins=20,range = (0,120))\n",
        "plt.xlabel(\"Tokens Per Document\")\n",
        "plt.ylabel(\"Number of AG News Articles\")\n",
        "\"\"\""
      ],
      "metadata": {
        "colab": {
          "base_uri": "https://localhost:8080/",
          "height": 140
        },
        "id": "ttHkXBZ0oO7C",
        "outputId": "204c6446-acbe-41f2-d747-dda099274e12"
      },
      "execution_count": 32,
      "outputs": [
        {
          "output_type": "stream",
          "name": "stdout",
          "text": [
            "1000\n",
            "114000\n",
            "1782\n",
            "16\n",
            "64\n"
          ]
        },
        {
          "output_type": "execute_result",
          "data": {
            "application/vnd.google.colaboratory.intrinsic+json": {
              "type": "string"
            },
            "text/plain": [
              "'\\nplt.figure(figsize=(15,9))\\nplt.hist(doc_sizes1000, bins=20,range = (0,120))\\nplt.xlabel(\"Tokens Per Document\")\\nplt.ylabel(\"Number of AG News Articles\")\\n'"
            ]
          },
          "metadata": {},
          "execution_count": 32
        }
      ]
    },
    {
      "cell_type": "code",
      "source": [
        "RNN1000 = creat_model(encoder1000)\n",
        "result1000 = compile_train_model(RNN1000, 200)"
      ],
      "metadata": {
        "colab": {
          "base_uri": "https://localhost:8080/",
          "height": 1000
        },
        "id": "CxAGGboviGqu",
        "outputId": "e5b8fa01-f19b-4434-c9cf-ce7b891bc47c"
      },
      "execution_count": 33,
      "outputs": [
        {
          "output_type": "stream",
          "name": "stdout",
          "text": [
            "Epoch 1/200\n",
            "1782/1782 [==============================] - 278s 151ms/step - loss: 0.8231 - accuracy: 0.6616 - val_loss: 0.5773 - val_accuracy: 0.7858\n",
            "Epoch 2/200\n",
            "1782/1782 [==============================] - 261s 146ms/step - loss: 0.4886 - accuracy: 0.8244 - val_loss: 0.4285 - val_accuracy: 0.8505\n",
            "Epoch 3/200\n",
            "1782/1782 [==============================] - 261s 146ms/step - loss: 0.4189 - accuracy: 0.8505 - val_loss: 0.4051 - val_accuracy: 0.8595\n",
            "Epoch 4/200\n",
            "1782/1782 [==============================] - 270s 151ms/step - loss: 0.4006 - accuracy: 0.8560 - val_loss: 0.3950 - val_accuracy: 0.8615\n",
            "Epoch 5/200\n",
            "1782/1782 [==============================] - 261s 146ms/step - loss: 0.3906 - accuracy: 0.8598 - val_loss: 0.3937 - val_accuracy: 0.8617\n",
            "Epoch 6/200\n",
            "1782/1782 [==============================] - 262s 147ms/step - loss: 0.3851 - accuracy: 0.8610 - val_loss: 0.3895 - val_accuracy: 0.8635\n",
            "Epoch 7/200\n",
            "1782/1782 [==============================] - 260s 146ms/step - loss: 0.3805 - accuracy: 0.8623 - val_loss: 0.3872 - val_accuracy: 0.8617\n",
            "Epoch 8/200\n",
            "1782/1782 [==============================] - 261s 146ms/step - loss: 0.3772 - accuracy: 0.8636 - val_loss: 0.3882 - val_accuracy: 0.8623\n",
            "119/119 [==============================] - 5s 40ms/step - loss: 0.4000 - accuracy: 0.8537\n",
            "test set accuracy:  85.36841869354248\n"
          ]
        },
        {
          "output_type": "stream",
          "name": "stderr",
          "text": [
            "/usr/local/lib/python3.7/dist-packages/ipykernel_launcher.py:37: SettingWithCopyWarning: \n",
            "A value is trying to be set on a copy of a slice from a DataFrame.\n",
            "Try using .loc[row_indexer,col_indexer] = value instead\n",
            "\n",
            "See the caveats in the documentation: https://pandas.pydata.org/pandas-docs/stable/user_guide/indexing.html#returning-a-view-versus-a-copy\n",
            "/usr/local/lib/python3.7/dist-packages/ipykernel_launcher.py:38: SettingWithCopyWarning: \n",
            "A value is trying to be set on a copy of a slice from a DataFrame.\n",
            "Try using .loc[row_indexer,col_indexer] = value instead\n",
            "\n",
            "See the caveats in the documentation: https://pandas.pydata.org/pandas-docs/stable/user_guide/indexing.html#returning-a-view-versus-a-copy\n",
            "/usr/local/lib/python3.7/dist-packages/ipykernel_launcher.py:39: SettingWithCopyWarning: \n",
            "A value is trying to be set on a copy of a slice from a DataFrame.\n",
            "Try using .loc[row_indexer,col_indexer] = value instead\n",
            "\n",
            "See the caveats in the documentation: https://pandas.pydata.org/pandas-docs/stable/user_guide/indexing.html#returning-a-view-versus-a-copy\n",
            "/usr/local/lib/python3.7/dist-packages/ipykernel_launcher.py:40: SettingWithCopyWarning: \n",
            "A value is trying to be set on a copy of a slice from a DataFrame.\n",
            "Try using .loc[row_indexer,col_indexer] = value instead\n",
            "\n",
            "See the caveats in the documentation: https://pandas.pydata.org/pandas-docs/stable/user_guide/indexing.html#returning-a-view-versus-a-copy\n",
            "/usr/local/lib/python3.7/dist-packages/ipykernel_launcher.py:41: SettingWithCopyWarning: \n",
            "A value is trying to be set on a copy of a slice from a DataFrame.\n",
            "Try using .loc[row_indexer,col_indexer] = value instead\n",
            "\n",
            "See the caveats in the documentation: https://pandas.pydata.org/pandas-docs/stable/user_guide/indexing.html#returning-a-view-versus-a-copy\n"
          ]
        },
        {
          "output_type": "display_data",
          "data": {
            "image/png": "[encoded data removed]",
            "text/plain": [
              "<Figure size 1152x288 with 2 Axes>"
            ]
          },
          "metadata": {
            "needs_background": "light"
          }
        }
      ]
    },
    {
      "cell_type": "code",
      "source": [
        "result1000['vocab_size'] = VOCAB_SIZE \n",
        "result1000['num_words'] = num_words \n",
        "result1000['num_articles'] = num_articles\n",
        "result1000['min_token_in_a_article'] = min_token_in_a_article \n",
        "result1000['max_token_in_a_article'] = max_token_in_a_article "
      ],
      "metadata": {
        "id": "csZM1XnyoP-k"
      },
      "execution_count": 34,
      "outputs": []
    },
    {
      "cell_type": "code",
      "source": [
        "assignment_result_table = result1000\n",
        "new_col = ['RNN with 1000 vocab size']   \n",
        "assignment_result_table.insert(loc=0, column='Model', value=new_col)\n",
        "assignment_result_table"
      ],
      "metadata": {
        "colab": {
          "base_uri": "https://localhost:8080/",
          "height": 214
        },
        "id": "UFGVytCA3ZYO",
        "outputId": "aba918a0-7f17-4c66-b0dc-46fb6cb136f1"
      },
      "execution_count": 35,
      "outputs": [
        {
          "output_type": "execute_result",
          "data": {
            "text/html": [
              "\n",
              "  <div id=\"df-0c3044ad-5c27-4404-a301-3f021a205214\">\n",
              "    <div class=\"colab-df-container\">\n",
              "      <div>\n",
              "<style scoped>\n",
              "    .dataframe tbody tr th:only-of-type {\n",
              "        vertical-align: middle;\n",
              "    }\n",
              "\n",
              "    .dataframe tbody tr th {\n",
              "        vertical-align: top;\n",
              "    }\n",
              "\n",
              "    .dataframe thead th {\n",
              "        text-align: right;\n",
              "    }\n",
              "</style>\n",
              "<table border=\"1\" class=\"dataframe\">\n",
              "  <thead>\n",
              "    <tr style=\"text-align: right;\">\n",
              "      <th></th>\n",
              "      <th>Model</th>\n",
              "      <th>loss</th>\n",
              "      <th>accuracy</th>\n",
              "      <th>val_loss</th>\n",
              "      <th>val_accuracy</th>\n",
              "      <th>test_loss</th>\n",
              "      <th>test_accuracy</th>\n",
              "      <th>process_time</th>\n",
              "      <th>epochs_setting</th>\n",
              "      <th>epochs_actual</th>\n",
              "      <th>vocab_size</th>\n",
              "      <th>num_words</th>\n",
              "      <th>num_articles</th>\n",
              "      <th>min_token_in_a_article</th>\n",
              "      <th>max_token_in_a_article</th>\n",
              "    </tr>\n",
              "  </thead>\n",
              "  <tbody>\n",
              "    <tr>\n",
              "      <th>7</th>\n",
              "      <td>RNN with 1000 vocab size</td>\n",
              "      <td>0.377154</td>\n",
              "      <td>0.863553</td>\n",
              "      <td>0.388227</td>\n",
              "      <td>0.862333</td>\n",
              "      <td>0.400026</td>\n",
              "      <td>0.853684</td>\n",
              "      <td>2233.75678</td>\n",
              "      <td>200</td>\n",
              "      <td>8</td>\n",
              "      <td>1000</td>\n",
              "      <td>114000</td>\n",
              "      <td>1782</td>\n",
              "      <td>16</td>\n",
              "      <td>64</td>\n",
              "    </tr>\n",
              "  </tbody>\n",
              "</table>\n",
              "</div>\n",
              "      <button class=\"colab-df-convert\" onclick=\"convertToInteractive('df-0c3044ad-5c27-4404-a301-3f021a205214')\"\n",
              "              title=\"Convert this dataframe to an interactive table.\"\n",
              "              style=\"display:none;\">\n",
              "        \n",
              "  <svg xmlns=\"http://www.w3.org/2000/svg\" height=\"24px\"viewBox=\"0 0 24 24\"\n",
              "       width=\"24px\">\n",
              "    <path d=\"M0 0h24v24H0V0z\" fill=\"none\"/>\n",
              "    <path d=\"M18.56 5.44l.94 2.06.94-2.06 2.06-.94-2.06-.94-.94-2.06-.94 2.06-2.06.94zm-11 1L8.5 8.5l.94-2.06 2.06-.94-2.06-.94L8.5 2.5l-.94 2.06-2.06.94zm10 10l.94 2.06.94-2.06 2.06-.94-2.06-.94-.94-2.06-.94 2.06-2.06.94z\"/><path d=\"M17.41 7.96l-1.37-1.37c-.4-.4-.92-.59-1.43-.59-.52 0-1.04.2-1.43.59L10.3 9.45l-7.72 7.72c-.78.78-.78 2.05 0 2.83L4 21.41c.39.39.9.59 1.41.59.51 0 1.02-.2 1.41-.59l7.78-7.78 2.81-2.81c.8-.78.8-2.07 0-2.86zM5.41 20L4 18.59l7.72-7.72 1.47 1.35L5.41 20z\"/>\n",
              "  </svg>\n",
              "      </button>\n",
              "      \n",
              "  <style>\n",
              "    .colab-df-container {\n",
              "      display:flex;\n",
              "      flex-wrap:wrap;\n",
              "      gap: 12px;\n",
              "    }\n",
              "\n",
              "    .colab-df-convert {\n",
              "      background-color: #E8F0FE;\n",
              "      border: none;\n",
              "      border-radius: 50%;\n",
              "      cursor: pointer;\n",
              "      display: none;\n",
              "      fill: #1967D2;\n",
              "      height: 32px;\n",
              "      padding: 0 0 0 0;\n",
              "      width: 32px;\n",
              "    }\n",
              "\n",
              "    .colab-df-convert:hover {\n",
              "      background-color: #E2EBFA;\n",
              "      box-shadow: 0px 1px 2px rgba(60, 64, 67, 0.3), 0px 1px 3px 1px rgba(60, 64, 67, 0.15);\n",
              "      fill: #174EA6;\n",
              "    }\n",
              "\n",
              "    [theme=dark] .colab-df-convert {\n",
              "      background-color: #3B4455;\n",
              "      fill: #D2E3FC;\n",
              "    }\n",
              "\n",
              "    [theme=dark] .colab-df-convert:hover {\n",
              "      background-color: #434B5C;\n",
              "      box-shadow: 0px 1px 3px 1px rgba(0, 0, 0, 0.15);\n",
              "      filter: drop-shadow(0px 1px 2px rgba(0, 0, 0, 0.3));\n",
              "      fill: #FFFFFF;\n",
              "    }\n",
              "  </style>\n",
              "\n",
              "      <script>\n",
              "        const buttonEl =\n",
              "          document.querySelector('#df-0c3044ad-5c27-4404-a301-3f021a205214 button.colab-df-convert');\n",
              "        buttonEl.style.display =\n",
              "          google.colab.kernel.accessAllowed ? 'block' : 'none';\n",
              "\n",
              "        async function convertToInteractive(key) {\n",
              "          const element = document.querySelector('#df-0c3044ad-5c27-4404-a301-3f021a205214');\n",
              "          const dataTable =\n",
              "            await google.colab.kernel.invokeFunction('convertToInteractive',\n",
              "                                                     [key], {});\n",
              "          if (!dataTable) return;\n",
              "\n",
              "          const docLinkHtml = 'Like what you see? Visit the ' +\n",
              "            '<a target=\"_blank\" href=https://colab.research.google.com/notebooks/data_table.ipynb>data table notebook</a>'\n",
              "            + ' to learn more about interactive tables.';\n",
              "          element.innerHTML = '';\n",
              "          dataTable['output_type'] = 'display_data';\n",
              "          await google.colab.output.renderOutput(dataTable, element);\n",
              "          const docLink = document.createElement('div');\n",
              "          docLink.innerHTML = docLinkHtml;\n",
              "          element.appendChild(docLink);\n",
              "        }\n",
              "      </script>\n",
              "    </div>\n",
              "  </div>\n",
              "  "
            ],
            "text/plain": [
              "                      Model  ...  max_token_in_a_article\n",
              "7  RNN with 1000 vocab size  ...                      64\n",
              "\n",
              "[1 rows x 15 columns]"
            ]
          },
          "metadata": {},
          "execution_count": 35
        }
      ]
    },
    {
      "cell_type": "markdown",
      "source": [
        "### Vocab 2000"
      ],
      "metadata": {
        "id": "U1hD3wrA2ibc"
      }
    },
    {
      "cell_type": "code",
      "source": [
        "VOCAB_SIZE = 2000\n",
        "EPOCH_SIZE = 200\n",
        "encoder2000 = get_encoder(VOCAB_SIZE)"
      ],
      "metadata": {
        "id": "bqzQUUu42keW"
      },
      "execution_count": 22,
      "outputs": []
    },
    {
      "cell_type": "code",
      "source": [
        "corpus2000, doc_sizes2000 = explore_vocab(train_dataset,encoder2000)"
      ],
      "metadata": {
        "id": "RJu3uXcT2q6R"
      },
      "execution_count": 23,
      "outputs": []
    },
    {
      "cell_type": "code",
      "source": [
        "vocab2000 = np.array(encoder2000.get_vocabulary())\n",
        "num_vocab_words_in_corpus =len(vocab2000)\n",
        "\n",
        "num_words =len(corpus2000)\n",
        "num_articles =len(doc_sizes2000)\n",
        "min_token_in_a_article = min(doc_sizes2000)\n",
        "max_token_in_a_article = max(doc_sizes2000)  \n",
        "\n",
        "print(num_vocab_words_in_corpus)\n",
        "print(num_words)\n",
        "print(num_articles)\n",
        "print(min_token_in_a_article)\n",
        "print(max_token_in_a_article)\n",
        "\n",
        "\"\"\"\n",
        "plt.figure(figsize=(15,9))\n",
        "plt.hist(doc_sizes2000, bins=20,range = (0,120))\n",
        "plt.xlabel(\"Tokens Per Document\")\n",
        "plt.ylabel(\"Number of AG News Articles\");\n",
        "\"\"\""
      ],
      "metadata": {
        "colab": {
          "base_uri": "https://localhost:8080/",
          "height": 140
        },
        "id": "gMMPUM3I21ol",
        "outputId": "7029ce81-d76e-4e31-e177-761db05f55b3"
      },
      "execution_count": 24,
      "outputs": [
        {
          "output_type": "stream",
          "name": "stdout",
          "text": [
            "2000\n",
            "114000\n",
            "1782\n",
            "16\n",
            "64\n"
          ]
        },
        {
          "output_type": "execute_result",
          "data": {
            "application/vnd.google.colaboratory.intrinsic+json": {
              "type": "string"
            },
            "text/plain": [
              "'\\nplt.figure(figsize=(15,9))\\nplt.hist(doc_sizes2000, bins=20,range = (0,120))\\nplt.xlabel(\"Tokens Per Document\")\\nplt.ylabel(\"Number of AG News Articles\");\\n'"
            ]
          },
          "metadata": {},
          "execution_count": 24
        }
      ]
    },
    {
      "cell_type": "code",
      "source": [
        "RNN2000 = creat_model(encoder2000)\n",
        "result2000 = compile_train_model(RNN2000, 200)"
      ],
      "metadata": {
        "colab": {
          "base_uri": "https://localhost:8080/",
          "height": 1000
        },
        "id": "pz6JuXTA3DpS",
        "outputId": "863deccb-13a4-4b50-af0a-9c4e6775ea8b"
      },
      "execution_count": 25,
      "outputs": [
        {
          "output_type": "stream",
          "name": "stdout",
          "text": [
            "Epoch 1/200\n",
            "1782/1782 [==============================] - 273s 148ms/step - loss: 0.6885 - accuracy: 0.7366 - val_loss: 0.4309 - val_accuracy: 0.8547\n",
            "Epoch 2/200\n",
            "1782/1782 [==============================] - 261s 146ms/step - loss: 0.4052 - accuracy: 0.8592 - val_loss: 0.3928 - val_accuracy: 0.8678\n",
            "Epoch 3/200\n",
            "1782/1782 [==============================] - 260s 146ms/step - loss: 0.3753 - accuracy: 0.8699 - val_loss: 0.3818 - val_accuracy: 0.8687\n",
            "Epoch 4/200\n",
            "1782/1782 [==============================] - 259s 145ms/step - loss: 0.3575 - accuracy: 0.8744 - val_loss: 0.3658 - val_accuracy: 0.8750\n",
            "Epoch 5/200\n",
            "1782/1782 [==============================] - 258s 145ms/step - loss: 0.3444 - accuracy: 0.8791 - val_loss: 0.3608 - val_accuracy: 0.8758\n",
            "Epoch 6/200\n",
            "1782/1782 [==============================] - 257s 144ms/step - loss: 0.3325 - accuracy: 0.8826 - val_loss: 0.3514 - val_accuracy: 0.8750\n",
            "Epoch 7/200\n",
            "1782/1782 [==============================] - 258s 145ms/step - loss: 0.3220 - accuracy: 0.8861 - val_loss: 0.3431 - val_accuracy: 0.8782\n",
            "Epoch 8/200\n",
            "1782/1782 [==============================] - 257s 144ms/step - loss: 0.3140 - accuracy: 0.8888 - val_loss: 0.3433 - val_accuracy: 0.8807\n",
            "Epoch 9/200\n",
            "1782/1782 [==============================] - 258s 144ms/step - loss: 0.3069 - accuracy: 0.8908 - val_loss: 0.3410 - val_accuracy: 0.8807\n",
            "Epoch 10/200\n",
            "1782/1782 [==============================] - 257s 144ms/step - loss: 0.3008 - accuracy: 0.8930 - val_loss: 0.3364 - val_accuracy: 0.8808\n",
            "Epoch 11/200\n",
            "1782/1782 [==============================] - 257s 144ms/step - loss: 0.2962 - accuracy: 0.8945 - val_loss: 0.3490 - val_accuracy: 0.8777\n",
            "Epoch 12/200\n",
            "1782/1782 [==============================] - 257s 144ms/step - loss: 0.2910 - accuracy: 0.8964 - val_loss: 0.3510 - val_accuracy: 0.8740\n",
            "119/119 [==============================] - 5s 43ms/step - loss: 0.3557 - accuracy: 0.8721\n",
            "test set accuracy:  87.21052408218384\n"
          ]
        },
        {
          "output_type": "stream",
          "name": "stderr",
          "text": [
            "/usr/local/lib/python3.7/dist-packages/ipykernel_launcher.py:37: SettingWithCopyWarning: \n",
            "A value is trying to be set on a copy of a slice from a DataFrame.\n",
            "Try using .loc[row_indexer,col_indexer] = value instead\n",
            "\n",
            "See the caveats in the documentation: https://pandas.pydata.org/pandas-docs/stable/user_guide/indexing.html#returning-a-view-versus-a-copy\n",
            "/usr/local/lib/python3.7/dist-packages/ipykernel_launcher.py:38: SettingWithCopyWarning: \n",
            "A value is trying to be set on a copy of a slice from a DataFrame.\n",
            "Try using .loc[row_indexer,col_indexer] = value instead\n",
            "\n",
            "See the caveats in the documentation: https://pandas.pydata.org/pandas-docs/stable/user_guide/indexing.html#returning-a-view-versus-a-copy\n",
            "/usr/local/lib/python3.7/dist-packages/ipykernel_launcher.py:39: SettingWithCopyWarning: \n",
            "A value is trying to be set on a copy of a slice from a DataFrame.\n",
            "Try using .loc[row_indexer,col_indexer] = value instead\n",
            "\n",
            "See the caveats in the documentation: https://pandas.pydata.org/pandas-docs/stable/user_guide/indexing.html#returning-a-view-versus-a-copy\n",
            "/usr/local/lib/python3.7/dist-packages/ipykernel_launcher.py:40: SettingWithCopyWarning: \n",
            "A value is trying to be set on a copy of a slice from a DataFrame.\n",
            "Try using .loc[row_indexer,col_indexer] = value instead\n",
            "\n",
            "See the caveats in the documentation: https://pandas.pydata.org/pandas-docs/stable/user_guide/indexing.html#returning-a-view-versus-a-copy\n",
            "/usr/local/lib/python3.7/dist-packages/ipykernel_launcher.py:41: SettingWithCopyWarning: \n",
            "A value is trying to be set on a copy of a slice from a DataFrame.\n",
            "Try using .loc[row_indexer,col_indexer] = value instead\n",
            "\n",
            "See the caveats in the documentation: https://pandas.pydata.org/pandas-docs/stable/user_guide/indexing.html#returning-a-view-versus-a-copy\n"
          ]
        },
        {
          "output_type": "display_data",
          "data": {
            "image/png": "[encoded data removed]",
            "text/plain": [
              "<Figure size 1152x288 with 2 Axes>"
            ]
          },
          "metadata": {
            "needs_background": "light"
          }
        }
      ]
    },
    {
      "cell_type": "code",
      "source": [
        "result2000['vocab_size'] = VOCAB_SIZE \n",
        "result2000['num_words'] = num_words \n",
        "result2000['num_articles'] = num_articles\n",
        "result2000['min_token_in_a_article'] = min_token_in_a_article \n",
        "result2000['max_token_in_a_article'] = max_token_in_a_article \n",
        "new_col = ['RNN with 2000 vocab size']   \n",
        "result2000.insert(loc=0, column='Model', value=new_col)"
      ],
      "metadata": {
        "id": "h4CHwO8w4Hdc"
      },
      "execution_count": 26,
      "outputs": []
    },
    {
      "cell_type": "code",
      "source": [
        "#assignment_result_table = pd.read_pickle('resultsAa.pkl')"
      ],
      "metadata": {
        "id": "6rULGYI2XwMx"
      },
      "execution_count": 36,
      "outputs": []
    },
    {
      "cell_type": "code",
      "source": [
        "assignment_result_table = assignment_result_table.append(result2000, ignore_index = True)\n",
        "assignment_result_table"
      ],
      "metadata": {
        "id": "FLDko_bK4Jhu",
        "colab": {
          "base_uri": "https://localhost:8080/",
          "height": 314
        },
        "outputId": "a872543c-52c0-41e3-f953-a000f365bfac"
      },
      "execution_count": 37,
      "outputs": [
        {
          "output_type": "execute_result",
          "data": {
            "text/html": [
              "\n",
              "  <div id=\"df-f19c8452-8d5f-4eaf-9bac-622ebd4c6662\">\n",
              "    <div class=\"colab-df-container\">\n",
              "      <div>\n",
              "<style scoped>\n",
              "    .dataframe tbody tr th:only-of-type {\n",
              "        vertical-align: middle;\n",
              "    }\n",
              "\n",
              "    .dataframe tbody tr th {\n",
              "        vertical-align: top;\n",
              "    }\n",
              "\n",
              "    .dataframe thead th {\n",
              "        text-align: right;\n",
              "    }\n",
              "</style>\n",
              "<table border=\"1\" class=\"dataframe\">\n",
              "  <thead>\n",
              "    <tr style=\"text-align: right;\">\n",
              "      <th></th>\n",
              "      <th>Model</th>\n",
              "      <th>loss</th>\n",
              "      <th>accuracy</th>\n",
              "      <th>val_loss</th>\n",
              "      <th>val_accuracy</th>\n",
              "      <th>test_loss</th>\n",
              "      <th>test_accuracy</th>\n",
              "      <th>process_time</th>\n",
              "      <th>epochs_setting</th>\n",
              "      <th>epochs_actual</th>\n",
              "      <th>vocab_size</th>\n",
              "      <th>num_words</th>\n",
              "      <th>num_articles</th>\n",
              "      <th>min_token_in_a_article</th>\n",
              "      <th>max_token_in_a_article</th>\n",
              "    </tr>\n",
              "  </thead>\n",
              "  <tbody>\n",
              "    <tr>\n",
              "      <th>0</th>\n",
              "      <td>RNN with 1000 vocab size</td>\n",
              "      <td>0.377154</td>\n",
              "      <td>0.863553</td>\n",
              "      <td>0.388227</td>\n",
              "      <td>0.862333</td>\n",
              "      <td>0.400026</td>\n",
              "      <td>0.853684</td>\n",
              "      <td>2233.756780</td>\n",
              "      <td>200</td>\n",
              "      <td>8</td>\n",
              "      <td>1000</td>\n",
              "      <td>114000</td>\n",
              "      <td>1782</td>\n",
              "      <td>16</td>\n",
              "      <td>64</td>\n",
              "    </tr>\n",
              "    <tr>\n",
              "      <th>1</th>\n",
              "      <td>RNN with 2000 vocab size</td>\n",
              "      <td>0.291024</td>\n",
              "      <td>0.896395</td>\n",
              "      <td>0.350998</td>\n",
              "      <td>0.874000</td>\n",
              "      <td>0.355715</td>\n",
              "      <td>0.872105</td>\n",
              "      <td>3211.853945</td>\n",
              "      <td>200</td>\n",
              "      <td>12</td>\n",
              "      <td>2000</td>\n",
              "      <td>114000</td>\n",
              "      <td>1782</td>\n",
              "      <td>16</td>\n",
              "      <td>64</td>\n",
              "    </tr>\n",
              "  </tbody>\n",
              "</table>\n",
              "</div>\n",
              "      <button class=\"colab-df-convert\" onclick=\"convertToInteractive('df-f19c8452-8d5f-4eaf-9bac-622ebd4c6662')\"\n",
              "              title=\"Convert this dataframe to an interactive table.\"\n",
              "              style=\"display:none;\">\n",
              "        \n",
              "  <svg xmlns=\"http://www.w3.org/2000/svg\" height=\"24px\"viewBox=\"0 0 24 24\"\n",
              "       width=\"24px\">\n",
              "    <path d=\"M0 0h24v24H0V0z\" fill=\"none\"/>\n",
              "    <path d=\"M18.56 5.44l.94 2.06.94-2.06 2.06-.94-2.06-.94-.94-2.06-.94 2.06-2.06.94zm-11 1L8.5 8.5l.94-2.06 2.06-.94-2.06-.94L8.5 2.5l-.94 2.06-2.06.94zm10 10l.94 2.06.94-2.06 2.06-.94-2.06-.94-.94-2.06-.94 2.06-2.06.94z\"/><path d=\"M17.41 7.96l-1.37-1.37c-.4-.4-.92-.59-1.43-.59-.52 0-1.04.2-1.43.59L10.3 9.45l-7.72 7.72c-.78.78-.78 2.05 0 2.83L4 21.41c.39.39.9.59 1.41.59.51 0 1.02-.2 1.41-.59l7.78-7.78 2.81-2.81c.8-.78.8-2.07 0-2.86zM5.41 20L4 18.59l7.72-7.72 1.47 1.35L5.41 20z\"/>\n",
              "  </svg>\n",
              "      </button>\n",
              "      \n",
              "  <style>\n",
              "    .colab-df-container {\n",
              "      display:flex;\n",
              "      flex-wrap:wrap;\n",
              "      gap: 12px;\n",
              "    }\n",
              "\n",
              "    .colab-df-convert {\n",
              "      background-color: #E8F0FE;\n",
              "      border: none;\n",
              "      border-radius: 50%;\n",
              "      cursor: pointer;\n",
              "      display: none;\n",
              "      fill: #1967D2;\n",
              "      height: 32px;\n",
              "      padding: 0 0 0 0;\n",
              "      width: 32px;\n",
              "    }\n",
              "\n",
              "    .colab-df-convert:hover {\n",
              "      background-color: #E2EBFA;\n",
              "      box-shadow: 0px 1px 2px rgba(60, 64, 67, 0.3), 0px 1px 3px 1px rgba(60, 64, 67, 0.15);\n",
              "      fill: #174EA6;\n",
              "    }\n",
              "\n",
              "    [theme=dark] .colab-df-convert {\n",
              "      background-color: #3B4455;\n",
              "      fill: #D2E3FC;\n",
              "    }\n",
              "\n",
              "    [theme=dark] .colab-df-convert:hover {\n",
              "      background-color: #434B5C;\n",
              "      box-shadow: 0px 1px 3px 1px rgba(0, 0, 0, 0.15);\n",
              "      filter: drop-shadow(0px 1px 2px rgba(0, 0, 0, 0.3));\n",
              "      fill: #FFFFFF;\n",
              "    }\n",
              "  </style>\n",
              "\n",
              "      <script>\n",
              "        const buttonEl =\n",
              "          document.querySelector('#df-f19c8452-8d5f-4eaf-9bac-622ebd4c6662 button.colab-df-convert');\n",
              "        buttonEl.style.display =\n",
              "          google.colab.kernel.accessAllowed ? 'block' : 'none';\n",
              "\n",
              "        async function convertToInteractive(key) {\n",
              "          const element = document.querySelector('#df-f19c8452-8d5f-4eaf-9bac-622ebd4c6662');\n",
              "          const dataTable =\n",
              "            await google.colab.kernel.invokeFunction('convertToInteractive',\n",
              "                                                     [key], {});\n",
              "          if (!dataTable) return;\n",
              "\n",
              "          const docLinkHtml = 'Like what you see? Visit the ' +\n",
              "            '<a target=\"_blank\" href=https://colab.research.google.com/notebooks/data_table.ipynb>data table notebook</a>'\n",
              "            + ' to learn more about interactive tables.';\n",
              "          element.innerHTML = '';\n",
              "          dataTable['output_type'] = 'display_data';\n",
              "          await google.colab.output.renderOutput(dataTable, element);\n",
              "          const docLink = document.createElement('div');\n",
              "          docLink.innerHTML = docLinkHtml;\n",
              "          element.appendChild(docLink);\n",
              "        }\n",
              "      </script>\n",
              "    </div>\n",
              "  </div>\n",
              "  "
            ],
            "text/plain": [
              "                      Model  ...  max_token_in_a_article\n",
              "0  RNN with 1000 vocab size  ...                      64\n",
              "1  RNN with 2000 vocab size  ...                      64\n",
              "\n",
              "[2 rows x 15 columns]"
            ]
          },
          "metadata": {},
          "execution_count": 37
        }
      ]
    },
    {
      "cell_type": "markdown",
      "source": [
        "### Vocab 3000"
      ],
      "metadata": {
        "id": "qUv8AcS74_79"
      }
    },
    {
      "cell_type": "code",
      "source": [
        "VOCAB_SIZE = 3000\n",
        "EPOCH_SIZE = 200\n",
        "encoder3000 = get_encoder(VOCAB_SIZE)"
      ],
      "metadata": {
        "id": "rFFc5N_15Ewo"
      },
      "execution_count": 38,
      "outputs": []
    },
    {
      "cell_type": "code",
      "source": [
        "corpus3000, doc_sizes3000 = explore_vocab(train_dataset,encoder3000)"
      ],
      "metadata": {
        "id": "fTmgjVIO5IYs"
      },
      "execution_count": 39,
      "outputs": []
    },
    {
      "cell_type": "code",
      "source": [
        "vocab3000 = np.array(encoder3000.get_vocabulary())\n",
        "num_vocab_words_in_corpus =len(vocab3000)\n",
        "\n",
        "num_words =len(corpus3000)\n",
        "num_articles =len(doc_sizes3000)\n",
        "min_token_in_a_article = min(doc_sizes3000)\n",
        "max_token_in_a_article = max(doc_sizes3000)  \n",
        "\n",
        "print(num_vocab_words_in_corpus)\n",
        "print(num_words)\n",
        "print(num_articles)\n",
        "print(min_token_in_a_article)\n",
        "print(max_token_in_a_article)\n",
        "\n",
        "\"\"\"\n",
        "plt.figure(figsize=(15,9))\n",
        "plt.hist(doc_sizes3000, bins=20,range = (0,120))\n",
        "plt.xlabel(\"Tokens Per Document\")\n",
        "plt.ylabel(\"Number of AG News Articles\");\n",
        "\"\"\""
      ],
      "metadata": {
        "id": "MU_v0Cge5Q7a",
        "colab": {
          "base_uri": "https://localhost:8080/",
          "height": 140
        },
        "outputId": "acb238ec-82d8-4629-e698-7dba307796a9"
      },
      "execution_count": 40,
      "outputs": [
        {
          "output_type": "stream",
          "name": "stdout",
          "text": [
            "3000\n",
            "114000\n",
            "1782\n",
            "16\n",
            "64\n"
          ]
        },
        {
          "output_type": "execute_result",
          "data": {
            "application/vnd.google.colaboratory.intrinsic+json": {
              "type": "string"
            },
            "text/plain": [
              "'\\nplt.figure(figsize=(15,9))\\nplt.hist(doc_sizes3000, bins=20,range = (0,120))\\nplt.xlabel(\"Tokens Per Document\")\\nplt.ylabel(\"Number of AG News Articles\");\\n'"
            ]
          },
          "metadata": {},
          "execution_count": 40
        }
      ]
    },
    {
      "cell_type": "code",
      "source": [
        "RNN3000 = creat_model(encoder3000)\n",
        "result3000 = compile_train_model(RNN3000, 200)"
      ],
      "metadata": {
        "id": "-4_tel-95ZE8",
        "colab": {
          "base_uri": "https://localhost:8080/",
          "height": 992
        },
        "outputId": "0588a1ad-0765-4379-cc8d-6a28866c1dbc"
      },
      "execution_count": 41,
      "outputs": [
        {
          "output_type": "stream",
          "name": "stdout",
          "text": [
            "Epoch 1/200\n",
            "1782/1782 [==============================] - 272s 147ms/step - loss: 0.6676 - accuracy: 0.7549 - val_loss: 0.4440 - val_accuracy: 0.8488\n",
            "Epoch 2/200\n",
            "1782/1782 [==============================] - 260s 146ms/step - loss: 0.3677 - accuracy: 0.8760 - val_loss: 0.3461 - val_accuracy: 0.8833\n",
            "Epoch 3/200\n",
            "1782/1782 [==============================] - 257s 144ms/step - loss: 0.3182 - accuracy: 0.8910 - val_loss: 0.3367 - val_accuracy: 0.8865\n",
            "Epoch 4/200\n",
            "1782/1782 [==============================] - 258s 145ms/step - loss: 0.2959 - accuracy: 0.8971 - val_loss: 0.3184 - val_accuracy: 0.8880\n",
            "Epoch 5/200\n",
            "1782/1782 [==============================] - 259s 145ms/step - loss: 0.2830 - accuracy: 0.9005 - val_loss: 0.3154 - val_accuracy: 0.8908\n",
            "Epoch 6/200\n",
            "1782/1782 [==============================] - 261s 146ms/step - loss: 0.2744 - accuracy: 0.9032 - val_loss: 0.3149 - val_accuracy: 0.8890\n",
            "Epoch 7/200\n",
            "1782/1782 [==============================] - 263s 147ms/step - loss: 0.2677 - accuracy: 0.9047 - val_loss: 0.3229 - val_accuracy: 0.8868\n",
            "119/119 [==============================] - 5s 41ms/step - loss: 0.3292 - accuracy: 0.8843\n",
            "test set accuracy:  88.43421339988708\n"
          ]
        },
        {
          "output_type": "stream",
          "name": "stderr",
          "text": [
            "/usr/local/lib/python3.7/dist-packages/ipykernel_launcher.py:37: SettingWithCopyWarning: \n",
            "A value is trying to be set on a copy of a slice from a DataFrame.\n",
            "Try using .loc[row_indexer,col_indexer] = value instead\n",
            "\n",
            "See the caveats in the documentation: https://pandas.pydata.org/pandas-docs/stable/user_guide/indexing.html#returning-a-view-versus-a-copy\n",
            "/usr/local/lib/python3.7/dist-packages/ipykernel_launcher.py:38: SettingWithCopyWarning: \n",
            "A value is trying to be set on a copy of a slice from a DataFrame.\n",
            "Try using .loc[row_indexer,col_indexer] = value instead\n",
            "\n",
            "See the caveats in the documentation: https://pandas.pydata.org/pandas-docs/stable/user_guide/indexing.html#returning-a-view-versus-a-copy\n",
            "/usr/local/lib/python3.7/dist-packages/ipykernel_launcher.py:39: SettingWithCopyWarning: \n",
            "A value is trying to be set on a copy of a slice from a DataFrame.\n",
            "Try using .loc[row_indexer,col_indexer] = value instead\n",
            "\n",
            "See the caveats in the documentation: https://pandas.pydata.org/pandas-docs/stable/user_guide/indexing.html#returning-a-view-versus-a-copy\n",
            "/usr/local/lib/python3.7/dist-packages/ipykernel_launcher.py:40: SettingWithCopyWarning: \n",
            "A value is trying to be set on a copy of a slice from a DataFrame.\n",
            "Try using .loc[row_indexer,col_indexer] = value instead\n",
            "\n",
            "See the caveats in the documentation: https://pandas.pydata.org/pandas-docs/stable/user_guide/indexing.html#returning-a-view-versus-a-copy\n",
            "/usr/local/lib/python3.7/dist-packages/ipykernel_launcher.py:41: SettingWithCopyWarning: \n",
            "A value is trying to be set on a copy of a slice from a DataFrame.\n",
            "Try using .loc[row_indexer,col_indexer] = value instead\n",
            "\n",
            "See the caveats in the documentation: https://pandas.pydata.org/pandas-docs/stable/user_guide/indexing.html#returning-a-view-versus-a-copy\n"
          ]
        },
        {
          "output_type": "display_data",
          "data": {
            "image/png": "[encoded data removed]",
            "text/plain": [
              "<Figure size 1152x288 with 2 Axes>"
            ]
          },
          "metadata": {
            "needs_background": "light"
          }
        }
      ]
    },
    {
      "cell_type": "code",
      "source": [
        "result3000['vocab_size'] = VOCAB_SIZE \n",
        "result3000['num_words'] = num_words \n",
        "result3000['num_articles'] = num_articles\n",
        "result3000['min_token_in_a_article'] = min_token_in_a_article \n",
        "result3000['max_token_in_a_article'] = max_token_in_a_article \n",
        "new_col = ['RNN with 3000 vocab size']   \n",
        "result3000.insert(loc=0, column='Model', value=new_col)"
      ],
      "metadata": {
        "id": "VkbLUvR65daK"
      },
      "execution_count": 42,
      "outputs": []
    },
    {
      "cell_type": "code",
      "source": [
        "assignment_result_table = assignment_result_table.append(result3000, ignore_index = True)\n",
        "assignment_result_table"
      ],
      "metadata": {
        "id": "j406UjTd5ilE",
        "colab": {
          "base_uri": "https://localhost:8080/",
          "height": 416
        },
        "outputId": "c6368b68-3557-4381-cae1-991bf35b11cf"
      },
      "execution_count": 43,
      "outputs": [
        {
          "output_type": "execute_result",
          "data": {
            "text/html": [
              "\n",
              "  <div id=\"df-78ad2026-6331-49cf-968e-12a9ee420840\">\n",
              "    <div class=\"colab-df-container\">\n",
              "      <div>\n",
              "<style scoped>\n",
              "    .dataframe tbody tr th:only-of-type {\n",
              "        vertical-align: middle;\n",
              "    }\n",
              "\n",
              "    .dataframe tbody tr th {\n",
              "        vertical-align: top;\n",
              "    }\n",
              "\n",
              "    .dataframe thead th {\n",
              "        text-align: right;\n",
              "    }\n",
              "</style>\n",
              "<table border=\"1\" class=\"dataframe\">\n",
              "  <thead>\n",
              "    <tr style=\"text-align: right;\">\n",
              "      <th></th>\n",
              "      <th>Model</th>\n",
              "      <th>loss</th>\n",
              "      <th>accuracy</th>\n",
              "      <th>val_loss</th>\n",
              "      <th>val_accuracy</th>\n",
              "      <th>test_loss</th>\n",
              "      <th>test_accuracy</th>\n",
              "      <th>process_time</th>\n",
              "      <th>epochs_setting</th>\n",
              "      <th>epochs_actual</th>\n",
              "      <th>vocab_size</th>\n",
              "      <th>num_words</th>\n",
              "      <th>num_articles</th>\n",
              "      <th>min_token_in_a_article</th>\n",
              "      <th>max_token_in_a_article</th>\n",
              "    </tr>\n",
              "  </thead>\n",
              "  <tbody>\n",
              "    <tr>\n",
              "      <th>0</th>\n",
              "      <td>RNN with 1000 vocab size</td>\n",
              "      <td>0.377154</td>\n",
              "      <td>0.863553</td>\n",
              "      <td>0.388227</td>\n",
              "      <td>0.862333</td>\n",
              "      <td>0.400026</td>\n",
              "      <td>0.853684</td>\n",
              "      <td>2233.756780</td>\n",
              "      <td>200</td>\n",
              "      <td>8</td>\n",
              "      <td>1000</td>\n",
              "      <td>114000</td>\n",
              "      <td>1782</td>\n",
              "      <td>16</td>\n",
              "      <td>64</td>\n",
              "    </tr>\n",
              "    <tr>\n",
              "      <th>1</th>\n",
              "      <td>RNN with 2000 vocab size</td>\n",
              "      <td>0.291024</td>\n",
              "      <td>0.896395</td>\n",
              "      <td>0.350998</td>\n",
              "      <td>0.874000</td>\n",
              "      <td>0.355715</td>\n",
              "      <td>0.872105</td>\n",
              "      <td>3211.853945</td>\n",
              "      <td>200</td>\n",
              "      <td>12</td>\n",
              "      <td>2000</td>\n",
              "      <td>114000</td>\n",
              "      <td>1782</td>\n",
              "      <td>16</td>\n",
              "      <td>64</td>\n",
              "    </tr>\n",
              "    <tr>\n",
              "      <th>2</th>\n",
              "      <td>RNN with 3000 vocab size</td>\n",
              "      <td>0.267700</td>\n",
              "      <td>0.904658</td>\n",
              "      <td>0.322919</td>\n",
              "      <td>0.886833</td>\n",
              "      <td>0.329175</td>\n",
              "      <td>0.884342</td>\n",
              "      <td>1899.668785</td>\n",
              "      <td>200</td>\n",
              "      <td>7</td>\n",
              "      <td>3000</td>\n",
              "      <td>114000</td>\n",
              "      <td>1782</td>\n",
              "      <td>16</td>\n",
              "      <td>64</td>\n",
              "    </tr>\n",
              "  </tbody>\n",
              "</table>\n",
              "</div>\n",
              "      <button class=\"colab-df-convert\" onclick=\"convertToInteractive('df-78ad2026-6331-49cf-968e-12a9ee420840')\"\n",
              "              title=\"Convert this dataframe to an interactive table.\"\n",
              "              style=\"display:none;\">\n",
              "        \n",
              "  <svg xmlns=\"http://www.w3.org/2000/svg\" height=\"24px\"viewBox=\"0 0 24 24\"\n",
              "       width=\"24px\">\n",
              "    <path d=\"M0 0h24v24H0V0z\" fill=\"none\"/>\n",
              "    <path d=\"M18.56 5.44l.94 2.06.94-2.06 2.06-.94-2.06-.94-.94-2.06-.94 2.06-2.06.94zm-11 1L8.5 8.5l.94-2.06 2.06-.94-2.06-.94L8.5 2.5l-.94 2.06-2.06.94zm10 10l.94 2.06.94-2.06 2.06-.94-2.06-.94-.94-2.06-.94 2.06-2.06.94z\"/><path d=\"M17.41 7.96l-1.37-1.37c-.4-.4-.92-.59-1.43-.59-.52 0-1.04.2-1.43.59L10.3 9.45l-7.72 7.72c-.78.78-.78 2.05 0 2.83L4 21.41c.39.39.9.59 1.41.59.51 0 1.02-.2 1.41-.59l7.78-7.78 2.81-2.81c.8-.78.8-2.07 0-2.86zM5.41 20L4 18.59l7.72-7.72 1.47 1.35L5.41 20z\"/>\n",
              "  </svg>\n",
              "      </button>\n",
              "      \n",
              "  <style>\n",
              "    .colab-df-container {\n",
              "      display:flex;\n",
              "      flex-wrap:wrap;\n",
              "      gap: 12px;\n",
              "    }\n",
              "\n",
              "    .colab-df-convert {\n",
              "      background-color: #E8F0FE;\n",
              "      border: none;\n",
              "      border-radius: 50%;\n",
              "      cursor: pointer;\n",
              "      display: none;\n",
              "      fill: #1967D2;\n",
              "      height: 32px;\n",
              "      padding: 0 0 0 0;\n",
              "      width: 32px;\n",
              "    }\n",
              "\n",
              "    .colab-df-convert:hover {\n",
              "      background-color: #E2EBFA;\n",
              "      box-shadow: 0px 1px 2px rgba(60, 64, 67, 0.3), 0px 1px 3px 1px rgba(60, 64, 67, 0.15);\n",
              "      fill: #174EA6;\n",
              "    }\n",
              "\n",
              "    [theme=dark] .colab-df-convert {\n",
              "      background-color: #3B4455;\n",
              "      fill: #D2E3FC;\n",
              "    }\n",
              "\n",
              "    [theme=dark] .colab-df-convert:hover {\n",
              "      background-color: #434B5C;\n",
              "      box-shadow: 0px 1px 3px 1px rgba(0, 0, 0, 0.15);\n",
              "      filter: drop-shadow(0px 1px 2px rgba(0, 0, 0, 0.3));\n",
              "      fill: #FFFFFF;\n",
              "    }\n",
              "  </style>\n",
              "\n",
              "      <script>\n",
              "        const buttonEl =\n",
              "          document.querySelector('#df-78ad2026-6331-49cf-968e-12a9ee420840 button.colab-df-convert');\n",
              "        buttonEl.style.display =\n",
              "          google.colab.kernel.accessAllowed ? 'block' : 'none';\n",
              "\n",
              "        async function convertToInteractive(key) {\n",
              "          const element = document.querySelector('#df-78ad2026-6331-49cf-968e-12a9ee420840');\n",
              "          const dataTable =\n",
              "            await google.colab.kernel.invokeFunction('convertToInteractive',\n",
              "                                                     [key], {});\n",
              "          if (!dataTable) return;\n",
              "\n",
              "          const docLinkHtml = 'Like what you see? Visit the ' +\n",
              "            '<a target=\"_blank\" href=https://colab.research.google.com/notebooks/data_table.ipynb>data table notebook</a>'\n",
              "            + ' to learn more about interactive tables.';\n",
              "          element.innerHTML = '';\n",
              "          dataTable['output_type'] = 'display_data';\n",
              "          await google.colab.output.renderOutput(dataTable, element);\n",
              "          const docLink = document.createElement('div');\n",
              "          docLink.innerHTML = docLinkHtml;\n",
              "          element.appendChild(docLink);\n",
              "        }\n",
              "      </script>\n",
              "    </div>\n",
              "  </div>\n",
              "  "
            ],
            "text/plain": [
              "                      Model  ...  max_token_in_a_article\n",
              "0  RNN with 1000 vocab size  ...                      64\n",
              "1  RNN with 2000 vocab size  ...                      64\n",
              "2  RNN with 3000 vocab size  ...                      64\n",
              "\n",
              "[3 rows x 15 columns]"
            ]
          },
          "metadata": {},
          "execution_count": 43
        }
      ]
    },
    {
      "cell_type": "code",
      "source": [
        "assignment_result_table.to_pickle(\"resultsA.pkl\") \n",
        "assignment_result_table.to_csv(\"resultsA.csv\") "
      ],
      "metadata": {
        "id": "qT2Vmf9rwgJ0"
      },
      "execution_count": 44,
      "outputs": []
    },
    {
      "cell_type": "markdown",
      "source": [
        "### Plot Test Accuracy by Vocab Size"
      ],
      "metadata": {
        "id": "WzdCFWUW7Tph"
      }
    },
    {
      "cell_type": "code",
      "source": [
        "x= assignment_result_table['vocab_size']\n",
        "y= assignment_result_table['test_accuracy']\n",
        "plt.plot(x,y)"
      ],
      "metadata": {
        "id": "1X4ZpceQ7TJG",
        "colab": {
          "base_uri": "https://localhost:8080/",
          "height": 72
        },
        "outputId": "d6e81190-029a-4769-96d5-021cd06ec12f"
      },
      "execution_count": 45,
      "outputs": [
        {
          "output_type": "execute_result",
          "data": {
            "text/plain": [
              "[<matplotlib.lines.Line2D at 0x7fb0ba508d10>]"
            ]
          },
          "metadata": {},
          "execution_count": 45
        },
        {
          "output_type": "display_data",
          "data": {
            "image/png": "[encoded data removed]",
            "text/plain": [
              "<Figure size 432x288 with 1 Axes>"
            ]
          },
          "metadata": {
            "needs_background": "light"
          }
        }
      ]
    },
    {
      "cell_type": "markdown",
      "source": [
        "## Experiment A b\n",
        "(b) Editing the Vocabulary: Try unedited most frequent words, VERSUS edit the list by deleting the most frequent words such as article, ‘the’, ‘a’, etc."
      ],
      "metadata": {
        "id": "E0sdKXmK7cT5"
      }
    },
    {
      "cell_type": "markdown",
      "source": [
        "### Deleting the most frequent words from vocab"
      ],
      "metadata": {
        "id": "Fy5jhVdT9Faa"
      }
    },
    {
      "cell_type": "code",
      "source": [
        "import nltk\n",
        "nltk.download('stopwords')"
      ],
      "metadata": {
        "id": "eMO6lQWitSmp",
        "colab": {
          "base_uri": "https://localhost:8080/"
        },
        "outputId": "515f0061-8cbf-4d04-d4b0-54963d2bbfdc"
      },
      "execution_count": 48,
      "outputs": [
        {
          "output_type": "stream",
          "name": "stdout",
          "text": [
            "[nltk_data] Downloading package stopwords to /root/nltk_data...\n",
            "[nltk_data]   Unzipping corpora/stopwords.zip.\n"
          ]
        },
        {
          "output_type": "execute_result",
          "data": {
            "text/plain": [
              "True"
            ]
          },
          "metadata": {},
          "execution_count": 48
        }
      ]
    },
    {
      "cell_type": "code",
      "source": [
        "import nltk\n",
        "from nltk.corpus import stopwords\n",
        "stopwords = stopwords.words('english')"
      ],
      "metadata": {
        "id": "QPr7HjZB9Fvb"
      },
      "execution_count": 50,
      "outputs": []
    },
    {
      "cell_type": "code",
      "source": [
        "vocab1000[:20]"
      ],
      "metadata": {
        "id": "KWdVmWmB7IFR",
        "colab": {
          "base_uri": "https://localhost:8080/"
        },
        "outputId": "20d9e9fd-c0fc-4807-95b0-5938a9534fc4"
      },
      "execution_count": 51,
      "outputs": [
        {
          "output_type": "execute_result",
          "data": {
            "text/plain": [
              "array(['', '[UNK]', 'the', 'a', 'to', 'of', 'in', 'and', 'on', 'for',\n",
              "       'that', '39s', 'with', 'its', 'as', 'at', 'is', 'said', 'by', 'it'],\n",
              "      dtype='<U14')"
            ]
          },
          "metadata": {},
          "execution_count": 51
        }
      ]
    },
    {
      "cell_type": "code",
      "source": [
        "filtered_vocab1000= []\n",
        "for w in vocab1000:\n",
        "    if w not in stopwords:\n",
        "        filtered_vocab1000.append(w)"
      ],
      "metadata": {
        "id": "bGsn6pg9DHt7"
      },
      "execution_count": 52,
      "outputs": []
    },
    {
      "cell_type": "code",
      "source": [
        "filtered_vocab1000[:20]"
      ],
      "metadata": {
        "id": "jFJQfWleDtjZ",
        "colab": {
          "base_uri": "https://localhost:8080/"
        },
        "outputId": "de136b7f-6d4e-448b-b9f0-12da971e6a5c"
      },
      "execution_count": 53,
      "outputs": [
        {
          "output_type": "execute_result",
          "data": {
            "text/plain": [
              "['',\n",
              " '[UNK]',\n",
              " '39s',\n",
              " 'said',\n",
              " 'new',\n",
              " 'us',\n",
              " 'reuters',\n",
              " 'ap',\n",
              " 'two',\n",
              " 'first',\n",
              " 'monday',\n",
              " 'wednesday',\n",
              " 'tuesday',\n",
              " 'thursday',\n",
              " 'company',\n",
              " 'friday',\n",
              " 'inc',\n",
              " 'one',\n",
              " 'world',\n",
              " 'yesterday']"
            ]
          },
          "metadata": {},
          "execution_count": 53
        }
      ]
    },
    {
      "cell_type": "code",
      "source": [
        "len(filtered_vocab1000)"
      ],
      "metadata": {
        "id": "QFg0UG8e9Dez",
        "colab": {
          "base_uri": "https://localhost:8080/"
        },
        "outputId": "5331c3a5-5c6e-46a8-d047-d3818e5767db"
      },
      "execution_count": 54,
      "outputs": [
        {
          "output_type": "execute_result",
          "data": {
            "text/plain": [
              "898"
            ]
          },
          "metadata": {},
          "execution_count": 54
        }
      ]
    },
    {
      "cell_type": "code",
      "source": [
        "def get_encoder_with_filtered_vocab(VOCAB_SIZE, VOCAB):\n",
        "  encoder = tf.keras.layers.experimental.preprocessing.TextVectorization(max_tokens=VOCAB_SIZE, vocabulary=VOCAB)\n",
        "  #encoder.adapt(train_dataset.map(lambda text, label: text)) # Because we've passed the vocabulary directly, we don't need to adapt the layer - the vocabulary is already set. \n",
        "  return encoder"
      ],
      "metadata": {
        "id": "HhJL-x5Bw1hg"
      },
      "execution_count": 55,
      "outputs": []
    },
    {
      "cell_type": "code",
      "source": [
        "VOCAB_SIZE = 1000\n",
        "EPOCH_SIZE = 200\n",
        "VOCAB = filtered_vocab1000 \n",
        "encoder1000_vocab = get_encoder_with_filtered_vocab(VOCAB_SIZE, VOCAB)"
      ],
      "metadata": {
        "id": "FNK4oEkTxBek"
      },
      "execution_count": 56,
      "outputs": []
    },
    {
      "cell_type": "code",
      "source": [
        "corpus1000_vocab, doc_sizes1000_vocab = explore_vocab(train_dataset,encoder1000_vocab)"
      ],
      "metadata": {
        "id": "qze5sx2YxvBe"
      },
      "execution_count": 57,
      "outputs": []
    },
    {
      "cell_type": "code",
      "source": [
        "vocab1000_50 = np.array(encoder1000_vocab.get_vocabulary())\n",
        "num_vocab_words_in_corpus =len(vocab1000_50)\n",
        "\n",
        "num_words =len(corpus1000_vocab)\n",
        "num_articles =len(doc_sizes1000_vocab)\n",
        "min_token_in_a_article = min(doc_sizes1000_vocab)\n",
        "max_token_in_a_article = max(doc_sizes1000_vocab)  \n",
        "\n",
        "print(num_vocab_words_in_corpus)\n",
        "print(num_words)\n",
        "print(num_articles)\n",
        "print(min_token_in_a_article)\n",
        "print(max_token_in_a_article)\n",
        "\n",
        "\"\"\"\n",
        "plt.figure(figsize=(15,9))\n",
        "plt.hist(doc_sizes1000_vocab, bins=20,range = (0,120))\n",
        "plt.xlabel(\"Tokens Per Document\")\n",
        "plt.ylabel(\"Number of AG News Articles\")\n",
        "\"\"\""
      ],
      "metadata": {
        "id": "-lnG07TMx2G7",
        "colab": {
          "base_uri": "https://localhost:8080/",
          "height": 140
        },
        "outputId": "f2012aab-7777-427f-d721-12fc05c32716"
      },
      "execution_count": 58,
      "outputs": [
        {
          "output_type": "stream",
          "name": "stdout",
          "text": [
            "898\n",
            "114000\n",
            "1782\n",
            "16\n",
            "64\n"
          ]
        },
        {
          "output_type": "execute_result",
          "data": {
            "application/vnd.google.colaboratory.intrinsic+json": {
              "type": "string"
            },
            "text/plain": [
              "'\\nplt.figure(figsize=(15,9))\\nplt.hist(doc_sizes1000_vocab, bins=20,range = (0,120))\\nplt.xlabel(\"Tokens Per Document\")\\nplt.ylabel(\"Number of AG News Articles\")\\n'"
            ]
          },
          "metadata": {},
          "execution_count": 58
        }
      ]
    },
    {
      "cell_type": "code",
      "source": [
        "RNN1000_vocab = creat_model(encoder1000_vocab)\n",
        "result1000_vocab = compile_train_model(RNN1000_vocab, 200)"
      ],
      "metadata": {
        "id": "4DJux2e3yJsZ",
        "colab": {
          "base_uri": "https://localhost:8080/",
          "height": 1000
        },
        "outputId": "991ce733-fbca-4c2a-8e55-9a0a875b8a75"
      },
      "execution_count": 59,
      "outputs": [
        {
          "output_type": "stream",
          "name": "stdout",
          "text": [
            "Epoch 1/200\n",
            "1782/1782 [==============================] - 272s 146ms/step - loss: 0.8172 - accuracy: 0.6636 - val_loss: 0.5888 - val_accuracy: 0.7852\n",
            "Epoch 2/200\n",
            "1782/1782 [==============================] - 254s 143ms/step - loss: 0.5296 - accuracy: 0.8058 - val_loss: 0.4794 - val_accuracy: 0.8357\n",
            "Epoch 3/200\n",
            "1782/1782 [==============================] - 254s 142ms/step - loss: 0.4584 - accuracy: 0.8344 - val_loss: 0.4343 - val_accuracy: 0.8475\n",
            "Epoch 4/200\n",
            "1782/1782 [==============================] - 255s 143ms/step - loss: 0.4203 - accuracy: 0.8471 - val_loss: 0.4231 - val_accuracy: 0.8495\n",
            "Epoch 5/200\n",
            "1782/1782 [==============================] - 257s 144ms/step - loss: 0.4058 - accuracy: 0.8522 - val_loss: 0.4131 - val_accuracy: 0.8520\n",
            "Epoch 6/200\n",
            "1782/1782 [==============================] - 256s 143ms/step - loss: 0.3975 - accuracy: 0.8553 - val_loss: 0.4110 - val_accuracy: 0.8517\n",
            "Epoch 7/200\n",
            "1782/1782 [==============================] - 255s 143ms/step - loss: 0.3918 - accuracy: 0.8566 - val_loss: 0.4002 - val_accuracy: 0.8560\n",
            "Epoch 8/200\n",
            "1782/1782 [==============================] - 257s 144ms/step - loss: 0.3882 - accuracy: 0.8580 - val_loss: 0.3946 - val_accuracy: 0.8568\n",
            "Epoch 9/200\n",
            "1782/1782 [==============================] - 255s 143ms/step - loss: 0.3842 - accuracy: 0.8594 - val_loss: 0.3930 - val_accuracy: 0.8585\n",
            "Epoch 10/200\n",
            "1782/1782 [==============================] - 256s 143ms/step - loss: 0.3809 - accuracy: 0.8600 - val_loss: 0.3952 - val_accuracy: 0.8573\n",
            "Epoch 11/200\n",
            "1782/1782 [==============================] - 256s 143ms/step - loss: 0.3776 - accuracy: 0.8609 - val_loss: 0.3924 - val_accuracy: 0.8568\n",
            "119/119 [==============================] - 5s 40ms/step - loss: 0.4031 - accuracy: 0.8478\n",
            "test set accuracy:  84.7763180732727\n"
          ]
        },
        {
          "output_type": "stream",
          "name": "stderr",
          "text": [
            "/usr/local/lib/python3.7/dist-packages/ipykernel_launcher.py:37: SettingWithCopyWarning: \n",
            "A value is trying to be set on a copy of a slice from a DataFrame.\n",
            "Try using .loc[row_indexer,col_indexer] = value instead\n",
            "\n",
            "See the caveats in the documentation: https://pandas.pydata.org/pandas-docs/stable/user_guide/indexing.html#returning-a-view-versus-a-copy\n",
            "/usr/local/lib/python3.7/dist-packages/ipykernel_launcher.py:38: SettingWithCopyWarning: \n",
            "A value is trying to be set on a copy of a slice from a DataFrame.\n",
            "Try using .loc[row_indexer,col_indexer] = value instead\n",
            "\n",
            "See the caveats in the documentation: https://pandas.pydata.org/pandas-docs/stable/user_guide/indexing.html#returning-a-view-versus-a-copy\n",
            "/usr/local/lib/python3.7/dist-packages/ipykernel_launcher.py:39: SettingWithCopyWarning: \n",
            "A value is trying to be set on a copy of a slice from a DataFrame.\n",
            "Try using .loc[row_indexer,col_indexer] = value instead\n",
            "\n",
            "See the caveats in the documentation: https://pandas.pydata.org/pandas-docs/stable/user_guide/indexing.html#returning-a-view-versus-a-copy\n",
            "/usr/local/lib/python3.7/dist-packages/ipykernel_launcher.py:40: SettingWithCopyWarning: \n",
            "A value is trying to be set on a copy of a slice from a DataFrame.\n",
            "Try using .loc[row_indexer,col_indexer] = value instead\n",
            "\n",
            "See the caveats in the documentation: https://pandas.pydata.org/pandas-docs/stable/user_guide/indexing.html#returning-a-view-versus-a-copy\n",
            "/usr/local/lib/python3.7/dist-packages/ipykernel_launcher.py:41: SettingWithCopyWarning: \n",
            "A value is trying to be set on a copy of a slice from a DataFrame.\n",
            "Try using .loc[row_indexer,col_indexer] = value instead\n",
            "\n",
            "See the caveats in the documentation: https://pandas.pydata.org/pandas-docs/stable/user_guide/indexing.html#returning-a-view-versus-a-copy\n"
          ]
        },
        {
          "output_type": "display_data",
          "data": {
            "image/png": "[encoded data removed]",
            "text/plain": [
              "<Figure size 1152x288 with 2 Axes>"
            ]
          },
          "metadata": {
            "needs_background": "light"
          }
        }
      ]
    },
    {
      "cell_type": "code",
      "source": [
        "result1000_vocab['vocab_size'] = num_vocab_words_in_corpus \n",
        "result1000_vocab['num_words'] = num_words \n",
        "result1000_vocab['num_articles'] = num_articles\n",
        "result1000_vocab['min_token_in_a_article'] = min_token_in_a_article \n",
        "result1000_vocab['max_token_in_a_article'] = max_token_in_a_article \n",
        "new_col = ['RNN with filtered vocab that deleting the most frequent words']   \n",
        "result1000_vocab.insert(loc=0, column='Model', value=new_col)\n",
        "#result1000_vocab"
      ],
      "metadata": {
        "id": "TANVXna9yRVb"
      },
      "execution_count": 60,
      "outputs": []
    },
    {
      "cell_type": "code",
      "source": [
        "assignment_result_table = assignment_result_table.append(result1000_vocab, ignore_index = True)\n",
        "assignment_result_table"
      ],
      "metadata": {
        "id": "-CYHWkF_yXpK",
        "colab": {
          "base_uri": "https://localhost:8080/",
          "height": 568
        },
        "outputId": "4fc7905f-1144-4659-a3b4-dcca5c3b2a59"
      },
      "execution_count": 61,
      "outputs": [
        {
          "output_type": "execute_result",
          "data": {
            "text/html": [
              "\n",
              "  <div id=\"df-b436f50a-75f6-4a2d-94b4-d655d177be9a\">\n",
              "    <div class=\"colab-df-container\">\n",
              "      <div>\n",
              "<style scoped>\n",
              "    .dataframe tbody tr th:only-of-type {\n",
              "        vertical-align: middle;\n",
              "    }\n",
              "\n",
              "    .dataframe tbody tr th {\n",
              "        vertical-align: top;\n",
              "    }\n",
              "\n",
              "    .dataframe thead th {\n",
              "        text-align: right;\n",
              "    }\n",
              "</style>\n",
              "<table border=\"1\" class=\"dataframe\">\n",
              "  <thead>\n",
              "    <tr style=\"text-align: right;\">\n",
              "      <th></th>\n",
              "      <th>Model</th>\n",
              "      <th>loss</th>\n",
              "      <th>accuracy</th>\n",
              "      <th>val_loss</th>\n",
              "      <th>val_accuracy</th>\n",
              "      <th>test_loss</th>\n",
              "      <th>test_accuracy</th>\n",
              "      <th>process_time</th>\n",
              "      <th>epochs_setting</th>\n",
              "      <th>epochs_actual</th>\n",
              "      <th>vocab_size</th>\n",
              "      <th>num_words</th>\n",
              "      <th>num_articles</th>\n",
              "      <th>min_token_in_a_article</th>\n",
              "      <th>max_token_in_a_article</th>\n",
              "    </tr>\n",
              "  </thead>\n",
              "  <tbody>\n",
              "    <tr>\n",
              "      <th>0</th>\n",
              "      <td>RNN with 1000 vocab size</td>\n",
              "      <td>0.377154</td>\n",
              "      <td>0.863553</td>\n",
              "      <td>0.388227</td>\n",
              "      <td>0.862333</td>\n",
              "      <td>0.400026</td>\n",
              "      <td>0.853684</td>\n",
              "      <td>2233.756780</td>\n",
              "      <td>200</td>\n",
              "      <td>8</td>\n",
              "      <td>1000</td>\n",
              "      <td>114000</td>\n",
              "      <td>1782</td>\n",
              "      <td>16</td>\n",
              "      <td>64</td>\n",
              "    </tr>\n",
              "    <tr>\n",
              "      <th>1</th>\n",
              "      <td>RNN with 2000 vocab size</td>\n",
              "      <td>0.291024</td>\n",
              "      <td>0.896395</td>\n",
              "      <td>0.350998</td>\n",
              "      <td>0.874000</td>\n",
              "      <td>0.355715</td>\n",
              "      <td>0.872105</td>\n",
              "      <td>3211.853945</td>\n",
              "      <td>200</td>\n",
              "      <td>12</td>\n",
              "      <td>2000</td>\n",
              "      <td>114000</td>\n",
              "      <td>1782</td>\n",
              "      <td>16</td>\n",
              "      <td>64</td>\n",
              "    </tr>\n",
              "    <tr>\n",
              "      <th>2</th>\n",
              "      <td>RNN with 3000 vocab size</td>\n",
              "      <td>0.267700</td>\n",
              "      <td>0.904658</td>\n",
              "      <td>0.322919</td>\n",
              "      <td>0.886833</td>\n",
              "      <td>0.329175</td>\n",
              "      <td>0.884342</td>\n",
              "      <td>1899.668785</td>\n",
              "      <td>200</td>\n",
              "      <td>7</td>\n",
              "      <td>3000</td>\n",
              "      <td>114000</td>\n",
              "      <td>1782</td>\n",
              "      <td>16</td>\n",
              "      <td>64</td>\n",
              "    </tr>\n",
              "    <tr>\n",
              "      <th>3</th>\n",
              "      <td>RNN with filtered vocab that deleting the most...</td>\n",
              "      <td>0.377646</td>\n",
              "      <td>0.860895</td>\n",
              "      <td>0.392394</td>\n",
              "      <td>0.856833</td>\n",
              "      <td>0.403119</td>\n",
              "      <td>0.847763</td>\n",
              "      <td>2881.808089</td>\n",
              "      <td>200</td>\n",
              "      <td>11</td>\n",
              "      <td>898</td>\n",
              "      <td>114000</td>\n",
              "      <td>1782</td>\n",
              "      <td>16</td>\n",
              "      <td>64</td>\n",
              "    </tr>\n",
              "  </tbody>\n",
              "</table>\n",
              "</div>\n",
              "      <button class=\"colab-df-convert\" onclick=\"convertToInteractive('df-b436f50a-75f6-4a2d-94b4-d655d177be9a')\"\n",
              "              title=\"Convert this dataframe to an interactive table.\"\n",
              "              style=\"display:none;\">\n",
              "        \n",
              "  <svg xmlns=\"http://www.w3.org/2000/svg\" height=\"24px\"viewBox=\"0 0 24 24\"\n",
              "       width=\"24px\">\n",
              "    <path d=\"M0 0h24v24H0V0z\" fill=\"none\"/>\n",
              "    <path d=\"M18.56 5.44l.94 2.06.94-2.06 2.06-.94-2.06-.94-.94-2.06-.94 2.06-2.06.94zm-11 1L8.5 8.5l.94-2.06 2.06-.94-2.06-.94L8.5 2.5l-.94 2.06-2.06.94zm10 10l.94 2.06.94-2.06 2.06-.94-2.06-.94-.94-2.06-.94 2.06-2.06.94z\"/><path d=\"M17.41 7.96l-1.37-1.37c-.4-.4-.92-.59-1.43-.59-.52 0-1.04.2-1.43.59L10.3 9.45l-7.72 7.72c-.78.78-.78 2.05 0 2.83L4 21.41c.39.39.9.59 1.41.59.51 0 1.02-.2 1.41-.59l7.78-7.78 2.81-2.81c.8-.78.8-2.07 0-2.86zM5.41 20L4 18.59l7.72-7.72 1.47 1.35L5.41 20z\"/>\n",
              "  </svg>\n",
              "      </button>\n",
              "      \n",
              "  <style>\n",
              "    .colab-df-container {\n",
              "      display:flex;\n",
              "      flex-wrap:wrap;\n",
              "      gap: 12px;\n",
              "    }\n",
              "\n",
              "    .colab-df-convert {\n",
              "      background-color: #E8F0FE;\n",
              "      border: none;\n",
              "      border-radius: 50%;\n",
              "      cursor: pointer;\n",
              "      display: none;\n",
              "      fill: #1967D2;\n",
              "      height: 32px;\n",
              "      padding: 0 0 0 0;\n",
              "      width: 32px;\n",
              "    }\n",
              "\n",
              "    .colab-df-convert:hover {\n",
              "      background-color: #E2EBFA;\n",
              "      box-shadow: 0px 1px 2px rgba(60, 64, 67, 0.3), 0px 1px 3px 1px rgba(60, 64, 67, 0.15);\n",
              "      fill: #174EA6;\n",
              "    }\n",
              "\n",
              "    [theme=dark] .colab-df-convert {\n",
              "      background-color: #3B4455;\n",
              "      fill: #D2E3FC;\n",
              "    }\n",
              "\n",
              "    [theme=dark] .colab-df-convert:hover {\n",
              "      background-color: #434B5C;\n",
              "      box-shadow: 0px 1px 3px 1px rgba(0, 0, 0, 0.15);\n",
              "      filter: drop-shadow(0px 1px 2px rgba(0, 0, 0, 0.3));\n",
              "      fill: #FFFFFF;\n",
              "    }\n",
              "  </style>\n",
              "\n",
              "      <script>\n",
              "        const buttonEl =\n",
              "          document.querySelector('#df-b436f50a-75f6-4a2d-94b4-d655d177be9a button.colab-df-convert');\n",
              "        buttonEl.style.display =\n",
              "          google.colab.kernel.accessAllowed ? 'block' : 'none';\n",
              "\n",
              "        async function convertToInteractive(key) {\n",
              "          const element = document.querySelector('#df-b436f50a-75f6-4a2d-94b4-d655d177be9a');\n",
              "          const dataTable =\n",
              "            await google.colab.kernel.invokeFunction('convertToInteractive',\n",
              "                                                     [key], {});\n",
              "          if (!dataTable) return;\n",
              "\n",
              "          const docLinkHtml = 'Like what you see? Visit the ' +\n",
              "            '<a target=\"_blank\" href=https://colab.research.google.com/notebooks/data_table.ipynb>data table notebook</a>'\n",
              "            + ' to learn more about interactive tables.';\n",
              "          element.innerHTML = '';\n",
              "          dataTable['output_type'] = 'display_data';\n",
              "          await google.colab.output.renderOutput(dataTable, element);\n",
              "          const docLink = document.createElement('div');\n",
              "          docLink.innerHTML = docLinkHtml;\n",
              "          element.appendChild(docLink);\n",
              "        }\n",
              "      </script>\n",
              "    </div>\n",
              "  </div>\n",
              "  "
            ],
            "text/plain": [
              "                                               Model  ...  max_token_in_a_article\n",
              "0                           RNN with 1000 vocab size  ...                      64\n",
              "1                           RNN with 2000 vocab size  ...                      64\n",
              "2                           RNN with 3000 vocab size  ...                      64\n",
              "3  RNN with filtered vocab that deleting the most...  ...                      64\n",
              "\n",
              "[4 rows x 15 columns]"
            ]
          },
          "metadata": {},
          "execution_count": 61
        }
      ]
    },
    {
      "cell_type": "markdown",
      "source": [
        "## Experiment A c\n",
        "(c) Output sequence length: Use the default VERSUS set it to a fixed number"
      ],
      "metadata": {
        "id": "mvNHiJVk8-2h"
      }
    },
    {
      "cell_type": "markdown",
      "source": [
        "### Output sequence length"
      ],
      "metadata": {
        "id": "ZiMD1a2n9WIo"
      }
    },
    {
      "cell_type": "code",
      "source": [
        "def get_encoder_with_seq_length(VOCAB_SIZE, SEQ_LENGTH):\n",
        "  encoder = tf.keras.layers.experimental.preprocessing.TextVectorization(max_tokens=VOCAB_SIZE, output_sequence_length=SEQ_LENGTH)\n",
        "  encoder.adapt(train_dataset.map(lambda text, label: text))\n",
        "  return encoder"
      ],
      "metadata": {
        "id": "P2uV8KAw9K_m"
      },
      "execution_count": 62,
      "outputs": []
    },
    {
      "cell_type": "code",
      "source": [
        "VOCAB_SIZE = 1000\n",
        "EPOCH_SIZE = 200\n",
        "SEQ_LENGTH = 50 \n",
        "encoder1000_50 = get_encoder_with_seq_length(VOCAB_SIZE, SEQ_LENGTH)"
      ],
      "metadata": {
        "id": "u2B4edun-gFB"
      },
      "execution_count": 63,
      "outputs": []
    },
    {
      "cell_type": "code",
      "source": [
        "corpus1000_50, doc_sizes1000_50 = explore_vocab(train_dataset,encoder1000_50)"
      ],
      "metadata": {
        "id": "QujSio0h_DpE"
      },
      "execution_count": 64,
      "outputs": []
    },
    {
      "cell_type": "code",
      "source": [
        "vocab1000_50 = np.array(encoder1000_50.get_vocabulary())\n",
        "num_vocab_words_in_corpus =len(vocab1000_50)\n",
        "\n",
        "num_words =len(corpus1000_50)\n",
        "num_articles =len(doc_sizes1000_50)\n",
        "min_token_in_a_article = min(doc_sizes1000_50)\n",
        "max_token_in_a_article = max(doc_sizes1000_50)  \n",
        "\n",
        "print(num_vocab_words_in_corpus)\n",
        "print(num_words)\n",
        "print(num_articles)\n",
        "print(min_token_in_a_article)\n",
        "print(max_token_in_a_article)\n",
        "\n",
        "\"\"\"\n",
        "plt.figure(figsize=(15,9))\n",
        "plt.hist(doc_sizes1000_50, bins=20,range = (0,120))\n",
        "plt.xlabel(\"Tokens Per Document\")\n",
        "plt.ylabel(\"Number of AG News Articles\")\n",
        "\"\"\""
      ],
      "metadata": {
        "id": "qSXBZ1iF_JQs",
        "colab": {
          "base_uri": "https://localhost:8080/",
          "height": 140
        },
        "outputId": "d2f15752-594e-49d5-f330-67fbe94bd039"
      },
      "execution_count": 65,
      "outputs": [
        {
          "output_type": "stream",
          "name": "stdout",
          "text": [
            "1000\n",
            "114000\n",
            "1782\n",
            "16\n",
            "64\n"
          ]
        },
        {
          "output_type": "execute_result",
          "data": {
            "application/vnd.google.colaboratory.intrinsic+json": {
              "type": "string"
            },
            "text/plain": [
              "'\\nplt.figure(figsize=(15,9))\\nplt.hist(doc_sizes1000_50, bins=20,range = (0,120))\\nplt.xlabel(\"Tokens Per Document\")\\nplt.ylabel(\"Number of AG News Articles\")\\n'"
            ]
          },
          "metadata": {},
          "execution_count": 65
        }
      ]
    },
    {
      "cell_type": "code",
      "source": [
        "RNN1000_50 = creat_model(encoder1000_50)\n",
        "result1000_50 = compile_train_model(RNN1000_50, 200)"
      ],
      "metadata": {
        "id": "-WePjs9wAsS6",
        "colab": {
          "base_uri": "https://localhost:8080/",
          "height": 1000
        },
        "outputId": "f0a84b85-c4e6-4cd3-9498-9ac1432add1f"
      },
      "execution_count": 66,
      "outputs": [
        {
          "output_type": "stream",
          "name": "stdout",
          "text": [
            "Epoch 1/200\n",
            "1782/1782 [==============================] - 207s 111ms/step - loss: 0.6840 - accuracy: 0.7419 - val_loss: 0.4917 - val_accuracy: 0.8300\n",
            "Epoch 2/200\n",
            "1782/1782 [==============================] - 196s 110ms/step - loss: 0.4671 - accuracy: 0.8335 - val_loss: 0.4691 - val_accuracy: 0.8377\n",
            "Epoch 3/200\n",
            "1782/1782 [==============================] - 196s 110ms/step - loss: 0.4480 - accuracy: 0.8391 - val_loss: 0.4501 - val_accuracy: 0.8402\n",
            "Epoch 4/200\n",
            "1782/1782 [==============================] - 196s 110ms/step - loss: 0.4368 - accuracy: 0.8429 - val_loss: 0.4403 - val_accuracy: 0.8412\n",
            "Epoch 5/200\n",
            "1782/1782 [==============================] - 196s 110ms/step - loss: 0.4247 - accuracy: 0.8468 - val_loss: 0.4265 - val_accuracy: 0.8462\n",
            "Epoch 6/200\n",
            "1782/1782 [==============================] - 195s 110ms/step - loss: 0.4119 - accuracy: 0.8518 - val_loss: 0.4145 - val_accuracy: 0.8505\n",
            "Epoch 7/200\n",
            "1782/1782 [==============================] - 196s 110ms/step - loss: 0.3996 - accuracy: 0.8550 - val_loss: 0.4051 - val_accuracy: 0.8578\n",
            "Epoch 8/200\n",
            "1782/1782 [==============================] - 195s 109ms/step - loss: 0.3911 - accuracy: 0.8577 - val_loss: 0.4004 - val_accuracy: 0.8593\n",
            "Epoch 9/200\n",
            "1782/1782 [==============================] - 195s 109ms/step - loss: 0.3844 - accuracy: 0.8608 - val_loss: 0.3980 - val_accuracy: 0.8593\n",
            "Epoch 10/200\n",
            "1782/1782 [==============================] - 197s 110ms/step - loss: 0.3789 - accuracy: 0.8619 - val_loss: 0.3902 - val_accuracy: 0.8597\n",
            "Epoch 11/200\n",
            "1782/1782 [==============================] - 197s 111ms/step - loss: 0.3745 - accuracy: 0.8636 - val_loss: 0.3925 - val_accuracy: 0.8603\n",
            "Epoch 12/200\n",
            "1782/1782 [==============================] - 202s 113ms/step - loss: 0.3710 - accuracy: 0.8644 - val_loss: 0.3876 - val_accuracy: 0.8592\n",
            "Epoch 13/200\n",
            "1782/1782 [==============================] - 201s 112ms/step - loss: 0.3675 - accuracy: 0.8662 - val_loss: 0.3912 - val_accuracy: 0.8603\n",
            "119/119 [==============================] - 4s 31ms/step - loss: 0.3994 - accuracy: 0.8530\n",
            "test set accuracy:  85.30263304710388\n"
          ]
        },
        {
          "output_type": "stream",
          "name": "stderr",
          "text": [
            "/usr/local/lib/python3.7/dist-packages/ipykernel_launcher.py:37: SettingWithCopyWarning: \n",
            "A value is trying to be set on a copy of a slice from a DataFrame.\n",
            "Try using .loc[row_indexer,col_indexer] = value instead\n",
            "\n",
            "See the caveats in the documentation: https://pandas.pydata.org/pandas-docs/stable/user_guide/indexing.html#returning-a-view-versus-a-copy\n",
            "/usr/local/lib/python3.7/dist-packages/ipykernel_launcher.py:38: SettingWithCopyWarning: \n",
            "A value is trying to be set on a copy of a slice from a DataFrame.\n",
            "Try using .loc[row_indexer,col_indexer] = value instead\n",
            "\n",
            "See the caveats in the documentation: https://pandas.pydata.org/pandas-docs/stable/user_guide/indexing.html#returning-a-view-versus-a-copy\n",
            "/usr/local/lib/python3.7/dist-packages/ipykernel_launcher.py:39: SettingWithCopyWarning: \n",
            "A value is trying to be set on a copy of a slice from a DataFrame.\n",
            "Try using .loc[row_indexer,col_indexer] = value instead\n",
            "\n",
            "See the caveats in the documentation: https://pandas.pydata.org/pandas-docs/stable/user_guide/indexing.html#returning-a-view-versus-a-copy\n",
            "/usr/local/lib/python3.7/dist-packages/ipykernel_launcher.py:40: SettingWithCopyWarning: \n",
            "A value is trying to be set on a copy of a slice from a DataFrame.\n",
            "Try using .loc[row_indexer,col_indexer] = value instead\n",
            "\n",
            "See the caveats in the documentation: https://pandas.pydata.org/pandas-docs/stable/user_guide/indexing.html#returning-a-view-versus-a-copy\n",
            "/usr/local/lib/python3.7/dist-packages/ipykernel_launcher.py:41: SettingWithCopyWarning: \n",
            "A value is trying to be set on a copy of a slice from a DataFrame.\n",
            "Try using .loc[row_indexer,col_indexer] = value instead\n",
            "\n",
            "See the caveats in the documentation: https://pandas.pydata.org/pandas-docs/stable/user_guide/indexing.html#returning-a-view-versus-a-copy\n"
          ]
        },
        {
          "output_type": "display_data",
          "data": {
            "image/png": "[encoded data removed]",
            "text/plain": [
              "<Figure size 1152x288 with 2 Axes>"
            ]
          },
          "metadata": {
            "needs_background": "light"
          }
        }
      ]
    },
    {
      "cell_type": "code",
      "source": [
        "result1000_50['vocab_size'] = VOCAB_SIZE \n",
        "result1000_50['num_words'] = num_words \n",
        "result1000_50['num_articles'] = num_articles\n",
        "result1000_50['min_token_in_a_article'] = min_token_in_a_article \n",
        "result1000_50['max_token_in_a_article'] = max_token_in_a_article \n",
        "new_col = ['RNN with 1000 vocab size 50 output sequence length']   \n",
        "result1000_50.insert(loc=0, column='Model', value=new_col)\n",
        "#result1000_50"
      ],
      "metadata": {
        "id": "39O-eWVcAv68"
      },
      "execution_count": 67,
      "outputs": []
    },
    {
      "cell_type": "code",
      "source": [
        "assignment_result_table = assignment_result_table.append(result1000_50, ignore_index = True)\n",
        "assignment_result_table"
      ],
      "metadata": {
        "id": "ggfq1HyaAy-2",
        "colab": {
          "base_uri": "https://localhost:8080/",
          "height": 634
        },
        "outputId": "1e8f32c1-c43b-4a82-b6a2-e12212569acc"
      },
      "execution_count": 68,
      "outputs": [
        {
          "output_type": "execute_result",
          "data": {
            "text/html": [
              "\n",
              "  <div id=\"df-85181f2f-608e-49f2-8325-128b3dcad1e3\">\n",
              "    <div class=\"colab-df-container\">\n",
              "      <div>\n",
              "<style scoped>\n",
              "    .dataframe tbody tr th:only-of-type {\n",
              "        vertical-align: middle;\n",
              "    }\n",
              "\n",
              "    .dataframe tbody tr th {\n",
              "        vertical-align: top;\n",
              "    }\n",
              "\n",
              "    .dataframe thead th {\n",
              "        text-align: right;\n",
              "    }\n",
              "</style>\n",
              "<table border=\"1\" class=\"dataframe\">\n",
              "  <thead>\n",
              "    <tr style=\"text-align: right;\">\n",
              "      <th></th>\n",
              "      <th>Model</th>\n",
              "      <th>loss</th>\n",
              "      <th>accuracy</th>\n",
              "      <th>val_loss</th>\n",
              "      <th>val_accuracy</th>\n",
              "      <th>test_loss</th>\n",
              "      <th>test_accuracy</th>\n",
              "      <th>process_time</th>\n",
              "      <th>epochs_setting</th>\n",
              "      <th>epochs_actual</th>\n",
              "      <th>vocab_size</th>\n",
              "      <th>num_words</th>\n",
              "      <th>num_articles</th>\n",
              "      <th>min_token_in_a_article</th>\n",
              "      <th>max_token_in_a_article</th>\n",
              "    </tr>\n",
              "  </thead>\n",
              "  <tbody>\n",
              "    <tr>\n",
              "      <th>0</th>\n",
              "      <td>RNN with 1000 vocab size</td>\n",
              "      <td>0.377154</td>\n",
              "      <td>0.863553</td>\n",
              "      <td>0.388227</td>\n",
              "      <td>0.862333</td>\n",
              "      <td>0.400026</td>\n",
              "      <td>0.853684</td>\n",
              "      <td>2233.756780</td>\n",
              "      <td>200</td>\n",
              "      <td>8</td>\n",
              "      <td>1000</td>\n",
              "      <td>114000</td>\n",
              "      <td>1782</td>\n",
              "      <td>16</td>\n",
              "      <td>64</td>\n",
              "    </tr>\n",
              "    <tr>\n",
              "      <th>1</th>\n",
              "      <td>RNN with 2000 vocab size</td>\n",
              "      <td>0.291024</td>\n",
              "      <td>0.896395</td>\n",
              "      <td>0.350998</td>\n",
              "      <td>0.874000</td>\n",
              "      <td>0.355715</td>\n",
              "      <td>0.872105</td>\n",
              "      <td>3211.853945</td>\n",
              "      <td>200</td>\n",
              "      <td>12</td>\n",
              "      <td>2000</td>\n",
              "      <td>114000</td>\n",
              "      <td>1782</td>\n",
              "      <td>16</td>\n",
              "      <td>64</td>\n",
              "    </tr>\n",
              "    <tr>\n",
              "      <th>2</th>\n",
              "      <td>RNN with 3000 vocab size</td>\n",
              "      <td>0.267700</td>\n",
              "      <td>0.904658</td>\n",
              "      <td>0.322919</td>\n",
              "      <td>0.886833</td>\n",
              "      <td>0.329175</td>\n",
              "      <td>0.884342</td>\n",
              "      <td>1899.668785</td>\n",
              "      <td>200</td>\n",
              "      <td>7</td>\n",
              "      <td>3000</td>\n",
              "      <td>114000</td>\n",
              "      <td>1782</td>\n",
              "      <td>16</td>\n",
              "      <td>64</td>\n",
              "    </tr>\n",
              "    <tr>\n",
              "      <th>3</th>\n",
              "      <td>RNN with filtered vocab that deleting the most...</td>\n",
              "      <td>0.377646</td>\n",
              "      <td>0.860895</td>\n",
              "      <td>0.392394</td>\n",
              "      <td>0.856833</td>\n",
              "      <td>0.403119</td>\n",
              "      <td>0.847763</td>\n",
              "      <td>2881.808089</td>\n",
              "      <td>200</td>\n",
              "      <td>11</td>\n",
              "      <td>898</td>\n",
              "      <td>114000</td>\n",
              "      <td>1782</td>\n",
              "      <td>16</td>\n",
              "      <td>64</td>\n",
              "    </tr>\n",
              "    <tr>\n",
              "      <th>4</th>\n",
              "      <td>RNN with 1000 vocab size 50 output sequence le...</td>\n",
              "      <td>0.367516</td>\n",
              "      <td>0.866158</td>\n",
              "      <td>0.391233</td>\n",
              "      <td>0.860333</td>\n",
              "      <td>0.399400</td>\n",
              "      <td>0.853026</td>\n",
              "      <td>2606.611799</td>\n",
              "      <td>200</td>\n",
              "      <td>13</td>\n",
              "      <td>1000</td>\n",
              "      <td>114000</td>\n",
              "      <td>1782</td>\n",
              "      <td>16</td>\n",
              "      <td>64</td>\n",
              "    </tr>\n",
              "  </tbody>\n",
              "</table>\n",
              "</div>\n",
              "      <button class=\"colab-df-convert\" onclick=\"convertToInteractive('df-85181f2f-608e-49f2-8325-128b3dcad1e3')\"\n",
              "              title=\"Convert this dataframe to an interactive table.\"\n",
              "              style=\"display:none;\">\n",
              "        \n",
              "  <svg xmlns=\"http://www.w3.org/2000/svg\" height=\"24px\"viewBox=\"0 0 24 24\"\n",
              "       width=\"24px\">\n",
              "    <path d=\"M0 0h24v24H0V0z\" fill=\"none\"/>\n",
              "    <path d=\"M18.56 5.44l.94 2.06.94-2.06 2.06-.94-2.06-.94-.94-2.06-.94 2.06-2.06.94zm-11 1L8.5 8.5l.94-2.06 2.06-.94-2.06-.94L8.5 2.5l-.94 2.06-2.06.94zm10 10l.94 2.06.94-2.06 2.06-.94-2.06-.94-.94-2.06-.94 2.06-2.06.94z\"/><path d=\"M17.41 7.96l-1.37-1.37c-.4-.4-.92-.59-1.43-.59-.52 0-1.04.2-1.43.59L10.3 9.45l-7.72 7.72c-.78.78-.78 2.05 0 2.83L4 21.41c.39.39.9.59 1.41.59.51 0 1.02-.2 1.41-.59l7.78-7.78 2.81-2.81c.8-.78.8-2.07 0-2.86zM5.41 20L4 18.59l7.72-7.72 1.47 1.35L5.41 20z\"/>\n",
              "  </svg>\n",
              "      </button>\n",
              "      \n",
              "  <style>\n",
              "    .colab-df-container {\n",
              "      display:flex;\n",
              "      flex-wrap:wrap;\n",
              "      gap: 12px;\n",
              "    }\n",
              "\n",
              "    .colab-df-convert {\n",
              "      background-color: #E8F0FE;\n",
              "      border: none;\n",
              "      border-radius: 50%;\n",
              "      cursor: pointer;\n",
              "      display: none;\n",
              "      fill: #1967D2;\n",
              "      height: 32px;\n",
              "      padding: 0 0 0 0;\n",
              "      width: 32px;\n",
              "    }\n",
              "\n",
              "    .colab-df-convert:hover {\n",
              "      background-color: #E2EBFA;\n",
              "      box-shadow: 0px 1px 2px rgba(60, 64, 67, 0.3), 0px 1px 3px 1px rgba(60, 64, 67, 0.15);\n",
              "      fill: #174EA6;\n",
              "    }\n",
              "\n",
              "    [theme=dark] .colab-df-convert {\n",
              "      background-color: #3B4455;\n",
              "      fill: #D2E3FC;\n",
              "    }\n",
              "\n",
              "    [theme=dark] .colab-df-convert:hover {\n",
              "      background-color: #434B5C;\n",
              "      box-shadow: 0px 1px 3px 1px rgba(0, 0, 0, 0.15);\n",
              "      filter: drop-shadow(0px 1px 2px rgba(0, 0, 0, 0.3));\n",
              "      fill: #FFFFFF;\n",
              "    }\n",
              "  </style>\n",
              "\n",
              "      <script>\n",
              "        const buttonEl =\n",
              "          document.querySelector('#df-85181f2f-608e-49f2-8325-128b3dcad1e3 button.colab-df-convert');\n",
              "        buttonEl.style.display =\n",
              "          google.colab.kernel.accessAllowed ? 'block' : 'none';\n",
              "\n",
              "        async function convertToInteractive(key) {\n",
              "          const element = document.querySelector('#df-85181f2f-608e-49f2-8325-128b3dcad1e3');\n",
              "          const dataTable =\n",
              "            await google.colab.kernel.invokeFunction('convertToInteractive',\n",
              "                                                     [key], {});\n",
              "          if (!dataTable) return;\n",
              "\n",
              "          const docLinkHtml = 'Like what you see? Visit the ' +\n",
              "            '<a target=\"_blank\" href=https://colab.research.google.com/notebooks/data_table.ipynb>data table notebook</a>'\n",
              "            + ' to learn more about interactive tables.';\n",
              "          element.innerHTML = '';\n",
              "          dataTable['output_type'] = 'display_data';\n",
              "          await google.colab.output.renderOutput(dataTable, element);\n",
              "          const docLink = document.createElement('div');\n",
              "          docLink.innerHTML = docLinkHtml;\n",
              "          element.appendChild(docLink);\n",
              "        }\n",
              "      </script>\n",
              "    </div>\n",
              "  </div>\n",
              "  "
            ],
            "text/plain": [
              "                                               Model  ...  max_token_in_a_article\n",
              "0                           RNN with 1000 vocab size  ...                      64\n",
              "1                           RNN with 2000 vocab size  ...                      64\n",
              "2                           RNN with 3000 vocab size  ...                      64\n",
              "3  RNN with filtered vocab that deleting the most...  ...                      64\n",
              "4  RNN with 1000 vocab size 50 output sequence le...  ...                      64\n",
              "\n",
              "[5 rows x 15 columns]"
            ]
          },
          "metadata": {},
          "execution_count": 68
        }
      ]
    },
    {
      "cell_type": "markdown",
      "source": [
        "## Save data"
      ],
      "metadata": {
        "id": "UeZjVGEg5_2K"
      }
    },
    {
      "cell_type": "code",
      "source": [
        "assignment_result_table.to_pickle(\"resultsA.pkl\") \n",
        "assignment_result_table.to_csv(\"resultsA.csv\") "
      ],
      "metadata": {
        "id": "NamBFDFZ59Fm"
      },
      "execution_count": 73,
      "outputs": []
    },
    {
      "cell_type": "code",
      "source": [
        "from google.colab import drive\n",
        "drive.mount('/content/gdrive')"
      ],
      "metadata": {
        "id": "4n6Yft1Kc3B6",
        "outputId": "821a0153-1036-45c1-8bd2-66ff2fc067ba",
        "colab": {
          "base_uri": "https://localhost:8080/"
        }
      },
      "execution_count": 76,
      "outputs": [
        {
          "output_type": "stream",
          "name": "stdout",
          "text": [
            "Mounted at /content/gdrive\n"
          ]
        }
      ]
    },
    {
      "cell_type": "code",
      "source": [
        "assignment_result_table.to_pickle('/content/gdrive/My Drive/Colab Notebooks/resultsA.pkl')\n",
        "assignment_result_table.to_csv('/content/gdrive/My Drive/Colab Notebooks/resultsA.csv')"
      ],
      "metadata": {
        "id": "91BlRjfM58PA"
      },
      "execution_count": 77,
      "outputs": []
    }
  ]
}