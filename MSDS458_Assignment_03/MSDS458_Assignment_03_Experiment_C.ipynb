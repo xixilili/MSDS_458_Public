{
  "nbformat": 4,
  "nbformat_minor": 0,
  "metadata": {
    "colab": {
      "name": "MSDS458_Assignment_03_Experiment_C.ipynb",
      "provenance": [],
      "authorship_tag": "ABX9TyP5OVdvkK++YWV/5jr7u8v/",
      "include_colab_link": true
    },
    "kernelspec": {
      "name": "python3",
      "display_name": "Python 3"
    },
    "language_info": {
      "name": "python"
    }
  },
  "cells": [
    {
      "cell_type": "markdown",
      "metadata": {
        "id": "view-in-github",
        "colab_type": "text"
      },
      "source": [
        "<a href=\"https://colab.research.google.com/github/xixilili/MSDS_458_Public/blob/master/MSDS458_Assignment_03/MSDS458_Assignment_03_Experiment_C.ipynb\" target=\"_parent\"><img src=\"https://colab.research.google.com/assets/colab-badge.svg\" alt=\"Open In Colab\"/></a>"
      ]
    },
    {
      "cell_type": "markdown",
      "source": [
        "## Experiments C: LSTM: \n",
        "Try several experiments by tweaking (i) architecture (ii) Bidirectional/unidirectional & other hyper parameters, including regularization."
      ],
      "metadata": {
        "id": "OhtHSch636HH"
      }
    },
    {
      "cell_type": "markdown",
      "source": [
        "### Mount Google Drive"
      ],
      "metadata": {
        "id": "Yloe5Pb6gZTX"
      }
    },
    {
      "cell_type": "code",
      "source": [
        "from google.colab import drive\n",
        "drive.mount('/content/gdrive')"
      ],
      "metadata": {
        "outputId": "c17f7674-7805-48a4-84bd-c0421f97433e",
        "colab": {
          "base_uri": "https://localhost:8080/"
        },
        "id": "RtfIlyArgZTZ"
      },
      "execution_count": 1,
      "outputs": [
        {
          "output_type": "stream",
          "name": "stdout",
          "text": [
            "Mounted at /content/gdrive\n"
          ]
        }
      ]
    },
    {
      "cell_type": "markdown",
      "source": [
        "### Load Package"
      ],
      "metadata": {
        "id": "LYpO5EAqAJOm"
      }
    },
    {
      "cell_type": "code",
      "execution_count": 2,
      "metadata": {
        "id": "0SgixklFh2Fb"
      },
      "outputs": [],
      "source": [
        "import datetime\n",
        "from packaging import version\n",
        "from collections import Counter\n",
        "import numpy as np\n",
        "import pandas as pd\n",
        "import time\n",
        "\n",
        "import matplotlib.pyplot as plt\n",
        "import matplotlib as mpl\n",
        "import seaborn as sns\n",
        "\n",
        "from sklearn.metrics import confusion_matrix, classification_report\n",
        "from sklearn.preprocessing import StandardScaler\n",
        "from sklearn.decomposition import PCA\n",
        "from sklearn.manifold import TSNE\n",
        "from sklearn.ensemble import RandomForestClassifier\n",
        "from sklearn.metrics import mean_squared_error as MSE\n",
        "from sklearn.metrics import accuracy_score\n",
        "\n",
        "import tensorflow as tf\n",
        "from tensorflow import keras\n",
        "import tensorflow_datasets as tfds"
      ]
    },
    {
      "cell_type": "markdown",
      "source": [
        "### Load and Process Data"
      ],
      "metadata": {
        "id": "5JmX9O_SAF5i"
      }
    },
    {
      "cell_type": "code",
      "source": [
        "# register  ag_news_subset so that tfds.load doesn't generate a checksum (mismatch) error\n",
        "!python -m tensorflow_datasets.scripts.download_and_prepare --register_checksums --datasets=ag_news_subset\n",
        "\n",
        "# Example Approaches to Split Data Set\n",
        "# dataset, info = tfds.load('ag_news_subset', with_info=True,  split=['train[:]','test[:1000]', 'test[1000:]'],\n",
        "dataset, info = tfds.load('ag_news_subset', with_info=True,  split=['train[:95%]','train[95%:]', 'test[:]'],\n",
        "# dataset, info = tfds.load('ag_news_subset', with_info=True,  split=['train[:114000]','train[114000:]', 'test[:]'],\n",
        "                          as_supervised=True)\n",
        "train_dataset, validation_dataset, test_dataset = dataset\n",
        "# train_dataset, test_dataset = dataset['train'],dataset['test']"
      ],
      "metadata": {
        "colab": {
          "base_uri": "https://localhost:8080/"
        },
        "id": "GuL0XQrvh3hy",
        "outputId": "8e0f0af8-a994-4ef4-f2c9-c05b9233ff80"
      },
      "execution_count": 3,
      "outputs": [
        {
          "output_type": "stream",
          "name": "stdout",
          "text": [
            "2022-02-19 07:46:22.930795: E tensorflow/stream_executor/cuda/cuda_driver.cc:271] failed call to cuInit: CUDA_ERROR_NO_DEVICE: no CUDA-capable device is detected\n",
            "I0219 07:46:22.931579 140616180631424 download_and_prepare.py:200] Running download_and_prepare for dataset(s):\n",
            "ag_news_subset\n",
            "I0219 07:46:23.555259 140616180631424 dataset_info.py:434] Load pre-computed DatasetInfo (eg: splits, num examples,...) from GCS: ag_news_subset/1.0.0\n",
            "I0219 07:46:24.523177 140616180631424 dataset_info.py:361] Load dataset info from /tmp/tmp1xb2qr3mtfds\n",
            "I0219 07:46:24.525441 140616180631424 download_and_prepare.py:138] download_and_prepare for dataset ag_news_subset/1.0.0...\n",
            "I0219 07:46:24.525929 140616180631424 dataset_builder.py:357] Generating dataset ag_news_subset (/root/tensorflow_datasets/ag_news_subset/1.0.0)\n",
            "\u001b[1mDownloading and preparing dataset ag_news_subset/1.0.0 (download: 11.24 MiB, generated: 35.79 MiB, total: 47.03 MiB) to /root/tensorflow_datasets/ag_news_subset/1.0.0...\u001b[0m\n",
            "Dl Completed...: 0 url [00:00, ? url/s]\n",
            "Dl Size...: 0 MiB [00:00, ? MiB/s]\u001b[A\n",
            "\n",
            "Extraction completed...: 0 file [00:00, ? file/s]\u001b[A\u001b[AI0219 07:46:25.158340 140616180631424 download_manager.py:476] Downloading https://drive.google.com/uc?export=download&id=0Bz8a_Dbh9QhbUDNpeUdjb0wxRms into /root/tensorflow_datasets/downloads/ucexport_download_id_0Bz8a_Dbh9QhbUDNpeUdjb0wxj4g1umFAV8OV-uDwxSJR0LdxO_k1jxMuFWwAfNX9jos.tmp.04de151a060f43628b00599399f8cf67...\n",
            "Dl Completed...:   0% 0/1 [00:00<?, ? url/s]\n",
            "Dl Size...: 0 MiB [00:00, ? MiB/s]\u001b[A\n",
            "\n",
            "Dl Completed...:   0% 0/1 [00:11<?, ? url/s]\n",
            "Dl Size...:   0% 0/11 [00:11<?, ? MiB/s]\u001b[A\n",
            "\n",
            "Extraction completed...: 0 file [00:11, ? file/s]\u001b[A\u001b[A\n",
            "Dl Completed...:   0% 0/1 [00:11<?, ? url/s]\n",
            "Dl Size...:   9% 1/11 [00:11<01:50, 11.08s/ MiB]\u001b[A\n",
            "\n",
            "Dl Completed...:   0% 0/1 [00:11<?, ? url/s]\n",
            "Dl Size...:  18% 2/11 [00:11<01:39, 11.08s/ MiB]\u001b[A\n",
            "\n",
            "Dl Completed...:   0% 0/1 [00:11<?, ? url/s]\n",
            "Dl Size...:  27% 3/11 [00:11<01:28, 11.08s/ MiB]\u001b[A\n",
            "\n",
            "Dl Completed...:   0% 0/1 [00:11<?, ? url/s]\n",
            "Dl Size...:  36% 4/11 [00:11<01:17, 11.08s/ MiB]\u001b[A\n",
            "\n",
            "Dl Completed...:   0% 0/1 [00:11<?, ? url/s]\n",
            "Dl Size...:  45% 5/11 [00:11<01:06, 11.08s/ MiB]\u001b[A\n",
            "\n",
            "Dl Completed...:   0% 0/1 [00:11<?, ? url/s]\n",
            "Dl Size...:  55% 6/11 [00:11<00:55, 11.08s/ MiB]\u001b[A\n",
            "\n",
            "Dl Completed...:   0% 0/1 [00:11<?, ? url/s]\n",
            "Dl Size...:  64% 7/11 [00:11<00:44, 11.08s/ MiB]\u001b[A\n",
            "\n",
            "Dl Completed...:   0% 0/1 [00:11<?, ? url/s]\n",
            "Dl Size...:  73% 8/11 [00:11<00:33, 11.08s/ MiB]\u001b[A\n",
            "\n",
            "Dl Completed...:   0% 0/1 [00:11<?, ? url/s]\n",
            "Dl Size...:  82% 9/11 [00:11<00:22, 11.08s/ MiB]\u001b[A\n",
            "\n",
            "Extraction completed...: 0 file [00:11, ? file/s]\u001b[A\u001b[A\n",
            "Dl Completed...:   0% 0/1 [00:11<?, ? url/s]\n",
            "Dl Size...:  91% 10/11 [00:11<00:00,  1.23 MiB/s]\u001b[A\n",
            "\n",
            "Dl Completed...:   0% 0/1 [00:11<?, ? url/s]\n",
            "Dl Size...: 100% 11/11 [00:11<00:00,  1.23 MiB/s]\u001b[A\n",
            "\n",
            "Dl Completed...: 100% 1/1 [00:11<00:00, 11.20s/ url]\n",
            "Dl Size...: 100% 11/11 [00:11<00:00,  1.23 MiB/s]\u001b[A\n",
            "\n",
            "Dl Completed...: 100% 1/1 [00:11<00:00, 11.20s/ url]\n",
            "Dl Size...: 100% 11/11 [00:11<00:00,  1.23 MiB/s]\u001b[A\n",
            "\n",
            "Extraction completed...:   0% 0/1 [00:11<?, ? file/s]\u001b[A\u001b[A\n",
            "\n",
            "Dl Completed...: 100% 1/1 [00:11<00:00, 11.20s/ url]\n",
            "Dl Size...: 100% 11/11 [00:11<00:00,  1.23 MiB/s]\u001b[A\n",
            "\n",
            "Extraction completed...: 100% 1/1 [00:11<00:00, 11.62s/ file]\u001b[A\u001b[A\n",
            "Extraction completed...: 100% 1/1 [00:11<00:00, 11.62s/ file]\n",
            "\n",
            "Dl Size...: 100% 11/11 [00:11<00:00,  1.06s/ MiB]\n",
            "\n",
            "Dl Completed...: 100% 1/1 [00:11<00:00, 11.62s/ url]\n",
            "I0219 07:46:36.774032 140616180631424 dataset_builder.py:970] Generating split train\n",
            "Shuffling and writing examples to /root/tensorflow_datasets/ag_news_subset/1.0.0.incompleteIUA1J6/ag_news_subset-train.tfrecord\n",
            " 67% 80773/120000 [00:00<00:00, 267363.97 examples/s]I0219 07:47:03.586610 140616180631424 tfrecords_writer.py:226] Done writing /root/tensorflow_datasets/ag_news_subset/1.0.0.incompleteIUA1J6/ag_news_subset-train.tfrecord. Shard lengths: [120000]\n",
            "I0219 07:47:03.604585 140616180631424 dataset_builder.py:970] Generating split test\n",
            "Shuffling and writing examples to /root/tensorflow_datasets/ag_news_subset/1.0.0.incompleteIUA1J6/ag_news_subset-test.tfrecord\n",
            "  0% 0/7600 [00:00<?, ? examples/s]I0219 07:47:05.302621 140616180631424 tfrecords_writer.py:226] Done writing /root/tensorflow_datasets/ag_news_subset/1.0.0.incompleteIUA1J6/ag_news_subset-test.tfrecord. Shard lengths: [7600]\n",
            "I0219 07:47:05.305655 140616180631424 dataset_builder.py:412] Skipping computing stats for mode ComputeStatsMode.SKIP.\n",
            "\u001b[1mDataset ag_news_subset downloaded and prepared to /root/tensorflow_datasets/ag_news_subset/1.0.0. Subsequent calls will reuse this data.\u001b[0m\n",
            "\u001b[1mname: \"ag_news_subset\"\n",
            "description: \"AG is a collection of more than 1 million news articles.\\nNews articles have been gathered from more than 2000  news sources by ComeToMyHead in more than 1 year of activity.\\nComeToMyHead is an academic news search engine which has been running since July, 2004.\\nThe dataset is provided by the academic comunity for research purposes in data mining (clustering, classification, etc),\\ninformation retrieval (ranking, search, etc), xml, data compression, data streaming,\\nand any other non-commercial activity.\\nFor more information, please refer to the link http://www.di.unipi.it/~gulli/AG_corpus_of_news_articles.html .\\n\\nThe AG\\'s news topic classification dataset is constructed by Xiang Zhang (xiang.zhang@nyu.edu) from the dataset above.\\nIt is used as a text classification benchmark in the following paper:\\nXiang Zhang, Junbo Zhao, Yann LeCun. Character-level Convolutional Networks for Text Classification. Advances in Neural Information Processing Systems 28 (NIPS 2015).\\n\\nThe AG\\'s news topic classification dataset is constructed by choosing 4 largest classes from the original corpus.\\nEach class contains 30,000 training samples and 1,900 testing samples.\\nThe total number of training samples is 120,000 and testing 7,600.\"\n",
            "citation: \"@misc{zhang2015characterlevel,\\n    title={Character-level Convolutional Networks for Text Classification},\\n    author={Xiang Zhang and Junbo Zhao and Yann LeCun},\\n    year={2015},\\n    eprint={1509.01626},\\n    archivePrefix={arXiv},\\n    primaryClass={cs.LG}\\n}\"\n",
            "location {\n",
            "  urls: \"https://arxiv.org/abs/1509.01626\"\n",
            "}\n",
            "splits {\n",
            "  name: \"test\"\n",
            "  shard_lengths: 7600\n",
            "  num_bytes: 2226751\n",
            "}\n",
            "splits {\n",
            "  name: \"train\"\n",
            "  shard_lengths: 120000\n",
            "  num_bytes: 35301386\n",
            "}\n",
            "supervised_keys {\n",
            "  input: \"description\"\n",
            "  output: \"label\"\n",
            "}\n",
            "version: \"1.0.0\"\n",
            "download_size: 11784327\n",
            "\u001b[0m\n"
          ]
        }
      ]
    },
    {
      "cell_type": "code",
      "source": [
        "BUFFER_SIZE = 10000\n",
        "BATCH_SIZE = 64\n",
        "train_dataset = train_dataset.shuffle(BUFFER_SIZE).batch(BATCH_SIZE).prefetch(tf.data.experimental.AUTOTUNE)\n",
        "validation_dataset = validation_dataset.shuffle(BUFFER_SIZE).batch(BATCH_SIZE).prefetch(tf.data.experimental.AUTOTUNE)\n",
        "test_dataset = test_dataset.batch(BATCH_SIZE).prefetch(tf.data.experimental.AUTOTUNE)"
      ],
      "metadata": {
        "id": "3TvvsyRLn8mE"
      },
      "execution_count": 4,
      "outputs": []
    },
    {
      "cell_type": "markdown",
      "source": [
        "### Explore Vocab"
      ],
      "metadata": {
        "id": "1lSxL5sP_8gg"
      }
    },
    {
      "cell_type": "code",
      "source": [
        "def explore_vocab(train_dataset,encoder):\n",
        "  doc_sizes = []\n",
        "  corpus = []\n",
        "  for example, _ in train_dataset.as_numpy_iterator():\n",
        "    enc_example = encoder(example)\n",
        "    doc_sizes.append(len(enc_example))\n",
        "    corpus+=list(enc_example.numpy())\n",
        "  return  corpus, doc_sizes"
      ],
      "metadata": {
        "id": "ThWn4Vuj_9Il"
      },
      "execution_count": 5,
      "outputs": []
    },
    {
      "cell_type": "markdown",
      "source": [
        "### Compile, Train Model"
      ],
      "metadata": {
        "id": "90gEMg-5AT8I"
      }
    },
    {
      "cell_type": "code",
      "source": [
        "def namestr(obj, namespace):\n",
        "  for name in namespace:\n",
        "    if namespace[name] is obj:\n",
        "      return name"
      ],
      "metadata": {
        "id": "ovWMn7oP49ax"
      },
      "execution_count": 6,
      "outputs": []
    },
    {
      "cell_type": "code",
      "source": [
        "import datetime as dt\n",
        "\n",
        "def compile_train_model(model, epoch):\n",
        "  #compile model\n",
        "  model.compile(optimizer=tf.keras.optimizers.Adam(1e-4)\n",
        "              ,loss=tf.keras.losses.SparseCategoricalCrossentropy() # if we set from_logits=True we don not have specify a softmax activation function in the last layer\n",
        "              ,metrics=['accuracy'])\n",
        "\n",
        "  start_datetime = dt.datetime.now()\n",
        "\n",
        "  #train model  \n",
        "  history = model.fit(train_dataset\n",
        "                    ,epochs = epoch\n",
        "                    ,validation_data=validation_dataset\n",
        "                    ,callbacks=[tf.keras.callbacks.EarlyStopping(monitor='val_accuracy', patience=2)]\n",
        "                    )\n",
        "\n",
        "\n",
        "  #evaluate model\n",
        "  loss, accuracy = model.evaluate(test_dataset)\n",
        "  print('test set accuracy: ', accuracy * 100)\n",
        "\n",
        "  runtime = (dt.datetime.now() - start_datetime).total_seconds()\n",
        "\n",
        "  #training and validation performance metrix\n",
        "  history_dict = history.history\n",
        "  history_df=pd.DataFrame(history_dict)\n",
        "\n",
        "  #loss and accuracy for training and validation data\n",
        "  losses = history.history['loss']\n",
        "  accs = history.history['accuracy']\n",
        "  val_losses = history.history['val_loss']\n",
        "  val_accs = history.history['val_accuracy']\n",
        "  epochs = len(losses)\n",
        "\n",
        "  result = history_df.tail(1)\n",
        "  result['test_loss'] = loss\n",
        "  result['test_accuracy'] = accuracy\n",
        "  result['process_time'] = runtime\n",
        "  result['epochs_setting'] = epoch  \n",
        "  result['epochs_actual'] = epochs    \n",
        "\n",
        "  plt.figure(figsize=(16, 4))\n",
        "  for i, metrics in enumerate(zip([losses, accs], [val_losses, val_accs], ['Loss', 'Accuracy'])):\n",
        "      plt.subplot(1, 2, i + 1)\n",
        "      plt.plot(range(epochs), metrics[0], label='Training {}'.format(metrics[2]))\n",
        "      plt.plot(range(epochs), metrics[1], label='Validation {}'.format(metrics[2]))\n",
        "      plt.legend()\n",
        "      plt.title('{0} with {1} epochs'.format(namestr(model, globals()), epoch))   \n",
        "  plt.show()  \n",
        "\n",
        "  return result"
      ],
      "metadata": {
        "id": "UjhVCFgv49_Y"
      },
      "execution_count": 7,
      "outputs": []
    },
    {
      "cell_type": "markdown",
      "source": [
        "## LSTM"
      ],
      "metadata": {
        "id": "_GCY9AFnAOZC"
      }
    },
    {
      "cell_type": "markdown",
      "source": [
        "### Encoder"
      ],
      "metadata": {
        "id": "rPRzfy0WAiHe"
      }
    },
    {
      "cell_type": "code",
      "source": [
        "VOCAB_SIZE = 1000\n",
        "encoder = tf.keras.layers.experimental.preprocessing.TextVectorization(max_tokens=VOCAB_SIZE)\n",
        "encoder.adapt(train_dataset.map(lambda text, label: text))\n",
        "vocab = np.array(encoder.get_vocabulary());"
      ],
      "metadata": {
        "id": "0VTr_D3Ih58z"
      },
      "execution_count": 8,
      "outputs": []
    },
    {
      "cell_type": "code",
      "source": [
        "corpus, doc_sizes = explore_vocab(train_dataset,encoder)"
      ],
      "metadata": {
        "id": "CLxwhIkt_xnW"
      },
      "execution_count": 9,
      "outputs": []
    },
    {
      "cell_type": "code",
      "source": [
        "vocab = np.array(encoder.get_vocabulary())\n",
        "num_vocab_words_in_corpus =len(vocab)\n",
        "\n",
        "num_words =len(corpus)\n",
        "num_articles =len(doc_sizes)\n",
        "min_token_in_a_article = min(doc_sizes)\n",
        "max_token_in_a_article = max(doc_sizes)  \n",
        "\n",
        "print(num_vocab_words_in_corpus)\n",
        "print(num_words)\n",
        "print(num_articles)\n",
        "print(min_token_in_a_article)\n",
        "print(max_token_in_a_article)"
      ],
      "metadata": {
        "id": "sgfSVziC45oB",
        "colab": {
          "base_uri": "https://localhost:8080/"
        },
        "outputId": "b30daf85-1cc9-43e6-9cd6-a4cbfd88c080"
      },
      "execution_count": 10,
      "outputs": [
        {
          "output_type": "stream",
          "name": "stdout",
          "text": [
            "1000\n",
            "114000\n",
            "18\n",
            "5200\n",
            "6400\n"
          ]
        }
      ]
    },
    {
      "cell_type": "markdown",
      "source": [
        "### Create Model"
      ],
      "metadata": {
        "id": "VfFgnFGaAZMb"
      }
    },
    {
      "cell_type": "code",
      "source": [
        "LSTM = tf.keras.Sequential([\n",
        "                              encoder\n",
        "                              ,tf.keras.layers.Embedding(input_dim=len(encoder.get_vocabulary()),output_dim=64,mask_zero=True)\n",
        "                              ,tf.keras.layers.LSTM(units = 64)\n",
        "                              ,tf.keras.layers.Dense(64, activation='relu')\n",
        "                              ,tf.keras.layers.Dense(4,activation='softmax')   # num_classes = 4\n",
        "])\n"
      ],
      "metadata": {
        "id": "QQjvzY9i8tvY"
      },
      "execution_count": 11,
      "outputs": []
    },
    {
      "cell_type": "code",
      "source": [
        "Multiplelayer_LSTM = tf.keras.Sequential([\n",
        "                              encoder\n",
        "                              ,tf.keras.layers.Embedding(input_dim=len(encoder.get_vocabulary()),output_dim=64,mask_zero=True)\n",
        "                              ,tf.keras.layers.LSTM(units = 64, return_sequences=True)                              \n",
        "                              ,tf.keras.layers.LSTM(units = 64)\n",
        "                              ,tf.keras.layers.Dense(64, activation='relu')\n",
        "                              ,tf.keras.layers.Dense(4,activation='softmax')   # num_classes = 4\n",
        "])"
      ],
      "metadata": {
        "id": "bCrG8NNdDLd9"
      },
      "execution_count": 12,
      "outputs": []
    },
    {
      "cell_type": "code",
      "source": [
        "BidirectionalLSTM = tf.keras.Sequential([\n",
        "                              encoder\n",
        "                              ,tf.keras.layers.Embedding(input_dim=len(encoder.get_vocabulary()),output_dim=64,mask_zero=True)\n",
        "                              ,tf.keras.layers.Bidirectional(tf.keras.layers.LSTM(64)) \n",
        "                              ,tf.keras.layers.Dense(64, activation='relu')\n",
        "                              ,tf.keras.layers.Dense(4,activation='softmax')   # num_classes = 4\n",
        "])"
      ],
      "metadata": {
        "id": "bXIenFUhC27z"
      },
      "execution_count": 13,
      "outputs": []
    },
    {
      "cell_type": "code",
      "source": [
        "Multiplelayer_BidirectionalLSTM = tf.keras.Sequential([\n",
        "                              encoder\n",
        "                              ,tf.keras.layers.Embedding(input_dim=len(encoder.get_vocabulary()),output_dim=64,mask_zero=True)\n",
        "                              ,tf.keras.layers.Bidirectional(tf.keras.layers.LSTM(64,  return_sequences=True))\n",
        "                              ,tf.keras.layers.Bidirectional(tf.keras.layers.LSTM(32))\n",
        "                              ,tf.keras.layers.Dense(64, activation='relu')\n",
        "                              ,tf.keras.layers.Dense(4,activation='softmax')   # num_classes = 4\n",
        "])"
      ],
      "metadata": {
        "id": "G-jH8Ui_D24M"
      },
      "execution_count": 14,
      "outputs": []
    },
    {
      "cell_type": "code",
      "source": [
        "Multiplelayer_BidirectionalLSTM_Dropout = tf.keras.Sequential([\n",
        "                              encoder\n",
        "                              ,tf.keras.layers.Embedding(input_dim=len(encoder.get_vocabulary()),output_dim=64,mask_zero=True)\n",
        "                              ,tf.keras.layers.Bidirectional(tf.keras.layers.LSTM(64, return_sequences=True, recurrent_dropout=0.25))\n",
        "                              ,tf.keras.layers.Bidirectional(tf.keras.layers.LSTM(32))\n",
        "                              ,tf.keras.layers.Dense(64, activation='relu')\n",
        "                              ,tf.keras.layers.Dropout(0.5)                              \n",
        "                              ,tf.keras.layers.Dense(4,activation='softmax')   # num_classes = 4\n",
        "])"
      ],
      "metadata": {
        "id": "wLTuacyBENMn"
      },
      "execution_count": 15,
      "outputs": []
    },
    {
      "cell_type": "markdown",
      "source": [
        "Recurrent dropout—This is a variant of dropout, used to fight overfitting in recurrent layers.\n",
        "Stacking recurrent layers—This increases the representational power of the model (at the cost of higher computational loads).\n",
        "Bidirectional recurrent layers—These present the same information to a recurrent network in different ways, increasing accuracy and mitigating forgetting issues."
      ],
      "metadata": {
        "id": "Gm4ERXjtE8gG"
      }
    },
    {
      "cell_type": "markdown",
      "source": [
        "### LSTM"
      ],
      "metadata": {
        "id": "WiBq5Zt9DXPZ"
      }
    },
    {
      "cell_type": "code",
      "source": [
        "result_LSTM = compile_train_model(LSTM, 200)"
      ],
      "metadata": {
        "id": "sns01SJr4vA-",
        "colab": {
          "base_uri": "https://localhost:8080/",
          "height": 818
        },
        "outputId": "f06c4013-a16c-4cc0-90e8-208fe5cc2471"
      },
      "execution_count": 16,
      "outputs": [
        {
          "output_type": "stream",
          "name": "stdout",
          "text": [
            "Epoch 1/2\n",
            "18/18 [==============================] - 174s 9s/step - loss: 1.3856 - accuracy: 0.3004 - val_loss: 1.3846 - val_accuracy: 0.3425\n",
            "Epoch 2/2\n",
            "18/18 [==============================] - 149s 8s/step - loss: 1.3836 - accuracy: 0.3686 - val_loss: 1.3820 - val_accuracy: 0.3988\n",
            "2/2 [==============================] - 3s 507ms/step - loss: 1.3823 - accuracy: 0.3892\n",
            "test set accuracy:  38.92105221748352\n"
          ]
        },
        {
          "output_type": "stream",
          "name": "stderr",
          "text": [
            "/usr/local/lib/python3.7/dist-packages/ipykernel_launcher.py:37: SettingWithCopyWarning: \n",
            "A value is trying to be set on a copy of a slice from a DataFrame.\n",
            "Try using .loc[row_indexer,col_indexer] = value instead\n",
            "\n",
            "See the caveats in the documentation: https://pandas.pydata.org/pandas-docs/stable/user_guide/indexing.html#returning-a-view-versus-a-copy\n",
            "/usr/local/lib/python3.7/dist-packages/ipykernel_launcher.py:38: SettingWithCopyWarning: \n",
            "A value is trying to be set on a copy of a slice from a DataFrame.\n",
            "Try using .loc[row_indexer,col_indexer] = value instead\n",
            "\n",
            "See the caveats in the documentation: https://pandas.pydata.org/pandas-docs/stable/user_guide/indexing.html#returning-a-view-versus-a-copy\n",
            "/usr/local/lib/python3.7/dist-packages/ipykernel_launcher.py:39: SettingWithCopyWarning: \n",
            "A value is trying to be set on a copy of a slice from a DataFrame.\n",
            "Try using .loc[row_indexer,col_indexer] = value instead\n",
            "\n",
            "See the caveats in the documentation: https://pandas.pydata.org/pandas-docs/stable/user_guide/indexing.html#returning-a-view-versus-a-copy\n",
            "/usr/local/lib/python3.7/dist-packages/ipykernel_launcher.py:40: SettingWithCopyWarning: \n",
            "A value is trying to be set on a copy of a slice from a DataFrame.\n",
            "Try using .loc[row_indexer,col_indexer] = value instead\n",
            "\n",
            "See the caveats in the documentation: https://pandas.pydata.org/pandas-docs/stable/user_guide/indexing.html#returning-a-view-versus-a-copy\n",
            "/usr/local/lib/python3.7/dist-packages/ipykernel_launcher.py:41: SettingWithCopyWarning: \n",
            "A value is trying to be set on a copy of a slice from a DataFrame.\n",
            "Try using .loc[row_indexer,col_indexer] = value instead\n",
            "\n",
            "See the caveats in the documentation: https://pandas.pydata.org/pandas-docs/stable/user_guide/indexing.html#returning-a-view-versus-a-copy\n"
          ]
        },
        {
          "output_type": "display_data",
          "data": {
            "image/png": "[encoded data removed]",
            "text/plain": [
              "<Figure size 1152x288 with 2 Axes>"
            ]
          },
          "metadata": {
            "needs_background": "light"
          }
        }
      ]
    },
    {
      "cell_type": "code",
      "source": [
        "result_LSTM['vocab_size'] = VOCAB_SIZE \n",
        "result_LSTM['num_words'] = num_words \n",
        "result_LSTM['num_articles'] = num_articles\n",
        "result_LSTM['min_token_in_a_article'] = min_token_in_a_article \n",
        "result_LSTM['max_token_in_a_article'] = max_token_in_a_article \n",
        "new_col = ['LSTM']   \n",
        "result_LSTM.insert(loc=0, column='Model', value=new_col)"
      ],
      "metadata": {
        "id": "zEyeashQ5Rtg"
      },
      "execution_count": 17,
      "outputs": []
    },
    {
      "cell_type": "code",
      "source": [
        "prev_results_df = pd.read_pickle('/content/gdrive/My Drive/Colab Notebooks/resultsB.pkl')\n",
        "assignment_result_table = prev_results_df.append(result_LSTM,ignore_index=True)\n",
        "assignment_result_table"
      ],
      "metadata": {
        "id": "edYIaB3C_Khx",
        "colab": {
          "base_uri": "https://localhost:8080/",
          "height": 840
        },
        "outputId": "26e14341-6525-4824-dd83-9537456ff0ec"
      },
      "execution_count": 18,
      "outputs": [
        {
          "output_type": "execute_result",
          "data": {
            "text/html": [
              "\n",
              "  <div id=\"df-c1020d10-5859-4b91-a07d-714c01d647e9\">\n",
              "    <div class=\"colab-df-container\">\n",
              "      <div>\n",
              "<style scoped>\n",
              "    .dataframe tbody tr th:only-of-type {\n",
              "        vertical-align: middle;\n",
              "    }\n",
              "\n",
              "    .dataframe tbody tr th {\n",
              "        vertical-align: top;\n",
              "    }\n",
              "\n",
              "    .dataframe thead th {\n",
              "        text-align: right;\n",
              "    }\n",
              "</style>\n",
              "<table border=\"1\" class=\"dataframe\">\n",
              "  <thead>\n",
              "    <tr style=\"text-align: right;\">\n",
              "      <th></th>\n",
              "      <th>Model</th>\n",
              "      <th>loss</th>\n",
              "      <th>accuracy</th>\n",
              "      <th>val_loss</th>\n",
              "      <th>val_accuracy</th>\n",
              "      <th>test_loss</th>\n",
              "      <th>test_accuracy</th>\n",
              "      <th>process_time</th>\n",
              "      <th>epochs_setting</th>\n",
              "      <th>epochs_actual</th>\n",
              "      <th>vocab_size</th>\n",
              "      <th>num_words</th>\n",
              "      <th>num_articles</th>\n",
              "      <th>min_token_in_a_article</th>\n",
              "      <th>max_token_in_a_article</th>\n",
              "    </tr>\n",
              "  </thead>\n",
              "  <tbody>\n",
              "    <tr>\n",
              "      <th>0</th>\n",
              "      <td>RNN with 1000 vocab size</td>\n",
              "      <td>0.377154</td>\n",
              "      <td>0.863553</td>\n",
              "      <td>0.388227</td>\n",
              "      <td>0.862333</td>\n",
              "      <td>0.400026</td>\n",
              "      <td>0.853684</td>\n",
              "      <td>2233.756780</td>\n",
              "      <td>200</td>\n",
              "      <td>8</td>\n",
              "      <td>1000</td>\n",
              "      <td>114000</td>\n",
              "      <td>1782</td>\n",
              "      <td>16</td>\n",
              "      <td>64</td>\n",
              "    </tr>\n",
              "    <tr>\n",
              "      <th>1</th>\n",
              "      <td>RNN with 2000 vocab size</td>\n",
              "      <td>0.291024</td>\n",
              "      <td>0.896395</td>\n",
              "      <td>0.350998</td>\n",
              "      <td>0.874000</td>\n",
              "      <td>0.355715</td>\n",
              "      <td>0.872105</td>\n",
              "      <td>3211.853945</td>\n",
              "      <td>200</td>\n",
              "      <td>12</td>\n",
              "      <td>2000</td>\n",
              "      <td>114000</td>\n",
              "      <td>1782</td>\n",
              "      <td>16</td>\n",
              "      <td>64</td>\n",
              "    </tr>\n",
              "    <tr>\n",
              "      <th>2</th>\n",
              "      <td>RNN with 3000 vocab size</td>\n",
              "      <td>0.267700</td>\n",
              "      <td>0.904658</td>\n",
              "      <td>0.322919</td>\n",
              "      <td>0.886833</td>\n",
              "      <td>0.329175</td>\n",
              "      <td>0.884342</td>\n",
              "      <td>1899.668785</td>\n",
              "      <td>200</td>\n",
              "      <td>7</td>\n",
              "      <td>3000</td>\n",
              "      <td>114000</td>\n",
              "      <td>1782</td>\n",
              "      <td>16</td>\n",
              "      <td>64</td>\n",
              "    </tr>\n",
              "    <tr>\n",
              "      <th>3</th>\n",
              "      <td>RNN with filtered vocab that deleting the most...</td>\n",
              "      <td>0.377646</td>\n",
              "      <td>0.860895</td>\n",
              "      <td>0.392394</td>\n",
              "      <td>0.856833</td>\n",
              "      <td>0.403119</td>\n",
              "      <td>0.847763</td>\n",
              "      <td>2881.808089</td>\n",
              "      <td>200</td>\n",
              "      <td>11</td>\n",
              "      <td>898</td>\n",
              "      <td>114000</td>\n",
              "      <td>1782</td>\n",
              "      <td>16</td>\n",
              "      <td>64</td>\n",
              "    </tr>\n",
              "    <tr>\n",
              "      <th>4</th>\n",
              "      <td>RNN with 1000 vocab size 50 output sequence le...</td>\n",
              "      <td>0.367516</td>\n",
              "      <td>0.866158</td>\n",
              "      <td>0.391233</td>\n",
              "      <td>0.860333</td>\n",
              "      <td>0.399400</td>\n",
              "      <td>0.853026</td>\n",
              "      <td>2606.611799</td>\n",
              "      <td>200</td>\n",
              "      <td>13</td>\n",
              "      <td>1000</td>\n",
              "      <td>114000</td>\n",
              "      <td>1782</td>\n",
              "      <td>16</td>\n",
              "      <td>64</td>\n",
              "    </tr>\n",
              "    <tr>\n",
              "      <th>5</th>\n",
              "      <td>SimpleRNN</td>\n",
              "      <td>0.374977</td>\n",
              "      <td>0.865956</td>\n",
              "      <td>0.400744</td>\n",
              "      <td>0.855167</td>\n",
              "      <td>0.420890</td>\n",
              "      <td>0.850526</td>\n",
              "      <td>682.234513</td>\n",
              "      <td>200</td>\n",
              "      <td>9</td>\n",
              "      <td>1000</td>\n",
              "      <td>114000</td>\n",
              "      <td>1782</td>\n",
              "      <td>16</td>\n",
              "      <td>64</td>\n",
              "    </tr>\n",
              "    <tr>\n",
              "      <th>6</th>\n",
              "      <td>Multiplelayer RNN</td>\n",
              "      <td>0.362619</td>\n",
              "      <td>0.869114</td>\n",
              "      <td>0.401836</td>\n",
              "      <td>0.855833</td>\n",
              "      <td>0.422530</td>\n",
              "      <td>0.849474</td>\n",
              "      <td>1086.008980</td>\n",
              "      <td>200</td>\n",
              "      <td>8</td>\n",
              "      <td>1000</td>\n",
              "      <td>114000</td>\n",
              "      <td>1782</td>\n",
              "      <td>16</td>\n",
              "      <td>64</td>\n",
              "    </tr>\n",
              "    <tr>\n",
              "      <th>7</th>\n",
              "      <td>Bidirectional RNN</td>\n",
              "      <td>0.362689</td>\n",
              "      <td>0.867842</td>\n",
              "      <td>0.387893</td>\n",
              "      <td>0.861833</td>\n",
              "      <td>0.405440</td>\n",
              "      <td>0.851842</td>\n",
              "      <td>797.343860</td>\n",
              "      <td>200</td>\n",
              "      <td>6</td>\n",
              "      <td>1000</td>\n",
              "      <td>114000</td>\n",
              "      <td>1782</td>\n",
              "      <td>16</td>\n",
              "      <td>64</td>\n",
              "    </tr>\n",
              "    <tr>\n",
              "      <th>8</th>\n",
              "      <td>Multiplelayer Bidirectional RNN</td>\n",
              "      <td>0.378119</td>\n",
              "      <td>0.863360</td>\n",
              "      <td>0.411663</td>\n",
              "      <td>0.856667</td>\n",
              "      <td>0.431394</td>\n",
              "      <td>0.844868</td>\n",
              "      <td>708.051660</td>\n",
              "      <td>200</td>\n",
              "      <td>3</td>\n",
              "      <td>1000</td>\n",
              "      <td>114000</td>\n",
              "      <td>1782</td>\n",
              "      <td>16</td>\n",
              "      <td>64</td>\n",
              "    </tr>\n",
              "    <tr>\n",
              "      <th>9</th>\n",
              "      <td>Multiplelayer Bidirectional RNN with Dropout</td>\n",
              "      <td>0.409446</td>\n",
              "      <td>0.859158</td>\n",
              "      <td>0.394270</td>\n",
              "      <td>0.862667</td>\n",
              "      <td>0.414101</td>\n",
              "      <td>0.850132</td>\n",
              "      <td>2583.185984</td>\n",
              "      <td>200</td>\n",
              "      <td>10</td>\n",
              "      <td>1000</td>\n",
              "      <td>114000</td>\n",
              "      <td>1782</td>\n",
              "      <td>16</td>\n",
              "      <td>64</td>\n",
              "    </tr>\n",
              "    <tr>\n",
              "      <th>10</th>\n",
              "      <td>LSTM</td>\n",
              "      <td>1.383594</td>\n",
              "      <td>0.368596</td>\n",
              "      <td>1.382015</td>\n",
              "      <td>0.398833</td>\n",
              "      <td>1.382290</td>\n",
              "      <td>0.389211</td>\n",
              "      <td>360.943454</td>\n",
              "      <td>2</td>\n",
              "      <td>2</td>\n",
              "      <td>1000</td>\n",
              "      <td>114000</td>\n",
              "      <td>18</td>\n",
              "      <td>5200</td>\n",
              "      <td>6400</td>\n",
              "    </tr>\n",
              "  </tbody>\n",
              "</table>\n",
              "</div>\n",
              "      <button class=\"colab-df-convert\" onclick=\"convertToInteractive('df-c1020d10-5859-4b91-a07d-714c01d647e9')\"\n",
              "              title=\"Convert this dataframe to an interactive table.\"\n",
              "              style=\"display:none;\">\n",
              "        \n",
              "  <svg xmlns=\"http://www.w3.org/2000/svg\" height=\"24px\"viewBox=\"0 0 24 24\"\n",
              "       width=\"24px\">\n",
              "    <path d=\"M0 0h24v24H0V0z\" fill=\"none\"/>\n",
              "    <path d=\"M18.56 5.44l.94 2.06.94-2.06 2.06-.94-2.06-.94-.94-2.06-.94 2.06-2.06.94zm-11 1L8.5 8.5l.94-2.06 2.06-.94-2.06-.94L8.5 2.5l-.94 2.06-2.06.94zm10 10l.94 2.06.94-2.06 2.06-.94-2.06-.94-.94-2.06-.94 2.06-2.06.94z\"/><path d=\"M17.41 7.96l-1.37-1.37c-.4-.4-.92-.59-1.43-.59-.52 0-1.04.2-1.43.59L10.3 9.45l-7.72 7.72c-.78.78-.78 2.05 0 2.83L4 21.41c.39.39.9.59 1.41.59.51 0 1.02-.2 1.41-.59l7.78-7.78 2.81-2.81c.8-.78.8-2.07 0-2.86zM5.41 20L4 18.59l7.72-7.72 1.47 1.35L5.41 20z\"/>\n",
              "  </svg>\n",
              "      </button>\n",
              "      \n",
              "  <style>\n",
              "    .colab-df-container {\n",
              "      display:flex;\n",
              "      flex-wrap:wrap;\n",
              "      gap: 12px;\n",
              "    }\n",
              "\n",
              "    .colab-df-convert {\n",
              "      background-color: #E8F0FE;\n",
              "      border: none;\n",
              "      border-radius: 50%;\n",
              "      cursor: pointer;\n",
              "      display: none;\n",
              "      fill: #1967D2;\n",
              "      height: 32px;\n",
              "      padding: 0 0 0 0;\n",
              "      width: 32px;\n",
              "    }\n",
              "\n",
              "    .colab-df-convert:hover {\n",
              "      background-color: #E2EBFA;\n",
              "      box-shadow: 0px 1px 2px rgba(60, 64, 67, 0.3), 0px 1px 3px 1px rgba(60, 64, 67, 0.15);\n",
              "      fill: #174EA6;\n",
              "    }\n",
              "\n",
              "    [theme=dark] .colab-df-convert {\n",
              "      background-color: #3B4455;\n",
              "      fill: #D2E3FC;\n",
              "    }\n",
              "\n",
              "    [theme=dark] .colab-df-convert:hover {\n",
              "      background-color: #434B5C;\n",
              "      box-shadow: 0px 1px 3px 1px rgba(0, 0, 0, 0.15);\n",
              "      filter: drop-shadow(0px 1px 2px rgba(0, 0, 0, 0.3));\n",
              "      fill: #FFFFFF;\n",
              "    }\n",
              "  </style>\n",
              "\n",
              "      <script>\n",
              "        const buttonEl =\n",
              "          document.querySelector('#df-c1020d10-5859-4b91-a07d-714c01d647e9 button.colab-df-convert');\n",
              "        buttonEl.style.display =\n",
              "          google.colab.kernel.accessAllowed ? 'block' : 'none';\n",
              "\n",
              "        async function convertToInteractive(key) {\n",
              "          const element = document.querySelector('#df-c1020d10-5859-4b91-a07d-714c01d647e9');\n",
              "          const dataTable =\n",
              "            await google.colab.kernel.invokeFunction('convertToInteractive',\n",
              "                                                     [key], {});\n",
              "          if (!dataTable) return;\n",
              "\n",
              "          const docLinkHtml = 'Like what you see? Visit the ' +\n",
              "            '<a target=\"_blank\" href=https://colab.research.google.com/notebooks/data_table.ipynb>data table notebook</a>'\n",
              "            + ' to learn more about interactive tables.';\n",
              "          element.innerHTML = '';\n",
              "          dataTable['output_type'] = 'display_data';\n",
              "          await google.colab.output.renderOutput(dataTable, element);\n",
              "          const docLink = document.createElement('div');\n",
              "          docLink.innerHTML = docLinkHtml;\n",
              "          element.appendChild(docLink);\n",
              "        }\n",
              "      </script>\n",
              "    </div>\n",
              "  </div>\n",
              "  "
            ],
            "text/plain": [
              "                                                Model  ...  max_token_in_a_article\n",
              "0                            RNN with 1000 vocab size  ...                      64\n",
              "1                            RNN with 2000 vocab size  ...                      64\n",
              "2                            RNN with 3000 vocab size  ...                      64\n",
              "3   RNN with filtered vocab that deleting the most...  ...                      64\n",
              "4   RNN with 1000 vocab size 50 output sequence le...  ...                      64\n",
              "5                                           SimpleRNN  ...                      64\n",
              "6                                   Multiplelayer RNN  ...                      64\n",
              "7                                   Bidirectional RNN  ...                      64\n",
              "8                     Multiplelayer Bidirectional RNN  ...                      64\n",
              "9        Multiplelayer Bidirectional RNN with Dropout  ...                      64\n",
              "10                                               LSTM  ...                    6400\n",
              "\n",
              "[11 rows x 15 columns]"
            ]
          },
          "metadata": {},
          "execution_count": 18
        }
      ]
    },
    {
      "cell_type": "markdown",
      "source": [
        "### Multiplelayer LSTM"
      ],
      "metadata": {
        "id": "3nKgSA8KctEC"
      }
    },
    {
      "cell_type": "code",
      "source": [
        "result_mLSTM = compile_train_model(Multiplelayer_LSTM, 200)"
      ],
      "metadata": {
        "colab": {
          "base_uri": "https://localhost:8080/",
          "height": 818
        },
        "id": "f8VQaa2MctEE",
        "outputId": "bdface04-c426-43aa-917e-b8b9cd2d65eb"
      },
      "execution_count": 19,
      "outputs": [
        {
          "output_type": "stream",
          "name": "stdout",
          "text": [
            "Epoch 1/2\n",
            "18/18 [==============================] - 299s 16s/step - loss: 1.3857 - accuracy: 0.3143 - val_loss: 1.3847 - val_accuracy: 0.3595\n",
            "Epoch 2/2\n",
            "18/18 [==============================] - 305s 17s/step - loss: 1.3834 - accuracy: 0.4011 - val_loss: 1.3812 - val_accuracy: 0.4452\n",
            "2/2 [==============================] - 6s 1s/step - loss: 1.3814 - accuracy: 0.4347\n",
            "test set accuracy:  43.473684787750244\n"
          ]
        },
        {
          "output_type": "stream",
          "name": "stderr",
          "text": [
            "/usr/local/lib/python3.7/dist-packages/ipykernel_launcher.py:37: SettingWithCopyWarning: \n",
            "A value is trying to be set on a copy of a slice from a DataFrame.\n",
            "Try using .loc[row_indexer,col_indexer] = value instead\n",
            "\n",
            "See the caveats in the documentation: https://pandas.pydata.org/pandas-docs/stable/user_guide/indexing.html#returning-a-view-versus-a-copy\n",
            "/usr/local/lib/python3.7/dist-packages/ipykernel_launcher.py:38: SettingWithCopyWarning: \n",
            "A value is trying to be set on a copy of a slice from a DataFrame.\n",
            "Try using .loc[row_indexer,col_indexer] = value instead\n",
            "\n",
            "See the caveats in the documentation: https://pandas.pydata.org/pandas-docs/stable/user_guide/indexing.html#returning-a-view-versus-a-copy\n",
            "/usr/local/lib/python3.7/dist-packages/ipykernel_launcher.py:39: SettingWithCopyWarning: \n",
            "A value is trying to be set on a copy of a slice from a DataFrame.\n",
            "Try using .loc[row_indexer,col_indexer] = value instead\n",
            "\n",
            "See the caveats in the documentation: https://pandas.pydata.org/pandas-docs/stable/user_guide/indexing.html#returning-a-view-versus-a-copy\n",
            "/usr/local/lib/python3.7/dist-packages/ipykernel_launcher.py:40: SettingWithCopyWarning: \n",
            "A value is trying to be set on a copy of a slice from a DataFrame.\n",
            "Try using .loc[row_indexer,col_indexer] = value instead\n",
            "\n",
            "See the caveats in the documentation: https://pandas.pydata.org/pandas-docs/stable/user_guide/indexing.html#returning-a-view-versus-a-copy\n",
            "/usr/local/lib/python3.7/dist-packages/ipykernel_launcher.py:41: SettingWithCopyWarning: \n",
            "A value is trying to be set on a copy of a slice from a DataFrame.\n",
            "Try using .loc[row_indexer,col_indexer] = value instead\n",
            "\n",
            "See the caveats in the documentation: https://pandas.pydata.org/pandas-docs/stable/user_guide/indexing.html#returning-a-view-versus-a-copy\n"
          ]
        },
        {
          "output_type": "display_data",
          "data": {
            "image/png": "[encoded data removed]",
            "text/plain": [
              "<Figure size 1152x288 with 2 Axes>"
            ]
          },
          "metadata": {
            "needs_background": "light"
          }
        }
      ]
    },
    {
      "cell_type": "code",
      "source": [
        "result_mLSTM['vocab_size'] = VOCAB_SIZE \n",
        "result_mLSTM['num_words'] = num_words \n",
        "result_mLSTM['num_articles'] = num_articles\n",
        "result_mLSTM['min_token_in_a_article'] = min_token_in_a_article \n",
        "result_mLSTM['max_token_in_a_article'] = max_token_in_a_article \n",
        "new_col = ['Multiplelayer LSTM']   \n",
        "result_mLSTM.insert(loc=0, column='Model', value=new_col)"
      ],
      "metadata": {
        "id": "MvuXp3qPctEF"
      },
      "execution_count": 21,
      "outputs": []
    },
    {
      "cell_type": "code",
      "source": [
        "assignment_result_table = assignment_result_table.append(result_mLSTM,ignore_index=True)\n",
        "assignment_result_table"
      ],
      "metadata": {
        "colab": {
          "base_uri": "https://localhost:8080/",
          "height": 888
        },
        "id": "HgAchME8ctEF",
        "outputId": "7b33a46f-61a2-4fda-c953-97bac623773d"
      },
      "execution_count": 22,
      "outputs": [
        {
          "output_type": "execute_result",
          "data": {
            "text/html": [
              "\n",
              "  <div id=\"df-840d5233-6c9b-4e36-b4de-4a1687309616\">\n",
              "    <div class=\"colab-df-container\">\n",
              "      <div>\n",
              "<style scoped>\n",
              "    .dataframe tbody tr th:only-of-type {\n",
              "        vertical-align: middle;\n",
              "    }\n",
              "\n",
              "    .dataframe tbody tr th {\n",
              "        vertical-align: top;\n",
              "    }\n",
              "\n",
              "    .dataframe thead th {\n",
              "        text-align: right;\n",
              "    }\n",
              "</style>\n",
              "<table border=\"1\" class=\"dataframe\">\n",
              "  <thead>\n",
              "    <tr style=\"text-align: right;\">\n",
              "      <th></th>\n",
              "      <th>Model</th>\n",
              "      <th>loss</th>\n",
              "      <th>accuracy</th>\n",
              "      <th>val_loss</th>\n",
              "      <th>val_accuracy</th>\n",
              "      <th>test_loss</th>\n",
              "      <th>test_accuracy</th>\n",
              "      <th>process_time</th>\n",
              "      <th>epochs_setting</th>\n",
              "      <th>epochs_actual</th>\n",
              "      <th>vocab_size</th>\n",
              "      <th>num_words</th>\n",
              "      <th>num_articles</th>\n",
              "      <th>min_token_in_a_article</th>\n",
              "      <th>max_token_in_a_article</th>\n",
              "    </tr>\n",
              "  </thead>\n",
              "  <tbody>\n",
              "    <tr>\n",
              "      <th>0</th>\n",
              "      <td>RNN with 1000 vocab size</td>\n",
              "      <td>0.377154</td>\n",
              "      <td>0.863553</td>\n",
              "      <td>0.388227</td>\n",
              "      <td>0.862333</td>\n",
              "      <td>0.400026</td>\n",
              "      <td>0.853684</td>\n",
              "      <td>2233.756780</td>\n",
              "      <td>200</td>\n",
              "      <td>8</td>\n",
              "      <td>1000</td>\n",
              "      <td>114000</td>\n",
              "      <td>1782</td>\n",
              "      <td>16</td>\n",
              "      <td>64</td>\n",
              "    </tr>\n",
              "    <tr>\n",
              "      <th>1</th>\n",
              "      <td>RNN with 2000 vocab size</td>\n",
              "      <td>0.291024</td>\n",
              "      <td>0.896395</td>\n",
              "      <td>0.350998</td>\n",
              "      <td>0.874000</td>\n",
              "      <td>0.355715</td>\n",
              "      <td>0.872105</td>\n",
              "      <td>3211.853945</td>\n",
              "      <td>200</td>\n",
              "      <td>12</td>\n",
              "      <td>2000</td>\n",
              "      <td>114000</td>\n",
              "      <td>1782</td>\n",
              "      <td>16</td>\n",
              "      <td>64</td>\n",
              "    </tr>\n",
              "    <tr>\n",
              "      <th>2</th>\n",
              "      <td>RNN with 3000 vocab size</td>\n",
              "      <td>0.267700</td>\n",
              "      <td>0.904658</td>\n",
              "      <td>0.322919</td>\n",
              "      <td>0.886833</td>\n",
              "      <td>0.329175</td>\n",
              "      <td>0.884342</td>\n",
              "      <td>1899.668785</td>\n",
              "      <td>200</td>\n",
              "      <td>7</td>\n",
              "      <td>3000</td>\n",
              "      <td>114000</td>\n",
              "      <td>1782</td>\n",
              "      <td>16</td>\n",
              "      <td>64</td>\n",
              "    </tr>\n",
              "    <tr>\n",
              "      <th>3</th>\n",
              "      <td>RNN with filtered vocab that deleting the most...</td>\n",
              "      <td>0.377646</td>\n",
              "      <td>0.860895</td>\n",
              "      <td>0.392394</td>\n",
              "      <td>0.856833</td>\n",
              "      <td>0.403119</td>\n",
              "      <td>0.847763</td>\n",
              "      <td>2881.808089</td>\n",
              "      <td>200</td>\n",
              "      <td>11</td>\n",
              "      <td>898</td>\n",
              "      <td>114000</td>\n",
              "      <td>1782</td>\n",
              "      <td>16</td>\n",
              "      <td>64</td>\n",
              "    </tr>\n",
              "    <tr>\n",
              "      <th>4</th>\n",
              "      <td>RNN with 1000 vocab size 50 output sequence le...</td>\n",
              "      <td>0.367516</td>\n",
              "      <td>0.866158</td>\n",
              "      <td>0.391233</td>\n",
              "      <td>0.860333</td>\n",
              "      <td>0.399400</td>\n",
              "      <td>0.853026</td>\n",
              "      <td>2606.611799</td>\n",
              "      <td>200</td>\n",
              "      <td>13</td>\n",
              "      <td>1000</td>\n",
              "      <td>114000</td>\n",
              "      <td>1782</td>\n",
              "      <td>16</td>\n",
              "      <td>64</td>\n",
              "    </tr>\n",
              "    <tr>\n",
              "      <th>5</th>\n",
              "      <td>SimpleRNN</td>\n",
              "      <td>0.374977</td>\n",
              "      <td>0.865956</td>\n",
              "      <td>0.400744</td>\n",
              "      <td>0.855167</td>\n",
              "      <td>0.420890</td>\n",
              "      <td>0.850526</td>\n",
              "      <td>682.234513</td>\n",
              "      <td>200</td>\n",
              "      <td>9</td>\n",
              "      <td>1000</td>\n",
              "      <td>114000</td>\n",
              "      <td>1782</td>\n",
              "      <td>16</td>\n",
              "      <td>64</td>\n",
              "    </tr>\n",
              "    <tr>\n",
              "      <th>6</th>\n",
              "      <td>Multiplelayer RNN</td>\n",
              "      <td>0.362619</td>\n",
              "      <td>0.869114</td>\n",
              "      <td>0.401836</td>\n",
              "      <td>0.855833</td>\n",
              "      <td>0.422530</td>\n",
              "      <td>0.849474</td>\n",
              "      <td>1086.008980</td>\n",
              "      <td>200</td>\n",
              "      <td>8</td>\n",
              "      <td>1000</td>\n",
              "      <td>114000</td>\n",
              "      <td>1782</td>\n",
              "      <td>16</td>\n",
              "      <td>64</td>\n",
              "    </tr>\n",
              "    <tr>\n",
              "      <th>7</th>\n",
              "      <td>Bidirectional RNN</td>\n",
              "      <td>0.362689</td>\n",
              "      <td>0.867842</td>\n",
              "      <td>0.387893</td>\n",
              "      <td>0.861833</td>\n",
              "      <td>0.405440</td>\n",
              "      <td>0.851842</td>\n",
              "      <td>797.343860</td>\n",
              "      <td>200</td>\n",
              "      <td>6</td>\n",
              "      <td>1000</td>\n",
              "      <td>114000</td>\n",
              "      <td>1782</td>\n",
              "      <td>16</td>\n",
              "      <td>64</td>\n",
              "    </tr>\n",
              "    <tr>\n",
              "      <th>8</th>\n",
              "      <td>Multiplelayer Bidirectional RNN</td>\n",
              "      <td>0.378119</td>\n",
              "      <td>0.863360</td>\n",
              "      <td>0.411663</td>\n",
              "      <td>0.856667</td>\n",
              "      <td>0.431394</td>\n",
              "      <td>0.844868</td>\n",
              "      <td>708.051660</td>\n",
              "      <td>200</td>\n",
              "      <td>3</td>\n",
              "      <td>1000</td>\n",
              "      <td>114000</td>\n",
              "      <td>1782</td>\n",
              "      <td>16</td>\n",
              "      <td>64</td>\n",
              "    </tr>\n",
              "    <tr>\n",
              "      <th>9</th>\n",
              "      <td>Multiplelayer Bidirectional RNN with Dropout</td>\n",
              "      <td>0.409446</td>\n",
              "      <td>0.859158</td>\n",
              "      <td>0.394270</td>\n",
              "      <td>0.862667</td>\n",
              "      <td>0.414101</td>\n",
              "      <td>0.850132</td>\n",
              "      <td>2583.185984</td>\n",
              "      <td>200</td>\n",
              "      <td>10</td>\n",
              "      <td>1000</td>\n",
              "      <td>114000</td>\n",
              "      <td>1782</td>\n",
              "      <td>16</td>\n",
              "      <td>64</td>\n",
              "    </tr>\n",
              "    <tr>\n",
              "      <th>10</th>\n",
              "      <td>LSTM</td>\n",
              "      <td>1.383594</td>\n",
              "      <td>0.368596</td>\n",
              "      <td>1.382015</td>\n",
              "      <td>0.398833</td>\n",
              "      <td>1.382290</td>\n",
              "      <td>0.389211</td>\n",
              "      <td>360.943454</td>\n",
              "      <td>2</td>\n",
              "      <td>2</td>\n",
              "      <td>1000</td>\n",
              "      <td>114000</td>\n",
              "      <td>18</td>\n",
              "      <td>5200</td>\n",
              "      <td>6400</td>\n",
              "    </tr>\n",
              "    <tr>\n",
              "      <th>11</th>\n",
              "      <td>Multiplelayer LSTM</td>\n",
              "      <td>1.383357</td>\n",
              "      <td>0.401132</td>\n",
              "      <td>1.381178</td>\n",
              "      <td>0.445167</td>\n",
              "      <td>1.381438</td>\n",
              "      <td>0.434737</td>\n",
              "      <td>645.626910</td>\n",
              "      <td>2</td>\n",
              "      <td>2</td>\n",
              "      <td>1000</td>\n",
              "      <td>114000</td>\n",
              "      <td>18</td>\n",
              "      <td>5200</td>\n",
              "      <td>6400</td>\n",
              "    </tr>\n",
              "  </tbody>\n",
              "</table>\n",
              "</div>\n",
              "      <button class=\"colab-df-convert\" onclick=\"convertToInteractive('df-840d5233-6c9b-4e36-b4de-4a1687309616')\"\n",
              "              title=\"Convert this dataframe to an interactive table.\"\n",
              "              style=\"display:none;\">\n",
              "        \n",
              "  <svg xmlns=\"http://www.w3.org/2000/svg\" height=\"24px\"viewBox=\"0 0 24 24\"\n",
              "       width=\"24px\">\n",
              "    <path d=\"M0 0h24v24H0V0z\" fill=\"none\"/>\n",
              "    <path d=\"M18.56 5.44l.94 2.06.94-2.06 2.06-.94-2.06-.94-.94-2.06-.94 2.06-2.06.94zm-11 1L8.5 8.5l.94-2.06 2.06-.94-2.06-.94L8.5 2.5l-.94 2.06-2.06.94zm10 10l.94 2.06.94-2.06 2.06-.94-2.06-.94-.94-2.06-.94 2.06-2.06.94z\"/><path d=\"M17.41 7.96l-1.37-1.37c-.4-.4-.92-.59-1.43-.59-.52 0-1.04.2-1.43.59L10.3 9.45l-7.72 7.72c-.78.78-.78 2.05 0 2.83L4 21.41c.39.39.9.59 1.41.59.51 0 1.02-.2 1.41-.59l7.78-7.78 2.81-2.81c.8-.78.8-2.07 0-2.86zM5.41 20L4 18.59l7.72-7.72 1.47 1.35L5.41 20z\"/>\n",
              "  </svg>\n",
              "      </button>\n",
              "      \n",
              "  <style>\n",
              "    .colab-df-container {\n",
              "      display:flex;\n",
              "      flex-wrap:wrap;\n",
              "      gap: 12px;\n",
              "    }\n",
              "\n",
              "    .colab-df-convert {\n",
              "      background-color: #E8F0FE;\n",
              "      border: none;\n",
              "      border-radius: 50%;\n",
              "      cursor: pointer;\n",
              "      display: none;\n",
              "      fill: #1967D2;\n",
              "      height: 32px;\n",
              "      padding: 0 0 0 0;\n",
              "      width: 32px;\n",
              "    }\n",
              "\n",
              "    .colab-df-convert:hover {\n",
              "      background-color: #E2EBFA;\n",
              "      box-shadow: 0px 1px 2px rgba(60, 64, 67, 0.3), 0px 1px 3px 1px rgba(60, 64, 67, 0.15);\n",
              "      fill: #174EA6;\n",
              "    }\n",
              "\n",
              "    [theme=dark] .colab-df-convert {\n",
              "      background-color: #3B4455;\n",
              "      fill: #D2E3FC;\n",
              "    }\n",
              "\n",
              "    [theme=dark] .colab-df-convert:hover {\n",
              "      background-color: #434B5C;\n",
              "      box-shadow: 0px 1px 3px 1px rgba(0, 0, 0, 0.15);\n",
              "      filter: drop-shadow(0px 1px 2px rgba(0, 0, 0, 0.3));\n",
              "      fill: #FFFFFF;\n",
              "    }\n",
              "  </style>\n",
              "\n",
              "      <script>\n",
              "        const buttonEl =\n",
              "          document.querySelector('#df-840d5233-6c9b-4e36-b4de-4a1687309616 button.colab-df-convert');\n",
              "        buttonEl.style.display =\n",
              "          google.colab.kernel.accessAllowed ? 'block' : 'none';\n",
              "\n",
              "        async function convertToInteractive(key) {\n",
              "          const element = document.querySelector('#df-840d5233-6c9b-4e36-b4de-4a1687309616');\n",
              "          const dataTable =\n",
              "            await google.colab.kernel.invokeFunction('convertToInteractive',\n",
              "                                                     [key], {});\n",
              "          if (!dataTable) return;\n",
              "\n",
              "          const docLinkHtml = 'Like what you see? Visit the ' +\n",
              "            '<a target=\"_blank\" href=https://colab.research.google.com/notebooks/data_table.ipynb>data table notebook</a>'\n",
              "            + ' to learn more about interactive tables.';\n",
              "          element.innerHTML = '';\n",
              "          dataTable['output_type'] = 'display_data';\n",
              "          await google.colab.output.renderOutput(dataTable, element);\n",
              "          const docLink = document.createElement('div');\n",
              "          docLink.innerHTML = docLinkHtml;\n",
              "          element.appendChild(docLink);\n",
              "        }\n",
              "      </script>\n",
              "    </div>\n",
              "  </div>\n",
              "  "
            ],
            "text/plain": [
              "                                                Model  ...  max_token_in_a_article\n",
              "0                            RNN with 1000 vocab size  ...                      64\n",
              "1                            RNN with 2000 vocab size  ...                      64\n",
              "2                            RNN with 3000 vocab size  ...                      64\n",
              "3   RNN with filtered vocab that deleting the most...  ...                      64\n",
              "4   RNN with 1000 vocab size 50 output sequence le...  ...                      64\n",
              "5                                           SimpleRNN  ...                      64\n",
              "6                                   Multiplelayer RNN  ...                      64\n",
              "7                                   Bidirectional RNN  ...                      64\n",
              "8                     Multiplelayer Bidirectional RNN  ...                      64\n",
              "9        Multiplelayer Bidirectional RNN with Dropout  ...                      64\n",
              "10                                               LSTM  ...                    6400\n",
              "11                                 Multiplelayer LSTM  ...                    6400\n",
              "\n",
              "[12 rows x 15 columns]"
            ]
          },
          "metadata": {},
          "execution_count": 22
        }
      ]
    },
    {
      "cell_type": "markdown",
      "source": [
        "### Bidirectional LSTM"
      ],
      "metadata": {
        "id": "Ug6DZtNtcxfd"
      }
    },
    {
      "cell_type": "code",
      "source": [
        "result_BiLSTM = compile_train_model(BidirectionalLSTM, 200)"
      ],
      "metadata": {
        "colab": {
          "base_uri": "https://localhost:8080/",
          "height": 381
        },
        "id": "3HyHNkoocxfe",
        "outputId": "737df3fb-7679-43f7-8357-a5c4933debd6"
      },
      "execution_count": 24,
      "outputs": [
        {
          "output_type": "stream",
          "name": "stdout",
          "text": [
            "Epoch 1/2\n",
            "18/18 [==============================] - 289s 15s/step - loss: 1.3845 - accuracy: 0.2721 - val_loss: 1.3825 - val_accuracy: 0.3078\n",
            "Epoch 2/2\n",
            " 3/18 [====>.........................] - ETA: 3:44 - loss: 1.3826 - accuracy: 0.2995"
          ]
        },
        {
          "output_type": "error",
          "ename": "KeyboardInterrupt",
          "evalue": "ignored",
          "traceback": [
            "\u001b[0;31m---------------------------------------------------------------------------\u001b[0m",
            "\u001b[0;31mKeyboardInterrupt\u001b[0m                         Traceback (most recent call last)",
            "\u001b[0;32m<ipython-input-24-809e3cb603ef>\u001b[0m in \u001b[0;36m<module>\u001b[0;34m()\u001b[0m\n\u001b[0;32m----> 1\u001b[0;31m \u001b[0mresult_BiLSTM\u001b[0m \u001b[0;34m=\u001b[0m \u001b[0mcompile_train_model\u001b[0m\u001b[0;34m(\u001b[0m\u001b[0mBidirectionalLSTM\u001b[0m\u001b[0;34m,\u001b[0m \u001b[0;36m2\u001b[0m\u001b[0;34m)\u001b[0m\u001b[0;34m\u001b[0m\u001b[0;34m\u001b[0m\u001b[0m\n\u001b[0m",
            "\u001b[0;32m<ipython-input-7-852c3ebb069e>\u001b[0m in \u001b[0;36mcompile_train_model\u001b[0;34m(model, epoch)\u001b[0m\n\u001b[1;32m     13\u001b[0m                     \u001b[0;34m,\u001b[0m\u001b[0mepochs\u001b[0m \u001b[0;34m=\u001b[0m \u001b[0mepoch\u001b[0m\u001b[0;34m\u001b[0m\u001b[0;34m\u001b[0m\u001b[0m\n\u001b[1;32m     14\u001b[0m                     \u001b[0;34m,\u001b[0m\u001b[0mvalidation_data\u001b[0m\u001b[0;34m=\u001b[0m\u001b[0mvalidation_dataset\u001b[0m\u001b[0;34m\u001b[0m\u001b[0;34m\u001b[0m\u001b[0m\n\u001b[0;32m---> 15\u001b[0;31m                     \u001b[0;34m,\u001b[0m\u001b[0mcallbacks\u001b[0m\u001b[0;34m=\u001b[0m\u001b[0;34m[\u001b[0m\u001b[0mtf\u001b[0m\u001b[0;34m.\u001b[0m\u001b[0mkeras\u001b[0m\u001b[0;34m.\u001b[0m\u001b[0mcallbacks\u001b[0m\u001b[0;34m.\u001b[0m\u001b[0mEarlyStopping\u001b[0m\u001b[0;34m(\u001b[0m\u001b[0mmonitor\u001b[0m\u001b[0;34m=\u001b[0m\u001b[0;34m'val_accuracy'\u001b[0m\u001b[0;34m,\u001b[0m \u001b[0mpatience\u001b[0m\u001b[0;34m=\u001b[0m\u001b[0;36m2\u001b[0m\u001b[0;34m)\u001b[0m\u001b[0;34m]\u001b[0m\u001b[0;34m\u001b[0m\u001b[0;34m\u001b[0m\u001b[0m\n\u001b[0m\u001b[1;32m     16\u001b[0m                     )\n\u001b[1;32m     17\u001b[0m \u001b[0;34m\u001b[0m\u001b[0m\n",
            "\u001b[0;32m/usr/local/lib/python3.7/dist-packages/keras/utils/traceback_utils.py\u001b[0m in \u001b[0;36merror_handler\u001b[0;34m(*args, **kwargs)\u001b[0m\n\u001b[1;32m     62\u001b[0m     \u001b[0mfiltered_tb\u001b[0m \u001b[0;34m=\u001b[0m \u001b[0;32mNone\u001b[0m\u001b[0;34m\u001b[0m\u001b[0;34m\u001b[0m\u001b[0m\n\u001b[1;32m     63\u001b[0m     \u001b[0;32mtry\u001b[0m\u001b[0;34m:\u001b[0m\u001b[0;34m\u001b[0m\u001b[0;34m\u001b[0m\u001b[0m\n\u001b[0;32m---> 64\u001b[0;31m       \u001b[0;32mreturn\u001b[0m \u001b[0mfn\u001b[0m\u001b[0;34m(\u001b[0m\u001b[0;34m*\u001b[0m\u001b[0margs\u001b[0m\u001b[0;34m,\u001b[0m \u001b[0;34m**\u001b[0m\u001b[0mkwargs\u001b[0m\u001b[0;34m)\u001b[0m\u001b[0;34m\u001b[0m\u001b[0;34m\u001b[0m\u001b[0m\n\u001b[0m\u001b[1;32m     65\u001b[0m     \u001b[0;32mexcept\u001b[0m \u001b[0mException\u001b[0m \u001b[0;32mas\u001b[0m \u001b[0me\u001b[0m\u001b[0;34m:\u001b[0m  \u001b[0;31m# pylint: disable=broad-except\u001b[0m\u001b[0;34m\u001b[0m\u001b[0;34m\u001b[0m\u001b[0m\n\u001b[1;32m     66\u001b[0m       \u001b[0mfiltered_tb\u001b[0m \u001b[0;34m=\u001b[0m \u001b[0m_process_traceback_frames\u001b[0m\u001b[0;34m(\u001b[0m\u001b[0me\u001b[0m\u001b[0;34m.\u001b[0m\u001b[0m__traceback__\u001b[0m\u001b[0;34m)\u001b[0m\u001b[0;34m\u001b[0m\u001b[0;34m\u001b[0m\u001b[0m\n",
            "\u001b[0;32m/usr/local/lib/python3.7/dist-packages/keras/engine/training.py\u001b[0m in \u001b[0;36mfit\u001b[0;34m(self, x, y, batch_size, epochs, verbose, callbacks, validation_split, validation_data, shuffle, class_weight, sample_weight, initial_epoch, steps_per_epoch, validation_steps, validation_batch_size, validation_freq, max_queue_size, workers, use_multiprocessing)\u001b[0m\n\u001b[1;32m   1382\u001b[0m                 _r=1):\n\u001b[1;32m   1383\u001b[0m               \u001b[0mcallbacks\u001b[0m\u001b[0;34m.\u001b[0m\u001b[0mon_train_batch_begin\u001b[0m\u001b[0;34m(\u001b[0m\u001b[0mstep\u001b[0m\u001b[0;34m)\u001b[0m\u001b[0;34m\u001b[0m\u001b[0;34m\u001b[0m\u001b[0m\n\u001b[0;32m-> 1384\u001b[0;31m               \u001b[0mtmp_logs\u001b[0m \u001b[0;34m=\u001b[0m \u001b[0mself\u001b[0m\u001b[0;34m.\u001b[0m\u001b[0mtrain_function\u001b[0m\u001b[0;34m(\u001b[0m\u001b[0miterator\u001b[0m\u001b[0;34m)\u001b[0m\u001b[0;34m\u001b[0m\u001b[0;34m\u001b[0m\u001b[0m\n\u001b[0m\u001b[1;32m   1385\u001b[0m               \u001b[0;32mif\u001b[0m \u001b[0mdata_handler\u001b[0m\u001b[0;34m.\u001b[0m\u001b[0mshould_sync\u001b[0m\u001b[0;34m:\u001b[0m\u001b[0;34m\u001b[0m\u001b[0;34m\u001b[0m\u001b[0m\n\u001b[1;32m   1386\u001b[0m                 \u001b[0mcontext\u001b[0m\u001b[0;34m.\u001b[0m\u001b[0masync_wait\u001b[0m\u001b[0;34m(\u001b[0m\u001b[0;34m)\u001b[0m\u001b[0;34m\u001b[0m\u001b[0;34m\u001b[0m\u001b[0m\n",
            "\u001b[0;32m/usr/local/lib/python3.7/dist-packages/tensorflow/python/util/traceback_utils.py\u001b[0m in \u001b[0;36merror_handler\u001b[0;34m(*args, **kwargs)\u001b[0m\n\u001b[1;32m    148\u001b[0m     \u001b[0mfiltered_tb\u001b[0m \u001b[0;34m=\u001b[0m \u001b[0;32mNone\u001b[0m\u001b[0;34m\u001b[0m\u001b[0;34m\u001b[0m\u001b[0m\n\u001b[1;32m    149\u001b[0m     \u001b[0;32mtry\u001b[0m\u001b[0;34m:\u001b[0m\u001b[0;34m\u001b[0m\u001b[0;34m\u001b[0m\u001b[0m\n\u001b[0;32m--> 150\u001b[0;31m       \u001b[0;32mreturn\u001b[0m \u001b[0mfn\u001b[0m\u001b[0;34m(\u001b[0m\u001b[0;34m*\u001b[0m\u001b[0margs\u001b[0m\u001b[0;34m,\u001b[0m \u001b[0;34m**\u001b[0m\u001b[0mkwargs\u001b[0m\u001b[0;34m)\u001b[0m\u001b[0;34m\u001b[0m\u001b[0;34m\u001b[0m\u001b[0m\n\u001b[0m\u001b[1;32m    151\u001b[0m     \u001b[0;32mexcept\u001b[0m \u001b[0mException\u001b[0m \u001b[0;32mas\u001b[0m \u001b[0me\u001b[0m\u001b[0;34m:\u001b[0m\u001b[0;34m\u001b[0m\u001b[0;34m\u001b[0m\u001b[0m\n\u001b[1;32m    152\u001b[0m       \u001b[0mfiltered_tb\u001b[0m \u001b[0;34m=\u001b[0m \u001b[0m_process_traceback_frames\u001b[0m\u001b[0;34m(\u001b[0m\u001b[0me\u001b[0m\u001b[0;34m.\u001b[0m\u001b[0m__traceback__\u001b[0m\u001b[0;34m)\u001b[0m\u001b[0;34m\u001b[0m\u001b[0;34m\u001b[0m\u001b[0m\n",
            "\u001b[0;32m/usr/local/lib/python3.7/dist-packages/tensorflow/python/eager/def_function.py\u001b[0m in \u001b[0;36m__call__\u001b[0;34m(self, *args, **kwds)\u001b[0m\n\u001b[1;32m    913\u001b[0m \u001b[0;34m\u001b[0m\u001b[0m\n\u001b[1;32m    914\u001b[0m       \u001b[0;32mwith\u001b[0m \u001b[0mOptionalXlaContext\u001b[0m\u001b[0;34m(\u001b[0m\u001b[0mself\u001b[0m\u001b[0;34m.\u001b[0m\u001b[0m_jit_compile\u001b[0m\u001b[0;34m)\u001b[0m\u001b[0;34m:\u001b[0m\u001b[0;34m\u001b[0m\u001b[0;34m\u001b[0m\u001b[0m\n\u001b[0;32m--> 915\u001b[0;31m         \u001b[0mresult\u001b[0m \u001b[0;34m=\u001b[0m \u001b[0mself\u001b[0m\u001b[0;34m.\u001b[0m\u001b[0m_call\u001b[0m\u001b[0;34m(\u001b[0m\u001b[0;34m*\u001b[0m\u001b[0margs\u001b[0m\u001b[0;34m,\u001b[0m \u001b[0;34m**\u001b[0m\u001b[0mkwds\u001b[0m\u001b[0;34m)\u001b[0m\u001b[0;34m\u001b[0m\u001b[0;34m\u001b[0m\u001b[0m\n\u001b[0m\u001b[1;32m    916\u001b[0m \u001b[0;34m\u001b[0m\u001b[0m\n\u001b[1;32m    917\u001b[0m       \u001b[0mnew_tracing_count\u001b[0m \u001b[0;34m=\u001b[0m \u001b[0mself\u001b[0m\u001b[0;34m.\u001b[0m\u001b[0mexperimental_get_tracing_count\u001b[0m\u001b[0;34m(\u001b[0m\u001b[0;34m)\u001b[0m\u001b[0;34m\u001b[0m\u001b[0;34m\u001b[0m\u001b[0m\n",
            "\u001b[0;32m/usr/local/lib/python3.7/dist-packages/tensorflow/python/eager/def_function.py\u001b[0m in \u001b[0;36m_call\u001b[0;34m(self, *args, **kwds)\u001b[0m\n\u001b[1;32m    945\u001b[0m       \u001b[0;31m# In this case we have created variables on the first call, so we run the\u001b[0m\u001b[0;34m\u001b[0m\u001b[0;34m\u001b[0m\u001b[0;34m\u001b[0m\u001b[0m\n\u001b[1;32m    946\u001b[0m       \u001b[0;31m# defunned version which is guaranteed to never create variables.\u001b[0m\u001b[0;34m\u001b[0m\u001b[0;34m\u001b[0m\u001b[0;34m\u001b[0m\u001b[0m\n\u001b[0;32m--> 947\u001b[0;31m       \u001b[0;32mreturn\u001b[0m \u001b[0mself\u001b[0m\u001b[0;34m.\u001b[0m\u001b[0m_stateless_fn\u001b[0m\u001b[0;34m(\u001b[0m\u001b[0;34m*\u001b[0m\u001b[0margs\u001b[0m\u001b[0;34m,\u001b[0m \u001b[0;34m**\u001b[0m\u001b[0mkwds\u001b[0m\u001b[0;34m)\u001b[0m  \u001b[0;31m# pylint: disable=not-callable\u001b[0m\u001b[0;34m\u001b[0m\u001b[0;34m\u001b[0m\u001b[0m\n\u001b[0m\u001b[1;32m    948\u001b[0m     \u001b[0;32melif\u001b[0m \u001b[0mself\u001b[0m\u001b[0;34m.\u001b[0m\u001b[0m_stateful_fn\u001b[0m \u001b[0;32mis\u001b[0m \u001b[0;32mnot\u001b[0m \u001b[0;32mNone\u001b[0m\u001b[0;34m:\u001b[0m\u001b[0;34m\u001b[0m\u001b[0;34m\u001b[0m\u001b[0m\n\u001b[1;32m    949\u001b[0m       \u001b[0;31m# Release the lock early so that multiple threads can perform the call\u001b[0m\u001b[0;34m\u001b[0m\u001b[0;34m\u001b[0m\u001b[0;34m\u001b[0m\u001b[0m\n",
            "\u001b[0;32m/usr/local/lib/python3.7/dist-packages/tensorflow/python/eager/function.py\u001b[0m in \u001b[0;36m__call__\u001b[0;34m(self, *args, **kwargs)\u001b[0m\n\u001b[1;32m   2955\u001b[0m        filtered_flat_args) = self._maybe_define_function(args, kwargs)\n\u001b[1;32m   2956\u001b[0m     return graph_function._call_flat(\n\u001b[0;32m-> 2957\u001b[0;31m         filtered_flat_args, captured_inputs=graph_function.captured_inputs)  # pylint: disable=protected-access\n\u001b[0m\u001b[1;32m   2958\u001b[0m \u001b[0;34m\u001b[0m\u001b[0m\n\u001b[1;32m   2959\u001b[0m   \u001b[0;34m@\u001b[0m\u001b[0mproperty\u001b[0m\u001b[0;34m\u001b[0m\u001b[0;34m\u001b[0m\u001b[0m\n",
            "\u001b[0;32m/usr/local/lib/python3.7/dist-packages/tensorflow/python/eager/function.py\u001b[0m in \u001b[0;36m_call_flat\u001b[0;34m(self, args, captured_inputs, cancellation_manager)\u001b[0m\n\u001b[1;32m   1852\u001b[0m       \u001b[0;31m# No tape is watching; skip to running the function.\u001b[0m\u001b[0;34m\u001b[0m\u001b[0;34m\u001b[0m\u001b[0;34m\u001b[0m\u001b[0m\n\u001b[1;32m   1853\u001b[0m       return self._build_call_outputs(self._inference_function.call(\n\u001b[0;32m-> 1854\u001b[0;31m           ctx, args, cancellation_manager=cancellation_manager))\n\u001b[0m\u001b[1;32m   1855\u001b[0m     forward_backward = self._select_forward_and_backward_functions(\n\u001b[1;32m   1856\u001b[0m         \u001b[0margs\u001b[0m\u001b[0;34m,\u001b[0m\u001b[0;34m\u001b[0m\u001b[0;34m\u001b[0m\u001b[0m\n",
            "\u001b[0;32m/usr/local/lib/python3.7/dist-packages/tensorflow/python/eager/function.py\u001b[0m in \u001b[0;36mcall\u001b[0;34m(self, ctx, args, cancellation_manager)\u001b[0m\n\u001b[1;32m    502\u001b[0m               \u001b[0minputs\u001b[0m\u001b[0;34m=\u001b[0m\u001b[0margs\u001b[0m\u001b[0;34m,\u001b[0m\u001b[0;34m\u001b[0m\u001b[0;34m\u001b[0m\u001b[0m\n\u001b[1;32m    503\u001b[0m               \u001b[0mattrs\u001b[0m\u001b[0;34m=\u001b[0m\u001b[0mattrs\u001b[0m\u001b[0;34m,\u001b[0m\u001b[0;34m\u001b[0m\u001b[0;34m\u001b[0m\u001b[0m\n\u001b[0;32m--> 504\u001b[0;31m               ctx=ctx)\n\u001b[0m\u001b[1;32m    505\u001b[0m         \u001b[0;32melse\u001b[0m\u001b[0;34m:\u001b[0m\u001b[0;34m\u001b[0m\u001b[0;34m\u001b[0m\u001b[0m\n\u001b[1;32m    506\u001b[0m           outputs = execute.execute_with_cancellation(\n",
            "\u001b[0;32m/usr/local/lib/python3.7/dist-packages/tensorflow/python/eager/execute.py\u001b[0m in \u001b[0;36mquick_execute\u001b[0;34m(op_name, num_outputs, inputs, attrs, ctx, name)\u001b[0m\n\u001b[1;32m     53\u001b[0m     \u001b[0mctx\u001b[0m\u001b[0;34m.\u001b[0m\u001b[0mensure_initialized\u001b[0m\u001b[0;34m(\u001b[0m\u001b[0;34m)\u001b[0m\u001b[0;34m\u001b[0m\u001b[0;34m\u001b[0m\u001b[0m\n\u001b[1;32m     54\u001b[0m     tensors = pywrap_tfe.TFE_Py_Execute(ctx._handle, device_name, op_name,\n\u001b[0;32m---> 55\u001b[0;31m                                         inputs, attrs, num_outputs)\n\u001b[0m\u001b[1;32m     56\u001b[0m   \u001b[0;32mexcept\u001b[0m \u001b[0mcore\u001b[0m\u001b[0;34m.\u001b[0m\u001b[0m_NotOkStatusException\u001b[0m \u001b[0;32mas\u001b[0m \u001b[0me\u001b[0m\u001b[0;34m:\u001b[0m\u001b[0;34m\u001b[0m\u001b[0;34m\u001b[0m\u001b[0m\n\u001b[1;32m     57\u001b[0m     \u001b[0;32mif\u001b[0m \u001b[0mname\u001b[0m \u001b[0;32mis\u001b[0m \u001b[0;32mnot\u001b[0m \u001b[0;32mNone\u001b[0m\u001b[0;34m:\u001b[0m\u001b[0;34m\u001b[0m\u001b[0;34m\u001b[0m\u001b[0m\n",
            "\u001b[0;31mKeyboardInterrupt\u001b[0m: "
          ]
        }
      ]
    },
    {
      "cell_type": "code",
      "source": [
        "result_BiLSTM['vocab_size'] = VOCAB_SIZE \n",
        "result_BiLSTM['num_words'] = num_words \n",
        "result_BiLSTM['num_articles'] = num_articles\n",
        "result_BiLSTM['min_token_in_a_article'] = min_token_in_a_article \n",
        "result_BiLSTM['max_token_in_a_article'] = max_token_in_a_article \n",
        "new_col = ['Bidirectional LSTM']   \n",
        "result_BiLSTM.insert(loc=0, column='Model', value=new_col)"
      ],
      "metadata": {
        "id": "ufjOCOP9cxff"
      },
      "execution_count": null,
      "outputs": []
    },
    {
      "cell_type": "code",
      "source": [
        "assignment_result_table = assignment_result_table.append(result_BiLSTM,ignore_index=True)\n",
        "assignment_result_table"
      ],
      "metadata": {
        "id": "_gNgLxjGcxfg"
      },
      "execution_count": null,
      "outputs": []
    },
    {
      "cell_type": "markdown",
      "source": [
        "### Multiplelayer Bidirectional LSTM"
      ],
      "metadata": {
        "id": "jfMy7L0Tcy4d"
      }
    },
    {
      "cell_type": "code",
      "source": [
        "result_MBiLSTM = compile_train_model(Multiplelayer_BidirectionalLSTM, 200)"
      ],
      "metadata": {
        "id": "qrRkMdgjcy4f"
      },
      "execution_count": null,
      "outputs": []
    },
    {
      "cell_type": "code",
      "source": [
        "result_MBiLSTM['vocab_size'] = VOCAB_SIZE \n",
        "result_MBiLSTM['num_words'] = num_words \n",
        "result_MBiLSTM['num_articles'] = num_articles\n",
        "result_MBiLSTM['min_token_in_a_article'] = min_token_in_a_article \n",
        "result_MBiLSTM['max_token_in_a_article'] = max_token_in_a_article \n",
        "new_col = ['Multiplelayer Bidirectional LSTM']   \n",
        "result_MBiLSTM.insert(loc=0, column='Model', value=new_col)"
      ],
      "metadata": {
        "id": "CPPYIja5cy4g"
      },
      "execution_count": null,
      "outputs": []
    },
    {
      "cell_type": "code",
      "source": [
        "assignment_result_table = assignment_result_table.append(result_MBiLSTM,ignore_index=True)\n",
        "assignment_result_table"
      ],
      "metadata": {
        "id": "c3vqRHPNcy4h"
      },
      "execution_count": null,
      "outputs": []
    },
    {
      "cell_type": "markdown",
      "source": [
        "### Multiplelayer Bidirectional LSTM Dropout"
      ],
      "metadata": {
        "id": "KDN8wn-nczln"
      }
    },
    {
      "cell_type": "code",
      "source": [
        "result_MBiDLSTM = compile_train_model(Multiplelayer_BidirectionalLSTM_Dropout, 200)"
      ],
      "metadata": {
        "id": "rMLLVXqvczlo"
      },
      "execution_count": null,
      "outputs": []
    },
    {
      "cell_type": "code",
      "source": [
        "result_MBiDLSTM['vocab_size'] = VOCAB_SIZE \n",
        "result_MBiDLSTM['num_words'] = num_words \n",
        "result_MBiDLSTM['num_articles'] = num_articles\n",
        "result_MBiDLSTM['min_token_in_a_article'] = min_token_in_a_article \n",
        "result_MBiDLSTM['max_token_in_a_article'] = max_token_in_a_article \n",
        "new_col = ['Multiplelayer Bidirectional LSTM with Dropout']   \n",
        "result_MBiDLSTM.insert(loc=0, column='Model', value=new_col)"
      ],
      "metadata": {
        "id": "i-0xy7J8czlp"
      },
      "execution_count": null,
      "outputs": []
    },
    {
      "cell_type": "code",
      "source": [
        "assignment_result_table = assignment_result_table.append(result_MBiDLSTM,ignore_index=True)\n",
        "assignment_result_table"
      ],
      "metadata": {
        "id": "kBLqrBX-czlp"
      },
      "execution_count": null,
      "outputs": []
    },
    {
      "cell_type": "markdown",
      "source": [
        "## Save data"
      ],
      "metadata": {
        "id": "UeZjVGEg5_2K"
      }
    },
    {
      "cell_type": "code",
      "source": [
        "assignment_result_table.to_pickle(\"/content/gdrive/My Drive/Colab Notebooks/resultsC.pkl\") \n",
        "assignment_result_table.to_csv(\"/content/gdrive/My Drive/Colab Notebooks/resultsC.csv\") "
      ],
      "metadata": {
        "id": "NamBFDFZ59Fm"
      },
      "execution_count": null,
      "outputs": []
    }
  ]
}