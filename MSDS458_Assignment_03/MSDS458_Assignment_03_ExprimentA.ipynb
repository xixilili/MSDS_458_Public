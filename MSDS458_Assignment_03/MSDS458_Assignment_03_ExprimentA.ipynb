{
  "cells": [
    {
      "cell_type": "markdown",
      "metadata": {
        "id": "pRAx1f1ir1St"
      },
      "source": [
        "## MSDS458 Research Assignment 3"
      ]
    },
    {
      "cell_type": "markdown",
      "metadata": {
        "id": "jQnyR1_aFk-t"
      },
      "source": [
        "### Analyze AG_NEWS_SUBSET Data <br>\n",
        "\n",
        "AG is a collection of more than 1 million news articles. News articles have been gathered from more than 2000 news sources by ComeToMyHead in more than 1 year of activity. ComeToMyHead is an academic news search engine which has been running since July, 2004. The dataset is provided by the academic comunity for research purposes in data mining (clustering, classification, etc), information retrieval (ranking, search, etc), xml, data compression, data streaming, and any other non-commercial activity.<br> \n",
        "\n",
        "For more information, please refer to the link http://www.di.unipi.it/~gulli/AG_corpus_of_news_articles.html<br> \n",
        "\n",
        "\n",
        "The AG's news topic classification dataset is constructed by choosing 4 largest classes (**World**, **Sports**, **Business**, and **Sci/Tech**) from the original corpus. Each class contains 30,000 training samples and 1,900 testing samples. The total number of training samples is 120,000 and testing 7,600.<br>\n",
        "\n",
        "Homepage: https://arxiv.org/abs/1509.01626<br>\n",
        "\n",
        "Source code: tfds.text.AGNewsSubset\n",
        "\n",
        "Versions:\n",
        "\n",
        "1.0.0 (default): No release notes.\n",
        "Download size: 11.24 MiB\n",
        "\n",
        "Dataset size: 35.79 MiB"
      ]
    },
    {
      "cell_type": "markdown",
      "source": [
        "### Experiments A: EDA: For NLP projects, it is very important to do extensive EDA and do the preprocessing before defining models. These are the suggestions.\n",
        "\n",
        "(a) Vocabulary Size: Tweak the vocabulary size, at least 3 levels, eg. vocab size of 1000, 2000, 3000. This way, we can get insights whether the performance metric is non linearly related to the vocab size.\n",
        "\n",
        "(b) Editing the Vocabulary: Try unedited most frequent words, VERSUS edit the list by deleting the most frequent words such as article, ‘the’, ‘a’, etc.\n",
        "\n",
        "(c) Output sequence length: Use the default VERSUS set it to a fixed number"
      ],
      "metadata": {
        "id": "XNtjNM0WK8w3"
      }
    },
    {
      "cell_type": "markdown",
      "metadata": {
        "id": "oGBlk-2-NaCn"
      },
      "source": [
        "<div class=\"alert alert-block alert-success\">\n",
        "    <b>More Technical</b>: Throughout the notebook. This types of boxes provide more technical details and extra references about what you are seeing. They contain helpful tips, but you can safely skip them the first time you run through the code.\n",
        "</div>"
      ]
    },
    {
      "cell_type": "markdown",
      "metadata": {
        "id": "t-Jjr3rNr5PR"
      },
      "source": [
        "## Import packages "
      ]
    },
    {
      "cell_type": "code",
      "execution_count": 1,
      "metadata": {
        "id": "mbrX9qUZvfs1"
      },
      "outputs": [],
      "source": [
        "import datetime\n",
        "from packaging import version\n",
        "from collections import Counter\n",
        "import numpy as np\n",
        "import pandas as pd\n",
        "import time\n",
        "\n",
        "import matplotlib.pyplot as plt\n",
        "import matplotlib as mpl\n",
        "import seaborn as sns\n",
        "\n",
        "from sklearn.metrics import confusion_matrix, classification_report\n",
        "from sklearn.preprocessing import StandardScaler\n",
        "from sklearn.decomposition import PCA\n",
        "from sklearn.manifold import TSNE\n",
        "from sklearn.ensemble import RandomForestClassifier\n",
        "from sklearn.metrics import mean_squared_error as MSE\n",
        "from sklearn.metrics import accuracy_score\n",
        "\n",
        "import tensorflow as tf\n",
        "from tensorflow import keras\n",
        "import tensorflow_datasets as tfds"
      ]
    },
    {
      "cell_type": "code",
      "execution_count": null,
      "metadata": {
        "id": "Rn-mj2I3yRRJ"
      },
      "outputs": [],
      "source": [
        "#tf.get_logger().setLevel('INFO')"
      ]
    },
    {
      "cell_type": "code",
      "execution_count": 2,
      "metadata": {
        "id": "q0H8HuzHrWwN"
      },
      "outputs": [],
      "source": [
        "%matplotlib inline\n",
        "np.set_printoptions(precision=3, suppress=True)"
      ]
    },
    {
      "cell_type": "markdown",
      "metadata": {
        "id": "iKucNfkrsqrP"
      },
      "source": [
        "### Verify TensorFlow Version and Keras Version"
      ]
    },
    {
      "cell_type": "code",
      "execution_count": 3,
      "metadata": {
        "colab": {
          "base_uri": "https://localhost:8080/"
        },
        "id": "g_BoGg9JrWzj",
        "outputId": "d143cab5-05c9-48c9-ba3e-40094dfe1a09"
      },
      "outputs": [
        {
          "output_type": "stream",
          "name": "stdout",
          "text": [
            "This notebook requires TensorFlow 2.0 or above\n",
            "TensorFlow version:  2.8.0\n"
          ]
        }
      ],
      "source": [
        "print(\"This notebook requires TensorFlow 2.0 or above\")\n",
        "print(\"TensorFlow version: \", tf.__version__)\n",
        "assert version.parse(tf.__version__).release[0] >=2"
      ]
    },
    {
      "cell_type": "code",
      "execution_count": 4,
      "metadata": {
        "colab": {
          "base_uri": "https://localhost:8080/"
        },
        "id": "U_bLWHP4rW3b",
        "outputId": "626ba484-29bf-4dfb-cc54-f715b924f7c2"
      },
      "outputs": [
        {
          "output_type": "stream",
          "name": "stdout",
          "text": [
            "Keras version:  2.8.0\n"
          ]
        }
      ],
      "source": [
        "print(\"Keras version: \", keras.__version__)"
      ]
    },
    {
      "cell_type": "markdown",
      "metadata": {
        "id": "2f_UnFygCD0C"
      },
      "source": [
        "### Functions For Research Assignment "
      ]
    },
    {
      "cell_type": "code",
      "execution_count": 5,
      "metadata": {
        "id": "-hLghC3_CD0C"
      },
      "outputs": [],
      "source": [
        "def print_validation_report(test_labels, predictions):\n",
        "    print(\"Classification Report\")\n",
        "    print(classification_report(test_labels, predictions))\n",
        "    print('Accuracy Score: {}'.format(accuracy_score(test_labels, predictions)))\n",
        "    print('Root Mean Square Error: {}'.format(np.sqrt(MSE(test_labels, predictions)))) "
      ]
    },
    {
      "cell_type": "code",
      "execution_count": 6,
      "metadata": {
        "id": "leBaO1nGCD0C"
      },
      "outputs": [],
      "source": [
        "def plot_confusion_matrix(y_true, y_pred):\n",
        "    mtx = confusion_matrix(y_true, y_pred)\n",
        "    fig, ax = plt.subplots(figsize=(8,8))\n",
        "    sns.heatmap(mtx, annot=True, fmt='d', linewidths=.75,  cbar=False, ax=ax,cmap='Blues',linecolor='white')\n",
        "    #  square=True,\n",
        "    plt.ylabel('true label')\n",
        "    plt.xlabel('predicted label')"
      ]
    },
    {
      "cell_type": "code",
      "execution_count": 7,
      "metadata": {
        "id": "xmTmnuEaCD0D"
      },
      "outputs": [],
      "source": [
        "def plot_graphs(history, metric):\n",
        "  plt.plot(history.history[metric])\n",
        "  plt.plot(history.history['val_'+metric], '')\n",
        "  plt.xlabel(\"Epochs\")\n",
        "  plt.ylabel(metric)\n",
        "  plt.legend([metric, 'val_'+metric])"
      ]
    },
    {
      "cell_type": "markdown",
      "metadata": {
        "id": "-mFyXjJmtJ3E"
      },
      "source": [
        "### Mount Google Drive to Colab Environment"
      ]
    },
    {
      "cell_type": "code",
      "execution_count": null,
      "metadata": {
        "id": "CXm3H81YrW8-"
      },
      "outputs": [],
      "source": [
        "#from google.colab import drive\n",
        "#drive.mount('/content/gdrive')"
      ]
    },
    {
      "cell_type": "markdown",
      "metadata": {
        "id": "X6s4xhh5ysp6"
      },
      "source": [
        "###  TensorFlow Datasets Information<br>\n",
        "<div class=\"alert alert-block alert-info\">\n",
        "    <b> ag_news_subset</b><br>\n",
        "    See https://www.tensorflow.org/datasets/catalog/ag_news_subset\n",
        "    </div>"
      ]
    },
    {
      "cell_type": "markdown",
      "metadata": {
        "id": "cL3ewSkAF4yF"
      },
      "source": [
        "Get all the words in the documents (as well as the number of words in each document) by using the encoder to get the indices associated with each token and then translating the indices to tokens. But first we need to get the \"unpadded\" new articles so that we can get their length."
      ]
    },
    {
      "cell_type": "code",
      "execution_count": null,
      "metadata": {
        "colab": {
          "base_uri": "https://localhost:8080/"
        },
        "id": "VNj2HSxNtTNS",
        "outputId": "ad65c322-9d27-4c52-927f-4a59e55f109e",
        "scrolled": false
      },
      "outputs": [
        {
          "output_type": "stream",
          "name": "stdout",
          "text": [
            "I0216 20:23:17.891458 140513121654656 download_and_prepare.py:200] Running download_and_prepare for dataset(s):\n",
            "ag_news_subset\n",
            "I0216 20:23:18.044544 140513121654656 dataset_info.py:434] Load pre-computed DatasetInfo (eg: splits, num examples,...) from GCS: ag_news_subset/1.0.0\n",
            "I0216 20:23:18.276428 140513121654656 dataset_info.py:361] Load dataset info from /tmp/tmpwdftc5xktfds\n",
            "I0216 20:23:18.278311 140513121654656 download_and_prepare.py:138] download_and_prepare for dataset ag_news_subset/1.0.0...\n",
            "I0216 20:23:18.278694 140513121654656 dataset_builder.py:357] Generating dataset ag_news_subset (/root/tensorflow_datasets/ag_news_subset/1.0.0)\n",
            "\u001b[1mDownloading and preparing dataset ag_news_subset/1.0.0 (download: 11.24 MiB, generated: 35.79 MiB, total: 47.03 MiB) to /root/tensorflow_datasets/ag_news_subset/1.0.0...\u001b[0m\n",
            "Dl Completed...: 0 url [00:00, ? url/s]\n",
            "Dl Size...: 0 MiB [00:00, ? MiB/s]\u001b[A\n",
            "\n",
            "Extraction completed...: 0 file [00:00, ? file/s]\u001b[A\u001b[AI0216 20:23:18.533284 140513121654656 download_manager.py:476] Downloading https://drive.google.com/uc?export=download&id=0Bz8a_Dbh9QhbUDNpeUdjb0wxRms into /root/tensorflow_datasets/downloads/ucexport_download_id_0Bz8a_Dbh9QhbUDNpeUdjb0wxj4g1umFAV8OV-uDwxSJR0LdxO_k1jxMuFWwAfNX9jos.tmp.4bd23a5aac1f464592f7e445d3ddae9f...\n",
            "Dl Completed...:   0% 0/1 [00:00<?, ? url/s]\n",
            "Dl Size...: 0 MiB [00:00, ? MiB/s]\u001b[A\n",
            "\n",
            "Dl Completed...:   0% 0/1 [00:12<?, ? url/s]\n",
            "Dl Size...:   0% 0/11 [00:12<?, ? MiB/s]\u001b[A\n",
            "\n",
            "Extraction completed...: 0 file [00:12, ? file/s]\u001b[A\u001b[A\n",
            "Dl Completed...:   0% 0/1 [00:12<?, ? url/s]\n",
            "Dl Size...:   9% 1/11 [00:12<02:02, 12.27s/ MiB]\u001b[A\n",
            "\n",
            "Dl Completed...:   0% 0/1 [00:12<?, ? url/s]\n",
            "Dl Size...:  18% 2/11 [00:12<01:50, 12.27s/ MiB]\u001b[A\n",
            "\n",
            "Dl Completed...:   0% 0/1 [00:12<?, ? url/s]\n",
            "Dl Size...:  27% 3/11 [00:12<01:38, 12.27s/ MiB]\u001b[A\n",
            "\n",
            "Dl Completed...:   0% 0/1 [00:12<?, ? url/s]\n",
            "Dl Size...:  36% 4/11 [00:12<01:25, 12.27s/ MiB]\u001b[A\n",
            "\n",
            "Dl Completed...:   0% 0/1 [00:12<?, ? url/s]\n",
            "Dl Size...:  45% 5/11 [00:12<01:13, 12.27s/ MiB]\u001b[A\n",
            "\n",
            "Dl Completed...:   0% 0/1 [00:12<?, ? url/s]\n",
            "Dl Size...:  55% 6/11 [00:12<01:01, 12.27s/ MiB]\u001b[A\n",
            "\n",
            "Dl Completed...:   0% 0/1 [00:12<?, ? url/s]\n",
            "Dl Size...:  64% 7/11 [00:12<00:49, 12.27s/ MiB]\u001b[A\n",
            "\n",
            "Dl Completed...:   0% 0/1 [00:12<?, ? url/s]\n",
            "Dl Size...:  73% 8/11 [00:12<00:36, 12.27s/ MiB]\u001b[A\n",
            "\n",
            "Extraction completed...: 0 file [00:12, ? file/s]\u001b[A\u001b[A\n",
            "Dl Completed...:   0% 0/1 [00:12<?, ? url/s]\n",
            "Dl Size...:  82% 9/11 [00:12<00:01,  1.00 MiB/s]\u001b[A\n",
            "\n",
            "Dl Completed...:   0% 0/1 [00:12<?, ? url/s]\n",
            "Dl Size...:  91% 10/11 [00:12<00:00,  1.00 MiB/s]\u001b[A\n",
            "\n",
            "Dl Completed...:   0% 0/1 [00:12<?, ? url/s]\n",
            "Dl Size...: 100% 11/11 [00:12<00:00,  1.00 MiB/s]\u001b[A\n",
            "\n",
            "Dl Completed...: 100% 1/1 [00:12<00:00, 12.41s/ url]\n",
            "Dl Size...: 100% 11/11 [00:12<00:00,  1.00 MiB/s]\u001b[A\n",
            "\n",
            "Dl Completed...: 100% 1/1 [00:12<00:00, 12.41s/ url]\n",
            "Dl Size...: 100% 11/11 [00:12<00:00,  1.00 MiB/s]\u001b[A\n",
            "\n",
            "Extraction completed...:   0% 0/1 [00:12<?, ? file/s]\u001b[A\u001b[A\n",
            "\n",
            "Dl Completed...: 100% 1/1 [00:12<00:00, 12.41s/ url]\n",
            "Dl Size...: 100% 11/11 [00:12<00:00,  1.00 MiB/s]\u001b[A\n",
            "\n",
            "Extraction completed...: 100% 1/1 [00:12<00:00, 12.82s/ file]\u001b[A\u001b[A\n",
            "Extraction completed...: 100% 1/1 [00:12<00:00, 12.82s/ file]\n",
            "\n",
            "Dl Size...: 100% 11/11 [00:12<00:00,  1.17s/ MiB]\n",
            "\n",
            "Dl Completed...: 100% 1/1 [00:12<00:00, 12.82s/ url]\n",
            "I0216 20:23:31.350896 140513121654656 dataset_builder.py:970] Generating split train\n",
            "Shuffling and writing examples to /root/tensorflow_datasets/ag_news_subset/1.0.0.incompleteM83GKO/ag_news_subset-train.tfrecord\n",
            " 99% 119196/120000 [00:00<00:00, 335320.04 examples/s]I0216 20:24:04.454837 140513121654656 tfrecords_writer.py:226] Done writing /root/tensorflow_datasets/ag_news_subset/1.0.0.incompleteM83GKO/ag_news_subset-train.tfrecord. Shard lengths: [120000]\n",
            "I0216 20:24:04.474438 140513121654656 dataset_builder.py:970] Generating split test\n",
            "Shuffling and writing examples to /root/tensorflow_datasets/ag_news_subset/1.0.0.incompleteM83GKO/ag_news_subset-test.tfrecord\n",
            "  0% 0/7600 [00:00<?, ? examples/s]I0216 20:24:06.518958 140513121654656 tfrecords_writer.py:226] Done writing /root/tensorflow_datasets/ag_news_subset/1.0.0.incompleteM83GKO/ag_news_subset-test.tfrecord. Shard lengths: [7600]\n",
            "I0216 20:24:06.521377 140513121654656 dataset_builder.py:412] Skipping computing stats for mode ComputeStatsMode.SKIP.\n",
            "\u001b[1mDataset ag_news_subset downloaded and prepared to /root/tensorflow_datasets/ag_news_subset/1.0.0. Subsequent calls will reuse this data.\u001b[0m\n",
            "\u001b[1mname: \"ag_news_subset\"\n",
            "description: \"AG is a collection of more than 1 million news articles.\\nNews articles have been gathered from more than 2000  news sources by ComeToMyHead in more than 1 year of activity.\\nComeToMyHead is an academic news search engine which has been running since July, 2004.\\nThe dataset is provided by the academic comunity for research purposes in data mining (clustering, classification, etc),\\ninformation retrieval (ranking, search, etc), xml, data compression, data streaming,\\nand any other non-commercial activity.\\nFor more information, please refer to the link http://www.di.unipi.it/~gulli/AG_corpus_of_news_articles.html .\\n\\nThe AG\\'s news topic classification dataset is constructed by Xiang Zhang (xiang.zhang@nyu.edu) from the dataset above.\\nIt is used as a text classification benchmark in the following paper:\\nXiang Zhang, Junbo Zhao, Yann LeCun. Character-level Convolutional Networks for Text Classification. Advances in Neural Information Processing Systems 28 (NIPS 2015).\\n\\nThe AG\\'s news topic classification dataset is constructed by choosing 4 largest classes from the original corpus.\\nEach class contains 30,000 training samples and 1,900 testing samples.\\nThe total number of training samples is 120,000 and testing 7,600.\"\n",
            "citation: \"@misc{zhang2015characterlevel,\\n    title={Character-level Convolutional Networks for Text Classification},\\n    author={Xiang Zhang and Junbo Zhao and Yann LeCun},\\n    year={2015},\\n    eprint={1509.01626},\\n    archivePrefix={arXiv},\\n    primaryClass={cs.LG}\\n}\"\n",
            "location {\n",
            "  urls: \"https://arxiv.org/abs/1509.01626\"\n",
            "}\n",
            "splits {\n",
            "  name: \"test\"\n",
            "  shard_lengths: 7600\n",
            "  num_bytes: 2226751\n",
            "}\n",
            "splits {\n",
            "  name: \"train\"\n",
            "  shard_lengths: 120000\n",
            "  num_bytes: 35301386\n",
            "}\n",
            "supervised_keys {\n",
            "  input: \"description\"\n",
            "  output: \"label\"\n",
            "}\n",
            "version: \"1.0.0\"\n",
            "download_size: 11784327\n",
            "\u001b[0m\n"
          ]
        }
      ],
      "source": [
        "#register  ag_news_subset so that tfds.load doesn't generate a checksum (mismatch) error\n",
        "!python -m tensorflow_datasets.scripts.download_and_prepare --register_checksums --datasets=ag_news_subset\n",
        "\n",
        "# https://www.tensorflow.org/datasets/splits\n",
        "# The full `train` and `test` splits, interleaved together.\n",
        "ri = tfds.core.ReadInstruction('train') + tfds.core.ReadInstruction('test')\n",
        "dataset_all, info = tfds.load('ag_news_subset', with_info=True,  split=ri, as_supervised=True)"
      ]
    },
    {
      "cell_type": "markdown",
      "metadata": {
        "id": "Bzs2FWbQIf5m"
      },
      "source": [
        "##  EDA"
      ]
    },
    {
      "cell_type": "markdown",
      "metadata": {
        "id": "m7514-j4I4B-"
      },
      "source": [
        "**Get information about the ag_news_subset dataset. We combined the training and test data for a total of 127,600 news articles.**"
      ]
    },
    {
      "cell_type": "code",
      "execution_count": null,
      "metadata": {
        "colab": {
          "base_uri": "https://localhost:8080/"
        },
        "id": "eJNcnZbRtTQ2",
        "outputId": "33c48bc2-e5fc-4e04-bc42-5dd990239e45"
      },
      "outputs": [
        {
          "output_type": "stream",
          "name": "stdout",
          "text": [
            "tfds.core.DatasetInfo(\n",
            "    name='ag_news_subset',\n",
            "    version=1.0.0,\n",
            "    description='AG is a collection of more than 1 million news articles.\n",
            "News articles have been gathered from more than 2000  news sources by ComeToMyHead in more than 1 year of activity.\n",
            "ComeToMyHead is an academic news search engine which has been running since July, 2004.\n",
            "The dataset is provided by the academic comunity for research purposes in data mining (clustering, classification, etc),\n",
            "information retrieval (ranking, search, etc), xml, data compression, data streaming,\n",
            "and any other non-commercial activity.\n",
            "For more information, please refer to the link http://www.di.unipi.it/~gulli/AG_corpus_of_news_articles.html .\n",
            "\n",
            "The AG's news topic classification dataset is constructed by Xiang Zhang (xiang.zhang@nyu.edu) from the dataset above.\n",
            "It is used as a text classification benchmark in the following paper:\n",
            "Xiang Zhang, Junbo Zhao, Yann LeCun. Character-level Convolutional Networks for Text Classification. Advances in Neural Information Processing Systems 28 (NIPS 2015).\n",
            "\n",
            "The AG's news topic classification dataset is constructed by choosing 4 largest classes from the original corpus.\n",
            "Each class contains 30,000 training samples and 1,900 testing samples.\n",
            "The total number of training samples is 120,000 and testing 7,600.',\n",
            "    homepage='https://arxiv.org/abs/1509.01626',\n",
            "    features=FeaturesDict({\n",
            "        'description': Text(shape=(), dtype=tf.string),\n",
            "        'label': ClassLabel(shape=(), dtype=tf.int64, num_classes=4),\n",
            "        'title': Text(shape=(), dtype=tf.string),\n",
            "    }),\n",
            "    total_num_examples=127600,\n",
            "    splits={\n",
            "        'test': 7600,\n",
            "        'train': 120000,\n",
            "    },\n",
            "    supervised_keys=('description', 'label'),\n",
            "    citation=\"\"\"@misc{zhang2015characterlevel,\n",
            "        title={Character-level Convolutional Networks for Text Classification},\n",
            "        author={Xiang Zhang and Junbo Zhao and Yann LeCun},\n",
            "        year={2015},\n",
            "        eprint={1509.01626},\n",
            "        archivePrefix={arXiv},\n",
            "        primaryClass={cs.LG}\n",
            "    }\"\"\",\n",
            "    redistribution_info=,\n",
            ")\n",
            "\n"
          ]
        }
      ],
      "source": [
        "print(info)"
      ]
    },
    {
      "cell_type": "code",
      "execution_count": null,
      "metadata": {
        "colab": {
          "base_uri": "https://localhost:8080/",
          "height": 447
        },
        "id": "w6GaSzMRqrIR",
        "outputId": "935bb690-d148-40ca-ae03-8e77e7c36373"
      },
      "outputs": [
        {
          "output_type": "execute_result",
          "data": {
            "text/html": [
              "\n",
              "  <div id=\"df-401a7500-e208-4528-8983-3f269ac1decf\">\n",
              "    <div class=\"colab-df-container\">\n",
              "      <style type=\"text/css\">\n",
              "</style>\n",
              "<table id=\"T_b90c9_\">\n",
              "  <thead>\n",
              "    <tr>\n",
              "      <th class=\"blank level0\" >&nbsp;</th>\n",
              "      <th class=\"col_heading level0 col0\" >description</th>\n",
              "      <th class=\"col_heading level0 col1\" >label</th>\n",
              "    </tr>\n",
              "  </thead>\n",
              "  <tbody>\n",
              "    <tr>\n",
              "      <th id=\"T_b90c9_level0_row0\" class=\"row_heading level0 row0\" >0</th>\n",
              "      <td id=\"T_b90c9_row0_col0\" class=\"data row0 col0\" >AMD #39;s new dual-core Opteron chip is designed mainly for corporate computing applications, including databases, Web services, and financial transactions.</td>\n",
              "      <td id=\"T_b90c9_row0_col1\" class=\"data row0 col1\" >3 (Sci/Tech)</td>\n",
              "    </tr>\n",
              "    <tr>\n",
              "      <th id=\"T_b90c9_level0_row1\" class=\"row_heading level0 row1\" >1</th>\n",
              "      <td id=\"T_b90c9_row1_col0\" class=\"data row1 col0\" >Reuters - Major League Baseball\\Monday announced a decision on the appeal filed by Chicago Cubs\\pitcher Kerry Wood regarding a suspension stemming from an\\incident earlier this season.</td>\n",
              "      <td id=\"T_b90c9_row1_col1\" class=\"data row1 col1\" >1 (Sports)</td>\n",
              "    </tr>\n",
              "    <tr>\n",
              "      <th id=\"T_b90c9_level0_row2\" class=\"row_heading level0 row2\" >2</th>\n",
              "      <td id=\"T_b90c9_row2_col0\" class=\"data row2 col0\" >President Bush #39;s quot;revenue-neutral quot; tax reform needs losers to balance its winners, and people claiming the federal deduction for state and local taxes may be in administration planners #39; sights, news reports say.</td>\n",
              "      <td id=\"T_b90c9_row2_col1\" class=\"data row2 col1\" >2 (Business)</td>\n",
              "    </tr>\n",
              "    <tr>\n",
              "      <th id=\"T_b90c9_level0_row3\" class=\"row_heading level0 row3\" >3</th>\n",
              "      <td id=\"T_b90c9_row3_col0\" class=\"data row3 col0\" >Britain will run out of leading scientists unless science education is improved, says Professor Colin Pillinger.</td>\n",
              "      <td id=\"T_b90c9_row3_col1\" class=\"data row3 col1\" >3 (Sci/Tech)</td>\n",
              "    </tr>\n",
              "    <tr>\n",
              "      <th id=\"T_b90c9_level0_row4\" class=\"row_heading level0 row4\" >4</th>\n",
              "      <td id=\"T_b90c9_row4_col0\" class=\"data row4 col0\" >London, England (Sports Network) - England midfielder Steven Gerrard injured his groin late in Thursday #39;s training session, but is hopeful he will be ready for Saturday #39;s World Cup qualifier against Austria.</td>\n",
              "      <td id=\"T_b90c9_row4_col1\" class=\"data row4 col1\" >1 (Sports)</td>\n",
              "    </tr>\n",
              "    <tr>\n",
              "      <th id=\"T_b90c9_level0_row5\" class=\"row_heading level0 row5\" >5</th>\n",
              "      <td id=\"T_b90c9_row5_col0\" class=\"data row5 col0\" >TOKYO - Sony Corp. is banking on the \\$3 billion deal to acquire Hollywood studio Metro-Goldwyn-Mayer Inc...</td>\n",
              "      <td id=\"T_b90c9_row5_col1\" class=\"data row5 col1\" >0 (World)</td>\n",
              "    </tr>\n",
              "    <tr>\n",
              "      <th id=\"T_b90c9_level0_row6\" class=\"row_heading level0 row6\" >6</th>\n",
              "      <td id=\"T_b90c9_row6_col0\" class=\"data row6 col0\" >Giant pandas may well prefer bamboo to laptops, but wireless technology is helping researchers in China in their efforts to protect the engandered animals living in the remote Wolong Nature Reserve.</td>\n",
              "      <td id=\"T_b90c9_row6_col1\" class=\"data row6 col1\" >3 (Sci/Tech)</td>\n",
              "    </tr>\n",
              "    <tr>\n",
              "      <th id=\"T_b90c9_level0_row7\" class=\"row_heading level0 row7\" >7</th>\n",
              "      <td id=\"T_b90c9_row7_col0\" class=\"data row7 col0\" >VILNIUS, Lithuania - Lithuania #39;s main parties formed an alliance to try to keep a Russian-born tycoon and his populist promises out of the government in Sunday #39;s second round of parliamentary elections in this Baltic country.</td>\n",
              "      <td id=\"T_b90c9_row7_col1\" class=\"data row7 col1\" >0 (World)</td>\n",
              "    </tr>\n",
              "    <tr>\n",
              "      <th id=\"T_b90c9_level0_row8\" class=\"row_heading level0 row8\" >8</th>\n",
              "      <td id=\"T_b90c9_row8_col0\" class=\"data row8 col0\" >Witnesses in the trial of a US soldier charged with abusing prisoners at Abu Ghraib have told the court that the CIA sometimes directed abuse and orders were received from military command to toughen interrogations.</td>\n",
              "      <td id=\"T_b90c9_row8_col1\" class=\"data row8 col1\" >0 (World)</td>\n",
              "    </tr>\n",
              "    <tr>\n",
              "      <th id=\"T_b90c9_level0_row9\" class=\"row_heading level0 row9\" >9</th>\n",
              "      <td id=\"T_b90c9_row9_col0\" class=\"data row9 col0\" >Dan Olsen of Ponte Vedra Beach, Fla., shot a 7-under 65 Thursday to take a one-shot lead after two rounds of the PGA Tour qualifying tournament.</td>\n",
              "      <td id=\"T_b90c9_row9_col1\" class=\"data row9 col1\" >1 (Sports)</td>\n",
              "    </tr>\n",
              "  </tbody>\n",
              "</table>\n",
              "\n",
              "      <button class=\"colab-df-convert\" onclick=\"convertToInteractive('df-401a7500-e208-4528-8983-3f269ac1decf')\"\n",
              "              title=\"Convert this dataframe to an interactive table.\"\n",
              "              style=\"display:none;\">\n",
              "        \n",
              "  <svg xmlns=\"http://www.w3.org/2000/svg\" height=\"24px\"viewBox=\"0 0 24 24\"\n",
              "       width=\"24px\">\n",
              "    <path d=\"M0 0h24v24H0V0z\" fill=\"none\"/>\n",
              "    <path d=\"M18.56 5.44l.94 2.06.94-2.06 2.06-.94-2.06-.94-.94-2.06-.94 2.06-2.06.94zm-11 1L8.5 8.5l.94-2.06 2.06-.94-2.06-.94L8.5 2.5l-.94 2.06-2.06.94zm10 10l.94 2.06.94-2.06 2.06-.94-2.06-.94-.94-2.06-.94 2.06-2.06.94z\"/><path d=\"M17.41 7.96l-1.37-1.37c-.4-.4-.92-.59-1.43-.59-.52 0-1.04.2-1.43.59L10.3 9.45l-7.72 7.72c-.78.78-.78 2.05 0 2.83L4 21.41c.39.39.9.59 1.41.59.51 0 1.02-.2 1.41-.59l7.78-7.78 2.81-2.81c.8-.78.8-2.07 0-2.86zM5.41 20L4 18.59l7.72-7.72 1.47 1.35L5.41 20z\"/>\n",
              "  </svg>\n",
              "      </button>\n",
              "      \n",
              "  <style>\n",
              "    .colab-df-container {\n",
              "      display:flex;\n",
              "      flex-wrap:wrap;\n",
              "      gap: 12px;\n",
              "    }\n",
              "\n",
              "    .colab-df-convert {\n",
              "      background-color: #E8F0FE;\n",
              "      border: none;\n",
              "      border-radius: 50%;\n",
              "      cursor: pointer;\n",
              "      display: none;\n",
              "      fill: #1967D2;\n",
              "      height: 32px;\n",
              "      padding: 0 0 0 0;\n",
              "      width: 32px;\n",
              "    }\n",
              "\n",
              "    .colab-df-convert:hover {\n",
              "      background-color: #E2EBFA;\n",
              "      box-shadow: 0px 1px 2px rgba(60, 64, 67, 0.3), 0px 1px 3px 1px rgba(60, 64, 67, 0.15);\n",
              "      fill: #174EA6;\n",
              "    }\n",
              "\n",
              "    [theme=dark] .colab-df-convert {\n",
              "      background-color: #3B4455;\n",
              "      fill: #D2E3FC;\n",
              "    }\n",
              "\n",
              "    [theme=dark] .colab-df-convert:hover {\n",
              "      background-color: #434B5C;\n",
              "      box-shadow: 0px 1px 3px 1px rgba(0, 0, 0, 0.15);\n",
              "      filter: drop-shadow(0px 1px 2px rgba(0, 0, 0, 0.3));\n",
              "      fill: #FFFFFF;\n",
              "    }\n",
              "  </style>\n",
              "\n",
              "      <script>\n",
              "        const buttonEl =\n",
              "          document.querySelector('#df-401a7500-e208-4528-8983-3f269ac1decf button.colab-df-convert');\n",
              "        buttonEl.style.display =\n",
              "          google.colab.kernel.accessAllowed ? 'block' : 'none';\n",
              "\n",
              "        async function convertToInteractive(key) {\n",
              "          const element = document.querySelector('#df-401a7500-e208-4528-8983-3f269ac1decf');\n",
              "          const dataTable =\n",
              "            await google.colab.kernel.invokeFunction('convertToInteractive',\n",
              "                                                     [key], {});\n",
              "          if (!dataTable) return;\n",
              "\n",
              "          const docLinkHtml = 'Like what you see? Visit the ' +\n",
              "            '<a target=\"_blank\" href=https://colab.research.google.com/notebooks/data_table.ipynb>data table notebook</a>'\n",
              "            + ' to learn more about interactive tables.';\n",
              "          element.innerHTML = '';\n",
              "          dataTable['output_type'] = 'display_data';\n",
              "          await google.colab.output.renderOutput(dataTable, element);\n",
              "          const docLink = document.createElement('div');\n",
              "          docLink.innerHTML = docLinkHtml;\n",
              "          element.appendChild(docLink);\n",
              "        }\n",
              "      </script>\n",
              "    </div>\n",
              "  </div>\n",
              "  "
            ],
            "text/plain": [
              "                                         description  label\n",
              "0  b'AMD #39;s new dual-core Opteron chip is desi...      3\n",
              "1  b'Reuters - Major League Baseball\\\\Monday anno...      1\n",
              "2  b'President Bush #39;s  quot;revenue-neutral q...      2\n",
              "3  b'Britain will run out of leading scientists u...      3\n",
              "4  b'London, England (Sports Network) - England m...      1\n",
              "5  b'TOKYO - Sony Corp. is banking on the \\\\$3 bi...      0\n",
              "6  b'Giant pandas may well prefer bamboo to lapto...      3\n",
              "7  b'VILNIUS, Lithuania - Lithuania #39;s main pa...      0\n",
              "8  b'Witnesses in the trial of a US soldier charg...      0\n",
              "9  b'Dan Olsen of Ponte Vedra Beach, Fla., shot a...      1"
            ]
          },
          "metadata": {},
          "execution_count": 10
        }
      ],
      "source": [
        "tfds.as_dataframe(dataset_all.take(10),info)"
      ]
    },
    {
      "cell_type": "markdown",
      "metadata": {
        "id": "RoG_cOcMMKgC"
      },
      "source": [
        "### Review Labels (Categories) "
      ]
    },
    {
      "cell_type": "code",
      "execution_count": null,
      "metadata": {
        "colab": {
          "base_uri": "https://localhost:8080/"
        },
        "id": "4uBCsL_8tTUU",
        "outputId": "e265a153-9cee-437f-a778-841323ff47cb"
      },
      "outputs": [
        {
          "output_type": "stream",
          "name": "stdout",
          "text": [
            "There are 4 classes in the dataset.\n",
            "The class names are ['World', 'Sports', 'Business', 'Sci/Tech']\n"
          ]
        }
      ],
      "source": [
        "print(f'There are {info.features[\"label\"].num_classes} classes in the dataset.')\n",
        "print(f'The class names are {info.features[\"label\"].names}')"
      ]
    },
    {
      "cell_type": "code",
      "execution_count": null,
      "metadata": {
        "colab": {
          "base_uri": "https://localhost:8080/"
        },
        "id": "fRbULmnCtTXo",
        "outputId": "123445d5-7ff6-46a9-ec3e-65ed18514e3e"
      },
      "outputs": [
        {
          "output_type": "execute_result",
          "data": {
            "text/plain": [
              "{0: 'World', 1: 'Sports', 2: 'Business', 3: 'Sci/Tech'}"
            ]
          },
          "metadata": {},
          "execution_count": 12
        }
      ],
      "source": [
        "# classes dictionary\n",
        "categories =dict(enumerate(info.features[\"label\"].names))\n",
        "categories"
      ]
    },
    {
      "cell_type": "markdown",
      "metadata": {
        "id": "xXQzudk9MmOs"
      },
      "source": [
        "The 127,600 news articles are evenly distributed among the 4 categories"
      ]
    },
    {
      "cell_type": "code",
      "execution_count": null,
      "metadata": {
        "colab": {
          "base_uri": "https://localhost:8080/"
        },
        "id": "PRtOaULstTbJ",
        "outputId": "a2aec497-64f1-4207-8501-a048fae21a22"
      },
      "outputs": [
        {
          "output_type": "execute_result",
          "data": {
            "text/plain": [
              "[('Sci/Tech', 31900), ('Sports', 31900), ('Business', 31900), ('World', 31900)]"
            ]
          },
          "metadata": {},
          "execution_count": 13
        }
      ],
      "source": [
        "train_categories = [categories[label] for label in dataset_all.map(lambda text, label: label).as_numpy_iterator()]\n",
        "Counter(train_categories).most_common()"
      ]
    },
    {
      "cell_type": "markdown",
      "metadata": {
        "id": "k6-1-zvxdS8f"
      },
      "source": [
        "We will use the tf.keras.layers.experimental.preprocessing.TextVectorization layer to transform each news article into a \"list\" of non-negative integers representing the tokens in the news article.\n",
        "\n",
        "For the purpose of training our models each such \"encoding\" will have a fixed length corresponding to the news article(s) with the most tokens. Shorter articles will be right-padded with zeros in the encoding. Also to speed up the training process, we will set max_tokens = 1000 so that words not in the vabulary set of top 1000 most common tokes are encoded as 1. But first we set max_tokens = None (which is the default value) in order to get the vocabulary size of the corpus.\n"
      ]
    },
    {
      "cell_type": "code",
      "execution_count": 9,
      "metadata": {
        "colab": {
          "base_uri": "https://localhost:8080/",
          "height": 416
        },
        "id": "WYY7P-aaeU4Z",
        "outputId": "8c61c711-bc1d-4373-b1c2-4681ec61e7ac"
      },
      "outputs": [
        {
          "output_type": "error",
          "ename": "NameError",
          "evalue": "ignored",
          "traceback": [
            "\u001b[0;31m---------------------------------------------------------------------------\u001b[0m",
            "\u001b[0;31mNameError\u001b[0m                                 Traceback (most recent call last)",
            "\u001b[0;32m<ipython-input-9-000cefec7004>\u001b[0m in \u001b[0;36m<module>\u001b[0;34m()\u001b[0m\n\u001b[0;32m----> 1\u001b[0;31m \u001b[0mget_ipython\u001b[0m\u001b[0;34m(\u001b[0m\u001b[0;34m)\u001b[0m\u001b[0;34m.\u001b[0m\u001b[0mrun_cell_magic\u001b[0m\u001b[0;34m(\u001b[0m\u001b[0;34m'time'\u001b[0m\u001b[0;34m,\u001b[0m \u001b[0;34m''\u001b[0m\u001b[0;34m,\u001b[0m \u001b[0;34m'encoder = tf.keras.layers.experimental.preprocessing.TextVectorization(max_tokens=None)\\nencoder.adapt(dataset_all.map(lambda text, label: text))\\nvocab = np.array(encoder.get_vocabulary())'\u001b[0m\u001b[0;34m)\u001b[0m\u001b[0;34m\u001b[0m\u001b[0;34m\u001b[0m\u001b[0m\n\u001b[0m",
            "\u001b[0;32m/usr/local/lib/python3.7/dist-packages/IPython/core/interactiveshell.py\u001b[0m in \u001b[0;36mrun_cell_magic\u001b[0;34m(self, magic_name, line, cell)\u001b[0m\n\u001b[1;32m   2115\u001b[0m             \u001b[0mmagic_arg_s\u001b[0m \u001b[0;34m=\u001b[0m \u001b[0mself\u001b[0m\u001b[0;34m.\u001b[0m\u001b[0mvar_expand\u001b[0m\u001b[0;34m(\u001b[0m\u001b[0mline\u001b[0m\u001b[0;34m,\u001b[0m \u001b[0mstack_depth\u001b[0m\u001b[0;34m)\u001b[0m\u001b[0;34m\u001b[0m\u001b[0;34m\u001b[0m\u001b[0m\n\u001b[1;32m   2116\u001b[0m             \u001b[0;32mwith\u001b[0m \u001b[0mself\u001b[0m\u001b[0;34m.\u001b[0m\u001b[0mbuiltin_trap\u001b[0m\u001b[0;34m:\u001b[0m\u001b[0;34m\u001b[0m\u001b[0;34m\u001b[0m\u001b[0m\n\u001b[0;32m-> 2117\u001b[0;31m                 \u001b[0mresult\u001b[0m \u001b[0;34m=\u001b[0m \u001b[0mfn\u001b[0m\u001b[0;34m(\u001b[0m\u001b[0mmagic_arg_s\u001b[0m\u001b[0;34m,\u001b[0m \u001b[0mcell\u001b[0m\u001b[0;34m)\u001b[0m\u001b[0;34m\u001b[0m\u001b[0;34m\u001b[0m\u001b[0m\n\u001b[0m\u001b[1;32m   2118\u001b[0m             \u001b[0;32mreturn\u001b[0m \u001b[0mresult\u001b[0m\u001b[0;34m\u001b[0m\u001b[0;34m\u001b[0m\u001b[0m\n\u001b[1;32m   2119\u001b[0m \u001b[0;34m\u001b[0m\u001b[0m\n",
            "\u001b[0;32m<decorator-gen-53>\u001b[0m in \u001b[0;36mtime\u001b[0;34m(self, line, cell, local_ns)\u001b[0m\n",
            "\u001b[0;32m/usr/local/lib/python3.7/dist-packages/IPython/core/magic.py\u001b[0m in \u001b[0;36m<lambda>\u001b[0;34m(f, *a, **k)\u001b[0m\n\u001b[1;32m    186\u001b[0m     \u001b[0;31m# but it's overkill for just that one bit of state.\u001b[0m\u001b[0;34m\u001b[0m\u001b[0;34m\u001b[0m\u001b[0;34m\u001b[0m\u001b[0m\n\u001b[1;32m    187\u001b[0m     \u001b[0;32mdef\u001b[0m \u001b[0mmagic_deco\u001b[0m\u001b[0;34m(\u001b[0m\u001b[0marg\u001b[0m\u001b[0;34m)\u001b[0m\u001b[0;34m:\u001b[0m\u001b[0;34m\u001b[0m\u001b[0;34m\u001b[0m\u001b[0m\n\u001b[0;32m--> 188\u001b[0;31m         \u001b[0mcall\u001b[0m \u001b[0;34m=\u001b[0m \u001b[0;32mlambda\u001b[0m \u001b[0mf\u001b[0m\u001b[0;34m,\u001b[0m \u001b[0;34m*\u001b[0m\u001b[0ma\u001b[0m\u001b[0;34m,\u001b[0m \u001b[0;34m**\u001b[0m\u001b[0mk\u001b[0m\u001b[0;34m:\u001b[0m \u001b[0mf\u001b[0m\u001b[0;34m(\u001b[0m\u001b[0;34m*\u001b[0m\u001b[0ma\u001b[0m\u001b[0;34m,\u001b[0m \u001b[0;34m**\u001b[0m\u001b[0mk\u001b[0m\u001b[0;34m)\u001b[0m\u001b[0;34m\u001b[0m\u001b[0;34m\u001b[0m\u001b[0m\n\u001b[0m\u001b[1;32m    189\u001b[0m \u001b[0;34m\u001b[0m\u001b[0m\n\u001b[1;32m    190\u001b[0m         \u001b[0;32mif\u001b[0m \u001b[0mcallable\u001b[0m\u001b[0;34m(\u001b[0m\u001b[0marg\u001b[0m\u001b[0;34m)\u001b[0m\u001b[0;34m:\u001b[0m\u001b[0;34m\u001b[0m\u001b[0;34m\u001b[0m\u001b[0m\n",
            "\u001b[0;32m/usr/local/lib/python3.7/dist-packages/IPython/core/magics/execution.py\u001b[0m in \u001b[0;36mtime\u001b[0;34m(self, line, cell, local_ns)\u001b[0m\n\u001b[1;32m   1191\u001b[0m         \u001b[0;32melse\u001b[0m\u001b[0;34m:\u001b[0m\u001b[0;34m\u001b[0m\u001b[0;34m\u001b[0m\u001b[0m\n\u001b[1;32m   1192\u001b[0m             \u001b[0mst\u001b[0m \u001b[0;34m=\u001b[0m \u001b[0mclock2\u001b[0m\u001b[0;34m(\u001b[0m\u001b[0;34m)\u001b[0m\u001b[0;34m\u001b[0m\u001b[0;34m\u001b[0m\u001b[0m\n\u001b[0;32m-> 1193\u001b[0;31m             \u001b[0mexec\u001b[0m\u001b[0;34m(\u001b[0m\u001b[0mcode\u001b[0m\u001b[0;34m,\u001b[0m \u001b[0mglob\u001b[0m\u001b[0;34m,\u001b[0m \u001b[0mlocal_ns\u001b[0m\u001b[0;34m)\u001b[0m\u001b[0;34m\u001b[0m\u001b[0;34m\u001b[0m\u001b[0m\n\u001b[0m\u001b[1;32m   1194\u001b[0m             \u001b[0mend\u001b[0m \u001b[0;34m=\u001b[0m \u001b[0mclock2\u001b[0m\u001b[0;34m(\u001b[0m\u001b[0;34m)\u001b[0m\u001b[0;34m\u001b[0m\u001b[0;34m\u001b[0m\u001b[0m\n\u001b[1;32m   1195\u001b[0m             \u001b[0mout\u001b[0m \u001b[0;34m=\u001b[0m \u001b[0;32mNone\u001b[0m\u001b[0;34m\u001b[0m\u001b[0;34m\u001b[0m\u001b[0m\n",
            "\u001b[0;32m<timed exec>\u001b[0m in \u001b[0;36m<module>\u001b[0;34m()\u001b[0m\n",
            "\u001b[0;31mNameError\u001b[0m: name 'dataset_all' is not defined"
          ]
        }
      ],
      "source": [
        "%%time\n",
        "encoder = tf.keras.layers.experimental.preprocessing.TextVectorization(max_tokens=None)\n",
        "encoder.adapt(dataset_all.map(lambda text, label: text))\n",
        "vocab = np.array(encoder.get_vocabulary())"
      ]
    },
    {
      "cell_type": "code",
      "execution_count": null,
      "metadata": {
        "colab": {
          "base_uri": "https://localhost:8080/"
        },
        "id": "iKGVb8_Jeyig",
        "outputId": "dc4008a0-e9bc-4d8f-9a6e-89c3c8055fac"
      },
      "outputs": [
        {
          "output_type": "stream",
          "name": "stdout",
          "text": [
            "There are 95976 vocabulary words in the corpus.\n"
          ]
        }
      ],
      "source": [
        "print(f\"There are {len(vocab)} vocabulary words in the corpus.\")"
      ]
    },
    {
      "cell_type": "markdown",
      "metadata": {
        "id": "PlQ3s9QUe3CX"
      },
      "source": [
        "There are 95976 vocabulary words in the corpus.\n",
        "\n",
        "The .adapt method sets the layer's vocabulary. Here are the first 20 tokens. After the padding and unknown tokens they're sorted by frequency:"
      ]
    },
    {
      "cell_type": "code",
      "execution_count": null,
      "metadata": {
        "colab": {
          "base_uri": "https://localhost:8080/"
        },
        "id": "_Z2Io_yoe8zW",
        "outputId": "34357c57-3660-47aa-e68e-09ee2a8d6d4f"
      },
      "outputs": [
        {
          "output_type": "execute_result",
          "data": {
            "text/plain": [
              "array(['', '[UNK]', 'the', 'a', 'to', 'of', 'in', 'and', 'on', 'for',\n",
              "       'that', '39s', 'with', 'its', 'as', 'at', 'is', 'said', 'by', 'it'],\n",
              "      dtype='<U150')"
            ]
          },
          "metadata": {},
          "execution_count": 16
        }
      ],
      "source": [
        "vocab[:20]"
      ]
    },
    {
      "cell_type": "markdown",
      "metadata": {
        "id": "wJ0MQCTAfdCL"
      },
      "source": [
        "Let us get the total number of words in the corpus and the sizes of the news articles"
      ]
    },
    {
      "cell_type": "code",
      "execution_count": null,
      "metadata": {
        "colab": {
          "base_uri": "https://localhost:8080/"
        },
        "id": "l3TlBRwMfXde",
        "outputId": "0a6f82a7-e6fe-4aae-cfd8-bcc561047717"
      },
      "outputs": [
        {
          "output_type": "stream",
          "name": "stdout",
          "text": [
            "CPU times: user 18min 36s, sys: 2min 28s, total: 21min 4s\n",
            "Wall time: 18min 31s\n"
          ]
        }
      ],
      "source": [
        "%%time\n",
        "doc_sizes = []\n",
        "corpus = []\n",
        "for example, _ in dataset_all.as_numpy_iterator():\n",
        "  enc_example = encoder(example)\n",
        "  doc_sizes.append(len(enc_example))\n",
        "  corpus+=list(enc_example.numpy())"
      ]
    },
    {
      "cell_type": "code",
      "execution_count": null,
      "metadata": {
        "colab": {
          "base_uri": "https://localhost:8080/"
        },
        "id": "XEbVpRHyfXqU",
        "outputId": "199da4c3-4fe3-4266-8f2d-31cc02ce79f8"
      },
      "outputs": [
        {
          "output_type": "stream",
          "name": "stdout",
          "text": [
            "There are 3909695 words in the corpus of 127600 news articles.\n",
            "Each news article has between 3 and 173 tokens in it.\n"
          ]
        }
      ],
      "source": [
        "print(f\"There are {len(corpus)} words in the corpus of {len(doc_sizes)} news articles.\")\n",
        "print(f\"Each news article has between {min(doc_sizes)} and {max(doc_sizes)} tokens in it.\")"
      ]
    },
    {
      "cell_type": "code",
      "execution_count": null,
      "metadata": {
        "colab": {
          "base_uri": "https://localhost:8080/",
          "height": 551
        },
        "id": "mgtVVxL-i8Uo",
        "outputId": "db7577dc-1dc6-4208-98bb-cf8581b158b1"
      },
      "outputs": [
        {
          "output_type": "display_data",
          "data": {
            "image/png": "[encoded data removed]",
            "text/plain": [
              "<Figure size 1080x648 with 1 Axes>"
            ]
          },
          "metadata": {
            "needs_background": "light"
          }
        }
      ],
      "source": [
        "plt.figure(figsize=(15,9))\n",
        "plt.hist(doc_sizes, bins=20,range = (0,120))\n",
        "plt.xlabel(\"Tokens Per Document\")\n",
        "plt.ylabel(\"Number of AG News Articles\");"
      ]
    },
    {
      "cell_type": "markdown",
      "metadata": {
        "id": "gu7roRaAjDYH"
      },
      "source": [
        "Encode the news articles using the top 1000 most common words in the corpus"
      ]
    },
    {
      "cell_type": "code",
      "execution_count": null,
      "metadata": {
        "colab": {
          "base_uri": "https://localhost:8080/"
        },
        "id": "Z4fN-QeAjCFZ",
        "outputId": "d89d2c03-2813-4050-a2a1-d50804096cce"
      },
      "outputs": [
        {
          "name": "stdout",
          "output_type": "stream",
          "text": [
            "WARNING:tensorflow:AutoGraph could not transform <function <lambda> at 0x7fa3b9ccd400> and will run it as-is.\n",
            "Cause: could not parse the source code of <function <lambda> at 0x7fa3b9ccd400>: no matching AST found\n",
            "To silence this warning, decorate the function with @tf.autograph.experimental.do_not_convert\n"
          ]
        },
        {
          "name": "stderr",
          "output_type": "stream",
          "text": [
            "WARNING:tensorflow:AutoGraph could not transform <function <lambda> at 0x7fa3b9ccd400> and will run it as-is.\n",
            "Cause: could not parse the source code of <function <lambda> at 0x7fa3b9ccd400>: no matching AST found\n",
            "To silence this warning, decorate the function with @tf.autograph.experimental.do_not_convert\n"
          ]
        },
        {
          "name": "stdout",
          "output_type": "stream",
          "text": [
            "WARNING: AutoGraph could not transform <function <lambda> at 0x7fa3b9ccd400> and will run it as-is.\n",
            "Cause: could not parse the source code of <function <lambda> at 0x7fa3b9ccd400>: no matching AST found\n",
            "To silence this warning, decorate the function with @tf.autograph.experimental.do_not_convert\n",
            "CPU times: user 2min 38s, sys: 17.8 s, total: 2min 56s\n",
            "Wall time: 1min 42s\n"
          ]
        }
      ],
      "source": [
        "%%time\n",
        "encoder_1000 = tf.keras.layers.experimental.preprocessing.TextVectorization(max_tokens=1000)\n",
        "encoder_1000.adapt(dataset_all.map(lambda text, label: text))\n",
        "vocab_1000 = np.array(encoder_1000.get_vocabulary());"
      ]
    },
    {
      "cell_type": "markdown",
      "metadata": {
        "id": "M65FlO5QjeFb"
      },
      "source": [
        "The .adapt method sets the layer's vocabulary. Here are the first 20 tokens. After the padding and unknown tokens they're sorted by frequency:"
      ]
    },
    {
      "cell_type": "code",
      "execution_count": null,
      "metadata": {
        "colab": {
          "base_uri": "https://localhost:8080/"
        },
        "id": "BBTFJ-RUjcug",
        "outputId": "0366f0e9-ea89-477b-8028-e28b85f59db5",
        "scrolled": true
      },
      "outputs": [
        {
          "data": {
            "text/plain": [
              "array(['', '[UNK]', 'the', 'a', 'to', 'of', 'in', 'and', 'on', 'for',\n",
              "       'that', '39s', 'with', 'its', 'as', 'at', 'is', 'said', 'by', 'it'],\n",
              "      dtype='<U14')"
            ]
          },
          "execution_count": 23,
          "metadata": {},
          "output_type": "execute_result"
        }
      ],
      "source": [
        "vocab_1000[:20]"
      ]
    },
    {
      "cell_type": "markdown",
      "metadata": {
        "id": "pejvLRAMjlZJ"
      },
      "source": [
        "In particular, 0 is use for padding, 1 for the unknown words, 2 for the common word, i.e. 'the', etc. Let us look at the same example we encoded previously using the encoder for all the vocabulary words. Note that there are now five 1's denoting words that are not in the top 1000 in frequency.\n",
        "\n",
        "We encode the same example as before using the new encoder. Note that there are now 5 out of vocabulary words."
      ]
    },
    {
      "cell_type": "code",
      "execution_count": null,
      "metadata": {
        "colab": {
          "base_uri": "https://localhost:8080/"
        },
        "id": "4Am3_fw5jqBV",
        "outputId": "c33b5e77-5635-42f7-8531-70ac73373f80"
      },
      "outputs": [
        {
          "data": {
            "text/plain": [
              "<tf.Tensor: shape=(16,), dtype=int64, numpy=\n",
              "array([  2,   1,   1,  29,   3, 232,   1,  14,  19,   1,  18,   2,   1,\n",
              "         8,   2, 999])>"
            ]
          },
          "execution_count": 24,
          "metadata": {},
          "output_type": "execute_result"
        }
      ],
      "source": [
        "example = \"the dog ran after a red ball as it rolled by the hat on the ground.\"\n",
        "encoder_1000(example)"
      ]
    },
    {
      "cell_type": "code",
      "execution_count": null,
      "metadata": {
        "colab": {
          "base_uri": "https://localhost:8080/"
        },
        "id": "J4OtDWMxjuos",
        "outputId": "a94a1c86-a273-463c-b616-bb16818f2894"
      },
      "outputs": [
        {
          "name": "stdout",
          "output_type": "stream",
          "text": [
            "\"the\" is in the vocabulary.\n",
            "\"dog\" is *not* in the vocabulary.\n",
            "\"ran\" is *not* in the vocabulary.\n",
            "\"after\" is in the vocabulary.\n",
            "\"a\" is in the vocabulary.\n",
            "\"red\" is in the vocabulary.\n",
            "\"ball\" is *not* in the vocabulary.\n",
            "\"as\" is in the vocabulary.\n",
            "\"it\" is in the vocabulary.\n",
            "\"rolled\" is *not* in the vocabulary.\n",
            "\"by\" is in the vocabulary.\n",
            "\"the\" is in the vocabulary.\n",
            "\"hat\" is *not* in the vocabulary.\n",
            "\"on\" is in the vocabulary.\n",
            "\"the\" is in the vocabulary.\n",
            "\"ground.\" is *not* in the vocabulary.\n"
          ]
        }
      ],
      "source": [
        "for word in example.split():\n",
        "  print(f'\"{word}\" is {\"*not* \" if word not in vocab_1000  else \"\"}in the vocabulary.')"
      ]
    },
    {
      "cell_type": "markdown",
      "metadata": {
        "id": "DbrBW9_zjzOA"
      },
      "source": [
        "We want to determine the number of non-vocabulary words in each news articles (denoted by 1s in the encoding)"
      ]
    },
    {
      "cell_type": "code",
      "execution_count": null,
      "metadata": {
        "colab": {
          "base_uri": "https://localhost:8080/"
        },
        "id": "JoPf9hvsj5h0",
        "outputId": "ff7f5c77-3c4e-45bb-d525-9752aeacaff7"
      },
      "outputs": [
        {
          "name": "stdout",
          "output_type": "stream",
          "text": [
            "CPU times: user 10min 12s, sys: 5.9 s, total: 10min 18s\n",
            "Wall time: 9min 56s\n"
          ]
        }
      ],
      "source": [
        "%%time\n",
        "doc1000_sizes = []\n",
        "corpus1000 = []\n",
        "count1000=0\n",
        "useless = 0\n",
        "# stop = 0\n",
        "percents = []\n",
        "for example, _ in dataset_all.as_numpy_iterator():\n",
        "  # stop+=1\n",
        "  # if stop > 5: break\n",
        "  enc_example = encoder_1000(example)\n",
        "  num_ones = tf.math.count_nonzero(enc_example==1).numpy()\n",
        "  percent_ones = round(num_ones*100/len(enc_example))\n",
        "  # print(f\"{percent_ones}%\")\n",
        "  percents.append(percent_ones)\n",
        "\n",
        "  s = set(list(enc_example.numpy()))\n",
        "  if s == {1}: useless+=1\n",
        "\n",
        "  doc1000_sizes.append(len(enc_example))\n",
        "  corpus1000+=list(enc_example.numpy())\n",
        "\n",
        "  count1000 += tf.math.count_nonzero(enc_example>1)"
      ]
    },
    {
      "cell_type": "code",
      "execution_count": null,
      "metadata": {
        "colab": {
          "base_uri": "https://localhost:8080/"
        },
        "id": "2vy5wpoAkHCQ",
        "outputId": "d0002011-5690-402a-9888-291995ffa7f1"
      },
      "outputs": [
        {
          "name": "stdout",
          "output_type": "stream",
          "text": [
            "Each news article has between 3 and 173 tokens in it.\n"
          ]
        }
      ],
      "source": [
        "print(f\"Each news article has between {min(doc1000_sizes)} and {max(doc1000_sizes)} tokens in it.\")"
      ]
    },
    {
      "cell_type": "code",
      "execution_count": null,
      "metadata": {
        "colab": {
          "base_uri": "https://localhost:8080/"
        },
        "id": "IZFeEWE0kXE5",
        "outputId": "70aa4440-21d1-471b-d639-3a36a9ba0f2c"
      },
      "outputs": [
        {
          "data": {
            "text/plain": [
              "(array([  0,   3,   4,   5,   6,   7,   8,   9,  10,  11,  12,  13,  14,\n",
              "         15,  16,  17,  18,  19,  20,  21,  22,  23,  24,  25,  26,  27,\n",
              "         28,  29,  30,  31,  32,  33,  34,  35,  36,  37,  38,  39,  40,\n",
              "         41,  42,  43,  44,  45,  46,  47,  48,  49,  50,  51,  52,  53,\n",
              "         54,  55,  56,  57,  58,  59,  60,  61,  62,  63,  64,  65,  66,\n",
              "         67,  68,  69,  70,  71,  72,  73,  74,  75,  76,  77,  78,  79,\n",
              "         80,  81,  82,  83,  84,  85,  86,  87,  88,  89,  90,  91,  92,\n",
              "         93,  95,  97, 100]),\n",
              " array([  12,    5,   20,   29,   49,   71,  120,  137,  172,  274,  486,\n",
              "         368,  682,  777,  828, 1346, 1376, 2123, 1610, 2863, 2687, 3018,\n",
              "        3957, 3315, 4605, 3934, 4148, 5737, 4954, 5072, 6123, 6165, 3255,\n",
              "        5095, 4596, 3438, 5880, 4205, 3109, 4063, 3555, 3030, 2904, 2294,\n",
              "        1967, 1716, 2174,  368, 2486,  234, 1246,  747,  573,  547,  520,\n",
              "         441,  348,  217,  250,  135,  234,   49,  131,  101,   11,  135,\n",
              "          40,   62,   33,   53,    8,   34,   10,   55,   10,    8,   15,\n",
              "           3,   27,    9,    5,   19,    1,    8,   12,    6,   16,   11,\n",
              "           5,    4,    2,    3,    1,    1,   22]))"
            ]
          },
          "execution_count": 28,
          "metadata": {},
          "output_type": "execute_result"
        }
      ],
      "source": [
        "Counter(percents).most_common(10)\n",
        "np.unique(percents, return_counts=True) "
      ]
    },
    {
      "cell_type": "code",
      "execution_count": null,
      "metadata": {
        "colab": {
          "base_uri": "https://localhost:8080/",
          "height": 550
        },
        "id": "PPJDd74Hljwz",
        "outputId": "a2697f4e-5c21-4009-fe79-55d5489638c2"
      },
      "outputs": [
        {
          "data": {
            "image/png": "[encoded data removed]",
            "text/plain": [
              "<Figure size 1080x648 with 1 Axes>"
            ]
          },
          "metadata": {
            "needs_background": "light"
          },
          "output_type": "display_data"
        }
      ],
      "source": [
        "plt.figure(figsize=(15,9))\n",
        "plt.hist(percents, 20)\n",
        "plt.ylabel('Number of Documents')\n",
        "plt.xlabel('Percent of Non-Vocabulary Words in a Document');"
      ]
    },
    {
      "cell_type": "code",
      "execution_count": null,
      "metadata": {
        "colab": {
          "base_uri": "https://localhost:8080/"
        },
        "id": "AXb2Q-gVlo08",
        "outputId": "895fd62f-6720-44ad-de37-09895c01acd3"
      },
      "outputs": [
        {
          "name": "stdout",
          "output_type": "stream",
          "text": [
            "There are 2602670 top 1000 vocabulary words in the corpus.\n"
          ]
        }
      ],
      "source": [
        "print(f\"There are {count1000} top {len(vocab_1000)} vocabulary words in the corpus.\")"
      ]
    },
    {
      "cell_type": "markdown",
      "metadata": {
        "id": "bawulBahPZQq"
      },
      "source": [
        "## Model Architecture Summary Single Layer Bidirectional RNN"
      ]
    },
    {
      "cell_type": "markdown",
      "metadata": {
        "id": "bgs6nnSTGw-t"
      },
      "source": [
        "Above is a diagram of the model. \n",
        "\n",
        "1. This model can be build as a `tf.keras.Sequential`.\n",
        "\n",
        "1. The first layer is the `encoder`, which converts the text to a sequence of token indices.\n",
        "\n",
        "2. After the encoder is an embedding layer. An embedding layer stores one vector per word. When called, it converts the sequences of word indices to sequences of vectors. These vectors are trainable. After training (on enough data), words with similar meanings often have similar vectors.\n",
        "\n",
        "  This index-lookup is much more efficient than the equivalent operation of passing a one-hot encoded vector through a `tf.keras.layers.Dense` layer.\n",
        "\n",
        "3. A recurrent neural network (RNN) processes sequence input by iterating through the elements. RNNs pass the outputs from one timestep to their input on the next timestep.\n",
        "\n",
        "  The `tf.keras.layers.Bidirectional` wrapper can also be used with an RNN layer. This propagates the input forward and backwards through the RNN layer and then concatenates the final output. \n",
        "\n",
        "  * The main advantage to a bidirectional RNN is that the signal from the beginning of the input doesn't need to be processed all the way through every timestep to affect the output.  \n",
        "\n",
        "  * The main disadvantage of a bidirectional RNN is that you can't efficiently stream predictions as words are being added to the end.\n",
        "\n",
        "1. After the RNN has converted the sequence to a single vector the two `layers.Dense` do some final processing, and convert from this vector representation to a single logit as the classification output. \n"
      ]
    },
    {
      "cell_type": "markdown",
      "metadata": {
        "id": "QIGmIGkkouUb"
      },
      "source": [
        "Please note that Keras sequential model is used here since all the layers in the model only have single input and produce single output. In case you want to use stateful RNN layer, you might want to build your model with Keras functional API or model subclassing so that you can retrieve and reuse the RNN layer states. Please check [Keras RNN guide](https://www.tensorflow.org/guide/keras/rnn#rnn_state_reuse) for more details."
      ]
    },
    {
      "cell_type": "markdown",
      "source": [
        "### Data"
      ],
      "metadata": {
        "id": "M6Kiq_8Sgccp"
      }
    },
    {
      "cell_type": "code",
      "source": [
        "# register  ag_news_subset so that tfds.load doesn't generate a checksum (mismatch) error\n",
        "!python -m tensorflow_datasets.scripts.download_and_prepare --register_checksums --datasets=ag_news_subset\n",
        "\n",
        "dataset, info = tfds.load('ag_news_subset', with_info=True,  split=['train[:95%]','train[95%:]', 'test[:]'],\n",
        "                          as_supervised=True)\n",
        "train_dataset, validation_dataset, test_dataset = dataset\n",
        "len(train_dataset),len(validation_dataset),len(test_dataset) "
      ],
      "metadata": {
        "id": "Pl949NVyga8b",
        "outputId": "e49efdf6-e78f-472d-f7b8-8e6765b484b9",
        "colab": {
          "base_uri": "https://localhost:8080/"
        }
      },
      "execution_count": 10,
      "outputs": [
        {
          "output_type": "stream",
          "name": "stdout",
          "text": [
            "I0217 02:28:00.437839 140541345716096 download_and_prepare.py:200] Running download_and_prepare for dataset(s):\n",
            "ag_news_subset\n",
            "I0217 02:28:00.563547 140541345716096 dataset_info.py:434] Load pre-computed DatasetInfo (eg: splits, num examples,...) from GCS: ag_news_subset/1.0.0\n",
            "I0217 02:28:00.674533 140541345716096 dataset_info.py:361] Load dataset info from /tmp/tmpnny_oifetfds\n",
            "I0217 02:28:00.676120 140541345716096 download_and_prepare.py:138] download_and_prepare for dataset ag_news_subset/1.0.0...\n",
            "I0217 02:28:00.676476 140541345716096 dataset_builder.py:357] Generating dataset ag_news_subset (/root/tensorflow_datasets/ag_news_subset/1.0.0)\n",
            "\u001b[1mDownloading and preparing dataset ag_news_subset/1.0.0 (download: 11.24 MiB, generated: 35.79 MiB, total: 47.03 MiB) to /root/tensorflow_datasets/ag_news_subset/1.0.0...\u001b[0m\n",
            "Dl Completed...: 0 url [00:00, ? url/s]\n",
            "Dl Size...: 0 MiB [00:00, ? MiB/s]\u001b[A\n",
            "\n",
            "Extraction completed...: 0 file [00:00, ? file/s]\u001b[A\u001b[AI0217 02:28:00.902463 140541345716096 download_manager.py:476] Downloading https://drive.google.com/uc?export=download&id=0Bz8a_Dbh9QhbUDNpeUdjb0wxRms into /root/tensorflow_datasets/downloads/ucexport_download_id_0Bz8a_Dbh9QhbUDNpeUdjb0wxj4g1umFAV8OV-uDwxSJR0LdxO_k1jxMuFWwAfNX9jos.tmp.6f9c2c0406b54b4481d223f938e05574...\n",
            "Dl Completed...:   0% 0/1 [00:00<?, ? url/s]\n",
            "Dl Size...: 0 MiB [00:00, ? MiB/s]\u001b[A\n",
            "\n",
            "Dl Completed...:   0% 0/1 [00:30<?, ? url/s]\n",
            "Dl Size...:   0% 0/11 [00:30<?, ? MiB/s]\u001b[A\n",
            "\n",
            "Extraction completed...: 0 file [00:30, ? file/s]\u001b[A\u001b[A\n",
            "Dl Completed...:   0% 0/1 [00:30<?, ? url/s]\n",
            "Dl Size...:   9% 1/11 [00:30<05:03, 30.33s/ MiB]\u001b[A\n",
            "\n",
            "Dl Completed...:   0% 0/1 [00:30<?, ? url/s]\n",
            "Dl Size...:  18% 2/11 [00:30<04:33, 30.33s/ MiB]\u001b[A\n",
            "\n",
            "Dl Completed...:   0% 0/1 [00:30<?, ? url/s]\n",
            "Dl Size...:  27% 3/11 [00:30<04:02, 30.33s/ MiB]\u001b[A\n",
            "\n",
            "Extraction completed...: 0 file [00:30, ? file/s]\u001b[A\u001b[A\n",
            "Dl Completed...:   0% 0/1 [00:30<?, ? url/s]\n",
            "Dl Size...:  36% 4/11 [00:30<00:40,  5.78s/ MiB]\u001b[A\n",
            "\n",
            "Dl Completed...:   0% 0/1 [00:30<?, ? url/s]\n",
            "Dl Size...:  45% 5/11 [00:30<00:34,  5.78s/ MiB]\u001b[A\n",
            "\n",
            "Dl Completed...:   0% 0/1 [00:30<?, ? url/s]\n",
            "Dl Size...:  55% 6/11 [00:30<00:28,  5.78s/ MiB]\u001b[A\n",
            "\n",
            "Dl Completed...:   0% 0/1 [00:30<?, ? url/s]\n",
            "Dl Size...:  64% 7/11 [00:30<00:23,  5.78s/ MiB]\u001b[A\n",
            "\n",
            "Dl Completed...:   0% 0/1 [00:30<?, ? url/s]\n",
            "Dl Size...:  73% 8/11 [00:30<00:17,  5.78s/ MiB]\u001b[A\n",
            "\n",
            "Dl Completed...:   0% 0/1 [00:30<?, ? url/s]\n",
            "Dl Size...:  82% 9/11 [00:30<00:11,  5.78s/ MiB]\u001b[A\n",
            "\n",
            "Dl Completed...:   0% 0/1 [00:30<?, ? url/s]\n",
            "Dl Size...:  91% 10/11 [00:30<00:05,  5.78s/ MiB]\u001b[A\n",
            "\n",
            "Dl Completed...:   0% 0/1 [00:30<?, ? url/s]\n",
            "Dl Size...: 100% 11/11 [00:30<00:00,  5.78s/ MiB]\u001b[A\n",
            "\n",
            "Dl Completed...: 100% 1/1 [00:30<00:00, 30.53s/ url]\n",
            "Dl Size...: 100% 11/11 [00:30<00:00,  5.78s/ MiB]\u001b[A\n",
            "\n",
            "Dl Completed...: 100% 1/1 [00:30<00:00, 30.53s/ url]\n",
            "Dl Size...: 100% 11/11 [00:30<00:00,  5.78s/ MiB]\u001b[A\n",
            "\n",
            "Extraction completed...:   0% 0/1 [00:30<?, ? file/s]\u001b[A\u001b[A\n",
            "\n",
            "Dl Completed...: 100% 1/1 [00:30<00:00, 30.53s/ url]\n",
            "Dl Size...: 100% 11/11 [00:30<00:00,  5.78s/ MiB]\u001b[A\n",
            "\n",
            "Extraction completed...: 100% 1/1 [00:30<00:00, 30.86s/ file]\u001b[A\u001b[A\n",
            "Extraction completed...: 100% 1/1 [00:30<00:00, 30.86s/ file]\n",
            "\n",
            "Dl Size...: 100% 11/11 [00:30<00:00,  2.81s/ MiB]\n",
            "\n",
            "Dl Completed...: 100% 1/1 [00:30<00:00, 30.87s/ url]\n",
            "I0217 02:28:31.766206 140541345716096 dataset_builder.py:970] Generating split train\n",
            "Shuffling and writing examples to /root/tensorflow_datasets/ag_news_subset/1.0.0.incompleteNS78LD/ag_news_subset-train.tfrecord\n",
            " 81% 97762/120000 [00:00<00:00, 377757.49 examples/s]I0217 02:28:54.433966 140541345716096 tfrecords_writer.py:226] Done writing /root/tensorflow_datasets/ag_news_subset/1.0.0.incompleteNS78LD/ag_news_subset-train.tfrecord. Shard lengths: [120000]\n",
            "I0217 02:28:54.450934 140541345716096 dataset_builder.py:970] Generating split test\n",
            "Shuffling and writing examples to /root/tensorflow_datasets/ag_news_subset/1.0.0.incompleteNS78LD/ag_news_subset-test.tfrecord\n",
            "  0% 0/7600 [00:00<?, ? examples/s]I0217 02:28:55.833404 140541345716096 tfrecords_writer.py:226] Done writing /root/tensorflow_datasets/ag_news_subset/1.0.0.incompleteNS78LD/ag_news_subset-test.tfrecord. Shard lengths: [7600]\n",
            "I0217 02:28:55.835250 140541345716096 dataset_builder.py:412] Skipping computing stats for mode ComputeStatsMode.SKIP.\n",
            "\u001b[1mDataset ag_news_subset downloaded and prepared to /root/tensorflow_datasets/ag_news_subset/1.0.0. Subsequent calls will reuse this data.\u001b[0m\n",
            "\u001b[1mname: \"ag_news_subset\"\n",
            "description: \"AG is a collection of more than 1 million news articles.\\nNews articles have been gathered from more than 2000  news sources by ComeToMyHead in more than 1 year of activity.\\nComeToMyHead is an academic news search engine which has been running since July, 2004.\\nThe dataset is provided by the academic comunity for research purposes in data mining (clustering, classification, etc),\\ninformation retrieval (ranking, search, etc), xml, data compression, data streaming,\\nand any other non-commercial activity.\\nFor more information, please refer to the link http://www.di.unipi.it/~gulli/AG_corpus_of_news_articles.html .\\n\\nThe AG\\'s news topic classification dataset is constructed by Xiang Zhang (xiang.zhang@nyu.edu) from the dataset above.\\nIt is used as a text classification benchmark in the following paper:\\nXiang Zhang, Junbo Zhao, Yann LeCun. Character-level Convolutional Networks for Text Classification. Advances in Neural Information Processing Systems 28 (NIPS 2015).\\n\\nThe AG\\'s news topic classification dataset is constructed by choosing 4 largest classes from the original corpus.\\nEach class contains 30,000 training samples and 1,900 testing samples.\\nThe total number of training samples is 120,000 and testing 7,600.\"\n",
            "citation: \"@misc{zhang2015characterlevel,\\n    title={Character-level Convolutional Networks for Text Classification},\\n    author={Xiang Zhang and Junbo Zhao and Yann LeCun},\\n    year={2015},\\n    eprint={1509.01626},\\n    archivePrefix={arXiv},\\n    primaryClass={cs.LG}\\n}\"\n",
            "location {\n",
            "  urls: \"https://arxiv.org/abs/1509.01626\"\n",
            "}\n",
            "splits {\n",
            "  name: \"test\"\n",
            "  shard_lengths: 7600\n",
            "  num_bytes: 2226751\n",
            "}\n",
            "splits {\n",
            "  name: \"train\"\n",
            "  shard_lengths: 120000\n",
            "  num_bytes: 35301386\n",
            "}\n",
            "supervised_keys {\n",
            "  input: \"description\"\n",
            "  output: \"label\"\n",
            "}\n",
            "version: \"1.0.0\"\n",
            "download_size: 11784327\n",
            "\u001b[0m\n"
          ]
        },
        {
          "output_type": "execute_result",
          "data": {
            "text/plain": [
              "(114000, 6000, 7600)"
            ]
          },
          "metadata": {},
          "execution_count": 10
        }
      ]
    },
    {
      "cell_type": "code",
      "source": [
        "%%time\n",
        "encoder = tf.keras.layers.experimental.preprocessing.TextVectorization(max_tokens=1000)\n",
        "encoder.adapt(train_dataset.map(lambda text, label: text))\n",
        "vocab = np.array(encoder.get_vocabulary())"
      ],
      "metadata": {
        "id": "-IaERxOagRXO",
        "outputId": "0a412e88-7231-491c-874d-34c4d8f732fe",
        "colab": {
          "base_uri": "https://localhost:8080/"
        }
      },
      "execution_count": 12,
      "outputs": [
        {
          "output_type": "stream",
          "name": "stdout",
          "text": [
            "WARNING:tensorflow:AutoGraph could not transform <function <lambda> at 0x7f5db03ff710> and will run it as-is.\n",
            "Cause: could not parse the source code of <function <lambda> at 0x7f5db03ff710>: no matching AST found among candidates:\n",
            "\n",
            "To silence this warning, decorate the function with @tf.autograph.experimental.do_not_convert\n"
          ]
        },
        {
          "output_type": "stream",
          "name": "stderr",
          "text": [
            "WARNING:tensorflow:AutoGraph could not transform <function <lambda> at 0x7f5db03ff710> and will run it as-is.\n",
            "Cause: could not parse the source code of <function <lambda> at 0x7f5db03ff710>: no matching AST found among candidates:\n",
            "\n",
            "To silence this warning, decorate the function with @tf.autograph.experimental.do_not_convert\n"
          ]
        },
        {
          "output_type": "stream",
          "name": "stdout",
          "text": [
            "WARNING: AutoGraph could not transform <function <lambda> at 0x7f5db03ff710> and will run it as-is.\n",
            "Cause: could not parse the source code of <function <lambda> at 0x7f5db03ff710>: no matching AST found among candidates:\n",
            "\n",
            "To silence this warning, decorate the function with @tf.autograph.experimental.do_not_convert\n",
            "CPU times: user 4min 46s, sys: 38.3 s, total: 5min 24s\n",
            "Wall time: 4min 22s\n"
          ]
        }
      ]
    },
    {
      "cell_type": "code",
      "source": [
        "num_words_in_corpus =len(vocab)\n",
        "\n",
        "doc_sizes = []\n",
        "corpus = []\n",
        "for example, _ in train_dataset.as_numpy_iterator():\n",
        "  enc_example = encoder(example)\n",
        "  doc_sizes.append(len(enc_example))\n",
        "  corpus+=list(enc_example.numpy())\n",
        "num_words =len(corpus)\n",
        "num_articles =len(doc_sizes)\n",
        "min_token_in_a_article = min(doc_sizes)\n",
        "max_token_in_a_article = max(doc_sizes)  \n"
      ],
      "metadata": {
        "id": "cT32m0HIiDrS"
      },
      "execution_count": 15,
      "outputs": []
    },
    {
      "cell_type": "code",
      "source": [
        "num_words_in_corpus"
      ],
      "metadata": {
        "id": "t_lHDlgqiWSo",
        "outputId": "d516d9f8-d522-484a-b4de-35bc40d3a8ca",
        "colab": {
          "base_uri": "https://localhost:8080/"
        }
      },
      "execution_count": 16,
      "outputs": [
        {
          "output_type": "execute_result",
          "data": {
            "text/plain": [
              "168"
            ]
          },
          "metadata": {},
          "execution_count": 16
        }
      ]
    },
    {
      "cell_type": "code",
      "source": [
        "num_words"
      ],
      "metadata": {
        "id": "ibvHXUfUlqT7",
        "outputId": "86f8ecd7-8b2f-40ad-9014-6d2f496da6e1",
        "colab": {
          "base_uri": "https://localhost:8080/"
        }
      },
      "execution_count": 17,
      "outputs": [
        {
          "output_type": "execute_result",
          "data": {
            "text/plain": [
              "3492762"
            ]
          },
          "metadata": {},
          "execution_count": 17
        }
      ]
    },
    {
      "cell_type": "code",
      "source": [
        "num_articles "
      ],
      "metadata": {
        "id": "p6scAxqflr4O",
        "outputId": "9647f5dd-0da8-4f33-8c46-915c62febf9b",
        "colab": {
          "base_uri": "https://localhost:8080/"
        }
      },
      "execution_count": 18,
      "outputs": [
        {
          "output_type": "execute_result",
          "data": {
            "text/plain": [
              "114000"
            ]
          },
          "metadata": {},
          "execution_count": 18
        }
      ]
    },
    {
      "cell_type": "code",
      "source": [
        "min_token_in_a_article"
      ],
      "metadata": {
        "id": "wPpbxL8Ultc0",
        "outputId": "ab561203-3276-4357-f931-851d6b527db6",
        "colab": {
          "base_uri": "https://localhost:8080/"
        }
      },
      "execution_count": 19,
      "outputs": [
        {
          "output_type": "execute_result",
          "data": {
            "text/plain": [
              "3"
            ]
          },
          "metadata": {},
          "execution_count": 19
        }
      ]
    },
    {
      "cell_type": "code",
      "source": [
        "max_token_in_a_article "
      ],
      "metadata": {
        "id": "ggvCfSYJluz-",
        "outputId": "760e72e9-91bf-4d88-a3c6-f7d6d0e09e9a",
        "colab": {
          "base_uri": "https://localhost:8080/"
        }
      },
      "execution_count": 20,
      "outputs": [
        {
          "output_type": "execute_result",
          "data": {
            "text/plain": [
              "168"
            ]
          },
          "metadata": {},
          "execution_count": 20
        }
      ]
    },
    {
      "cell_type": "code",
      "source": [
        "plt.figure(figsize=(15,9))\n",
        "plt.hist(doc_sizes, bins=20,range = (0,120))\n",
        "plt.xlabel(\"Tokens Per Document\")\n",
        "plt.ylabel(\"Number of AG News Articles\");"
      ],
      "metadata": {
        "id": "uIA6N3bniVAf",
        "outputId": "de39f7bc-38cf-48bd-b44b-141706078aab",
        "colab": {
          "base_uri": "https://localhost:8080/",
          "height": 550
        }
      },
      "execution_count": 21,
      "outputs": [
        {
          "output_type": "display_data",
          "data": {
            "image/png": "[encoded data removed]",
            "text/plain": [
              "<Figure size 1080x648 with 1 Axes>"
            ]
          },
          "metadata": {
            "needs_background": "light"
          }
        }
      ]
    },
    {
      "cell_type": "code",
      "source": [
        "#create model\n",
        "num_classes = 4\n",
        "model = tf.keras.Sequential([\n",
        "                              encoder\n",
        "                              ,tf.keras.layers.Embedding(input_dim=len(encoder.get_vocabulary())\n",
        "                              ,output_dim=64\n",
        "                              # Use masking to handle the variable sequence lengths\n",
        "                              ,mask_zero=True)\n",
        "                              ,tf.keras.layers.Bidirectional(tf.keras.layers.LSTM(64))\n",
        "                              ,tf.keras.layers.Dense(64, activation='relu')\n",
        "                              ,tf.keras.layers.Dense(num_classes,activation='softmax')   # num_classes = 4\n",
        "  ])"
      ],
      "metadata": {
        "id": "kxX4-6Arvc00"
      },
      "execution_count": 13,
      "outputs": []
    },
    {
      "cell_type": "code",
      "execution_count": 22,
      "metadata": {
        "colab": {
          "base_uri": "https://localhost:8080/",
          "height": 288
        },
        "id": "KVd7MMCoOjMp",
        "outputId": "91c04b51-95b6-4a18-ee9f-3c38d8e6a9b6"
      },
      "outputs": [
        {
          "output_type": "error",
          "ename": "ValueError",
          "evalue": "ignored",
          "traceback": [
            "\u001b[0;31m---------------------------------------------------------------------------\u001b[0m",
            "\u001b[0;31mValueError\u001b[0m                                Traceback (most recent call last)",
            "\u001b[0;32m<ipython-input-22-5f15418b3570>\u001b[0m in \u001b[0;36m<module>\u001b[0;34m()\u001b[0m\n\u001b[0;32m----> 1\u001b[0;31m \u001b[0mmodel\u001b[0m\u001b[0;34m.\u001b[0m\u001b[0msummary\u001b[0m\u001b[0;34m(\u001b[0m\u001b[0;34m)\u001b[0m\u001b[0;34m\u001b[0m\u001b[0;34m\u001b[0m\u001b[0m\n\u001b[0m",
            "\u001b[0;32m/usr/local/lib/python3.7/dist-packages/keras/engine/training.py\u001b[0m in \u001b[0;36msummary\u001b[0;34m(self, line_length, positions, print_fn, expand_nested, show_trainable)\u001b[0m\n\u001b[1;32m   2774\u001b[0m     \u001b[0;32mif\u001b[0m \u001b[0;32mnot\u001b[0m \u001b[0mself\u001b[0m\u001b[0;34m.\u001b[0m\u001b[0mbuilt\u001b[0m\u001b[0;34m:\u001b[0m\u001b[0;34m\u001b[0m\u001b[0;34m\u001b[0m\u001b[0m\n\u001b[1;32m   2775\u001b[0m       raise ValueError(\n\u001b[0;32m-> 2776\u001b[0;31m           \u001b[0;34m'This model has not yet been built. '\u001b[0m\u001b[0;34m\u001b[0m\u001b[0;34m\u001b[0m\u001b[0m\n\u001b[0m\u001b[1;32m   2777\u001b[0m           \u001b[0;34m'Build the model first by calling `build()` or by calling '\u001b[0m\u001b[0;34m\u001b[0m\u001b[0;34m\u001b[0m\u001b[0m\n\u001b[1;32m   2778\u001b[0m           'the model on a batch of data.')\n",
            "\u001b[0;31mValueError\u001b[0m: This model has not yet been built. Build the model first by calling `build()` or by calling the model on a batch of data."
          ]
        }
      ],
      "source": [
        "model.summary()"
      ]
    },
    {
      "cell_type": "code",
      "execution_count": null,
      "metadata": {
        "colab": {
          "base_uri": "https://localhost:8080/",
          "height": 644
        },
        "id": "2o0oUFPAOjht",
        "outputId": "4cbffb95-d019-4bb2-c5b7-8c9fdd15e34f"
      },
      "outputs": [
        {
          "data": {
            "image/png": "[encoded data removed]",
            "text/plain": [
              "<IPython.core.display.Image object>"
            ]
          },
          "execution_count": 56,
          "metadata": {},
          "output_type": "execute_result"
        }
      ],
      "source": [
        "#keras.utils.plot_model(model, \"BiDirectionalLSTM.png\", show_shapes=True)"
      ]
    },
    {
      "cell_type": "markdown",
      "source": [
        "## (a) Vocabulary Size: \n",
        "Tweak the vocabulary size, at least 3 levels, eg. vocab size of 1000, 2000, 3000. This way, we can get insights whether the performance metric is non linearly related to the vocab size."
      ],
      "metadata": {
        "id": "Mp-BX_PCpjfq"
      }
    },
    {
      "cell_type": "code",
      "source": [
        ""
      ],
      "metadata": {
        "id": "yP9FwTGxoZb6",
        "outputId": "c2966bf3-23c6-4b36-861c-7824fbbfd8db",
        "colab": {
          "base_uri": "https://localhost:8080/"
        }
      },
      "execution_count": null,
      "outputs": [
        {
          "output_type": "stream",
          "name": "stdout",
          "text": [
            "I0216 22:58:43.713424 139835154106240 download_and_prepare.py:200] Running download_and_prepare for dataset(s):\n",
            "ag_news_subset\n",
            "I0216 22:58:43.714377 139835154106240 dataset_info.py:361] Load dataset info from /root/tensorflow_datasets/ag_news_subset/1.0.0\n",
            "I0216 22:58:43.715818 139835154106240 download_and_prepare.py:138] download_and_prepare for dataset ag_news_subset/1.0.0...\n",
            "I0216 22:58:43.716071 139835154106240 dataset_builder.py:299] Reusing dataset ag_news_subset (/root/tensorflow_datasets/ag_news_subset/1.0.0)\n",
            "\u001b[1mname: \"ag_news_subset\"\n",
            "description: \"AG is a collection of more than 1 million news articles.\\nNews articles have been gathered from more than 2000  news sources by ComeToMyHead in more than 1 year of activity.\\nComeToMyHead is an academic news search engine which has been running since July, 2004.\\nThe dataset is provided by the academic comunity for research purposes in data mining (clustering, classification, etc),\\ninformation retrieval (ranking, search, etc), xml, data compression, data streaming,\\nand any other non-commercial activity.\\nFor more information, please refer to the link http://www.di.unipi.it/~gulli/AG_corpus_of_news_articles.html .\\n\\nThe AG\\'s news topic classification dataset is constructed by Xiang Zhang (xiang.zhang@nyu.edu) from the dataset above.\\nIt is used as a text classification benchmark in the following paper:\\nXiang Zhang, Junbo Zhao, Yann LeCun. Character-level Convolutional Networks for Text Classification. Advances in Neural Information Processing Systems 28 (NIPS 2015).\\n\\nThe AG\\'s news topic classification dataset is constructed by choosing 4 largest classes from the original corpus.\\nEach class contains 30,000 training samples and 1,900 testing samples.\\nThe total number of training samples is 120,000 and testing 7,600.\"\n",
            "citation: \"@misc{zhang2015characterlevel,\\n    title={Character-level Convolutional Networks for Text Classification},\\n    author={Xiang Zhang and Junbo Zhao and Yann LeCun},\\n    year={2015},\\n    eprint={1509.01626},\\n    archivePrefix={arXiv},\\n    primaryClass={cs.LG}\\n}\"\n",
            "location {\n",
            "  urls: \"https://arxiv.org/abs/1509.01626\"\n",
            "}\n",
            "splits {\n",
            "  name: \"test\"\n",
            "  shard_lengths: 7600\n",
            "  num_bytes: 2226751\n",
            "}\n",
            "splits {\n",
            "  name: \"train\"\n",
            "  shard_lengths: 120000\n",
            "  num_bytes: 35301386\n",
            "}\n",
            "supervised_keys {\n",
            "  input: \"description\"\n",
            "  output: \"label\"\n",
            "}\n",
            "version: \"1.0.0\"\n",
            "download_size: 11784327\n",
            "\u001b[0m\n"
          ]
        },
        {
          "output_type": "execute_result",
          "data": {
            "text/plain": [
              "(114000, 6000, 7600)"
            ]
          },
          "metadata": {},
          "execution_count": 35
        }
      ]
    },
    {
      "cell_type": "code",
      "source": [
        "import datetime as dt\n",
        "\n",
        "def RNN(model, train_dataset, validation_dataset, test_dataset, BUFFER_SIZE, BATCH_SIZE, VOCAB_SIZE, EPOCH_SIZE):\n",
        "  # Preprocessing Shuffle Data for Training and Create Batches of (text, label) pairs\n",
        "  train_dataset = train_dataset.shuffle(BUFFER_SIZE).batch(BATCH_SIZE).prefetch(tf.data.experimental.AUTOTUNE)\n",
        "  validation_dataset = validation_dataset.shuffle(BUFFER_SIZE).batch(BATCH_SIZE).prefetch(tf.data.experimental.AUTOTUNE)\n",
        "  test_dataset = test_dataset.batch(BATCH_SIZE).prefetch(tf.data.experimental.AUTOTUNE)\n",
        "\n",
        "  #encode text\n",
        "  encoder = tf.keras.layers.experimental.preprocessing.TextVectorization(max_tokens=VOCAB_SIZE)\n",
        "  encoder.adapt(train_dataset.map(lambda text, label: text))\n",
        "  vocab = np.array(encoder.get_vocabulary())\n",
        "  num_words_in_corpus =len(vocab)\n",
        "\n",
        "  doc_sizes = []\n",
        "  corpus = []\n",
        "  for example, _ in train_dataset.as_numpy_iterator():\n",
        "    enc_example = encoder(example)\n",
        "    doc_sizes.append(len(enc_example))\n",
        "    corpus+=list(enc_example.numpy())\n",
        "  num_words =len(corpus)\n",
        "  num_articles =len(doc_sizes)\n",
        "  min_token_in_a_article = min(doc_sizes)\n",
        "  max_token_in_a_article = max(doc_sizes)  \n",
        "\n",
        "  plt.figure(figsize=(15,9))\n",
        "  plt.hist(doc_sizes, bins=20,range = (0,120))\n",
        "  plt.xlabel(\"Tokens Per Document\")\n",
        "  plt.ylabel(\"Number of AG News Articles\");\n",
        "\n",
        "  #create model\n",
        "  num_classes = 4\n",
        "  model = tf.keras.Sequential([\n",
        "                              encoder\n",
        "                              ,tf.keras.layers.Embedding(input_dim=len(encoder.get_vocabulary())\n",
        "                              ,output_dim=64\n",
        "                              # Use masking to handle the variable sequence lengths\n",
        "                              ,mask_zero=True)\n",
        "                              ,tf.keras.layers.Bidirectional(tf.keras.layers.LSTM(64))\n",
        "                              ,tf.keras.layers.Dense(64, activation='relu')\n",
        "                              ,tf.keras.layers.Dense(num_classes,activation='softmax')   # num_classes = 4\n",
        "   ])\n",
        "\n",
        "  #compile model\n",
        "  model.compile(optimizer=tf.keras.optimizers.Adam(1e-4)\n",
        "              ,loss=tf.keras.losses.SparseCategoricalCrossentropy() # if we set from_logits=True we don not have specify a softmax activation function in the last layer\n",
        "              ,metrics=['accuracy'])\n",
        "\n",
        "  start_datetime = dt.datetime.now()\n",
        "\n",
        "  #train model\n",
        "  history = model.fit(train_dataset\n",
        "                    ,epochs = EPOCH_SIZE\n",
        "                    ,validation_data=validation_dataset\n",
        "                    ,callbacks=[tf.keras.callbacks.EarlyStopping(monitor='val_accuracy', patience=2)]\n",
        "                    )\n",
        "\n",
        "  #evaluate model                  \n",
        "  test_loss, test_acc = model.evaluate(test_dataset)   \n",
        "  print('test set accuracy: ', test_acc * 100)\n",
        "\n",
        "  #runtime\n",
        "  runtime = (dt.datetime.now() - start_datetime).total_seconds()\n",
        "\n",
        "  #performance metrix\n",
        "  history_dict = history.history\n",
        "  history_df=pd.DataFrame(history_dict)\n",
        "\n",
        "  losses = history.history['loss']\n",
        "  accs = history.history['accuracy']\n",
        "  val_losses = history.history['val_loss']\n",
        "  val_accs = history.history['val_accuracy']\n",
        "  epochs = len(losses)\n",
        "\n",
        "  result = history_df.tail(1)\n",
        "  result['test_loss'] = test_loss\n",
        "  result['test_accuracy'] = test_acc\n",
        "  result['process_time'] = runtime\n",
        "  result['epochs_setting'] = EPOCH_SIZE  \n",
        "  result['epochs_actual'] = epochs\n",
        "  result['batch_size'] = BATCH_SIZE    \n",
        "  result['vocab_size'] = VOCAB_SIZE \n",
        "  result['num_words_in_corpus'] = num_words_in_corpus\n",
        "  result['num_words'] = num_words \n",
        "  result['num_articles'] = num_articles\n",
        "  result['min_token_in_a_article'] = min_token_in_a_article \n",
        "  result['max_token_in_a_article'] = max_token_in_a_article \n",
        "\n",
        "  #loss and accuracy for training and validation data\n",
        "  plt.figure(figsize=(16, 4))\n",
        "  for i, metrics in enumerate(zip([losses, accs], [val_losses, val_accs], ['Loss', 'Accuracy'])):\n",
        "      plt.subplot(1, 2, i + 1)\n",
        "      plt.plot(range(epochs), metrics[0], label='Training {}'.format(metrics[2]))\n",
        "      plt.plot(range(epochs), metrics[1], label='Validation {}'.format(metrics[2]))\n",
        "      plt.legend()\n",
        "      plt.title('RNN Model with {0} vocab {1} epochs and {2} batch size'.format(VOCAB_SIZE, EPOCH_SIZE, BATCH_SIZE))          \n",
        "  plt.show()                        \n",
        "\n",
        "  return result               \n"
      ],
      "metadata": {
        "id": "wOiyV4FBmkvM"
      },
      "execution_count": null,
      "outputs": []
    },
    {
      "cell_type": "code",
      "source": [
        "BUFFER_SIZE = 1000\n",
        "BATCH_SIZE = 64\n",
        "VOCAB_SIZE = 1000\n",
        "EPOCH_SIZE = 200\n",
        "RNN(model, train_dataset, validation_dataset, test_dataset, BUFFER_SIZE, BATCH_SIZE, VOCAB_SIZE, EPOCH_SIZE)\n",
        "result"
      ],
      "metadata": {
        "id": "HqYLx1JKo-Kn",
        "outputId": "8201d683-9ec9-407b-9f7a-4afecd348bcc",
        "colab": {
          "base_uri": "https://localhost:8080/",
          "height": 1000
        }
      },
      "execution_count": null,
      "outputs": [
        {
          "output_type": "stream",
          "name": "stdout",
          "text": [
            "Epoch 1/200\n",
            "1782/1782 [==============================] - 118s 56ms/step - loss: 0.6730 - accuracy: 0.7296 - val_loss: 0.3760 - val_accuracy: 0.8813\n",
            "Epoch 2/200\n",
            "1782/1782 [==============================] - 96s 54ms/step - loss: 0.2828 - accuracy: 0.9085 - val_loss: 0.2986 - val_accuracy: 0.8987\n",
            "Epoch 3/200\n",
            "1782/1782 [==============================] - 96s 54ms/step - loss: 0.1984 - accuracy: 0.9353 - val_loss: 0.2976 - val_accuracy: 0.9030\n",
            "Epoch 4/200\n",
            "1782/1782 [==============================] - 96s 54ms/step - loss: 0.1496 - accuracy: 0.9512 - val_loss: 0.3131 - val_accuracy: 0.9017\n",
            "Epoch 5/200\n",
            "1782/1782 [==============================] - 95s 54ms/step - loss: 0.1168 - accuracy: 0.9621 - val_loss: 0.3513 - val_accuracy: 0.8980\n",
            "119/119 [==============================] - 3s 22ms/step - loss: 0.3477 - accuracy: 0.8971\n",
            "test set accuracy:  89.71052765846252\n"
          ]
        },
        {
          "output_type": "stream",
          "name": "stderr",
          "text": [
            "/usr/local/lib/python3.7/dist-packages/ipykernel_launcher.py:63: SettingWithCopyWarning: \n",
            "A value is trying to be set on a copy of a slice from a DataFrame.\n",
            "Try using .loc[row_indexer,col_indexer] = value instead\n",
            "\n",
            "See the caveats in the documentation: https://pandas.pydata.org/pandas-docs/stable/user_guide/indexing.html#returning-a-view-versus-a-copy\n",
            "/usr/local/lib/python3.7/dist-packages/ipykernel_launcher.py:64: SettingWithCopyWarning: \n",
            "A value is trying to be set on a copy of a slice from a DataFrame.\n",
            "Try using .loc[row_indexer,col_indexer] = value instead\n",
            "\n",
            "See the caveats in the documentation: https://pandas.pydata.org/pandas-docs/stable/user_guide/indexing.html#returning-a-view-versus-a-copy\n",
            "/usr/local/lib/python3.7/dist-packages/ipykernel_launcher.py:65: SettingWithCopyWarning: \n",
            "A value is trying to be set on a copy of a slice from a DataFrame.\n",
            "Try using .loc[row_indexer,col_indexer] = value instead\n",
            "\n",
            "See the caveats in the documentation: https://pandas.pydata.org/pandas-docs/stable/user_guide/indexing.html#returning-a-view-versus-a-copy\n",
            "/usr/local/lib/python3.7/dist-packages/ipykernel_launcher.py:66: SettingWithCopyWarning: \n",
            "A value is trying to be set on a copy of a slice from a DataFrame.\n",
            "Try using .loc[row_indexer,col_indexer] = value instead\n",
            "\n",
            "See the caveats in the documentation: https://pandas.pydata.org/pandas-docs/stable/user_guide/indexing.html#returning-a-view-versus-a-copy\n",
            "/usr/local/lib/python3.7/dist-packages/ipykernel_launcher.py:67: SettingWithCopyWarning: \n",
            "A value is trying to be set on a copy of a slice from a DataFrame.\n",
            "Try using .loc[row_indexer,col_indexer] = value instead\n",
            "\n",
            "See the caveats in the documentation: https://pandas.pydata.org/pandas-docs/stable/user_guide/indexing.html#returning-a-view-versus-a-copy\n",
            "/usr/local/lib/python3.7/dist-packages/ipykernel_launcher.py:68: SettingWithCopyWarning: \n",
            "A value is trying to be set on a copy of a slice from a DataFrame.\n",
            "Try using .loc[row_indexer,col_indexer] = value instead\n",
            "\n",
            "See the caveats in the documentation: https://pandas.pydata.org/pandas-docs/stable/user_guide/indexing.html#returning-a-view-versus-a-copy\n",
            "/usr/local/lib/python3.7/dist-packages/ipykernel_launcher.py:69: SettingWithCopyWarning: \n",
            "A value is trying to be set on a copy of a slice from a DataFrame.\n",
            "Try using .loc[row_indexer,col_indexer] = value instead\n",
            "\n",
            "See the caveats in the documentation: https://pandas.pydata.org/pandas-docs/stable/user_guide/indexing.html#returning-a-view-versus-a-copy\n",
            "/usr/local/lib/python3.7/dist-packages/ipykernel_launcher.py:70: SettingWithCopyWarning: \n",
            "A value is trying to be set on a copy of a slice from a DataFrame.\n",
            "Try using .loc[row_indexer,col_indexer] = value instead\n",
            "\n",
            "See the caveats in the documentation: https://pandas.pydata.org/pandas-docs/stable/user_guide/indexing.html#returning-a-view-versus-a-copy\n",
            "/usr/local/lib/python3.7/dist-packages/ipykernel_launcher.py:71: SettingWithCopyWarning: \n",
            "A value is trying to be set on a copy of a slice from a DataFrame.\n",
            "Try using .loc[row_indexer,col_indexer] = value instead\n",
            "\n",
            "See the caveats in the documentation: https://pandas.pydata.org/pandas-docs/stable/user_guide/indexing.html#returning-a-view-versus-a-copy\n",
            "/usr/local/lib/python3.7/dist-packages/ipykernel_launcher.py:72: SettingWithCopyWarning: \n",
            "A value is trying to be set on a copy of a slice from a DataFrame.\n",
            "Try using .loc[row_indexer,col_indexer] = value instead\n",
            "\n",
            "See the caveats in the documentation: https://pandas.pydata.org/pandas-docs/stable/user_guide/indexing.html#returning-a-view-versus-a-copy\n",
            "/usr/local/lib/python3.7/dist-packages/ipykernel_launcher.py:73: SettingWithCopyWarning: \n",
            "A value is trying to be set on a copy of a slice from a DataFrame.\n",
            "Try using .loc[row_indexer,col_indexer] = value instead\n",
            "\n",
            "See the caveats in the documentation: https://pandas.pydata.org/pandas-docs/stable/user_guide/indexing.html#returning-a-view-versus-a-copy\n",
            "/usr/local/lib/python3.7/dist-packages/ipykernel_launcher.py:74: SettingWithCopyWarning: \n",
            "A value is trying to be set on a copy of a slice from a DataFrame.\n",
            "Try using .loc[row_indexer,col_indexer] = value instead\n",
            "\n",
            "See the caveats in the documentation: https://pandas.pydata.org/pandas-docs/stable/user_guide/indexing.html#returning-a-view-versus-a-copy\n"
          ]
        },
        {
          "output_type": "display_data",
          "data": {
            "image/png": "[encoded data removed]",
            "text/plain": [
              "<Figure size 1080x648 with 1 Axes>"
            ]
          },
          "metadata": {
            "needs_background": "light"
          }
        },
        {
          "output_type": "display_data",
          "data": {
            "image/png": "[encoded data removed]",
            "text/plain": [
              "<Figure size 1152x288 with 2 Axes>"
            ]
          },
          "metadata": {
            "needs_background": "light"
          }
        },
        {
          "output_type": "error",
          "ename": "NameError",
          "evalue": "ignored",
          "traceback": [
            "\u001b[0;31m---------------------------------------------------------------------------\u001b[0m",
            "\u001b[0;31mNameError\u001b[0m                                 Traceback (most recent call last)",
            "\u001b[0;32m<ipython-input-43-b67df9ec7e34>\u001b[0m in \u001b[0;36m<module>\u001b[0;34m()\u001b[0m\n\u001b[1;32m      4\u001b[0m \u001b[0mEPOCH_SIZE\u001b[0m \u001b[0;34m=\u001b[0m \u001b[0;36m200\u001b[0m\u001b[0;34m\u001b[0m\u001b[0;34m\u001b[0m\u001b[0m\n\u001b[1;32m      5\u001b[0m \u001b[0mRNN\u001b[0m\u001b[0;34m(\u001b[0m\u001b[0mmodel\u001b[0m\u001b[0;34m,\u001b[0m \u001b[0mtrain_dataset\u001b[0m\u001b[0;34m,\u001b[0m \u001b[0mvalidation_dataset\u001b[0m\u001b[0;34m,\u001b[0m \u001b[0mtest_dataset\u001b[0m\u001b[0;34m,\u001b[0m \u001b[0mBUFFER_SIZE\u001b[0m\u001b[0;34m,\u001b[0m \u001b[0mBATCH_SIZE\u001b[0m\u001b[0;34m,\u001b[0m \u001b[0mVOCAB_SIZE\u001b[0m\u001b[0;34m,\u001b[0m \u001b[0mEPOCH_SIZE\u001b[0m\u001b[0;34m)\u001b[0m\u001b[0;34m\u001b[0m\u001b[0;34m\u001b[0m\u001b[0m\n\u001b[0;32m----> 6\u001b[0;31m \u001b[0mresult\u001b[0m\u001b[0;34m\u001b[0m\u001b[0;34m\u001b[0m\u001b[0m\n\u001b[0m",
            "\u001b[0;31mNameError\u001b[0m: name 'result' is not defined"
          ]
        }
      ]
    },
    {
      "cell_type": "code",
      "source": [
        "BUFFER_SIZE = 1000\n",
        "BATCH_SIZE = 64\n",
        "VOCAB_SIZE = 2000\n",
        "EPOCH_SIZE = 200\n",
        "RNN(model, train_dataset, validation_dataset, test_dataset, BUFFER_SIZE, BATCH_SIZE, VOCAB_SIZE, EPOCH_SIZE)\n",
        "result"
      ],
      "metadata": {
        "id": "MuuSM-bZv6NF",
        "outputId": "69f54e93-bab9-4a8b-9eb8-3c7b87772421",
        "colab": {
          "base_uri": "https://localhost:8080/",
          "height": 167
        }
      },
      "execution_count": null,
      "outputs": [
        {
          "output_type": "error",
          "ename": "NameError",
          "evalue": "ignored",
          "traceback": [
            "\u001b[0;31m---------------------------------------------------------------------------\u001b[0m",
            "\u001b[0;31mNameError\u001b[0m                                 Traceback (most recent call last)",
            "\u001b[0;32m<ipython-input-32-0ac921c19f1a>\u001b[0m in \u001b[0;36m<module>\u001b[0;34m()\u001b[0m\n\u001b[0;32m----> 1\u001b[0;31m \u001b[0mresult\u001b[0m\u001b[0;34m\u001b[0m\u001b[0;34m\u001b[0m\u001b[0m\n\u001b[0m",
            "\u001b[0;31mNameError\u001b[0m: name 'result' is not defined"
          ]
        }
      ]
    },
    {
      "cell_type": "code",
      "source": [
        "result"
      ],
      "metadata": {
        "id": "Oc6OZeke0Kts",
        "outputId": "fc36e363-1401-468b-a4d4-a7572447166c",
        "colab": {
          "base_uri": "https://localhost:8080/",
          "height": 167
        }
      },
      "execution_count": null,
      "outputs": [
        {
          "output_type": "error",
          "ename": "NameError",
          "evalue": "ignored",
          "traceback": [
            "\u001b[0;31m---------------------------------------------------------------------------\u001b[0m",
            "\u001b[0;31mNameError\u001b[0m                                 Traceback (most recent call last)",
            "\u001b[0;32m<ipython-input-44-0ac921c19f1a>\u001b[0m in \u001b[0;36m<module>\u001b[0;34m()\u001b[0m\n\u001b[0;32m----> 1\u001b[0;31m \u001b[0mresult\u001b[0m\u001b[0;34m\u001b[0m\u001b[0;34m\u001b[0m\u001b[0m\n\u001b[0m",
            "\u001b[0;31mNameError\u001b[0m: name 'result' is not defined"
          ]
        }
      ]
    },
    {
      "cell_type": "code",
      "source": [
        "BUFFER_SIZE = 1000\n",
        "BATCH_SIZE = 64\n",
        "VOCAB_SIZE = 3000\n",
        "EPOCH_SIZE = 200\n",
        "RNN(model, train_dataset, validation_dataset, test_dataset, BUFFER_SIZE, BATCH_SIZE, VOCAB_SIZE, EPOCH_SIZE)\n",
        "result"
      ],
      "metadata": {
        "id": "gLlUfKY7xctR"
      },
      "execution_count": null,
      "outputs": []
    },
    {
      "cell_type": "markdown",
      "metadata": {
        "id": "7g1evcaRpTKm"
      },
      "source": [
        "## Stack two or more LSTM layers\n",
        "\n",
        "Keras recurrent layers have two available modes that are controlled by the `return_sequences` constructor argument:\n",
        "\n",
        "* If `False` it returns only the last output for each input sequence (a 2D tensor of shape (batch_size, output_features)). This is the default, used in the previous model.\n",
        "\n",
        "* If `True` the full sequences of successive outputs for each timestep is returned (a 3D tensor of shape `(batch_size, timesteps, output_features)`).\n",
        "\n",
        "Here is what the flow of information looks like with `return_sequences=True`:\n",
        "\n",
        "![layered_bidirectional]?raw=1\""
      ]
    },
    {
      "cell_type": "markdown",
      "metadata": {
        "id": "wbSClCrG1z8l"
      },
      "source": [
        "The interesting thing about using an `RNN` with `return_sequences=True` is that the output still has 3-axes, like the input, so it can be passed to another RNN layer, like this:"
      ]
    },
    {
      "cell_type": "markdown",
      "metadata": {
        "id": "TJTx1dsTRUtW"
      },
      "source": [
        "<img src=\"https://github.com/djp840/MSDS_458_Public/blob/master/images/multilayerBidirectionalLSTM.png?raw=1\">"
      ]
    },
    {
      "cell_type": "code",
      "execution_count": null,
      "metadata": {
        "id": "jo1jjO3vn0jo"
      },
      "outputs": [],
      "source": [
        "model2 = tf.keras.Sequential([\n",
        "                              encoder\n",
        "                              ,tf.keras.layers.Embedding(len(encoder.get_vocabulary()), 64, mask_zero=True)\n",
        "                              ,tf.keras.layers.Bidirectional(tf.keras.layers.LSTM(64,  return_sequences=True))\n",
        "                              ,tf.keras.layers.Bidirectional(tf.keras.layers.LSTM(32))\n",
        "                              ,tf.keras.layers.Dense(64, activation='relu')\n",
        "                              ,tf.keras.layers.Dropout(0.5)\n",
        "                              ,tf.keras.layers.Dense(num_classes,activation='softmax')   # not binary since there are num_classes categories\n",
        "])"
      ]
    },
    {
      "cell_type": "markdown",
      "metadata": {
        "id": "iukhoA9vR7gx"
      },
      "source": [
        "<div class=\"alert alert-block alert-info\">\n",
        "<b>tf.keras.losses.SparseCategoricalCrossentropy</b><br>\n",
        "https://www.tensorflow.org/api_docs/python/tf/keras/losses/SparseCategoricalCrossentropy</div>"
      ]
    },
    {
      "cell_type": "code",
      "execution_count": null,
      "metadata": {
        "id": "_zjWuJesR72x"
      },
      "outputs": [],
      "source": [
        "model2.compile(optimizer='adam'\n",
        "              ,loss=tf.keras.losses.SparseCategoricalCrossentropy() # if we set from_logits=True we do not have specify a softmax activation function in the last layer\n",
        "              ,metrics=['accuracy'])"
      ]
    },
    {
      "cell_type": "code",
      "execution_count": null,
      "metadata": {
        "colab": {
          "base_uri": "https://localhost:8080/"
        },
        "id": "LeSE-YjdqAeN",
        "outputId": "065043bf-ceaf-4bad-c26a-77c41cb31bf1"
      },
      "outputs": [
        {
          "name": "stdout",
          "output_type": "stream",
          "text": [
            "Epoch 1/200\n",
            "1782/1782 [==============================] - 368s 199ms/step - loss: 0.5097 - accuracy: 0.8169 - val_loss: 0.4207 - val_accuracy: 0.8552\n",
            "Epoch 2/200\n",
            "1782/1782 [==============================] - 352s 197ms/step - loss: 0.4240 - accuracy: 0.8521 - val_loss: 0.4207 - val_accuracy: 0.8484\n",
            "Epoch 3/200\n",
            "1782/1782 [==============================] - 351s 197ms/step - loss: 0.4018 - accuracy: 0.8583 - val_loss: 0.3883 - val_accuracy: 0.8547\n"
          ]
        }
      ],
      "source": [
        "history2 = model2.fit(train_dataset\n",
        "                    ,epochs=200\n",
        "                    ,validation_data=validation_dataset\n",
        "                    ,validation_steps=30\n",
        "                    ,callbacks=[tf.keras.callbacks.EarlyStopping(monitor='val_accuracy', patience=2)]\n",
        "                    )"
      ]
    },
    {
      "cell_type": "code",
      "execution_count": null,
      "metadata": {
        "colab": {
          "base_uri": "https://localhost:8080/"
        },
        "id": "_LdwilM1qPM3",
        "outputId": "11a6921f-8005-4429-d62e-09d4ca6a6512"
      },
      "outputs": [
        {
          "name": "stdout",
          "output_type": "stream",
          "text": [
            "119/119 [==============================] - 7s 60ms/step - loss: 0.4058 - accuracy: 0.8533\n",
            "Test Loss: 0.4058394730091095\n",
            "Test Accuracy: 0.8532894849777222\n"
          ]
        }
      ],
      "source": [
        "test_loss, test_acc = model2.evaluate(test_dataset)\n",
        "\n",
        "print('Test Loss: {}'.format(test_loss))\n",
        "print('Test Accuracy: {}'.format(test_acc))"
      ]
    },
    {
      "cell_type": "markdown",
      "metadata": {
        "id": "x44eh6w-SjPa"
      },
      "source": [
        "## Plotting Performance Metrics - Multi-Layer Bidirectional RNN"
      ]
    },
    {
      "cell_type": "markdown",
      "metadata": {
        "id": "7YwGAxu3SjbG"
      },
      "source": [
        "We use Matplotlib to create 2 plots--displaying the training and validation loss (resp. accuracy) for each (training) epoch side by side."
      ]
    },
    {
      "cell_type": "code",
      "execution_count": null,
      "metadata": {
        "colab": {
          "base_uri": "https://localhost:8080/"
        },
        "id": "l5Wa2bx7Suny",
        "outputId": "2d185881-ccbe-4923-e445-33c197795bf8"
      },
      "outputs": [
        {
          "data": {
            "text/plain": [
              "dict_keys(['loss', 'accuracy', 'val_loss', 'val_accuracy'])"
            ]
          },
          "execution_count": 61,
          "metadata": {},
          "output_type": "execute_result"
        }
      ],
      "source": [
        "history_dict2 = history2.history\n",
        "history_dict2.keys()"
      ]
    },
    {
      "cell_type": "code",
      "execution_count": null,
      "metadata": {
        "colab": {
          "base_uri": "https://localhost:8080/",
          "height": 206
        },
        "id": "cwzqjLbrSurM",
        "outputId": "92494400-336c-41d5-a5fb-056d55752b5c"
      },
      "outputs": [
        {
          "data": {
            "text/html": [
              "<div>\n",
              "<style scoped>\n",
              "    .dataframe tbody tr th:only-of-type {\n",
              "        vertical-align: middle;\n",
              "    }\n",
              "\n",
              "    .dataframe tbody tr th {\n",
              "        vertical-align: top;\n",
              "    }\n",
              "\n",
              "    .dataframe thead th {\n",
              "        text-align: right;\n",
              "    }\n",
              "</style>\n",
              "<table border=\"1\" class=\"dataframe\">\n",
              "  <thead>\n",
              "    <tr style=\"text-align: right;\">\n",
              "      <th></th>\n",
              "      <th>loss</th>\n",
              "      <th>accuracy</th>\n",
              "      <th>val_loss</th>\n",
              "      <th>val_accuracy</th>\n",
              "    </tr>\n",
              "  </thead>\n",
              "  <tbody>\n",
              "    <tr>\n",
              "      <th>0</th>\n",
              "      <td>0.510</td>\n",
              "      <td>0.817</td>\n",
              "      <td>0.421</td>\n",
              "      <td>0.855</td>\n",
              "    </tr>\n",
              "    <tr>\n",
              "      <th>1</th>\n",
              "      <td>0.424</td>\n",
              "      <td>0.852</td>\n",
              "      <td>0.421</td>\n",
              "      <td>0.848</td>\n",
              "    </tr>\n",
              "    <tr>\n",
              "      <th>2</th>\n",
              "      <td>0.402</td>\n",
              "      <td>0.858</td>\n",
              "      <td>0.388</td>\n",
              "      <td>0.855</td>\n",
              "    </tr>\n",
              "  </tbody>\n",
              "</table>\n",
              "</div>"
            ],
            "text/plain": [
              "    loss  accuracy  val_loss  val_accuracy\n",
              "0  0.510     0.817     0.421         0.855\n",
              "1  0.424     0.852     0.421         0.848\n",
              "2  0.402     0.858     0.388         0.855"
            ]
          },
          "execution_count": 62,
          "metadata": {},
          "output_type": "execute_result"
        }
      ],
      "source": [
        "history2_df=pd.DataFrame(history_dict2)\n",
        "history2_df.tail().round(3)"
      ]
    },
    {
      "cell_type": "code",
      "execution_count": null,
      "metadata": {
        "id": "5CrnwjN7Suu5"
      },
      "outputs": [],
      "source": [
        "losses = history2.history['loss']\n",
        "accs = history2.history['accuracy']\n",
        "val_losses = history2.history['val_loss']\n",
        "val_accs = history2.history['val_accuracy']\n",
        "epochs = len(losses)"
      ]
    },
    {
      "cell_type": "code",
      "execution_count": null,
      "metadata": {
        "colab": {
          "base_uri": "https://localhost:8080/",
          "height": 265
        },
        "id": "Uw20TBZxSuye",
        "outputId": "e1dc3026-a47f-4e3c-c311-b0e285caf89c"
      },
      "outputs": [
        {
          "data": {
            "image/png": "[encoded data removed]",
            "text/plain": [
              "<Figure size 1152x288 with 2 Axes>"
            ]
          },
          "metadata": {
            "needs_background": "light"
          },
          "output_type": "display_data"
        }
      ],
      "source": [
        "plt.figure(figsize=(16, 4))\n",
        "for i, metrics in enumerate(zip([losses, accs], [val_losses, val_accs], ['Loss', 'Accuracy'])):\n",
        "    plt.subplot(1, 2, i + 1)\n",
        "    plt.plot(range(epochs), metrics[0], label='Training {}'.format(metrics[2]))\n",
        "    plt.plot(range(epochs), metrics[1], label='Validation {}'.format(metrics[2]))\n",
        "    plt.legend()\n",
        "plt.show()"
      ]
    },
    {
      "cell_type": "markdown",
      "metadata": {
        "id": "WoWhNEnKyRRv"
      },
      "source": [
        "### Confusion Matrix"
      ]
    },
    {
      "cell_type": "code",
      "execution_count": null,
      "metadata": {
        "id": "TaRFsKvJyRRv"
      },
      "outputs": [],
      "source": [
        "preds = model.predict(test_dataset)"
      ]
    },
    {
      "cell_type": "code",
      "execution_count": null,
      "metadata": {
        "colab": {
          "base_uri": "https://localhost:8080/"
        },
        "id": "38sM3BdNyRRv",
        "outputId": "224571b1-e68e-44a9-c62a-8f8073010fa9"
      },
      "outputs": [
        {
          "data": {
            "text/plain": [
              "(7600, 4)"
            ]
          },
          "execution_count": 66,
          "metadata": {},
          "output_type": "execute_result"
        }
      ],
      "source": [
        "preds.shape"
      ]
    },
    {
      "cell_type": "code",
      "execution_count": null,
      "metadata": {
        "id": "HLEVza9CyRRw"
      },
      "outputs": [],
      "source": [
        "cm = sns.light_palette((260, 75, 60), input=\"husl\", as_cmap=True)"
      ]
    },
    {
      "cell_type": "code",
      "execution_count": null,
      "metadata": {
        "colab": {
          "base_uri": "https://localhost:8080/",
          "height": 121
        },
        "id": "QJ4Zct-xyRRw",
        "outputId": "effd38ba-f989-4053-bee6-b5d96842e81d"
      },
      "outputs": [
        {
          "data": {
            "text/html": [
              "<style  type=\"text/css\" >\n",
              "#T_fc79c7ee_1593_11ec_a15e_d4bed91174ebrow0_col0,#T_fc79c7ee_1593_11ec_a15e_d4bed91174ebrow2_col13{\n",
              "            background-color:  #eff0f2;\n",
              "            color:  #000000;\n",
              "        }#T_fc79c7ee_1593_11ec_a15e_d4bed91174ebrow0_col1,#T_fc79c7ee_1593_11ec_a15e_d4bed91174ebrow0_col4,#T_fc79c7ee_1593_11ec_a15e_d4bed91174ebrow0_col8,#T_fc79c7ee_1593_11ec_a15e_d4bed91174ebrow0_col10,#T_fc79c7ee_1593_11ec_a15e_d4bed91174ebrow0_col13,#T_fc79c7ee_1593_11ec_a15e_d4bed91174ebrow0_col14,#T_fc79c7ee_1593_11ec_a15e_d4bed91174ebrow1_col0,#T_fc79c7ee_1593_11ec_a15e_d4bed91174ebrow1_col3,#T_fc79c7ee_1593_11ec_a15e_d4bed91174ebrow1_col6,#T_fc79c7ee_1593_11ec_a15e_d4bed91174ebrow1_col7,#T_fc79c7ee_1593_11ec_a15e_d4bed91174ebrow2_col9,#T_fc79c7ee_1593_11ec_a15e_d4bed91174ebrow2_col12,#T_fc79c7ee_1593_11ec_a15e_d4bed91174ebrow3_col2,#T_fc79c7ee_1593_11ec_a15e_d4bed91174ebrow3_col5,#T_fc79c7ee_1593_11ec_a15e_d4bed91174ebrow3_col11{\n",
              "            background-color:  #778ce4;\n",
              "            color:  #000000;\n",
              "        }#T_fc79c7ee_1593_11ec_a15e_d4bed91174ebrow0_col2,#T_fc79c7ee_1593_11ec_a15e_d4bed91174ebrow0_col11,#T_fc79c7ee_1593_11ec_a15e_d4bed91174ebrow1_col1,#T_fc79c7ee_1593_11ec_a15e_d4bed91174ebrow1_col2,#T_fc79c7ee_1593_11ec_a15e_d4bed91174ebrow1_col4,#T_fc79c7ee_1593_11ec_a15e_d4bed91174ebrow1_col5,#T_fc79c7ee_1593_11ec_a15e_d4bed91174ebrow1_col8,#T_fc79c7ee_1593_11ec_a15e_d4bed91174ebrow1_col9,#T_fc79c7ee_1593_11ec_a15e_d4bed91174ebrow1_col10,#T_fc79c7ee_1593_11ec_a15e_d4bed91174ebrow1_col11,#T_fc79c7ee_1593_11ec_a15e_d4bed91174ebrow1_col12,#T_fc79c7ee_1593_11ec_a15e_d4bed91174ebrow1_col13,#T_fc79c7ee_1593_11ec_a15e_d4bed91174ebrow1_col14,#T_fc79c7ee_1593_11ec_a15e_d4bed91174ebrow2_col0,#T_fc79c7ee_1593_11ec_a15e_d4bed91174ebrow2_col1,#T_fc79c7ee_1593_11ec_a15e_d4bed91174ebrow2_col3,#T_fc79c7ee_1593_11ec_a15e_d4bed91174ebrow2_col4,#T_fc79c7ee_1593_11ec_a15e_d4bed91174ebrow2_col6,#T_fc79c7ee_1593_11ec_a15e_d4bed91174ebrow2_col7,#T_fc79c7ee_1593_11ec_a15e_d4bed91174ebrow2_col10,#T_fc79c7ee_1593_11ec_a15e_d4bed91174ebrow2_col11,#T_fc79c7ee_1593_11ec_a15e_d4bed91174ebrow2_col14,#T_fc79c7ee_1593_11ec_a15e_d4bed91174ebrow3_col0,#T_fc79c7ee_1593_11ec_a15e_d4bed91174ebrow3_col1,#T_fc79c7ee_1593_11ec_a15e_d4bed91174ebrow3_col3,#T_fc79c7ee_1593_11ec_a15e_d4bed91174ebrow3_col4,#T_fc79c7ee_1593_11ec_a15e_d4bed91174ebrow3_col6,#T_fc79c7ee_1593_11ec_a15e_d4bed91174ebrow3_col10,#T_fc79c7ee_1593_11ec_a15e_d4bed91174ebrow3_col14{\n",
              "            background-color:  #f0f1f2;\n",
              "            color:  #000000;\n",
              "        }#T_fc79c7ee_1593_11ec_a15e_d4bed91174ebrow0_col3{\n",
              "            background-color:  #efeff2;\n",
              "            color:  #000000;\n",
              "        }#T_fc79c7ee_1593_11ec_a15e_d4bed91174ebrow0_col5,#T_fc79c7ee_1593_11ec_a15e_d4bed91174ebrow0_col6,#T_fc79c7ee_1593_11ec_a15e_d4bed91174ebrow0_col12,#T_fc79c7ee_1593_11ec_a15e_d4bed91174ebrow2_col8{\n",
              "            background-color:  #f0f0f2;\n",
              "            color:  #000000;\n",
              "        }#T_fc79c7ee_1593_11ec_a15e_d4bed91174ebrow0_col7{\n",
              "            background-color:  #c2caed;\n",
              "            color:  #000000;\n",
              "        }#T_fc79c7ee_1593_11ec_a15e_d4bed91174ebrow0_col9,#T_fc79c7ee_1593_11ec_a15e_d4bed91174ebrow3_col8{\n",
              "            background-color:  #ecedf2;\n",
              "            color:  #000000;\n",
              "        }#T_fc79c7ee_1593_11ec_a15e_d4bed91174ebrow2_col2,#T_fc79c7ee_1593_11ec_a15e_d4bed91174ebrow3_col12{\n",
              "            background-color:  #eeeff2;\n",
              "            color:  #000000;\n",
              "        }#T_fc79c7ee_1593_11ec_a15e_d4bed91174ebrow2_col5{\n",
              "            background-color:  #d7dcef;\n",
              "            color:  #000000;\n",
              "        }#T_fc79c7ee_1593_11ec_a15e_d4bed91174ebrow3_col7{\n",
              "            background-color:  #e8e9f1;\n",
              "            color:  #000000;\n",
              "        }#T_fc79c7ee_1593_11ec_a15e_d4bed91174ebrow3_col9{\n",
              "            background-color:  #dce0f0;\n",
              "            color:  #000000;\n",
              "        }#T_fc79c7ee_1593_11ec_a15e_d4bed91174ebrow3_col13{\n",
              "            background-color:  #edeef2;\n",
              "            color:  #000000;\n",
              "        }</style><table id=\"T_fc79c7ee_1593_11ec_a15e_d4bed91174eb\" ><thead>    <tr>        <th class=\"blank level0\" ></th>        <th class=\"col_heading level0 col0\" >0</th>        <th class=\"col_heading level0 col1\" >1</th>        <th class=\"col_heading level0 col2\" >2</th>        <th class=\"col_heading level0 col3\" >3</th>        <th class=\"col_heading level0 col4\" >4</th>        <th class=\"col_heading level0 col5\" >5</th>        <th class=\"col_heading level0 col6\" >6</th>        <th class=\"col_heading level0 col7\" >7</th>        <th class=\"col_heading level0 col8\" >8</th>        <th class=\"col_heading level0 col9\" >9</th>        <th class=\"col_heading level0 col10\" >10</th>        <th class=\"col_heading level0 col11\" >11</th>        <th class=\"col_heading level0 col12\" >12</th>        <th class=\"col_heading level0 col13\" >13</th>        <th class=\"col_heading level0 col14\" >14</th>    </tr></thead><tbody>\n",
              "                <tr>\n",
              "                        <th id=\"T_fc79c7ee_1593_11ec_a15e_d4bed91174eblevel0_row0\" class=\"row_heading level0 row0\" >World</th>\n",
              "                        <td id=\"T_fc79c7ee_1593_11ec_a15e_d4bed91174ebrow0_col0\" class=\"data row0 col0\" >0.85%</td>\n",
              "                        <td id=\"T_fc79c7ee_1593_11ec_a15e_d4bed91174ebrow0_col1\" class=\"data row0 col1\" >99.85%</td>\n",
              "                        <td id=\"T_fc79c7ee_1593_11ec_a15e_d4bed91174ebrow0_col2\" class=\"data row0 col2\" >0.09%</td>\n",
              "                        <td id=\"T_fc79c7ee_1593_11ec_a15e_d4bed91174ebrow0_col3\" class=\"data row0 col3\" >1.43%</td>\n",
              "                        <td id=\"T_fc79c7ee_1593_11ec_a15e_d4bed91174ebrow0_col4\" class=\"data row0 col4\" >99.74%</td>\n",
              "                        <td id=\"T_fc79c7ee_1593_11ec_a15e_d4bed91174ebrow0_col5\" class=\"data row0 col5\" >0.60%</td>\n",
              "                        <td id=\"T_fc79c7ee_1593_11ec_a15e_d4bed91174ebrow0_col6\" class=\"data row0 col6\" >0.73%</td>\n",
              "                        <td id=\"T_fc79c7ee_1593_11ec_a15e_d4bed91174ebrow0_col7\" class=\"data row0 col7\" >26.15%</td>\n",
              "                        <td id=\"T_fc79c7ee_1593_11ec_a15e_d4bed91174ebrow0_col8\" class=\"data row0 col8\" >93.99%</td>\n",
              "                        <td id=\"T_fc79c7ee_1593_11ec_a15e_d4bed91174ebrow0_col9\" class=\"data row0 col9\" >2.81%</td>\n",
              "                        <td id=\"T_fc79c7ee_1593_11ec_a15e_d4bed91174ebrow0_col10\" class=\"data row0 col10\" >99.93%</td>\n",
              "                        <td id=\"T_fc79c7ee_1593_11ec_a15e_d4bed91174ebrow0_col11\" class=\"data row0 col11\" >0.23%</td>\n",
              "                        <td id=\"T_fc79c7ee_1593_11ec_a15e_d4bed91174ebrow0_col12\" class=\"data row0 col12\" >0.75%</td>\n",
              "                        <td id=\"T_fc79c7ee_1593_11ec_a15e_d4bed91174ebrow0_col13\" class=\"data row0 col13\" >95.31%</td>\n",
              "                        <td id=\"T_fc79c7ee_1593_11ec_a15e_d4bed91174ebrow0_col14\" class=\"data row0 col14\" >99.78%</td>\n",
              "            </tr>\n",
              "            <tr>\n",
              "                        <th id=\"T_fc79c7ee_1593_11ec_a15e_d4bed91174eblevel0_row1\" class=\"row_heading level0 row1\" >Sports</th>\n",
              "                        <td id=\"T_fc79c7ee_1593_11ec_a15e_d4bed91174ebrow1_col0\" class=\"data row1 col0\" >98.90%</td>\n",
              "                        <td id=\"T_fc79c7ee_1593_11ec_a15e_d4bed91174ebrow1_col1\" class=\"data row1 col1\" >0.00%</td>\n",
              "                        <td id=\"T_fc79c7ee_1593_11ec_a15e_d4bed91174ebrow1_col2\" class=\"data row1 col2\" >0.00%</td>\n",
              "                        <td id=\"T_fc79c7ee_1593_11ec_a15e_d4bed91174ebrow1_col3\" class=\"data row1 col3\" >98.28%</td>\n",
              "                        <td id=\"T_fc79c7ee_1593_11ec_a15e_d4bed91174ebrow1_col4\" class=\"data row1 col4\" >0.02%</td>\n",
              "                        <td id=\"T_fc79c7ee_1593_11ec_a15e_d4bed91174ebrow1_col5\" class=\"data row1 col5\" >0.10%</td>\n",
              "                        <td id=\"T_fc79c7ee_1593_11ec_a15e_d4bed91174ebrow1_col6\" class=\"data row1 col6\" >98.96%</td>\n",
              "                        <td id=\"T_fc79c7ee_1593_11ec_a15e_d4bed91174ebrow1_col7\" class=\"data row1 col7\" >68.45%</td>\n",
              "                        <td id=\"T_fc79c7ee_1593_11ec_a15e_d4bed91174ebrow1_col8\" class=\"data row1 col8\" >0.74%</td>\n",
              "                        <td id=\"T_fc79c7ee_1593_11ec_a15e_d4bed91174ebrow1_col9\" class=\"data row1 col9\" >0.01%</td>\n",
              "                        <td id=\"T_fc79c7ee_1593_11ec_a15e_d4bed91174ebrow1_col10\" class=\"data row1 col10\" >0.00%</td>\n",
              "                        <td id=\"T_fc79c7ee_1593_11ec_a15e_d4bed91174ebrow1_col11\" class=\"data row1 col11\" >0.22%</td>\n",
              "                        <td id=\"T_fc79c7ee_1593_11ec_a15e_d4bed91174ebrow1_col12\" class=\"data row1 col12\" >0.00%</td>\n",
              "                        <td id=\"T_fc79c7ee_1593_11ec_a15e_d4bed91174ebrow1_col13\" class=\"data row1 col13\" >0.50%</td>\n",
              "                        <td id=\"T_fc79c7ee_1593_11ec_a15e_d4bed91174ebrow1_col14\" class=\"data row1 col14\" >0.00%</td>\n",
              "            </tr>\n",
              "            <tr>\n",
              "                        <th id=\"T_fc79c7ee_1593_11ec_a15e_d4bed91174eblevel0_row2\" class=\"row_heading level0 row2\" >Business</th>\n",
              "                        <td id=\"T_fc79c7ee_1593_11ec_a15e_d4bed91174ebrow2_col0\" class=\"data row2 col0\" >0.06%</td>\n",
              "                        <td id=\"T_fc79c7ee_1593_11ec_a15e_d4bed91174ebrow2_col1\" class=\"data row2 col1\" >0.13%</td>\n",
              "                        <td id=\"T_fc79c7ee_1593_11ec_a15e_d4bed91174ebrow2_col2\" class=\"data row2 col2\" >1.81%</td>\n",
              "                        <td id=\"T_fc79c7ee_1593_11ec_a15e_d4bed91174ebrow2_col3\" class=\"data row2 col3\" >0.03%</td>\n",
              "                        <td id=\"T_fc79c7ee_1593_11ec_a15e_d4bed91174ebrow2_col4\" class=\"data row2 col4\" >0.08%</td>\n",
              "                        <td id=\"T_fc79c7ee_1593_11ec_a15e_d4bed91174ebrow2_col5\" class=\"data row2 col5\" >17.13%</td>\n",
              "                        <td id=\"T_fc79c7ee_1593_11ec_a15e_d4bed91174ebrow2_col6\" class=\"data row2 col6\" >0.04%</td>\n",
              "                        <td id=\"T_fc79c7ee_1593_11ec_a15e_d4bed91174ebrow2_col7\" class=\"data row2 col7\" >0.31%</td>\n",
              "                        <td id=\"T_fc79c7ee_1593_11ec_a15e_d4bed91174ebrow2_col8\" class=\"data row2 col8\" >1.10%</td>\n",
              "                        <td id=\"T_fc79c7ee_1593_11ec_a15e_d4bed91174ebrow2_col9\" class=\"data row2 col9\" >83.47%</td>\n",
              "                        <td id=\"T_fc79c7ee_1593_11ec_a15e_d4bed91174ebrow2_col10\" class=\"data row2 col10\" >0.07%</td>\n",
              "                        <td id=\"T_fc79c7ee_1593_11ec_a15e_d4bed91174ebrow2_col11\" class=\"data row2 col11\" >0.30%</td>\n",
              "                        <td id=\"T_fc79c7ee_1593_11ec_a15e_d4bed91174ebrow2_col12\" class=\"data row2 col12\" >97.61%</td>\n",
              "                        <td id=\"T_fc79c7ee_1593_11ec_a15e_d4bed91174ebrow2_col13\" class=\"data row2 col13\" >1.47%</td>\n",
              "                        <td id=\"T_fc79c7ee_1593_11ec_a15e_d4bed91174ebrow2_col14\" class=\"data row2 col14\" >0.17%</td>\n",
              "            </tr>\n",
              "            <tr>\n",
              "                        <th id=\"T_fc79c7ee_1593_11ec_a15e_d4bed91174eblevel0_row3\" class=\"row_heading level0 row3\" >Sci/Tech</th>\n",
              "                        <td id=\"T_fc79c7ee_1593_11ec_a15e_d4bed91174ebrow3_col0\" class=\"data row3 col0\" >0.20%</td>\n",
              "                        <td id=\"T_fc79c7ee_1593_11ec_a15e_d4bed91174ebrow3_col1\" class=\"data row3 col1\" >0.02%</td>\n",
              "                        <td id=\"T_fc79c7ee_1593_11ec_a15e_d4bed91174ebrow3_col2\" class=\"data row3 col2\" >98.10%</td>\n",
              "                        <td id=\"T_fc79c7ee_1593_11ec_a15e_d4bed91174ebrow3_col3\" class=\"data row3 col3\" >0.25%</td>\n",
              "                        <td id=\"T_fc79c7ee_1593_11ec_a15e_d4bed91174ebrow3_col4\" class=\"data row3 col4\" >0.16%</td>\n",
              "                        <td id=\"T_fc79c7ee_1593_11ec_a15e_d4bed91174ebrow3_col5\" class=\"data row3 col5\" >82.18%</td>\n",
              "                        <td id=\"T_fc79c7ee_1593_11ec_a15e_d4bed91174ebrow3_col6\" class=\"data row3 col6\" >0.27%</td>\n",
              "                        <td id=\"T_fc79c7ee_1593_11ec_a15e_d4bed91174ebrow3_col7\" class=\"data row3 col7\" >5.10%</td>\n",
              "                        <td id=\"T_fc79c7ee_1593_11ec_a15e_d4bed91174ebrow3_col8\" class=\"data row3 col8\" >4.17%</td>\n",
              "                        <td id=\"T_fc79c7ee_1593_11ec_a15e_d4bed91174ebrow3_col9\" class=\"data row3 col9\" >13.71%</td>\n",
              "                        <td id=\"T_fc79c7ee_1593_11ec_a15e_d4bed91174ebrow3_col10\" class=\"data row3 col10\" >0.00%</td>\n",
              "                        <td id=\"T_fc79c7ee_1593_11ec_a15e_d4bed91174ebrow3_col11\" class=\"data row3 col11\" >99.25%</td>\n",
              "                        <td id=\"T_fc79c7ee_1593_11ec_a15e_d4bed91174ebrow3_col12\" class=\"data row3 col12\" >1.64%</td>\n",
              "                        <td id=\"T_fc79c7ee_1593_11ec_a15e_d4bed91174ebrow3_col13\" class=\"data row3 col13\" >2.72%</td>\n",
              "                        <td id=\"T_fc79c7ee_1593_11ec_a15e_d4bed91174ebrow3_col14\" class=\"data row3 col14\" >0.05%</td>\n",
              "            </tr>\n",
              "    </tbody></table>"
            ],
            "text/plain": [
              "<pandas.io.formats.style.Styler at 0x7fa426a9eba8>"
            ]
          },
          "execution_count": 68,
          "metadata": {},
          "output_type": "execute_result"
        }
      ],
      "source": [
        "df = pd.DataFrame(preds[0:15]\n",
        "                  ,columns = ['World','Sports','Business','Sci/Tech']).T\n",
        "df.style.format(\"{:.2%}\").background_gradient(cmap=cm)"
      ]
    },
    {
      "cell_type": "markdown",
      "metadata": {
        "id": "A3RlxHyPTCrD"
      },
      "source": [
        "#### Model Architecture Summary Single Layer Bidirectional RNN"
      ]
    },
    {
      "cell_type": "code",
      "execution_count": null,
      "metadata": {
        "colab": {
          "base_uri": "https://localhost:8080/"
        },
        "id": "idRIHfoySu12",
        "outputId": "ed31f258-94ab-4e62-c17f-8c0f42d2ca25"
      },
      "outputs": [
        {
          "name": "stdout",
          "output_type": "stream",
          "text": [
            "Model: \"sequential_1\"\n",
            "_________________________________________________________________\n",
            "Layer (type)                 Output Shape              Param #   \n",
            "=================================================================\n",
            "text_vectorization_2 (TextVe (None, None)              0         \n",
            "_________________________________________________________________\n",
            "embedding_1 (Embedding)      (None, None, 64)          64000     \n",
            "_________________________________________________________________\n",
            "bidirectional_1 (Bidirection (None, None, 128)         66048     \n",
            "_________________________________________________________________\n",
            "bidirectional_2 (Bidirection (None, 64)                41216     \n",
            "_________________________________________________________________\n",
            "dense_2 (Dense)              (None, 64)                4160      \n",
            "_________________________________________________________________\n",
            "dropout (Dropout)            (None, 64)                0         \n",
            "_________________________________________________________________\n",
            "dense_3 (Dense)              (None, 4)                 260       \n",
            "=================================================================\n",
            "Total params: 175,684\n",
            "Trainable params: 175,684\n",
            "Non-trainable params: 0\n",
            "_________________________________________________________________\n"
          ]
        }
      ],
      "source": [
        "model2.summary()"
      ]
    },
    {
      "cell_type": "code",
      "execution_count": null,
      "metadata": {
        "colab": {
          "base_uri": "https://localhost:8080/",
          "height": 865
        },
        "id": "o01y6ZMVTF8J",
        "outputId": "83fec439-e4ff-4392-95ed-7a217076c9fe",
        "scrolled": false
      },
      "outputs": [
        {
          "data": {
            "image/png": "[encoded data removed]",
            "text/plain": [
              "<IPython.core.display.Image object>"
            ]
          },
          "execution_count": 70,
          "metadata": {},
          "output_type": "execute_result"
        }
      ],
      "source": [
        "keras.utils.plot_model(model2, \"2Layer_BiDirectionalLSTM.png\", show_shapes=True)"
      ]
    },
    {
      "cell_type": "markdown",
      "metadata": {
        "id": "9xvpE3BaGw_V"
      },
      "source": [
        "Check out other existing recurrent layers such as [GRU layers](https://www.tensorflow.org/api_docs/python/tf/keras/layers/GRU).\n",
        "\n",
        "If you're interestied in building custom RNNs, see the [Keras RNN Guide](../../guide/keras/rnn.ipynb).\n"
      ]
    }
  ],
  "metadata": {
    "accelerator": "GPU",
    "colab": {
      "collapsed_sections": [],
      "machine_shape": "hm",
      "name": "MSDS458_Assignment_03_20210619_DEV_v16.ipynb",
      "provenance": [],
      "toc_visible": true
    },
    "kernelspec": {
      "display_name": "Python 3",
      "language": "python",
      "name": "python3"
    },
    "language_info": {
      "codemirror_mode": {
        "name": "ipython",
        "version": 3
      },
      "file_extension": ".py",
      "mimetype": "text/x-python",
      "name": "python",
      "nbconvert_exporter": "python",
      "pygments_lexer": "ipython3",
      "version": "3.6.9"
    },
    "toc": {
      "base_numbering": 1,
      "nav_menu": {},
      "number_sections": false,
      "sideBar": true,
      "skip_h1_title": false,
      "title_cell": "Table of Contents",
      "title_sidebar": "Contents",
      "toc_cell": false,
      "toc_position": {},
      "toc_section_display": true,
      "toc_window_display": false
    }
  },
  "nbformat": 4,
  "nbformat_minor": 0
}