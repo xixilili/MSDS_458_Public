{
  "nbformat": 4,
  "nbformat_minor": 0,
  "metadata": {
    "colab": {
      "name": "MSDS458_Assignment_03_Experiment_D.ipynb",
      "provenance": [],
      "authorship_tag": "ABX9TyOLoD1h8FImDPbaWt2XUqZE",
      "include_colab_link": true
    },
    "kernelspec": {
      "name": "python3",
      "display_name": "Python 3"
    },
    "language_info": {
      "name": "python"
    }
  },
  "cells": [
    {
      "cell_type": "markdown",
      "metadata": {
        "id": "view-in-github",
        "colab_type": "text"
      },
      "source": [
        "<a href=\"https://colab.research.google.com/github/xixilili/MSDS_458_Public/blob/master/MSDS458_Assignment_03/MSDS458_Assignment_03_Experiment_D.ipynb\" target=\"_parent\"><img src=\"https://colab.research.google.com/assets/colab-badge.svg\" alt=\"Open In Colab\"/></a>"
      ]
    },
    {
      "cell_type": "markdown",
      "source": [
        "## Experiment D: 1D CNN"
      ],
      "metadata": {
        "id": "1V3hKOiPtDcs"
      }
    },
    {
      "cell_type": "markdown",
      "source": [
        "### Mount Google Drive"
      ],
      "metadata": {
        "id": "8_sJV_PWeD1_"
      }
    },
    {
      "cell_type": "code",
      "source": [
        "from google.colab import drive\n",
        "drive.mount('/content/gdrive')"
      ],
      "metadata": {
        "id": "HIYDdlyXdnRu",
        "outputId": "6cd0e8d2-199d-4155-aa7e-bb3f19570de6",
        "colab": {
          "base_uri": "https://localhost:8080/"
        }
      },
      "execution_count": 1,
      "outputs": [
        {
          "output_type": "stream",
          "name": "stdout",
          "text": [
            "Mounted at /content/gdrive\n"
          ]
        }
      ]
    },
    {
      "cell_type": "markdown",
      "source": [
        "### Load Package"
      ],
      "metadata": {
        "id": "LYpO5EAqAJOm"
      }
    },
    {
      "cell_type": "code",
      "execution_count": 2,
      "metadata": {
        "id": "0SgixklFh2Fb"
      },
      "outputs": [],
      "source": [
        "import datetime\n",
        "from packaging import version\n",
        "from collections import Counter\n",
        "import numpy as np\n",
        "import pandas as pd\n",
        "import time\n",
        "\n",
        "import matplotlib.pyplot as plt\n",
        "import matplotlib as mpl\n",
        "import seaborn as sns\n",
        "\n",
        "from sklearn.metrics import confusion_matrix, classification_report\n",
        "from sklearn.preprocessing import StandardScaler\n",
        "from sklearn.decomposition import PCA\n",
        "from sklearn.manifold import TSNE\n",
        "from sklearn.ensemble import RandomForestClassifier\n",
        "from sklearn.metrics import mean_squared_error as MSE\n",
        "from sklearn.metrics import accuracy_score\n",
        "\n",
        "import tensorflow as tf\n",
        "from tensorflow import keras\n",
        "import tensorflow_datasets as tfds"
      ]
    },
    {
      "cell_type": "markdown",
      "source": [
        "### Load and Process Data"
      ],
      "metadata": {
        "id": "5JmX9O_SAF5i"
      }
    },
    {
      "cell_type": "code",
      "source": [
        "# register  ag_news_subset so that tfds.load doesn't generate a checksum (mismatch) error\n",
        "!python -m tensorflow_datasets.scripts.download_and_prepare --register_checksums --datasets=ag_news_subset\n",
        "\n",
        "# Example Approaches to Split Data Set\n",
        "# dataset, info = tfds.load('ag_news_subset', with_info=True,  split=['train[:]','test[:1000]', 'test[1000:]'],\n",
        "dataset, info = tfds.load('ag_news_subset', with_info=True,  split=['train[:95%]','train[95%:]', 'test[:]'],\n",
        "# dataset, info = tfds.load('ag_news_subset', with_info=True,  split=['train[:114000]','train[114000:]', 'test[:]'],\n",
        "                          as_supervised=True)\n",
        "train_dataset, validation_dataset, test_dataset = dataset\n",
        "# train_dataset, test_dataset = dataset['train'],dataset['test']"
      ],
      "metadata": {
        "colab": {
          "base_uri": "https://localhost:8080/"
        },
        "id": "GuL0XQrvh3hy",
        "outputId": "ee63030c-fdaf-4529-c253-aea6de4d388c"
      },
      "execution_count": 3,
      "outputs": [
        {
          "output_type": "stream",
          "name": "stdout",
          "text": [
            "2022-02-20 03:10:06.194115: E tensorflow/stream_executor/cuda/cuda_driver.cc:271] failed call to cuInit: CUDA_ERROR_NO_DEVICE: no CUDA-capable device is detected\n",
            "I0220 03:10:06.194406 140344973703040 download_and_prepare.py:200] Running download_and_prepare for dataset(s):\n",
            "ag_news_subset\n",
            "I0220 03:10:06.353914 140344973703040 dataset_info.py:434] Load pre-computed DatasetInfo (eg: splits, num examples,...) from GCS: ag_news_subset/1.0.0\n",
            "I0220 03:10:06.523741 140344973703040 dataset_info.py:361] Load dataset info from /tmp/tmpfgeg3pz8tfds\n",
            "I0220 03:10:06.525810 140344973703040 download_and_prepare.py:138] download_and_prepare for dataset ag_news_subset/1.0.0...\n",
            "I0220 03:10:06.526252 140344973703040 dataset_builder.py:357] Generating dataset ag_news_subset (/root/tensorflow_datasets/ag_news_subset/1.0.0)\n",
            "\u001b[1mDownloading and preparing dataset ag_news_subset/1.0.0 (download: 11.24 MiB, generated: 35.79 MiB, total: 47.03 MiB) to /root/tensorflow_datasets/ag_news_subset/1.0.0...\u001b[0m\n",
            "Dl Completed...: 0 url [00:00, ? url/s]\n",
            "Dl Size...: 0 MiB [00:00, ? MiB/s]\u001b[A\n",
            "\n",
            "Extraction completed...: 0 file [00:00, ? file/s]\u001b[A\u001b[AI0220 03:10:06.794086 140344973703040 download_manager.py:476] Downloading https://drive.google.com/uc?export=download&id=0Bz8a_Dbh9QhbUDNpeUdjb0wxRms into /root/tensorflow_datasets/downloads/ucexport_download_id_0Bz8a_Dbh9QhbUDNpeUdjb0wxj4g1umFAV8OV-uDwxSJR0LdxO_k1jxMuFWwAfNX9jos.tmp.743228a111f8488eaffda1788b4d1315...\n",
            "Dl Completed...:   0% 0/1 [00:00<?, ? url/s]\n",
            "Dl Size...: 0 MiB [00:00, ? MiB/s]\u001b[A\n",
            "\n",
            "Dl Completed...:   0% 0/1 [00:23<?, ? url/s]\n",
            "Dl Size...:   0% 0/11 [00:23<?, ? MiB/s]\u001b[A\n",
            "\n",
            "Extraction completed...: 0 file [00:23, ? file/s]\u001b[A\u001b[A\n",
            "Dl Completed...:   0% 0/1 [00:23<?, ? url/s]\n",
            "Dl Size...:   9% 1/11 [00:23<03:56, 23.66s/ MiB]\u001b[A\n",
            "\n",
            "Dl Completed...:   0% 0/1 [00:23<?, ? url/s]\n",
            "Dl Size...:  18% 2/11 [00:23<03:32, 23.66s/ MiB]\u001b[A\n",
            "\n",
            "Dl Completed...:   0% 0/1 [00:23<?, ? url/s]\n",
            "Dl Size...:  27% 3/11 [00:23<03:09, 23.66s/ MiB]\u001b[A\n",
            "\n",
            "Dl Completed...:   0% 0/1 [00:23<?, ? url/s]\n",
            "Dl Size...:  36% 4/11 [00:23<02:45, 23.66s/ MiB]\u001b[A\n",
            "\n",
            "Dl Completed...:   0% 0/1 [00:23<?, ? url/s]\n",
            "Dl Size...:  45% 5/11 [00:23<02:21, 23.66s/ MiB]\u001b[A\n",
            "\n",
            "Dl Completed...:   0% 0/1 [00:23<?, ? url/s]\n",
            "Dl Size...:  55% 6/11 [00:23<01:58, 23.66s/ MiB]\u001b[A\n",
            "\n",
            "Dl Completed...:   0% 0/1 [00:23<?, ? url/s]\n",
            "Dl Size...:  64% 7/11 [00:23<01:34, 23.66s/ MiB]\u001b[A\n",
            "\n",
            "Dl Completed...:   0% 0/1 [00:23<?, ? url/s]\n",
            "Dl Size...:  73% 8/11 [00:23<01:10, 23.66s/ MiB]\u001b[A\n",
            "\n",
            "Dl Completed...:   0% 0/1 [00:23<?, ? url/s]\n",
            "Dl Size...:  82% 9/11 [00:23<00:47, 23.66s/ MiB]\u001b[A\n",
            "\n",
            "Dl Completed...:   0% 0/1 [00:23<?, ? url/s]\n",
            "Dl Size...:  91% 10/11 [00:23<00:23, 23.66s/ MiB]\u001b[A\n",
            "\n",
            "Extraction completed...: 0 file [00:23, ? file/s]\u001b[A\u001b[A\n",
            "Dl Completed...:   0% 0/1 [00:23<?, ? url/s]\n",
            "Dl Size...: 100% 11/11 [00:23<00:00,  1.56s/ MiB]\u001b[A\n",
            "\n",
            "Dl Completed...: 100% 1/1 [00:23<00:00, 23.77s/ url]\n",
            "Dl Size...: 100% 11/11 [00:23<00:00,  1.56s/ MiB]\u001b[A\n",
            "\n",
            "Dl Completed...: 100% 1/1 [00:23<00:00, 23.77s/ url]\n",
            "Dl Size...: 100% 11/11 [00:23<00:00,  1.56s/ MiB]\u001b[A\n",
            "\n",
            "Extraction completed...:   0% 0/1 [00:23<?, ? file/s]\u001b[A\u001b[A\n",
            "\n",
            "Dl Completed...: 100% 1/1 [00:24<00:00, 23.77s/ url]\n",
            "Dl Size...: 100% 11/11 [00:24<00:00,  1.56s/ MiB]\u001b[A\n",
            "\n",
            "Extraction completed...: 100% 1/1 [00:24<00:00, 24.15s/ file]\u001b[A\u001b[A\n",
            "Extraction completed...: 100% 1/1 [00:24<00:00, 24.15s/ file]\n",
            "\n",
            "Dl Size...: 100% 11/11 [00:24<00:00,  2.20s/ MiB]\n",
            "\n",
            "Dl Completed...: 100% 1/1 [00:24<00:00, 24.16s/ url]\n",
            "I0220 03:10:30.947561 140344973703040 dataset_builder.py:970] Generating split train\n",
            "Shuffling and writing examples to /root/tensorflow_datasets/ag_news_subset/1.0.0.incompletePHJNWV/ag_news_subset-train.tfrecord\n",
            " 98% 117017/120000 [00:00<00:00, 308360.07 examples/s]I0220 03:10:56.975185 140344973703040 tfrecords_writer.py:226] Done writing /root/tensorflow_datasets/ag_news_subset/1.0.0.incompletePHJNWV/ag_news_subset-train.tfrecord. Shard lengths: [120000]\n",
            "I0220 03:10:56.993464 140344973703040 dataset_builder.py:970] Generating split test\n",
            "Shuffling and writing examples to /root/tensorflow_datasets/ag_news_subset/1.0.0.incompletePHJNWV/ag_news_subset-test.tfrecord\n",
            "  0% 0/7600 [00:00<?, ? examples/s]I0220 03:10:58.598125 140344973703040 tfrecords_writer.py:226] Done writing /root/tensorflow_datasets/ag_news_subset/1.0.0.incompletePHJNWV/ag_news_subset-test.tfrecord. Shard lengths: [7600]\n",
            "I0220 03:10:58.600602 140344973703040 dataset_builder.py:412] Skipping computing stats for mode ComputeStatsMode.SKIP.\n",
            "\u001b[1mDataset ag_news_subset downloaded and prepared to /root/tensorflow_datasets/ag_news_subset/1.0.0. Subsequent calls will reuse this data.\u001b[0m\n",
            "\u001b[1mname: \"ag_news_subset\"\n",
            "description: \"AG is a collection of more than 1 million news articles.\\nNews articles have been gathered from more than 2000  news sources by ComeToMyHead in more than 1 year of activity.\\nComeToMyHead is an academic news search engine which has been running since July, 2004.\\nThe dataset is provided by the academic comunity for research purposes in data mining (clustering, classification, etc),\\ninformation retrieval (ranking, search, etc), xml, data compression, data streaming,\\nand any other non-commercial activity.\\nFor more information, please refer to the link http://www.di.unipi.it/~gulli/AG_corpus_of_news_articles.html .\\n\\nThe AG\\'s news topic classification dataset is constructed by Xiang Zhang (xiang.zhang@nyu.edu) from the dataset above.\\nIt is used as a text classification benchmark in the following paper:\\nXiang Zhang, Junbo Zhao, Yann LeCun. Character-level Convolutional Networks for Text Classification. Advances in Neural Information Processing Systems 28 (NIPS 2015).\\n\\nThe AG\\'s news topic classification dataset is constructed by choosing 4 largest classes from the original corpus.\\nEach class contains 30,000 training samples and 1,900 testing samples.\\nThe total number of training samples is 120,000 and testing 7,600.\"\n",
            "citation: \"@misc{zhang2015characterlevel,\\n    title={Character-level Convolutional Networks for Text Classification},\\n    author={Xiang Zhang and Junbo Zhao and Yann LeCun},\\n    year={2015},\\n    eprint={1509.01626},\\n    archivePrefix={arXiv},\\n    primaryClass={cs.LG}\\n}\"\n",
            "location {\n",
            "  urls: \"https://arxiv.org/abs/1509.01626\"\n",
            "}\n",
            "splits {\n",
            "  name: \"test\"\n",
            "  shard_lengths: 7600\n",
            "  num_bytes: 2226751\n",
            "}\n",
            "splits {\n",
            "  name: \"train\"\n",
            "  shard_lengths: 120000\n",
            "  num_bytes: 35301386\n",
            "}\n",
            "supervised_keys {\n",
            "  input: \"description\"\n",
            "  output: \"label\"\n",
            "}\n",
            "version: \"1.0.0\"\n",
            "download_size: 11784327\n",
            "\u001b[0m\n"
          ]
        }
      ]
    },
    {
      "cell_type": "code",
      "source": [
        "BUFFER_SIZE = 10000\n",
        "BATCH_SIZE = 2560\n",
        "train_dataset = train_dataset.shuffle(BUFFER_SIZE).batch(BATCH_SIZE).prefetch(tf.data.experimental.AUTOTUNE)\n",
        "validation_dataset = validation_dataset.shuffle(BUFFER_SIZE).batch(BATCH_SIZE).prefetch(tf.data.experimental.AUTOTUNE)\n",
        "test_dataset = test_dataset.batch(BATCH_SIZE).prefetch(tf.data.experimental.AUTOTUNE)"
      ],
      "metadata": {
        "id": "3TvvsyRLn8mE"
      },
      "execution_count": 4,
      "outputs": []
    },
    {
      "cell_type": "markdown",
      "source": [
        "### Explore Vocab"
      ],
      "metadata": {
        "id": "1lSxL5sP_8gg"
      }
    },
    {
      "cell_type": "code",
      "source": [
        "def explore_vocab(train_dataset,encoder):\n",
        "  doc_sizes = []\n",
        "  corpus = []\n",
        "  for example, _ in train_dataset.as_numpy_iterator():\n",
        "    enc_example = encoder(example)\n",
        "    doc_sizes.append(len(enc_example))\n",
        "    corpus+=list(enc_example.numpy())\n",
        "  return  corpus, doc_sizes"
      ],
      "metadata": {
        "id": "ThWn4Vuj_9Il"
      },
      "execution_count": 5,
      "outputs": []
    },
    {
      "cell_type": "markdown",
      "source": [
        "### Compile, Train Model"
      ],
      "metadata": {
        "id": "90gEMg-5AT8I"
      }
    },
    {
      "cell_type": "code",
      "source": [
        "def namestr(obj, namespace):\n",
        "  for name in namespace:\n",
        "    if namespace[name] is obj:\n",
        "      return name"
      ],
      "metadata": {
        "id": "ovWMn7oP49ax"
      },
      "execution_count": 6,
      "outputs": []
    },
    {
      "cell_type": "code",
      "source": [
        "import datetime as dt\n",
        "\n",
        "def compile_train_model(model, epoch):\n",
        "  #compile model\n",
        "  model.compile(optimizer=\"adam\"\n",
        "              ,loss=\"SparseCategoricalCrossentropy\" # if we set from_logits=True we don not have specify a softmax activation function in the last layer\n",
        "              ,metrics=['accuracy'])\n",
        "\n",
        "  start_datetime = dt.datetime.now()\n",
        "\n",
        "  #train model  \n",
        "  history = model.fit(train_dataset\n",
        "                    ,epochs = epoch\n",
        "                    ,validation_data=validation_dataset\n",
        "                    ,callbacks=[tf.keras.callbacks.EarlyStopping(monitor='val_accuracy', patience=2)]\n",
        "                    )\n",
        "\n",
        "\n",
        "  #evaluate model\n",
        "  loss, accuracy = model.evaluate(test_dataset)\n",
        "  print('test set accuracy: ', accuracy * 100)\n",
        "\n",
        "  runtime = (dt.datetime.now() - start_datetime).total_seconds()\n",
        "\n",
        "  #training and validation performance metrix\n",
        "  history_dict = history.history\n",
        "  history_df=pd.DataFrame(history_dict)\n",
        "\n",
        "  #loss and accuracy for training and validation data\n",
        "  losses = history.history['loss']\n",
        "  accs = history.history['accuracy']\n",
        "  val_losses = history.history['val_loss']\n",
        "  val_accs = history.history['val_accuracy']\n",
        "  epochs = len(losses)\n",
        "\n",
        "  result = history_df.tail(1)\n",
        "  result['test_loss'] = loss\n",
        "  result['test_accuracy'] = accuracy\n",
        "  result['process_time'] = runtime\n",
        "  result['epochs_setting'] = epoch  \n",
        "  result['epochs_actual'] = epochs    \n",
        "\n",
        "  plt.figure(figsize=(16, 4))\n",
        "  for i, metrics in enumerate(zip([losses, accs], [val_losses, val_accs], ['Loss', 'Accuracy'])):\n",
        "      plt.subplot(1, 2, i + 1)\n",
        "      plt.plot(range(epochs), metrics[0], label='Training {}'.format(metrics[2]))\n",
        "      plt.plot(range(epochs), metrics[1], label='Validation {}'.format(metrics[2]))\n",
        "      plt.legend()\n",
        "      plt.title('{0} with {1} epochs'.format(namestr(model, globals()), epoch))   \n",
        "  plt.show()  \n",
        "\n",
        "  return result"
      ],
      "metadata": {
        "id": "UjhVCFgv49_Y"
      },
      "execution_count": 13,
      "outputs": []
    },
    {
      "cell_type": "markdown",
      "source": [
        "## 1D CNN"
      ],
      "metadata": {
        "id": "rsM61ORdtTQK"
      }
    },
    {
      "cell_type": "markdown",
      "source": [
        "### Encoder"
      ],
      "metadata": {
        "id": "rPRzfy0WAiHe"
      }
    },
    {
      "cell_type": "code",
      "source": [
        "VOCAB_SIZE = 1000\n",
        "encoder = tf.keras.layers.experimental.preprocessing.TextVectorization(max_tokens=VOCAB_SIZE)\n",
        "encoder.adapt(train_dataset.map(lambda text, label: text))\n",
        "vocab = np.array(encoder.get_vocabulary());"
      ],
      "metadata": {
        "id": "0VTr_D3Ih58z"
      },
      "execution_count": 8,
      "outputs": []
    },
    {
      "cell_type": "code",
      "source": [
        "corpus, doc_sizes = explore_vocab(train_dataset,encoder)"
      ],
      "metadata": {
        "id": "CLxwhIkt_xnW"
      },
      "execution_count": 9,
      "outputs": []
    },
    {
      "cell_type": "code",
      "source": [
        "vocab = np.array(encoder.get_vocabulary())\n",
        "num_vocab_words_in_corpus =len(vocab)\n",
        "\n",
        "num_words =len(corpus)\n",
        "num_articles =len(doc_sizes)\n",
        "min_token_in_a_article = min(doc_sizes)\n",
        "max_token_in_a_article = max(doc_sizes)  \n",
        "\n",
        "print(num_vocab_words_in_corpus)\n",
        "print(num_words)\n",
        "print(num_articles)\n",
        "print(min_token_in_a_article)\n",
        "print(max_token_in_a_article)"
      ],
      "metadata": {
        "id": "sgfSVziC45oB",
        "colab": {
          "base_uri": "https://localhost:8080/"
        },
        "outputId": "55705be0-ee4c-402b-9e95-225de37ea26f"
      },
      "execution_count": 10,
      "outputs": [
        {
          "output_type": "stream",
          "name": "stdout",
          "text": [
            "1000\n",
            "114000\n",
            "45\n",
            "1360\n",
            "2560\n"
          ]
        }
      ]
    },
    {
      "cell_type": "markdown",
      "source": [
        "### Create Model"
      ],
      "metadata": {
        "id": "b9DK4ZDmtld9"
      }
    },
    {
      "cell_type": "code",
      "source": [
        "CNN1D = tf.keras.Sequential([\n",
        "                              encoder\n",
        "                              ,tf.keras.layers.Embedding(input_dim=len(encoder.get_vocabulary()),output_dim=64,mask_zero=True)\n",
        "                              ,tf.keras.layers.Conv1D(8, 24, activation=\"relu\")\n",
        "                              ,tf.keras.layers.MaxPooling1D(2)\n",
        "                              ,tf.keras.layers.Conv1D(8, 12, activation=\"relu\")\n",
        "                              ,tf.keras.layers.MaxPooling1D(2)\n",
        "                              ,tf.keras.layers.Conv1D(8, 6, activation=\"relu\")\n",
        "                              ,tf.keras.layers.GlobalAveragePooling1D()\n",
        "                              ,tf.keras.layers.Dense(4,activation='softmax')   \n",
        "])"
      ],
      "metadata": {
        "id": "d0eohMjiuMKy"
      },
      "execution_count": 11,
      "outputs": []
    },
    {
      "cell_type": "markdown",
      "source": [
        "### 1D CNN"
      ],
      "metadata": {
        "id": "WiBq5Zt9DXPZ"
      }
    },
    {
      "cell_type": "code",
      "source": [
        "result_CNN1D = compile_train_model(CNN1D, 200)"
      ],
      "metadata": {
        "id": "sns01SJr4vA-",
        "colab": {
          "base_uri": "https://localhost:8080/",
          "height": 1000
        },
        "outputId": "53c69f47-03ff-46e8-d1dd-59df6340ee0b"
      },
      "execution_count": 14,
      "outputs": [
        {
          "output_type": "stream",
          "name": "stdout",
          "text": [
            "Epoch 1/200\n",
            "45/45 [==============================] - 99s 2s/step - loss: 1.3723 - accuracy: 0.3082 - val_loss: 1.3301 - val_accuracy: 0.3482\n",
            "Epoch 2/200\n",
            "45/45 [==============================] - 98s 2s/step - loss: 1.2055 - accuracy: 0.4261 - val_loss: 1.1300 - val_accuracy: 0.4602\n",
            "Epoch 3/200\n",
            "45/45 [==============================] - 95s 2s/step - loss: 1.0405 - accuracy: 0.5151 - val_loss: 1.0676 - val_accuracy: 0.4973\n",
            "Epoch 4/200\n",
            "45/45 [==============================] - 97s 2s/step - loss: 0.9567 - accuracy: 0.5837 - val_loss: 0.9882 - val_accuracy: 0.5852\n",
            "Epoch 5/200\n",
            "45/45 [==============================] - 99s 2s/step - loss: 0.9088 - accuracy: 0.6179 - val_loss: 0.9106 - val_accuracy: 0.6140\n",
            "Epoch 6/200\n",
            "45/45 [==============================] - 96s 2s/step - loss: 0.8648 - accuracy: 0.6578 - val_loss: 0.9040 - val_accuracy: 0.6678\n",
            "Epoch 7/200\n",
            "45/45 [==============================] - 100s 2s/step - loss: 0.8338 - accuracy: 0.6822 - val_loss: 0.8964 - val_accuracy: 0.6680\n",
            "Epoch 8/200\n",
            "45/45 [==============================] - 101s 2s/step - loss: 0.8025 - accuracy: 0.7012 - val_loss: 0.8045 - val_accuracy: 0.7200\n",
            "Epoch 9/200\n",
            "45/45 [==============================] - 97s 2s/step - loss: 0.7565 - accuracy: 0.7263 - val_loss: 0.7974 - val_accuracy: 0.6988\n",
            "Epoch 10/200\n",
            "45/45 [==============================] - 98s 2s/step - loss: 0.7046 - accuracy: 0.7467 - val_loss: 0.7489 - val_accuracy: 0.7220\n",
            "Epoch 11/200\n",
            "45/45 [==============================] - 97s 2s/step - loss: 0.6570 - accuracy: 0.7637 - val_loss: 0.6758 - val_accuracy: 0.7547\n",
            "Epoch 12/200\n",
            "45/45 [==============================] - 98s 2s/step - loss: 0.6261 - accuracy: 0.7783 - val_loss: 0.7178 - val_accuracy: 0.7293\n",
            "Epoch 13/200\n",
            "45/45 [==============================] - 96s 2s/step - loss: 0.5991 - accuracy: 0.7886 - val_loss: 0.6452 - val_accuracy: 0.7922\n",
            "Epoch 14/200\n",
            "45/45 [==============================] - 98s 2s/step - loss: 0.5772 - accuracy: 0.7983 - val_loss: 0.6193 - val_accuracy: 0.7827\n",
            "Epoch 15/200\n",
            "45/45 [==============================] - 98s 2s/step - loss: 0.5596 - accuracy: 0.8035 - val_loss: 0.6310 - val_accuracy: 0.7902\n",
            "3/3 [==============================] - 2s 416ms/step - loss: 0.5654 - accuracy: 0.7988\n",
            "test set accuracy:  79.88157868385315\n"
          ]
        },
        {
          "output_type": "stream",
          "name": "stderr",
          "text": [
            "/usr/local/lib/python3.7/dist-packages/ipykernel_launcher.py:37: SettingWithCopyWarning: \n",
            "A value is trying to be set on a copy of a slice from a DataFrame.\n",
            "Try using .loc[row_indexer,col_indexer] = value instead\n",
            "\n",
            "See the caveats in the documentation: https://pandas.pydata.org/pandas-docs/stable/user_guide/indexing.html#returning-a-view-versus-a-copy\n",
            "/usr/local/lib/python3.7/dist-packages/ipykernel_launcher.py:38: SettingWithCopyWarning: \n",
            "A value is trying to be set on a copy of a slice from a DataFrame.\n",
            "Try using .loc[row_indexer,col_indexer] = value instead\n",
            "\n",
            "See the caveats in the documentation: https://pandas.pydata.org/pandas-docs/stable/user_guide/indexing.html#returning-a-view-versus-a-copy\n",
            "/usr/local/lib/python3.7/dist-packages/ipykernel_launcher.py:39: SettingWithCopyWarning: \n",
            "A value is trying to be set on a copy of a slice from a DataFrame.\n",
            "Try using .loc[row_indexer,col_indexer] = value instead\n",
            "\n",
            "See the caveats in the documentation: https://pandas.pydata.org/pandas-docs/stable/user_guide/indexing.html#returning-a-view-versus-a-copy\n",
            "/usr/local/lib/python3.7/dist-packages/ipykernel_launcher.py:40: SettingWithCopyWarning: \n",
            "A value is trying to be set on a copy of a slice from a DataFrame.\n",
            "Try using .loc[row_indexer,col_indexer] = value instead\n",
            "\n",
            "See the caveats in the documentation: https://pandas.pydata.org/pandas-docs/stable/user_guide/indexing.html#returning-a-view-versus-a-copy\n",
            "/usr/local/lib/python3.7/dist-packages/ipykernel_launcher.py:41: SettingWithCopyWarning: \n",
            "A value is trying to be set on a copy of a slice from a DataFrame.\n",
            "Try using .loc[row_indexer,col_indexer] = value instead\n",
            "\n",
            "See the caveats in the documentation: https://pandas.pydata.org/pandas-docs/stable/user_guide/indexing.html#returning-a-view-versus-a-copy\n"
          ]
        },
        {
          "output_type": "display_data",
          "data": {
            "image/png": "[encoded data removed]",
            "text/plain": [
              "<Figure size 1152x288 with 2 Axes>"
            ]
          },
          "metadata": {
            "needs_background": "light"
          }
        }
      ]
    },
    {
      "cell_type": "code",
      "source": [
        "result_CNN1D['vocab_size'] = VOCAB_SIZE \n",
        "result_CNN1D['num_words'] = num_words \n",
        "result_CNN1D['num_articles'] = num_articles\n",
        "result_CNN1D['min_token_in_a_article'] = min_token_in_a_article \n",
        "result_CNN1D['max_token_in_a_article'] = max_token_in_a_article \n",
        "new_col = ['1D CNN']   \n",
        "result_CNN1D.insert(loc=0, column='Model', value=new_col)"
      ],
      "metadata": {
        "id": "zEyeashQ5Rtg"
      },
      "execution_count": null,
      "outputs": []
    },
    {
      "cell_type": "code",
      "source": [
        "result_CNN1D"
      ],
      "metadata": {
        "colab": {
          "base_uri": "https://localhost:8080/",
          "height": 162
        },
        "id": "F4Shwivy2VAA",
        "outputId": "d7cbea4e-a95e-4096-8296-1a2603dad062"
      },
      "execution_count": null,
      "outputs": [
        {
          "output_type": "execute_result",
          "data": {
            "text/html": [
              "\n",
              "  <div id=\"df-864d3d70-ecc2-4cd6-8306-4cca08a67362\">\n",
              "    <div class=\"colab-df-container\">\n",
              "      <div>\n",
              "<style scoped>\n",
              "    .dataframe tbody tr th:only-of-type {\n",
              "        vertical-align: middle;\n",
              "    }\n",
              "\n",
              "    .dataframe tbody tr th {\n",
              "        vertical-align: top;\n",
              "    }\n",
              "\n",
              "    .dataframe thead th {\n",
              "        text-align: right;\n",
              "    }\n",
              "</style>\n",
              "<table border=\"1\" class=\"dataframe\">\n",
              "  <thead>\n",
              "    <tr style=\"text-align: right;\">\n",
              "      <th></th>\n",
              "      <th>Model</th>\n",
              "      <th>loss</th>\n",
              "      <th>accuracy</th>\n",
              "      <th>val_loss</th>\n",
              "      <th>val_accuracy</th>\n",
              "      <th>test_loss</th>\n",
              "      <th>test_accuracy</th>\n",
              "      <th>process_time</th>\n",
              "      <th>epochs_setting</th>\n",
              "      <th>epochs_actual</th>\n",
              "      <th>vocab_size</th>\n",
              "      <th>num_words</th>\n",
              "      <th>num_articles</th>\n",
              "      <th>min_token_in_a_article</th>\n",
              "      <th>max_token_in_a_article</th>\n",
              "    </tr>\n",
              "  </thead>\n",
              "  <tbody>\n",
              "    <tr>\n",
              "      <th>2</th>\n",
              "      <td>1D CNN</td>\n",
              "      <td>0.0</td>\n",
              "      <td>0.249956</td>\n",
              "      <td>0.0</td>\n",
              "      <td>0.250833</td>\n",
              "      <td>0.0</td>\n",
              "      <td>0.25</td>\n",
              "      <td>237.795609</td>\n",
              "      <td>200</td>\n",
              "      <td>3</td>\n",
              "      <td>1000</td>\n",
              "      <td>114000</td>\n",
              "      <td>45</td>\n",
              "      <td>1360</td>\n",
              "      <td>2560</td>\n",
              "    </tr>\n",
              "  </tbody>\n",
              "</table>\n",
              "</div>\n",
              "      <button class=\"colab-df-convert\" onclick=\"convertToInteractive('df-864d3d70-ecc2-4cd6-8306-4cca08a67362')\"\n",
              "              title=\"Convert this dataframe to an interactive table.\"\n",
              "              style=\"display:none;\">\n",
              "        \n",
              "  <svg xmlns=\"http://www.w3.org/2000/svg\" height=\"24px\"viewBox=\"0 0 24 24\"\n",
              "       width=\"24px\">\n",
              "    <path d=\"M0 0h24v24H0V0z\" fill=\"none\"/>\n",
              "    <path d=\"M18.56 5.44l.94 2.06.94-2.06 2.06-.94-2.06-.94-.94-2.06-.94 2.06-2.06.94zm-11 1L8.5 8.5l.94-2.06 2.06-.94-2.06-.94L8.5 2.5l-.94 2.06-2.06.94zm10 10l.94 2.06.94-2.06 2.06-.94-2.06-.94-.94-2.06-.94 2.06-2.06.94z\"/><path d=\"M17.41 7.96l-1.37-1.37c-.4-.4-.92-.59-1.43-.59-.52 0-1.04.2-1.43.59L10.3 9.45l-7.72 7.72c-.78.78-.78 2.05 0 2.83L4 21.41c.39.39.9.59 1.41.59.51 0 1.02-.2 1.41-.59l7.78-7.78 2.81-2.81c.8-.78.8-2.07 0-2.86zM5.41 20L4 18.59l7.72-7.72 1.47 1.35L5.41 20z\"/>\n",
              "  </svg>\n",
              "      </button>\n",
              "      \n",
              "  <style>\n",
              "    .colab-df-container {\n",
              "      display:flex;\n",
              "      flex-wrap:wrap;\n",
              "      gap: 12px;\n",
              "    }\n",
              "\n",
              "    .colab-df-convert {\n",
              "      background-color: #E8F0FE;\n",
              "      border: none;\n",
              "      border-radius: 50%;\n",
              "      cursor: pointer;\n",
              "      display: none;\n",
              "      fill: #1967D2;\n",
              "      height: 32px;\n",
              "      padding: 0 0 0 0;\n",
              "      width: 32px;\n",
              "    }\n",
              "\n",
              "    .colab-df-convert:hover {\n",
              "      background-color: #E2EBFA;\n",
              "      box-shadow: 0px 1px 2px rgba(60, 64, 67, 0.3), 0px 1px 3px 1px rgba(60, 64, 67, 0.15);\n",
              "      fill: #174EA6;\n",
              "    }\n",
              "\n",
              "    [theme=dark] .colab-df-convert {\n",
              "      background-color: #3B4455;\n",
              "      fill: #D2E3FC;\n",
              "    }\n",
              "\n",
              "    [theme=dark] .colab-df-convert:hover {\n",
              "      background-color: #434B5C;\n",
              "      box-shadow: 0px 1px 3px 1px rgba(0, 0, 0, 0.15);\n",
              "      filter: drop-shadow(0px 1px 2px rgba(0, 0, 0, 0.3));\n",
              "      fill: #FFFFFF;\n",
              "    }\n",
              "  </style>\n",
              "\n",
              "      <script>\n",
              "        const buttonEl =\n",
              "          document.querySelector('#df-864d3d70-ecc2-4cd6-8306-4cca08a67362 button.colab-df-convert');\n",
              "        buttonEl.style.display =\n",
              "          google.colab.kernel.accessAllowed ? 'block' : 'none';\n",
              "\n",
              "        async function convertToInteractive(key) {\n",
              "          const element = document.querySelector('#df-864d3d70-ecc2-4cd6-8306-4cca08a67362');\n",
              "          const dataTable =\n",
              "            await google.colab.kernel.invokeFunction('convertToInteractive',\n",
              "                                                     [key], {});\n",
              "          if (!dataTable) return;\n",
              "\n",
              "          const docLinkHtml = 'Like what you see? Visit the ' +\n",
              "            '<a target=\"_blank\" href=https://colab.research.google.com/notebooks/data_table.ipynb>data table notebook</a>'\n",
              "            + ' to learn more about interactive tables.';\n",
              "          element.innerHTML = '';\n",
              "          dataTable['output_type'] = 'display_data';\n",
              "          await google.colab.output.renderOutput(dataTable, element);\n",
              "          const docLink = document.createElement('div');\n",
              "          docLink.innerHTML = docLinkHtml;\n",
              "          element.appendChild(docLink);\n",
              "        }\n",
              "      </script>\n",
              "    </div>\n",
              "  </div>\n",
              "  "
            ],
            "text/plain": [
              "    Model  loss  ...  min_token_in_a_article  max_token_in_a_article\n",
              "2  1D CNN   0.0  ...                    1360                    2560\n",
              "\n",
              "[1 rows x 15 columns]"
            ]
          },
          "metadata": {},
          "execution_count": 19
        }
      ]
    },
    {
      "cell_type": "code",
      "source": [
        "#prev_results_df = pd.read_pickle('/content/gdrive/My Drive/Colab Notebooks/resultsB.pkl')\n",
        "#assignment_result_table = prev_results_df.append(result_CNN1D,ignore_index=True)\n",
        "#assignment_result_table"
      ],
      "metadata": {
        "id": "edYIaB3C_Khx"
      },
      "execution_count": null,
      "outputs": []
    },
    {
      "cell_type": "markdown",
      "source": [
        "### Save Data"
      ],
      "metadata": {
        "id": "EWBXz3-4uyl4"
      }
    },
    {
      "cell_type": "code",
      "source": [
        "result_CNN1D.to_pickle(\"/content/gdrive/My Drive/Colab Notebooks/resultsD.pkl\") \n",
        "result_CNN1D.to_csv(\"/content/gdrive/My Drive/Colab Notebooks/resultsD.csv\") "
      ],
      "metadata": {
        "id": "DnvOJEa1u1dl"
      },
      "execution_count": null,
      "outputs": []
    }
  ]
}