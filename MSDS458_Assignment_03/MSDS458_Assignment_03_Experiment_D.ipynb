{
  "nbformat": 4,
  "nbformat_minor": 0,
  "metadata": {
    "colab": {
      "name": "MSDS458_Assignment_03_Experiment_D.ipynb",
      "provenance": [],
      "authorship_tag": "ABX9TyNCChXXDoSsWuEgCHN07RE1",
      "include_colab_link": true
    },
    "kernelspec": {
      "name": "python3",
      "display_name": "Python 3"
    },
    "language_info": {
      "name": "python"
    }
  },
  "cells": [
    {
      "cell_type": "markdown",
      "metadata": {
        "id": "view-in-github",
        "colab_type": "text"
      },
      "source": [
        "<a href=\"https://colab.research.google.com/github/xixilili/MSDS_458_Public/blob/master/MSDS458_Assignment_03/MSDS458_Assignment_03_Experiment_D.ipynb\" target=\"_parent\"><img src=\"https://colab.research.google.com/assets/colab-badge.svg\" alt=\"Open In Colab\"/></a>"
      ]
    },
    {
      "cell_type": "markdown",
      "source": [
        "## Experiment D: 1D CNN"
      ],
      "metadata": {
        "id": "1V3hKOiPtDcs"
      }
    },
    {
      "cell_type": "markdown",
      "source": [
        "### Mount Google Drive"
      ],
      "metadata": {
        "id": "8_sJV_PWeD1_"
      }
    },
    {
      "cell_type": "code",
      "source": [
        "from google.colab import drive\n",
        "drive.mount('/content/gdrive')"
      ],
      "metadata": {
        "id": "HIYDdlyXdnRu",
        "outputId": "dfd7a994-4f85-4468-85cc-6039a95a679e",
        "colab": {
          "base_uri": "https://localhost:8080/"
        }
      },
      "execution_count": 1,
      "outputs": [
        {
          "output_type": "stream",
          "name": "stdout",
          "text": [
            "Drive already mounted at /content/gdrive; to attempt to forcibly remount, call drive.mount(\"/content/gdrive\", force_remount=True).\n"
          ]
        }
      ]
    },
    {
      "cell_type": "markdown",
      "source": [
        "### Load Package"
      ],
      "metadata": {
        "id": "LYpO5EAqAJOm"
      }
    },
    {
      "cell_type": "code",
      "execution_count": 2,
      "metadata": {
        "id": "0SgixklFh2Fb"
      },
      "outputs": [],
      "source": [
        "import datetime\n",
        "from packaging import version\n",
        "from collections import Counter\n",
        "import numpy as np\n",
        "import pandas as pd\n",
        "import time\n",
        "\n",
        "import matplotlib.pyplot as plt\n",
        "import matplotlib as mpl\n",
        "import seaborn as sns\n",
        "\n",
        "from sklearn.metrics import confusion_matrix, classification_report\n",
        "from sklearn.preprocessing import StandardScaler\n",
        "from sklearn.decomposition import PCA\n",
        "from sklearn.manifold import TSNE\n",
        "from sklearn.ensemble import RandomForestClassifier\n",
        "from sklearn.metrics import mean_squared_error as MSE\n",
        "from sklearn.metrics import accuracy_score\n",
        "\n",
        "import tensorflow as tf\n",
        "from tensorflow import keras\n",
        "import tensorflow_datasets as tfds"
      ]
    },
    {
      "cell_type": "markdown",
      "source": [
        "### Load and Process Data"
      ],
      "metadata": {
        "id": "5JmX9O_SAF5i"
      }
    },
    {
      "cell_type": "code",
      "source": [
        "# register  ag_news_subset so that tfds.load doesn't generate a checksum (mismatch) error\n",
        "!python -m tensorflow_datasets.scripts.download_and_prepare --register_checksums --datasets=ag_news_subset\n",
        "\n",
        "# Example Approaches to Split Data Set\n",
        "# dataset, info = tfds.load('ag_news_subset', with_info=True,  split=['train[:]','test[:1000]', 'test[1000:]'],\n",
        "dataset, info = tfds.load('ag_news_subset', with_info=True,  split=['train[:95%]','train[95%:]', 'test[:]'],\n",
        "# dataset, info = tfds.load('ag_news_subset', with_info=True,  split=['train[:114000]','train[114000:]', 'test[:]'],\n",
        "                          as_supervised=True)\n",
        "train_dataset, validation_dataset, test_dataset = dataset\n",
        "# train_dataset, test_dataset = dataset['train'],dataset['test']"
      ],
      "metadata": {
        "colab": {
          "base_uri": "https://localhost:8080/"
        },
        "id": "GuL0XQrvh3hy",
        "outputId": "c0753225-b3f4-4fa5-b0ff-e07e1dcaba54"
      },
      "execution_count": 3,
      "outputs": [
        {
          "output_type": "stream",
          "name": "stdout",
          "text": [
            "2022-02-19 07:10:21.576050: E tensorflow/stream_executor/cuda/cuda_driver.cc:271] failed call to cuInit: CUDA_ERROR_NO_DEVICE: no CUDA-capable device is detected\n",
            "I0219 07:10:21.576297 140626817791872 download_and_prepare.py:200] Running download_and_prepare for dataset(s):\n",
            "ag_news_subset\n",
            "I0219 07:10:21.577527 140626817791872 dataset_info.py:361] Load dataset info from /root/tensorflow_datasets/ag_news_subset/1.0.0\n",
            "I0219 07:10:21.579457 140626817791872 download_and_prepare.py:138] download_and_prepare for dataset ag_news_subset/1.0.0...\n",
            "I0219 07:10:21.579812 140626817791872 dataset_builder.py:299] Reusing dataset ag_news_subset (/root/tensorflow_datasets/ag_news_subset/1.0.0)\n",
            "\u001b[1mname: \"ag_news_subset\"\n",
            "description: \"AG is a collection of more than 1 million news articles.\\nNews articles have been gathered from more than 2000  news sources by ComeToMyHead in more than 1 year of activity.\\nComeToMyHead is an academic news search engine which has been running since July, 2004.\\nThe dataset is provided by the academic comunity for research purposes in data mining (clustering, classification, etc),\\ninformation retrieval (ranking, search, etc), xml, data compression, data streaming,\\nand any other non-commercial activity.\\nFor more information, please refer to the link http://www.di.unipi.it/~gulli/AG_corpus_of_news_articles.html .\\n\\nThe AG\\'s news topic classification dataset is constructed by Xiang Zhang (xiang.zhang@nyu.edu) from the dataset above.\\nIt is used as a text classification benchmark in the following paper:\\nXiang Zhang, Junbo Zhao, Yann LeCun. Character-level Convolutional Networks for Text Classification. Advances in Neural Information Processing Systems 28 (NIPS 2015).\\n\\nThe AG\\'s news topic classification dataset is constructed by choosing 4 largest classes from the original corpus.\\nEach class contains 30,000 training samples and 1,900 testing samples.\\nThe total number of training samples is 120,000 and testing 7,600.\"\n",
            "citation: \"@misc{zhang2015characterlevel,\\n    title={Character-level Convolutional Networks for Text Classification},\\n    author={Xiang Zhang and Junbo Zhao and Yann LeCun},\\n    year={2015},\\n    eprint={1509.01626},\\n    archivePrefix={arXiv},\\n    primaryClass={cs.LG}\\n}\"\n",
            "location {\n",
            "  urls: \"https://arxiv.org/abs/1509.01626\"\n",
            "}\n",
            "splits {\n",
            "  name: \"test\"\n",
            "  shard_lengths: 7600\n",
            "  num_bytes: 2226751\n",
            "}\n",
            "splits {\n",
            "  name: \"train\"\n",
            "  shard_lengths: 120000\n",
            "  num_bytes: 35301386\n",
            "}\n",
            "supervised_keys {\n",
            "  input: \"description\"\n",
            "  output: \"label\"\n",
            "}\n",
            "version: \"1.0.0\"\n",
            "download_size: 11784327\n",
            "\u001b[0m\n"
          ]
        }
      ]
    },
    {
      "cell_type": "code",
      "source": [
        "BUFFER_SIZE = 10000\n",
        "BATCH_SIZE = 2560\n",
        "train_dataset = train_dataset.shuffle(BUFFER_SIZE).batch(BATCH_SIZE).prefetch(tf.data.experimental.AUTOTUNE)\n",
        "validation_dataset = validation_dataset.shuffle(BUFFER_SIZE).batch(BATCH_SIZE).prefetch(tf.data.experimental.AUTOTUNE)\n",
        "test_dataset = test_dataset.batch(BATCH_SIZE).prefetch(tf.data.experimental.AUTOTUNE)"
      ],
      "metadata": {
        "id": "3TvvsyRLn8mE"
      },
      "execution_count": 4,
      "outputs": []
    },
    {
      "cell_type": "markdown",
      "source": [
        "### Explore Vocab"
      ],
      "metadata": {
        "id": "1lSxL5sP_8gg"
      }
    },
    {
      "cell_type": "code",
      "source": [
        "def explore_vocab(train_dataset,encoder):\n",
        "  doc_sizes = []\n",
        "  corpus = []\n",
        "  for example, _ in train_dataset.as_numpy_iterator():\n",
        "    enc_example = encoder(example)\n",
        "    doc_sizes.append(len(enc_example))\n",
        "    corpus+=list(enc_example.numpy())\n",
        "  return  corpus, doc_sizes"
      ],
      "metadata": {
        "id": "ThWn4Vuj_9Il"
      },
      "execution_count": 5,
      "outputs": []
    },
    {
      "cell_type": "markdown",
      "source": [
        "### Compile, Train Model"
      ],
      "metadata": {
        "id": "90gEMg-5AT8I"
      }
    },
    {
      "cell_type": "code",
      "source": [
        "def namestr(obj, namespace):\n",
        "  for name in namespace:\n",
        "    if namespace[name] is obj:\n",
        "      return name"
      ],
      "metadata": {
        "id": "ovWMn7oP49ax"
      },
      "execution_count": 6,
      "outputs": []
    },
    {
      "cell_type": "code",
      "source": [
        "import datetime as dt\n",
        "\n",
        "def compile_train_model(model, epoch):\n",
        "  #compile model\n",
        "  model.compile(optimizer=\"adam\"\n",
        "              ,loss=\"categorical_crossentropy\" # if we set from_logits=True we don not have specify a softmax activation function in the last layer\n",
        "              ,metrics=['accuracy'])\n",
        "\n",
        "  start_datetime = dt.datetime.now()\n",
        "\n",
        "  #train model  \n",
        "  history = model.fit(train_dataset\n",
        "                    ,epochs = epoch\n",
        "                    ,validation_data=validation_dataset\n",
        "                    ,callbacks=[tf.keras.callbacks.EarlyStopping(monitor='val_accuracy', patience=2)]\n",
        "                    )\n",
        "\n",
        "\n",
        "  #evaluate model\n",
        "  loss, accuracy = model.evaluate(test_dataset)\n",
        "  print('test set accuracy: ', accuracy * 100)\n",
        "\n",
        "  runtime = (dt.datetime.now() - start_datetime).total_seconds()\n",
        "\n",
        "  #training and validation performance metrix\n",
        "  history_dict = history.history\n",
        "  history_df=pd.DataFrame(history_dict)\n",
        "\n",
        "  #loss and accuracy for training and validation data\n",
        "  losses = history.history['loss']\n",
        "  accs = history.history['accuracy']\n",
        "  val_losses = history.history['val_loss']\n",
        "  val_accs = history.history['val_accuracy']\n",
        "  epochs = len(losses)\n",
        "\n",
        "  result = history_df.tail(1)\n",
        "  result['test_loss'] = loss\n",
        "  result['test_accuracy'] = accuracy\n",
        "  result['process_time'] = runtime\n",
        "  result['epochs_setting'] = epoch  \n",
        "  result['epochs_actual'] = epochs    \n",
        "\n",
        "  plt.figure(figsize=(16, 4))\n",
        "  for i, metrics in enumerate(zip([losses, accs], [val_losses, val_accs], ['Loss', 'Accuracy'])):\n",
        "      plt.subplot(1, 2, i + 1)\n",
        "      plt.plot(range(epochs), metrics[0], label='Training {}'.format(metrics[2]))\n",
        "      plt.plot(range(epochs), metrics[1], label='Validation {}'.format(metrics[2]))\n",
        "      plt.legend()\n",
        "      plt.title('{0} with {1} epochs'.format(namestr(model, globals()), epoch))   \n",
        "  plt.show()  \n",
        "\n",
        "  return result"
      ],
      "metadata": {
        "id": "UjhVCFgv49_Y"
      },
      "execution_count": 7,
      "outputs": []
    },
    {
      "cell_type": "markdown",
      "source": [
        "## 1D CNN"
      ],
      "metadata": {
        "id": "rsM61ORdtTQK"
      }
    },
    {
      "cell_type": "markdown",
      "source": [
        "### Encoder"
      ],
      "metadata": {
        "id": "rPRzfy0WAiHe"
      }
    },
    {
      "cell_type": "code",
      "source": [
        "VOCAB_SIZE = 1000\n",
        "encoder = tf.keras.layers.experimental.preprocessing.TextVectorization(max_tokens=VOCAB_SIZE)\n",
        "encoder.adapt(train_dataset.map(lambda text, label: text))\n",
        "vocab = np.array(encoder.get_vocabulary());"
      ],
      "metadata": {
        "id": "0VTr_D3Ih58z"
      },
      "execution_count": 8,
      "outputs": []
    },
    {
      "cell_type": "code",
      "source": [
        "corpus, doc_sizes = explore_vocab(train_dataset,encoder)"
      ],
      "metadata": {
        "id": "CLxwhIkt_xnW"
      },
      "execution_count": 9,
      "outputs": []
    },
    {
      "cell_type": "code",
      "source": [
        "vocab = np.array(encoder.get_vocabulary())\n",
        "num_vocab_words_in_corpus =len(vocab)\n",
        "\n",
        "num_words =len(corpus)\n",
        "num_articles =len(doc_sizes)\n",
        "min_token_in_a_article = min(doc_sizes)\n",
        "max_token_in_a_article = max(doc_sizes)  \n",
        "\n",
        "print(num_vocab_words_in_corpus)\n",
        "print(num_words)\n",
        "print(num_articles)\n",
        "print(min_token_in_a_article)\n",
        "print(max_token_in_a_article)"
      ],
      "metadata": {
        "id": "sgfSVziC45oB",
        "colab": {
          "base_uri": "https://localhost:8080/"
        },
        "outputId": "b8f4cc5b-7944-4b2d-d5fa-e3426b0c3bca"
      },
      "execution_count": 10,
      "outputs": [
        {
          "output_type": "stream",
          "name": "stdout",
          "text": [
            "1000\n",
            "114000\n",
            "45\n",
            "1360\n",
            "2560\n"
          ]
        }
      ]
    },
    {
      "cell_type": "markdown",
      "source": [
        "### Create Model"
      ],
      "metadata": {
        "id": "b9DK4ZDmtld9"
      }
    },
    {
      "cell_type": "code",
      "source": [
        "CNN1D = tf.keras.Sequential([\n",
        "                              encoder\n",
        "                              ,tf.keras.layers.Embedding(input_dim=len(encoder.get_vocabulary()),output_dim=64,mask_zero=True)\n",
        "                              ,tf.keras.layers.Conv1D(8, 24, activation=\"relu\")\n",
        "                              ,tf.keras.layers.MaxPooling1D(2)\n",
        "                              ,tf.keras.layers.Conv1D(8, 12, activation=\"relu\")\n",
        "                              ,tf.keras.layers.MaxPooling1D(2)\n",
        "                              ,tf.keras.layers.Conv1D(8, 6, activation=\"relu\")\n",
        "                              ,tf.keras.layers.GlobalAveragePooling1D()\n",
        "                              ,tf.keras.layers.Flatten()\n",
        "                              ,tf.keras.layers.Dense(1,activation='softmax')   \n",
        "])"
      ],
      "metadata": {
        "id": "d0eohMjiuMKy"
      },
      "execution_count": 11,
      "outputs": []
    },
    {
      "cell_type": "markdown",
      "source": [
        "### 1D CNN"
      ],
      "metadata": {
        "id": "WiBq5Zt9DXPZ"
      }
    },
    {
      "cell_type": "code",
      "source": [
        "result_CNN1D = compile_train_model(CNN1D, 200)"
      ],
      "metadata": {
        "id": "sns01SJr4vA-",
        "colab": {
          "base_uri": "https://localhost:8080/",
          "height": 853
        },
        "outputId": "e484a30a-7c3e-4b8b-b04a-dc2d210959e0"
      },
      "execution_count": 12,
      "outputs": [
        {
          "output_type": "stream",
          "name": "stdout",
          "text": [
            "Epoch 1/200\n",
            "45/45 [==============================] - 76s 2s/step - loss: 0.0000e+00 - accuracy: 0.2500 - val_loss: 0.0000e+00 - val_accuracy: 0.2508\n",
            "Epoch 2/200\n",
            "45/45 [==============================] - 76s 2s/step - loss: 0.0000e+00 - accuracy: 0.2500 - val_loss: 0.0000e+00 - val_accuracy: 0.2508\n",
            "Epoch 3/200\n",
            "45/45 [==============================] - 77s 2s/step - loss: 0.0000e+00 - accuracy: 0.2500 - val_loss: 0.0000e+00 - val_accuracy: 0.2508\n",
            "3/3 [==============================] - 1s 376ms/step - loss: 0.0000e+00 - accuracy: 0.2500\n",
            "test set accuracy:  25.0\n"
          ]
        },
        {
          "output_type": "stream",
          "name": "stderr",
          "text": [
            "/usr/local/lib/python3.7/dist-packages/ipykernel_launcher.py:37: SettingWithCopyWarning: \n",
            "A value is trying to be set on a copy of a slice from a DataFrame.\n",
            "Try using .loc[row_indexer,col_indexer] = value instead\n",
            "\n",
            "See the caveats in the documentation: https://pandas.pydata.org/pandas-docs/stable/user_guide/indexing.html#returning-a-view-versus-a-copy\n",
            "/usr/local/lib/python3.7/dist-packages/ipykernel_launcher.py:38: SettingWithCopyWarning: \n",
            "A value is trying to be set on a copy of a slice from a DataFrame.\n",
            "Try using .loc[row_indexer,col_indexer] = value instead\n",
            "\n",
            "See the caveats in the documentation: https://pandas.pydata.org/pandas-docs/stable/user_guide/indexing.html#returning-a-view-versus-a-copy\n",
            "/usr/local/lib/python3.7/dist-packages/ipykernel_launcher.py:39: SettingWithCopyWarning: \n",
            "A value is trying to be set on a copy of a slice from a DataFrame.\n",
            "Try using .loc[row_indexer,col_indexer] = value instead\n",
            "\n",
            "See the caveats in the documentation: https://pandas.pydata.org/pandas-docs/stable/user_guide/indexing.html#returning-a-view-versus-a-copy\n",
            "/usr/local/lib/python3.7/dist-packages/ipykernel_launcher.py:40: SettingWithCopyWarning: \n",
            "A value is trying to be set on a copy of a slice from a DataFrame.\n",
            "Try using .loc[row_indexer,col_indexer] = value instead\n",
            "\n",
            "See the caveats in the documentation: https://pandas.pydata.org/pandas-docs/stable/user_guide/indexing.html#returning-a-view-versus-a-copy\n",
            "/usr/local/lib/python3.7/dist-packages/ipykernel_launcher.py:41: SettingWithCopyWarning: \n",
            "A value is trying to be set on a copy of a slice from a DataFrame.\n",
            "Try using .loc[row_indexer,col_indexer] = value instead\n",
            "\n",
            "See the caveats in the documentation: https://pandas.pydata.org/pandas-docs/stable/user_guide/indexing.html#returning-a-view-versus-a-copy\n"
          ]
        },
        {
          "output_type": "display_data",
          "data": {
            "image/png": "[encoded data removed]",
            "text/plain": [
              "<Figure size 1152x288 with 2 Axes>"
            ]
          },
          "metadata": {
            "needs_background": "light"
          }
        }
      ]
    },
    {
      "cell_type": "code",
      "source": [
        "result_CNN1D['vocab_size'] = VOCAB_SIZE \n",
        "result_CNN1D['num_words'] = num_words \n",
        "result_CNN1D['num_articles'] = num_articles\n",
        "result_CNN1D['min_token_in_a_article'] = min_token_in_a_article \n",
        "result_CNN1D['max_token_in_a_article'] = max_token_in_a_article \n",
        "new_col = ['1D CNN']   \n",
        "result_CNN1D.insert(loc=0, column='Model', value=new_col)"
      ],
      "metadata": {
        "id": "zEyeashQ5Rtg"
      },
      "execution_count": 13,
      "outputs": []
    },
    {
      "cell_type": "code",
      "source": [
        "result_CNN1D"
      ],
      "metadata": {
        "colab": {
          "base_uri": "https://localhost:8080/",
          "height": 162
        },
        "id": "F4Shwivy2VAA",
        "outputId": "d7cbea4e-a95e-4096-8296-1a2603dad062"
      },
      "execution_count": 19,
      "outputs": [
        {
          "output_type": "execute_result",
          "data": {
            "text/html": [
              "\n",
              "  <div id=\"df-864d3d70-ecc2-4cd6-8306-4cca08a67362\">\n",
              "    <div class=\"colab-df-container\">\n",
              "      <div>\n",
              "<style scoped>\n",
              "    .dataframe tbody tr th:only-of-type {\n",
              "        vertical-align: middle;\n",
              "    }\n",
              "\n",
              "    .dataframe tbody tr th {\n",
              "        vertical-align: top;\n",
              "    }\n",
              "\n",
              "    .dataframe thead th {\n",
              "        text-align: right;\n",
              "    }\n",
              "</style>\n",
              "<table border=\"1\" class=\"dataframe\">\n",
              "  <thead>\n",
              "    <tr style=\"text-align: right;\">\n",
              "      <th></th>\n",
              "      <th>Model</th>\n",
              "      <th>loss</th>\n",
              "      <th>accuracy</th>\n",
              "      <th>val_loss</th>\n",
              "      <th>val_accuracy</th>\n",
              "      <th>test_loss</th>\n",
              "      <th>test_accuracy</th>\n",
              "      <th>process_time</th>\n",
              "      <th>epochs_setting</th>\n",
              "      <th>epochs_actual</th>\n",
              "      <th>vocab_size</th>\n",
              "      <th>num_words</th>\n",
              "      <th>num_articles</th>\n",
              "      <th>min_token_in_a_article</th>\n",
              "      <th>max_token_in_a_article</th>\n",
              "    </tr>\n",
              "  </thead>\n",
              "  <tbody>\n",
              "    <tr>\n",
              "      <th>2</th>\n",
              "      <td>1D CNN</td>\n",
              "      <td>0.0</td>\n",
              "      <td>0.249956</td>\n",
              "      <td>0.0</td>\n",
              "      <td>0.250833</td>\n",
              "      <td>0.0</td>\n",
              "      <td>0.25</td>\n",
              "      <td>237.795609</td>\n",
              "      <td>200</td>\n",
              "      <td>3</td>\n",
              "      <td>1000</td>\n",
              "      <td>114000</td>\n",
              "      <td>45</td>\n",
              "      <td>1360</td>\n",
              "      <td>2560</td>\n",
              "    </tr>\n",
              "  </tbody>\n",
              "</table>\n",
              "</div>\n",
              "      <button class=\"colab-df-convert\" onclick=\"convertToInteractive('df-864d3d70-ecc2-4cd6-8306-4cca08a67362')\"\n",
              "              title=\"Convert this dataframe to an interactive table.\"\n",
              "              style=\"display:none;\">\n",
              "        \n",
              "  <svg xmlns=\"http://www.w3.org/2000/svg\" height=\"24px\"viewBox=\"0 0 24 24\"\n",
              "       width=\"24px\">\n",
              "    <path d=\"M0 0h24v24H0V0z\" fill=\"none\"/>\n",
              "    <path d=\"M18.56 5.44l.94 2.06.94-2.06 2.06-.94-2.06-.94-.94-2.06-.94 2.06-2.06.94zm-11 1L8.5 8.5l.94-2.06 2.06-.94-2.06-.94L8.5 2.5l-.94 2.06-2.06.94zm10 10l.94 2.06.94-2.06 2.06-.94-2.06-.94-.94-2.06-.94 2.06-2.06.94z\"/><path d=\"M17.41 7.96l-1.37-1.37c-.4-.4-.92-.59-1.43-.59-.52 0-1.04.2-1.43.59L10.3 9.45l-7.72 7.72c-.78.78-.78 2.05 0 2.83L4 21.41c.39.39.9.59 1.41.59.51 0 1.02-.2 1.41-.59l7.78-7.78 2.81-2.81c.8-.78.8-2.07 0-2.86zM5.41 20L4 18.59l7.72-7.72 1.47 1.35L5.41 20z\"/>\n",
              "  </svg>\n",
              "      </button>\n",
              "      \n",
              "  <style>\n",
              "    .colab-df-container {\n",
              "      display:flex;\n",
              "      flex-wrap:wrap;\n",
              "      gap: 12px;\n",
              "    }\n",
              "\n",
              "    .colab-df-convert {\n",
              "      background-color: #E8F0FE;\n",
              "      border: none;\n",
              "      border-radius: 50%;\n",
              "      cursor: pointer;\n",
              "      display: none;\n",
              "      fill: #1967D2;\n",
              "      height: 32px;\n",
              "      padding: 0 0 0 0;\n",
              "      width: 32px;\n",
              "    }\n",
              "\n",
              "    .colab-df-convert:hover {\n",
              "      background-color: #E2EBFA;\n",
              "      box-shadow: 0px 1px 2px rgba(60, 64, 67, 0.3), 0px 1px 3px 1px rgba(60, 64, 67, 0.15);\n",
              "      fill: #174EA6;\n",
              "    }\n",
              "\n",
              "    [theme=dark] .colab-df-convert {\n",
              "      background-color: #3B4455;\n",
              "      fill: #D2E3FC;\n",
              "    }\n",
              "\n",
              "    [theme=dark] .colab-df-convert:hover {\n",
              "      background-color: #434B5C;\n",
              "      box-shadow: 0px 1px 3px 1px rgba(0, 0, 0, 0.15);\n",
              "      filter: drop-shadow(0px 1px 2px rgba(0, 0, 0, 0.3));\n",
              "      fill: #FFFFFF;\n",
              "    }\n",
              "  </style>\n",
              "\n",
              "      <script>\n",
              "        const buttonEl =\n",
              "          document.querySelector('#df-864d3d70-ecc2-4cd6-8306-4cca08a67362 button.colab-df-convert');\n",
              "        buttonEl.style.display =\n",
              "          google.colab.kernel.accessAllowed ? 'block' : 'none';\n",
              "\n",
              "        async function convertToInteractive(key) {\n",
              "          const element = document.querySelector('#df-864d3d70-ecc2-4cd6-8306-4cca08a67362');\n",
              "          const dataTable =\n",
              "            await google.colab.kernel.invokeFunction('convertToInteractive',\n",
              "                                                     [key], {});\n",
              "          if (!dataTable) return;\n",
              "\n",
              "          const docLinkHtml = 'Like what you see? Visit the ' +\n",
              "            '<a target=\"_blank\" href=https://colab.research.google.com/notebooks/data_table.ipynb>data table notebook</a>'\n",
              "            + ' to learn more about interactive tables.';\n",
              "          element.innerHTML = '';\n",
              "          dataTable['output_type'] = 'display_data';\n",
              "          await google.colab.output.renderOutput(dataTable, element);\n",
              "          const docLink = document.createElement('div');\n",
              "          docLink.innerHTML = docLinkHtml;\n",
              "          element.appendChild(docLink);\n",
              "        }\n",
              "      </script>\n",
              "    </div>\n",
              "  </div>\n",
              "  "
            ],
            "text/plain": [
              "    Model  loss  ...  min_token_in_a_article  max_token_in_a_article\n",
              "2  1D CNN   0.0  ...                    1360                    2560\n",
              "\n",
              "[1 rows x 15 columns]"
            ]
          },
          "metadata": {},
          "execution_count": 19
        }
      ]
    },
    {
      "cell_type": "code",
      "source": [
        "#prev_results_df = pd.read_pickle('/content/gdrive/My Drive/Colab Notebooks/resultsB.pkl')\n",
        "#assignment_result_table = prev_results_df.append(result_CNN1D,ignore_index=True)\n",
        "#assignment_result_table"
      ],
      "metadata": {
        "id": "edYIaB3C_Khx"
      },
      "execution_count": 14,
      "outputs": []
    },
    {
      "cell_type": "markdown",
      "source": [
        "### Save Data"
      ],
      "metadata": {
        "id": "EWBXz3-4uyl4"
      }
    },
    {
      "cell_type": "code",
      "source": [
        "result_CNN1D.to_pickle(\"/content/gdrive/My Drive/Colab Notebooks/resultsD.pkl\") \n",
        "result_CNN1D.to_csv(\"/content/gdrive/My Drive/Colab Notebooks/resultsD.csv\") "
      ],
      "metadata": {
        "id": "DnvOJEa1u1dl"
      },
      "execution_count": 15,
      "outputs": []
    },
    {
      "cell_type": "markdown",
      "source": [
        "### Reference code"
      ],
      "metadata": {
        "id": "SO0F2BLytbro"
      }
    },
    {
      "cell_type": "code",
      "source": [
        "\"\"\"\n",
        "CNN1D = tf.keras.Sequential([ tf.keras.layers.Embedding(input_dim=len(encoder.get_vocabulary()),output_dim=64,mask_zero=True, return_sequences=True)\n",
        "                              ,tf.keras.layers.Conv1D(8, 24, activation=\"relu\")\n",
        "                              ,tf.keras.layers.MaxPooling1D(2)\n",
        "                              ,tf.keras.layers.Flatten()\n",
        "                              ,tf.keras.layers.Dense(1,activation='softmax')   \n",
        "])\n",
        "\"\"\""
      ],
      "metadata": {
        "colab": {
          "base_uri": "https://localhost:8080/",
          "height": 88
        },
        "id": "LqgU1vENmnb-",
        "outputId": "85b03fd2-f209-4193-c526-88b8b08aee2b"
      },
      "execution_count": 16,
      "outputs": [
        {
          "output_type": "execute_result",
          "data": {
            "application/vnd.google.colaboratory.intrinsic+json": {
              "type": "string"
            },
            "text/plain": [
              "'\\nCNN1D = tf.keras.Sequential([ tf.keras.layers.Embedding(input_dim=len(encoder.get_vocabulary()),output_dim=64,mask_zero=True, return_sequences=True)\\n                              ,tf.keras.layers.Conv1D(8, 24, activation=\"relu\")\\n                              ,tf.keras.layers.MaxPooling1D(2)\\n                              ,tf.keras.layers.Flatten()\\n                              ,tf.keras.layers.Dense(1,activation=\\'softmax\\')   \\n])\\n'"
            ]
          },
          "metadata": {},
          "execution_count": 16
        }
      ]
    },
    {
      "cell_type": "code",
      "source": [
        "\"\"\"\n",
        "import tensorflow as tf\n",
        "from tensorflow import keras\n",
        "from tensorflow.keras import models, layers\n",
        "from tensorflow.keras.models import Sequential\n",
        "from tensorflow.keras.layers import Conv1D, Embedding, Dropout, Flatten, Input, Dense\n",
        "from tensorflow.keras.callbacks import ModelCheckpoint, EarlyStopping\n",
        "from tensorflow.keras.preprocessing import image\n",
        "from tensorflow.keras.utils import to_categorical\n",
        "\n",
        "modelD = models.Sequential()\n",
        "modelD.add(Embedding(input_dim = len(encoder.get_vocabulary()), output_dim = 64, input_length=193))\n",
        "modelD.add(Conv1D(filters = 32, kernel_size = 3, activation='relu')) #\n",
        "modelD.add(Flatten())\n",
        "modelD.add(Dense(units = 512, activation='relu')) #\n",
        "modelD.add(Dropout(0.5)) #\n",
        "modelD.add(Dense(units = 21, activation='softmax'))\n",
        "\n",
        "modelD.summary()\n",
        "\"\"\""
      ],
      "metadata": {
        "colab": {
          "base_uri": "https://localhost:8080/",
          "height": 122
        },
        "id": "DzftUVDymILl",
        "outputId": "78ce7052-bb38-4ba1-9915-44562258c0ff"
      },
      "execution_count": 17,
      "outputs": [
        {
          "output_type": "execute_result",
          "data": {
            "application/vnd.google.colaboratory.intrinsic+json": {
              "type": "string"
            },
            "text/plain": [
              "\"\\nimport tensorflow as tf\\nfrom tensorflow import keras\\nfrom tensorflow.keras import models, layers\\nfrom tensorflow.keras.models import Sequential\\nfrom tensorflow.keras.layers import Conv1D, Embedding, Dropout, Flatten, Input, Dense\\nfrom tensorflow.keras.callbacks import ModelCheckpoint, EarlyStopping\\nfrom tensorflow.keras.preprocessing import image\\nfrom tensorflow.keras.utils import to_categorical\\n\\nmodelD = models.Sequential()\\nmodelD.add(Embedding(input_dim = len(encoder.get_vocabulary()), output_dim = 64, input_length=193))\\nmodelD.add(Conv1D(filters = 32, kernel_size = 3, activation='relu')) #\\nmodelD.add(Flatten())\\nmodelD.add(Dense(units = 512, activation='relu')) #\\nmodelD.add(Dropout(0.5)) #\\nmodelD.add(Dense(units = 21, activation='softmax'))\\n\\nmodelD.summary()\\n\""
            ]
          },
          "metadata": {},
          "execution_count": 17
        }
      ]
    },
    {
      "cell_type": "code",
      "source": [
        "\"\"\"\n",
        "inputs = keras.Input(shape=(sequence_length, raw_data.shape[-1]))\n",
        "x = layers.Conv1D(8, 24, activation=\"relu\")(inputs)\n",
        "x = layers.MaxPooling1D(2)(x)\n",
        "x = layers.Conv1D(8, 12, activation=\"relu\")(x)\n",
        "x = layers.MaxPooling1D(2)(x)\n",
        "x = layers.Conv1D(8, 6, activation=\"relu\")(x)\n",
        "x = layers.GlobalAveragePooling1D()(x)\n",
        "outputs = layers.Dense(1)(x)\n",
        "model = keras.Model(inputs, outputs)\n",
        "\"\"\""
      ],
      "metadata": {
        "colab": {
          "base_uri": "https://localhost:8080/",
          "height": 70
        },
        "id": "BtVgZ2zftnYS",
        "outputId": "bfbd497c-ae48-42ea-805b-1677ee63bf1d"
      },
      "execution_count": 18,
      "outputs": [
        {
          "output_type": "execute_result",
          "data": {
            "application/vnd.google.colaboratory.intrinsic+json": {
              "type": "string"
            },
            "text/plain": [
              "'\\ninputs = keras.Input(shape=(sequence_length, raw_data.shape[-1]))\\nx = layers.Conv1D(8, 24, activation=\"relu\")(inputs)\\nx = layers.MaxPooling1D(2)(x)\\nx = layers.Conv1D(8, 12, activation=\"relu\")(x)\\nx = layers.MaxPooling1D(2)(x)\\nx = layers.Conv1D(8, 6, activation=\"relu\")(x)\\nx = layers.GlobalAveragePooling1D()(x)\\noutputs = layers.Dense(1)(x)\\nmodel = keras.Model(inputs, outputs)\\n'"
            ]
          },
          "metadata": {},
          "execution_count": 18
        }
      ]
    }
  ]
}