{
  "nbformat": 4,
  "nbformat_minor": 0,
  "metadata": {
    "colab": {
      "name": "MSDS458_Assignment_03_ExperimentA.ipynb",
      "provenance": [],
      "authorship_tag": "ABX9TyMThmtaBkWECPVW//tHA43+",
      "include_colab_link": true
    },
    "kernelspec": {
      "name": "python3",
      "display_name": "Python 3"
    },
    "language_info": {
      "name": "python"
    }
  },
  "cells": [
    {
      "cell_type": "markdown",
      "metadata": {
        "id": "view-in-github",
        "colab_type": "text"
      },
      "source": [
        "<a href=\"https://colab.research.google.com/github/xixilili/MSDS_458_Public/blob/master/MSDS458_Assignment_03_Experiment_A.ipynb\" target=\"_parent\"><img src=\"https://colab.research.google.com/assets/colab-badge.svg\" alt=\"Open In Colab\"/></a>"
      ]
    },
    {
      "cell_type": "markdown",
      "source": [
        "### Load Package"
      ],
      "metadata": {
        "id": "1aCwgEKag1yI"
      }
    },
    {
      "cell_type": "code",
      "source": [
        "from IPython.core.interactiveshell import InteractiveShell\n",
        "InteractiveShell.ast_node_interactivity = \"all\""
      ],
      "metadata": {
        "id": "r_VF1bTsisyU"
      },
      "execution_count": null,
      "outputs": []
    },
    {
      "cell_type": "code",
      "source": [
        "import datetime\n",
        "from packaging import version\n",
        "from collections import Counter\n",
        "import numpy as np\n",
        "import pandas as pd\n",
        "import time\n",
        "\n",
        "import matplotlib.pyplot as plt\n",
        "import matplotlib as mpl\n",
        "import seaborn as sns\n",
        "\n",
        "from sklearn.metrics import confusion_matrix, classification_report\n",
        "from sklearn.preprocessing import StandardScaler\n",
        "from sklearn.decomposition import PCA\n",
        "from sklearn.manifold import TSNE\n",
        "from sklearn.ensemble import RandomForestClassifier\n",
        "from sklearn.metrics import mean_squared_error as MSE\n",
        "from sklearn.metrics import accuracy_score\n",
        "\n",
        "import tensorflow as tf\n",
        "from tensorflow import keras\n",
        "import tensorflow_datasets as tfds"
      ],
      "metadata": {
        "id": "RJqMG9yqg5BX"
      },
      "execution_count": null,
      "outputs": []
    },
    {
      "cell_type": "markdown",
      "source": [
        "### Load and Process Data"
      ],
      "metadata": {
        "id": "4Nn84T_qePrI"
      }
    },
    {
      "cell_type": "code",
      "execution_count": null,
      "metadata": {
        "colab": {
          "base_uri": "https://localhost:8080/"
        },
        "id": "Dyu_R81id9n4",
        "outputId": "5e725bbe-30a9-44b3-f03b-02d89eca7619"
      },
      "outputs": [
        {
          "output_type": "stream",
          "name": "stdout",
          "text": [
            "2022-02-18 03:25:06.871843: E tensorflow/stream_executor/cuda/cuda_driver.cc:271] failed call to cuInit: CUDA_ERROR_NO_DEVICE: no CUDA-capable device is detected\n",
            "I0218 03:25:06.872176 140347919812480 download_and_prepare.py:200] Running download_and_prepare for dataset(s):\n",
            "ag_news_subset\n",
            "I0218 03:25:07.190204 140347919812480 dataset_info.py:434] Load pre-computed DatasetInfo (eg: splits, num examples,...) from GCS: ag_news_subset/1.0.0\n",
            "I0218 03:25:07.545532 140347919812480 dataset_info.py:361] Load dataset info from /tmp/tmphk2seuqctfds\n",
            "I0218 03:25:07.550262 140347919812480 download_and_prepare.py:138] download_and_prepare for dataset ag_news_subset/1.0.0...\n",
            "I0218 03:25:07.550886 140347919812480 dataset_builder.py:357] Generating dataset ag_news_subset (/root/tensorflow_datasets/ag_news_subset/1.0.0)\n",
            "\u001b[1mDownloading and preparing dataset ag_news_subset/1.0.0 (download: 11.24 MiB, generated: 35.79 MiB, total: 47.03 MiB) to /root/tensorflow_datasets/ag_news_subset/1.0.0...\u001b[0m\n",
            "Dl Completed...: 0 url [00:00, ? url/s]\n",
            "Dl Size...: 0 MiB [00:00, ? MiB/s]\u001b[A\n",
            "\n",
            "Extraction completed...: 0 file [00:00, ? file/s]\u001b[A\u001b[AI0218 03:25:08.105404 140347919812480 download_manager.py:476] Downloading https://drive.google.com/uc?export=download&id=0Bz8a_Dbh9QhbUDNpeUdjb0wxRms into /root/tensorflow_datasets/downloads/ucexport_download_id_0Bz8a_Dbh9QhbUDNpeUdjb0wxj4g1umFAV8OV-uDwxSJR0LdxO_k1jxMuFWwAfNX9jos.tmp.f8bcbe86fe2a44e6894ee5cbbcc47d81...\n",
            "Dl Completed...:   0% 0/1 [00:00<?, ? url/s]\n",
            "Dl Size...: 0 MiB [00:00, ? MiB/s]\u001b[A\n",
            "\n",
            "Dl Completed...:   0% 0/1 [00:24<?, ? url/s]\n",
            "Dl Size...:   0% 0/11 [00:24<?, ? MiB/s]\u001b[A\n",
            "\n",
            "Extraction completed...: 0 file [00:24, ? file/s]\u001b[A\u001b[A\n",
            "Dl Completed...:   0% 0/1 [00:24<?, ? url/s]\n",
            "Dl Size...:   9% 1/11 [00:24<04:05, 24.55s/ MiB]\u001b[A\n",
            "\n",
            "Dl Completed...:   0% 0/1 [00:24<?, ? url/s]\n",
            "Dl Size...:  18% 2/11 [00:24<03:40, 24.55s/ MiB]\u001b[A\n",
            "\n",
            "Dl Completed...:   0% 0/1 [00:24<?, ? url/s]\n",
            "Dl Size...:  27% 3/11 [00:24<03:16, 24.55s/ MiB]\u001b[A\n",
            "\n",
            "Dl Completed...:   0% 0/1 [00:24<?, ? url/s]\n",
            "Dl Size...:  36% 4/11 [00:24<02:51, 24.55s/ MiB]\u001b[A\n",
            "\n",
            "Dl Completed...:   0% 0/1 [00:24<?, ? url/s]\n",
            "Dl Size...:  45% 5/11 [00:24<02:27, 24.55s/ MiB]\u001b[A\n",
            "\n",
            "Dl Completed...:   0% 0/1 [00:24<?, ? url/s]\n",
            "Dl Size...:  55% 6/11 [00:24<02:02, 24.55s/ MiB]\u001b[A\n",
            "\n",
            "Dl Completed...:   0% 0/1 [00:24<?, ? url/s]\n",
            "Dl Size...:  64% 7/11 [00:24<01:38, 24.55s/ MiB]\u001b[A\n",
            "\n",
            "Extraction completed...: 0 file [00:24, ? file/s]\u001b[A\u001b[A\n",
            "Dl Completed...:   0% 0/1 [00:24<?, ? url/s]\n",
            "Dl Size...:  73% 8/11 [00:24<00:06,  2.25s/ MiB]\u001b[A\n",
            "\n",
            "Dl Completed...:   0% 0/1 [00:24<?, ? url/s]\n",
            "Dl Size...:  82% 9/11 [00:24<00:04,  2.25s/ MiB]\u001b[A\n",
            "\n",
            "Dl Completed...:   0% 0/1 [00:24<?, ? url/s]\n",
            "Dl Size...:  91% 10/11 [00:24<00:02,  2.25s/ MiB]\u001b[A\n",
            "\n",
            "Dl Completed...:   0% 0/1 [00:24<?, ? url/s]\n",
            "Dl Size...: 100% 11/11 [00:24<00:00,  2.25s/ MiB]\u001b[A\n",
            "\n",
            "Dl Completed...: 100% 1/1 [00:24<00:00, 24.70s/ url]\n",
            "Dl Size...: 100% 11/11 [00:24<00:00,  2.25s/ MiB]\u001b[A\n",
            "\n",
            "Dl Completed...: 100% 1/1 [00:24<00:00, 24.70s/ url]\n",
            "Dl Size...: 100% 11/11 [00:24<00:00,  2.25s/ MiB]\u001b[A\n",
            "\n",
            "Extraction completed...:   0% 0/1 [00:24<?, ? file/s]\u001b[A\u001b[A\n",
            "\n",
            "Dl Completed...: 100% 1/1 [00:25<00:00, 24.70s/ url]\n",
            "Dl Size...: 100% 11/11 [00:25<00:00,  2.25s/ MiB]\u001b[A\n",
            "\n",
            "Extraction completed...: 100% 1/1 [00:25<00:00, 25.08s/ file]\u001b[A\u001b[A\n",
            "Extraction completed...: 100% 1/1 [00:25<00:00, 25.08s/ file]\n",
            "\n",
            "Dl Size...: 100% 11/11 [00:25<00:00,  2.28s/ MiB]\n",
            "\n",
            "Dl Completed...: 100% 1/1 [00:25<00:00, 25.08s/ url]\n",
            "I0218 03:25:33.186199 140347919812480 dataset_builder.py:970] Generating split train\n",
            "Shuffling and writing examples to /root/tensorflow_datasets/ag_news_subset/1.0.0.incompleteO81RKL/ag_news_subset-train.tfrecord\n",
            " 65% 77882/120000 [00:00<00:00, 274772.26 examples/s]I0218 03:25:58.351482 140347919812480 tfrecords_writer.py:226] Done writing /root/tensorflow_datasets/ag_news_subset/1.0.0.incompleteO81RKL/ag_news_subset-train.tfrecord. Shard lengths: [120000]\n",
            "I0218 03:25:58.367220 140347919812480 dataset_builder.py:970] Generating split test\n",
            "Shuffling and writing examples to /root/tensorflow_datasets/ag_news_subset/1.0.0.incompleteO81RKL/ag_news_subset-test.tfrecord\n",
            "  0% 0/7600 [00:00<?, ? examples/s]I0218 03:25:59.926614 140347919812480 tfrecords_writer.py:226] Done writing /root/tensorflow_datasets/ag_news_subset/1.0.0.incompleteO81RKL/ag_news_subset-test.tfrecord. Shard lengths: [7600]\n",
            "I0218 03:25:59.929224 140347919812480 dataset_builder.py:412] Skipping computing stats for mode ComputeStatsMode.SKIP.\n",
            "\u001b[1mDataset ag_news_subset downloaded and prepared to /root/tensorflow_datasets/ag_news_subset/1.0.0. Subsequent calls will reuse this data.\u001b[0m\n",
            "\u001b[1mname: \"ag_news_subset\"\n",
            "description: \"AG is a collection of more than 1 million news articles.\\nNews articles have been gathered from more than 2000  news sources by ComeToMyHead in more than 1 year of activity.\\nComeToMyHead is an academic news search engine which has been running since July, 2004.\\nThe dataset is provided by the academic comunity for research purposes in data mining (clustering, classification, etc),\\ninformation retrieval (ranking, search, etc), xml, data compression, data streaming,\\nand any other non-commercial activity.\\nFor more information, please refer to the link http://www.di.unipi.it/~gulli/AG_corpus_of_news_articles.html .\\n\\nThe AG\\'s news topic classification dataset is constructed by Xiang Zhang (xiang.zhang@nyu.edu) from the dataset above.\\nIt is used as a text classification benchmark in the following paper:\\nXiang Zhang, Junbo Zhao, Yann LeCun. Character-level Convolutional Networks for Text Classification. Advances in Neural Information Processing Systems 28 (NIPS 2015).\\n\\nThe AG\\'s news topic classification dataset is constructed by choosing 4 largest classes from the original corpus.\\nEach class contains 30,000 training samples and 1,900 testing samples.\\nThe total number of training samples is 120,000 and testing 7,600.\"\n",
            "citation: \"@misc{zhang2015characterlevel,\\n    title={Character-level Convolutional Networks for Text Classification},\\n    author={Xiang Zhang and Junbo Zhao and Yann LeCun},\\n    year={2015},\\n    eprint={1509.01626},\\n    archivePrefix={arXiv},\\n    primaryClass={cs.LG}\\n}\"\n",
            "location {\n",
            "  urls: \"https://arxiv.org/abs/1509.01626\"\n",
            "}\n",
            "splits {\n",
            "  name: \"test\"\n",
            "  shard_lengths: 7600\n",
            "  num_bytes: 2226751\n",
            "}\n",
            "splits {\n",
            "  name: \"train\"\n",
            "  shard_lengths: 120000\n",
            "  num_bytes: 35301386\n",
            "}\n",
            "supervised_keys {\n",
            "  input: \"description\"\n",
            "  output: \"label\"\n",
            "}\n",
            "version: \"1.0.0\"\n",
            "download_size: 11784327\n",
            "\u001b[0m\n"
          ]
        }
      ],
      "source": [
        "# register  ag_news_subset so that tfds.load doesn't generate a checksum (mismatch) error\n",
        "!python -m tensorflow_datasets.scripts.download_and_prepare --register_checksums --datasets=ag_news_subset\n",
        "\n",
        "# Example Approaches to Split Data Set\n",
        "# dataset, info = tfds.load('ag_news_subset', with_info=True,  split=['train[:]','test[:1000]', 'test[1000:]'],\n",
        "dataset, info = tfds.load('ag_news_subset', with_info=True,  split=['train[:95%]','train[95%:]', 'test[:]'],\n",
        "# dataset, info = tfds.load('ag_news_subset', with_info=True,  split=['train[:114000]','train[114000:]', 'test[:]'],\n",
        "                          as_supervised=True)\n",
        "train_dataset, validation_dataset, test_dataset = dataset\n",
        "# train_dataset, test_dataset = dataset['train'],dataset['test']"
      ]
    },
    {
      "cell_type": "code",
      "source": [
        "BUFFER_SIZE = 10000\n",
        "BATCH_SIZE = 64"
      ],
      "metadata": {
        "id": "jGZlYD3R1rag"
      },
      "execution_count": null,
      "outputs": []
    },
    {
      "cell_type": "code",
      "source": [
        "train_dataset = train_dataset.shuffle(BUFFER_SIZE).batch(BATCH_SIZE).prefetch(tf.data.experimental.AUTOTUNE)\n",
        "validation_dataset = validation_dataset.shuffle(BUFFER_SIZE).batch(BATCH_SIZE).prefetch(tf.data.experimental.AUTOTUNE)\n",
        "test_dataset = test_dataset.batch(BATCH_SIZE).prefetch(tf.data.experimental.AUTOTUNE)"
      ],
      "metadata": {
        "id": "B6HRSW6d1qku"
      },
      "execution_count": null,
      "outputs": []
    },
    {
      "cell_type": "markdown",
      "source": [
        "### Encoder"
      ],
      "metadata": {
        "id": "kqyQvZUFeUAh"
      }
    },
    {
      "cell_type": "code",
      "source": [
        "def get_encoder(VOCAB_SIZE):\n",
        "  encoder = tf.keras.layers.experimental.preprocessing.TextVectorization(max_tokens=VOCAB_SIZE)\n",
        "  encoder.adapt(train_dataset.map(lambda text, label: text))\n",
        "  return encoder"
      ],
      "metadata": {
        "id": "A-Bsb3k3eMLA"
      },
      "execution_count": 32,
      "outputs": []
    },
    {
      "cell_type": "markdown",
      "source": [
        "### Create Model"
      ],
      "metadata": {
        "id": "shH2_ALqeTgM"
      }
    },
    {
      "cell_type": "code",
      "source": [
        "def creat_model(encoder):\n",
        "  model = tf.keras.Sequential([\n",
        "                              encoder\n",
        "                              ,tf.keras.layers.Embedding(input_dim=len(encoder.get_vocabulary())\n",
        "                              ,output_dim=64\n",
        "                                # Use masking to handle the variable sequence lengths\n",
        "                              ,mask_zero=True)\n",
        "                              ,tf.keras.layers.Bidirectional(tf.keras.layers.LSTM(64))\n",
        "                              ,tf.keras.layers.Dense(64, activation='relu')\n",
        "                              ,tf.keras.layers.Dense(4,activation='softmax')   # num_classes = 4\n",
        "  ])\n",
        "  return model"
      ],
      "metadata": {
        "id": "vEoPYv-Wenik"
      },
      "execution_count": 51,
      "outputs": []
    },
    {
      "cell_type": "markdown",
      "source": [
        "### Compile, Train Model"
      ],
      "metadata": {
        "id": "ogNw-Hdge25x"
      }
    },
    {
      "cell_type": "code",
      "source": [
        "def namestr(obj, namespace):\n",
        "  for name in namespace:\n",
        "    if namespace[name] is obj:\n",
        "      return name"
      ],
      "metadata": {
        "id": "MTnJI_UEuXsl"
      },
      "execution_count": 52,
      "outputs": []
    },
    {
      "cell_type": "code",
      "source": [
        "import datetime as dt\n",
        "\n",
        "def compile_train_model(model, epoch):\n",
        "  #compile model\n",
        "  model.compile(optimizer=tf.keras.optimizers.Adam(1e-4)\n",
        "              ,loss=tf.keras.losses.SparseCategoricalCrossentropy() # if we set from_logits=True we don not have specify a softmax activation function in the last layer\n",
        "              ,metrics=['accuracy'])\n",
        "\n",
        "  start_datetime = dt.datetime.now()\n",
        "\n",
        "  #train model  \n",
        "  history = model.fit(train_dataset\n",
        "                    ,epochs = epoch\n",
        "                    ,validation_data=validation_dataset\n",
        "                    ,callbacks=[tf.keras.callbacks.EarlyStopping(monitor='val_accuracy', patience=2)]\n",
        "                    )\n",
        "\n",
        "\n",
        "  #evaluate model\n",
        "  loss, accuracy = model.evaluate(test_dataset)\n",
        "  print('test set accuracy: ', accuracy * 100)\n",
        "\n",
        "  runtime = (dt.datetime.now() - start_datetime).total_seconds()\n",
        "\n",
        "  #training and validation performance metrix\n",
        "  history_dict = history.history\n",
        "  history_df=pd.DataFrame(history_dict)\n",
        "\n",
        "  #loss and accuracy for training and validation data\n",
        "  losses = history.history['loss']\n",
        "  accs = history.history['accuracy']\n",
        "  val_losses = history.history['val_loss']\n",
        "  val_accs = history.history['val_accuracy']\n",
        "  epochs = len(losses)\n",
        "\n",
        "  result = history_df.tail(1)\n",
        "  result['test_loss'] = loss\n",
        "  result['test_accuracy'] = accuracy\n",
        "  result['process_time'] = runtime\n",
        "  result['epochs_setting'] = epoch  \n",
        "  result['epochs_actual'] = epochs    \n",
        "\n",
        "  plt.figure(figsize=(16, 4))\n",
        "  for i, metrics in enumerate(zip([losses, accs], [val_losses, val_accs], ['Loss', 'Accuracy'])):\n",
        "      plt.subplot(1, 2, i + 1)\n",
        "      plt.plot(range(epochs), metrics[0], label='Training {}'.format(metrics[2]))\n",
        "      plt.plot(range(epochs), metrics[1], label='Validation {}'.format(metrics[2]))\n",
        "      plt.legend()\n",
        "      plt.title('{0} with {1} epochs'.format(namestr(model, globals()), epoch))   \n",
        "  plt.show()  \n",
        "\n",
        "  return result"
      ],
      "metadata": {
        "id": "YmShiKBnfZGW"
      },
      "execution_count": 53,
      "outputs": []
    },
    {
      "cell_type": "markdown",
      "source": [
        "### Explore Vocab"
      ],
      "metadata": {
        "id": "nRU1LsKDuhXr"
      }
    },
    {
      "cell_type": "code",
      "source": [
        "def explore_vocab(train_dataset,encoder):\n",
        "  doc_sizes = []\n",
        "  corpus = []\n",
        "  for example, _ in train_dataset.as_numpy_iterator():\n",
        "    enc_example = encoder(example)\n",
        "    doc_sizes.append(len(enc_example))\n",
        "    corpus+=list(enc_example.numpy())\n",
        "  return  corpus, doc_sizes"
      ],
      "metadata": {
        "id": "SyebLb6Qo5ja"
      },
      "execution_count": 35,
      "outputs": []
    },
    {
      "cell_type": "markdown",
      "source": [
        "## Experiment A a\n",
        "(a) Vocabulary Size: Tweak the vocabulary size, at least 3 levels, eg. vocab size of 1000, 2000, 3000. This way, we can get insights whether the performance metric is non linearly related to the vocab size."
      ],
      "metadata": {
        "id": "v7Bm_fDthKnG"
      }
    },
    {
      "cell_type": "markdown",
      "source": [
        "### Vocab 1000"
      ],
      "metadata": {
        "id": "IrnBPmCj2dtT"
      }
    },
    {
      "cell_type": "code",
      "source": [
        "len(train_dataset),len(validation_dataset),len(test_dataset) "
      ],
      "metadata": {
        "id": "kZ1gM_wOWoum",
        "outputId": "b50930fd-2769-4953-e551-c0e90554c1b3",
        "colab": {
          "base_uri": "https://localhost:8080/"
        }
      },
      "execution_count": null,
      "outputs": [
        {
          "output_type": "execute_result",
          "data": {
            "text/plain": [
              "(1782, 94, 119)"
            ]
          },
          "metadata": {},
          "execution_count": 40
        }
      ]
    },
    {
      "cell_type": "code",
      "source": [
        "#for example, label in train_dataset.take(1):\n",
        "#  print('text: ', example.numpy())"
      ],
      "metadata": {
        "id": "uM28bqeeY2IL"
      },
      "execution_count": 30,
      "outputs": []
    },
    {
      "cell_type": "code",
      "source": [
        "VOCAB_SIZE = 1000\n",
        "EPOCH_SIZE = 200\n",
        "encoder1000 = get_encoder(VOCAB_SIZE)"
      ],
      "metadata": {
        "id": "hkBui_ADhQ1F"
      },
      "execution_count": 33,
      "outputs": []
    },
    {
      "cell_type": "code",
      "source": [
        "corpus1000, doc_sizes1000 = explore_vocab(train_dataset,encoder1000)"
      ],
      "metadata": {
        "id": "KxtNKiq2pm7J"
      },
      "execution_count": 36,
      "outputs": []
    },
    {
      "cell_type": "code",
      "source": [
        "\n",
        "vocab1000 = np.array(encoder1000.get_vocabulary())\n",
        "num_vocab_words_in_corpus =len(vocab1000)\n",
        "\n",
        "num_words =len(corpus1000)\n",
        "num_articles =len(doc_sizes1000)\n",
        "min_token_in_a_article = min(doc_sizes1000)\n",
        "max_token_in_a_article = max(doc_sizes1000)  \n",
        "\n",
        "print(num_vocab_words_in_corpus)\n",
        "print(num_words)\n",
        "print(num_articles)\n",
        "print(min_token_in_a_article)\n",
        "print(max_token_in_a_article)\n",
        "\n",
        "\"\"\"\n",
        "plt.figure(figsize=(15,9))\n",
        "plt.hist(doc_sizes1000, bins=20,range = (0,120))\n",
        "plt.xlabel(\"Tokens Per Document\")\n",
        "plt.ylabel(\"Number of AG News Articles\")\n",
        "\"\"\""
      ],
      "metadata": {
        "colab": {
          "base_uri": "https://localhost:8080/",
          "height": 140
        },
        "id": "ttHkXBZ0oO7C",
        "outputId": "85260fa4-ac74-487a-cc73-658a137bf840"
      },
      "execution_count": 37,
      "outputs": [
        {
          "output_type": "stream",
          "name": "stdout",
          "text": [
            "1000\n",
            "114000\n",
            "1782\n",
            "16\n",
            "64\n"
          ]
        },
        {
          "output_type": "execute_result",
          "data": {
            "application/vnd.google.colaboratory.intrinsic+json": {
              "type": "string"
            },
            "text/plain": [
              "'\\nplt.figure(figsize=(15,9))\\nplt.hist(doc_sizes1000, bins=20,range = (0,120))\\nplt.xlabel(\"Tokens Per Document\")\\nplt.ylabel(\"Number of AG News Articles\")\\n'"
            ]
          },
          "metadata": {},
          "execution_count": 37
        }
      ]
    },
    {
      "cell_type": "code",
      "source": [
        "RNN1000 = creat_model(encoder1000)\n",
        "result1000 = compile_train_model(RNN1000, 200)"
      ],
      "metadata": {
        "colab": {
          "base_uri": "https://localhost:8080/",
          "height": 1000
        },
        "id": "CxAGGboviGqu",
        "outputId": "b4d18c63-8167-4211-f684-a1990a1dfb68"
      },
      "execution_count": null,
      "outputs": [
        {
          "output_type": "stream",
          "name": "stdout",
          "text": [
            "Epoch 1/200\n",
            "1782/1782 [==============================] - 241s 130ms/step - loss: 0.7139 - accuracy: 0.7356 - val_loss: 0.4944 - val_accuracy: 0.8272\n",
            "Epoch 2/200\n",
            "1782/1782 [==============================] - 233s 131ms/step - loss: 0.4718 - accuracy: 0.8311 - val_loss: 0.4777 - val_accuracy: 0.8290\n",
            "Epoch 3/200\n",
            "1782/1782 [==============================] - 226s 127ms/step - loss: 0.4499 - accuracy: 0.8375 - val_loss: 0.4464 - val_accuracy: 0.8435\n",
            "Epoch 4/200\n",
            "1782/1782 [==============================] - 234s 131ms/step - loss: 0.4402 - accuracy: 0.8409 - val_loss: 0.4415 - val_accuracy: 0.8462\n",
            "Epoch 5/200\n",
            "1782/1782 [==============================] - 227s 127ms/step - loss: 0.4323 - accuracy: 0.8435 - val_loss: 0.4360 - val_accuracy: 0.8477\n",
            "Epoch 6/200\n",
            "1782/1782 [==============================] - 244s 137ms/step - loss: 0.4236 - accuracy: 0.8462 - val_loss: 0.4225 - val_accuracy: 0.8497\n",
            "Epoch 7/200\n",
            "1782/1782 [==============================] - 273s 153ms/step - loss: 0.4089 - accuracy: 0.8527 - val_loss: 0.4230 - val_accuracy: 0.8483\n",
            "Epoch 8/200\n",
            "1782/1782 [==============================] - 241s 135ms/step - loss: 0.3950 - accuracy: 0.8571 - val_loss: 0.3930 - val_accuracy: 0.8642\n",
            "Epoch 9/200\n",
            "1782/1782 [==============================] - 234s 131ms/step - loss: 0.3840 - accuracy: 0.8616 - val_loss: 0.3904 - val_accuracy: 0.8633\n",
            "Epoch 10/200\n",
            "1782/1782 [==============================] - 234s 131ms/step - loss: 0.3770 - accuracy: 0.8638 - val_loss: 0.3883 - val_accuracy: 0.8660\n",
            "Epoch 11/200\n",
            "1782/1782 [==============================] - 236s 132ms/step - loss: 0.3713 - accuracy: 0.8652 - val_loss: 0.3812 - val_accuracy: 0.8647\n",
            "Epoch 12/200\n",
            "1782/1782 [==============================] - 238s 133ms/step - loss: 0.3671 - accuracy: 0.8663 - val_loss: 0.3801 - val_accuracy: 0.8665\n",
            "Epoch 13/200\n",
            "1782/1782 [==============================] - 264s 148ms/step - loss: 0.3637 - accuracy: 0.8676 - val_loss: 0.3759 - val_accuracy: 0.8680\n",
            "Epoch 14/200\n",
            "1782/1782 [==============================] - 226s 127ms/step - loss: 0.3586 - accuracy: 0.8694 - val_loss: 0.3816 - val_accuracy: 0.8665\n",
            "Epoch 15/200\n",
            "1782/1782 [==============================] - 228s 128ms/step - loss: 0.3548 - accuracy: 0.8702 - val_loss: 0.3788 - val_accuracy: 0.8658\n",
            "119/119 [==============================] - 4s 36ms/step - loss: 0.3884 - accuracy: 0.8582\n",
            "test set accuracy:  85.81578731536865\n"
          ]
        },
        {
          "output_type": "stream",
          "name": "stderr",
          "text": [
            "/usr/local/lib/python3.7/dist-packages/ipykernel_launcher.py:37: SettingWithCopyWarning: \n",
            "A value is trying to be set on a copy of a slice from a DataFrame.\n",
            "Try using .loc[row_indexer,col_indexer] = value instead\n",
            "\n",
            "See the caveats in the documentation: https://pandas.pydata.org/pandas-docs/stable/user_guide/indexing.html#returning-a-view-versus-a-copy\n",
            "/usr/local/lib/python3.7/dist-packages/ipykernel_launcher.py:38: SettingWithCopyWarning: \n",
            "A value is trying to be set on a copy of a slice from a DataFrame.\n",
            "Try using .loc[row_indexer,col_indexer] = value instead\n",
            "\n",
            "See the caveats in the documentation: https://pandas.pydata.org/pandas-docs/stable/user_guide/indexing.html#returning-a-view-versus-a-copy\n",
            "/usr/local/lib/python3.7/dist-packages/ipykernel_launcher.py:39: SettingWithCopyWarning: \n",
            "A value is trying to be set on a copy of a slice from a DataFrame.\n",
            "Try using .loc[row_indexer,col_indexer] = value instead\n",
            "\n",
            "See the caveats in the documentation: https://pandas.pydata.org/pandas-docs/stable/user_guide/indexing.html#returning-a-view-versus-a-copy\n",
            "/usr/local/lib/python3.7/dist-packages/ipykernel_launcher.py:40: SettingWithCopyWarning: \n",
            "A value is trying to be set on a copy of a slice from a DataFrame.\n",
            "Try using .loc[row_indexer,col_indexer] = value instead\n",
            "\n",
            "See the caveats in the documentation: https://pandas.pydata.org/pandas-docs/stable/user_guide/indexing.html#returning-a-view-versus-a-copy\n",
            "/usr/local/lib/python3.7/dist-packages/ipykernel_launcher.py:41: SettingWithCopyWarning: \n",
            "A value is trying to be set on a copy of a slice from a DataFrame.\n",
            "Try using .loc[row_indexer,col_indexer] = value instead\n",
            "\n",
            "See the caveats in the documentation: https://pandas.pydata.org/pandas-docs/stable/user_guide/indexing.html#returning-a-view-versus-a-copy\n"
          ]
        },
        {
          "output_type": "display_data",
          "data": {
            "image/png": "[encoded data removed]",
            "text/plain": [
              "<Figure size 1152x288 with 2 Axes>"
            ]
          },
          "metadata": {
            "needs_background": "light"
          }
        }
      ]
    },
    {
      "cell_type": "code",
      "source": [
        "result1000['vocab_size'] = VOCAB_SIZE \n",
        "result1000['num_words'] = num_words \n",
        "result1000['num_articles'] = num_articles\n",
        "result1000['min_token_in_a_article'] = min_token_in_a_article \n",
        "result1000['max_token_in_a_article'] = max_token_in_a_article "
      ],
      "metadata": {
        "id": "csZM1XnyoP-k"
      },
      "execution_count": null,
      "outputs": []
    },
    {
      "cell_type": "code",
      "source": [
        "assignment_result_table = result1000\n",
        "new_col = ['RNN with 1000 vocab size']   \n",
        "assignment_result_table.insert(loc=0, column='Model', value=new_col)\n",
        "assignment_result_table"
      ],
      "metadata": {
        "colab": {
          "base_uri": "https://localhost:8080/",
          "height": 194
        },
        "id": "UFGVytCA3ZYO",
        "outputId": "8e793ddd-1826-4e40-876e-561424d366d3"
      },
      "execution_count": null,
      "outputs": [
        {
          "output_type": "execute_result",
          "data": {
            "text/html": [
              "\n",
              "  <div id=\"df-826aac72-f35a-44a0-8fe0-9240f5cea1f2\">\n",
              "    <div class=\"colab-df-container\">\n",
              "      <div>\n",
              "<style scoped>\n",
              "    .dataframe tbody tr th:only-of-type {\n",
              "        vertical-align: middle;\n",
              "    }\n",
              "\n",
              "    .dataframe tbody tr th {\n",
              "        vertical-align: top;\n",
              "    }\n",
              "\n",
              "    .dataframe thead th {\n",
              "        text-align: right;\n",
              "    }\n",
              "</style>\n",
              "<table border=\"1\" class=\"dataframe\">\n",
              "  <thead>\n",
              "    <tr style=\"text-align: right;\">\n",
              "      <th></th>\n",
              "      <th>Model</th>\n",
              "      <th>loss</th>\n",
              "      <th>accuracy</th>\n",
              "      <th>val_loss</th>\n",
              "      <th>val_accuracy</th>\n",
              "      <th>test_loss</th>\n",
              "      <th>test_accuracy</th>\n",
              "      <th>process_time</th>\n",
              "      <th>epochs_setting</th>\n",
              "      <th>epochs_actual</th>\n",
              "      <th>vocab_size</th>\n",
              "      <th>num_words</th>\n",
              "      <th>num_articles</th>\n",
              "      <th>min_token_in_a_article</th>\n",
              "      <th>max_token_in_a_article</th>\n",
              "    </tr>\n",
              "  </thead>\n",
              "  <tbody>\n",
              "    <tr>\n",
              "      <th>14</th>\n",
              "      <td>RNN with 1000 vocab size</td>\n",
              "      <td>0.354808</td>\n",
              "      <td>0.870219</td>\n",
              "      <td>0.37883</td>\n",
              "      <td>0.865833</td>\n",
              "      <td>0.388363</td>\n",
              "      <td>0.858158</td>\n",
              "      <td>3810.881907</td>\n",
              "      <td>200</td>\n",
              "      <td>15</td>\n",
              "      <td>1000</td>\n",
              "      <td>114000</td>\n",
              "      <td>1782</td>\n",
              "      <td>16</td>\n",
              "      <td>64</td>\n",
              "    </tr>\n",
              "  </tbody>\n",
              "</table>\n",
              "</div>\n",
              "      <button class=\"colab-df-convert\" onclick=\"convertToInteractive('df-826aac72-f35a-44a0-8fe0-9240f5cea1f2')\"\n",
              "              title=\"Convert this dataframe to an interactive table.\"\n",
              "              style=\"display:none;\">\n",
              "        \n",
              "  <svg xmlns=\"http://www.w3.org/2000/svg\" height=\"24px\"viewBox=\"0 0 24 24\"\n",
              "       width=\"24px\">\n",
              "    <path d=\"M0 0h24v24H0V0z\" fill=\"none\"/>\n",
              "    <path d=\"M18.56 5.44l.94 2.06.94-2.06 2.06-.94-2.06-.94-.94-2.06-.94 2.06-2.06.94zm-11 1L8.5 8.5l.94-2.06 2.06-.94-2.06-.94L8.5 2.5l-.94 2.06-2.06.94zm10 10l.94 2.06.94-2.06 2.06-.94-2.06-.94-.94-2.06-.94 2.06-2.06.94z\"/><path d=\"M17.41 7.96l-1.37-1.37c-.4-.4-.92-.59-1.43-.59-.52 0-1.04.2-1.43.59L10.3 9.45l-7.72 7.72c-.78.78-.78 2.05 0 2.83L4 21.41c.39.39.9.59 1.41.59.51 0 1.02-.2 1.41-.59l7.78-7.78 2.81-2.81c.8-.78.8-2.07 0-2.86zM5.41 20L4 18.59l7.72-7.72 1.47 1.35L5.41 20z\"/>\n",
              "  </svg>\n",
              "      </button>\n",
              "      \n",
              "  <style>\n",
              "    .colab-df-container {\n",
              "      display:flex;\n",
              "      flex-wrap:wrap;\n",
              "      gap: 12px;\n",
              "    }\n",
              "\n",
              "    .colab-df-convert {\n",
              "      background-color: #E8F0FE;\n",
              "      border: none;\n",
              "      border-radius: 50%;\n",
              "      cursor: pointer;\n",
              "      display: none;\n",
              "      fill: #1967D2;\n",
              "      height: 32px;\n",
              "      padding: 0 0 0 0;\n",
              "      width: 32px;\n",
              "    }\n",
              "\n",
              "    .colab-df-convert:hover {\n",
              "      background-color: #E2EBFA;\n",
              "      box-shadow: 0px 1px 2px rgba(60, 64, 67, 0.3), 0px 1px 3px 1px rgba(60, 64, 67, 0.15);\n",
              "      fill: #174EA6;\n",
              "    }\n",
              "\n",
              "    [theme=dark] .colab-df-convert {\n",
              "      background-color: #3B4455;\n",
              "      fill: #D2E3FC;\n",
              "    }\n",
              "\n",
              "    [theme=dark] .colab-df-convert:hover {\n",
              "      background-color: #434B5C;\n",
              "      box-shadow: 0px 1px 3px 1px rgba(0, 0, 0, 0.15);\n",
              "      filter: drop-shadow(0px 1px 2px rgba(0, 0, 0, 0.3));\n",
              "      fill: #FFFFFF;\n",
              "    }\n",
              "  </style>\n",
              "\n",
              "      <script>\n",
              "        const buttonEl =\n",
              "          document.querySelector('#df-826aac72-f35a-44a0-8fe0-9240f5cea1f2 button.colab-df-convert');\n",
              "        buttonEl.style.display =\n",
              "          google.colab.kernel.accessAllowed ? 'block' : 'none';\n",
              "\n",
              "        async function convertToInteractive(key) {\n",
              "          const element = document.querySelector('#df-826aac72-f35a-44a0-8fe0-9240f5cea1f2');\n",
              "          const dataTable =\n",
              "            await google.colab.kernel.invokeFunction('convertToInteractive',\n",
              "                                                     [key], {});\n",
              "          if (!dataTable) return;\n",
              "\n",
              "          const docLinkHtml = 'Like what you see? Visit the ' +\n",
              "            '<a target=\"_blank\" href=https://colab.research.google.com/notebooks/data_table.ipynb>data table notebook</a>'\n",
              "            + ' to learn more about interactive tables.';\n",
              "          element.innerHTML = '';\n",
              "          dataTable['output_type'] = 'display_data';\n",
              "          await google.colab.output.renderOutput(dataTable, element);\n",
              "          const docLink = document.createElement('div');\n",
              "          docLink.innerHTML = docLinkHtml;\n",
              "          element.appendChild(docLink);\n",
              "        }\n",
              "      </script>\n",
              "    </div>\n",
              "  </div>\n",
              "  "
            ],
            "text/plain": [
              "                       Model  ...  max_token_in_a_article\n",
              "14  RNN with 1000 vocab size  ...                      64\n",
              "\n",
              "[1 rows x 15 columns]"
            ]
          },
          "metadata": {},
          "execution_count": 19
        }
      ]
    },
    {
      "cell_type": "markdown",
      "source": [
        "### Vocab 2000"
      ],
      "metadata": {
        "id": "U1hD3wrA2ibc"
      }
    },
    {
      "cell_type": "code",
      "source": [
        "VOCAB_SIZE = 2000\n",
        "EPOCH_SIZE = 200\n",
        "encoder2000 = get_encoder(VOCAB_SIZE)"
      ],
      "metadata": {
        "id": "bqzQUUu42keW"
      },
      "execution_count": null,
      "outputs": []
    },
    {
      "cell_type": "code",
      "source": [
        "corpus2000, doc_sizes2000 = explore_vocab(train_dataset,encoder2000)"
      ],
      "metadata": {
        "id": "RJu3uXcT2q6R"
      },
      "execution_count": null,
      "outputs": []
    },
    {
      "cell_type": "code",
      "source": [
        "vocab2000 = np.array(encoder2000.get_vocabulary())\n",
        "num_vocab_words_in_corpus =len(vocab2000)\n",
        "\n",
        "num_words =len(corpus2000)\n",
        "num_articles =len(doc_sizes2000)\n",
        "min_token_in_a_article = min(doc_sizes2000)\n",
        "max_token_in_a_article = max(doc_sizes2000)  \n",
        "\n",
        "print(num_vocab_words_in_corpus)\n",
        "print(num_words)\n",
        "print(num_articles)\n",
        "print(min_token_in_a_article)\n",
        "print(max_token_in_a_article)\n",
        "\n",
        "\"\"\"\n",
        "plt.figure(figsize=(15,9))\n",
        "plt.hist(doc_sizes2000, bins=20,range = (0,120))\n",
        "plt.xlabel(\"Tokens Per Document\")\n",
        "plt.ylabel(\"Number of AG News Articles\");\n",
        "\"\"\""
      ],
      "metadata": {
        "colab": {
          "base_uri": "https://localhost:8080/",
          "height": 637
        },
        "id": "gMMPUM3I21ol",
        "outputId": "1ebd0d33-9ebe-4873-eaeb-2f0ec58cd62c"
      },
      "execution_count": null,
      "outputs": [
        {
          "output_type": "stream",
          "name": "stdout",
          "text": [
            "2000\n",
            "114000\n",
            "1782\n",
            "16\n",
            "64\n"
          ]
        },
        {
          "output_type": "display_data",
          "data": {
            "image/png": "[encoded data removed]",
            "text/plain": [
              "<Figure size 1080x648 with 1 Axes>"
            ]
          },
          "metadata": {
            "needs_background": "light"
          }
        }
      ]
    },
    {
      "cell_type": "code",
      "source": [
        "RNN2000 = creat_model(encoder2000)\n",
        "result2000 = compile_train_model(RNN2000, 200)"
      ],
      "metadata": {
        "colab": {
          "base_uri": "https://localhost:8080/",
          "height": 992
        },
        "id": "pz6JuXTA3DpS",
        "outputId": "45c68fe0-f0b4-4b4f-c0b9-7cb2dc74ba32"
      },
      "execution_count": null,
      "outputs": [
        {
          "metadata": {
            "tags": null
          },
          "name": "stdout",
          "output_type": "stream",
          "text": [
            "Epoch 1/200\n",
            "1782/1782 [==============================] - 236s 128ms/step - loss: 0.7389 - accuracy: 0.6991 - val_loss: 0.4549 - val_accuracy: 0.8492\n",
            "Epoch 2/200\n",
            "1782/1782 [==============================] - 221s 124ms/step - loss: 0.4059 - accuracy: 0.8606 - val_loss: 0.3783 - val_accuracy: 0.8720\n",
            "Epoch 3/200\n",
            "1782/1782 [==============================] - 218s 122ms/step - loss: 0.3517 - accuracy: 0.8774 - val_loss: 0.3490 - val_accuracy: 0.8772\n",
            "Epoch 4/200\n",
            "1782/1782 [==============================] - 218s 122ms/step - loss: 0.3312 - accuracy: 0.8832 - val_loss: 0.3432 - val_accuracy: 0.8737\n",
            "Epoch 5/200\n",
            "1782/1782 [==============================] - 216s 121ms/step - loss: 0.3196 - accuracy: 0.8867 - val_loss: 0.3384 - val_accuracy: 0.8773\n",
            "Epoch 6/200\n",
            "1782/1782 [==============================] - 218s 122ms/step - loss: 0.3122 - accuracy: 0.8888 - val_loss: 0.3501 - val_accuracy: 0.8723\n",
            "Epoch 7/200\n",
            "1782/1782 [==============================] - 217s 122ms/step - loss: 0.3067 - accuracy: 0.8906 - val_loss: 0.3509 - val_accuracy: 0.8758\n",
            "119/119 [==============================] - 4s 32ms/step - loss: 0.3522 - accuracy: 0.8737\n",
            "test set accuracy:  87.36842274665833\n"
          ]
        },
        {
          "metadata": {
            "tags": null
          },
          "name": "stderr",
          "output_type": "stream",
          "text": [
            "/usr/local/lib/python3.7/dist-packages/ipykernel_launcher.py:37: SettingWithCopyWarning: \n",
            "A value is trying to be set on a copy of a slice from a DataFrame.\n",
            "Try using .loc[row_indexer,col_indexer] = value instead\n",
            "\n",
            "See the caveats in the documentation: https://pandas.pydata.org/pandas-docs/stable/user_guide/indexing.html#returning-a-view-versus-a-copy\n",
            "/usr/local/lib/python3.7/dist-packages/ipykernel_launcher.py:38: SettingWithCopyWarning: \n",
            "A value is trying to be set on a copy of a slice from a DataFrame.\n",
            "Try using .loc[row_indexer,col_indexer] = value instead\n",
            "\n",
            "See the caveats in the documentation: https://pandas.pydata.org/pandas-docs/stable/user_guide/indexing.html#returning-a-view-versus-a-copy\n",
            "/usr/local/lib/python3.7/dist-packages/ipykernel_launcher.py:39: SettingWithCopyWarning: \n",
            "A value is trying to be set on a copy of a slice from a DataFrame.\n",
            "Try using .loc[row_indexer,col_indexer] = value instead\n",
            "\n",
            "See the caveats in the documentation: https://pandas.pydata.org/pandas-docs/stable/user_guide/indexing.html#returning-a-view-versus-a-copy\n",
            "/usr/local/lib/python3.7/dist-packages/ipykernel_launcher.py:40: SettingWithCopyWarning: \n",
            "A value is trying to be set on a copy of a slice from a DataFrame.\n",
            "Try using .loc[row_indexer,col_indexer] = value instead\n",
            "\n",
            "See the caveats in the documentation: https://pandas.pydata.org/pandas-docs/stable/user_guide/indexing.html#returning-a-view-versus-a-copy\n",
            "/usr/local/lib/python3.7/dist-packages/ipykernel_launcher.py:41: SettingWithCopyWarning: \n",
            "A value is trying to be set on a copy of a slice from a DataFrame.\n",
            "Try using .loc[row_indexer,col_indexer] = value instead\n",
            "\n",
            "See the caveats in the documentation: https://pandas.pydata.org/pandas-docs/stable/user_guide/indexing.html#returning-a-view-versus-a-copy\n"
          ]
        },
        {
          "data": {
            "image/png": "[encoded data removed]",
            "text/plain": [
              "<Figure size 1152x288 with 2 Axes>"
            ]
          },
          "metadata": {},
          "output_type": "display_data"
        }
      ]
    },
    {
      "cell_type": "code",
      "source": [
        "result2000['vocab_size'] = VOCAB_SIZE \n",
        "result2000['num_words'] = num_words \n",
        "result2000['num_articles'] = num_articles\n",
        "result2000['min_token_in_a_article'] = min_token_in_a_article \n",
        "result2000['max_token_in_a_article'] = max_token_in_a_article \n",
        "new_col = ['RNN with 2000 vocab size']   \n",
        "result2000.insert(loc=0, column='Model', value=new_col)"
      ],
      "metadata": {
        "id": "h4CHwO8w4Hdc"
      },
      "execution_count": null,
      "outputs": []
    },
    {
      "cell_type": "code",
      "source": [
        "assignment_result_table = assignment_result_table.append(result2000, ignore_index = True)\n",
        "assignment_result_table"
      ],
      "metadata": {
        "colab": {
          "base_uri": "https://localhost:8080/",
          "height": 294
        },
        "id": "FLDko_bK4Jhu",
        "outputId": "83a5df7b-e178-4913-c634-ca84df105b5a"
      },
      "execution_count": null,
      "outputs": [
        {
          "data": {
            "text/html": [
              "\n",
              "  <div id=\"df-229bfe1c-6832-4102-a70e-34d025a57a8e\">\n",
              "    <div class=\"colab-df-container\">\n",
              "      <div>\n",
              "<style scoped>\n",
              "    .dataframe tbody tr th:only-of-type {\n",
              "        vertical-align: middle;\n",
              "    }\n",
              "\n",
              "    .dataframe tbody tr th {\n",
              "        vertical-align: top;\n",
              "    }\n",
              "\n",
              "    .dataframe thead th {\n",
              "        text-align: right;\n",
              "    }\n",
              "</style>\n",
              "<table border=\"1\" class=\"dataframe\">\n",
              "  <thead>\n",
              "    <tr style=\"text-align: right;\">\n",
              "      <th></th>\n",
              "      <th>Model</th>\n",
              "      <th>loss</th>\n",
              "      <th>accuracy</th>\n",
              "      <th>val_loss</th>\n",
              "      <th>val_accuracy</th>\n",
              "      <th>test_loss</th>\n",
              "      <th>test_accuracy</th>\n",
              "      <th>process_time</th>\n",
              "      <th>epochs_setting</th>\n",
              "      <th>epochs_actual</th>\n",
              "      <th>vocab_size</th>\n",
              "      <th>num_words</th>\n",
              "      <th>num_articles</th>\n",
              "      <th>min_token_in_a_article</th>\n",
              "      <th>max_token_in_a_article</th>\n",
              "    </tr>\n",
              "  </thead>\n",
              "  <tbody>\n",
              "    <tr>\n",
              "      <th>0</th>\n",
              "      <td>RNN with 1000 vocab size</td>\n",
              "      <td>0.354808</td>\n",
              "      <td>0.870219</td>\n",
              "      <td>0.378830</td>\n",
              "      <td>0.865833</td>\n",
              "      <td>0.388363</td>\n",
              "      <td>0.858158</td>\n",
              "      <td>3810.881907</td>\n",
              "      <td>200</td>\n",
              "      <td>15</td>\n",
              "      <td>1000</td>\n",
              "      <td>114000</td>\n",
              "      <td>1782</td>\n",
              "      <td>16</td>\n",
              "      <td>64</td>\n",
              "    </tr>\n",
              "    <tr>\n",
              "      <th>1</th>\n",
              "      <td>RNN with 2000 vocab size</td>\n",
              "      <td>0.306725</td>\n",
              "      <td>0.890640</td>\n",
              "      <td>0.350878</td>\n",
              "      <td>0.875833</td>\n",
              "      <td>0.352219</td>\n",
              "      <td>0.873684</td>\n",
              "      <td>1679.933786</td>\n",
              "      <td>200</td>\n",
              "      <td>7</td>\n",
              "      <td>2000</td>\n",
              "      <td>114000</td>\n",
              "      <td>1782</td>\n",
              "      <td>16</td>\n",
              "      <td>64</td>\n",
              "    </tr>\n",
              "  </tbody>\n",
              "</table>\n",
              "</div>\n",
              "      <button class=\"colab-df-convert\" onclick=\"convertToInteractive('df-229bfe1c-6832-4102-a70e-34d025a57a8e')\"\n",
              "              title=\"Convert this dataframe to an interactive table.\"\n",
              "              style=\"display:none;\">\n",
              "        \n",
              "  <svg xmlns=\"http://www.w3.org/2000/svg\" height=\"24px\"viewBox=\"0 0 24 24\"\n",
              "       width=\"24px\">\n",
              "    <path d=\"M0 0h24v24H0V0z\" fill=\"none\"/>\n",
              "    <path d=\"M18.56 5.44l.94 2.06.94-2.06 2.06-.94-2.06-.94-.94-2.06-.94 2.06-2.06.94zm-11 1L8.5 8.5l.94-2.06 2.06-.94-2.06-.94L8.5 2.5l-.94 2.06-2.06.94zm10 10l.94 2.06.94-2.06 2.06-.94-2.06-.94-.94-2.06-.94 2.06-2.06.94z\"/><path d=\"M17.41 7.96l-1.37-1.37c-.4-.4-.92-.59-1.43-.59-.52 0-1.04.2-1.43.59L10.3 9.45l-7.72 7.72c-.78.78-.78 2.05 0 2.83L4 21.41c.39.39.9.59 1.41.59.51 0 1.02-.2 1.41-.59l7.78-7.78 2.81-2.81c.8-.78.8-2.07 0-2.86zM5.41 20L4 18.59l7.72-7.72 1.47 1.35L5.41 20z\"/>\n",
              "  </svg>\n",
              "      </button>\n",
              "      \n",
              "  <style>\n",
              "    .colab-df-container {\n",
              "      display:flex;\n",
              "      flex-wrap:wrap;\n",
              "      gap: 12px;\n",
              "    }\n",
              "\n",
              "    .colab-df-convert {\n",
              "      background-color: #E8F0FE;\n",
              "      border: none;\n",
              "      border-radius: 50%;\n",
              "      cursor: pointer;\n",
              "      display: none;\n",
              "      fill: #1967D2;\n",
              "      height: 32px;\n",
              "      padding: 0 0 0 0;\n",
              "      width: 32px;\n",
              "    }\n",
              "\n",
              "    .colab-df-convert:hover {\n",
              "      background-color: #E2EBFA;\n",
              "      box-shadow: 0px 1px 2px rgba(60, 64, 67, 0.3), 0px 1px 3px 1px rgba(60, 64, 67, 0.15);\n",
              "      fill: #174EA6;\n",
              "    }\n",
              "\n",
              "    [theme=dark] .colab-df-convert {\n",
              "      background-color: #3B4455;\n",
              "      fill: #D2E3FC;\n",
              "    }\n",
              "\n",
              "    [theme=dark] .colab-df-convert:hover {\n",
              "      background-color: #434B5C;\n",
              "      box-shadow: 0px 1px 3px 1px rgba(0, 0, 0, 0.15);\n",
              "      filter: drop-shadow(0px 1px 2px rgba(0, 0, 0, 0.3));\n",
              "      fill: #FFFFFF;\n",
              "    }\n",
              "  </style>\n",
              "\n",
              "      <script>\n",
              "        const buttonEl =\n",
              "          document.querySelector('#df-229bfe1c-6832-4102-a70e-34d025a57a8e button.colab-df-convert');\n",
              "        buttonEl.style.display =\n",
              "          google.colab.kernel.accessAllowed ? 'block' : 'none';\n",
              "\n",
              "        async function convertToInteractive(key) {\n",
              "          const element = document.querySelector('#df-229bfe1c-6832-4102-a70e-34d025a57a8e');\n",
              "          const dataTable =\n",
              "            await google.colab.kernel.invokeFunction('convertToInteractive',\n",
              "                                                     [key], {});\n",
              "          if (!dataTable) return;\n",
              "\n",
              "          const docLinkHtml = 'Like what you see? Visit the ' +\n",
              "            '<a target=\"_blank\" href=https://colab.research.google.com/notebooks/data_table.ipynb>data table notebook</a>'\n",
              "            + ' to learn more about interactive tables.';\n",
              "          element.innerHTML = '';\n",
              "          dataTable['output_type'] = 'display_data';\n",
              "          await google.colab.output.renderOutput(dataTable, element);\n",
              "          const docLink = document.createElement('div');\n",
              "          docLink.innerHTML = docLinkHtml;\n",
              "          element.appendChild(docLink);\n",
              "        }\n",
              "      </script>\n",
              "    </div>\n",
              "  </div>\n",
              "  "
            ],
            "text/plain": [
              "                      Model  ...  max_token_in_a_article\n",
              "0  RNN with 1000 vocab size  ...                      64\n",
              "1  RNN with 2000 vocab size  ...                      64\n",
              "\n",
              "[2 rows x 15 columns]"
            ]
          },
          "execution_count": null,
          "metadata": {},
          "output_type": "execute_result"
        }
      ]
    },
    {
      "cell_type": "markdown",
      "source": [
        "### Vocab 3000"
      ],
      "metadata": {
        "id": "qUv8AcS74_79"
      }
    },
    {
      "cell_type": "code",
      "source": [
        "VOCAB_SIZE = 3000\n",
        "EPOCH_SIZE = 200\n",
        "encoder3000 = get_encoder(VOCAB_SIZE)"
      ],
      "metadata": {
        "id": "rFFc5N_15Ewo"
      },
      "execution_count": null,
      "outputs": []
    },
    {
      "cell_type": "code",
      "source": [
        "corpus3000, doc_sizes3000 = explore_vocab(train_dataset,encoder3000)"
      ],
      "metadata": {
        "id": "fTmgjVIO5IYs"
      },
      "execution_count": null,
      "outputs": []
    },
    {
      "cell_type": "code",
      "source": [
        "vocab3000 = np.array(encoder3000.get_vocabulary())\n",
        "num_vocab_words_in_corpus =len(vocab3000)\n",
        "\n",
        "num_words =len(corpus3000)\n",
        "num_articles =len(doc_sizes3000)\n",
        "min_token_in_a_article = min(doc_sizes3000)\n",
        "max_token_in_a_article = max(doc_sizes3000)  \n",
        "\n",
        "print(num_vocab_words_in_corpus)\n",
        "print(num_words)\n",
        "print(num_articles)\n",
        "print(min_token_in_a_article)\n",
        "print(max_token_in_a_article)\n",
        "\n",
        "\"\"\"\n",
        "plt.figure(figsize=(15,9))\n",
        "plt.hist(doc_sizes3000, bins=20,range = (0,120))\n",
        "plt.xlabel(\"Tokens Per Document\")\n",
        "plt.ylabel(\"Number of AG News Articles\");\n",
        "\"\"\""
      ],
      "metadata": {
        "colab": {
          "base_uri": "https://localhost:8080/",
          "height": 637
        },
        "id": "MU_v0Cge5Q7a",
        "outputId": "4848761c-fe8e-43a6-862f-b4cc13e4d7e0"
      },
      "execution_count": null,
      "outputs": [
        {
          "metadata": {
            "tags": null
          },
          "name": "stdout",
          "output_type": "stream",
          "text": [
            "3000\n",
            "114000\n",
            "1782\n",
            "16\n",
            "64\n"
          ]
        },
        {
          "data": {
            "image/png": "[encoded data removed]",
            "text/plain": [
              "<Figure size 1080x648 with 1 Axes>"
            ]
          },
          "metadata": {},
          "output_type": "display_data"
        }
      ]
    },
    {
      "cell_type": "code",
      "source": [
        "RNN3000 = creat_model(encoder3000)\n",
        "result3000 = compile_train_model(RNN3000, 200)"
      ],
      "metadata": {
        "colab": {
          "base_uri": "https://localhost:8080/",
          "height": 1000
        },
        "id": "-4_tel-95ZE8",
        "outputId": "5c684920-9030-4015-a9f1-461a049c5dab"
      },
      "execution_count": null,
      "outputs": [
        {
          "output_type": "stream",
          "name": "stdout",
          "text": [
            "Epoch 1/200\n",
            "1782/1782 [==============================] - 230s 124ms/step - loss: 0.6393 - accuracy: 0.7606 - val_loss: 0.3987 - val_accuracy: 0.8685\n",
            "Epoch 2/200\n",
            "1782/1782 [==============================] - 229s 128ms/step - loss: 0.3673 - accuracy: 0.8757 - val_loss: 0.3531 - val_accuracy: 0.8812\n",
            "Epoch 3/200\n",
            "1782/1782 [==============================] - 222s 124ms/step - loss: 0.3247 - accuracy: 0.8885 - val_loss: 0.3310 - val_accuracy: 0.8868\n",
            "Epoch 4/200\n",
            "1782/1782 [==============================] - 229s 129ms/step - loss: 0.3014 - accuracy: 0.8953 - val_loss: 0.3233 - val_accuracy: 0.8877\n",
            "Epoch 5/200\n",
            "1782/1782 [==============================] - 231s 129ms/step - loss: 0.2863 - accuracy: 0.9003 - val_loss: 0.3178 - val_accuracy: 0.8878\n",
            "Epoch 6/200\n",
            "1782/1782 [==============================] - 231s 129ms/step - loss: 0.2774 - accuracy: 0.9023 - val_loss: 0.3158 - val_accuracy: 0.8892\n",
            "Epoch 7/200\n",
            "1782/1782 [==============================] - 231s 129ms/step - loss: 0.2699 - accuracy: 0.9047 - val_loss: 0.3161 - val_accuracy: 0.8903\n",
            "Epoch 8/200\n",
            "1782/1782 [==============================] - 230s 129ms/step - loss: 0.2640 - accuracy: 0.9069 - val_loss: 0.3245 - val_accuracy: 0.8877\n",
            "Epoch 9/200\n",
            "1782/1782 [==============================] - 231s 129ms/step - loss: 0.2587 - accuracy: 0.9088 - val_loss: 0.3221 - val_accuracy: 0.8877\n",
            "119/119 [==============================] - 4s 35ms/step - loss: 0.3273 - accuracy: 0.8843\n",
            "test set accuracy:  88.43421339988708\n"
          ]
        },
        {
          "output_type": "stream",
          "name": "stderr",
          "text": [
            "/usr/local/lib/python3.7/dist-packages/ipykernel_launcher.py:37: SettingWithCopyWarning: \n",
            "A value is trying to be set on a copy of a slice from a DataFrame.\n",
            "Try using .loc[row_indexer,col_indexer] = value instead\n",
            "\n",
            "See the caveats in the documentation: https://pandas.pydata.org/pandas-docs/stable/user_guide/indexing.html#returning-a-view-versus-a-copy\n",
            "/usr/local/lib/python3.7/dist-packages/ipykernel_launcher.py:38: SettingWithCopyWarning: \n",
            "A value is trying to be set on a copy of a slice from a DataFrame.\n",
            "Try using .loc[row_indexer,col_indexer] = value instead\n",
            "\n",
            "See the caveats in the documentation: https://pandas.pydata.org/pandas-docs/stable/user_guide/indexing.html#returning-a-view-versus-a-copy\n",
            "/usr/local/lib/python3.7/dist-packages/ipykernel_launcher.py:39: SettingWithCopyWarning: \n",
            "A value is trying to be set on a copy of a slice from a DataFrame.\n",
            "Try using .loc[row_indexer,col_indexer] = value instead\n",
            "\n",
            "See the caveats in the documentation: https://pandas.pydata.org/pandas-docs/stable/user_guide/indexing.html#returning-a-view-versus-a-copy\n",
            "/usr/local/lib/python3.7/dist-packages/ipykernel_launcher.py:40: SettingWithCopyWarning: \n",
            "A value is trying to be set on a copy of a slice from a DataFrame.\n",
            "Try using .loc[row_indexer,col_indexer] = value instead\n",
            "\n",
            "See the caveats in the documentation: https://pandas.pydata.org/pandas-docs/stable/user_guide/indexing.html#returning-a-view-versus-a-copy\n",
            "/usr/local/lib/python3.7/dist-packages/ipykernel_launcher.py:41: SettingWithCopyWarning: \n",
            "A value is trying to be set on a copy of a slice from a DataFrame.\n",
            "Try using .loc[row_indexer,col_indexer] = value instead\n",
            "\n",
            "See the caveats in the documentation: https://pandas.pydata.org/pandas-docs/stable/user_guide/indexing.html#returning-a-view-versus-a-copy\n"
          ]
        },
        {
          "output_type": "display_data",
          "data": {
            "image/png": "[encoded data removed]",
            "text/plain": [
              "<Figure size 1152x288 with 2 Axes>"
            ]
          },
          "metadata": {
            "needs_background": "light"
          }
        }
      ]
    },
    {
      "cell_type": "code",
      "source": [
        "result3000['vocab_size'] = VOCAB_SIZE \n",
        "result3000['num_words'] = num_words \n",
        "result3000['num_articles'] = num_articles\n",
        "result3000['min_token_in_a_article'] = min_token_in_a_article \n",
        "result3000['max_token_in_a_article'] = max_token_in_a_article \n",
        "new_col = ['RNN with 3000 vocab size']   \n",
        "result3000.insert(loc=0, column='Model', value=new_col)"
      ],
      "metadata": {
        "id": "VkbLUvR65daK"
      },
      "execution_count": null,
      "outputs": []
    },
    {
      "cell_type": "code",
      "source": [
        "assignment_result_table = assignment_result_table.append(result3000, ignore_index = True)\n",
        "assignment_result_table"
      ],
      "metadata": {
        "colab": {
          "base_uri": "https://localhost:8080/",
          "height": 396
        },
        "id": "j406UjTd5ilE",
        "outputId": "281a8f42-4c97-4943-8c04-9a66334c3070"
      },
      "execution_count": null,
      "outputs": [
        {
          "output_type": "execute_result",
          "data": {
            "text/html": [
              "\n",
              "  <div id=\"df-c2f8c303-055b-4794-b06b-70c778be74df\">\n",
              "    <div class=\"colab-df-container\">\n",
              "      <div>\n",
              "<style scoped>\n",
              "    .dataframe tbody tr th:only-of-type {\n",
              "        vertical-align: middle;\n",
              "    }\n",
              "\n",
              "    .dataframe tbody tr th {\n",
              "        vertical-align: top;\n",
              "    }\n",
              "\n",
              "    .dataframe thead th {\n",
              "        text-align: right;\n",
              "    }\n",
              "</style>\n",
              "<table border=\"1\" class=\"dataframe\">\n",
              "  <thead>\n",
              "    <tr style=\"text-align: right;\">\n",
              "      <th></th>\n",
              "      <th>Model</th>\n",
              "      <th>loss</th>\n",
              "      <th>accuracy</th>\n",
              "      <th>val_loss</th>\n",
              "      <th>val_accuracy</th>\n",
              "      <th>test_loss</th>\n",
              "      <th>test_accuracy</th>\n",
              "      <th>process_time</th>\n",
              "      <th>epochs_setting</th>\n",
              "      <th>epochs_actual</th>\n",
              "      <th>vocab_size</th>\n",
              "      <th>num_words</th>\n",
              "      <th>num_articles</th>\n",
              "      <th>min_token_in_a_article</th>\n",
              "      <th>max_token_in_a_article</th>\n",
              "    </tr>\n",
              "  </thead>\n",
              "  <tbody>\n",
              "    <tr>\n",
              "      <th>0</th>\n",
              "      <td>RNN with 1000 vocab size</td>\n",
              "      <td>0.354808</td>\n",
              "      <td>0.870219</td>\n",
              "      <td>0.378830</td>\n",
              "      <td>0.865833</td>\n",
              "      <td>0.388363</td>\n",
              "      <td>0.858158</td>\n",
              "      <td>3810.881907</td>\n",
              "      <td>200</td>\n",
              "      <td>15</td>\n",
              "      <td>1000</td>\n",
              "      <td>114000</td>\n",
              "      <td>1782</td>\n",
              "      <td>16</td>\n",
              "      <td>64</td>\n",
              "    </tr>\n",
              "    <tr>\n",
              "      <th>1</th>\n",
              "      <td>RNN with 2000 vocab size</td>\n",
              "      <td>0.306725</td>\n",
              "      <td>0.890640</td>\n",
              "      <td>0.350878</td>\n",
              "      <td>0.875833</td>\n",
              "      <td>0.352219</td>\n",
              "      <td>0.873684</td>\n",
              "      <td>1679.933786</td>\n",
              "      <td>200</td>\n",
              "      <td>7</td>\n",
              "      <td>2000</td>\n",
              "      <td>114000</td>\n",
              "      <td>1782</td>\n",
              "      <td>16</td>\n",
              "      <td>64</td>\n",
              "    </tr>\n",
              "    <tr>\n",
              "      <th>2</th>\n",
              "      <td>RNN with 3000 vocab size</td>\n",
              "      <td>0.258723</td>\n",
              "      <td>0.908842</td>\n",
              "      <td>0.322128</td>\n",
              "      <td>0.887667</td>\n",
              "      <td>0.327337</td>\n",
              "      <td>0.884342</td>\n",
              "      <td>2212.844646</td>\n",
              "      <td>200</td>\n",
              "      <td>9</td>\n",
              "      <td>3000</td>\n",
              "      <td>114000</td>\n",
              "      <td>1782</td>\n",
              "      <td>16</td>\n",
              "      <td>64</td>\n",
              "    </tr>\n",
              "  </tbody>\n",
              "</table>\n",
              "</div>\n",
              "      <button class=\"colab-df-convert\" onclick=\"convertToInteractive('df-c2f8c303-055b-4794-b06b-70c778be74df')\"\n",
              "              title=\"Convert this dataframe to an interactive table.\"\n",
              "              style=\"display:none;\">\n",
              "        \n",
              "  <svg xmlns=\"http://www.w3.org/2000/svg\" height=\"24px\"viewBox=\"0 0 24 24\"\n",
              "       width=\"24px\">\n",
              "    <path d=\"M0 0h24v24H0V0z\" fill=\"none\"/>\n",
              "    <path d=\"M18.56 5.44l.94 2.06.94-2.06 2.06-.94-2.06-.94-.94-2.06-.94 2.06-2.06.94zm-11 1L8.5 8.5l.94-2.06 2.06-.94-2.06-.94L8.5 2.5l-.94 2.06-2.06.94zm10 10l.94 2.06.94-2.06 2.06-.94-2.06-.94-.94-2.06-.94 2.06-2.06.94z\"/><path d=\"M17.41 7.96l-1.37-1.37c-.4-.4-.92-.59-1.43-.59-.52 0-1.04.2-1.43.59L10.3 9.45l-7.72 7.72c-.78.78-.78 2.05 0 2.83L4 21.41c.39.39.9.59 1.41.59.51 0 1.02-.2 1.41-.59l7.78-7.78 2.81-2.81c.8-.78.8-2.07 0-2.86zM5.41 20L4 18.59l7.72-7.72 1.47 1.35L5.41 20z\"/>\n",
              "  </svg>\n",
              "      </button>\n",
              "      \n",
              "  <style>\n",
              "    .colab-df-container {\n",
              "      display:flex;\n",
              "      flex-wrap:wrap;\n",
              "      gap: 12px;\n",
              "    }\n",
              "\n",
              "    .colab-df-convert {\n",
              "      background-color: #E8F0FE;\n",
              "      border: none;\n",
              "      border-radius: 50%;\n",
              "      cursor: pointer;\n",
              "      display: none;\n",
              "      fill: #1967D2;\n",
              "      height: 32px;\n",
              "      padding: 0 0 0 0;\n",
              "      width: 32px;\n",
              "    }\n",
              "\n",
              "    .colab-df-convert:hover {\n",
              "      background-color: #E2EBFA;\n",
              "      box-shadow: 0px 1px 2px rgba(60, 64, 67, 0.3), 0px 1px 3px 1px rgba(60, 64, 67, 0.15);\n",
              "      fill: #174EA6;\n",
              "    }\n",
              "\n",
              "    [theme=dark] .colab-df-convert {\n",
              "      background-color: #3B4455;\n",
              "      fill: #D2E3FC;\n",
              "    }\n",
              "\n",
              "    [theme=dark] .colab-df-convert:hover {\n",
              "      background-color: #434B5C;\n",
              "      box-shadow: 0px 1px 3px 1px rgba(0, 0, 0, 0.15);\n",
              "      filter: drop-shadow(0px 1px 2px rgba(0, 0, 0, 0.3));\n",
              "      fill: #FFFFFF;\n",
              "    }\n",
              "  </style>\n",
              "\n",
              "      <script>\n",
              "        const buttonEl =\n",
              "          document.querySelector('#df-c2f8c303-055b-4794-b06b-70c778be74df button.colab-df-convert');\n",
              "        buttonEl.style.display =\n",
              "          google.colab.kernel.accessAllowed ? 'block' : 'none';\n",
              "\n",
              "        async function convertToInteractive(key) {\n",
              "          const element = document.querySelector('#df-c2f8c303-055b-4794-b06b-70c778be74df');\n",
              "          const dataTable =\n",
              "            await google.colab.kernel.invokeFunction('convertToInteractive',\n",
              "                                                     [key], {});\n",
              "          if (!dataTable) return;\n",
              "\n",
              "          const docLinkHtml = 'Like what you see? Visit the ' +\n",
              "            '<a target=\"_blank\" href=https://colab.research.google.com/notebooks/data_table.ipynb>data table notebook</a>'\n",
              "            + ' to learn more about interactive tables.';\n",
              "          element.innerHTML = '';\n",
              "          dataTable['output_type'] = 'display_data';\n",
              "          await google.colab.output.renderOutput(dataTable, element);\n",
              "          const docLink = document.createElement('div');\n",
              "          docLink.innerHTML = docLinkHtml;\n",
              "          element.appendChild(docLink);\n",
              "        }\n",
              "      </script>\n",
              "    </div>\n",
              "  </div>\n",
              "  "
            ],
            "text/plain": [
              "                      Model  ...  max_token_in_a_article\n",
              "0  RNN with 1000 vocab size  ...                      64\n",
              "1  RNN with 2000 vocab size  ...                      64\n",
              "2  RNN with 3000 vocab size  ...                      64\n",
              "\n",
              "[3 rows x 15 columns]"
            ]
          },
          "metadata": {},
          "execution_count": 31
        }
      ]
    },
    {
      "cell_type": "markdown",
      "source": [
        "### Plot Test Accuracy by Vocab Size"
      ],
      "metadata": {
        "id": "WzdCFWUW7Tph"
      }
    },
    {
      "cell_type": "code",
      "source": [
        "x= assignment_result_table['vocab_size']\n",
        "y= assignment_result_table['test_accuracy']\n",
        "plt.plot(x,y)"
      ],
      "metadata": {
        "colab": {
          "base_uri": "https://localhost:8080/",
          "height": 72
        },
        "id": "1X4ZpceQ7TJG",
        "outputId": "b48265bd-88c1-4b7f-f9a6-89a5186c8d91"
      },
      "execution_count": null,
      "outputs": [
        {
          "output_type": "execute_result",
          "data": {
            "text/plain": [
              "[<matplotlib.lines.Line2D at 0x7f17dbbffa50>]"
            ]
          },
          "metadata": {},
          "execution_count": 32
        },
        {
          "output_type": "display_data",
          "data": {
            "image/png": "[encoded data removed]",
            "text/plain": [
              "<Figure size 432x288 with 1 Axes>"
            ]
          },
          "metadata": {
            "needs_background": "light"
          }
        }
      ]
    },
    {
      "cell_type": "markdown",
      "source": [
        "## Experiment A b\n",
        "(b) Editing the Vocabulary: Try unedited most frequent words, VERSUS edit the list by deleting the most frequent words such as article, ‘the’, ‘a’, etc."
      ],
      "metadata": {
        "id": "E0sdKXmK7cT5"
      }
    },
    {
      "cell_type": "markdown",
      "source": [
        "### Deleting the most frequent words from vocab"
      ],
      "metadata": {
        "id": "Fy5jhVdT9Faa"
      }
    },
    {
      "cell_type": "code",
      "source": [
        "#import nltk\n",
        "#nltk.download('stopwords')"
      ],
      "metadata": {
        "id": "eMO6lQWitSmp",
        "outputId": "2cd5df31-4518-4180-bc79-e92455e98aa2",
        "colab": {
          "base_uri": "https://localhost:8080/"
        }
      },
      "execution_count": 26,
      "outputs": [
        {
          "output_type": "stream",
          "name": "stdout",
          "text": [
            "[nltk_data] Downloading package stopwords to /root/nltk_data...\n",
            "[nltk_data]   Unzipping corpora/stopwords.zip.\n"
          ]
        },
        {
          "output_type": "execute_result",
          "data": {
            "text/plain": [
              "True"
            ]
          },
          "metadata": {},
          "execution_count": 26
        }
      ]
    },
    {
      "cell_type": "code",
      "source": [
        "import nltk\n",
        "from nltk.corpus import stopwords\n",
        "stopwords = stopwords.words('english')"
      ],
      "metadata": {
        "id": "QPr7HjZB9Fvb"
      },
      "execution_count": 27,
      "outputs": []
    },
    {
      "cell_type": "code",
      "source": [
        "vocab1000[:20]"
      ],
      "metadata": {
        "id": "KWdVmWmB7IFR",
        "outputId": "7d06b95e-a756-4465-b13a-245ef876d195",
        "colab": {
          "base_uri": "https://localhost:8080/"
        }
      },
      "execution_count": 38,
      "outputs": [
        {
          "output_type": "execute_result",
          "data": {
            "text/plain": [
              "array(['', '[UNK]', 'the', 'a', 'to', 'of', 'in', 'and', 'on', 'for',\n",
              "       'that', '39s', 'with', 'its', 'as', 'at', 'is', 'said', 'by', 'it'],\n",
              "      dtype='<U14')"
            ]
          },
          "metadata": {},
          "execution_count": 38
        }
      ]
    },
    {
      "cell_type": "code",
      "source": [
        "filtered_vocab1000= []\n",
        "for w in vocab1000:\n",
        "    if w not in stopwords:\n",
        "        filtered_vocab1000.append(w)"
      ],
      "metadata": {
        "id": "bGsn6pg9DHt7"
      },
      "execution_count": 39,
      "outputs": []
    },
    {
      "cell_type": "code",
      "source": [
        "filtered_vocab1000[:20]"
      ],
      "metadata": {
        "id": "jFJQfWleDtjZ",
        "outputId": "265b7976-7250-43d0-ad8e-0095d66efbdf",
        "colab": {
          "base_uri": "https://localhost:8080/"
        }
      },
      "execution_count": 40,
      "outputs": [
        {
          "output_type": "execute_result",
          "data": {
            "text/plain": [
              "['',\n",
              " '[UNK]',\n",
              " '39s',\n",
              " 'said',\n",
              " 'new',\n",
              " 'us',\n",
              " 'reuters',\n",
              " 'ap',\n",
              " 'two',\n",
              " 'first',\n",
              " 'monday',\n",
              " 'wednesday',\n",
              " 'tuesday',\n",
              " 'thursday',\n",
              " 'company',\n",
              " 'friday',\n",
              " 'inc',\n",
              " 'one',\n",
              " 'world',\n",
              " 'yesterday']"
            ]
          },
          "metadata": {},
          "execution_count": 40
        }
      ]
    },
    {
      "cell_type": "code",
      "source": [
        "len(filtered_vocab1000)"
      ],
      "metadata": {
        "id": "QFg0UG8e9Dez",
        "outputId": "c1ebd709-d18e-4ae9-91d2-e4b5afd42416",
        "colab": {
          "base_uri": "https://localhost:8080/"
        }
      },
      "execution_count": 41,
      "outputs": [
        {
          "output_type": "execute_result",
          "data": {
            "text/plain": [
              "898"
            ]
          },
          "metadata": {},
          "execution_count": 41
        }
      ]
    },
    {
      "cell_type": "code",
      "source": [
        "def get_encoder_with_filtered_vocab(VOCAB_SIZE, VOCAB):\n",
        "  encoder = tf.keras.layers.experimental.preprocessing.TextVectorization(max_tokens=VOCAB_SIZE, vocabulary=VOCAB)\n",
        "  #encoder.adapt(train_dataset.map(lambda text, label: text)) # Because we've passed the vocabulary directly, we don't need to adapt the layer - the vocabulary is already set. \n",
        "  return encoder"
      ],
      "metadata": {
        "id": "HhJL-x5Bw1hg"
      },
      "execution_count": 44,
      "outputs": []
    },
    {
      "cell_type": "code",
      "source": [
        "VOCAB_SIZE = 1000\n",
        "EPOCH_SIZE = 200\n",
        "VOCAB = filtered_vocab1000 \n",
        "encoder1000_vocab = get_encoder_with_filtered_vocab(VOCAB_SIZE, VOCAB)"
      ],
      "metadata": {
        "id": "FNK4oEkTxBek"
      },
      "execution_count": 46,
      "outputs": []
    },
    {
      "cell_type": "code",
      "source": [
        "corpus1000_vocab, doc_sizes1000_vocab = explore_vocab(train_dataset,encoder1000_vocab)"
      ],
      "metadata": {
        "id": "qze5sx2YxvBe"
      },
      "execution_count": 47,
      "outputs": []
    },
    {
      "cell_type": "code",
      "source": [
        "vocab1000_50 = np.array(encoder1000_vocab.get_vocabulary())\n",
        "num_vocab_words_in_corpus =len(vocab1000_50)\n",
        "\n",
        "num_words =len(corpus1000_vocab)\n",
        "num_articles =len(doc_sizes1000_vocab)\n",
        "min_token_in_a_article = min(doc_sizes1000_vocab)\n",
        "max_token_in_a_article = max(doc_sizes1000_vocab)  \n",
        "\n",
        "print(num_vocab_words_in_corpus)\n",
        "print(num_words)\n",
        "print(num_articles)\n",
        "print(min_token_in_a_article)\n",
        "print(max_token_in_a_article)\n",
        "\n",
        "\"\"\"\n",
        "plt.figure(figsize=(15,9))\n",
        "plt.hist(doc_sizes1000_vocab, bins=20,range = (0,120))\n",
        "plt.xlabel(\"Tokens Per Document\")\n",
        "plt.ylabel(\"Number of AG News Articles\")\n",
        "\"\"\""
      ],
      "metadata": {
        "id": "-lnG07TMx2G7",
        "outputId": "b0261183-4609-4361-d6a8-135a946c3126",
        "colab": {
          "base_uri": "https://localhost:8080/",
          "height": 140
        }
      },
      "execution_count": 48,
      "outputs": [
        {
          "output_type": "stream",
          "name": "stdout",
          "text": [
            "898\n",
            "114000\n",
            "1782\n",
            "16\n",
            "64\n"
          ]
        },
        {
          "output_type": "execute_result",
          "data": {
            "application/vnd.google.colaboratory.intrinsic+json": {
              "type": "string"
            },
            "text/plain": [
              "'\\nplt.figure(figsize=(15,9))\\nplt.hist(doc_sizes1000_vocab, bins=20,range = (0,120))\\nplt.xlabel(\"Tokens Per Document\")\\nplt.ylabel(\"Number of AG News Articles\")\\n'"
            ]
          },
          "metadata": {},
          "execution_count": 48
        }
      ]
    },
    {
      "cell_type": "code",
      "source": [
        "RNN1000_vocab = creat_model(encoder1000_vocab)\n",
        "result1000_vocab = compile_train_model(RNN1000_vocab, 200)"
      ],
      "metadata": {
        "id": "4DJux2e3yJsZ",
        "outputId": "ad158069-ed71-45cb-8256-a089a920b0da",
        "colab": {
          "base_uri": "https://localhost:8080/",
          "height": 777
        }
      },
      "execution_count": 55,
      "outputs": [
        {
          "output_type": "stream",
          "name": "stdout",
          "text": [
            "1782/1782 [==============================] - 282s 150ms/step - loss: 0.7570 - accuracy: 0.7109 - val_loss: 0.5088 - val_accuracy: 0.8233\n",
            "119/119 [==============================] - 6s 46ms/step - loss: 0.5206 - accuracy: 0.8134\n",
            "test set accuracy:  81.34210705757141\n"
          ]
        },
        {
          "output_type": "stream",
          "name": "stderr",
          "text": [
            "/usr/local/lib/python3.7/dist-packages/ipykernel_launcher.py:37: SettingWithCopyWarning: \n",
            "A value is trying to be set on a copy of a slice from a DataFrame.\n",
            "Try using .loc[row_indexer,col_indexer] = value instead\n",
            "\n",
            "See the caveats in the documentation: https://pandas.pydata.org/pandas-docs/stable/user_guide/indexing.html#returning-a-view-versus-a-copy\n",
            "/usr/local/lib/python3.7/dist-packages/ipykernel_launcher.py:38: SettingWithCopyWarning: \n",
            "A value is trying to be set on a copy of a slice from a DataFrame.\n",
            "Try using .loc[row_indexer,col_indexer] = value instead\n",
            "\n",
            "See the caveats in the documentation: https://pandas.pydata.org/pandas-docs/stable/user_guide/indexing.html#returning-a-view-versus-a-copy\n",
            "/usr/local/lib/python3.7/dist-packages/ipykernel_launcher.py:39: SettingWithCopyWarning: \n",
            "A value is trying to be set on a copy of a slice from a DataFrame.\n",
            "Try using .loc[row_indexer,col_indexer] = value instead\n",
            "\n",
            "See the caveats in the documentation: https://pandas.pydata.org/pandas-docs/stable/user_guide/indexing.html#returning-a-view-versus-a-copy\n",
            "/usr/local/lib/python3.7/dist-packages/ipykernel_launcher.py:40: SettingWithCopyWarning: \n",
            "A value is trying to be set on a copy of a slice from a DataFrame.\n",
            "Try using .loc[row_indexer,col_indexer] = value instead\n",
            "\n",
            "See the caveats in the documentation: https://pandas.pydata.org/pandas-docs/stable/user_guide/indexing.html#returning-a-view-versus-a-copy\n",
            "/usr/local/lib/python3.7/dist-packages/ipykernel_launcher.py:41: SettingWithCopyWarning: \n",
            "A value is trying to be set on a copy of a slice from a DataFrame.\n",
            "Try using .loc[row_indexer,col_indexer] = value instead\n",
            "\n",
            "See the caveats in the documentation: https://pandas.pydata.org/pandas-docs/stable/user_guide/indexing.html#returning-a-view-versus-a-copy\n"
          ]
        },
        {
          "output_type": "display_data",
          "data": {
            "image/png": "[encoded data removed]",
            "text/plain": [
              "<Figure size 1152x288 with 2 Axes>"
            ]
          },
          "metadata": {
            "needs_background": "light"
          }
        }
      ]
    },
    {
      "cell_type": "code",
      "source": [
        "result1000_vocab['vocab_size'] = num_vocab_words_in_corpus \n",
        "result1000_vocab['num_words'] = num_words \n",
        "result1000_vocab['num_articles'] = num_articles\n",
        "result1000_vocab['min_token_in_a_article'] = min_token_in_a_article \n",
        "result1000_vocab['max_token_in_a_article'] = max_token_in_a_article \n",
        "new_col = ['RNN with filtered vocab that deleting the most frequent words']   \n",
        "result1000_vocab.insert(loc=0, column='Model', value=new_col)\n",
        "#result1000_vocab"
      ],
      "metadata": {
        "id": "TANVXna9yRVb",
        "outputId": "58333c7c-33c4-4978-aece-3eb0283c0179",
        "colab": {
          "base_uri": "https://localhost:8080/",
          "height": 246
        }
      },
      "execution_count": 56,
      "outputs": [
        {
          "output_type": "execute_result",
          "data": {
            "text/html": [
              "\n",
              "  <div id=\"df-c372525c-722e-401c-8f2f-b59c713d9e60\">\n",
              "    <div class=\"colab-df-container\">\n",
              "      <div>\n",
              "<style scoped>\n",
              "    .dataframe tbody tr th:only-of-type {\n",
              "        vertical-align: middle;\n",
              "    }\n",
              "\n",
              "    .dataframe tbody tr th {\n",
              "        vertical-align: top;\n",
              "    }\n",
              "\n",
              "    .dataframe thead th {\n",
              "        text-align: right;\n",
              "    }\n",
              "</style>\n",
              "<table border=\"1\" class=\"dataframe\">\n",
              "  <thead>\n",
              "    <tr style=\"text-align: right;\">\n",
              "      <th></th>\n",
              "      <th>Model</th>\n",
              "      <th>loss</th>\n",
              "      <th>accuracy</th>\n",
              "      <th>val_loss</th>\n",
              "      <th>val_accuracy</th>\n",
              "      <th>test_loss</th>\n",
              "      <th>test_accuracy</th>\n",
              "      <th>process_time</th>\n",
              "      <th>epochs_setting</th>\n",
              "      <th>epochs_actual</th>\n",
              "      <th>vocab_size</th>\n",
              "      <th>num_words</th>\n",
              "      <th>num_articles</th>\n",
              "      <th>min_token_in_a_article</th>\n",
              "      <th>max_token_in_a_article</th>\n",
              "    </tr>\n",
              "  </thead>\n",
              "  <tbody>\n",
              "    <tr>\n",
              "      <th>0</th>\n",
              "      <td>RNN with 1000 vocab size 50 output sequence le...</td>\n",
              "      <td>0.756967</td>\n",
              "      <td>0.710886</td>\n",
              "      <td>0.508758</td>\n",
              "      <td>0.823333</td>\n",
              "      <td>0.520642</td>\n",
              "      <td>0.813421</td>\n",
              "      <td>341.932346</td>\n",
              "      <td>1</td>\n",
              "      <td>1</td>\n",
              "      <td>1000</td>\n",
              "      <td>114000</td>\n",
              "      <td>1782</td>\n",
              "      <td>16</td>\n",
              "      <td>64</td>\n",
              "    </tr>\n",
              "  </tbody>\n",
              "</table>\n",
              "</div>\n",
              "      <button class=\"colab-df-convert\" onclick=\"convertToInteractive('df-c372525c-722e-401c-8f2f-b59c713d9e60')\"\n",
              "              title=\"Convert this dataframe to an interactive table.\"\n",
              "              style=\"display:none;\">\n",
              "        \n",
              "  <svg xmlns=\"http://www.w3.org/2000/svg\" height=\"24px\"viewBox=\"0 0 24 24\"\n",
              "       width=\"24px\">\n",
              "    <path d=\"M0 0h24v24H0V0z\" fill=\"none\"/>\n",
              "    <path d=\"M18.56 5.44l.94 2.06.94-2.06 2.06-.94-2.06-.94-.94-2.06-.94 2.06-2.06.94zm-11 1L8.5 8.5l.94-2.06 2.06-.94-2.06-.94L8.5 2.5l-.94 2.06-2.06.94zm10 10l.94 2.06.94-2.06 2.06-.94-2.06-.94-.94-2.06-.94 2.06-2.06.94z\"/><path d=\"M17.41 7.96l-1.37-1.37c-.4-.4-.92-.59-1.43-.59-.52 0-1.04.2-1.43.59L10.3 9.45l-7.72 7.72c-.78.78-.78 2.05 0 2.83L4 21.41c.39.39.9.59 1.41.59.51 0 1.02-.2 1.41-.59l7.78-7.78 2.81-2.81c.8-.78.8-2.07 0-2.86zM5.41 20L4 18.59l7.72-7.72 1.47 1.35L5.41 20z\"/>\n",
              "  </svg>\n",
              "      </button>\n",
              "      \n",
              "  <style>\n",
              "    .colab-df-container {\n",
              "      display:flex;\n",
              "      flex-wrap:wrap;\n",
              "      gap: 12px;\n",
              "    }\n",
              "\n",
              "    .colab-df-convert {\n",
              "      background-color: #E8F0FE;\n",
              "      border: none;\n",
              "      border-radius: 50%;\n",
              "      cursor: pointer;\n",
              "      display: none;\n",
              "      fill: #1967D2;\n",
              "      height: 32px;\n",
              "      padding: 0 0 0 0;\n",
              "      width: 32px;\n",
              "    }\n",
              "\n",
              "    .colab-df-convert:hover {\n",
              "      background-color: #E2EBFA;\n",
              "      box-shadow: 0px 1px 2px rgba(60, 64, 67, 0.3), 0px 1px 3px 1px rgba(60, 64, 67, 0.15);\n",
              "      fill: #174EA6;\n",
              "    }\n",
              "\n",
              "    [theme=dark] .colab-df-convert {\n",
              "      background-color: #3B4455;\n",
              "      fill: #D2E3FC;\n",
              "    }\n",
              "\n",
              "    [theme=dark] .colab-df-convert:hover {\n",
              "      background-color: #434B5C;\n",
              "      box-shadow: 0px 1px 3px 1px rgba(0, 0, 0, 0.15);\n",
              "      filter: drop-shadow(0px 1px 2px rgba(0, 0, 0, 0.3));\n",
              "      fill: #FFFFFF;\n",
              "    }\n",
              "  </style>\n",
              "\n",
              "      <script>\n",
              "        const buttonEl =\n",
              "          document.querySelector('#df-c372525c-722e-401c-8f2f-b59c713d9e60 button.colab-df-convert');\n",
              "        buttonEl.style.display =\n",
              "          google.colab.kernel.accessAllowed ? 'block' : 'none';\n",
              "\n",
              "        async function convertToInteractive(key) {\n",
              "          const element = document.querySelector('#df-c372525c-722e-401c-8f2f-b59c713d9e60');\n",
              "          const dataTable =\n",
              "            await google.colab.kernel.invokeFunction('convertToInteractive',\n",
              "                                                     [key], {});\n",
              "          if (!dataTable) return;\n",
              "\n",
              "          const docLinkHtml = 'Like what you see? Visit the ' +\n",
              "            '<a target=\"_blank\" href=https://colab.research.google.com/notebooks/data_table.ipynb>data table notebook</a>'\n",
              "            + ' to learn more about interactive tables.';\n",
              "          element.innerHTML = '';\n",
              "          dataTable['output_type'] = 'display_data';\n",
              "          await google.colab.output.renderOutput(dataTable, element);\n",
              "          const docLink = document.createElement('div');\n",
              "          docLink.innerHTML = docLinkHtml;\n",
              "          element.appendChild(docLink);\n",
              "        }\n",
              "      </script>\n",
              "    </div>\n",
              "  </div>\n",
              "  "
            ],
            "text/plain": [
              "                                               Model  ...  max_token_in_a_article\n",
              "0  RNN with 1000 vocab size 50 output sequence le...  ...                      64\n",
              "\n",
              "[1 rows x 15 columns]"
            ]
          },
          "metadata": {},
          "execution_count": 56
        }
      ]
    },
    {
      "cell_type": "code",
      "source": [
        "assignment_result_table = assignment_result_table.append(result1000_vocab, ignore_index = True)\n",
        "assignment_result_table"
      ],
      "metadata": {
        "id": "-CYHWkF_yXpK"
      },
      "execution_count": null,
      "outputs": []
    },
    {
      "cell_type": "markdown",
      "source": [
        "## Experiment A c\n",
        "(c) Output sequence length: Use the default VERSUS set it to a fixed number"
      ],
      "metadata": {
        "id": "mvNHiJVk8-2h"
      }
    },
    {
      "cell_type": "markdown",
      "source": [
        "### Output sequence length"
      ],
      "metadata": {
        "id": "ZiMD1a2n9WIo"
      }
    },
    {
      "cell_type": "code",
      "source": [
        "def get_encoder_with_seq_length(VOCAB_SIZE, SEQ_LENGTH):\n",
        "  encoder = tf.keras.layers.experimental.preprocessing.TextVectorization(max_tokens=VOCAB_SIZE, output_sequence_length=SEQ_LENGTH)\n",
        "  encoder.adapt(train_dataset.map(lambda text, label: text))\n",
        "  return encoder"
      ],
      "metadata": {
        "id": "P2uV8KAw9K_m"
      },
      "execution_count": 57,
      "outputs": []
    },
    {
      "cell_type": "code",
      "source": [
        "VOCAB_SIZE = 1000\n",
        "EPOCH_SIZE = 200\n",
        "SEQ_LENGTH = 50 \n",
        "encoder1000_50 = get_encoder_with_seq_length(VOCAB_SIZE, SEQ_LENGTH)"
      ],
      "metadata": {
        "id": "u2B4edun-gFB"
      },
      "execution_count": 58,
      "outputs": []
    },
    {
      "cell_type": "code",
      "source": [
        "corpus1000_50, doc_sizes1000_50 = explore_vocab(train_dataset,encoder1000_50)"
      ],
      "metadata": {
        "id": "QujSio0h_DpE"
      },
      "execution_count": 59,
      "outputs": []
    },
    {
      "cell_type": "code",
      "source": [
        "vocab1000_50 = np.array(encoder1000_50.get_vocabulary())\n",
        "num_vocab_words_in_corpus =len(vocab1000_50)\n",
        "\n",
        "num_words =len(corpus1000_50)\n",
        "num_articles =len(doc_sizes1000_50)\n",
        "min_token_in_a_article = min(doc_sizes1000_50)\n",
        "max_token_in_a_article = max(doc_sizes1000_50)  \n",
        "\n",
        "print(num_vocab_words_in_corpus)\n",
        "print(num_words)\n",
        "print(num_articles)\n",
        "print(min_token_in_a_article)\n",
        "print(max_token_in_a_article)\n",
        "\n",
        "\"\"\"\n",
        "plt.figure(figsize=(15,9))\n",
        "plt.hist(doc_sizes1000_50, bins=20,range = (0,120))\n",
        "plt.xlabel(\"Tokens Per Document\")\n",
        "plt.ylabel(\"Number of AG News Articles\")\n",
        "\"\"\""
      ],
      "metadata": {
        "id": "qSXBZ1iF_JQs",
        "outputId": "d93d814f-7726-40e4-97c7-91aec7ed3d19",
        "colab": {
          "base_uri": "https://localhost:8080/",
          "height": 140
        }
      },
      "execution_count": 60,
      "outputs": [
        {
          "output_type": "stream",
          "name": "stdout",
          "text": [
            "1000\n",
            "114000\n",
            "1782\n",
            "16\n",
            "64\n"
          ]
        },
        {
          "output_type": "execute_result",
          "data": {
            "application/vnd.google.colaboratory.intrinsic+json": {
              "type": "string"
            },
            "text/plain": [
              "'\\nplt.figure(figsize=(15,9))\\nplt.hist(doc_sizes1000_50, bins=20,range = (0,120))\\nplt.xlabel(\"Tokens Per Document\")\\nplt.ylabel(\"Number of AG News Articles\")\\n'"
            ]
          },
          "metadata": {},
          "execution_count": 60
        }
      ]
    },
    {
      "cell_type": "code",
      "source": [
        "RNN1000_50 = creat_model(encoder1000_50)\n",
        "result1000_50 = compile_train_model(RNN1000_50, 200)"
      ],
      "metadata": {
        "id": "-WePjs9wAsS6",
        "outputId": "11c22c48-6342-4128-eac5-0c9fcdd5cbf9",
        "colab": {
          "base_uri": "https://localhost:8080/",
          "height": 777
        }
      },
      "execution_count": 62,
      "outputs": [
        {
          "output_type": "stream",
          "name": "stdout",
          "text": [
            "1782/1782 [==============================] - 210s 113ms/step - loss: 0.7133 - accuracy: 0.7216 - val_loss: 0.4621 - val_accuracy: 0.8455\n",
            "119/119 [==============================] - 4s 30ms/step - loss: 0.4801 - accuracy: 0.8341\n",
            "test set accuracy:  83.40789675712585\n"
          ]
        },
        {
          "output_type": "stream",
          "name": "stderr",
          "text": [
            "/usr/local/lib/python3.7/dist-packages/ipykernel_launcher.py:37: SettingWithCopyWarning: \n",
            "A value is trying to be set on a copy of a slice from a DataFrame.\n",
            "Try using .loc[row_indexer,col_indexer] = value instead\n",
            "\n",
            "See the caveats in the documentation: https://pandas.pydata.org/pandas-docs/stable/user_guide/indexing.html#returning-a-view-versus-a-copy\n",
            "/usr/local/lib/python3.7/dist-packages/ipykernel_launcher.py:38: SettingWithCopyWarning: \n",
            "A value is trying to be set on a copy of a slice from a DataFrame.\n",
            "Try using .loc[row_indexer,col_indexer] = value instead\n",
            "\n",
            "See the caveats in the documentation: https://pandas.pydata.org/pandas-docs/stable/user_guide/indexing.html#returning-a-view-versus-a-copy\n",
            "/usr/local/lib/python3.7/dist-packages/ipykernel_launcher.py:39: SettingWithCopyWarning: \n",
            "A value is trying to be set on a copy of a slice from a DataFrame.\n",
            "Try using .loc[row_indexer,col_indexer] = value instead\n",
            "\n",
            "See the caveats in the documentation: https://pandas.pydata.org/pandas-docs/stable/user_guide/indexing.html#returning-a-view-versus-a-copy\n",
            "/usr/local/lib/python3.7/dist-packages/ipykernel_launcher.py:40: SettingWithCopyWarning: \n",
            "A value is trying to be set on a copy of a slice from a DataFrame.\n",
            "Try using .loc[row_indexer,col_indexer] = value instead\n",
            "\n",
            "See the caveats in the documentation: https://pandas.pydata.org/pandas-docs/stable/user_guide/indexing.html#returning-a-view-versus-a-copy\n",
            "/usr/local/lib/python3.7/dist-packages/ipykernel_launcher.py:41: SettingWithCopyWarning: \n",
            "A value is trying to be set on a copy of a slice from a DataFrame.\n",
            "Try using .loc[row_indexer,col_indexer] = value instead\n",
            "\n",
            "See the caveats in the documentation: https://pandas.pydata.org/pandas-docs/stable/user_guide/indexing.html#returning-a-view-versus-a-copy\n"
          ]
        },
        {
          "output_type": "display_data",
          "data": {
            "image/png": "[encoded data removed]",
            "text/plain": [
              "<Figure size 1152x288 with 2 Axes>"
            ]
          },
          "metadata": {
            "needs_background": "light"
          }
        }
      ]
    },
    {
      "cell_type": "code",
      "source": [
        "result1000_50['vocab_size'] = VOCAB_SIZE \n",
        "result1000_50['num_words'] = num_words \n",
        "result1000_50['num_articles'] = num_articles\n",
        "result1000_50['min_token_in_a_article'] = min_token_in_a_article \n",
        "result1000_50['max_token_in_a_article'] = max_token_in_a_article \n",
        "new_col = ['RNN with 1000 vocab size 50 output sequence length']   \n",
        "result1000_50.insert(loc=0, column='Model', value=new_col)\n",
        "#result1000_50"
      ],
      "metadata": {
        "id": "39O-eWVcAv68",
        "outputId": "b0f7fcba-685b-4a96-898e-95c29182be85",
        "colab": {
          "base_uri": "https://localhost:8080/",
          "height": 246
        }
      },
      "execution_count": 63,
      "outputs": [
        {
          "output_type": "execute_result",
          "data": {
            "text/html": [
              "\n",
              "  <div id=\"df-abff8442-631d-45da-ae0d-a0ca6c63e283\">\n",
              "    <div class=\"colab-df-container\">\n",
              "      <div>\n",
              "<style scoped>\n",
              "    .dataframe tbody tr th:only-of-type {\n",
              "        vertical-align: middle;\n",
              "    }\n",
              "\n",
              "    .dataframe tbody tr th {\n",
              "        vertical-align: top;\n",
              "    }\n",
              "\n",
              "    .dataframe thead th {\n",
              "        text-align: right;\n",
              "    }\n",
              "</style>\n",
              "<table border=\"1\" class=\"dataframe\">\n",
              "  <thead>\n",
              "    <tr style=\"text-align: right;\">\n",
              "      <th></th>\n",
              "      <th>Model</th>\n",
              "      <th>loss</th>\n",
              "      <th>accuracy</th>\n",
              "      <th>val_loss</th>\n",
              "      <th>val_accuracy</th>\n",
              "      <th>test_loss</th>\n",
              "      <th>test_accuracy</th>\n",
              "      <th>process_time</th>\n",
              "      <th>epochs_setting</th>\n",
              "      <th>epochs_actual</th>\n",
              "      <th>vocab_size</th>\n",
              "      <th>num_words</th>\n",
              "      <th>num_articles</th>\n",
              "      <th>min_token_in_a_article</th>\n",
              "      <th>max_token_in_a_article</th>\n",
              "    </tr>\n",
              "  </thead>\n",
              "  <tbody>\n",
              "    <tr>\n",
              "      <th>0</th>\n",
              "      <td>RNN with 1000 vocab size 50 output sequence le...</td>\n",
              "      <td>0.713262</td>\n",
              "      <td>0.721588</td>\n",
              "      <td>0.462067</td>\n",
              "      <td>0.8455</td>\n",
              "      <td>0.480138</td>\n",
              "      <td>0.834079</td>\n",
              "      <td>274.729986</td>\n",
              "      <td>1</td>\n",
              "      <td>1</td>\n",
              "      <td>1000</td>\n",
              "      <td>114000</td>\n",
              "      <td>1782</td>\n",
              "      <td>16</td>\n",
              "      <td>64</td>\n",
              "    </tr>\n",
              "  </tbody>\n",
              "</table>\n",
              "</div>\n",
              "      <button class=\"colab-df-convert\" onclick=\"convertToInteractive('df-abff8442-631d-45da-ae0d-a0ca6c63e283')\"\n",
              "              title=\"Convert this dataframe to an interactive table.\"\n",
              "              style=\"display:none;\">\n",
              "        \n",
              "  <svg xmlns=\"http://www.w3.org/2000/svg\" height=\"24px\"viewBox=\"0 0 24 24\"\n",
              "       width=\"24px\">\n",
              "    <path d=\"M0 0h24v24H0V0z\" fill=\"none\"/>\n",
              "    <path d=\"M18.56 5.44l.94 2.06.94-2.06 2.06-.94-2.06-.94-.94-2.06-.94 2.06-2.06.94zm-11 1L8.5 8.5l.94-2.06 2.06-.94-2.06-.94L8.5 2.5l-.94 2.06-2.06.94zm10 10l.94 2.06.94-2.06 2.06-.94-2.06-.94-.94-2.06-.94 2.06-2.06.94z\"/><path d=\"M17.41 7.96l-1.37-1.37c-.4-.4-.92-.59-1.43-.59-.52 0-1.04.2-1.43.59L10.3 9.45l-7.72 7.72c-.78.78-.78 2.05 0 2.83L4 21.41c.39.39.9.59 1.41.59.51 0 1.02-.2 1.41-.59l7.78-7.78 2.81-2.81c.8-.78.8-2.07 0-2.86zM5.41 20L4 18.59l7.72-7.72 1.47 1.35L5.41 20z\"/>\n",
              "  </svg>\n",
              "      </button>\n",
              "      \n",
              "  <style>\n",
              "    .colab-df-container {\n",
              "      display:flex;\n",
              "      flex-wrap:wrap;\n",
              "      gap: 12px;\n",
              "    }\n",
              "\n",
              "    .colab-df-convert {\n",
              "      background-color: #E8F0FE;\n",
              "      border: none;\n",
              "      border-radius: 50%;\n",
              "      cursor: pointer;\n",
              "      display: none;\n",
              "      fill: #1967D2;\n",
              "      height: 32px;\n",
              "      padding: 0 0 0 0;\n",
              "      width: 32px;\n",
              "    }\n",
              "\n",
              "    .colab-df-convert:hover {\n",
              "      background-color: #E2EBFA;\n",
              "      box-shadow: 0px 1px 2px rgba(60, 64, 67, 0.3), 0px 1px 3px 1px rgba(60, 64, 67, 0.15);\n",
              "      fill: #174EA6;\n",
              "    }\n",
              "\n",
              "    [theme=dark] .colab-df-convert {\n",
              "      background-color: #3B4455;\n",
              "      fill: #D2E3FC;\n",
              "    }\n",
              "\n",
              "    [theme=dark] .colab-df-convert:hover {\n",
              "      background-color: #434B5C;\n",
              "      box-shadow: 0px 1px 3px 1px rgba(0, 0, 0, 0.15);\n",
              "      filter: drop-shadow(0px 1px 2px rgba(0, 0, 0, 0.3));\n",
              "      fill: #FFFFFF;\n",
              "    }\n",
              "  </style>\n",
              "\n",
              "      <script>\n",
              "        const buttonEl =\n",
              "          document.querySelector('#df-abff8442-631d-45da-ae0d-a0ca6c63e283 button.colab-df-convert');\n",
              "        buttonEl.style.display =\n",
              "          google.colab.kernel.accessAllowed ? 'block' : 'none';\n",
              "\n",
              "        async function convertToInteractive(key) {\n",
              "          const element = document.querySelector('#df-abff8442-631d-45da-ae0d-a0ca6c63e283');\n",
              "          const dataTable =\n",
              "            await google.colab.kernel.invokeFunction('convertToInteractive',\n",
              "                                                     [key], {});\n",
              "          if (!dataTable) return;\n",
              "\n",
              "          const docLinkHtml = 'Like what you see? Visit the ' +\n",
              "            '<a target=\"_blank\" href=https://colab.research.google.com/notebooks/data_table.ipynb>data table notebook</a>'\n",
              "            + ' to learn more about interactive tables.';\n",
              "          element.innerHTML = '';\n",
              "          dataTable['output_type'] = 'display_data';\n",
              "          await google.colab.output.renderOutput(dataTable, element);\n",
              "          const docLink = document.createElement('div');\n",
              "          docLink.innerHTML = docLinkHtml;\n",
              "          element.appendChild(docLink);\n",
              "        }\n",
              "      </script>\n",
              "    </div>\n",
              "  </div>\n",
              "  "
            ],
            "text/plain": [
              "                                               Model  ...  max_token_in_a_article\n",
              "0  RNN with 1000 vocab size 50 output sequence le...  ...                      64\n",
              "\n",
              "[1 rows x 15 columns]"
            ]
          },
          "metadata": {},
          "execution_count": 63
        }
      ]
    },
    {
      "cell_type": "code",
      "source": [
        "assignment_result_table = assignment_result_table.append(result1000_50, ignore_index = True)\n",
        "assignment_result_table"
      ],
      "metadata": {
        "id": "ggfq1HyaAy-2"
      },
      "execution_count": null,
      "outputs": []
    },
    {
      "cell_type": "markdown",
      "source": [
        "## Save data"
      ],
      "metadata": {
        "id": "UeZjVGEg5_2K"
      }
    },
    {
      "cell_type": "code",
      "source": [
        "assignment_result_table.to_pickle(\"resultsAa.pkl\") \n",
        "assignment_result_table.to_csv(\"resultsAa.csv\") "
      ],
      "metadata": {
        "id": "NamBFDFZ59Fm",
        "outputId": "58eaeb0d-b503-4f8d-a206-76e19994d1f1",
        "colab": {
          "base_uri": "https://localhost:8080/",
          "height": 184
        }
      },
      "execution_count": 64,
      "outputs": [
        {
          "output_type": "error",
          "ename": "NameError",
          "evalue": "ignored",
          "traceback": [
            "\u001b[0;31m---------------------------------------------------------------------------\u001b[0m",
            "\u001b[0;31mNameError\u001b[0m                                 Traceback (most recent call last)",
            "\u001b[0;32m<ipython-input-64-1ee86c1ebbcb>\u001b[0m in \u001b[0;36m<module>\u001b[0;34m()\u001b[0m\n\u001b[0;32m----> 1\u001b[0;31m \u001b[0massignment_result_table\u001b[0m\u001b[0;34m.\u001b[0m\u001b[0mto_pickle\u001b[0m\u001b[0;34m(\u001b[0m\u001b[0;34m\"resultsAa.pkl\"\u001b[0m\u001b[0;34m)\u001b[0m\u001b[0;34m\u001b[0m\u001b[0;34m\u001b[0m\u001b[0m\n\u001b[0m\u001b[1;32m      2\u001b[0m \u001b[0massignment_result_table\u001b[0m\u001b[0;34m.\u001b[0m\u001b[0mto_csv\u001b[0m\u001b[0;34m(\u001b[0m\u001b[0;34m\"resultsAa.csv\"\u001b[0m\u001b[0;34m)\u001b[0m\u001b[0;34m\u001b[0m\u001b[0;34m\u001b[0m\u001b[0m\n",
            "\u001b[0;31mNameError\u001b[0m: name 'assignment_result_table' is not defined"
          ]
        }
      ]
    },
    {
      "cell_type": "code",
      "source": [
        "#prev_results_df = pd.read_pickle('resultsAa.pkl')\n",
        "#assignment_result_table = prev_results_df.append(assignment_result_table,ignore_index=True)\n",
        "#assignment_result_table"
      ],
      "metadata": {
        "id": "91BlRjfM58PA"
      },
      "execution_count": null,
      "outputs": []
    }
  ]
}