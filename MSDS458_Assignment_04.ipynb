{
  "cells": [
    {
      "cell_type": "markdown",
      "metadata": {
        "id": "view-in-github",
        "colab_type": "text"
      },
      "source": [
        "<a href=\"https://colab.research.google.com/github/xixilili/MSDS_458_Public/blob/master/MSDS458_Assignment_04.ipynb\" target=\"_parent\"><img src=\"https://colab.research.google.com/assets/colab-badge.svg\" alt=\"Open In Colab\"/></a>"
      ]
    },
    {
      "cell_type": "markdown",
      "metadata": {
        "id": "rUJld28CGsGg"
      },
      "source": [
        "# A.4 Fourth Research/Programming Assignment (Deep Learning Option)"
      ]
    },
    {
      "cell_type": "markdown",
      "metadata": {
        "id": "7RA4qIcOQeO2"
      },
      "source": [
        "### Load Package"
      ]
    },
    {
      "cell_type": "code",
      "execution_count": null,
      "metadata": {
        "id": "OFHcHVRZP4kP"
      },
      "outputs": [],
      "source": [
        "from IPython.core.interactiveshell import InteractiveShell\n",
        "InteractiveShell.ast_node_interactivity = \"all\""
      ]
    },
    {
      "cell_type": "code",
      "execution_count": null,
      "metadata": {
        "colab": {
          "base_uri": "https://localhost:8080/"
        },
        "id": "U0TCn7OyI69c",
        "outputId": "5db50a7d-cf25-4f69-8d3c-bfc9b715a526"
      },
      "outputs": [
        {
          "output_type": "stream",
          "name": "stdout",
          "text": [
            "Mounted at /content/gdrive\n"
          ]
        }
      ],
      "source": [
        "from google.colab import drive\n",
        "drive.mount('/content/gdrive')"
      ]
    },
    {
      "cell_type": "code",
      "execution_count": null,
      "metadata": {
        "id": "LEz9jlVtXQoA"
      },
      "outputs": [],
      "source": [
        "import datetime\n",
        "import time\n",
        "import numpy as np\n",
        "import pandas as pd\n",
        "from packaging import version\n",
        "from collections import Counter\n",
        "\n",
        "from sklearn.metrics import confusion_matrix, classification_report\n",
        "from sklearn.metrics import accuracy_score\n",
        "from sklearn.metrics import mean_squared_error as MSE\n",
        "from sklearn.model_selection import train_test_split\n",
        "from sklearn.manifold import TSNE\n",
        "\n",
        "import matplotlib.pyplot as plt\n",
        "import matplotlib as mpl\n",
        "import seaborn as sns\n",
        "\n",
        "import tensorflow as tf\n",
        "from tensorflow import keras\n",
        "from tensorflow.keras import models, layers\n",
        "from tensorflow.keras.models import Sequential\n",
        "from tensorflow.keras.layers import Conv2D, MaxPool2D, BatchNormalization, Dropout, Flatten, Input, Dense\n",
        "from tensorflow.keras.callbacks import ModelCheckpoint, EarlyStopping\n",
        "from tensorflow.keras.preprocessing import image\n",
        "from tensorflow.keras.utils import to_categorical"
      ]
    },
    {
      "cell_type": "markdown",
      "metadata": {
        "id": "AFxVrYAQQizg"
      },
      "source": [
        "### Load data\n",
        "\n",
        "explore number class 1/0\n",
        "https://www.kaggle.com/yasinsoylu123/cancer-detection-cnn \n",
        "\n",
        "load and process data\n",
        "https://www.kaggle.com/mohamedhanyyy/breast-cancer-image-classification-for-beginners "
      ]
    },
    {
      "cell_type": "code",
      "execution_count": null,
      "metadata": {
        "colab": {
          "base_uri": "https://localhost:8080/"
        },
        "id": "81jXzmiIPPGe",
        "outputId": "0afa0676-8392-47aa-efc2-e0aa2a5bd07b"
      },
      "outputs": [
        {
          "output_type": "stream",
          "name": "stdout",
          "text": [
            "/content/gdrive/My Drive/Colab Notebooks/IDC_regular_ps50_idx5/9036/0/9036_idx5_x1701_y2451_class0.png\n",
            "/content/gdrive/My Drive/Colab Notebooks/IDC_regular_ps50_idx5/9036/0/9036_idx5_x1751_y851_class0.png\n",
            "/content/gdrive/My Drive/Colab Notebooks/IDC_regular_ps50_idx5/9036/0/9036_idx5_x1751_y2251_class0.png\n",
            "/content/gdrive/My Drive/Colab Notebooks/IDC_regular_ps50_idx5/9036/0/9036_idx5_x1201_y1551_class0.png\n",
            "/content/gdrive/My Drive/Colab Notebooks/IDC_regular_ps50_idx5/9036/0/9036_idx5_x1801_y101_class0.png\n",
            "/content/gdrive/My Drive/Colab Notebooks/IDC_regular_ps50_idx5/9036/0/9036_idx5_x1551_y2101_class0.png\n",
            "/content/gdrive/My Drive/Colab Notebooks/IDC_regular_ps50_idx5/9036/0/9036_idx5_x1901_y1701_class0.png\n",
            "/content/gdrive/My Drive/Colab Notebooks/IDC_regular_ps50_idx5/9036/0/9036_idx5_x1701_y601_class0.png\n",
            "/content/gdrive/My Drive/Colab Notebooks/IDC_regular_ps50_idx5/9036/0/9036_idx5_x1551_y1051_class0.png\n",
            "/content/gdrive/My Drive/Colab Notebooks/IDC_regular_ps50_idx5/9036/0/9036_idx5_x1101_y1551_class0.png\n"
          ]
        }
      ],
      "source": [
        "from glob import glob\n",
        "\n",
        "imagePatches = glob('/content/gdrive/My Drive/Colab Notebooks/IDC_regular_ps50_idx5/**/*.png', recursive=True)\n",
        "for filename in imagePatches[0:10]:\n",
        "    print(filename)"
      ]
    },
    {
      "cell_type": "code",
      "execution_count": null,
      "metadata": {
        "id": "d4M8-wxVPjR0"
      },
      "outputs": [],
      "source": [
        "# Two arrays holding images by class type\n",
        "\n",
        "class0 = [] # 0 = no cancer\n",
        "class1 = [] # 1 = cancer\n",
        "\n",
        "for filename in imagePatches:\n",
        "    if filename.endswith(\"class0.png\"):\n",
        "         class0.append(filename)\n",
        "    else:\n",
        "        class1.append(filename)"
      ]
    },
    {
      "cell_type": "code",
      "execution_count": null,
      "metadata": {
        "colab": {
          "base_uri": "https://localhost:8080/"
        },
        "id": "LPqEnakFPoYN",
        "outputId": "bea2dcfc-e8b0-417d-f699-c649606af0f9"
      },
      "outputs": [
        {
          "output_type": "stream",
          "name": "stdout",
          "text": [
            "198738\n",
            "78807\n"
          ]
        }
      ],
      "source": [
        "print(len(class0))\n",
        "print(len(class1))\n",
        "#198738, 78786"
      ]
    },
    {
      "cell_type": "code",
      "execution_count": null,
      "metadata": {
        "id": "EtXRWmifQU3F"
      },
      "outputs": [],
      "source": [
        "#import random\n",
        "#sampled_class0 = random.sample(class0, 78807)\n",
        "#sampled_class1 = random.sample(class1, 78807)\n",
        "#len(sampled_class0)"
      ]
    },
    {
      "cell_type": "code",
      "execution_count": null,
      "metadata": {
        "colab": {
          "base_uri": "https://localhost:8080/",
          "height": 285
        },
        "id": "Kac6-tOHS8r-",
        "outputId": "220d7f21-9e6a-48fe-932c-219ceab1271c"
      },
      "outputs": [
        {
          "output_type": "execute_result",
          "data": {
            "text/plain": [
              "<matplotlib.image.AxesImage at 0x7fab0a1813d0>"
            ]
          },
          "metadata": {},
          "execution_count": 11
        },
        {
          "output_type": "display_data",
          "data": {
            "image/png": "[encoded data removed]",
            "text/plain": [
              "<Figure size 432x288 with 1 Axes>"
            ]
          },
          "metadata": {
            "needs_background": "light"
          }
        }
      ],
      "source": [
        "import cv2\n",
        "import matplotlib.pyplot as plt\n",
        "for i in imagePatches[:1]:\n",
        "    img=cv2.imread(i)\n",
        "    img_1=cv2.resize(img,(100,100))\n",
        "    plt.imshow(img_1,cmap='binary')\n",
        "    plt.show()"
      ]
    },
    {
      "cell_type": "code",
      "execution_count": null,
      "metadata": {
        "id": "zTUOf0eMUKkT"
      },
      "outputs": [],
      "source": [
        "images=[]\n",
        "labels=[]\n",
        "for i in imagePatches[:15000]:  #use the first 15000 \n",
        "    if i.endswith('.png'):\n",
        "        label=int(i[-5])  #fifth letter from the right\n",
        "        img=cv2.imread(i)\n",
        "        img_1=cv2.resize(img,(100,100))\n",
        "        images.append(img_1)\n",
        "        labels.append(label)"
      ]
    },
    {
      "cell_type": "code",
      "source": [
        "class0 =[]\n",
        "class1 =[]\n",
        "other = []\n",
        "for y in labels:\n",
        "    if y==0:\n",
        "      class0.append(y)\n",
        "    if y==1:\n",
        "      class1.append(y)\n",
        "    else:\n",
        "       other.append(y) \n",
        "print(len(class0))      \n",
        "print(len(class1))    "
      ],
      "metadata": {
        "colab": {
          "base_uri": "https://localhost:8080/"
        },
        "id": "WqLz0pLwsa14",
        "outputId": "feae56bd-808b-430a-e274-033d4e5f270e"
      },
      "execution_count": null,
      "outputs": [
        {
          "output_type": "stream",
          "name": "stdout",
          "text": [
            "11815\n",
            "3185\n"
          ]
        }
      ]
    },
    {
      "cell_type": "code",
      "execution_count": null,
      "metadata": {
        "id": "0Ckb8hCUII4X"
      },
      "outputs": [],
      "source": [
        "\"\"\"\n",
        "for i in imagePatches[-1500:]:  #use the last 15000 [262545:]\n",
        "    if i.endswith(\"class0.png\"):\n",
        "        label=int(i[-5])  #fifth letter from the right\n",
        "        img=cv2.imread(i)\n",
        "        img_1=cv2.resize(img,(100,100))\n",
        "        images.append(img_1)\n",
        "        labels.append(label)"
      ]
    },
    {
      "cell_type": "code",
      "execution_count": null,
      "metadata": {
        "id": "5UYQqiwITsJE"
      },
      "outputs": [],
      "source": [
        "import pickle\n",
        "with open('/content/gdrive/My Drive/Colab Notebooks/file_images.pkl', 'wb') as file:     \n",
        "  pickle.dump(images, file)\n",
        "\n",
        "with open('/content/gdrive/My Drive/Colab Notebooks/file_labels.pkl', 'wb') as file:     \n",
        "  pickle.dump(labels, file)    "
      ]
    },
    {
      "cell_type": "code",
      "execution_count": null,
      "metadata": {
        "id": "CiJ0EXStKsSd",
        "colab": {
          "base_uri": "https://localhost:8080/",
          "height": 72
        },
        "outputId": "9da86b51-eb50-4a91-b96e-bdf904077a77"
      },
      "outputs": [
        {
          "output_type": "execute_result",
          "data": {
            "application/vnd.google.colaboratory.intrinsic+json": {
              "type": "string"
            },
            "text/plain": [
              "\"\\n# load imaging and label data\\nimport pickle\\n\\nwith open('/content/gdrive/My Drive/Colab Notebooks/file_images.pkl', 'rb') as file:     \\n    images = pickle.load(file)\\n\\nwith open('/content/gdrive/My Drive/Colab Notebooks/file_labels.pkl', 'rb') as file:     \\n    labels = pickle.load(file)    \\n\""
            ]
          },
          "metadata": {},
          "execution_count": 18
        }
      ],
      "source": [
        "\"\"\"\n",
        "# load imaging and label data\n",
        "import pickle\n",
        "\n",
        "with open('/content/gdrive/My Drive/Colab Notebooks/file_images.pkl', 'rb') as file:     \n",
        "    images = pickle.load(file)\n",
        "\n",
        "with open('/content/gdrive/My Drive/Colab Notebooks/file_labels.pkl', 'rb') as file:     \n",
        "    labels = pickle.load(file)    \n",
        "\"\"\"    "
      ]
    },
    {
      "cell_type": "code",
      "execution_count": null,
      "metadata": {
        "colab": {
          "base_uri": "https://localhost:8080/"
        },
        "id": "jadubWMP4scW",
        "outputId": "1fad3dc6-e059-4e93-ccc8-a23ade71b808"
      },
      "outputs": [
        {
          "output_type": "stream",
          "name": "stdout",
          "text": [
            "15000\n",
            "15000\n"
          ]
        }
      ],
      "source": [
        "print(len(images))\n",
        "print(len(labels))"
      ]
    },
    {
      "cell_type": "code",
      "execution_count": null,
      "metadata": {
        "colab": {
          "base_uri": "https://localhost:8080/"
        },
        "id": "BKbAJJjo46jB",
        "outputId": "c35f0c87-42f9-4b40-eb64-014cd7e15647"
      },
      "outputs": [
        {
          "output_type": "stream",
          "name": "stdout",
          "text": [
            "11815\n",
            "3185\n"
          ]
        }
      ],
      "source": [
        "class0 =[]\n",
        "class1 =[]\n",
        "other = []\n",
        "for y in labels:\n",
        "    if y==0:\n",
        "      class0.append(y)\n",
        "    if y==1:\n",
        "      class1.append(y)\n",
        "    else:\n",
        "       other.append(y) \n",
        "print(len(class0))      \n",
        "print(len(class1))    "
      ]
    },
    {
      "cell_type": "markdown",
      "metadata": {
        "id": "9mQmXCGmVvMY"
      },
      "source": [
        "### Split dataset"
      ]
    },
    {
      "cell_type": "code",
      "execution_count": null,
      "metadata": {
        "id": "GHin2sKwVb_H"
      },
      "outputs": [],
      "source": [
        "# normalize input data\n",
        "x=np.stack(images)\n",
        "x=x/255 "
      ]
    },
    {
      "cell_type": "code",
      "execution_count": null,
      "metadata": {
        "id": "Vfoiu83lVuoA"
      },
      "outputs": [],
      "source": [
        "from sklearn.model_selection import train_test_split\n",
        "x_train,x_test,y_train,y_test=train_test_split(x,labels,random_state=0,test_size=0.2)\n",
        "x_train_split,x_validate_split,y_train_split,y_validate_split=train_test_split(x_train,y_train,random_state=0,test_size=0.2)"
      ]
    },
    {
      "cell_type": "code",
      "source": [
        "\"\"\"\n",
        "import pickle\n",
        "with open('file_x_train_split.pkl', 'wb') as file:     \n",
        "  pickle.dump(x_train_split, file)\n",
        "\n",
        "with open('file_y_train_split.pkl', 'wb') as file:     \n",
        "  pickle.dump(y_train_split, file)   \n",
        "\n",
        "with open('file_x_validate_split.pkl', 'wb') as file:     \n",
        "  pickle.dump(x_validate_split, file)   \n",
        "\n",
        "with open('file_y_validate_split.pkl', 'wb') as file:     \n",
        "  pickle.dump(y_validate_split, file)  \n",
        "\n",
        "with open('file_x_test.pkl', 'wb') as file:     \n",
        "  pickle.dump(x_test, file)   \n",
        "\n",
        "with open('file_y_test.pkl', 'wb') as file:     \n",
        "  pickle.dump(y_test, file)  \n",
        "\"\"\"  "
      ],
      "metadata": {
        "id": "z8XUi-HODvVW"
      },
      "execution_count": null,
      "outputs": []
    },
    {
      "cell_type": "code",
      "source": [
        "\"\"\"\n",
        "# alternate way to split dataset\n",
        "x_train = x[:int(len(x)*.8)]\n",
        "y_train = labels[:int(len(labels)*.8)]\n",
        "x_test = x[int(len(x)*.8):]\n",
        "y_test = labels[int(len(labels)*.8):]\n",
        "\n",
        "x_train_split = x_train[:int(len(x_train)*.8)]\n",
        "y_train_split = y_train[:int(len(y_train)*.8)]\n",
        "x_validate_split = x_train[int(len(x_train)*.8):]\n",
        "y_validate_split = y_train[int(len(y_train)*.8):]\n",
        "\"\"\""
      ],
      "metadata": {
        "id": "OM0k8kGGlBKd"
      },
      "execution_count": null,
      "outputs": []
    },
    {
      "cell_type": "code",
      "source": [
        "# load train validate and test data set\n",
        "import pickle\n",
        "\n",
        "with open('/content/gdrive/My Drive/Colab Notebooks/file_x_train_split.pkl', 'rb') as file:     \n",
        "    x_train_split = pickle.load(file)\n",
        "\n",
        "with open('/content/gdrive/My Drive/Colab Notebooks/file_y_train_split.pkl', 'rb') as file:     \n",
        "    y_train_split = pickle.load(file)   \n",
        "\n",
        "with open('/content/gdrive/My Drive/Colab Notebooks/file_x_validate_split.pkl', 'rb') as file:     \n",
        "    x_validate_split = pickle.load(file)\n",
        "\n",
        "with open('/content/gdrive/My Drive/Colab Notebooks/file_y_validate_split.pkl', 'rb') as file:     \n",
        "    y_validate_split = pickle.load(file)  \n",
        "\n",
        "with open('/content/gdrive/My Drive/Colab Notebooks/file_x_test.pkl', 'rb') as file:     \n",
        "    x_test = pickle.load(file)\n",
        "\n",
        "with open('/content/gdrive/My Drive/Colab Notebooks/file_y_test.pkl', 'rb') as file:     \n",
        "    y_test = pickle.load(file)  \n"
      ],
      "metadata": {
        "id": "3-61gIlpDnx8"
      },
      "execution_count": null,
      "outputs": []
    },
    {
      "cell_type": "code",
      "execution_count": null,
      "metadata": {
        "id": "HVbkZ1lqPczF"
      },
      "outputs": [],
      "source": [
        "# one-hot code labels\n",
        "from tensorflow.keras.utils import to_categorical\n",
        "\n",
        "#y=to_categorical(labels)\n",
        "y_train_split_onehot = to_categorical(y_train_split)\n",
        "y_validate_split_onehot = to_categorical(y_validate_split)\n",
        "y_test_onehot = to_categorical(y_test)"
      ]
    },
    {
      "cell_type": "code",
      "execution_count": null,
      "metadata": {
        "colab": {
          "base_uri": "https://localhost:8080/"
        },
        "id": "fStzIEo7WHib",
        "outputId": "9ea8285c-a900-4eb9-9056-f0d34d1a3855"
      },
      "outputs": [
        {
          "output_type": "stream",
          "name": "stdout",
          "text": [
            "(9600, 100, 100, 3) (2400, 100, 100, 3) (3000, 100, 100, 3)\n"
          ]
        }
      ],
      "source": [
        "print(x_train_split.shape, x_validate_split.shape, x_test.shape)"
      ]
    },
    {
      "cell_type": "code",
      "execution_count": null,
      "metadata": {
        "colab": {
          "base_uri": "https://localhost:8080/"
        },
        "id": "74zcTmsPYzvG",
        "outputId": "c55ec362-b378-46aa-fe60-31883d7b9000"
      },
      "outputs": [
        {
          "output_type": "stream",
          "name": "stdout",
          "text": [
            "(9600, 2) (2400, 2) (3000, 2)\n"
          ]
        }
      ],
      "source": [
        "print(y_train_split_onehot.shape, y_validate_split_onehot.shape, y_test_onehot.shape)"
      ]
    },
    {
      "cell_type": "code",
      "execution_count": null,
      "metadata": {
        "colab": {
          "base_uri": "https://localhost:8080/"
        },
        "id": "jqZOLEXJnpl5",
        "outputId": "8dcf9dc0-6ceb-4156-f905-16ea2e9ea7de"
      },
      "outputs": [
        {
          "output_type": "stream",
          "name": "stdout",
          "text": [
            "7559\n",
            "2041\n"
          ]
        }
      ],
      "source": [
        "class0 =[]\n",
        "class1 =[]\n",
        "for y in y_train_split:\n",
        "    if y==0:\n",
        "      class0.append(y)\n",
        "    else:\n",
        "      class1.append(y)\n",
        "print(len(class0))      \n",
        "print(len(class1))    "
      ]
    },
    {
      "cell_type": "code",
      "execution_count": null,
      "metadata": {
        "colab": {
          "base_uri": "https://localhost:8080/"
        },
        "id": "00Sd_pstoXsF",
        "outputId": "b2492d84-61bb-46b5-a5a8-3e8f479f70d4"
      },
      "outputs": [
        {
          "output_type": "stream",
          "name": "stdout",
          "text": [
            "1887\n",
            "513\n"
          ]
        }
      ],
      "source": [
        "class0 =[]\n",
        "class1 =[]\n",
        "for y in y_validate_split:\n",
        "    if y==0:\n",
        "      class0.append(y)\n",
        "    else:\n",
        "      class1.append(y)\n",
        "print(len(class0))      \n",
        "print(len(class1))    "
      ]
    },
    {
      "cell_type": "code",
      "execution_count": null,
      "metadata": {
        "colab": {
          "base_uri": "https://localhost:8080/"
        },
        "id": "xLj6bRzOoYLv",
        "outputId": "db368761-fb9f-45ad-993b-5e87672adf21"
      },
      "outputs": [
        {
          "output_type": "stream",
          "name": "stdout",
          "text": [
            "2369\n",
            "631\n"
          ]
        }
      ],
      "source": [
        "class0 =[]\n",
        "class1 =[]\n",
        "for y in y_test:\n",
        "    if y==0:\n",
        "      class0.append(y)\n",
        "    else:\n",
        "      class1.append(y)\n",
        "print(len(class0))      \n",
        "print(len(class1))    "
      ]
    },
    {
      "cell_type": "markdown",
      "metadata": {
        "id": "p7PtUGyZXiFl"
      },
      "source": [
        "### Functions"
      ]
    },
    {
      "cell_type": "code",
      "execution_count": null,
      "metadata": {
        "id": "RjzHT_4qYEOH"
      },
      "outputs": [],
      "source": [
        "def namestr(obj, namespace):\n",
        "  for name in namespace:\n",
        "    if namespace[name] is obj:\n",
        "      return name"
      ]
    },
    {
      "cell_type": "code",
      "execution_count": null,
      "metadata": {
        "id": "UHZ9DNWNYPyn"
      },
      "outputs": [],
      "source": [
        "def print_validation_report(y_test, predictions):\n",
        "    print(\"Classification Report\")\n",
        "    print(classification_report(y_test, predictions))\n",
        "    print('Accuracy Score: {}'.format(accuracy_score(y_test, predictions)))\n",
        "    print('Root Mean Square Error: {}'.format(np.sqrt(MSE(y_test, predictions)))) "
      ]
    },
    {
      "cell_type": "code",
      "execution_count": null,
      "metadata": {
        "id": "-plARHkUYTFs"
      },
      "outputs": [],
      "source": [
        "def plot_confusion_matrix(y_true, y_pred):\n",
        "    mtx = confusion_matrix(y_true, y_pred)\n",
        "    fig, ax = plt.subplots(figsize=(8,8))\n",
        "    sns.heatmap(mtx, annot=True, fmt='d', linewidths=.75,  cbar=False, ax=ax,cmap='Blues',linecolor='white')\n",
        "    #  square=True,\n",
        "    plt.ylabel('true label')\n",
        "    plt.xlabel('predicted label')"
      ]
    },
    {
      "cell_type": "code",
      "execution_count": null,
      "metadata": {
        "id": "IEbzfGJHXgsK"
      },
      "outputs": [],
      "source": [
        "import datetime as dt\n",
        "\n",
        "def compile_train_plot_model(model, epoch, batch):\n",
        "  #plot model\n",
        "  keras.utils.plot_model(model, \"CIFAR10.png\", show_shapes=True) \n",
        "\n",
        "  #compile model\n",
        "  model.compile(optimizer='adam',\n",
        "                loss='categorical_crossentropy',\n",
        "                metrics=['accuracy'])\n",
        "\n",
        "  start_datetime = dt.datetime.now()\n",
        "\n",
        "  #train model\n",
        "  history = model.fit(x_train_split\n",
        "                      ,y_train_split_onehot\n",
        "                      ,epochs=epoch\n",
        "                      ,batch_size=batch\n",
        "                      ,validation_data=(x_validate_split, y_validate_split_onehot)\n",
        "                      #,callbacks=[\n",
        "                      #tf.keras.callbacks.EarlyStopping(monitor='val_accuracy', patience=3),\n",
        "                      #tf.keras.callbacks.ModelCheckpoint('/content/gdrive/My Drive/Colab Notebooks/models/model_{val_accuracy:.4f}.h5', save_best_only=True,\n",
        "                      #                    save_weights_only=False, monitor='val_accuracy')]                                                                                                           \n",
        "                    )\n",
        "\n",
        "  #evaluate model\n",
        "  loss, accuracy = model.evaluate(x_test, y_test_onehot)\n",
        "  print('test set accuracy: ', accuracy * 100)\n",
        "\n",
        "  #predict model\n",
        "  preds = model.predict(x_test)\n",
        "\n",
        "  runtime = (dt.datetime.now() - start_datetime).total_seconds()\n",
        "\n",
        "  #training and validation performance metrix\n",
        "  history_dict = history.history\n",
        "  history_df=pd.DataFrame(history_dict)\n",
        "\n",
        "  result = history_df.tail(1)\n",
        "  result['test_loss'] = loss\n",
        "  result['test_accuracy'] = accuracy\n",
        "  result['process_time'] = runtime\n",
        "  result['epochs'] = epoch  \n",
        "  result['batch_size'] = batch    \n",
        "\n",
        "  losses = history.history['loss']\n",
        "  accs = history.history['accuracy']\n",
        "  val_losses = history.history['val_loss']\n",
        "  val_accs = history.history['val_accuracy']\n",
        "  epochs = len(losses)\n",
        "\n",
        "  #loss and accuracy for training and validation data\n",
        "  plt.figure(figsize=(16, 4))\n",
        "  for i, metrics in enumerate(zip([losses, accs], [val_losses, val_accs], ['Loss', 'Accuracy'])):\n",
        "      plt.subplot(1, 2, i + 1)\n",
        "      plt.plot(range(epochs), metrics[0], label='Training {}'.format(metrics[2]))\n",
        "      plt.plot(range(epochs), metrics[1], label='Validation {}'.format(metrics[2]))\n",
        "      plt.legend()\n",
        "      plt.title('{0} with {1} epochs and {2} batch size'.format(namestr(model, globals()), epoch, batch))          \n",
        "  plt.show()                        \n",
        "\n",
        "  #confuison matrix\n",
        "  pred1= model.predict(x_test)\n",
        "  pred1=np.argmax(pred1, axis=1)\n",
        "  print_validation_report(y_test, pred1)\n",
        "  plot_confusion_matrix(y_test,pred1)\n",
        "\n",
        "  return result"
      ]
    },
    {
      "cell_type": "code",
      "source": [
        "import datetime as dt\n",
        "\n",
        "def compile_train_model_with_reg(model, epoch, batch):\n",
        "  #plot model\n",
        "  keras.utils.plot_model(model, \"CIFAR10.png\", show_shapes=True) \n",
        "\n",
        "  #compile model\n",
        "  model.compile(optimizer='adam',\n",
        "                loss='categorical_crossentropy',\n",
        "                metrics=['accuracy'])\n",
        "\n",
        "  start_datetime = dt.datetime.now()\n",
        "\n",
        "  #train model\n",
        "  history = model.fit(x_train_split\n",
        "                      ,y_train_split_onehot\n",
        "                      ,epochs=epoch\n",
        "                      ,batch_size=batch\n",
        "                      ,validation_data=(x_validate_split, y_validate_split_onehot)\n",
        "                      ,callbacks=[tf.keras.callbacks.EarlyStopping(monitor='val_accuracy', patience=3)]                                                                                                     \n",
        "                    )\n",
        "\n",
        "  #evaluate model\n",
        "  loss, accuracy = model.evaluate(x_test, y_test_onehot)\n",
        "  print('test set accuracy: ', accuracy * 100)\n",
        "\n",
        "  #predict model\n",
        "  preds = model.predict(x_test)\n",
        "\n",
        "  runtime = (dt.datetime.now() - start_datetime).total_seconds()\n",
        "\n",
        "  #training and validation performance metrix\n",
        "  history_dict = history.history\n",
        "  history_df=pd.DataFrame(history_dict)\n",
        "\n",
        "  result = history_df.tail(1)\n",
        "  result['test_loss'] = loss\n",
        "  result['test_accuracy'] = accuracy\n",
        "  result['process_time'] = runtime\n",
        "  result['epochs'] = epoch  \n",
        "  result['batch_size'] = batch    \n",
        "\n",
        "  losses = history.history['loss']\n",
        "  accs = history.history['accuracy']\n",
        "  val_losses = history.history['val_loss']\n",
        "  val_accs = history.history['val_accuracy']\n",
        "  epochs = len(losses)\n",
        "\n",
        "  #loss and accuracy for training and validation data\n",
        "  plt.figure(figsize=(16, 4))\n",
        "  for i, metrics in enumerate(zip([losses, accs], [val_losses, val_accs], ['Loss', 'Accuracy'])):\n",
        "      plt.subplot(1, 2, i + 1)\n",
        "      plt.plot(range(epochs), metrics[0], label='Training {}'.format(metrics[2]))\n",
        "      plt.plot(range(epochs), metrics[1], label='Validation {}'.format(metrics[2]))\n",
        "      plt.legend()\n",
        "      plt.title('{0} with {1} epochs and {2} batch size'.format(namestr(model, globals()), epoch, batch))          \n",
        "  plt.show()                        \n",
        "\n",
        "  #confuison matrix\n",
        "  pred1= model.predict(x_test)\n",
        "  pred1=np.argmax(pred1, axis=1)\n",
        "  print_validation_report(y_test, pred1)\n",
        "  plot_confusion_matrix(y_test,pred1)\n",
        "\n",
        "  return result"
      ],
      "metadata": {
        "id": "2NgfjEkZw3-L"
      },
      "execution_count": null,
      "outputs": []
    },
    {
      "cell_type": "markdown",
      "source": [
        "### Common-sense Model"
      ],
      "metadata": {
        "id": "P-inG-NwV22d"
      }
    },
    {
      "cell_type": "markdown",
      "source": [
        "Since the patients had been requested for surgical pathology test, they should have other medical conditions bring up to the concern of Invasive ductal carcinoma. So we assume every images is positive (has Invasive ductal carcinoma). There are 631 out of 631+2369 postive images in the test data set. So the accuracy is 21%"
      ],
      "metadata": {
        "id": "vmMDhvsvbUZI"
      }
    },
    {
      "cell_type": "markdown",
      "source": [
        "### Non-Machine Learning Model"
      ],
      "metadata": {
        "id": "5VUArw4PczlM"
      }
    },
    {
      "cell_type": "markdown",
      "source": [
        "For the keeping things simple, we are going to use Logistic Regression for image classification. "
      ],
      "metadata": {
        "id": "3Ts_CjHbc98F"
      }
    },
    {
      "cell_type": "code",
      "source": [
        "# Reshape the images:\n",
        "x_train_reshaped = np.reshape(x_train_split, (9600, 30000))\n",
        "x_test_reshaped = np.reshape(x_test, (3000, 30000))\n"
      ],
      "metadata": {
        "id": "EhdgYoLzgGJK"
      },
      "execution_count": null,
      "outputs": []
    },
    {
      "cell_type": "code",
      "source": [
        "from sklearn.linear_model import LogisticRegression\n",
        "model0 = LogisticRegression().fit(x_train_reshaped, y_train_split)"
      ],
      "metadata": {
        "colab": {
          "base_uri": "https://localhost:8080/"
        },
        "id": "zJwHtj9kc9A4",
        "outputId": "cec7232e-4cd0-4d28-b601-087db88c9fda"
      },
      "execution_count": null,
      "outputs": [
        {
          "output_type": "stream",
          "name": "stderr",
          "text": [
            "/usr/local/lib/python3.7/dist-packages/sklearn/linear_model/_logistic.py:818: ConvergenceWarning: lbfgs failed to converge (status=1):\n",
            "STOP: TOTAL NO. of ITERATIONS REACHED LIMIT.\n",
            "\n",
            "Increase the number of iterations (max_iter) or scale the data as shown in:\n",
            "    https://scikit-learn.org/stable/modules/preprocessing.html\n",
            "Please also refer to the documentation for alternative solver options:\n",
            "    https://scikit-learn.org/stable/modules/linear_model.html#logistic-regression\n",
            "  extra_warning_msg=_LOGISTIC_SOLVER_CONVERGENCE_MSG,\n"
          ]
        }
      ]
    },
    {
      "cell_type": "code",
      "source": [
        "score = model0.score(x_test_reshaped, y_test)\n",
        "print(score)"
      ],
      "metadata": {
        "colab": {
          "base_uri": "https://localhost:8080/"
        },
        "id": "6wGtE_XOjYPz",
        "outputId": "50aade2e-f3b4-4486-e901-403576f737b8"
      },
      "execution_count": null,
      "outputs": [
        {
          "output_type": "stream",
          "name": "stdout",
          "text": [
            "0.787\n"
          ]
        }
      ]
    },
    {
      "cell_type": "code",
      "source": [
        "#confuison matrix\n",
        "preds = model0.predict(x_test_reshaped)\n",
        "print_validation_report(y_test, preds)\n",
        "plot_confusion_matrix(y_test,preds)"
      ],
      "metadata": {
        "colab": {
          "base_uri": "https://localhost:8080/",
          "height": 701
        },
        "id": "uSEeGZ8CesvU",
        "outputId": "b410f82a-8e49-409f-da81-0066d09d03e4"
      },
      "execution_count": null,
      "outputs": [
        {
          "output_type": "stream",
          "name": "stdout",
          "text": [
            "Classification Report\n",
            "              precision    recall  f1-score   support\n",
            "\n",
            "           0       0.83      0.91      0.87      2369\n",
            "           1       0.49      0.32      0.39       631\n",
            "\n",
            "    accuracy                           0.79      3000\n",
            "   macro avg       0.66      0.62      0.63      3000\n",
            "weighted avg       0.76      0.79      0.77      3000\n",
            "\n",
            "Accuracy Score: 0.787\n",
            "Root Mean Square Error: 0.46151923036857306\n"
          ]
        },
        {
          "output_type": "display_data",
          "data": {
            "image/png": "[encoded data removed]",
            "text/plain": [
              "<Figure size 576x576 with 1 Axes>"
            ]
          },
          "metadata": {
            "needs_background": "light"
          }
        }
      ]
    },
    {
      "cell_type": "markdown",
      "metadata": {
        "id": "VT03fj46XGPh"
      },
      "source": [
        "### DNN with 2 layers (no regularization)"
      ]
    },
    {
      "cell_type": "code",
      "execution_count": null,
      "metadata": {
        "colab": {
          "base_uri": "https://localhost:8080/"
        },
        "id": "FXQevUYQXHn3",
        "outputId": "9aa21384-6512-4188-baa8-245db37e17ae"
      },
      "outputs": [
        {
          "output_type": "stream",
          "name": "stdout",
          "text": [
            "Model: \"sequential\"\n",
            "_________________________________________________________________\n",
            " Layer (type)                Output Shape              Param #   \n",
            "=================================================================\n",
            " flatten (Flatten)           (None, 30000)             0         \n",
            "                                                                 \n",
            " hidden_layer (Dense)        (None, 384)               11520384  \n",
            "                                                                 \n",
            " hidden_layer2 (Dense)       (None, 384)               147840    \n",
            "                                                                 \n",
            " output_layer (Dense)        (None, 2)                 770       \n",
            "                                                                 \n",
            "=================================================================\n",
            "Total params: 11,668,994\n",
            "Trainable params: 11,668,994\n",
            "Non-trainable params: 0\n",
            "_________________________________________________________________\n"
          ]
        }
      ],
      "source": [
        "model1 = models.Sequential()\n",
        "model1.add(layers.InputLayer(input_shape=(100, 100, 3)))\n",
        "model1.add(layers.Flatten(name ='flatten'))\n",
        "model1.add(layers.Dense(name = \"hidden_layer\",units=384, activation=tf.nn.relu))\n",
        "model1.add(layers.Dense(name = \"hidden_layer2\",units=384, activation=tf.nn.relu))\n",
        "model1.add(layers.Dense(name = \"output_layer\",units=2, activation=tf.nn.softmax))\n",
        "\n",
        "model1.summary()"
      ]
    },
    {
      "cell_type": "code",
      "execution_count": null,
      "metadata": {
        "colab": {
          "base_uri": "https://localhost:8080/",
          "height": 1000
        },
        "id": "LSZb90XiXnhi",
        "outputId": "8de37b40-0939-40dc-8579-21c1e94f4d8f"
      },
      "outputs": [
        {
          "output_type": "stream",
          "name": "stdout",
          "text": [
            "Epoch 1/20\n",
            "96/96 [==============================] - 17s 172ms/step - loss: 2.9561 - accuracy: 0.6854 - val_loss: 0.6520 - val_accuracy: 0.7862\n",
            "Epoch 2/20\n",
            "96/96 [==============================] - 16s 171ms/step - loss: 0.4989 - accuracy: 0.7857 - val_loss: 0.4978 - val_accuracy: 0.7862\n",
            "Epoch 3/20\n",
            "96/96 [==============================] - 16s 162ms/step - loss: 0.4797 - accuracy: 0.7936 - val_loss: 0.5492 - val_accuracy: 0.7862\n",
            "Epoch 4/20\n",
            "96/96 [==============================] - 16s 162ms/step - loss: 0.4659 - accuracy: 0.8030 - val_loss: 0.4602 - val_accuracy: 0.7971\n",
            "Epoch 5/20\n",
            "96/96 [==============================] - 16s 162ms/step - loss: 0.4760 - accuracy: 0.8014 - val_loss: 0.4321 - val_accuracy: 0.8154\n",
            "Epoch 6/20\n",
            "96/96 [==============================] - 16s 163ms/step - loss: 0.4603 - accuracy: 0.8056 - val_loss: 0.4356 - val_accuracy: 0.8096\n",
            "Epoch 7/20\n",
            "96/96 [==============================] - 16s 163ms/step - loss: 0.4722 - accuracy: 0.8010 - val_loss: 0.4444 - val_accuracy: 0.8100\n",
            "Epoch 8/20\n",
            "96/96 [==============================] - 16s 163ms/step - loss: 0.4593 - accuracy: 0.8011 - val_loss: 0.4346 - val_accuracy: 0.8154\n",
            "Epoch 9/20\n",
            "96/96 [==============================] - 16s 162ms/step - loss: 0.4403 - accuracy: 0.8104 - val_loss: 0.4289 - val_accuracy: 0.8171\n",
            "Epoch 10/20\n",
            "96/96 [==============================] - 16s 162ms/step - loss: 0.4476 - accuracy: 0.8087 - val_loss: 0.4578 - val_accuracy: 0.8087\n",
            "Epoch 11/20\n",
            "96/96 [==============================] - 16s 163ms/step - loss: 0.4437 - accuracy: 0.8097 - val_loss: 0.4493 - val_accuracy: 0.8092\n",
            "Epoch 12/20\n",
            "96/96 [==============================] - 16s 163ms/step - loss: 0.4280 - accuracy: 0.8160 - val_loss: 0.4192 - val_accuracy: 0.8179\n",
            "Epoch 13/20\n",
            "96/96 [==============================] - 16s 162ms/step - loss: 0.4409 - accuracy: 0.8064 - val_loss: 0.5232 - val_accuracy: 0.7862\n",
            "Epoch 14/20\n",
            "96/96 [==============================] - 16s 162ms/step - loss: 0.4433 - accuracy: 0.8018 - val_loss: 0.4082 - val_accuracy: 0.8213\n",
            "Epoch 15/20\n",
            "96/96 [==============================] - 16s 163ms/step - loss: 0.4352 - accuracy: 0.7965 - val_loss: 0.4432 - val_accuracy: 0.7967\n",
            "Epoch 16/20\n",
            "96/96 [==============================] - 16s 163ms/step - loss: 0.4366 - accuracy: 0.8102 - val_loss: 0.4355 - val_accuracy: 0.8188\n",
            "Epoch 17/20\n",
            "96/96 [==============================] - 16s 162ms/step - loss: 0.4108 - accuracy: 0.8183 - val_loss: 0.4540 - val_accuracy: 0.8075\n",
            "Epoch 18/20\n",
            "96/96 [==============================] - 16s 163ms/step - loss: 0.4102 - accuracy: 0.8165 - val_loss: 0.4071 - val_accuracy: 0.8221\n",
            "Epoch 19/20\n",
            "96/96 [==============================] - 16s 163ms/step - loss: 0.3949 - accuracy: 0.8215 - val_loss: 0.4000 - val_accuracy: 0.8188\n",
            "Epoch 20/20\n",
            "96/96 [==============================] - 16s 163ms/step - loss: 0.3937 - accuracy: 0.8242 - val_loss: 0.4095 - val_accuracy: 0.8221\n",
            "94/94 [==============================] - 3s 31ms/step - loss: 0.3988 - accuracy: 0.8363\n",
            "test set accuracy:  83.63333344459534\n"
          ]
        },
        {
          "output_type": "stream",
          "name": "stderr",
          "text": [
            "/usr/local/lib/python3.7/dist-packages/ipykernel_launcher.py:40: SettingWithCopyWarning: \n",
            "A value is trying to be set on a copy of a slice from a DataFrame.\n",
            "Try using .loc[row_indexer,col_indexer] = value instead\n",
            "\n",
            "See the caveats in the documentation: https://pandas.pydata.org/pandas-docs/stable/user_guide/indexing.html#returning-a-view-versus-a-copy\n",
            "/usr/local/lib/python3.7/dist-packages/ipykernel_launcher.py:41: SettingWithCopyWarning: \n",
            "A value is trying to be set on a copy of a slice from a DataFrame.\n",
            "Try using .loc[row_indexer,col_indexer] = value instead\n",
            "\n",
            "See the caveats in the documentation: https://pandas.pydata.org/pandas-docs/stable/user_guide/indexing.html#returning-a-view-versus-a-copy\n",
            "/usr/local/lib/python3.7/dist-packages/ipykernel_launcher.py:42: SettingWithCopyWarning: \n",
            "A value is trying to be set on a copy of a slice from a DataFrame.\n",
            "Try using .loc[row_indexer,col_indexer] = value instead\n",
            "\n",
            "See the caveats in the documentation: https://pandas.pydata.org/pandas-docs/stable/user_guide/indexing.html#returning-a-view-versus-a-copy\n",
            "/usr/local/lib/python3.7/dist-packages/ipykernel_launcher.py:43: SettingWithCopyWarning: \n",
            "A value is trying to be set on a copy of a slice from a DataFrame.\n",
            "Try using .loc[row_indexer,col_indexer] = value instead\n",
            "\n",
            "See the caveats in the documentation: https://pandas.pydata.org/pandas-docs/stable/user_guide/indexing.html#returning-a-view-versus-a-copy\n",
            "/usr/local/lib/python3.7/dist-packages/ipykernel_launcher.py:44: SettingWithCopyWarning: \n",
            "A value is trying to be set on a copy of a slice from a DataFrame.\n",
            "Try using .loc[row_indexer,col_indexer] = value instead\n",
            "\n",
            "See the caveats in the documentation: https://pandas.pydata.org/pandas-docs/stable/user_guide/indexing.html#returning-a-view-versus-a-copy\n"
          ]
        },
        {
          "output_type": "display_data",
          "data": {
            "image/png": "[encoded data removed]",
            "text/plain": [
              "<Figure size 1152x288 with 2 Axes>"
            ]
          },
          "metadata": {
            "needs_background": "light"
          }
        },
        {
          "output_type": "stream",
          "name": "stdout",
          "text": [
            "Classification Report\n",
            "              precision    recall  f1-score   support\n",
            "\n",
            "           0       0.85      0.96      0.90      2369\n",
            "           1       0.71      0.37      0.49       631\n",
            "\n",
            "    accuracy                           0.84      3000\n",
            "   macro avg       0.78      0.67      0.70      3000\n",
            "weighted avg       0.82      0.84      0.82      3000\n",
            "\n",
            "Accuracy Score: 0.8363333333333334\n",
            "Root Mean Square Error: 0.4045573712919673\n"
          ]
        },
        {
          "output_type": "display_data",
          "data": {
            "image/png": "[encoded data removed]",
            "text/plain": [
              "<Figure size 576x576 with 1 Axes>"
            ]
          },
          "metadata": {
            "needs_background": "light"
          }
        }
      ],
      "source": [
        "result1 = compile_train_plot_model(model1, 20, 100)"
      ]
    },
    {
      "cell_type": "code",
      "source": [
        "assignment_result_table = result1\n",
        "new_col = ['DNN with 2 layers (no regularization)']   \n",
        "assignment_result_table.insert(loc=0, column='Model', value=new_col)\n",
        "assignment_result_table"
      ],
      "metadata": {
        "colab": {
          "base_uri": "https://localhost:8080/",
          "height": 81
        },
        "id": "O6TupNxql6Th",
        "outputId": "7ab8f62e-c3ef-49b2-dac3-c9ae8eea0b70"
      },
      "execution_count": null,
      "outputs": [
        {
          "output_type": "execute_result",
          "data": {
            "text/html": [
              "\n",
              "  <div id=\"df-6ed0a36e-eb7f-489f-9be0-2332d130f31c\">\n",
              "    <div class=\"colab-df-container\">\n",
              "      <div>\n",
              "<style scoped>\n",
              "    .dataframe tbody tr th:only-of-type {\n",
              "        vertical-align: middle;\n",
              "    }\n",
              "\n",
              "    .dataframe tbody tr th {\n",
              "        vertical-align: top;\n",
              "    }\n",
              "\n",
              "    .dataframe thead th {\n",
              "        text-align: right;\n",
              "    }\n",
              "</style>\n",
              "<table border=\"1\" class=\"dataframe\">\n",
              "  <thead>\n",
              "    <tr style=\"text-align: right;\">\n",
              "      <th></th>\n",
              "      <th>Model</th>\n",
              "      <th>loss</th>\n",
              "      <th>accuracy</th>\n",
              "      <th>val_loss</th>\n",
              "      <th>val_accuracy</th>\n",
              "      <th>test_loss</th>\n",
              "      <th>test_accuracy</th>\n",
              "      <th>process_time</th>\n",
              "      <th>epochs</th>\n",
              "      <th>batch_size</th>\n",
              "    </tr>\n",
              "  </thead>\n",
              "  <tbody>\n",
              "    <tr>\n",
              "      <th>19</th>\n",
              "      <td>DNN with 2 layers (no regularization)</td>\n",
              "      <td>0.393726</td>\n",
              "      <td>0.824167</td>\n",
              "      <td>0.409517</td>\n",
              "      <td>0.822083</td>\n",
              "      <td>0.398782</td>\n",
              "      <td>0.836333</td>\n",
              "      <td>331.492346</td>\n",
              "      <td>20</td>\n",
              "      <td>100</td>\n",
              "    </tr>\n",
              "  </tbody>\n",
              "</table>\n",
              "</div>\n",
              "      <button class=\"colab-df-convert\" onclick=\"convertToInteractive('df-6ed0a36e-eb7f-489f-9be0-2332d130f31c')\"\n",
              "              title=\"Convert this dataframe to an interactive table.\"\n",
              "              style=\"display:none;\">\n",
              "        \n",
              "  <svg xmlns=\"http://www.w3.org/2000/svg\" height=\"24px\"viewBox=\"0 0 24 24\"\n",
              "       width=\"24px\">\n",
              "    <path d=\"M0 0h24v24H0V0z\" fill=\"none\"/>\n",
              "    <path d=\"M18.56 5.44l.94 2.06.94-2.06 2.06-.94-2.06-.94-.94-2.06-.94 2.06-2.06.94zm-11 1L8.5 8.5l.94-2.06 2.06-.94-2.06-.94L8.5 2.5l-.94 2.06-2.06.94zm10 10l.94 2.06.94-2.06 2.06-.94-2.06-.94-.94-2.06-.94 2.06-2.06.94z\"/><path d=\"M17.41 7.96l-1.37-1.37c-.4-.4-.92-.59-1.43-.59-.52 0-1.04.2-1.43.59L10.3 9.45l-7.72 7.72c-.78.78-.78 2.05 0 2.83L4 21.41c.39.39.9.59 1.41.59.51 0 1.02-.2 1.41-.59l7.78-7.78 2.81-2.81c.8-.78.8-2.07 0-2.86zM5.41 20L4 18.59l7.72-7.72 1.47 1.35L5.41 20z\"/>\n",
              "  </svg>\n",
              "      </button>\n",
              "      \n",
              "  <style>\n",
              "    .colab-df-container {\n",
              "      display:flex;\n",
              "      flex-wrap:wrap;\n",
              "      gap: 12px;\n",
              "    }\n",
              "\n",
              "    .colab-df-convert {\n",
              "      background-color: #E8F0FE;\n",
              "      border: none;\n",
              "      border-radius: 50%;\n",
              "      cursor: pointer;\n",
              "      display: none;\n",
              "      fill: #1967D2;\n",
              "      height: 32px;\n",
              "      padding: 0 0 0 0;\n",
              "      width: 32px;\n",
              "    }\n",
              "\n",
              "    .colab-df-convert:hover {\n",
              "      background-color: #E2EBFA;\n",
              "      box-shadow: 0px 1px 2px rgba(60, 64, 67, 0.3), 0px 1px 3px 1px rgba(60, 64, 67, 0.15);\n",
              "      fill: #174EA6;\n",
              "    }\n",
              "\n",
              "    [theme=dark] .colab-df-convert {\n",
              "      background-color: #3B4455;\n",
              "      fill: #D2E3FC;\n",
              "    }\n",
              "\n",
              "    [theme=dark] .colab-df-convert:hover {\n",
              "      background-color: #434B5C;\n",
              "      box-shadow: 0px 1px 3px 1px rgba(0, 0, 0, 0.15);\n",
              "      filter: drop-shadow(0px 1px 2px rgba(0, 0, 0, 0.3));\n",
              "      fill: #FFFFFF;\n",
              "    }\n",
              "  </style>\n",
              "\n",
              "      <script>\n",
              "        const buttonEl =\n",
              "          document.querySelector('#df-6ed0a36e-eb7f-489f-9be0-2332d130f31c button.colab-df-convert');\n",
              "        buttonEl.style.display =\n",
              "          google.colab.kernel.accessAllowed ? 'block' : 'none';\n",
              "\n",
              "        async function convertToInteractive(key) {\n",
              "          const element = document.querySelector('#df-6ed0a36e-eb7f-489f-9be0-2332d130f31c');\n",
              "          const dataTable =\n",
              "            await google.colab.kernel.invokeFunction('convertToInteractive',\n",
              "                                                     [key], {});\n",
              "          if (!dataTable) return;\n",
              "\n",
              "          const docLinkHtml = 'Like what you see? Visit the ' +\n",
              "            '<a target=\"_blank\" href=https://colab.research.google.com/notebooks/data_table.ipynb>data table notebook</a>'\n",
              "            + ' to learn more about interactive tables.';\n",
              "          element.innerHTML = '';\n",
              "          dataTable['output_type'] = 'display_data';\n",
              "          await google.colab.output.renderOutput(dataTable, element);\n",
              "          const docLink = document.createElement('div');\n",
              "          docLink.innerHTML = docLinkHtml;\n",
              "          element.appendChild(docLink);\n",
              "        }\n",
              "      </script>\n",
              "    </div>\n",
              "  </div>\n",
              "  "
            ],
            "text/plain": [
              "                                    Model      loss  accuracy  val_loss  \\\n",
              "19  DNN with 2 layers (no regularization)  0.393726  0.824167  0.409517   \n",
              "\n",
              "    val_accuracy  test_loss  test_accuracy  process_time  epochs  batch_size  \n",
              "19      0.822083   0.398782       0.836333    331.492346      20         100  "
            ]
          },
          "metadata": {},
          "execution_count": 17
        }
      ]
    },
    {
      "cell_type": "markdown",
      "source": [
        ""
      ],
      "metadata": {
        "id": "0RP3LbLXke-i"
      }
    },
    {
      "cell_type": "markdown",
      "source": [
        "### CNN with 2 convolution/max pooling layers (no regularization)"
      ],
      "metadata": {
        "id": "xhMSC0rGp99V"
      }
    },
    {
      "cell_type": "code",
      "source": [
        "model3 = models.Sequential()\n",
        "model3.add(layers.Conv2D(filters=128, kernel_size=(3, 3), strides=(1, 1), activation=tf.nn.relu,input_shape=(100, 100, 3)))\n",
        "model3.add(layers.MaxPool2D((2, 2),strides=2))\n",
        "model3.add(layers.Conv2D(filters=256, kernel_size=(3, 3), strides=(1, 1), activation=tf.nn.relu))\n",
        "model3.add(layers.MaxPool2D(pool_size=(2, 2),strides=2))\n",
        "model3.add(layers.Flatten())\n",
        "model3.add(layers.Dense(units=384, activation=tf.nn.relu))\n",
        "model3.add(layers.Dense(units=2, activation=tf.nn.softmax))\n",
        "\n",
        "model3.summary()"
      ],
      "metadata": {
        "id": "UNy1MuW3qEks",
        "outputId": "515d0837-f68b-433a-dd7a-25a006a6c429",
        "colab": {
          "base_uri": "https://localhost:8080/"
        }
      },
      "execution_count": null,
      "outputs": [
        {
          "output_type": "stream",
          "name": "stdout",
          "text": [
            "Model: \"sequential_1\"\n",
            "_________________________________________________________________\n",
            " Layer (type)                Output Shape              Param #   \n",
            "=================================================================\n",
            " conv2d (Conv2D)             (None, 98, 98, 128)       3584      \n",
            "                                                                 \n",
            " max_pooling2d (MaxPooling2D  (None, 49, 49, 128)      0         \n",
            " )                                                               \n",
            "                                                                 \n",
            " conv2d_1 (Conv2D)           (None, 47, 47, 256)       295168    \n",
            "                                                                 \n",
            " max_pooling2d_1 (MaxPooling  (None, 23, 23, 256)      0         \n",
            " 2D)                                                             \n",
            "                                                                 \n",
            " flatten (Flatten)           (None, 135424)            0         \n",
            "                                                                 \n",
            " dense (Dense)               (None, 384)               52003200  \n",
            "                                                                 \n",
            " dense_1 (Dense)             (None, 2)                 770       \n",
            "                                                                 \n",
            "=================================================================\n",
            "Total params: 52,302,722\n",
            "Trainable params: 52,302,722\n",
            "Non-trainable params: 0\n",
            "_________________________________________________________________\n"
          ]
        }
      ]
    },
    {
      "cell_type": "code",
      "source": [
        "result3 = compile_train_plot_model(model3, 20, 100)"
      ],
      "metadata": {
        "id": "uYR8jEDTq1Ek",
        "outputId": "bae1c13c-3809-456c-d5fb-af93ed5ebbf9",
        "colab": {
          "base_uri": "https://localhost:8080/",
          "height": 1000
        }
      },
      "execution_count": null,
      "outputs": [
        {
          "output_type": "stream",
          "name": "stdout",
          "text": [
            "Epoch 1/20\n",
            "96/96 [==============================] - 1003s 10s/step - loss: 0.6232 - accuracy: 0.8150 - val_loss: 0.3252 - val_accuracy: 0.8687\n",
            "Epoch 2/20\n",
            "96/96 [==============================] - 1011s 11s/step - loss: 0.3354 - accuracy: 0.8549 - val_loss: 0.3268 - val_accuracy: 0.8687\n",
            "Epoch 3/20\n",
            "96/96 [==============================] - 1005s 10s/step - loss: 0.3126 - accuracy: 0.8754 - val_loss: 0.3010 - val_accuracy: 0.8854\n",
            "Epoch 4/20\n",
            "96/96 [==============================] - 1000s 10s/step - loss: 0.3128 - accuracy: 0.8697 - val_loss: 0.3469 - val_accuracy: 0.8504\n",
            "Epoch 5/20\n",
            "96/96 [==============================] - 1003s 10s/step - loss: 0.3052 - accuracy: 0.8697 - val_loss: 0.2929 - val_accuracy: 0.8754\n",
            "Epoch 6/20\n",
            "96/96 [==============================] - 999s 10s/step - loss: 0.3038 - accuracy: 0.8731 - val_loss: 0.3145 - val_accuracy: 0.8717\n",
            "Epoch 7/20\n",
            "96/96 [==============================] - 999s 10s/step - loss: 0.2961 - accuracy: 0.8753 - val_loss: 0.3919 - val_accuracy: 0.8313\n",
            "Epoch 8/20\n",
            "96/96 [==============================] - 994s 10s/step - loss: 0.3018 - accuracy: 0.8715 - val_loss: 0.3069 - val_accuracy: 0.8767\n",
            "Epoch 9/20\n",
            "96/96 [==============================] - 988s 10s/step - loss: 0.2733 - accuracy: 0.8870 - val_loss: 0.3123 - val_accuracy: 0.8650\n",
            "Epoch 10/20\n",
            "96/96 [==============================] - 990s 10s/step - loss: 0.2744 - accuracy: 0.8870 - val_loss: 0.3187 - val_accuracy: 0.8733\n",
            "Epoch 11/20\n",
            "96/96 [==============================] - 991s 10s/step - loss: 0.2701 - accuracy: 0.8850 - val_loss: 0.3177 - val_accuracy: 0.8604\n",
            "Epoch 12/20\n",
            "96/96 [==============================] - 989s 10s/step - loss: 0.2464 - accuracy: 0.8992 - val_loss: 0.2998 - val_accuracy: 0.8792\n",
            "Epoch 13/20\n",
            "96/96 [==============================] - 992s 10s/step - loss: 0.2602 - accuracy: 0.8880 - val_loss: 0.3132 - val_accuracy: 0.8729\n",
            "Epoch 14/20\n",
            "96/96 [==============================] - 1000s 10s/step - loss: 0.2433 - accuracy: 0.9036 - val_loss: 0.3070 - val_accuracy: 0.8683\n",
            "Epoch 15/20\n",
            "96/96 [==============================] - 996s 10s/step - loss: 0.2199 - accuracy: 0.9098 - val_loss: 0.3002 - val_accuracy: 0.8771\n",
            "Epoch 16/20\n",
            "96/96 [==============================] - 1001s 10s/step - loss: 0.2140 - accuracy: 0.9127 - val_loss: 0.3100 - val_accuracy: 0.8792\n",
            "Epoch 17/20\n",
            "96/96 [==============================] - 997s 10s/step - loss: 0.1858 - accuracy: 0.9275 - val_loss: 0.3238 - val_accuracy: 0.8733\n",
            "Epoch 18/20\n",
            "96/96 [==============================] - 996s 10s/step - loss: 0.1682 - accuracy: 0.9353 - val_loss: 0.3275 - val_accuracy: 0.8750\n",
            "Epoch 19/20\n",
            "96/96 [==============================] - 999s 10s/step - loss: 0.1449 - accuracy: 0.9445 - val_loss: 0.3280 - val_accuracy: 0.8929\n",
            "Epoch 20/20\n",
            "96/96 [==============================] - 1001s 10s/step - loss: 0.1404 - accuracy: 0.9443 - val_loss: 0.3633 - val_accuracy: 0.8646\n",
            "94/94 [==============================] - 87s 920ms/step - loss: 0.3414 - accuracy: 0.8777\n",
            "test set accuracy:  87.76666522026062\n"
          ]
        },
        {
          "output_type": "stream",
          "name": "stderr",
          "text": [
            "/usr/local/lib/python3.7/dist-packages/ipykernel_launcher.py:40: SettingWithCopyWarning: \n",
            "A value is trying to be set on a copy of a slice from a DataFrame.\n",
            "Try using .loc[row_indexer,col_indexer] = value instead\n",
            "\n",
            "See the caveats in the documentation: https://pandas.pydata.org/pandas-docs/stable/user_guide/indexing.html#returning-a-view-versus-a-copy\n",
            "/usr/local/lib/python3.7/dist-packages/ipykernel_launcher.py:41: SettingWithCopyWarning: \n",
            "A value is trying to be set on a copy of a slice from a DataFrame.\n",
            "Try using .loc[row_indexer,col_indexer] = value instead\n",
            "\n",
            "See the caveats in the documentation: https://pandas.pydata.org/pandas-docs/stable/user_guide/indexing.html#returning-a-view-versus-a-copy\n",
            "/usr/local/lib/python3.7/dist-packages/ipykernel_launcher.py:42: SettingWithCopyWarning: \n",
            "A value is trying to be set on a copy of a slice from a DataFrame.\n",
            "Try using .loc[row_indexer,col_indexer] = value instead\n",
            "\n",
            "See the caveats in the documentation: https://pandas.pydata.org/pandas-docs/stable/user_guide/indexing.html#returning-a-view-versus-a-copy\n",
            "/usr/local/lib/python3.7/dist-packages/ipykernel_launcher.py:43: SettingWithCopyWarning: \n",
            "A value is trying to be set on a copy of a slice from a DataFrame.\n",
            "Try using .loc[row_indexer,col_indexer] = value instead\n",
            "\n",
            "See the caveats in the documentation: https://pandas.pydata.org/pandas-docs/stable/user_guide/indexing.html#returning-a-view-versus-a-copy\n",
            "/usr/local/lib/python3.7/dist-packages/ipykernel_launcher.py:44: SettingWithCopyWarning: \n",
            "A value is trying to be set on a copy of a slice from a DataFrame.\n",
            "Try using .loc[row_indexer,col_indexer] = value instead\n",
            "\n",
            "See the caveats in the documentation: https://pandas.pydata.org/pandas-docs/stable/user_guide/indexing.html#returning-a-view-versus-a-copy\n"
          ]
        },
        {
          "output_type": "display_data",
          "data": {
            "image/png": "[encoded data removed]",
            "text/plain": [
              "<Figure size 1152x288 with 2 Axes>"
            ]
          },
          "metadata": {
            "needs_background": "light"
          }
        },
        {
          "output_type": "stream",
          "name": "stdout",
          "text": [
            "Classification Report\n",
            "              precision    recall  f1-score   support\n",
            "\n",
            "           0       0.90      0.95      0.92      2369\n",
            "           1       0.75      0.62      0.68       631\n",
            "\n",
            "    accuracy                           0.88      3000\n",
            "   macro avg       0.83      0.78      0.80      3000\n",
            "weighted avg       0.87      0.88      0.87      3000\n",
            "\n",
            "Accuracy Score: 0.8776666666666667\n",
            "Root Mean Square Error: 0.3497618237219913\n"
          ]
        },
        {
          "output_type": "display_data",
          "data": {
            "image/png": "[encoded data removed]",
            "text/plain": [
              "<Figure size 576x576 with 1 Axes>"
            ]
          },
          "metadata": {
            "needs_background": "light"
          }
        }
      ]
    },
    {
      "cell_type": "code",
      "source": [
        "new_col = ['CNN with 2 convolution/max pooling layers (no regularization)']   \n",
        "result3.insert(loc=0, column='Model', value=new_col)\n",
        "\n",
        "assignment_result_table = assignment_result_table.append(result3, ignore_index = True)\n",
        "\n",
        "assignment_result_table"
      ],
      "metadata": {
        "id": "Qga1abUtq4VB",
        "outputId": "ebed0d1a-136d-4fa0-839a-e10feb897d6d",
        "colab": {
          "base_uri": "https://localhost:8080/",
          "height": 112
        }
      },
      "execution_count": null,
      "outputs": [
        {
          "output_type": "execute_result",
          "data": {
            "text/html": [
              "\n",
              "  <div id=\"df-f7c14755-e89c-4018-bd5f-acac9d58f163\">\n",
              "    <div class=\"colab-df-container\">\n",
              "      <div>\n",
              "<style scoped>\n",
              "    .dataframe tbody tr th:only-of-type {\n",
              "        vertical-align: middle;\n",
              "    }\n",
              "\n",
              "    .dataframe tbody tr th {\n",
              "        vertical-align: top;\n",
              "    }\n",
              "\n",
              "    .dataframe thead th {\n",
              "        text-align: right;\n",
              "    }\n",
              "</style>\n",
              "<table border=\"1\" class=\"dataframe\">\n",
              "  <thead>\n",
              "    <tr style=\"text-align: right;\">\n",
              "      <th></th>\n",
              "      <th>Model</th>\n",
              "      <th>loss</th>\n",
              "      <th>accuracy</th>\n",
              "      <th>val_loss</th>\n",
              "      <th>val_accuracy</th>\n",
              "      <th>test_loss</th>\n",
              "      <th>test_accuracy</th>\n",
              "      <th>process_time</th>\n",
              "      <th>epochs</th>\n",
              "      <th>batch_size</th>\n",
              "    </tr>\n",
              "  </thead>\n",
              "  <tbody>\n",
              "    <tr>\n",
              "      <th>0</th>\n",
              "      <td>DNN with 2 layers (no regularization)</td>\n",
              "      <td>0.393726</td>\n",
              "      <td>0.824167</td>\n",
              "      <td>0.409517</td>\n",
              "      <td>0.822083</td>\n",
              "      <td>0.398782</td>\n",
              "      <td>0.836333</td>\n",
              "      <td>331.492346</td>\n",
              "      <td>20</td>\n",
              "      <td>100</td>\n",
              "    </tr>\n",
              "    <tr>\n",
              "      <th>1</th>\n",
              "      <td>CNN with 2 convolution/max pooling layers (no ...</td>\n",
              "      <td>0.140416</td>\n",
              "      <td>0.944271</td>\n",
              "      <td>0.363302</td>\n",
              "      <td>0.864583</td>\n",
              "      <td>0.341417</td>\n",
              "      <td>0.877667</td>\n",
              "      <td>20179.840585</td>\n",
              "      <td>20</td>\n",
              "      <td>100</td>\n",
              "    </tr>\n",
              "  </tbody>\n",
              "</table>\n",
              "</div>\n",
              "      <button class=\"colab-df-convert\" onclick=\"convertToInteractive('df-f7c14755-e89c-4018-bd5f-acac9d58f163')\"\n",
              "              title=\"Convert this dataframe to an interactive table.\"\n",
              "              style=\"display:none;\">\n",
              "        \n",
              "  <svg xmlns=\"http://www.w3.org/2000/svg\" height=\"24px\"viewBox=\"0 0 24 24\"\n",
              "       width=\"24px\">\n",
              "    <path d=\"M0 0h24v24H0V0z\" fill=\"none\"/>\n",
              "    <path d=\"M18.56 5.44l.94 2.06.94-2.06 2.06-.94-2.06-.94-.94-2.06-.94 2.06-2.06.94zm-11 1L8.5 8.5l.94-2.06 2.06-.94-2.06-.94L8.5 2.5l-.94 2.06-2.06.94zm10 10l.94 2.06.94-2.06 2.06-.94-2.06-.94-.94-2.06-.94 2.06-2.06.94z\"/><path d=\"M17.41 7.96l-1.37-1.37c-.4-.4-.92-.59-1.43-.59-.52 0-1.04.2-1.43.59L10.3 9.45l-7.72 7.72c-.78.78-.78 2.05 0 2.83L4 21.41c.39.39.9.59 1.41.59.51 0 1.02-.2 1.41-.59l7.78-7.78 2.81-2.81c.8-.78.8-2.07 0-2.86zM5.41 20L4 18.59l7.72-7.72 1.47 1.35L5.41 20z\"/>\n",
              "  </svg>\n",
              "      </button>\n",
              "      \n",
              "  <style>\n",
              "    .colab-df-container {\n",
              "      display:flex;\n",
              "      flex-wrap:wrap;\n",
              "      gap: 12px;\n",
              "    }\n",
              "\n",
              "    .colab-df-convert {\n",
              "      background-color: #E8F0FE;\n",
              "      border: none;\n",
              "      border-radius: 50%;\n",
              "      cursor: pointer;\n",
              "      display: none;\n",
              "      fill: #1967D2;\n",
              "      height: 32px;\n",
              "      padding: 0 0 0 0;\n",
              "      width: 32px;\n",
              "    }\n",
              "\n",
              "    .colab-df-convert:hover {\n",
              "      background-color: #E2EBFA;\n",
              "      box-shadow: 0px 1px 2px rgba(60, 64, 67, 0.3), 0px 1px 3px 1px rgba(60, 64, 67, 0.15);\n",
              "      fill: #174EA6;\n",
              "    }\n",
              "\n",
              "    [theme=dark] .colab-df-convert {\n",
              "      background-color: #3B4455;\n",
              "      fill: #D2E3FC;\n",
              "    }\n",
              "\n",
              "    [theme=dark] .colab-df-convert:hover {\n",
              "      background-color: #434B5C;\n",
              "      box-shadow: 0px 1px 3px 1px rgba(0, 0, 0, 0.15);\n",
              "      filter: drop-shadow(0px 1px 2px rgba(0, 0, 0, 0.3));\n",
              "      fill: #FFFFFF;\n",
              "    }\n",
              "  </style>\n",
              "\n",
              "      <script>\n",
              "        const buttonEl =\n",
              "          document.querySelector('#df-f7c14755-e89c-4018-bd5f-acac9d58f163 button.colab-df-convert');\n",
              "        buttonEl.style.display =\n",
              "          google.colab.kernel.accessAllowed ? 'block' : 'none';\n",
              "\n",
              "        async function convertToInteractive(key) {\n",
              "          const element = document.querySelector('#df-f7c14755-e89c-4018-bd5f-acac9d58f163');\n",
              "          const dataTable =\n",
              "            await google.colab.kernel.invokeFunction('convertToInteractive',\n",
              "                                                     [key], {});\n",
              "          if (!dataTable) return;\n",
              "\n",
              "          const docLinkHtml = 'Like what you see? Visit the ' +\n",
              "            '<a target=\"_blank\" href=https://colab.research.google.com/notebooks/data_table.ipynb>data table notebook</a>'\n",
              "            + ' to learn more about interactive tables.';\n",
              "          element.innerHTML = '';\n",
              "          dataTable['output_type'] = 'display_data';\n",
              "          await google.colab.output.renderOutput(dataTable, element);\n",
              "          const docLink = document.createElement('div');\n",
              "          docLink.innerHTML = docLinkHtml;\n",
              "          element.appendChild(docLink);\n",
              "        }\n",
              "      </script>\n",
              "    </div>\n",
              "  </div>\n",
              "  "
            ],
            "text/plain": [
              "                                               Model      loss  accuracy  \\\n",
              "0              DNN with 2 layers (no regularization)  0.393726  0.824167   \n",
              "1  CNN with 2 convolution/max pooling layers (no ...  0.140416  0.944271   \n",
              "\n",
              "   val_loss  val_accuracy  test_loss  test_accuracy  process_time  epochs  \\\n",
              "0  0.409517      0.822083   0.398782       0.836333    331.492346      20   \n",
              "1  0.363302      0.864583   0.341417       0.877667  20179.840585      20   \n",
              "\n",
              "   batch_size  \n",
              "0         100  \n",
              "1         100  "
            ]
          },
          "metadata": {},
          "execution_count": 20
        }
      ]
    },
    {
      "cell_type": "markdown",
      "source": [
        "### CNN with 3 convolution/max pooling layers (no regularization)"
      ],
      "metadata": {
        "id": "T2aVk5qIqDW2"
      }
    },
    {
      "cell_type": "code",
      "source": [
        "model4 = models.Sequential()\n",
        "model4.add(layers.Conv2D(filters=128, kernel_size=(3, 3), strides=(1, 1), activation=tf.nn.relu,input_shape=(100, 100, 3)))\n",
        "model4.add(layers.MaxPool2D((2, 2),strides=2))\n",
        "model4.add(layers.Conv2D(filters=256, kernel_size=(3, 3), strides=(1, 1), activation=tf.nn.relu))\n",
        "model4.add(layers.MaxPool2D(pool_size=(2, 2),strides=2))\n",
        "model4.add(layers.Conv2D(filters=512, kernel_size=(3, 3), strides=(1, 1), activation=tf.nn.relu))\n",
        "model4.add(layers.MaxPool2D(pool_size=(2, 2),strides=2))\n",
        "model4.add(layers.Flatten())\n",
        "model4.add(layers.Dense(units=384, activation=tf.nn.relu))\n",
        "model4.add(layers.Dense(units=2, activation=tf.nn.softmax))\n",
        "\n",
        "model4.summary()\n"
      ],
      "metadata": {
        "id": "YuAs32Ntr-bk",
        "outputId": "fdfc8f67-9307-4813-abca-921f65d2a19a",
        "colab": {
          "base_uri": "https://localhost:8080/"
        }
      },
      "execution_count": null,
      "outputs": [
        {
          "output_type": "stream",
          "name": "stdout",
          "text": [
            "Model: \"sequential_1\"\n",
            "_________________________________________________________________\n",
            " Layer (type)                Output Shape              Param #   \n",
            "=================================================================\n",
            " conv2d_3 (Conv2D)           (None, 98, 98, 128)       3584      \n",
            "                                                                 \n",
            " max_pooling2d_3 (MaxPooling  (None, 49, 49, 128)      0         \n",
            " 2D)                                                             \n",
            "                                                                 \n",
            " conv2d_4 (Conv2D)           (None, 47, 47, 256)       295168    \n",
            "                                                                 \n",
            " max_pooling2d_4 (MaxPooling  (None, 23, 23, 256)      0         \n",
            " 2D)                                                             \n",
            "                                                                 \n",
            " conv2d_5 (Conv2D)           (None, 21, 21, 512)       1180160   \n",
            "                                                                 \n",
            " max_pooling2d_5 (MaxPooling  (None, 10, 10, 512)      0         \n",
            " 2D)                                                             \n",
            "                                                                 \n",
            " flatten_1 (Flatten)         (None, 51200)             0         \n",
            "                                                                 \n",
            " dense_2 (Dense)             (None, 384)               19661184  \n",
            "                                                                 \n",
            " dense_3 (Dense)             (None, 2)                 770       \n",
            "                                                                 \n",
            "=================================================================\n",
            "Total params: 21,140,866\n",
            "Trainable params: 21,140,866\n",
            "Non-trainable params: 0\n",
            "_________________________________________________________________\n"
          ]
        }
      ]
    },
    {
      "cell_type": "code",
      "source": [
        "result4 = compile_train_model_with_reg(model4, 20, 100)\n",
        "\n",
        "new_col = ['CNN with 3 convolution/max pooling layers (no regularization)']   \n",
        "result4.insert(loc=0, column='Model', value=new_col)\n",
        "assignment_result_table = assignment_result_table.append(result4, ignore_index = True)\n",
        "assignment_result_table"
      ],
      "metadata": {
        "id": "-UF-UBr1Crfa",
        "outputId": "e675ecc0-bee7-4851-e8ac-03f0321116ae",
        "colab": {
          "base_uri": "https://localhost:8080/",
          "height": 1000
        }
      },
      "execution_count": null,
      "outputs": [
        {
          "output_type": "stream",
          "name": "stdout",
          "text": [
            "Epoch 1/20\n",
            "96/96 [==============================] - 1378s 14s/step - loss: 0.4605 - accuracy: 0.7957 - val_loss: 0.4442 - val_accuracy: 0.7908\n",
            "Epoch 2/20\n",
            "96/96 [==============================] - 1369s 14s/step - loss: 0.3580 - accuracy: 0.8424 - val_loss: 0.3871 - val_accuracy: 0.8354\n",
            "Epoch 3/20\n",
            "96/96 [==============================] - 1362s 14s/step - loss: 0.3400 - accuracy: 0.8565 - val_loss: 0.3080 - val_accuracy: 0.8813\n",
            "Epoch 4/20\n",
            "96/96 [==============================] - 1356s 14s/step - loss: 0.3270 - accuracy: 0.8598 - val_loss: 0.3092 - val_accuracy: 0.8808\n",
            "Epoch 5/20\n",
            "96/96 [==============================] - 1359s 14s/step - loss: 0.3201 - accuracy: 0.8664 - val_loss: 0.2961 - val_accuracy: 0.8925\n",
            "Epoch 6/20\n",
            "96/96 [==============================] - 1359s 14s/step - loss: 0.3045 - accuracy: 0.8731 - val_loss: 0.3027 - val_accuracy: 0.8708\n",
            "Epoch 7/20\n",
            "96/96 [==============================] - 1359s 14s/step - loss: 0.2810 - accuracy: 0.8857 - val_loss: 0.2927 - val_accuracy: 0.8829\n",
            "Epoch 8/20\n",
            "96/96 [==============================] - 1355s 14s/step - loss: 0.4307 - accuracy: 0.8195 - val_loss: 0.3175 - val_accuracy: 0.8704\n",
            "94/94 [==============================] - 111s 1s/step - loss: 0.3134 - accuracy: 0.8697\n",
            "test set accuracy:  86.96666955947876\n"
          ]
        },
        {
          "output_type": "stream",
          "name": "stderr",
          "text": [
            "/usr/local/lib/python3.7/dist-packages/ipykernel_launcher.py:37: SettingWithCopyWarning: \n",
            "A value is trying to be set on a copy of a slice from a DataFrame.\n",
            "Try using .loc[row_indexer,col_indexer] = value instead\n",
            "\n",
            "See the caveats in the documentation: https://pandas.pydata.org/pandas-docs/stable/user_guide/indexing.html#returning-a-view-versus-a-copy\n",
            "/usr/local/lib/python3.7/dist-packages/ipykernel_launcher.py:38: SettingWithCopyWarning: \n",
            "A value is trying to be set on a copy of a slice from a DataFrame.\n",
            "Try using .loc[row_indexer,col_indexer] = value instead\n",
            "\n",
            "See the caveats in the documentation: https://pandas.pydata.org/pandas-docs/stable/user_guide/indexing.html#returning-a-view-versus-a-copy\n",
            "/usr/local/lib/python3.7/dist-packages/ipykernel_launcher.py:39: SettingWithCopyWarning: \n",
            "A value is trying to be set on a copy of a slice from a DataFrame.\n",
            "Try using .loc[row_indexer,col_indexer] = value instead\n",
            "\n",
            "See the caveats in the documentation: https://pandas.pydata.org/pandas-docs/stable/user_guide/indexing.html#returning-a-view-versus-a-copy\n",
            "/usr/local/lib/python3.7/dist-packages/ipykernel_launcher.py:40: SettingWithCopyWarning: \n",
            "A value is trying to be set on a copy of a slice from a DataFrame.\n",
            "Try using .loc[row_indexer,col_indexer] = value instead\n",
            "\n",
            "See the caveats in the documentation: https://pandas.pydata.org/pandas-docs/stable/user_guide/indexing.html#returning-a-view-versus-a-copy\n",
            "/usr/local/lib/python3.7/dist-packages/ipykernel_launcher.py:41: SettingWithCopyWarning: \n",
            "A value is trying to be set on a copy of a slice from a DataFrame.\n",
            "Try using .loc[row_indexer,col_indexer] = value instead\n",
            "\n",
            "See the caveats in the documentation: https://pandas.pydata.org/pandas-docs/stable/user_guide/indexing.html#returning-a-view-versus-a-copy\n"
          ]
        },
        {
          "output_type": "display_data",
          "data": {
            "image/png": "[encoded data removed]",
            "text/plain": [
              "<Figure size 1152x288 with 2 Axes>"
            ]
          },
          "metadata": {
            "needs_background": "light"
          }
        },
        {
          "output_type": "stream",
          "name": "stdout",
          "text": [
            "Classification Report\n",
            "              precision    recall  f1-score   support\n",
            "\n",
            "           0       0.87      0.98      0.92      2369\n",
            "           1       0.86      0.46      0.60       631\n",
            "\n",
            "    accuracy                           0.87      3000\n",
            "   macro avg       0.86      0.72      0.76      3000\n",
            "weighted avg       0.87      0.87      0.85      3000\n",
            "\n",
            "Accuracy Score: 0.8696666666666667\n",
            "Root Mean Square Error: 0.36101708177499486\n"
          ]
        },
        {
          "output_type": "execute_result",
          "data": {
            "text/html": [
              "\n",
              "  <div id=\"df-e5d332f1-6310-4983-835e-54ebb612e258\">\n",
              "    <div class=\"colab-df-container\">\n",
              "      <div>\n",
              "<style scoped>\n",
              "    .dataframe tbody tr th:only-of-type {\n",
              "        vertical-align: middle;\n",
              "    }\n",
              "\n",
              "    .dataframe tbody tr th {\n",
              "        vertical-align: top;\n",
              "    }\n",
              "\n",
              "    .dataframe thead th {\n",
              "        text-align: right;\n",
              "    }\n",
              "</style>\n",
              "<table border=\"1\" class=\"dataframe\">\n",
              "  <thead>\n",
              "    <tr style=\"text-align: right;\">\n",
              "      <th></th>\n",
              "      <th>Unnamed: 0</th>\n",
              "      <th>Model</th>\n",
              "      <th>loss</th>\n",
              "      <th>accuracy</th>\n",
              "      <th>val_loss</th>\n",
              "      <th>val_accuracy</th>\n",
              "      <th>test_loss</th>\n",
              "      <th>test_accuracy</th>\n",
              "      <th>process_time</th>\n",
              "      <th>epochs</th>\n",
              "      <th>batch_size</th>\n",
              "    </tr>\n",
              "  </thead>\n",
              "  <tbody>\n",
              "    <tr>\n",
              "      <th>0</th>\n",
              "      <td>0.0</td>\n",
              "      <td>DNN with 2 layers (no regularization)</td>\n",
              "      <td>0.393726</td>\n",
              "      <td>0.824167</td>\n",
              "      <td>0.409517</td>\n",
              "      <td>0.822083</td>\n",
              "      <td>0.398782</td>\n",
              "      <td>0.836333</td>\n",
              "      <td>331.492346</td>\n",
              "      <td>20</td>\n",
              "      <td>100</td>\n",
              "    </tr>\n",
              "    <tr>\n",
              "      <th>1</th>\n",
              "      <td>1.0</td>\n",
              "      <td>CNN with 2 convolution/max pooling layers (no ...</td>\n",
              "      <td>0.140416</td>\n",
              "      <td>0.944271</td>\n",
              "      <td>0.363302</td>\n",
              "      <td>0.864583</td>\n",
              "      <td>0.341417</td>\n",
              "      <td>0.877667</td>\n",
              "      <td>20179.840590</td>\n",
              "      <td>20</td>\n",
              "      <td>100</td>\n",
              "    </tr>\n",
              "    <tr>\n",
              "      <th>2</th>\n",
              "      <td>NaN</td>\n",
              "      <td>CNN with 3 convolution/max pooling layers (wit...</td>\n",
              "      <td>0.594159</td>\n",
              "      <td>0.872604</td>\n",
              "      <td>2.142269</td>\n",
              "      <td>0.244167</td>\n",
              "      <td>2.157205</td>\n",
              "      <td>0.237000</td>\n",
              "      <td>8921.888941</td>\n",
              "      <td>20</td>\n",
              "      <td>100</td>\n",
              "    </tr>\n",
              "    <tr>\n",
              "      <th>3</th>\n",
              "      <td>NaN</td>\n",
              "      <td>CNN with 3 convolution/max pooling layers (no ...</td>\n",
              "      <td>0.430689</td>\n",
              "      <td>0.819479</td>\n",
              "      <td>0.317468</td>\n",
              "      <td>0.870417</td>\n",
              "      <td>0.313383</td>\n",
              "      <td>0.869667</td>\n",
              "      <td>11150.180596</td>\n",
              "      <td>20</td>\n",
              "      <td>100</td>\n",
              "    </tr>\n",
              "  </tbody>\n",
              "</table>\n",
              "</div>\n",
              "      <button class=\"colab-df-convert\" onclick=\"convertToInteractive('df-e5d332f1-6310-4983-835e-54ebb612e258')\"\n",
              "              title=\"Convert this dataframe to an interactive table.\"\n",
              "              style=\"display:none;\">\n",
              "        \n",
              "  <svg xmlns=\"http://www.w3.org/2000/svg\" height=\"24px\"viewBox=\"0 0 24 24\"\n",
              "       width=\"24px\">\n",
              "    <path d=\"M0 0h24v24H0V0z\" fill=\"none\"/>\n",
              "    <path d=\"M18.56 5.44l.94 2.06.94-2.06 2.06-.94-2.06-.94-.94-2.06-.94 2.06-2.06.94zm-11 1L8.5 8.5l.94-2.06 2.06-.94-2.06-.94L8.5 2.5l-.94 2.06-2.06.94zm10 10l.94 2.06.94-2.06 2.06-.94-2.06-.94-.94-2.06-.94 2.06-2.06.94z\"/><path d=\"M17.41 7.96l-1.37-1.37c-.4-.4-.92-.59-1.43-.59-.52 0-1.04.2-1.43.59L10.3 9.45l-7.72 7.72c-.78.78-.78 2.05 0 2.83L4 21.41c.39.39.9.59 1.41.59.51 0 1.02-.2 1.41-.59l7.78-7.78 2.81-2.81c.8-.78.8-2.07 0-2.86zM5.41 20L4 18.59l7.72-7.72 1.47 1.35L5.41 20z\"/>\n",
              "  </svg>\n",
              "      </button>\n",
              "      \n",
              "  <style>\n",
              "    .colab-df-container {\n",
              "      display:flex;\n",
              "      flex-wrap:wrap;\n",
              "      gap: 12px;\n",
              "    }\n",
              "\n",
              "    .colab-df-convert {\n",
              "      background-color: #E8F0FE;\n",
              "      border: none;\n",
              "      border-radius: 50%;\n",
              "      cursor: pointer;\n",
              "      display: none;\n",
              "      fill: #1967D2;\n",
              "      height: 32px;\n",
              "      padding: 0 0 0 0;\n",
              "      width: 32px;\n",
              "    }\n",
              "\n",
              "    .colab-df-convert:hover {\n",
              "      background-color: #E2EBFA;\n",
              "      box-shadow: 0px 1px 2px rgba(60, 64, 67, 0.3), 0px 1px 3px 1px rgba(60, 64, 67, 0.15);\n",
              "      fill: #174EA6;\n",
              "    }\n",
              "\n",
              "    [theme=dark] .colab-df-convert {\n",
              "      background-color: #3B4455;\n",
              "      fill: #D2E3FC;\n",
              "    }\n",
              "\n",
              "    [theme=dark] .colab-df-convert:hover {\n",
              "      background-color: #434B5C;\n",
              "      box-shadow: 0px 1px 3px 1px rgba(0, 0, 0, 0.15);\n",
              "      filter: drop-shadow(0px 1px 2px rgba(0, 0, 0, 0.3));\n",
              "      fill: #FFFFFF;\n",
              "    }\n",
              "  </style>\n",
              "\n",
              "      <script>\n",
              "        const buttonEl =\n",
              "          document.querySelector('#df-e5d332f1-6310-4983-835e-54ebb612e258 button.colab-df-convert');\n",
              "        buttonEl.style.display =\n",
              "          google.colab.kernel.accessAllowed ? 'block' : 'none';\n",
              "\n",
              "        async function convertToInteractive(key) {\n",
              "          const element = document.querySelector('#df-e5d332f1-6310-4983-835e-54ebb612e258');\n",
              "          const dataTable =\n",
              "            await google.colab.kernel.invokeFunction('convertToInteractive',\n",
              "                                                     [key], {});\n",
              "          if (!dataTable) return;\n",
              "\n",
              "          const docLinkHtml = 'Like what you see? Visit the ' +\n",
              "            '<a target=\"_blank\" href=https://colab.research.google.com/notebooks/data_table.ipynb>data table notebook</a>'\n",
              "            + ' to learn more about interactive tables.';\n",
              "          element.innerHTML = '';\n",
              "          dataTable['output_type'] = 'display_data';\n",
              "          await google.colab.output.renderOutput(dataTable, element);\n",
              "          const docLink = document.createElement('div');\n",
              "          docLink.innerHTML = docLinkHtml;\n",
              "          element.appendChild(docLink);\n",
              "        }\n",
              "      </script>\n",
              "    </div>\n",
              "  </div>\n",
              "  "
            ],
            "text/plain": [
              "   Unnamed: 0                                              Model      loss  \\\n",
              "0         0.0              DNN with 2 layers (no regularization)  0.393726   \n",
              "1         1.0  CNN with 2 convolution/max pooling layers (no ...  0.140416   \n",
              "2         NaN  CNN with 3 convolution/max pooling layers (wit...  0.594159   \n",
              "3         NaN  CNN with 3 convolution/max pooling layers (no ...  0.430689   \n",
              "\n",
              "   accuracy  val_loss  val_accuracy  test_loss  test_accuracy  process_time  \\\n",
              "0  0.824167  0.409517      0.822083   0.398782       0.836333    331.492346   \n",
              "1  0.944271  0.363302      0.864583   0.341417       0.877667  20179.840590   \n",
              "2  0.872604  2.142269      0.244167   2.157205       0.237000   8921.888941   \n",
              "3  0.819479  0.317468      0.870417   0.313383       0.869667  11150.180596   \n",
              "\n",
              "   epochs  batch_size  \n",
              "0      20         100  \n",
              "1      20         100  \n",
              "2      20         100  \n",
              "3      20         100  "
            ]
          },
          "metadata": {},
          "execution_count": 24
        },
        {
          "output_type": "display_data",
          "data": {
            "image/png": "[encoded data removed]",
            "text/plain": [
              "<Figure size 576x576 with 1 Axes>"
            ]
          },
          "metadata": {
            "needs_background": "light"
          }
        }
      ]
    },
    {
      "cell_type": "markdown",
      "source": [
        "## CNN with regularization \n"
      ],
      "metadata": {
        "id": "XQn3i9Cjsqx8"
      }
    },
    {
      "cell_type": "code",
      "source": [
        "model4_reg = models.Sequential()\n",
        "model4_reg.add(layers.Conv2D(filters=128, kernel_size=(3, 3), strides=(1, 1), activation=tf.nn.relu,input_shape=(100, 100, 3)))\n",
        "model4_reg.add(layers.MaxPool2D((2, 2),strides=2))\n",
        "model4_reg.add(layers.Dropout(0.3))\n",
        "model4_reg.add(layers.Conv2D(filters=256, kernel_size=(3, 3), strides=(1, 1), activation=tf.nn.relu))\n",
        "model4_reg.add(layers.MaxPool2D(pool_size=(2, 2),strides=2))\n",
        "model4_reg.add(layers.Dropout(0.3))\n",
        "model4_reg.add(layers.Conv2D(filters=512, kernel_size=(3, 3), strides=(1, 1), activation=tf.nn.relu))\n",
        "model4_reg.add(layers.MaxPool2D(pool_size=(2, 2),strides=2))\n",
        "model4_reg.add(layers.Dropout(0.3))\n",
        "model4_reg.add(layers.Flatten())\n",
        "#model4_reg.add(layers.BatchNormalization())\n",
        "model4_reg.add(layers.Dense(units=384, activation=tf.nn.relu,kernel_regularizer=tf.keras.regularizers.L2(0.001)))\n",
        "model4_reg.add(layers.Dense(units=2, activation=tf.nn.softmax))\n",
        "\n",
        "model4_reg.summary()"
      ],
      "metadata": {
        "id": "P2cQJJhQhbaP",
        "colab": {
          "base_uri": "https://localhost:8080/"
        },
        "outputId": "f8b5f504-2175-4aba-fcad-8088e01950e4"
      },
      "execution_count": null,
      "outputs": [
        {
          "output_type": "stream",
          "name": "stdout",
          "text": [
            "Model: \"sequential\"\n",
            "_________________________________________________________________\n",
            " Layer (type)                Output Shape              Param #   \n",
            "=================================================================\n",
            " conv2d (Conv2D)             (None, 98, 98, 128)       3584      \n",
            "                                                                 \n",
            " max_pooling2d (MaxPooling2D  (None, 49, 49, 128)      0         \n",
            " )                                                               \n",
            "                                                                 \n",
            " dropout (Dropout)           (None, 49, 49, 128)       0         \n",
            "                                                                 \n",
            " conv2d_1 (Conv2D)           (None, 47, 47, 256)       295168    \n",
            "                                                                 \n",
            " max_pooling2d_1 (MaxPooling  (None, 23, 23, 256)      0         \n",
            " 2D)                                                             \n",
            "                                                                 \n",
            " dropout_1 (Dropout)         (None, 23, 23, 256)       0         \n",
            "                                                                 \n",
            " conv2d_2 (Conv2D)           (None, 21, 21, 512)       1180160   \n",
            "                                                                 \n",
            " max_pooling2d_2 (MaxPooling  (None, 10, 10, 512)      0         \n",
            " 2D)                                                             \n",
            "                                                                 \n",
            " dropout_2 (Dropout)         (None, 10, 10, 512)       0         \n",
            "                                                                 \n",
            " flatten (Flatten)           (None, 51200)             0         \n",
            "                                                                 \n",
            " dense (Dense)               (None, 384)               19661184  \n",
            "                                                                 \n",
            " dense_1 (Dense)             (None, 2)                 770       \n",
            "                                                                 \n",
            "=================================================================\n",
            "Total params: 21,140,866\n",
            "Trainable params: 21,140,866\n",
            "Non-trainable params: 0\n",
            "_________________________________________________________________\n"
          ]
        }
      ]
    },
    {
      "cell_type": "code",
      "source": [
        "result4_reg = compile_train_model_with_reg(model4_reg, 20, 100)"
      ],
      "metadata": {
        "id": "Ic3HKewnwqpD",
        "outputId": "0674f3cd-9034-41df-ac25-61de56730259",
        "colab": {
          "base_uri": "https://localhost:8080/",
          "height": 1000
        }
      },
      "execution_count": null,
      "outputs": [
        {
          "output_type": "stream",
          "name": "stdout",
          "text": [
            "Epoch 1/20\n",
            "96/96 [==============================] - 1429s 15s/step - loss: 1.1285 - accuracy: 0.7731 - val_loss: 0.6846 - val_accuracy: 0.8467\n",
            "Epoch 2/20\n",
            "96/96 [==============================] - 1422s 15s/step - loss: 0.5046 - accuracy: 0.8233 - val_loss: 0.4262 - val_accuracy: 0.8325\n",
            "Epoch 3/20\n",
            "96/96 [==============================] - 1434s 15s/step - loss: 0.4133 - accuracy: 0.8452 - val_loss: 0.4098 - val_accuracy: 0.8671\n",
            "Epoch 4/20\n",
            "96/96 [==============================] - 1425s 15s/step - loss: 0.3682 - accuracy: 0.8579 - val_loss: 0.3479 - val_accuracy: 0.8658\n",
            "Epoch 5/20\n",
            "96/96 [==============================] - 1417s 15s/step - loss: 0.3529 - accuracy: 0.8586 - val_loss: 0.3552 - val_accuracy: 0.8487\n",
            "Epoch 6/20\n",
            "96/96 [==============================] - 1435s 15s/step - loss: 0.3272 - accuracy: 0.8702 - val_loss: 0.3632 - val_accuracy: 0.8575\n",
            "94/94 [==============================] - 117s 1s/step - loss: 0.3529 - accuracy: 0.8583\n",
            "test set accuracy:  85.83333492279053\n"
          ]
        },
        {
          "output_type": "stream",
          "name": "stderr",
          "text": [
            "/usr/local/lib/python3.7/dist-packages/ipykernel_launcher.py:37: SettingWithCopyWarning: \n",
            "A value is trying to be set on a copy of a slice from a DataFrame.\n",
            "Try using .loc[row_indexer,col_indexer] = value instead\n",
            "\n",
            "See the caveats in the documentation: https://pandas.pydata.org/pandas-docs/stable/user_guide/indexing.html#returning-a-view-versus-a-copy\n",
            "/usr/local/lib/python3.7/dist-packages/ipykernel_launcher.py:38: SettingWithCopyWarning: \n",
            "A value is trying to be set on a copy of a slice from a DataFrame.\n",
            "Try using .loc[row_indexer,col_indexer] = value instead\n",
            "\n",
            "See the caveats in the documentation: https://pandas.pydata.org/pandas-docs/stable/user_guide/indexing.html#returning-a-view-versus-a-copy\n",
            "/usr/local/lib/python3.7/dist-packages/ipykernel_launcher.py:39: SettingWithCopyWarning: \n",
            "A value is trying to be set on a copy of a slice from a DataFrame.\n",
            "Try using .loc[row_indexer,col_indexer] = value instead\n",
            "\n",
            "See the caveats in the documentation: https://pandas.pydata.org/pandas-docs/stable/user_guide/indexing.html#returning-a-view-versus-a-copy\n",
            "/usr/local/lib/python3.7/dist-packages/ipykernel_launcher.py:40: SettingWithCopyWarning: \n",
            "A value is trying to be set on a copy of a slice from a DataFrame.\n",
            "Try using .loc[row_indexer,col_indexer] = value instead\n",
            "\n",
            "See the caveats in the documentation: https://pandas.pydata.org/pandas-docs/stable/user_guide/indexing.html#returning-a-view-versus-a-copy\n",
            "/usr/local/lib/python3.7/dist-packages/ipykernel_launcher.py:41: SettingWithCopyWarning: \n",
            "A value is trying to be set on a copy of a slice from a DataFrame.\n",
            "Try using .loc[row_indexer,col_indexer] = value instead\n",
            "\n",
            "See the caveats in the documentation: https://pandas.pydata.org/pandas-docs/stable/user_guide/indexing.html#returning-a-view-versus-a-copy\n"
          ]
        },
        {
          "output_type": "display_data",
          "data": {
            "image/png": "[encoded data removed]",
            "text/plain": [
              "<Figure size 1152x288 with 2 Axes>"
            ]
          },
          "metadata": {
            "needs_background": "light"
          }
        },
        {
          "output_type": "stream",
          "name": "stdout",
          "text": [
            "Classification Report\n",
            "              precision    recall  f1-score   support\n",
            "\n",
            "           0       0.94      0.88      0.91      2369\n",
            "           1       0.63      0.80      0.70       631\n",
            "\n",
            "    accuracy                           0.86      3000\n",
            "   macro avg       0.79      0.84      0.80      3000\n",
            "weighted avg       0.88      0.86      0.86      3000\n",
            "\n",
            "Accuracy Score: 0.8583333333333333\n",
            "Root Mean Square Error: 0.3763863263545405\n"
          ]
        },
        {
          "output_type": "display_data",
          "data": {
            "image/png": "[encoded data removed]",
            "text/plain": [
              "<Figure size 576x576 with 1 Axes>"
            ]
          },
          "metadata": {
            "needs_background": "light"
          }
        }
      ]
    },
    {
      "cell_type": "code",
      "source": [
        "assignment_result_table= pd.read_csv('/content/gdrive/My Drive/Colab Notebooks/assignment4_result.csv')"
      ],
      "metadata": {
        "id": "t37-2U4NVyLb"
      },
      "execution_count": null,
      "outputs": []
    },
    {
      "cell_type": "code",
      "source": [
        "new_col = ['CNN with 3 convolution/max pooling layers (with regularization)2']   \n",
        "result4_reg.insert(loc=0, column='Model', value=new_col)\n",
        "assignment_result_table = assignment_result_table.append(result4_reg, ignore_index = True)\n",
        "assignment_result_table"
      ],
      "metadata": {
        "id": "rBSysAZFDWJO",
        "outputId": "3a888f77-94cd-4032-ed35-a3cb21a1499a",
        "colab": {
          "base_uri": "https://localhost:8080/",
          "height": 350
        }
      },
      "execution_count": null,
      "outputs": [
        {
          "output_type": "execute_result",
          "data": {
            "text/html": [
              "\n",
              "  <div id=\"df-d1d3a63c-ce05-4da0-8f70-1a512030cb0f\">\n",
              "    <div class=\"colab-df-container\">\n",
              "      <div>\n",
              "<style scoped>\n",
              "    .dataframe tbody tr th:only-of-type {\n",
              "        vertical-align: middle;\n",
              "    }\n",
              "\n",
              "    .dataframe tbody tr th {\n",
              "        vertical-align: top;\n",
              "    }\n",
              "\n",
              "    .dataframe thead th {\n",
              "        text-align: right;\n",
              "    }\n",
              "</style>\n",
              "<table border=\"1\" class=\"dataframe\">\n",
              "  <thead>\n",
              "    <tr style=\"text-align: right;\">\n",
              "      <th></th>\n",
              "      <th>Unnamed: 0</th>\n",
              "      <th>Unnamed: 0.1</th>\n",
              "      <th>Model</th>\n",
              "      <th>loss</th>\n",
              "      <th>accuracy</th>\n",
              "      <th>val_loss</th>\n",
              "      <th>val_accuracy</th>\n",
              "      <th>test_loss</th>\n",
              "      <th>test_accuracy</th>\n",
              "      <th>process_time</th>\n",
              "      <th>epochs</th>\n",
              "      <th>batch_size</th>\n",
              "    </tr>\n",
              "  </thead>\n",
              "  <tbody>\n",
              "    <tr>\n",
              "      <th>0</th>\n",
              "      <td>0.0</td>\n",
              "      <td>0.0</td>\n",
              "      <td>DNN with 2 layers (no regularization)</td>\n",
              "      <td>0.393726</td>\n",
              "      <td>0.824167</td>\n",
              "      <td>0.409517</td>\n",
              "      <td>0.822083</td>\n",
              "      <td>0.398782</td>\n",
              "      <td>0.836333</td>\n",
              "      <td>331.492346</td>\n",
              "      <td>20</td>\n",
              "      <td>100</td>\n",
              "    </tr>\n",
              "    <tr>\n",
              "      <th>1</th>\n",
              "      <td>1.0</td>\n",
              "      <td>1.0</td>\n",
              "      <td>CNN with 2 convolution/max pooling layers (no ...</td>\n",
              "      <td>0.140416</td>\n",
              "      <td>0.944271</td>\n",
              "      <td>0.363302</td>\n",
              "      <td>0.864583</td>\n",
              "      <td>0.341417</td>\n",
              "      <td>0.877667</td>\n",
              "      <td>20179.840590</td>\n",
              "      <td>20</td>\n",
              "      <td>100</td>\n",
              "    </tr>\n",
              "    <tr>\n",
              "      <th>2</th>\n",
              "      <td>2.0</td>\n",
              "      <td>NaN</td>\n",
              "      <td>CNN with 3 convolution/max pooling layers (wit...</td>\n",
              "      <td>0.594159</td>\n",
              "      <td>0.872604</td>\n",
              "      <td>2.142269</td>\n",
              "      <td>0.244167</td>\n",
              "      <td>2.157205</td>\n",
              "      <td>0.237000</td>\n",
              "      <td>8921.888941</td>\n",
              "      <td>20</td>\n",
              "      <td>100</td>\n",
              "    </tr>\n",
              "    <tr>\n",
              "      <th>3</th>\n",
              "      <td>3.0</td>\n",
              "      <td>NaN</td>\n",
              "      <td>CNN with 3 convolution/max pooling layers (no ...</td>\n",
              "      <td>0.430689</td>\n",
              "      <td>0.819479</td>\n",
              "      <td>0.317468</td>\n",
              "      <td>0.870417</td>\n",
              "      <td>0.313383</td>\n",
              "      <td>0.869667</td>\n",
              "      <td>11150.180596</td>\n",
              "      <td>20</td>\n",
              "      <td>100</td>\n",
              "    </tr>\n",
              "    <tr>\n",
              "      <th>4</th>\n",
              "      <td>NaN</td>\n",
              "      <td>NaN</td>\n",
              "      <td>CNN with 3 convolution/max pooling layers (wit...</td>\n",
              "      <td>0.327179</td>\n",
              "      <td>0.870208</td>\n",
              "      <td>0.363175</td>\n",
              "      <td>0.857500</td>\n",
              "      <td>0.352894</td>\n",
              "      <td>0.858333</td>\n",
              "      <td>8796.981802</td>\n",
              "      <td>20</td>\n",
              "      <td>100</td>\n",
              "    </tr>\n",
              "  </tbody>\n",
              "</table>\n",
              "</div>\n",
              "      <button class=\"colab-df-convert\" onclick=\"convertToInteractive('df-d1d3a63c-ce05-4da0-8f70-1a512030cb0f')\"\n",
              "              title=\"Convert this dataframe to an interactive table.\"\n",
              "              style=\"display:none;\">\n",
              "        \n",
              "  <svg xmlns=\"http://www.w3.org/2000/svg\" height=\"24px\"viewBox=\"0 0 24 24\"\n",
              "       width=\"24px\">\n",
              "    <path d=\"M0 0h24v24H0V0z\" fill=\"none\"/>\n",
              "    <path d=\"M18.56 5.44l.94 2.06.94-2.06 2.06-.94-2.06-.94-.94-2.06-.94 2.06-2.06.94zm-11 1L8.5 8.5l.94-2.06 2.06-.94-2.06-.94L8.5 2.5l-.94 2.06-2.06.94zm10 10l.94 2.06.94-2.06 2.06-.94-2.06-.94-.94-2.06-.94 2.06-2.06.94z\"/><path d=\"M17.41 7.96l-1.37-1.37c-.4-.4-.92-.59-1.43-.59-.52 0-1.04.2-1.43.59L10.3 9.45l-7.72 7.72c-.78.78-.78 2.05 0 2.83L4 21.41c.39.39.9.59 1.41.59.51 0 1.02-.2 1.41-.59l7.78-7.78 2.81-2.81c.8-.78.8-2.07 0-2.86zM5.41 20L4 18.59l7.72-7.72 1.47 1.35L5.41 20z\"/>\n",
              "  </svg>\n",
              "      </button>\n",
              "      \n",
              "  <style>\n",
              "    .colab-df-container {\n",
              "      display:flex;\n",
              "      flex-wrap:wrap;\n",
              "      gap: 12px;\n",
              "    }\n",
              "\n",
              "    .colab-df-convert {\n",
              "      background-color: #E8F0FE;\n",
              "      border: none;\n",
              "      border-radius: 50%;\n",
              "      cursor: pointer;\n",
              "      display: none;\n",
              "      fill: #1967D2;\n",
              "      height: 32px;\n",
              "      padding: 0 0 0 0;\n",
              "      width: 32px;\n",
              "    }\n",
              "\n",
              "    .colab-df-convert:hover {\n",
              "      background-color: #E2EBFA;\n",
              "      box-shadow: 0px 1px 2px rgba(60, 64, 67, 0.3), 0px 1px 3px 1px rgba(60, 64, 67, 0.15);\n",
              "      fill: #174EA6;\n",
              "    }\n",
              "\n",
              "    [theme=dark] .colab-df-convert {\n",
              "      background-color: #3B4455;\n",
              "      fill: #D2E3FC;\n",
              "    }\n",
              "\n",
              "    [theme=dark] .colab-df-convert:hover {\n",
              "      background-color: #434B5C;\n",
              "      box-shadow: 0px 1px 3px 1px rgba(0, 0, 0, 0.15);\n",
              "      filter: drop-shadow(0px 1px 2px rgba(0, 0, 0, 0.3));\n",
              "      fill: #FFFFFF;\n",
              "    }\n",
              "  </style>\n",
              "\n",
              "      <script>\n",
              "        const buttonEl =\n",
              "          document.querySelector('#df-d1d3a63c-ce05-4da0-8f70-1a512030cb0f button.colab-df-convert');\n",
              "        buttonEl.style.display =\n",
              "          google.colab.kernel.accessAllowed ? 'block' : 'none';\n",
              "\n",
              "        async function convertToInteractive(key) {\n",
              "          const element = document.querySelector('#df-d1d3a63c-ce05-4da0-8f70-1a512030cb0f');\n",
              "          const dataTable =\n",
              "            await google.colab.kernel.invokeFunction('convertToInteractive',\n",
              "                                                     [key], {});\n",
              "          if (!dataTable) return;\n",
              "\n",
              "          const docLinkHtml = 'Like what you see? Visit the ' +\n",
              "            '<a target=\"_blank\" href=https://colab.research.google.com/notebooks/data_table.ipynb>data table notebook</a>'\n",
              "            + ' to learn more about interactive tables.';\n",
              "          element.innerHTML = '';\n",
              "          dataTable['output_type'] = 'display_data';\n",
              "          await google.colab.output.renderOutput(dataTable, element);\n",
              "          const docLink = document.createElement('div');\n",
              "          docLink.innerHTML = docLinkHtml;\n",
              "          element.appendChild(docLink);\n",
              "        }\n",
              "      </script>\n",
              "    </div>\n",
              "  </div>\n",
              "  "
            ],
            "text/plain": [
              "   Unnamed: 0  Unnamed: 0.1  \\\n",
              "0         0.0           0.0   \n",
              "1         1.0           1.0   \n",
              "2         2.0           NaN   \n",
              "3         3.0           NaN   \n",
              "4         NaN           NaN   \n",
              "\n",
              "                                               Model      loss  accuracy  \\\n",
              "0              DNN with 2 layers (no regularization)  0.393726  0.824167   \n",
              "1  CNN with 2 convolution/max pooling layers (no ...  0.140416  0.944271   \n",
              "2  CNN with 3 convolution/max pooling layers (wit...  0.594159  0.872604   \n",
              "3  CNN with 3 convolution/max pooling layers (no ...  0.430689  0.819479   \n",
              "4  CNN with 3 convolution/max pooling layers (wit...  0.327179  0.870208   \n",
              "\n",
              "   val_loss  val_accuracy  test_loss  test_accuracy  process_time  epochs  \\\n",
              "0  0.409517      0.822083   0.398782       0.836333    331.492346      20   \n",
              "1  0.363302      0.864583   0.341417       0.877667  20179.840590      20   \n",
              "2  2.142269      0.244167   2.157205       0.237000   8921.888941      20   \n",
              "3  0.317468      0.870417   0.313383       0.869667  11150.180596      20   \n",
              "4  0.363175      0.857500   0.352894       0.858333   8796.981802      20   \n",
              "\n",
              "   batch_size  \n",
              "0         100  \n",
              "1         100  \n",
              "2         100  \n",
              "3         100  \n",
              "4         100  "
            ]
          },
          "metadata": {},
          "execution_count": 19
        }
      ]
    },
    {
      "cell_type": "code",
      "source": [
        "assignment_result_table.to_csv('/content/gdrive/My Drive/Colab Notebooks/assignment4_result.csv')"
      ],
      "metadata": {
        "id": "lnktqSnyw_nA"
      },
      "execution_count": null,
      "outputs": []
    }
  ],
  "metadata": {
    "colab": {
      "collapsed_sections": [
        "7RA4qIcOQeO2",
        "AFxVrYAQQizg",
        "p7PtUGyZXiFl",
        "5VUArw4PczlM",
        "VT03fj46XGPh",
        "T2aVk5qIqDW2"
      ],
      "name": "MSDS458_Assignment_04.ipynb",
      "provenance": [],
      "authorship_tag": "ABX9TyODwgEz36OduczQuZAOBbHI",
      "include_colab_link": true
    },
    "kernelspec": {
      "display_name": "Python 3",
      "name": "python3"
    },
    "language_info": {
      "name": "python"
    }
  },
  "nbformat": 4,
  "nbformat_minor": 0
}