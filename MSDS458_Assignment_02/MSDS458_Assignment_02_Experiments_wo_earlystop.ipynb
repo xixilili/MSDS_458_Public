{
  "nbformat": 4,
  "nbformat_minor": 0,
  "metadata": {
    "accelerator": "GPU",
    "colab": {
      "name": "MSDS458_Assignment_02_ResearchExample_20210920_COLAB_Part1.ipynb",
      "provenance": [],
      "collapsed_sections": [],
      "machine_shape": "hm"
    },
    "kernelspec": {
      "display_name": "Python 3",
      "language": "python",
      "name": "python3"
    },
    "language_info": {
      "codemirror_mode": {
        "name": "ipython",
        "version": 3
      },
      "file_extension": ".py",
      "mimetype": "text/x-python",
      "name": "python",
      "nbconvert_exporter": "python",
      "pygments_lexer": "ipython3",
      "version": "3.6.9"
    },
    "toc": {
      "base_numbering": 1,
      "nav_menu": {},
      "number_sections": false,
      "sideBar": true,
      "skip_h1_title": false,
      "title_cell": "Table of Contents",
      "title_sidebar": "Contents",
      "toc_cell": false,
      "toc_position": {},
      "toc_section_display": true,
      "toc_window_display": false
    }
  },
  "cells": [
    {
      "cell_type": "markdown",
      "metadata": {
        "id": "SRLmkqrHBQS2"
      },
      "source": [
        "## MSDS458 Research Assignment 02 Experiments\n",
        "\n",
        "Experiment 1: DNN with 2 layers (no regularization)\n",
        "\n",
        "Experiment 2: DNN with 3 layers (no regularization)\n",
        "\n",
        "Experiment 3: CNN with 2 convolution/max pooling layers (no regularization)\n",
        "\n",
        "Experiment 4: CNN with 3 convolution/max pooling layers (no regularization)\n",
        "\n",
        "Experiment 5+ : You will conduct several more experiments. \n",
        "(a) Redo all the 4 experiments with some regularization technique. \n",
        "(b) Create more experiments on your own by tweaking architectures and/or hyper parameters."
      ]
    },
    {
      "cell_type": "markdown",
      "metadata": {
        "id": "v2-7tctUBQS2"
      },
      "source": [
        "The CIFAR-10 dataset (Canadian Institute For Advanced Research) is a collection of images that are commonly used to train machine learning and computer vision algorithms. It is one of the most widely used datasets for machine learning research. The CIFAR-10 dataset contains 60,000 32x32 color images in 10 different classes. The 10 different classes represent airplanes, cars, birds, cats, deer, dogs, frogs, horses, ships, and trucks. There are 6,000 images of each class."
      ]
    },
    {
      "cell_type": "markdown",
      "metadata": {
        "id": "pNvM9PVNAIyq"
      },
      "source": [
        "<div class=\"alert alert-block alert-info\">\n",
        "<b>The CIFAR-10 dataset</b><br>\n",
        "https://www.cs.toronto.edu/~kriz/cifar.html\n",
        "    </div>"
      ]
    },
    {
      "cell_type": "markdown",
      "metadata": {
        "id": "sSPcQhKUBQS2"
      },
      "source": [
        "## Import packages needed "
      ]
    },
    {
      "cell_type": "code",
      "metadata": {
        "id": "eHmjw7WoBQS2"
      },
      "source": [
        "import datetime\n",
        "import time\n",
        "import numpy as np\n",
        "import pandas as pd\n",
        "from packaging import version\n",
        "from collections import Counter\n",
        "\n",
        "from sklearn.metrics import confusion_matrix, classification_report\n",
        "from sklearn.metrics import accuracy_score\n",
        "from sklearn.metrics import mean_squared_error as MSE\n",
        "from sklearn.model_selection import train_test_split\n",
        "from sklearn.manifold import TSNE\n",
        "\n",
        "import matplotlib.pyplot as plt\n",
        "import matplotlib as mpl\n",
        "import seaborn as sns\n",
        "\n",
        "import tensorflow as tf\n",
        "from tensorflow import keras\n",
        "from tensorflow.keras import models, layers\n",
        "from tensorflow.keras.models import Sequential\n",
        "from tensorflow.keras.layers import Conv2D, MaxPool2D, BatchNormalization, Dropout, Flatten, Input, Dense\n",
        "from tensorflow.keras.callbacks import ModelCheckpoint, EarlyStopping\n",
        "from tensorflow.keras.preprocessing import image\n",
        "from tensorflow.keras.utils import to_categorical"
      ],
      "execution_count": 1,
      "outputs": []
    },
    {
      "cell_type": "code",
      "metadata": {
        "id": "_cXetOQXBQS3"
      },
      "source": [
        "%matplotlib inline\n",
        "np.set_printoptions(precision=3, suppress=True)"
      ],
      "execution_count": 2,
      "outputs": []
    },
    {
      "cell_type": "markdown",
      "metadata": {
        "id": "yIDm78WyBQS3"
      },
      "source": [
        "### Verify TensorFlow Version and Keras Version"
      ]
    },
    {
      "cell_type": "code",
      "metadata": {
        "colab": {
          "base_uri": "https://localhost:8080/"
        },
        "id": "Z54Ct2ouBQS3",
        "outputId": "600e653b-4149-43e7-8bd1-37d5d8583978"
      },
      "source": [
        "print(\"This notebook requires TensorFlow 2.0 or above\")\n",
        "print(\"TensorFlow version: \", tf.__version__)\n",
        "assert version.parse(tf.__version__).release[0] >=2"
      ],
      "execution_count": 3,
      "outputs": [
        {
          "output_type": "stream",
          "name": "stdout",
          "text": [
            "This notebook requires TensorFlow 2.0 or above\n",
            "TensorFlow version:  2.7.0\n"
          ]
        }
      ]
    },
    {
      "cell_type": "code",
      "metadata": {
        "colab": {
          "base_uri": "https://localhost:8080/"
        },
        "id": "3dgj2RJnBQS6",
        "outputId": "9c731147-4ac3-49ef-b5f0-40b9b036ff7a"
      },
      "source": [
        "print(\"Keras version: \", keras.__version__)"
      ],
      "execution_count": 4,
      "outputs": [
        {
          "output_type": "stream",
          "name": "stdout",
          "text": [
            "Keras version:  2.7.0\n"
          ]
        }
      ]
    },
    {
      "cell_type": "markdown",
      "metadata": {
        "id": "ApjAZzsZBQS6"
      },
      "source": [
        "### Mount Google Drive to Colab Environment"
      ]
    },
    {
      "cell_type": "code",
      "metadata": {
        "colab": {
          "base_uri": "https://localhost:8080/"
        },
        "id": "UqJfFzLIBQS6",
        "outputId": "cc60aee2-3fe7-457d-cf68-30a77b270841"
      },
      "source": [
        "from google.colab import drive\n",
        "drive.mount('/content/gdrive')"
      ],
      "execution_count": 5,
      "outputs": [
        {
          "output_type": "stream",
          "name": "stdout",
          "text": [
            "Mounted at /content/gdrive\n"
          ]
        }
      ]
    },
    {
      "cell_type": "markdown",
      "metadata": {
        "id": "wheq-fA-5VuQ"
      },
      "source": [
        "### Functions for Research Assignment"
      ]
    },
    {
      "cell_type": "code",
      "metadata": {
        "id": "hMmC4BQy5UoQ"
      },
      "source": [
        "def print_validation_report(y_test, predictions):\n",
        "    print(\"Classification Report\")\n",
        "    print(classification_report(y_test, predictions))\n",
        "    print('Accuracy Score: {}'.format(accuracy_score(y_test, predictions)))\n",
        "    print('Root Mean Square Error: {}'.format(np.sqrt(MSE(y_test, predictions)))) "
      ],
      "execution_count": 6,
      "outputs": []
    },
    {
      "cell_type": "code",
      "metadata": {
        "id": "oJKrRAYk5dCm"
      },
      "source": [
        "def plot_confusion_matrix(y_true, y_pred):\n",
        "    mtx = confusion_matrix(y_true, y_pred)\n",
        "    fig, ax = plt.subplots(figsize=(8,8))\n",
        "    sns.heatmap(mtx, annot=True, fmt='d', linewidths=.75,  cbar=False, ax=ax,cmap='Blues',linecolor='white')\n",
        "    #  square=True,\n",
        "    plt.ylabel('true label')\n",
        "    plt.xlabel('predicted label')"
      ],
      "execution_count": 7,
      "outputs": []
    },
    {
      "cell_type": "markdown",
      "metadata": {
        "id": "m2smn4LPBQS6"
      },
      "source": [
        "## Loading cifar10 Dataset\n",
        "\n",
        "The CIFAR-10 dataset consists of 60000 32x32 colour images in 10 classes, with 6000 images per class. There are 50000 training images and 10000 test images.<br>\n",
        "\n",
        "The dataset is divided into five training batches and one test batch, each with 10000 images. The test batch contains exactly 1000 randomly-selected images from each class. The training batches contain the remaining images in random order, but some training batches may contain more images from one class than another. Between them, the training batches contain exactly 5000 images from each class.\n"
      ]
    },
    {
      "cell_type": "code",
      "metadata": {
        "id": "Bs_WjVbQE9TQ",
        "outputId": "c731f11f-933a-4b5b-923c-cd4519d8b974",
        "colab": {
          "base_uri": "https://localhost:8080/"
        }
      },
      "source": [
        "(x_train, y_train), (x_test, y_test) = keras.datasets.cifar10.load_data()"
      ],
      "execution_count": 8,
      "outputs": [
        {
          "output_type": "stream",
          "name": "stdout",
          "text": [
            "Downloading data from https://www.cs.toronto.edu/~kriz/cifar-10-python.tar.gz\n",
            "170500096/170498071 [==============================] - 3s 0us/step\n",
            "170508288/170498071 [==============================] - 3s 0us/step\n"
          ]
        }
      ]
    },
    {
      "cell_type": "markdown",
      "metadata": {
        "id": "L1nXyX8xBQS6"
      },
      "source": [
        "* Tuple of Numpy arrays: (x_train, y_train), (x_test, y_test).\n",
        "* x_train, x_test: uint8 arrays of color image data with shapes (num_samples, 32, 32).\n",
        "* y_train, y_test: uint8 arrays of digit labels (integers in range 0-9)"
      ]
    },
    {
      "cell_type": "markdown",
      "metadata": {
        "id": "0qXkOUboBQS6"
      },
      "source": [
        "## EDA Training and Test Datasets\n",
        "\n",
        "* Imported 50000 examples for training and 10000 examples for test \n",
        "* Imported 50000 labels for training and 10000 labels for test "
      ]
    },
    {
      "cell_type": "code",
      "metadata": {
        "colab": {
          "base_uri": "https://localhost:8080/"
        },
        "id": "un0LuWX2BQS7",
        "outputId": "3e1d743a-df84-4f38-dcd3-e1fb4c960d81"
      },
      "source": [
        "print('train_images:\\t{}'.format(x_train.shape))\n",
        "print('train_labels:\\t{}'.format(y_train.shape))\n",
        "print('test_images:\\t\\t{}'.format(x_test.shape))\n",
        "print('test_labels:\\t\\t{}'.format(y_test.shape))"
      ],
      "execution_count": 9,
      "outputs": [
        {
          "output_type": "stream",
          "name": "stdout",
          "text": [
            "train_images:\t(50000, 32, 32, 3)\n",
            "train_labels:\t(50000, 1)\n",
            "test_images:\t\t(10000, 32, 32, 3)\n",
            "test_labels:\t\t(10000, 1)\n"
          ]
        }
      ]
    },
    {
      "cell_type": "markdown",
      "metadata": {
        "id": "tDL-RelMBQS7"
      },
      "source": [
        "### Review labels for training dataset"
      ]
    },
    {
      "cell_type": "code",
      "metadata": {
        "colab": {
          "base_uri": "https://localhost:8080/"
        },
        "id": "L_gEoattBQS7",
        "outputId": "fd4e12bc-1b16-4c5d-a204-856c06e952cf"
      },
      "source": [
        "print(\"First ten labels training dataset:\\n {}\\n\".format(y_train[0:10]))\n",
        "print(\"This output the numeric label, need to convert to item description\")"
      ],
      "execution_count": 10,
      "outputs": [
        {
          "output_type": "stream",
          "name": "stdout",
          "text": [
            "First ten labels training dataset:\n",
            " [[6]\n",
            " [9]\n",
            " [9]\n",
            " [4]\n",
            " [1]\n",
            " [1]\n",
            " [2]\n",
            " [7]\n",
            " [8]\n",
            " [3]]\n",
            "\n",
            "This output the numeric label, need to convert to item description\n"
          ]
        }
      ]
    },
    {
      "cell_type": "markdown",
      "metadata": {
        "id": "Fpba3_-nBQS7"
      },
      "source": [
        "### Plot Examples"
      ]
    },
    {
      "cell_type": "code",
      "metadata": {
        "id": "JSoJySfUBQS7"
      },
      "source": [
        "def get_three_classes(x, y):\n",
        "    def indices_of(class_id):\n",
        "        indices, _ = np.where(y == float(class_id))\n",
        "        return indices\n",
        "\n",
        "    indices = np.concatenate([indices_of(0), indices_of(1), indices_of(2)], axis=0)\n",
        "    \n",
        "    x = x[indices]\n",
        "    y = y[indices]\n",
        "    \n",
        "    count = x.shape[0]\n",
        "    indices = np.random.choice(range(count), count, replace=False)\n",
        "    \n",
        "    x = x[indices]\n",
        "    y = y[indices]\n",
        "    \n",
        "    y = tf.keras.utils.to_categorical(y)\n",
        "    \n",
        "    return x, y"
      ],
      "execution_count": 11,
      "outputs": []
    },
    {
      "cell_type": "code",
      "metadata": {
        "id": "E-OB0cAWBQS7"
      },
      "source": [
        "(train_images, train_labels),(test_images, test_labels)= tf.keras.datasets.cifar10.load_data()"
      ],
      "execution_count": 12,
      "outputs": []
    },
    {
      "cell_type": "code",
      "metadata": {
        "id": "w4JdRKm5BQS7"
      },
      "source": [
        "x_preview, y_preview = get_three_classes(train_images, train_labels)\n",
        "x_preview, y_preview = get_three_classes(test_images, test_labels)"
      ],
      "execution_count": 13,
      "outputs": []
    },
    {
      "cell_type": "code",
      "metadata": {
        "colab": {
          "base_uri": "https://localhost:8080/",
          "height": 289
        },
        "id": "PrUAgX78BQS8",
        "outputId": "ab9d7ee1-9182-4fca-ec00-4819a43723f2"
      },
      "source": [
        "class_names_preview = ['aeroplane', 'car', 'bird']\n",
        "\n",
        "def show_random_examples(x, y, p):\n",
        "    indices = np.random.choice(range(x.shape[0]), 10, replace=False)\n",
        "    \n",
        "    x = x[indices]\n",
        "    y = y[indices]\n",
        "    p = p[indices]\n",
        "    \n",
        "    plt.figure(figsize=(10, 5))\n",
        "    for i in range(10):\n",
        "        plt.subplot(2, 5, i + 1)\n",
        "        plt.imshow(x[i])\n",
        "        plt.xticks([])\n",
        "        plt.yticks([])\n",
        "        col = 'green' if np.argmax(y[i]) == np.argmax(p[i]) else 'red'\n",
        "        plt.xlabel(class_names_preview[np.argmax(p[i])], color=col)\n",
        "    plt.show()\n",
        "\n",
        "show_random_examples(x_preview, y_preview, y_preview)"
      ],
      "execution_count": 14,
      "outputs": [
        {
          "output_type": "display_data",
          "data": {
            "image/png": "[encoded data removed]",
            "text/plain": [
              "<Figure size 720x360 with 10 Axes>"
            ]
          },
          "metadata": {}
        }
      ]
    },
    {
      "cell_type": "markdown",
      "metadata": {
        "id": "zmOULZ_8BQS8"
      },
      "source": [
        "### Preprocessing Data for Model Development"
      ]
    },
    {
      "cell_type": "markdown",
      "metadata": {
        "id": "fWrM9M7tBQS9"
      },
      "source": [
        "The labels are an array of integers, ranging from 0 to 9. These correspond to the class of clothing the image represents:\n",
        "\n",
        "|Label  |Class_  |\n",
        "|-------|--------|\n",
        "|0|\tairplane     |\n",
        "|1|\tautomobile   |\n",
        "|2|\tbird         |\n",
        "|3|\tcat          |\n",
        "|4|\tdeer         |\n",
        "|5|\tdog          |\n",
        "|6|\tfrog         |\n",
        "|7|\thorse        |\n",
        "|8|\tship         |\n",
        "|9|\ttruck        |"
      ]
    },
    {
      "cell_type": "code",
      "metadata": {
        "id": "0pOir5__BQS9"
      },
      "source": [
        "class_names = ['airplane'\n",
        ",'automobile'\n",
        ",'bird'\n",
        ",'cat'\n",
        ",'deer'\n",
        ",'dog'\n",
        ",'frog' \n",
        ",'horse'\n",
        ",'ship'\n",
        ",'truck']"
      ],
      "execution_count": 15,
      "outputs": []
    },
    {
      "cell_type": "markdown",
      "metadata": {
        "id": "VLEIzXIhGimu"
      },
      "source": [
        "### Create Validation Data Set"
      ]
    },
    {
      "cell_type": "code",
      "metadata": {
        "id": "FwsWXD4VGvbI"
      },
      "source": [
        "x_train_split, x_valid_split, y_train_split, y_valid_split = train_test_split(x_train\n",
        "                                                                              ,y_train\n",
        "                                                                              ,test_size=.1\n",
        "                                                                              ,random_state=42\n",
        "                                                                              ,shuffle=True)"
      ],
      "execution_count": 16,
      "outputs": []
    },
    {
      "cell_type": "markdown",
      "metadata": {
        "id": "4m3HBmXfG_eO"
      },
      "source": [
        "### Confirm Datasets {Train, Validation, Test}"
      ]
    },
    {
      "cell_type": "code",
      "metadata": {
        "colab": {
          "base_uri": "https://localhost:8080/"
        },
        "id": "RvERfc-kGvhG",
        "outputId": "b5fbfb1f-0de1-4140-db20-34a3d4ee1d99"
      },
      "source": [
        "print(x_train_split.shape, x_valid_split.shape, x_test.shape)"
      ],
      "execution_count": 17,
      "outputs": [
        {
          "output_type": "stream",
          "name": "stdout",
          "text": [
            "(45000, 32, 32, 3) (5000, 32, 32, 3) (10000, 32, 32, 3)\n"
          ]
        }
      ]
    },
    {
      "cell_type": "markdown",
      "metadata": {
        "id": "f1Bc7VFlBQS9"
      },
      "source": [
        "### Rescale Examples  {Train, Validation, Test}\n",
        "The images are 28x28 NumPy arrays, with pixel values ranging from 0 to 255\n",
        " "
      ]
    },
    {
      "cell_type": "markdown",
      "metadata": {
        "id": "83IzVivSBQS9"
      },
      "source": [
        "1. Each element in each example is a pixel value\n",
        "2. Pixel values range from 0 to 255\n",
        "3. 0 = black\n",
        "4. 255 = white"
      ]
    },
    {
      "cell_type": "code",
      "metadata": {
        "id": "42FmtjcVBQS9"
      },
      "source": [
        "x_train_norm = x_train_split/255\n",
        "x_valid_norm = x_valid_split/255\n",
        "x_test_norm = x_test/255"
      ],
      "execution_count": 18,
      "outputs": []
    },
    {
      "cell_type": "markdown",
      "metadata": {
        "id": "SMrBHqFDBQS-"
      },
      "source": [
        "## Create the Model"
      ]
    },
    {
      "cell_type": "markdown",
      "metadata": {
        "id": "rDy9MDMEBQS-"
      },
      "source": [
        "<img src=\"https://github.com/djp840/MSDS_458_Public/blob/master/images/CNN_architecture_v4.png?raw=1\">\n"
      ]
    },
    {
      "cell_type": "code",
      "metadata": {
        "id": "s8pXP2OxBQS-",
        "outputId": "2f16915a-013c-4014-dc6f-35b3bc57fc95",
        "colab": {
          "base_uri": "https://localhost:8080/",
          "height": 142
        }
      },
      "source": [
        "\"\"\"\n",
        "#Build CNN Model\n",
        "#We use a Sequential class defined in Keras to create our model. The first 9 layers Conv2D MaxPooling, Dropout handle feature learning. The last 3 layers, handle classification\n",
        "model = models.Sequential()\n",
        "model.add(layers.Conv2D(filters=128, kernel_size=(3, 3), strides=(1, 1), activation=tf.nn.relu,input_shape=(32, 32, 3)))\n",
        "model.add(layers.MaxPool2D((2, 2),strides=2))\n",
        "model.add(layers.Dropout(0.3))\n",
        "model.add(layers.Conv2D(filters=256, kernel_size=(3, 3), strides=(1, 1), activation=tf.nn.relu))\n",
        "model.add(layers.MaxPool2D(pool_size=(2, 2),strides=2))\n",
        "model.add(layers.Dropout(0.3))\n",
        "model.add(layers.Conv2D(filters=512, kernel_size=(3, 3), strides=(1, 1), activation=tf.nn.relu))\n",
        "model.add(layers.MaxPool2D(pool_size=(2, 2),strides=2))\n",
        "model.add(layers.Dropout(0.3))\n",
        "model.add(layers.Flatten())\n",
        "model.add(layers.BatchNormalization())\n",
        "model.add(layers.Dense(units=384, activation=tf.nn.relu,kernel_regularizer=tf.keras.regularizers.L2(0.001)))\n",
        "model.add(layers.Dense(units=10, activation=tf.nn.softmax))\n",
        "\"\"\""
      ],
      "execution_count": 19,
      "outputs": [
        {
          "output_type": "execute_result",
          "data": {
            "application/vnd.google.colaboratory.intrinsic+json": {
              "type": "string"
            },
            "text/plain": [
              "'\\n#Build CNN Model\\n#We use a Sequential class defined in Keras to create our model. The first 9 layers Conv2D MaxPooling, Dropout handle feature learning. The last 3 layers, handle classification\\nmodel = models.Sequential()\\nmodel.add(layers.Conv2D(filters=128, kernel_size=(3, 3), strides=(1, 1), activation=tf.nn.relu,input_shape=(32, 32, 3)))\\nmodel.add(layers.MaxPool2D((2, 2),strides=2))\\nmodel.add(layers.Dropout(0.3))\\nmodel.add(layers.Conv2D(filters=256, kernel_size=(3, 3), strides=(1, 1), activation=tf.nn.relu))\\nmodel.add(layers.MaxPool2D(pool_size=(2, 2),strides=2))\\nmodel.add(layers.Dropout(0.3))\\nmodel.add(layers.Conv2D(filters=512, kernel_size=(3, 3), strides=(1, 1), activation=tf.nn.relu))\\nmodel.add(layers.MaxPool2D(pool_size=(2, 2),strides=2))\\nmodel.add(layers.Dropout(0.3))\\nmodel.add(layers.Flatten())\\nmodel.add(layers.BatchNormalization())\\nmodel.add(layers.Dense(units=384, activation=tf.nn.relu,kernel_regularizer=tf.keras.regularizers.L2(0.001)))\\nmodel.add(layers.Dense(units=10, activation=tf.nn.softmax))\\n'"
            ]
          },
          "metadata": {},
          "execution_count": 19
        }
      ]
    },
    {
      "cell_type": "code",
      "source": [
        "import datetime as dt\n",
        "\n",
        "def compile_train_model(model):\n",
        "  #compile model\n",
        "  model.compile(optimizer='adam',\n",
        "                loss=tf.keras.losses.SparseCategoricalCrossentropy(from_logits=False),\n",
        "                metrics=['accuracy'])\n",
        "\n",
        "  start_datetime = dt.datetime.now()\n",
        "\n",
        "  #train model\n",
        "  history = model.fit(x_train_norm\n",
        "                      ,y_train_split\n",
        "                      ,epochs=20\n",
        "                      ,batch_size=100\n",
        "                      ,validation_data=(x_valid_norm, y_valid_split)\n",
        "                      ,callbacks=[\n",
        "                      #tf.keras.callbacks.EarlyStopping(monitor='val_accuracy', patience=3), # remove early stop so that we can see if the model is able to overfit\n",
        "                      tf.keras.callbacks.ModelCheckpoint('/content/gdrive/My Drive/Colab Notebooks/models/model_{val_accuracy:.4f}.h5', save_best_only=True,\n",
        "                                          save_weights_only=False, monitor='val_accuracy')]                                                                                                           \n",
        "                    )\n",
        "\n",
        "  #evaluate model\n",
        "  loss, accuracy = model.evaluate(x_test_norm, y_test)\n",
        "  print('test set accuracy: ', accuracy * 100)\n",
        "\n",
        "  #predict model\n",
        "  preds = model.predict(x_test_norm)\n",
        "\n",
        "  runtime = (dt.datetime.now() - start_datetime).total_seconds()\n",
        "\n",
        "  #training and validation performance metrix\n",
        "  history_dict = history.history\n",
        "  history_df=pd.DataFrame(history_dict)\n",
        "\n",
        "  result = history_df.tail(1)\n",
        "  result['test_loss'] = loss\n",
        "  result['test_accuracy'] = accuracy\n",
        "  result['process_time'] = runtime\n",
        "\n",
        "  #loss and accuracy for training and validation data\n",
        "  losses = history.history['loss']\n",
        "  accs = history.history['accuracy']\n",
        "  val_losses = history.history['val_loss']\n",
        "  val_accs = history.history['val_accuracy']\n",
        "  epochs = len(losses)\n",
        "\n",
        "  plt.figure(figsize=(16, 4))\n",
        "  for i, metrics in enumerate(zip([losses, accs], [val_losses, val_accs], ['Loss', 'Accuracy'])):\n",
        "      plt.subplot(1, 2, i + 1)\n",
        "      plt.plot(range(epochs), metrics[0], label='Training {}'.format(metrics[2]))\n",
        "      plt.plot(range(epochs), metrics[1], label='Validation {}'.format(metrics[2]))\n",
        "      plt.legend()\n",
        "  plt.show()  \n",
        "\n",
        "  return result"
      ],
      "metadata": {
        "id": "EyCIn4CtuKMx"
      },
      "execution_count": 20,
      "outputs": []
    },
    {
      "cell_type": "code",
      "source": [
        "import datetime as dt\n",
        "\n",
        "def compile_train_plot_model(model):\n",
        "  #plot model\n",
        "  keras.utils.plot_model(model1, \"CIFAR10.png\", show_shapes=True) \n",
        "\n",
        "  #compile model\n",
        "  model.compile(optimizer='adam',\n",
        "                loss=tf.keras.losses.SparseCategoricalCrossentropy(from_logits=False),\n",
        "                metrics=['accuracy'])\n",
        "\n",
        "  start_datetime = dt.datetime.now()\n",
        "\n",
        "  #train model\n",
        "  history = model.fit(x_train_norm\n",
        "                      ,y_train_split\n",
        "                      ,epochs=20\n",
        "                      ,batch_size=100\n",
        "                      ,validation_data=(x_valid_norm, y_valid_split)\n",
        "                      ,callbacks=[\n",
        "                      #tf.keras.callbacks.EarlyStopping(monitor='val_accuracy', patience=3),\n",
        "                      tf.keras.callbacks.ModelCheckpoint('/content/gdrive/My Drive/Colab Notebooks/models/model_{val_accuracy:.4f}.h5', save_best_only=True,\n",
        "                                          save_weights_only=False, monitor='val_accuracy')]                                                                                                           \n",
        "                    )\n",
        "\n",
        "  #evaluate model\n",
        "  loss, accuracy = model.evaluate(x_test_norm, y_test)\n",
        "  print('test set accuracy: ', accuracy * 100)\n",
        "\n",
        "  #predict model\n",
        "  preds = model.predict(x_test_norm)\n",
        "\n",
        "  runtime = (dt.datetime.now() - start_datetime).total_seconds()\n",
        "\n",
        "  #training and validation performance metrix\n",
        "  history_dict = history.history\n",
        "  history_df=pd.DataFrame(history_dict)\n",
        "\n",
        "  result = history_df.tail(1)\n",
        "  result['test_loss'] = loss\n",
        "  result['test_accuracy'] = accuracy\n",
        "  result['process_time'] = runtime\n",
        "\n",
        "  losses = history.history['loss']\n",
        "  accs = history.history['accuracy']\n",
        "  val_losses = history.history['val_loss']\n",
        "  val_accs = history.history['val_accuracy']\n",
        "  epochs = len(losses)\n",
        "\n",
        "  #loss and accuracy for training and validation data\n",
        "  plt.figure(figsize=(16, 4))\n",
        "  for i, metrics in enumerate(zip([losses, accs], [val_losses, val_accs], ['Loss', 'Accuracy'])):\n",
        "      plt.subplot(1, 2, i + 1)\n",
        "      plt.plot(range(epochs), metrics[0], label='Training {}'.format(metrics[2]))\n",
        "      plt.plot(range(epochs), metrics[1], label='Validation {}'.format(metrics[2]))\n",
        "      plt.legend()\n",
        "  plt.show()                        \n",
        "\n",
        "  #confuison matrix\n",
        "  pred1= model.predict(x_test_norm)\n",
        "  pred1=np.argmax(pred1, axis=1)\n",
        "  print_validation_report(y_test, pred1)\n",
        "  plot_confusion_matrix(y_test,pred1)\n",
        "\n",
        "  return result\n"
      ],
      "metadata": {
        "id": "ViWsljjWajDW"
      },
      "execution_count": 21,
      "outputs": []
    },
    {
      "cell_type": "markdown",
      "source": [
        "### Experiment 1: DNN with 2 layers (no regularization)"
      ],
      "metadata": {
        "id": "EIWVJODBOa-P"
      }
    },
    {
      "cell_type": "code",
      "source": [
        "model1 = models.Sequential()\n",
        "model1.add(layers.InputLayer(input_shape=(32, 32, 3)))\n",
        "model1.add(layers.Flatten(name ='flatten'))\n",
        "model1.add(layers.Dense(name = \"hidden_layer\",units=384, activation=tf.nn.relu))\n",
        "model1.add(layers.Dense(name = \"output_layer\",units=10, activation=tf.nn.softmax))\n",
        "\n",
        "model1.summary()"
      ],
      "metadata": {
        "colab": {
          "base_uri": "https://localhost:8080/"
        },
        "id": "GDxZ4dvKQ74x",
        "outputId": "ffee1585-5223-4923-f1ca-5a15815f1931"
      },
      "execution_count": 22,
      "outputs": [
        {
          "output_type": "stream",
          "name": "stdout",
          "text": [
            "Model: \"sequential\"\n",
            "_________________________________________________________________\n",
            " Layer (type)                Output Shape              Param #   \n",
            "=================================================================\n",
            " flatten (Flatten)           (None, 3072)              0         \n",
            "                                                                 \n",
            " hidden_layer (Dense)        (None, 384)               1180032   \n",
            "                                                                 \n",
            " output_layer (Dense)        (None, 10)                3850      \n",
            "                                                                 \n",
            "=================================================================\n",
            "Total params: 1,183,882\n",
            "Trainable params: 1,183,882\n",
            "Non-trainable params: 0\n",
            "_________________________________________________________________\n"
          ]
        }
      ]
    },
    {
      "cell_type": "code",
      "source": [
        "result1 = compile_train_plot_model(model1)"
      ],
      "metadata": {
        "colab": {
          "base_uri": "https://localhost:8080/",
          "height": 1000
        },
        "id": "5IlIpc1eeR9M",
        "outputId": "f2ea139d-239a-410a-b18e-a2b17fba97be"
      },
      "execution_count": 23,
      "outputs": [
        {
          "output_type": "stream",
          "name": "stdout",
          "text": [
            "Epoch 1/20\n",
            "450/450 [==============================] - 5s 6ms/step - loss: 1.9447 - accuracy: 0.3191 - val_loss: 1.8039 - val_accuracy: 0.3574\n",
            "Epoch 2/20\n",
            "450/450 [==============================] - 1s 3ms/step - loss: 1.7414 - accuracy: 0.3857 - val_loss: 1.7451 - val_accuracy: 0.3646\n",
            "Epoch 3/20\n",
            "450/450 [==============================] - 2s 3ms/step - loss: 1.6591 - accuracy: 0.4134 - val_loss: 1.6863 - val_accuracy: 0.3976\n",
            "Epoch 4/20\n",
            "450/450 [==============================] - 1s 3ms/step - loss: 1.6192 - accuracy: 0.4296 - val_loss: 1.6079 - val_accuracy: 0.4278\n",
            "Epoch 5/20\n",
            "450/450 [==============================] - 1s 3ms/step - loss: 1.5783 - accuracy: 0.4441 - val_loss: 1.6461 - val_accuracy: 0.4142\n",
            "Epoch 6/20\n",
            "450/450 [==============================] - 1s 3ms/step - loss: 1.5360 - accuracy: 0.4594 - val_loss: 1.6152 - val_accuracy: 0.4280\n",
            "Epoch 7/20\n",
            "450/450 [==============================] - 1s 3ms/step - loss: 1.5182 - accuracy: 0.4637 - val_loss: 1.6148 - val_accuracy: 0.4138\n",
            "Epoch 8/20\n",
            "450/450 [==============================] - 2s 4ms/step - loss: 1.5003 - accuracy: 0.4685 - val_loss: 1.5364 - val_accuracy: 0.4528\n",
            "Epoch 9/20\n",
            "450/450 [==============================] - 1s 3ms/step - loss: 1.4763 - accuracy: 0.4799 - val_loss: 1.5396 - val_accuracy: 0.4460\n",
            "Epoch 10/20\n",
            "450/450 [==============================] - 2s 3ms/step - loss: 1.4554 - accuracy: 0.4866 - val_loss: 1.5903 - val_accuracy: 0.4370\n",
            "Epoch 11/20\n",
            "450/450 [==============================] - 2s 4ms/step - loss: 1.4370 - accuracy: 0.4905 - val_loss: 1.5136 - val_accuracy: 0.4682\n",
            "Epoch 12/20\n",
            "450/450 [==============================] - 2s 3ms/step - loss: 1.4351 - accuracy: 0.4918 - val_loss: 1.5204 - val_accuracy: 0.4590\n",
            "Epoch 13/20\n",
            "450/450 [==============================] - 2s 3ms/step - loss: 1.4243 - accuracy: 0.4958 - val_loss: 1.5595 - val_accuracy: 0.4486\n",
            "Epoch 14/20\n",
            "450/450 [==============================] - 2s 3ms/step - loss: 1.4068 - accuracy: 0.5013 - val_loss: 1.5155 - val_accuracy: 0.4702\n",
            "Epoch 15/20\n",
            "450/450 [==============================] - 2s 3ms/step - loss: 1.3945 - accuracy: 0.5058 - val_loss: 1.4904 - val_accuracy: 0.4712\n",
            "Epoch 16/20\n",
            "450/450 [==============================] - 1s 3ms/step - loss: 1.3859 - accuracy: 0.5092 - val_loss: 1.5390 - val_accuracy: 0.4574\n",
            "Epoch 17/20\n",
            "450/450 [==============================] - 2s 3ms/step - loss: 1.3797 - accuracy: 0.5128 - val_loss: 1.4705 - val_accuracy: 0.4836\n",
            "Epoch 18/20\n",
            "450/450 [==============================] - 2s 4ms/step - loss: 1.3605 - accuracy: 0.5166 - val_loss: 1.4955 - val_accuracy: 0.4690\n",
            "Epoch 19/20\n",
            "450/450 [==============================] - 2s 4ms/step - loss: 1.3575 - accuracy: 0.5177 - val_loss: 1.5152 - val_accuracy: 0.4714\n",
            "Epoch 20/20\n",
            "450/450 [==============================] - 2s 3ms/step - loss: 1.3495 - accuracy: 0.5199 - val_loss: 1.4667 - val_accuracy: 0.4830\n",
            "313/313 [==============================] - 1s 3ms/step - loss: 1.4612 - accuracy: 0.4870\n",
            "test set accuracy:  48.69999885559082\n"
          ]
        },
        {
          "output_type": "stream",
          "name": "stderr",
          "text": [
            "/usr/local/lib/python3.7/dist-packages/ipykernel_launcher.py:40: SettingWithCopyWarning: \n",
            "A value is trying to be set on a copy of a slice from a DataFrame.\n",
            "Try using .loc[row_indexer,col_indexer] = value instead\n",
            "\n",
            "See the caveats in the documentation: https://pandas.pydata.org/pandas-docs/stable/user_guide/indexing.html#returning-a-view-versus-a-copy\n",
            "/usr/local/lib/python3.7/dist-packages/ipykernel_launcher.py:41: SettingWithCopyWarning: \n",
            "A value is trying to be set on a copy of a slice from a DataFrame.\n",
            "Try using .loc[row_indexer,col_indexer] = value instead\n",
            "\n",
            "See the caveats in the documentation: https://pandas.pydata.org/pandas-docs/stable/user_guide/indexing.html#returning-a-view-versus-a-copy\n",
            "/usr/local/lib/python3.7/dist-packages/ipykernel_launcher.py:42: SettingWithCopyWarning: \n",
            "A value is trying to be set on a copy of a slice from a DataFrame.\n",
            "Try using .loc[row_indexer,col_indexer] = value instead\n",
            "\n",
            "See the caveats in the documentation: https://pandas.pydata.org/pandas-docs/stable/user_guide/indexing.html#returning-a-view-versus-a-copy\n"
          ]
        },
        {
          "output_type": "display_data",
          "data": {
            "image/png": "[encoded data removed]",
            "text/plain": [
              "<Figure size 1152x288 with 2 Axes>"
            ]
          },
          "metadata": {
            "needs_background": "light"
          }
        },
        {
          "output_type": "stream",
          "name": "stdout",
          "text": [
            "Classification Report\n",
            "              precision    recall  f1-score   support\n",
            "\n",
            "           0       0.60      0.44      0.51      1000\n",
            "           1       0.59      0.62      0.60      1000\n",
            "           2       0.37      0.33      0.35      1000\n",
            "           3       0.32      0.31      0.32      1000\n",
            "           4       0.43      0.41      0.42      1000\n",
            "           5       0.36      0.45      0.40      1000\n",
            "           6       0.49      0.60      0.54      1000\n",
            "           7       0.59      0.52      0.55      1000\n",
            "           8       0.56      0.68      0.61      1000\n",
            "           9       0.60      0.51      0.55      1000\n",
            "\n",
            "    accuracy                           0.49     10000\n",
            "   macro avg       0.49      0.49      0.49     10000\n",
            "weighted avg       0.49      0.49      0.49     10000\n",
            "\n",
            "Accuracy Score: 0.487\n",
            "Root Mean Square Error: 3.057564390164171\n"
          ]
        },
        {
          "output_type": "display_data",
          "data": {
            "image/png": "[encoded data removed]",
            "text/plain": [
              "<Figure size 576x576 with 1 Axes>"
            ]
          },
          "metadata": {
            "needs_background": "light"
          }
        }
      ]
    },
    {
      "cell_type": "code",
      "source": [
        "assignment_result_table = result1\n",
        "new_col = ['DNN with 2 layers (no regularization)']   \n",
        "assignment_result_table.insert(loc=0, column='Model', value=new_col)\n",
        "assignment_result_table"
      ],
      "metadata": {
        "colab": {
          "base_uri": "https://localhost:8080/",
          "height": 80
        },
        "id": "S8gxeQgQfQ0o",
        "outputId": "001a06d4-61ec-48ce-9e30-578889895034"
      },
      "execution_count": 24,
      "outputs": [
        {
          "output_type": "execute_result",
          "data": {
            "text/html": [
              "\n",
              "  <div id=\"df-333d1d45-2bf1-4d58-858b-a53907fdc0a8\">\n",
              "    <div class=\"colab-df-container\">\n",
              "      <div>\n",
              "<style scoped>\n",
              "    .dataframe tbody tr th:only-of-type {\n",
              "        vertical-align: middle;\n",
              "    }\n",
              "\n",
              "    .dataframe tbody tr th {\n",
              "        vertical-align: top;\n",
              "    }\n",
              "\n",
              "    .dataframe thead th {\n",
              "        text-align: right;\n",
              "    }\n",
              "</style>\n",
              "<table border=\"1\" class=\"dataframe\">\n",
              "  <thead>\n",
              "    <tr style=\"text-align: right;\">\n",
              "      <th></th>\n",
              "      <th>Model</th>\n",
              "      <th>loss</th>\n",
              "      <th>accuracy</th>\n",
              "      <th>val_loss</th>\n",
              "      <th>val_accuracy</th>\n",
              "      <th>test_loss</th>\n",
              "      <th>test_accuracy</th>\n",
              "      <th>process_time</th>\n",
              "    </tr>\n",
              "  </thead>\n",
              "  <tbody>\n",
              "    <tr>\n",
              "      <th>19</th>\n",
              "      <td>DNN with 2 layers (no regularization)</td>\n",
              "      <td>1.349523</td>\n",
              "      <td>0.519867</td>\n",
              "      <td>1.466743</td>\n",
              "      <td>0.483</td>\n",
              "      <td>1.461208</td>\n",
              "      <td>0.487</td>\n",
              "      <td>37.715019</td>\n",
              "    </tr>\n",
              "  </tbody>\n",
              "</table>\n",
              "</div>\n",
              "      <button class=\"colab-df-convert\" onclick=\"convertToInteractive('df-333d1d45-2bf1-4d58-858b-a53907fdc0a8')\"\n",
              "              title=\"Convert this dataframe to an interactive table.\"\n",
              "              style=\"display:none;\">\n",
              "        \n",
              "  <svg xmlns=\"http://www.w3.org/2000/svg\" height=\"24px\"viewBox=\"0 0 24 24\"\n",
              "       width=\"24px\">\n",
              "    <path d=\"M0 0h24v24H0V0z\" fill=\"none\"/>\n",
              "    <path d=\"M18.56 5.44l.94 2.06.94-2.06 2.06-.94-2.06-.94-.94-2.06-.94 2.06-2.06.94zm-11 1L8.5 8.5l.94-2.06 2.06-.94-2.06-.94L8.5 2.5l-.94 2.06-2.06.94zm10 10l.94 2.06.94-2.06 2.06-.94-2.06-.94-.94-2.06-.94 2.06-2.06.94z\"/><path d=\"M17.41 7.96l-1.37-1.37c-.4-.4-.92-.59-1.43-.59-.52 0-1.04.2-1.43.59L10.3 9.45l-7.72 7.72c-.78.78-.78 2.05 0 2.83L4 21.41c.39.39.9.59 1.41.59.51 0 1.02-.2 1.41-.59l7.78-7.78 2.81-2.81c.8-.78.8-2.07 0-2.86zM5.41 20L4 18.59l7.72-7.72 1.47 1.35L5.41 20z\"/>\n",
              "  </svg>\n",
              "      </button>\n",
              "      \n",
              "  <style>\n",
              "    .colab-df-container {\n",
              "      display:flex;\n",
              "      flex-wrap:wrap;\n",
              "      gap: 12px;\n",
              "    }\n",
              "\n",
              "    .colab-df-convert {\n",
              "      background-color: #E8F0FE;\n",
              "      border: none;\n",
              "      border-radius: 50%;\n",
              "      cursor: pointer;\n",
              "      display: none;\n",
              "      fill: #1967D2;\n",
              "      height: 32px;\n",
              "      padding: 0 0 0 0;\n",
              "      width: 32px;\n",
              "    }\n",
              "\n",
              "    .colab-df-convert:hover {\n",
              "      background-color: #E2EBFA;\n",
              "      box-shadow: 0px 1px 2px rgba(60, 64, 67, 0.3), 0px 1px 3px 1px rgba(60, 64, 67, 0.15);\n",
              "      fill: #174EA6;\n",
              "    }\n",
              "\n",
              "    [theme=dark] .colab-df-convert {\n",
              "      background-color: #3B4455;\n",
              "      fill: #D2E3FC;\n",
              "    }\n",
              "\n",
              "    [theme=dark] .colab-df-convert:hover {\n",
              "      background-color: #434B5C;\n",
              "      box-shadow: 0px 1px 3px 1px rgba(0, 0, 0, 0.15);\n",
              "      filter: drop-shadow(0px 1px 2px rgba(0, 0, 0, 0.3));\n",
              "      fill: #FFFFFF;\n",
              "    }\n",
              "  </style>\n",
              "\n",
              "      <script>\n",
              "        const buttonEl =\n",
              "          document.querySelector('#df-333d1d45-2bf1-4d58-858b-a53907fdc0a8 button.colab-df-convert');\n",
              "        buttonEl.style.display =\n",
              "          google.colab.kernel.accessAllowed ? 'block' : 'none';\n",
              "\n",
              "        async function convertToInteractive(key) {\n",
              "          const element = document.querySelector('#df-333d1d45-2bf1-4d58-858b-a53907fdc0a8');\n",
              "          const dataTable =\n",
              "            await google.colab.kernel.invokeFunction('convertToInteractive',\n",
              "                                                     [key], {});\n",
              "          if (!dataTable) return;\n",
              "\n",
              "          const docLinkHtml = 'Like what you see? Visit the ' +\n",
              "            '<a target=\"_blank\" href=https://colab.research.google.com/notebooks/data_table.ipynb>data table notebook</a>'\n",
              "            + ' to learn more about interactive tables.';\n",
              "          element.innerHTML = '';\n",
              "          dataTable['output_type'] = 'display_data';\n",
              "          await google.colab.output.renderOutput(dataTable, element);\n",
              "          const docLink = document.createElement('div');\n",
              "          docLink.innerHTML = docLinkHtml;\n",
              "          element.appendChild(docLink);\n",
              "        }\n",
              "      </script>\n",
              "    </div>\n",
              "  </div>\n",
              "  "
            ],
            "text/plain": [
              "                                    Model  ...  process_time\n",
              "19  DNN with 2 layers (no regularization)  ...     37.715019\n",
              "\n",
              "[1 rows x 8 columns]"
            ]
          },
          "metadata": {},
          "execution_count": 24
        }
      ]
    },
    {
      "cell_type": "markdown",
      "source": [
        "## Experiment 2: DNN with 3 layers (no regularization)"
      ],
      "metadata": {
        "id": "A5SjEiYaaWA5"
      }
    },
    {
      "cell_type": "code",
      "source": [
        "model2 = models.Sequential()\n",
        "model2.add(layers.InputLayer(input_shape=(32, 32, 3)))\n",
        "model2.add(layers.Flatten(name ='flatten'))\n",
        "model2.add(layers.Dense(name = \"hidden_layer\",units=384, activation=tf.nn.relu))\n",
        "model2.add(layers.Dense(name = \"hidden_layer2\",units=384, activation=tf.nn.relu))\n",
        "model2.add(layers.Dense(name = \"output_layer\",units=10, activation=tf.nn.softmax))\n",
        "\n",
        "model2.summary()"
      ],
      "metadata": {
        "colab": {
          "base_uri": "https://localhost:8080/"
        },
        "id": "-oBuM15AaeJm",
        "outputId": "42e28ccc-4da1-4268-a18b-ff33bb9814aa"
      },
      "execution_count": 25,
      "outputs": [
        {
          "output_type": "stream",
          "name": "stdout",
          "text": [
            "Model: \"sequential_1\"\n",
            "_________________________________________________________________\n",
            " Layer (type)                Output Shape              Param #   \n",
            "=================================================================\n",
            " flatten (Flatten)           (None, 3072)              0         \n",
            "                                                                 \n",
            " hidden_layer (Dense)        (None, 384)               1180032   \n",
            "                                                                 \n",
            " hidden_layer2 (Dense)       (None, 384)               147840    \n",
            "                                                                 \n",
            " output_layer (Dense)        (None, 10)                3850      \n",
            "                                                                 \n",
            "=================================================================\n",
            "Total params: 1,331,722\n",
            "Trainable params: 1,331,722\n",
            "Non-trainable params: 0\n",
            "_________________________________________________________________\n"
          ]
        }
      ]
    },
    {
      "cell_type": "code",
      "source": [
        "result2 = compile_train_plot_model(model2)"
      ],
      "metadata": {
        "colab": {
          "base_uri": "https://localhost:8080/",
          "height": 1000
        },
        "id": "9VWWQ3i5c9M0",
        "outputId": "d4a6dbea-d916-4483-96fb-f15eb499ce12"
      },
      "execution_count": 26,
      "outputs": [
        {
          "output_type": "stream",
          "name": "stdout",
          "text": [
            "Epoch 1/20\n",
            "450/450 [==============================] - 2s 4ms/step - loss: 1.8724 - accuracy: 0.3253 - val_loss: 1.7088 - val_accuracy: 0.3856\n",
            "Epoch 2/20\n",
            "450/450 [==============================] - 2s 4ms/step - loss: 1.6687 - accuracy: 0.4031 - val_loss: 1.6436 - val_accuracy: 0.4122\n",
            "Epoch 3/20\n",
            "450/450 [==============================] - 2s 4ms/step - loss: 1.5877 - accuracy: 0.4356 - val_loss: 1.6365 - val_accuracy: 0.4176\n",
            "Epoch 4/20\n",
            "450/450 [==============================] - 2s 4ms/step - loss: 1.5338 - accuracy: 0.4555 - val_loss: 1.5584 - val_accuracy: 0.4376\n",
            "Epoch 5/20\n",
            "450/450 [==============================] - 2s 4ms/step - loss: 1.4836 - accuracy: 0.4680 - val_loss: 1.5721 - val_accuracy: 0.4500\n",
            "Epoch 6/20\n",
            "450/450 [==============================] - 2s 4ms/step - loss: 1.4509 - accuracy: 0.4837 - val_loss: 1.5116 - val_accuracy: 0.4672\n",
            "Epoch 7/20\n",
            "450/450 [==============================] - 2s 4ms/step - loss: 1.4215 - accuracy: 0.4921 - val_loss: 1.4831 - val_accuracy: 0.4684\n",
            "Epoch 8/20\n",
            "450/450 [==============================] - 2s 4ms/step - loss: 1.3944 - accuracy: 0.5045 - val_loss: 1.5151 - val_accuracy: 0.4626\n",
            "Epoch 9/20\n",
            "450/450 [==============================] - 2s 4ms/step - loss: 1.3689 - accuracy: 0.5104 - val_loss: 1.4710 - val_accuracy: 0.4736\n",
            "Epoch 10/20\n",
            "450/450 [==============================] - 2s 5ms/step - loss: 1.3427 - accuracy: 0.5200 - val_loss: 1.4687 - val_accuracy: 0.4812\n",
            "Epoch 11/20\n",
            "450/450 [==============================] - 3s 7ms/step - loss: 1.3172 - accuracy: 0.5292 - val_loss: 1.4407 - val_accuracy: 0.4864\n",
            "Epoch 12/20\n",
            "450/450 [==============================] - 2s 4ms/step - loss: 1.2942 - accuracy: 0.5388 - val_loss: 1.4970 - val_accuracy: 0.4692\n",
            "Epoch 13/20\n",
            "450/450 [==============================] - 2s 4ms/step - loss: 1.2760 - accuracy: 0.5445 - val_loss: 1.4402 - val_accuracy: 0.4912\n",
            "Epoch 14/20\n",
            "450/450 [==============================] - 2s 4ms/step - loss: 1.2538 - accuracy: 0.5516 - val_loss: 1.4930 - val_accuracy: 0.4800\n",
            "Epoch 15/20\n",
            "450/450 [==============================] - 2s 4ms/step - loss: 1.2351 - accuracy: 0.5580 - val_loss: 1.4891 - val_accuracy: 0.4892\n",
            "Epoch 16/20\n",
            "450/450 [==============================] - 2s 4ms/step - loss: 1.2246 - accuracy: 0.5609 - val_loss: 1.4693 - val_accuracy: 0.4750\n",
            "Epoch 17/20\n",
            "450/450 [==============================] - 2s 4ms/step - loss: 1.1982 - accuracy: 0.5718 - val_loss: 1.4702 - val_accuracy: 0.4910\n",
            "Epoch 18/20\n",
            "450/450 [==============================] - 2s 4ms/step - loss: 1.1835 - accuracy: 0.5751 - val_loss: 1.5361 - val_accuracy: 0.4752\n",
            "Epoch 19/20\n",
            "450/450 [==============================] - 2s 4ms/step - loss: 1.1634 - accuracy: 0.5858 - val_loss: 1.4728 - val_accuracy: 0.4914\n",
            "Epoch 20/20\n",
            "450/450 [==============================] - 2s 4ms/step - loss: 1.1491 - accuracy: 0.5899 - val_loss: 1.4455 - val_accuracy: 0.5046\n",
            "313/313 [==============================] - 1s 3ms/step - loss: 1.3969 - accuracy: 0.5175\n",
            "test set accuracy:  51.749998331069946\n"
          ]
        },
        {
          "output_type": "stream",
          "name": "stderr",
          "text": [
            "/usr/local/lib/python3.7/dist-packages/ipykernel_launcher.py:40: SettingWithCopyWarning: \n",
            "A value is trying to be set on a copy of a slice from a DataFrame.\n",
            "Try using .loc[row_indexer,col_indexer] = value instead\n",
            "\n",
            "See the caveats in the documentation: https://pandas.pydata.org/pandas-docs/stable/user_guide/indexing.html#returning-a-view-versus-a-copy\n",
            "/usr/local/lib/python3.7/dist-packages/ipykernel_launcher.py:41: SettingWithCopyWarning: \n",
            "A value is trying to be set on a copy of a slice from a DataFrame.\n",
            "Try using .loc[row_indexer,col_indexer] = value instead\n",
            "\n",
            "See the caveats in the documentation: https://pandas.pydata.org/pandas-docs/stable/user_guide/indexing.html#returning-a-view-versus-a-copy\n",
            "/usr/local/lib/python3.7/dist-packages/ipykernel_launcher.py:42: SettingWithCopyWarning: \n",
            "A value is trying to be set on a copy of a slice from a DataFrame.\n",
            "Try using .loc[row_indexer,col_indexer] = value instead\n",
            "\n",
            "See the caveats in the documentation: https://pandas.pydata.org/pandas-docs/stable/user_guide/indexing.html#returning-a-view-versus-a-copy\n"
          ]
        },
        {
          "output_type": "display_data",
          "data": {
            "image/png": "[encoded data removed]",
            "text/plain": [
              "<Figure size 1152x288 with 2 Axes>"
            ]
          },
          "metadata": {
            "needs_background": "light"
          }
        },
        {
          "output_type": "stream",
          "name": "stdout",
          "text": [
            "Classification Report\n",
            "              precision    recall  f1-score   support\n",
            "\n",
            "           0       0.61      0.57      0.59      1000\n",
            "           1       0.63      0.63      0.63      1000\n",
            "           2       0.41      0.35      0.38      1000\n",
            "           3       0.36      0.33      0.34      1000\n",
            "           4       0.44      0.43      0.44      1000\n",
            "           5       0.43      0.35      0.38      1000\n",
            "           6       0.47      0.67      0.55      1000\n",
            "           7       0.60      0.59      0.60      1000\n",
            "           8       0.67      0.65      0.66      1000\n",
            "           9       0.54      0.60      0.57      1000\n",
            "\n",
            "    accuracy                           0.52     10000\n",
            "   macro avg       0.52      0.52      0.51     10000\n",
            "weighted avg       0.52      0.52      0.51     10000\n",
            "\n",
            "Accuracy Score: 0.5175\n",
            "Root Mean Square Error: 3.0109466949781756\n"
          ]
        },
        {
          "output_type": "display_data",
          "data": {
            "image/png": "[encoded data removed]",
            "text/plain": [
              "<Figure size 576x576 with 1 Axes>"
            ]
          },
          "metadata": {
            "needs_background": "light"
          }
        }
      ]
    },
    {
      "cell_type": "code",
      "source": [
        "new_col = ['DNN with 3 layers (no regularization)']   \n",
        "result2.insert(loc=0, column='Model', value=new_col)\n",
        "\n",
        "assignment_result_table = assignment_result_table.append(result2, ignore_index = True)\n",
        "\n",
        "assignment_result_table"
      ],
      "metadata": {
        "id": "H_sCzC1opeW4",
        "outputId": "31a46fc5-7c6f-41c1-fab1-61dd99f22996",
        "colab": {
          "base_uri": "https://localhost:8080/",
          "height": 111
        }
      },
      "execution_count": 27,
      "outputs": [
        {
          "output_type": "execute_result",
          "data": {
            "text/html": [
              "\n",
              "  <div id=\"df-e3876d58-f40d-476c-b2f8-c0be7f7f2237\">\n",
              "    <div class=\"colab-df-container\">\n",
              "      <div>\n",
              "<style scoped>\n",
              "    .dataframe tbody tr th:only-of-type {\n",
              "        vertical-align: middle;\n",
              "    }\n",
              "\n",
              "    .dataframe tbody tr th {\n",
              "        vertical-align: top;\n",
              "    }\n",
              "\n",
              "    .dataframe thead th {\n",
              "        text-align: right;\n",
              "    }\n",
              "</style>\n",
              "<table border=\"1\" class=\"dataframe\">\n",
              "  <thead>\n",
              "    <tr style=\"text-align: right;\">\n",
              "      <th></th>\n",
              "      <th>Model</th>\n",
              "      <th>loss</th>\n",
              "      <th>accuracy</th>\n",
              "      <th>val_loss</th>\n",
              "      <th>val_accuracy</th>\n",
              "      <th>test_loss</th>\n",
              "      <th>test_accuracy</th>\n",
              "      <th>process_time</th>\n",
              "    </tr>\n",
              "  </thead>\n",
              "  <tbody>\n",
              "    <tr>\n",
              "      <th>0</th>\n",
              "      <td>DNN with 2 layers (no regularization)</td>\n",
              "      <td>1.349523</td>\n",
              "      <td>0.519867</td>\n",
              "      <td>1.466743</td>\n",
              "      <td>0.4830</td>\n",
              "      <td>1.461208</td>\n",
              "      <td>0.4870</td>\n",
              "      <td>37.715019</td>\n",
              "    </tr>\n",
              "    <tr>\n",
              "      <th>1</th>\n",
              "      <td>DNN with 3 layers (no regularization)</td>\n",
              "      <td>1.149056</td>\n",
              "      <td>0.589911</td>\n",
              "      <td>1.445502</td>\n",
              "      <td>0.5046</td>\n",
              "      <td>1.396864</td>\n",
              "      <td>0.5175</td>\n",
              "      <td>44.277055</td>\n",
              "    </tr>\n",
              "  </tbody>\n",
              "</table>\n",
              "</div>\n",
              "      <button class=\"colab-df-convert\" onclick=\"convertToInteractive('df-e3876d58-f40d-476c-b2f8-c0be7f7f2237')\"\n",
              "              title=\"Convert this dataframe to an interactive table.\"\n",
              "              style=\"display:none;\">\n",
              "        \n",
              "  <svg xmlns=\"http://www.w3.org/2000/svg\" height=\"24px\"viewBox=\"0 0 24 24\"\n",
              "       width=\"24px\">\n",
              "    <path d=\"M0 0h24v24H0V0z\" fill=\"none\"/>\n",
              "    <path d=\"M18.56 5.44l.94 2.06.94-2.06 2.06-.94-2.06-.94-.94-2.06-.94 2.06-2.06.94zm-11 1L8.5 8.5l.94-2.06 2.06-.94-2.06-.94L8.5 2.5l-.94 2.06-2.06.94zm10 10l.94 2.06.94-2.06 2.06-.94-2.06-.94-.94-2.06-.94 2.06-2.06.94z\"/><path d=\"M17.41 7.96l-1.37-1.37c-.4-.4-.92-.59-1.43-.59-.52 0-1.04.2-1.43.59L10.3 9.45l-7.72 7.72c-.78.78-.78 2.05 0 2.83L4 21.41c.39.39.9.59 1.41.59.51 0 1.02-.2 1.41-.59l7.78-7.78 2.81-2.81c.8-.78.8-2.07 0-2.86zM5.41 20L4 18.59l7.72-7.72 1.47 1.35L5.41 20z\"/>\n",
              "  </svg>\n",
              "      </button>\n",
              "      \n",
              "  <style>\n",
              "    .colab-df-container {\n",
              "      display:flex;\n",
              "      flex-wrap:wrap;\n",
              "      gap: 12px;\n",
              "    }\n",
              "\n",
              "    .colab-df-convert {\n",
              "      background-color: #E8F0FE;\n",
              "      border: none;\n",
              "      border-radius: 50%;\n",
              "      cursor: pointer;\n",
              "      display: none;\n",
              "      fill: #1967D2;\n",
              "      height: 32px;\n",
              "      padding: 0 0 0 0;\n",
              "      width: 32px;\n",
              "    }\n",
              "\n",
              "    .colab-df-convert:hover {\n",
              "      background-color: #E2EBFA;\n",
              "      box-shadow: 0px 1px 2px rgba(60, 64, 67, 0.3), 0px 1px 3px 1px rgba(60, 64, 67, 0.15);\n",
              "      fill: #174EA6;\n",
              "    }\n",
              "\n",
              "    [theme=dark] .colab-df-convert {\n",
              "      background-color: #3B4455;\n",
              "      fill: #D2E3FC;\n",
              "    }\n",
              "\n",
              "    [theme=dark] .colab-df-convert:hover {\n",
              "      background-color: #434B5C;\n",
              "      box-shadow: 0px 1px 3px 1px rgba(0, 0, 0, 0.15);\n",
              "      filter: drop-shadow(0px 1px 2px rgba(0, 0, 0, 0.3));\n",
              "      fill: #FFFFFF;\n",
              "    }\n",
              "  </style>\n",
              "\n",
              "      <script>\n",
              "        const buttonEl =\n",
              "          document.querySelector('#df-e3876d58-f40d-476c-b2f8-c0be7f7f2237 button.colab-df-convert');\n",
              "        buttonEl.style.display =\n",
              "          google.colab.kernel.accessAllowed ? 'block' : 'none';\n",
              "\n",
              "        async function convertToInteractive(key) {\n",
              "          const element = document.querySelector('#df-e3876d58-f40d-476c-b2f8-c0be7f7f2237');\n",
              "          const dataTable =\n",
              "            await google.colab.kernel.invokeFunction('convertToInteractive',\n",
              "                                                     [key], {});\n",
              "          if (!dataTable) return;\n",
              "\n",
              "          const docLinkHtml = 'Like what you see? Visit the ' +\n",
              "            '<a target=\"_blank\" href=https://colab.research.google.com/notebooks/data_table.ipynb>data table notebook</a>'\n",
              "            + ' to learn more about interactive tables.';\n",
              "          element.innerHTML = '';\n",
              "          dataTable['output_type'] = 'display_data';\n",
              "          await google.colab.output.renderOutput(dataTable, element);\n",
              "          const docLink = document.createElement('div');\n",
              "          docLink.innerHTML = docLinkHtml;\n",
              "          element.appendChild(docLink);\n",
              "        }\n",
              "      </script>\n",
              "    </div>\n",
              "  </div>\n",
              "  "
            ],
            "text/plain": [
              "                                   Model      loss  ...  test_accuracy  process_time\n",
              "0  DNN with 2 layers (no regularization)  1.349523  ...         0.4870     37.715019\n",
              "1  DNN with 3 layers (no regularization)  1.149056  ...         0.5175     44.277055\n",
              "\n",
              "[2 rows x 8 columns]"
            ]
          },
          "metadata": {},
          "execution_count": 27
        }
      ]
    },
    {
      "cell_type": "markdown",
      "source": [
        "## Experiment 3: CNN with 2 convolution/max pooling layers (no regularization)"
      ],
      "metadata": {
        "id": "xhMSC0rGp99V"
      }
    },
    {
      "cell_type": "code",
      "source": [
        "model3 = models.Sequential()\n",
        "model3.add(layers.Conv2D(filters=128, kernel_size=(3, 3), strides=(1, 1), activation=tf.nn.relu,input_shape=(32, 32, 3)))\n",
        "model3.add(layers.MaxPool2D((2, 2),strides=2))\n",
        "model3.add(layers.Dropout(0.3))\n",
        "model3.add(layers.Conv2D(filters=256, kernel_size=(3, 3), strides=(1, 1), activation=tf.nn.relu))\n",
        "model3.add(layers.MaxPool2D(pool_size=(2, 2),strides=2))\n",
        "model3.add(layers.Dropout(0.3))\n",
        "model3.add(layers.Flatten())\n",
        "model3.add(layers.BatchNormalization())\n",
        "model3.add(layers.Dense(units=384, activation=tf.nn.relu))\n",
        "model3.add(layers.Dense(units=10, activation=tf.nn.softmax))\n",
        "\n",
        "model3.summary()"
      ],
      "metadata": {
        "id": "UNy1MuW3qEks",
        "outputId": "b65d6ca6-c00f-4824-dfa4-edc820c5c170",
        "colab": {
          "base_uri": "https://localhost:8080/"
        }
      },
      "execution_count": 28,
      "outputs": [
        {
          "output_type": "stream",
          "name": "stdout",
          "text": [
            "Model: \"sequential_2\"\n",
            "_________________________________________________________________\n",
            " Layer (type)                Output Shape              Param #   \n",
            "=================================================================\n",
            " conv2d (Conv2D)             (None, 30, 30, 128)       3584      \n",
            "                                                                 \n",
            " max_pooling2d (MaxPooling2D  (None, 15, 15, 128)      0         \n",
            " )                                                               \n",
            "                                                                 \n",
            " dropout (Dropout)           (None, 15, 15, 128)       0         \n",
            "                                                                 \n",
            " conv2d_1 (Conv2D)           (None, 13, 13, 256)       295168    \n",
            "                                                                 \n",
            " max_pooling2d_1 (MaxPooling  (None, 6, 6, 256)        0         \n",
            " 2D)                                                             \n",
            "                                                                 \n",
            " dropout_1 (Dropout)         (None, 6, 6, 256)         0         \n",
            "                                                                 \n",
            " flatten (Flatten)           (None, 9216)              0         \n",
            "                                                                 \n",
            " batch_normalization (BatchN  (None, 9216)             36864     \n",
            " ormalization)                                                   \n",
            "                                                                 \n",
            " dense (Dense)               (None, 384)               3539328   \n",
            "                                                                 \n",
            " dense_1 (Dense)             (None, 10)                3850      \n",
            "                                                                 \n",
            "=================================================================\n",
            "Total params: 3,878,794\n",
            "Trainable params: 3,860,362\n",
            "Non-trainable params: 18,432\n",
            "_________________________________________________________________\n"
          ]
        }
      ]
    },
    {
      "cell_type": "code",
      "source": [
        "result3 = compile_train_plot_model(model3)"
      ],
      "metadata": {
        "id": "uYR8jEDTq1Ek",
        "outputId": "da626cc9-71dc-41de-afb4-87bacc08c562",
        "colab": {
          "base_uri": "https://localhost:8080/",
          "height": 1000
        }
      },
      "execution_count": 29,
      "outputs": [
        {
          "output_type": "stream",
          "name": "stdout",
          "text": [
            "Epoch 1/20\n",
            "450/450 [==============================] - 15s 15ms/step - loss: 1.4009 - accuracy: 0.5021 - val_loss: 1.7336 - val_accuracy: 0.5036\n",
            "Epoch 2/20\n",
            "450/450 [==============================] - 7s 16ms/step - loss: 1.0025 - accuracy: 0.6470 - val_loss: 1.2048 - val_accuracy: 0.5914\n",
            "Epoch 3/20\n",
            "450/450 [==============================] - 7s 15ms/step - loss: 0.8221 - accuracy: 0.7103 - val_loss: 0.8719 - val_accuracy: 0.6978\n",
            "Epoch 4/20\n",
            "450/450 [==============================] - 7s 15ms/step - loss: 0.6850 - accuracy: 0.7596 - val_loss: 0.9062 - val_accuracy: 0.7046\n",
            "Epoch 5/20\n",
            "450/450 [==============================] - 7s 15ms/step - loss: 0.5766 - accuracy: 0.7949 - val_loss: 0.9002 - val_accuracy: 0.7058\n",
            "Epoch 6/20\n",
            "450/450 [==============================] - 7s 15ms/step - loss: 0.4877 - accuracy: 0.8281 - val_loss: 0.9481 - val_accuracy: 0.7112\n",
            "Epoch 7/20\n",
            "450/450 [==============================] - 7s 15ms/step - loss: 0.4100 - accuracy: 0.8558 - val_loss: 1.2024 - val_accuracy: 0.6712\n",
            "Epoch 8/20\n",
            "450/450 [==============================] - 7s 15ms/step - loss: 0.3485 - accuracy: 0.8779 - val_loss: 0.9177 - val_accuracy: 0.7338\n",
            "Epoch 9/20\n",
            "450/450 [==============================] - 7s 15ms/step - loss: 0.2972 - accuracy: 0.8954 - val_loss: 1.0453 - val_accuracy: 0.7192\n",
            "Epoch 10/20\n",
            "450/450 [==============================] - 7s 15ms/step - loss: 0.2666 - accuracy: 0.9062 - val_loss: 1.0689 - val_accuracy: 0.7296\n",
            "Epoch 11/20\n",
            "450/450 [==============================] - 7s 15ms/step - loss: 0.2521 - accuracy: 0.9130 - val_loss: 1.2001 - val_accuracy: 0.7148\n",
            "Epoch 12/20\n",
            "450/450 [==============================] - 7s 15ms/step - loss: 0.2306 - accuracy: 0.9199 - val_loss: 1.1305 - val_accuracy: 0.7226\n",
            "Epoch 13/20\n",
            "450/450 [==============================] - 7s 15ms/step - loss: 0.2106 - accuracy: 0.9279 - val_loss: 1.2754 - val_accuracy: 0.7228\n",
            "Epoch 14/20\n",
            "450/450 [==============================] - 7s 15ms/step - loss: 0.1910 - accuracy: 0.9325 - val_loss: 1.2575 - val_accuracy: 0.7278\n",
            "Epoch 15/20\n",
            "450/450 [==============================] - 7s 15ms/step - loss: 0.1851 - accuracy: 0.9356 - val_loss: 1.3518 - val_accuracy: 0.7236\n",
            "Epoch 16/20\n",
            "450/450 [==============================] - 7s 15ms/step - loss: 0.1843 - accuracy: 0.9377 - val_loss: 1.5435 - val_accuracy: 0.6956\n",
            "Epoch 17/20\n",
            "450/450 [==============================] - 7s 15ms/step - loss: 0.1687 - accuracy: 0.9420 - val_loss: 1.2913 - val_accuracy: 0.7372\n",
            "Epoch 18/20\n",
            "450/450 [==============================] - 7s 15ms/step - loss: 0.1601 - accuracy: 0.9457 - val_loss: 1.4568 - val_accuracy: 0.7192\n",
            "Epoch 19/20\n",
            "450/450 [==============================] - 7s 15ms/step - loss: 0.1529 - accuracy: 0.9480 - val_loss: 1.4078 - val_accuracy: 0.7296\n",
            "Epoch 20/20\n",
            "450/450 [==============================] - 7s 15ms/step - loss: 0.1563 - accuracy: 0.9483 - val_loss: 1.5449 - val_accuracy: 0.7226\n",
            "313/313 [==============================] - 2s 4ms/step - loss: 1.6468 - accuracy: 0.7123\n",
            "test set accuracy:  71.23000025749207\n"
          ]
        },
        {
          "output_type": "stream",
          "name": "stderr",
          "text": [
            "/usr/local/lib/python3.7/dist-packages/ipykernel_launcher.py:40: SettingWithCopyWarning: \n",
            "A value is trying to be set on a copy of a slice from a DataFrame.\n",
            "Try using .loc[row_indexer,col_indexer] = value instead\n",
            "\n",
            "See the caveats in the documentation: https://pandas.pydata.org/pandas-docs/stable/user_guide/indexing.html#returning-a-view-versus-a-copy\n",
            "/usr/local/lib/python3.7/dist-packages/ipykernel_launcher.py:41: SettingWithCopyWarning: \n",
            "A value is trying to be set on a copy of a slice from a DataFrame.\n",
            "Try using .loc[row_indexer,col_indexer] = value instead\n",
            "\n",
            "See the caveats in the documentation: https://pandas.pydata.org/pandas-docs/stable/user_guide/indexing.html#returning-a-view-versus-a-copy\n",
            "/usr/local/lib/python3.7/dist-packages/ipykernel_launcher.py:42: SettingWithCopyWarning: \n",
            "A value is trying to be set on a copy of a slice from a DataFrame.\n",
            "Try using .loc[row_indexer,col_indexer] = value instead\n",
            "\n",
            "See the caveats in the documentation: https://pandas.pydata.org/pandas-docs/stable/user_guide/indexing.html#returning-a-view-versus-a-copy\n"
          ]
        },
        {
          "output_type": "display_data",
          "data": {
            "image/png": "[encoded data removed]",
            "text/plain": [
              "<Figure size 1152x288 with 2 Axes>"
            ]
          },
          "metadata": {
            "needs_background": "light"
          }
        },
        {
          "output_type": "stream",
          "name": "stdout",
          "text": [
            "Classification Report\n",
            "              precision    recall  f1-score   support\n",
            "\n",
            "           0       0.60      0.89      0.72      1000\n",
            "           1       0.95      0.71      0.81      1000\n",
            "           2       0.67      0.59      0.63      1000\n",
            "           3       0.49      0.60      0.54      1000\n",
            "           4       0.70      0.69      0.70      1000\n",
            "           5       0.73      0.48      0.58      1000\n",
            "           6       0.76      0.81      0.79      1000\n",
            "           7       0.78      0.78      0.78      1000\n",
            "           8       0.84      0.76      0.80      1000\n",
            "           9       0.78      0.81      0.80      1000\n",
            "\n",
            "    accuracy                           0.71     10000\n",
            "   macro avg       0.73      0.71      0.71     10000\n",
            "weighted avg       0.73      0.71      0.71     10000\n",
            "\n",
            "Accuracy Score: 0.7123\n",
            "Root Mean Square Error: 2.3251451567590355\n"
          ]
        },
        {
          "output_type": "display_data",
          "data": {
            "image/png": "[encoded data removed]",
            "text/plain": [
              "<Figure size 576x576 with 1 Axes>"
            ]
          },
          "metadata": {
            "needs_background": "light"
          }
        }
      ]
    },
    {
      "cell_type": "code",
      "source": [
        "new_col = ['CNN with 2 convolution/max pooling layers (no regularization)']   \n",
        "result3.insert(loc=0, column='Model', value=new_col)\n",
        "\n",
        "assignment_result_table = assignment_result_table.append(result3, ignore_index = True)\n",
        "\n",
        "assignment_result_table"
      ],
      "metadata": {
        "id": "Qga1abUtq4VB",
        "outputId": "f87430af-7739-46bf-b8c1-46e84bb46ba5",
        "colab": {
          "base_uri": "https://localhost:8080/",
          "height": 142
        }
      },
      "execution_count": 30,
      "outputs": [
        {
          "output_type": "execute_result",
          "data": {
            "text/html": [
              "\n",
              "  <div id=\"df-81376877-73d8-4ce4-8084-75291125ea23\">\n",
              "    <div class=\"colab-df-container\">\n",
              "      <div>\n",
              "<style scoped>\n",
              "    .dataframe tbody tr th:only-of-type {\n",
              "        vertical-align: middle;\n",
              "    }\n",
              "\n",
              "    .dataframe tbody tr th {\n",
              "        vertical-align: top;\n",
              "    }\n",
              "\n",
              "    .dataframe thead th {\n",
              "        text-align: right;\n",
              "    }\n",
              "</style>\n",
              "<table border=\"1\" class=\"dataframe\">\n",
              "  <thead>\n",
              "    <tr style=\"text-align: right;\">\n",
              "      <th></th>\n",
              "      <th>Model</th>\n",
              "      <th>loss</th>\n",
              "      <th>accuracy</th>\n",
              "      <th>val_loss</th>\n",
              "      <th>val_accuracy</th>\n",
              "      <th>test_loss</th>\n",
              "      <th>test_accuracy</th>\n",
              "      <th>process_time</th>\n",
              "    </tr>\n",
              "  </thead>\n",
              "  <tbody>\n",
              "    <tr>\n",
              "      <th>0</th>\n",
              "      <td>DNN with 2 layers (no regularization)</td>\n",
              "      <td>1.349523</td>\n",
              "      <td>0.519867</td>\n",
              "      <td>1.466743</td>\n",
              "      <td>0.4830</td>\n",
              "      <td>1.461208</td>\n",
              "      <td>0.4870</td>\n",
              "      <td>37.715019</td>\n",
              "    </tr>\n",
              "    <tr>\n",
              "      <th>1</th>\n",
              "      <td>DNN with 3 layers (no regularization)</td>\n",
              "      <td>1.149056</td>\n",
              "      <td>0.589911</td>\n",
              "      <td>1.445502</td>\n",
              "      <td>0.5046</td>\n",
              "      <td>1.396864</td>\n",
              "      <td>0.5175</td>\n",
              "      <td>44.277055</td>\n",
              "    </tr>\n",
              "    <tr>\n",
              "      <th>2</th>\n",
              "      <td>CNN with 2 convolution/max pooling layers (no ...</td>\n",
              "      <td>0.156272</td>\n",
              "      <td>0.948267</td>\n",
              "      <td>1.544913</td>\n",
              "      <td>0.7226</td>\n",
              "      <td>1.646841</td>\n",
              "      <td>0.7123</td>\n",
              "      <td>149.813825</td>\n",
              "    </tr>\n",
              "  </tbody>\n",
              "</table>\n",
              "</div>\n",
              "      <button class=\"colab-df-convert\" onclick=\"convertToInteractive('df-81376877-73d8-4ce4-8084-75291125ea23')\"\n",
              "              title=\"Convert this dataframe to an interactive table.\"\n",
              "              style=\"display:none;\">\n",
              "        \n",
              "  <svg xmlns=\"http://www.w3.org/2000/svg\" height=\"24px\"viewBox=\"0 0 24 24\"\n",
              "       width=\"24px\">\n",
              "    <path d=\"M0 0h24v24H0V0z\" fill=\"none\"/>\n",
              "    <path d=\"M18.56 5.44l.94 2.06.94-2.06 2.06-.94-2.06-.94-.94-2.06-.94 2.06-2.06.94zm-11 1L8.5 8.5l.94-2.06 2.06-.94-2.06-.94L8.5 2.5l-.94 2.06-2.06.94zm10 10l.94 2.06.94-2.06 2.06-.94-2.06-.94-.94-2.06-.94 2.06-2.06.94z\"/><path d=\"M17.41 7.96l-1.37-1.37c-.4-.4-.92-.59-1.43-.59-.52 0-1.04.2-1.43.59L10.3 9.45l-7.72 7.72c-.78.78-.78 2.05 0 2.83L4 21.41c.39.39.9.59 1.41.59.51 0 1.02-.2 1.41-.59l7.78-7.78 2.81-2.81c.8-.78.8-2.07 0-2.86zM5.41 20L4 18.59l7.72-7.72 1.47 1.35L5.41 20z\"/>\n",
              "  </svg>\n",
              "      </button>\n",
              "      \n",
              "  <style>\n",
              "    .colab-df-container {\n",
              "      display:flex;\n",
              "      flex-wrap:wrap;\n",
              "      gap: 12px;\n",
              "    }\n",
              "\n",
              "    .colab-df-convert {\n",
              "      background-color: #E8F0FE;\n",
              "      border: none;\n",
              "      border-radius: 50%;\n",
              "      cursor: pointer;\n",
              "      display: none;\n",
              "      fill: #1967D2;\n",
              "      height: 32px;\n",
              "      padding: 0 0 0 0;\n",
              "      width: 32px;\n",
              "    }\n",
              "\n",
              "    .colab-df-convert:hover {\n",
              "      background-color: #E2EBFA;\n",
              "      box-shadow: 0px 1px 2px rgba(60, 64, 67, 0.3), 0px 1px 3px 1px rgba(60, 64, 67, 0.15);\n",
              "      fill: #174EA6;\n",
              "    }\n",
              "\n",
              "    [theme=dark] .colab-df-convert {\n",
              "      background-color: #3B4455;\n",
              "      fill: #D2E3FC;\n",
              "    }\n",
              "\n",
              "    [theme=dark] .colab-df-convert:hover {\n",
              "      background-color: #434B5C;\n",
              "      box-shadow: 0px 1px 3px 1px rgba(0, 0, 0, 0.15);\n",
              "      filter: drop-shadow(0px 1px 2px rgba(0, 0, 0, 0.3));\n",
              "      fill: #FFFFFF;\n",
              "    }\n",
              "  </style>\n",
              "\n",
              "      <script>\n",
              "        const buttonEl =\n",
              "          document.querySelector('#df-81376877-73d8-4ce4-8084-75291125ea23 button.colab-df-convert');\n",
              "        buttonEl.style.display =\n",
              "          google.colab.kernel.accessAllowed ? 'block' : 'none';\n",
              "\n",
              "        async function convertToInteractive(key) {\n",
              "          const element = document.querySelector('#df-81376877-73d8-4ce4-8084-75291125ea23');\n",
              "          const dataTable =\n",
              "            await google.colab.kernel.invokeFunction('convertToInteractive',\n",
              "                                                     [key], {});\n",
              "          if (!dataTable) return;\n",
              "\n",
              "          const docLinkHtml = 'Like what you see? Visit the ' +\n",
              "            '<a target=\"_blank\" href=https://colab.research.google.com/notebooks/data_table.ipynb>data table notebook</a>'\n",
              "            + ' to learn more about interactive tables.';\n",
              "          element.innerHTML = '';\n",
              "          dataTable['output_type'] = 'display_data';\n",
              "          await google.colab.output.renderOutput(dataTable, element);\n",
              "          const docLink = document.createElement('div');\n",
              "          docLink.innerHTML = docLinkHtml;\n",
              "          element.appendChild(docLink);\n",
              "        }\n",
              "      </script>\n",
              "    </div>\n",
              "  </div>\n",
              "  "
            ],
            "text/plain": [
              "                                               Model  ...  process_time\n",
              "0              DNN with 2 layers (no regularization)  ...     37.715019\n",
              "1              DNN with 3 layers (no regularization)  ...     44.277055\n",
              "2  CNN with 2 convolution/max pooling layers (no ...  ...    149.813825\n",
              "\n",
              "[3 rows x 8 columns]"
            ]
          },
          "metadata": {},
          "execution_count": 30
        }
      ]
    },
    {
      "cell_type": "markdown",
      "source": [
        "## Experiment 4: CNN with 3 convolution/max pooling layers (no regularization)"
      ],
      "metadata": {
        "id": "T2aVk5qIqDW2"
      }
    },
    {
      "cell_type": "code",
      "source": [
        "model4 = models.Sequential()\n",
        "model4.add(layers.Conv2D(filters=128, kernel_size=(3, 3), strides=(1, 1), activation=tf.nn.relu,input_shape=(32, 32, 3)))\n",
        "model4.add(layers.MaxPool2D((2, 2),strides=2))\n",
        "model4.add(layers.Dropout(0.3))\n",
        "model4.add(layers.Conv2D(filters=256, kernel_size=(3, 3), strides=(1, 1), activation=tf.nn.relu))\n",
        "model4.add(layers.MaxPool2D(pool_size=(2, 2),strides=2))\n",
        "model4.add(layers.Dropout(0.3))\n",
        "model4.add(layers.Conv2D(filters=512, kernel_size=(3, 3), strides=(1, 1), activation=tf.nn.relu))\n",
        "model4.add(layers.MaxPool2D(pool_size=(2, 2),strides=2))\n",
        "model4.add(layers.Dropout(0.3))\n",
        "model4.add(layers.Flatten())\n",
        "model4.add(layers.BatchNormalization())\n",
        "model4.add(layers.Dense(units=384, activation=tf.nn.relu))\n",
        "model4.add(layers.Dense(units=10, activation=tf.nn.softmax))\n",
        "\n",
        "model4.summary()\n",
        "\n",
        "result4 = compile_train_plot_model(model4)\n",
        "\n",
        "new_col = ['CNN with 3 convolution/max pooling layers (no regularization)']   \n",
        "result4.insert(loc=0, column='Model', value=new_col)\n",
        "\n",
        "assignment_result_table = assignment_result_table.append(result4, ignore_index = True)\n",
        "\n",
        "assignment_result_table"
      ],
      "metadata": {
        "id": "YuAs32Ntr-bk",
        "outputId": "eb81897d-f8e8-48c4-fb41-bfbf44e9cf29",
        "colab": {
          "base_uri": "https://localhost:8080/",
          "height": 1000
        }
      },
      "execution_count": 31,
      "outputs": [
        {
          "output_type": "stream",
          "name": "stdout",
          "text": [
            "Model: \"sequential_3\"\n",
            "_________________________________________________________________\n",
            " Layer (type)                Output Shape              Param #   \n",
            "=================================================================\n",
            " conv2d_2 (Conv2D)           (None, 30, 30, 128)       3584      \n",
            "                                                                 \n",
            " max_pooling2d_2 (MaxPooling  (None, 15, 15, 128)      0         \n",
            " 2D)                                                             \n",
            "                                                                 \n",
            " dropout_2 (Dropout)         (None, 15, 15, 128)       0         \n",
            "                                                                 \n",
            " conv2d_3 (Conv2D)           (None, 13, 13, 256)       295168    \n",
            "                                                                 \n",
            " max_pooling2d_3 (MaxPooling  (None, 6, 6, 256)        0         \n",
            " 2D)                                                             \n",
            "                                                                 \n",
            " dropout_3 (Dropout)         (None, 6, 6, 256)         0         \n",
            "                                                                 \n",
            " conv2d_4 (Conv2D)           (None, 4, 4, 512)         1180160   \n",
            "                                                                 \n",
            " max_pooling2d_4 (MaxPooling  (None, 2, 2, 512)        0         \n",
            " 2D)                                                             \n",
            "                                                                 \n",
            " dropout_4 (Dropout)         (None, 2, 2, 512)         0         \n",
            "                                                                 \n",
            " flatten_1 (Flatten)         (None, 2048)              0         \n",
            "                                                                 \n",
            " batch_normalization_1 (Batc  (None, 2048)             8192      \n",
            " hNormalization)                                                 \n",
            "                                                                 \n",
            " dense_2 (Dense)             (None, 384)               786816    \n",
            "                                                                 \n",
            " dense_3 (Dense)             (None, 10)                3850      \n",
            "                                                                 \n",
            "=================================================================\n",
            "Total params: 2,277,770\n",
            "Trainable params: 2,273,674\n",
            "Non-trainable params: 4,096\n",
            "_________________________________________________________________\n",
            "Epoch 1/20\n",
            "450/450 [==============================] - 9s 18ms/step - loss: 1.5537 - accuracy: 0.4410 - val_loss: 1.3873 - val_accuracy: 0.5520\n",
            "Epoch 2/20\n",
            "450/450 [==============================] - 8s 17ms/step - loss: 1.1583 - accuracy: 0.5853 - val_loss: 1.0406 - val_accuracy: 0.6402\n",
            "Epoch 3/20\n",
            "450/450 [==============================] - 8s 17ms/step - loss: 1.0001 - accuracy: 0.6477 - val_loss: 1.3182 - val_accuracy: 0.5554\n",
            "Epoch 4/20\n",
            "450/450 [==============================] - 8s 18ms/step - loss: 0.9022 - accuracy: 0.6824 - val_loss: 0.8749 - val_accuracy: 0.6892\n",
            "Epoch 5/20\n",
            "450/450 [==============================] - 8s 17ms/step - loss: 0.8313 - accuracy: 0.7089 - val_loss: 0.9566 - val_accuracy: 0.6726\n",
            "Epoch 6/20\n",
            "450/450 [==============================] - 8s 18ms/step - loss: 0.7737 - accuracy: 0.7287 - val_loss: 0.7750 - val_accuracy: 0.7240\n",
            "Epoch 7/20\n",
            "450/450 [==============================] - 8s 18ms/step - loss: 0.7259 - accuracy: 0.7451 - val_loss: 0.7254 - val_accuracy: 0.7512\n",
            "Epoch 8/20\n",
            "450/450 [==============================] - 8s 17ms/step - loss: 0.6814 - accuracy: 0.7586 - val_loss: 0.7367 - val_accuracy: 0.7416\n",
            "Epoch 9/20\n",
            "450/450 [==============================] - 8s 18ms/step - loss: 0.6454 - accuracy: 0.7718 - val_loss: 0.7246 - val_accuracy: 0.7504\n",
            "Epoch 10/20\n",
            "450/450 [==============================] - 8s 18ms/step - loss: 0.6095 - accuracy: 0.7832 - val_loss: 0.8471 - val_accuracy: 0.7116\n",
            "Epoch 11/20\n",
            "450/450 [==============================] - 8s 17ms/step - loss: 0.5820 - accuracy: 0.7938 - val_loss: 0.7291 - val_accuracy: 0.7462\n",
            "Epoch 12/20\n",
            "450/450 [==============================] - 8s 18ms/step - loss: 0.5603 - accuracy: 0.8041 - val_loss: 0.6576 - val_accuracy: 0.7700\n",
            "Epoch 13/20\n",
            "450/450 [==============================] - 8s 18ms/step - loss: 0.5344 - accuracy: 0.8116 - val_loss: 0.6706 - val_accuracy: 0.7704\n",
            "Epoch 14/20\n",
            "450/450 [==============================] - 8s 18ms/step - loss: 0.5089 - accuracy: 0.8206 - val_loss: 0.6903 - val_accuracy: 0.7714\n",
            "Epoch 15/20\n",
            "450/450 [==============================] - 8s 18ms/step - loss: 0.4838 - accuracy: 0.8289 - val_loss: 0.6076 - val_accuracy: 0.7974\n",
            "Epoch 16/20\n",
            "450/450 [==============================] - 8s 18ms/step - loss: 0.4718 - accuracy: 0.8325 - val_loss: 0.7014 - val_accuracy: 0.7702\n",
            "Epoch 17/20\n",
            "450/450 [==============================] - 8s 18ms/step - loss: 0.4479 - accuracy: 0.8413 - val_loss: 0.6533 - val_accuracy: 0.7962\n",
            "Epoch 18/20\n",
            "450/450 [==============================] - 8s 18ms/step - loss: 0.4263 - accuracy: 0.8481 - val_loss: 0.6840 - val_accuracy: 0.7784\n",
            "Epoch 19/20\n",
            "450/450 [==============================] - 8s 18ms/step - loss: 0.4142 - accuracy: 0.8541 - val_loss: 0.6334 - val_accuracy: 0.7894\n",
            "Epoch 20/20\n",
            "450/450 [==============================] - 8s 17ms/step - loss: 0.3993 - accuracy: 0.8578 - val_loss: 0.6279 - val_accuracy: 0.7942\n",
            "313/313 [==============================] - 2s 6ms/step - loss: 0.6476 - accuracy: 0.7948\n",
            "test set accuracy:  79.47999835014343\n"
          ]
        },
        {
          "output_type": "stream",
          "name": "stderr",
          "text": [
            "/usr/local/lib/python3.7/dist-packages/ipykernel_launcher.py:40: SettingWithCopyWarning: \n",
            "A value is trying to be set on a copy of a slice from a DataFrame.\n",
            "Try using .loc[row_indexer,col_indexer] = value instead\n",
            "\n",
            "See the caveats in the documentation: https://pandas.pydata.org/pandas-docs/stable/user_guide/indexing.html#returning-a-view-versus-a-copy\n",
            "/usr/local/lib/python3.7/dist-packages/ipykernel_launcher.py:41: SettingWithCopyWarning: \n",
            "A value is trying to be set on a copy of a slice from a DataFrame.\n",
            "Try using .loc[row_indexer,col_indexer] = value instead\n",
            "\n",
            "See the caveats in the documentation: https://pandas.pydata.org/pandas-docs/stable/user_guide/indexing.html#returning-a-view-versus-a-copy\n",
            "/usr/local/lib/python3.7/dist-packages/ipykernel_launcher.py:42: SettingWithCopyWarning: \n",
            "A value is trying to be set on a copy of a slice from a DataFrame.\n",
            "Try using .loc[row_indexer,col_indexer] = value instead\n",
            "\n",
            "See the caveats in the documentation: https://pandas.pydata.org/pandas-docs/stable/user_guide/indexing.html#returning-a-view-versus-a-copy\n"
          ]
        },
        {
          "output_type": "display_data",
          "data": {
            "image/png": "[encoded data removed]",
            "text/plain": [
              "<Figure size 1152x288 with 2 Axes>"
            ]
          },
          "metadata": {
            "needs_background": "light"
          }
        },
        {
          "output_type": "stream",
          "name": "stdout",
          "text": [
            "Classification Report\n",
            "              precision    recall  f1-score   support\n",
            "\n",
            "           0       0.85      0.82      0.83      1000\n",
            "           1       0.90      0.90      0.90      1000\n",
            "           2       0.76      0.67      0.71      1000\n",
            "           3       0.71      0.55      0.62      1000\n",
            "           4       0.71      0.80      0.75      1000\n",
            "           5       0.69      0.76      0.72      1000\n",
            "           6       0.75      0.91      0.82      1000\n",
            "           7       0.83      0.83      0.83      1000\n",
            "           8       0.86      0.88      0.87      1000\n",
            "           9       0.90      0.83      0.87      1000\n",
            "\n",
            "    accuracy                           0.79     10000\n",
            "   macro avg       0.80      0.79      0.79     10000\n",
            "weighted avg       0.80      0.79      0.79     10000\n",
            "\n",
            "Accuracy Score: 0.7948\n",
            "Root Mean Square Error: 1.8014993755202915\n"
          ]
        },
        {
          "output_type": "execute_result",
          "data": {
            "text/html": [
              "\n",
              "  <div id=\"df-5ca40e2e-47e2-4886-8af5-dd0ea2c9aeb6\">\n",
              "    <div class=\"colab-df-container\">\n",
              "      <div>\n",
              "<style scoped>\n",
              "    .dataframe tbody tr th:only-of-type {\n",
              "        vertical-align: middle;\n",
              "    }\n",
              "\n",
              "    .dataframe tbody tr th {\n",
              "        vertical-align: top;\n",
              "    }\n",
              "\n",
              "    .dataframe thead th {\n",
              "        text-align: right;\n",
              "    }\n",
              "</style>\n",
              "<table border=\"1\" class=\"dataframe\">\n",
              "  <thead>\n",
              "    <tr style=\"text-align: right;\">\n",
              "      <th></th>\n",
              "      <th>Model</th>\n",
              "      <th>loss</th>\n",
              "      <th>accuracy</th>\n",
              "      <th>val_loss</th>\n",
              "      <th>val_accuracy</th>\n",
              "      <th>test_loss</th>\n",
              "      <th>test_accuracy</th>\n",
              "      <th>process_time</th>\n",
              "    </tr>\n",
              "  </thead>\n",
              "  <tbody>\n",
              "    <tr>\n",
              "      <th>0</th>\n",
              "      <td>DNN with 2 layers (no regularization)</td>\n",
              "      <td>1.349523</td>\n",
              "      <td>0.519867</td>\n",
              "      <td>1.466743</td>\n",
              "      <td>0.4830</td>\n",
              "      <td>1.461208</td>\n",
              "      <td>0.4870</td>\n",
              "      <td>37.715019</td>\n",
              "    </tr>\n",
              "    <tr>\n",
              "      <th>1</th>\n",
              "      <td>DNN with 3 layers (no regularization)</td>\n",
              "      <td>1.149056</td>\n",
              "      <td>0.589911</td>\n",
              "      <td>1.445502</td>\n",
              "      <td>0.5046</td>\n",
              "      <td>1.396864</td>\n",
              "      <td>0.5175</td>\n",
              "      <td>44.277055</td>\n",
              "    </tr>\n",
              "    <tr>\n",
              "      <th>2</th>\n",
              "      <td>CNN with 2 convolution/max pooling layers (no ...</td>\n",
              "      <td>0.156272</td>\n",
              "      <td>0.948267</td>\n",
              "      <td>1.544913</td>\n",
              "      <td>0.7226</td>\n",
              "      <td>1.646841</td>\n",
              "      <td>0.7123</td>\n",
              "      <td>149.813825</td>\n",
              "    </tr>\n",
              "    <tr>\n",
              "      <th>3</th>\n",
              "      <td>CNN with 3 convolution/max pooling layers (no ...</td>\n",
              "      <td>0.399279</td>\n",
              "      <td>0.857822</td>\n",
              "      <td>0.627919</td>\n",
              "      <td>0.7942</td>\n",
              "      <td>0.647574</td>\n",
              "      <td>0.7948</td>\n",
              "      <td>208.209461</td>\n",
              "    </tr>\n",
              "  </tbody>\n",
              "</table>\n",
              "</div>\n",
              "      <button class=\"colab-df-convert\" onclick=\"convertToInteractive('df-5ca40e2e-47e2-4886-8af5-dd0ea2c9aeb6')\"\n",
              "              title=\"Convert this dataframe to an interactive table.\"\n",
              "              style=\"display:none;\">\n",
              "        \n",
              "  <svg xmlns=\"http://www.w3.org/2000/svg\" height=\"24px\"viewBox=\"0 0 24 24\"\n",
              "       width=\"24px\">\n",
              "    <path d=\"M0 0h24v24H0V0z\" fill=\"none\"/>\n",
              "    <path d=\"M18.56 5.44l.94 2.06.94-2.06 2.06-.94-2.06-.94-.94-2.06-.94 2.06-2.06.94zm-11 1L8.5 8.5l.94-2.06 2.06-.94-2.06-.94L8.5 2.5l-.94 2.06-2.06.94zm10 10l.94 2.06.94-2.06 2.06-.94-2.06-.94-.94-2.06-.94 2.06-2.06.94z\"/><path d=\"M17.41 7.96l-1.37-1.37c-.4-.4-.92-.59-1.43-.59-.52 0-1.04.2-1.43.59L10.3 9.45l-7.72 7.72c-.78.78-.78 2.05 0 2.83L4 21.41c.39.39.9.59 1.41.59.51 0 1.02-.2 1.41-.59l7.78-7.78 2.81-2.81c.8-.78.8-2.07 0-2.86zM5.41 20L4 18.59l7.72-7.72 1.47 1.35L5.41 20z\"/>\n",
              "  </svg>\n",
              "      </button>\n",
              "      \n",
              "  <style>\n",
              "    .colab-df-container {\n",
              "      display:flex;\n",
              "      flex-wrap:wrap;\n",
              "      gap: 12px;\n",
              "    }\n",
              "\n",
              "    .colab-df-convert {\n",
              "      background-color: #E8F0FE;\n",
              "      border: none;\n",
              "      border-radius: 50%;\n",
              "      cursor: pointer;\n",
              "      display: none;\n",
              "      fill: #1967D2;\n",
              "      height: 32px;\n",
              "      padding: 0 0 0 0;\n",
              "      width: 32px;\n",
              "    }\n",
              "\n",
              "    .colab-df-convert:hover {\n",
              "      background-color: #E2EBFA;\n",
              "      box-shadow: 0px 1px 2px rgba(60, 64, 67, 0.3), 0px 1px 3px 1px rgba(60, 64, 67, 0.15);\n",
              "      fill: #174EA6;\n",
              "    }\n",
              "\n",
              "    [theme=dark] .colab-df-convert {\n",
              "      background-color: #3B4455;\n",
              "      fill: #D2E3FC;\n",
              "    }\n",
              "\n",
              "    [theme=dark] .colab-df-convert:hover {\n",
              "      background-color: #434B5C;\n",
              "      box-shadow: 0px 1px 3px 1px rgba(0, 0, 0, 0.15);\n",
              "      filter: drop-shadow(0px 1px 2px rgba(0, 0, 0, 0.3));\n",
              "      fill: #FFFFFF;\n",
              "    }\n",
              "  </style>\n",
              "\n",
              "      <script>\n",
              "        const buttonEl =\n",
              "          document.querySelector('#df-5ca40e2e-47e2-4886-8af5-dd0ea2c9aeb6 button.colab-df-convert');\n",
              "        buttonEl.style.display =\n",
              "          google.colab.kernel.accessAllowed ? 'block' : 'none';\n",
              "\n",
              "        async function convertToInteractive(key) {\n",
              "          const element = document.querySelector('#df-5ca40e2e-47e2-4886-8af5-dd0ea2c9aeb6');\n",
              "          const dataTable =\n",
              "            await google.colab.kernel.invokeFunction('convertToInteractive',\n",
              "                                                     [key], {});\n",
              "          if (!dataTable) return;\n",
              "\n",
              "          const docLinkHtml = 'Like what you see? Visit the ' +\n",
              "            '<a target=\"_blank\" href=https://colab.research.google.com/notebooks/data_table.ipynb>data table notebook</a>'\n",
              "            + ' to learn more about interactive tables.';\n",
              "          element.innerHTML = '';\n",
              "          dataTable['output_type'] = 'display_data';\n",
              "          await google.colab.output.renderOutput(dataTable, element);\n",
              "          const docLink = document.createElement('div');\n",
              "          docLink.innerHTML = docLinkHtml;\n",
              "          element.appendChild(docLink);\n",
              "        }\n",
              "      </script>\n",
              "    </div>\n",
              "  </div>\n",
              "  "
            ],
            "text/plain": [
              "                                               Model  ...  process_time\n",
              "0              DNN with 2 layers (no regularization)  ...     37.715019\n",
              "1              DNN with 3 layers (no regularization)  ...     44.277055\n",
              "2  CNN with 2 convolution/max pooling layers (no ...  ...    149.813825\n",
              "3  CNN with 3 convolution/max pooling layers (no ...  ...    208.209461\n",
              "\n",
              "[4 rows x 8 columns]"
            ]
          },
          "metadata": {},
          "execution_count": 31
        },
        {
          "output_type": "display_data",
          "data": {
            "image/png": "[encoded data removed]",
            "text/plain": [
              "<Figure size 576x576 with 1 Axes>"
            ]
          },
          "metadata": {
            "needs_background": "light"
          }
        }
      ]
    },
    {
      "cell_type": "markdown",
      "source": [
        "## Experiment 5+ : You will conduct several more experiments. \n",
        "\n",
        "(a) Redo all the 4 experiments with some regularization technique. \n"
      ],
      "metadata": {
        "id": "XQn3i9Cjsqx8"
      }
    },
    {
      "cell_type": "code",
      "source": [
        "model1_reg = models.Sequential()\n",
        "model1_reg.add(layers.InputLayer(input_shape=(32, 32, 3)))\n",
        "model1_reg.add(layers.Flatten(name ='flatten'))\n",
        "model1_reg.add(layers.Dense(name = \"hidden_layer\",units=384, activation=tf.nn.relu,kernel_regularizer=tf.keras.regularizers.L2(0.001)))\n",
        "model1_reg.add(layers.Dense(name = \"output_layer\",units=10, activation=tf.nn.softmax))\n",
        "\n",
        "result1_reg = compile_train_model(model1_reg)\n",
        "\n",
        "new_col = ['DNN with 2 layers (with regularization)']   \n",
        "result1_reg.insert(loc=0, column='Model', value=new_col)\n",
        "assignment_result_table = assignment_result_table.append(result1_reg, ignore_index = True)\n",
        "assignment_result_table"
      ],
      "metadata": {
        "id": "4Y-uUcXGsrON",
        "outputId": "4bf7a5c1-28c4-48dd-e0cc-cd484bfff7db",
        "colab": {
          "base_uri": "https://localhost:8080/",
          "height": 1000
        }
      },
      "execution_count": 32,
      "outputs": [
        {
          "output_type": "stream",
          "name": "stdout",
          "text": [
            "Epoch 1/20\n",
            "450/450 [==============================] - 2s 4ms/step - loss: 2.2553 - accuracy: 0.3149 - val_loss: 1.9866 - val_accuracy: 0.3496\n",
            "Epoch 2/20\n",
            "450/450 [==============================] - 2s 5ms/step - loss: 1.8652 - accuracy: 0.3826 - val_loss: 1.8199 - val_accuracy: 0.3856\n",
            "Epoch 3/20\n",
            "450/450 [==============================] - 2s 4ms/step - loss: 1.7635 - accuracy: 0.4085 - val_loss: 1.7512 - val_accuracy: 0.4056\n",
            "Epoch 4/20\n",
            "450/450 [==============================] - 2s 4ms/step - loss: 1.7234 - accuracy: 0.4197 - val_loss: 1.7333 - val_accuracy: 0.4130\n",
            "Epoch 5/20\n",
            "450/450 [==============================] - 2s 4ms/step - loss: 1.6943 - accuracy: 0.4269 - val_loss: 1.6780 - val_accuracy: 0.4316\n",
            "Epoch 6/20\n",
            "450/450 [==============================] - 2s 3ms/step - loss: 1.6697 - accuracy: 0.4356 - val_loss: 1.6919 - val_accuracy: 0.4134\n",
            "Epoch 7/20\n",
            "450/450 [==============================] - 2s 4ms/step - loss: 1.6421 - accuracy: 0.4480 - val_loss: 1.8024 - val_accuracy: 0.3884\n",
            "Epoch 8/20\n",
            "450/450 [==============================] - 2s 4ms/step - loss: 1.6454 - accuracy: 0.4454 - val_loss: 1.6725 - val_accuracy: 0.4324\n",
            "Epoch 9/20\n",
            "450/450 [==============================] - 2s 5ms/step - loss: 1.6293 - accuracy: 0.4491 - val_loss: 1.6481 - val_accuracy: 0.4448\n",
            "Epoch 10/20\n",
            "450/450 [==============================] - 2s 4ms/step - loss: 1.6250 - accuracy: 0.4528 - val_loss: 1.7184 - val_accuracy: 0.4192\n",
            "Epoch 11/20\n",
            "450/450 [==============================] - 2s 4ms/step - loss: 1.6269 - accuracy: 0.4520 - val_loss: 1.6479 - val_accuracy: 0.4336\n",
            "Epoch 12/20\n",
            "450/450 [==============================] - 2s 4ms/step - loss: 1.6071 - accuracy: 0.4594 - val_loss: 1.6440 - val_accuracy: 0.4360\n",
            "Epoch 13/20\n",
            "450/450 [==============================] - 2s 4ms/step - loss: 1.6127 - accuracy: 0.4588 - val_loss: 1.6822 - val_accuracy: 0.4182\n",
            "Epoch 14/20\n",
            "450/450 [==============================] - 2s 4ms/step - loss: 1.6071 - accuracy: 0.4596 - val_loss: 1.6259 - val_accuracy: 0.4480\n",
            "Epoch 15/20\n",
            "450/450 [==============================] - 2s 4ms/step - loss: 1.5958 - accuracy: 0.4644 - val_loss: 1.6651 - val_accuracy: 0.4304\n",
            "Epoch 16/20\n",
            "450/450 [==============================] - 2s 3ms/step - loss: 1.5997 - accuracy: 0.4625 - val_loss: 1.6384 - val_accuracy: 0.4414\n",
            "Epoch 17/20\n",
            "450/450 [==============================] - 2s 4ms/step - loss: 1.5916 - accuracy: 0.4671 - val_loss: 1.6577 - val_accuracy: 0.4404\n",
            "Epoch 18/20\n",
            "450/450 [==============================] - 2s 4ms/step - loss: 1.5838 - accuracy: 0.4694 - val_loss: 1.6878 - val_accuracy: 0.4420\n",
            "Epoch 19/20\n",
            "450/450 [==============================] - 2s 4ms/step - loss: 1.5860 - accuracy: 0.4681 - val_loss: 1.6245 - val_accuracy: 0.4510\n",
            "Epoch 20/20\n",
            "450/450 [==============================] - 2s 4ms/step - loss: 1.5714 - accuracy: 0.4723 - val_loss: 1.6300 - val_accuracy: 0.4416\n",
            "313/313 [==============================] - 1s 3ms/step - loss: 1.6025 - accuracy: 0.4593\n",
            "test set accuracy:  45.93000113964081\n"
          ]
        },
        {
          "output_type": "stream",
          "name": "stderr",
          "text": [
            "/usr/local/lib/python3.7/dist-packages/ipykernel_launcher.py:37: SettingWithCopyWarning: \n",
            "A value is trying to be set on a copy of a slice from a DataFrame.\n",
            "Try using .loc[row_indexer,col_indexer] = value instead\n",
            "\n",
            "See the caveats in the documentation: https://pandas.pydata.org/pandas-docs/stable/user_guide/indexing.html#returning-a-view-versus-a-copy\n",
            "/usr/local/lib/python3.7/dist-packages/ipykernel_launcher.py:38: SettingWithCopyWarning: \n",
            "A value is trying to be set on a copy of a slice from a DataFrame.\n",
            "Try using .loc[row_indexer,col_indexer] = value instead\n",
            "\n",
            "See the caveats in the documentation: https://pandas.pydata.org/pandas-docs/stable/user_guide/indexing.html#returning-a-view-versus-a-copy\n",
            "/usr/local/lib/python3.7/dist-packages/ipykernel_launcher.py:39: SettingWithCopyWarning: \n",
            "A value is trying to be set on a copy of a slice from a DataFrame.\n",
            "Try using .loc[row_indexer,col_indexer] = value instead\n",
            "\n",
            "See the caveats in the documentation: https://pandas.pydata.org/pandas-docs/stable/user_guide/indexing.html#returning-a-view-versus-a-copy\n"
          ]
        },
        {
          "output_type": "display_data",
          "data": {
            "image/png": "[encoded data removed]",
            "text/plain": [
              "<Figure size 1152x288 with 2 Axes>"
            ]
          },
          "metadata": {
            "needs_background": "light"
          }
        },
        {
          "output_type": "execute_result",
          "data": {
            "text/html": [
              "\n",
              "  <div id=\"df-166a71e2-fdb6-4508-9b24-8c079119a486\">\n",
              "    <div class=\"colab-df-container\">\n",
              "      <div>\n",
              "<style scoped>\n",
              "    .dataframe tbody tr th:only-of-type {\n",
              "        vertical-align: middle;\n",
              "    }\n",
              "\n",
              "    .dataframe tbody tr th {\n",
              "        vertical-align: top;\n",
              "    }\n",
              "\n",
              "    .dataframe thead th {\n",
              "        text-align: right;\n",
              "    }\n",
              "</style>\n",
              "<table border=\"1\" class=\"dataframe\">\n",
              "  <thead>\n",
              "    <tr style=\"text-align: right;\">\n",
              "      <th></th>\n",
              "      <th>Model</th>\n",
              "      <th>loss</th>\n",
              "      <th>accuracy</th>\n",
              "      <th>val_loss</th>\n",
              "      <th>val_accuracy</th>\n",
              "      <th>test_loss</th>\n",
              "      <th>test_accuracy</th>\n",
              "      <th>process_time</th>\n",
              "    </tr>\n",
              "  </thead>\n",
              "  <tbody>\n",
              "    <tr>\n",
              "      <th>0</th>\n",
              "      <td>DNN with 2 layers (no regularization)</td>\n",
              "      <td>1.349523</td>\n",
              "      <td>0.519867</td>\n",
              "      <td>1.466743</td>\n",
              "      <td>0.4830</td>\n",
              "      <td>1.461208</td>\n",
              "      <td>0.4870</td>\n",
              "      <td>37.715019</td>\n",
              "    </tr>\n",
              "    <tr>\n",
              "      <th>1</th>\n",
              "      <td>DNN with 3 layers (no regularization)</td>\n",
              "      <td>1.149056</td>\n",
              "      <td>0.589911</td>\n",
              "      <td>1.445502</td>\n",
              "      <td>0.5046</td>\n",
              "      <td>1.396864</td>\n",
              "      <td>0.5175</td>\n",
              "      <td>44.277055</td>\n",
              "    </tr>\n",
              "    <tr>\n",
              "      <th>2</th>\n",
              "      <td>CNN with 2 convolution/max pooling layers (no ...</td>\n",
              "      <td>0.156272</td>\n",
              "      <td>0.948267</td>\n",
              "      <td>1.544913</td>\n",
              "      <td>0.7226</td>\n",
              "      <td>1.646841</td>\n",
              "      <td>0.7123</td>\n",
              "      <td>149.813825</td>\n",
              "    </tr>\n",
              "    <tr>\n",
              "      <th>3</th>\n",
              "      <td>CNN with 3 convolution/max pooling layers (no ...</td>\n",
              "      <td>0.399279</td>\n",
              "      <td>0.857822</td>\n",
              "      <td>0.627919</td>\n",
              "      <td>0.7942</td>\n",
              "      <td>0.647574</td>\n",
              "      <td>0.7948</td>\n",
              "      <td>208.209461</td>\n",
              "    </tr>\n",
              "    <tr>\n",
              "      <th>4</th>\n",
              "      <td>DNN with 2 layers (with regularization)</td>\n",
              "      <td>1.571404</td>\n",
              "      <td>0.472289</td>\n",
              "      <td>1.629954</td>\n",
              "      <td>0.4416</td>\n",
              "      <td>1.602469</td>\n",
              "      <td>0.4593</td>\n",
              "      <td>38.177297</td>\n",
              "    </tr>\n",
              "  </tbody>\n",
              "</table>\n",
              "</div>\n",
              "      <button class=\"colab-df-convert\" onclick=\"convertToInteractive('df-166a71e2-fdb6-4508-9b24-8c079119a486')\"\n",
              "              title=\"Convert this dataframe to an interactive table.\"\n",
              "              style=\"display:none;\">\n",
              "        \n",
              "  <svg xmlns=\"http://www.w3.org/2000/svg\" height=\"24px\"viewBox=\"0 0 24 24\"\n",
              "       width=\"24px\">\n",
              "    <path d=\"M0 0h24v24H0V0z\" fill=\"none\"/>\n",
              "    <path d=\"M18.56 5.44l.94 2.06.94-2.06 2.06-.94-2.06-.94-.94-2.06-.94 2.06-2.06.94zm-11 1L8.5 8.5l.94-2.06 2.06-.94-2.06-.94L8.5 2.5l-.94 2.06-2.06.94zm10 10l.94 2.06.94-2.06 2.06-.94-2.06-.94-.94-2.06-.94 2.06-2.06.94z\"/><path d=\"M17.41 7.96l-1.37-1.37c-.4-.4-.92-.59-1.43-.59-.52 0-1.04.2-1.43.59L10.3 9.45l-7.72 7.72c-.78.78-.78 2.05 0 2.83L4 21.41c.39.39.9.59 1.41.59.51 0 1.02-.2 1.41-.59l7.78-7.78 2.81-2.81c.8-.78.8-2.07 0-2.86zM5.41 20L4 18.59l7.72-7.72 1.47 1.35L5.41 20z\"/>\n",
              "  </svg>\n",
              "      </button>\n",
              "      \n",
              "  <style>\n",
              "    .colab-df-container {\n",
              "      display:flex;\n",
              "      flex-wrap:wrap;\n",
              "      gap: 12px;\n",
              "    }\n",
              "\n",
              "    .colab-df-convert {\n",
              "      background-color: #E8F0FE;\n",
              "      border: none;\n",
              "      border-radius: 50%;\n",
              "      cursor: pointer;\n",
              "      display: none;\n",
              "      fill: #1967D2;\n",
              "      height: 32px;\n",
              "      padding: 0 0 0 0;\n",
              "      width: 32px;\n",
              "    }\n",
              "\n",
              "    .colab-df-convert:hover {\n",
              "      background-color: #E2EBFA;\n",
              "      box-shadow: 0px 1px 2px rgba(60, 64, 67, 0.3), 0px 1px 3px 1px rgba(60, 64, 67, 0.15);\n",
              "      fill: #174EA6;\n",
              "    }\n",
              "\n",
              "    [theme=dark] .colab-df-convert {\n",
              "      background-color: #3B4455;\n",
              "      fill: #D2E3FC;\n",
              "    }\n",
              "\n",
              "    [theme=dark] .colab-df-convert:hover {\n",
              "      background-color: #434B5C;\n",
              "      box-shadow: 0px 1px 3px 1px rgba(0, 0, 0, 0.15);\n",
              "      filter: drop-shadow(0px 1px 2px rgba(0, 0, 0, 0.3));\n",
              "      fill: #FFFFFF;\n",
              "    }\n",
              "  </style>\n",
              "\n",
              "      <script>\n",
              "        const buttonEl =\n",
              "          document.querySelector('#df-166a71e2-fdb6-4508-9b24-8c079119a486 button.colab-df-convert');\n",
              "        buttonEl.style.display =\n",
              "          google.colab.kernel.accessAllowed ? 'block' : 'none';\n",
              "\n",
              "        async function convertToInteractive(key) {\n",
              "          const element = document.querySelector('#df-166a71e2-fdb6-4508-9b24-8c079119a486');\n",
              "          const dataTable =\n",
              "            await google.colab.kernel.invokeFunction('convertToInteractive',\n",
              "                                                     [key], {});\n",
              "          if (!dataTable) return;\n",
              "\n",
              "          const docLinkHtml = 'Like what you see? Visit the ' +\n",
              "            '<a target=\"_blank\" href=https://colab.research.google.com/notebooks/data_table.ipynb>data table notebook</a>'\n",
              "            + ' to learn more about interactive tables.';\n",
              "          element.innerHTML = '';\n",
              "          dataTable['output_type'] = 'display_data';\n",
              "          await google.colab.output.renderOutput(dataTable, element);\n",
              "          const docLink = document.createElement('div');\n",
              "          docLink.innerHTML = docLinkHtml;\n",
              "          element.appendChild(docLink);\n",
              "        }\n",
              "      </script>\n",
              "    </div>\n",
              "  </div>\n",
              "  "
            ],
            "text/plain": [
              "                                               Model  ...  process_time\n",
              "0              DNN with 2 layers (no regularization)  ...     37.715019\n",
              "1              DNN with 3 layers (no regularization)  ...     44.277055\n",
              "2  CNN with 2 convolution/max pooling layers (no ...  ...    149.813825\n",
              "3  CNN with 3 convolution/max pooling layers (no ...  ...    208.209461\n",
              "4            DNN with 2 layers (with regularization)  ...     38.177297\n",
              "\n",
              "[5 rows x 8 columns]"
            ]
          },
          "metadata": {},
          "execution_count": 32
        }
      ]
    },
    {
      "cell_type": "code",
      "source": [
        "model2_reg = models.Sequential()\n",
        "model2_reg.add(layers.InputLayer(input_shape=(32, 32, 3)))\n",
        "model2_reg.add(layers.Flatten(name ='flatten'))\n",
        "model2_reg.add(layers.Dense(name = \"hidden_layer\",units=384, activation=tf.nn.relu,kernel_regularizer=tf.keras.regularizers.L2(0.001)))\n",
        "model2_reg.add(layers.Dense(name = \"hidden_layer2\",units=384, activation=tf.nn.relu,kernel_regularizer=tf.keras.regularizers.L2(0.001)))\n",
        "model2_reg.add(layers.Dense(name = \"output_layer\",units=10, activation=tf.nn.softmax))\n",
        "\n",
        "result2_reg = compile_train_model(model2_reg)\n",
        "\n",
        "new_col = ['DNN with 3 layers (with regularization)']   \n",
        "result2_reg.insert(loc=0, column='Model', value=new_col)\n",
        "assignment_result_table = assignment_result_table.append(result2_reg, ignore_index = True)\n",
        "assignment_result_table"
      ],
      "metadata": {
        "id": "xKKRRkRnwbOW",
        "outputId": "503f6a0a-a899-42b5-ee13-cb73fca4de73",
        "colab": {
          "base_uri": "https://localhost:8080/",
          "height": 1000
        }
      },
      "execution_count": 33,
      "outputs": [
        {
          "output_type": "stream",
          "name": "stdout",
          "text": [
            "Epoch 1/20\n",
            "450/450 [==============================] - 3s 5ms/step - loss: 2.2840 - accuracy: 0.3228 - val_loss: 1.9457 - val_accuracy: 0.3722\n",
            "Epoch 2/20\n",
            "450/450 [==============================] - 2s 4ms/step - loss: 1.8429 - accuracy: 0.3926 - val_loss: 1.8837 - val_accuracy: 0.3544\n",
            "Epoch 3/20\n",
            "450/450 [==============================] - 2s 4ms/step - loss: 1.7486 - accuracy: 0.4168 - val_loss: 1.7142 - val_accuracy: 0.4166\n",
            "Epoch 4/20\n",
            "450/450 [==============================] - 2s 4ms/step - loss: 1.6847 - accuracy: 0.4386 - val_loss: 1.7216 - val_accuracy: 0.4190\n",
            "Epoch 5/20\n",
            "450/450 [==============================] - 2s 4ms/step - loss: 1.6341 - accuracy: 0.4538 - val_loss: 1.7029 - val_accuracy: 0.4244\n",
            "Epoch 6/20\n",
            "450/450 [==============================] - 2s 4ms/step - loss: 1.6118 - accuracy: 0.4604 - val_loss: 1.6960 - val_accuracy: 0.4314\n",
            "Epoch 7/20\n",
            "450/450 [==============================] - 2s 4ms/step - loss: 1.6039 - accuracy: 0.4635 - val_loss: 1.6492 - val_accuracy: 0.4384\n",
            "Epoch 8/20\n",
            "450/450 [==============================] - 2s 4ms/step - loss: 1.5782 - accuracy: 0.4739 - val_loss: 1.6160 - val_accuracy: 0.4516\n",
            "Epoch 9/20\n",
            "450/450 [==============================] - 2s 4ms/step - loss: 1.5690 - accuracy: 0.4757 - val_loss: 1.6514 - val_accuracy: 0.4308\n",
            "Epoch 10/20\n",
            "450/450 [==============================] - 2s 4ms/step - loss: 1.5541 - accuracy: 0.4804 - val_loss: 1.6201 - val_accuracy: 0.4482\n",
            "Epoch 11/20\n",
            "450/450 [==============================] - 2s 4ms/step - loss: 1.5476 - accuracy: 0.4843 - val_loss: 1.6214 - val_accuracy: 0.4468\n",
            "Epoch 12/20\n",
            "450/450 [==============================] - 2s 4ms/step - loss: 1.5462 - accuracy: 0.4876 - val_loss: 1.6073 - val_accuracy: 0.4578\n",
            "Epoch 13/20\n",
            "450/450 [==============================] - 2s 4ms/step - loss: 1.5355 - accuracy: 0.4902 - val_loss: 1.5895 - val_accuracy: 0.4566\n",
            "Epoch 14/20\n",
            "450/450 [==============================] - 2s 4ms/step - loss: 1.5199 - accuracy: 0.4950 - val_loss: 1.6012 - val_accuracy: 0.4656\n",
            "Epoch 15/20\n",
            "450/450 [==============================] - 2s 5ms/step - loss: 1.5121 - accuracy: 0.4987 - val_loss: 1.5757 - val_accuracy: 0.4686\n",
            "Epoch 16/20\n",
            "450/450 [==============================] - 2s 4ms/step - loss: 1.5131 - accuracy: 0.4980 - val_loss: 1.6076 - val_accuracy: 0.4644\n",
            "Epoch 17/20\n",
            "450/450 [==============================] - 2s 4ms/step - loss: 1.5022 - accuracy: 0.5036 - val_loss: 1.5514 - val_accuracy: 0.4840\n",
            "Epoch 18/20\n",
            "450/450 [==============================] - 2s 4ms/step - loss: 1.5023 - accuracy: 0.5050 - val_loss: 1.5913 - val_accuracy: 0.4708\n",
            "Epoch 19/20\n",
            "450/450 [==============================] - 2s 4ms/step - loss: 1.4981 - accuracy: 0.5044 - val_loss: 1.6268 - val_accuracy: 0.4632\n",
            "Epoch 20/20\n",
            "450/450 [==============================] - 2s 4ms/step - loss: 1.4944 - accuracy: 0.5067 - val_loss: 1.5586 - val_accuracy: 0.4848\n",
            "313/313 [==============================] - 1s 3ms/step - loss: 1.5227 - accuracy: 0.5011\n",
            "test set accuracy:  50.11000037193298\n"
          ]
        },
        {
          "output_type": "stream",
          "name": "stderr",
          "text": [
            "/usr/local/lib/python3.7/dist-packages/ipykernel_launcher.py:37: SettingWithCopyWarning: \n",
            "A value is trying to be set on a copy of a slice from a DataFrame.\n",
            "Try using .loc[row_indexer,col_indexer] = value instead\n",
            "\n",
            "See the caveats in the documentation: https://pandas.pydata.org/pandas-docs/stable/user_guide/indexing.html#returning-a-view-versus-a-copy\n",
            "/usr/local/lib/python3.7/dist-packages/ipykernel_launcher.py:38: SettingWithCopyWarning: \n",
            "A value is trying to be set on a copy of a slice from a DataFrame.\n",
            "Try using .loc[row_indexer,col_indexer] = value instead\n",
            "\n",
            "See the caveats in the documentation: https://pandas.pydata.org/pandas-docs/stable/user_guide/indexing.html#returning-a-view-versus-a-copy\n",
            "/usr/local/lib/python3.7/dist-packages/ipykernel_launcher.py:39: SettingWithCopyWarning: \n",
            "A value is trying to be set on a copy of a slice from a DataFrame.\n",
            "Try using .loc[row_indexer,col_indexer] = value instead\n",
            "\n",
            "See the caveats in the documentation: https://pandas.pydata.org/pandas-docs/stable/user_guide/indexing.html#returning-a-view-versus-a-copy\n"
          ]
        },
        {
          "output_type": "display_data",
          "data": {
            "image/png": "[encoded data removed]",
            "text/plain": [
              "<Figure size 1152x288 with 2 Axes>"
            ]
          },
          "metadata": {
            "needs_background": "light"
          }
        },
        {
          "output_type": "execute_result",
          "data": {
            "text/html": [
              "\n",
              "  <div id=\"df-4120127c-28ab-45e0-880f-d4f712a3b865\">\n",
              "    <div class=\"colab-df-container\">\n",
              "      <div>\n",
              "<style scoped>\n",
              "    .dataframe tbody tr th:only-of-type {\n",
              "        vertical-align: middle;\n",
              "    }\n",
              "\n",
              "    .dataframe tbody tr th {\n",
              "        vertical-align: top;\n",
              "    }\n",
              "\n",
              "    .dataframe thead th {\n",
              "        text-align: right;\n",
              "    }\n",
              "</style>\n",
              "<table border=\"1\" class=\"dataframe\">\n",
              "  <thead>\n",
              "    <tr style=\"text-align: right;\">\n",
              "      <th></th>\n",
              "      <th>Model</th>\n",
              "      <th>loss</th>\n",
              "      <th>accuracy</th>\n",
              "      <th>val_loss</th>\n",
              "      <th>val_accuracy</th>\n",
              "      <th>test_loss</th>\n",
              "      <th>test_accuracy</th>\n",
              "      <th>process_time</th>\n",
              "    </tr>\n",
              "  </thead>\n",
              "  <tbody>\n",
              "    <tr>\n",
              "      <th>0</th>\n",
              "      <td>DNN with 2 layers (no regularization)</td>\n",
              "      <td>1.349523</td>\n",
              "      <td>0.519867</td>\n",
              "      <td>1.466743</td>\n",
              "      <td>0.4830</td>\n",
              "      <td>1.461208</td>\n",
              "      <td>0.4870</td>\n",
              "      <td>37.715019</td>\n",
              "    </tr>\n",
              "    <tr>\n",
              "      <th>1</th>\n",
              "      <td>DNN with 3 layers (no regularization)</td>\n",
              "      <td>1.149056</td>\n",
              "      <td>0.589911</td>\n",
              "      <td>1.445502</td>\n",
              "      <td>0.5046</td>\n",
              "      <td>1.396864</td>\n",
              "      <td>0.5175</td>\n",
              "      <td>44.277055</td>\n",
              "    </tr>\n",
              "    <tr>\n",
              "      <th>2</th>\n",
              "      <td>CNN with 2 convolution/max pooling layers (no ...</td>\n",
              "      <td>0.156272</td>\n",
              "      <td>0.948267</td>\n",
              "      <td>1.544913</td>\n",
              "      <td>0.7226</td>\n",
              "      <td>1.646841</td>\n",
              "      <td>0.7123</td>\n",
              "      <td>149.813825</td>\n",
              "    </tr>\n",
              "    <tr>\n",
              "      <th>3</th>\n",
              "      <td>CNN with 3 convolution/max pooling layers (no ...</td>\n",
              "      <td>0.399279</td>\n",
              "      <td>0.857822</td>\n",
              "      <td>0.627919</td>\n",
              "      <td>0.7942</td>\n",
              "      <td>0.647574</td>\n",
              "      <td>0.7948</td>\n",
              "      <td>208.209461</td>\n",
              "    </tr>\n",
              "    <tr>\n",
              "      <th>4</th>\n",
              "      <td>DNN with 2 layers (with regularization)</td>\n",
              "      <td>1.571404</td>\n",
              "      <td>0.472289</td>\n",
              "      <td>1.629954</td>\n",
              "      <td>0.4416</td>\n",
              "      <td>1.602469</td>\n",
              "      <td>0.4593</td>\n",
              "      <td>38.177297</td>\n",
              "    </tr>\n",
              "    <tr>\n",
              "      <th>5</th>\n",
              "      <td>DNN with 3 layers (with regularization)</td>\n",
              "      <td>1.494352</td>\n",
              "      <td>0.506733</td>\n",
              "      <td>1.558566</td>\n",
              "      <td>0.4848</td>\n",
              "      <td>1.522716</td>\n",
              "      <td>0.5011</td>\n",
              "      <td>44.222440</td>\n",
              "    </tr>\n",
              "  </tbody>\n",
              "</table>\n",
              "</div>\n",
              "      <button class=\"colab-df-convert\" onclick=\"convertToInteractive('df-4120127c-28ab-45e0-880f-d4f712a3b865')\"\n",
              "              title=\"Convert this dataframe to an interactive table.\"\n",
              "              style=\"display:none;\">\n",
              "        \n",
              "  <svg xmlns=\"http://www.w3.org/2000/svg\" height=\"24px\"viewBox=\"0 0 24 24\"\n",
              "       width=\"24px\">\n",
              "    <path d=\"M0 0h24v24H0V0z\" fill=\"none\"/>\n",
              "    <path d=\"M18.56 5.44l.94 2.06.94-2.06 2.06-.94-2.06-.94-.94-2.06-.94 2.06-2.06.94zm-11 1L8.5 8.5l.94-2.06 2.06-.94-2.06-.94L8.5 2.5l-.94 2.06-2.06.94zm10 10l.94 2.06.94-2.06 2.06-.94-2.06-.94-.94-2.06-.94 2.06-2.06.94z\"/><path d=\"M17.41 7.96l-1.37-1.37c-.4-.4-.92-.59-1.43-.59-.52 0-1.04.2-1.43.59L10.3 9.45l-7.72 7.72c-.78.78-.78 2.05 0 2.83L4 21.41c.39.39.9.59 1.41.59.51 0 1.02-.2 1.41-.59l7.78-7.78 2.81-2.81c.8-.78.8-2.07 0-2.86zM5.41 20L4 18.59l7.72-7.72 1.47 1.35L5.41 20z\"/>\n",
              "  </svg>\n",
              "      </button>\n",
              "      \n",
              "  <style>\n",
              "    .colab-df-container {\n",
              "      display:flex;\n",
              "      flex-wrap:wrap;\n",
              "      gap: 12px;\n",
              "    }\n",
              "\n",
              "    .colab-df-convert {\n",
              "      background-color: #E8F0FE;\n",
              "      border: none;\n",
              "      border-radius: 50%;\n",
              "      cursor: pointer;\n",
              "      display: none;\n",
              "      fill: #1967D2;\n",
              "      height: 32px;\n",
              "      padding: 0 0 0 0;\n",
              "      width: 32px;\n",
              "    }\n",
              "\n",
              "    .colab-df-convert:hover {\n",
              "      background-color: #E2EBFA;\n",
              "      box-shadow: 0px 1px 2px rgba(60, 64, 67, 0.3), 0px 1px 3px 1px rgba(60, 64, 67, 0.15);\n",
              "      fill: #174EA6;\n",
              "    }\n",
              "\n",
              "    [theme=dark] .colab-df-convert {\n",
              "      background-color: #3B4455;\n",
              "      fill: #D2E3FC;\n",
              "    }\n",
              "\n",
              "    [theme=dark] .colab-df-convert:hover {\n",
              "      background-color: #434B5C;\n",
              "      box-shadow: 0px 1px 3px 1px rgba(0, 0, 0, 0.15);\n",
              "      filter: drop-shadow(0px 1px 2px rgba(0, 0, 0, 0.3));\n",
              "      fill: #FFFFFF;\n",
              "    }\n",
              "  </style>\n",
              "\n",
              "      <script>\n",
              "        const buttonEl =\n",
              "          document.querySelector('#df-4120127c-28ab-45e0-880f-d4f712a3b865 button.colab-df-convert');\n",
              "        buttonEl.style.display =\n",
              "          google.colab.kernel.accessAllowed ? 'block' : 'none';\n",
              "\n",
              "        async function convertToInteractive(key) {\n",
              "          const element = document.querySelector('#df-4120127c-28ab-45e0-880f-d4f712a3b865');\n",
              "          const dataTable =\n",
              "            await google.colab.kernel.invokeFunction('convertToInteractive',\n",
              "                                                     [key], {});\n",
              "          if (!dataTable) return;\n",
              "\n",
              "          const docLinkHtml = 'Like what you see? Visit the ' +\n",
              "            '<a target=\"_blank\" href=https://colab.research.google.com/notebooks/data_table.ipynb>data table notebook</a>'\n",
              "            + ' to learn more about interactive tables.';\n",
              "          element.innerHTML = '';\n",
              "          dataTable['output_type'] = 'display_data';\n",
              "          await google.colab.output.renderOutput(dataTable, element);\n",
              "          const docLink = document.createElement('div');\n",
              "          docLink.innerHTML = docLinkHtml;\n",
              "          element.appendChild(docLink);\n",
              "        }\n",
              "      </script>\n",
              "    </div>\n",
              "  </div>\n",
              "  "
            ],
            "text/plain": [
              "                                               Model  ...  process_time\n",
              "0              DNN with 2 layers (no regularization)  ...     37.715019\n",
              "1              DNN with 3 layers (no regularization)  ...     44.277055\n",
              "2  CNN with 2 convolution/max pooling layers (no ...  ...    149.813825\n",
              "3  CNN with 3 convolution/max pooling layers (no ...  ...    208.209461\n",
              "4            DNN with 2 layers (with regularization)  ...     38.177297\n",
              "5            DNN with 3 layers (with regularization)  ...     44.222440\n",
              "\n",
              "[6 rows x 8 columns]"
            ]
          },
          "metadata": {},
          "execution_count": 33
        }
      ]
    },
    {
      "cell_type": "code",
      "source": [
        "model3_reg = models.Sequential()\n",
        "model3_reg.add(layers.Conv2D(filters=128, kernel_size=(3, 3), strides=(1, 1), activation=tf.nn.relu,input_shape=(32, 32, 3)))\n",
        "model3_reg.add(layers.MaxPool2D((2, 2),strides=2))\n",
        "model3_reg.add(layers.Dropout(0.3))\n",
        "model3_reg.add(layers.Conv2D(filters=256, kernel_size=(3, 3), strides=(1, 1), activation=tf.nn.relu))\n",
        "model3_reg.add(layers.MaxPool2D(pool_size=(2, 2),strides=2))\n",
        "model3_reg.add(layers.Dropout(0.3))\n",
        "model3_reg.add(layers.Flatten())\n",
        "model3_reg.add(layers.BatchNormalization())\n",
        "model3_reg.add(layers.Dense(units=384, activation=tf.nn.relu,kernel_regularizer=tf.keras.regularizers.L2(0.001)))\n",
        "model3_reg.add(layers.Dense(units=10, activation=tf.nn.softmax))\n",
        "\n",
        "result3_reg = compile_train_model(model3_reg)\n",
        "\n",
        "new_col = ['CNN with 2 convolution/max pooling layers (with regularization)']   \n",
        "result3_reg.insert(loc=0, column='Model', value=new_col)\n",
        "assignment_result_table = assignment_result_table.append(result3_reg, ignore_index = True)\n",
        "assignment_result_table"
      ],
      "metadata": {
        "id": "nJ84M8oewncZ",
        "outputId": "a921a87b-c0ac-46ec-975a-5a05f717a376",
        "colab": {
          "base_uri": "https://localhost:8080/",
          "height": 1000
        }
      },
      "execution_count": 34,
      "outputs": [
        {
          "output_type": "stream",
          "name": "stdout",
          "text": [
            "Epoch 1/20\n",
            "450/450 [==============================] - 8s 17ms/step - loss: 2.0026 - accuracy: 0.4909 - val_loss: 1.9387 - val_accuracy: 0.4898\n",
            "Epoch 2/20\n",
            "450/450 [==============================] - 7s 16ms/step - loss: 1.3682 - accuracy: 0.6342 - val_loss: 1.3876 - val_accuracy: 0.6302\n",
            "Epoch 3/20\n",
            "450/450 [==============================] - 8s 18ms/step - loss: 1.2193 - accuracy: 0.6874 - val_loss: 1.3092 - val_accuracy: 0.6540\n",
            "Epoch 4/20\n",
            "450/450 [==============================] - 7s 15ms/step - loss: 1.1731 - accuracy: 0.7154 - val_loss: 1.4778 - val_accuracy: 0.6246\n",
            "Epoch 5/20\n",
            "450/450 [==============================] - 7s 16ms/step - loss: 1.1572 - accuracy: 0.7321 - val_loss: 1.3491 - val_accuracy: 0.6806\n",
            "Epoch 6/20\n",
            "450/450 [==============================] - 7s 16ms/step - loss: 1.1352 - accuracy: 0.7475 - val_loss: 1.2618 - val_accuracy: 0.7072\n",
            "Epoch 7/20\n",
            "450/450 [==============================] - 7s 16ms/step - loss: 1.1157 - accuracy: 0.7601 - val_loss: 1.4446 - val_accuracy: 0.6722\n",
            "Epoch 8/20\n",
            "450/450 [==============================] - 7s 15ms/step - loss: 1.1212 - accuracy: 0.7707 - val_loss: 1.4043 - val_accuracy: 0.6962\n",
            "Epoch 9/20\n",
            "450/450 [==============================] - 7s 16ms/step - loss: 1.1091 - accuracy: 0.7810 - val_loss: 1.2053 - val_accuracy: 0.7450\n",
            "Epoch 10/20\n",
            "450/450 [==============================] - 7s 15ms/step - loss: 1.0821 - accuracy: 0.7855 - val_loss: 1.2814 - val_accuracy: 0.7330\n",
            "Epoch 11/20\n",
            "450/450 [==============================] - 7s 16ms/step - loss: 1.0654 - accuracy: 0.7958 - val_loss: 1.3117 - val_accuracy: 0.7256\n",
            "Epoch 12/20\n",
            "450/450 [==============================] - 7s 16ms/step - loss: 1.0634 - accuracy: 0.7982 - val_loss: 1.2534 - val_accuracy: 0.7364\n",
            "Epoch 13/20\n",
            "450/450 [==============================] - 7s 16ms/step - loss: 1.0555 - accuracy: 0.8042 - val_loss: 1.2409 - val_accuracy: 0.7472\n",
            "Epoch 14/20\n",
            "450/450 [==============================] - 7s 15ms/step - loss: 1.0270 - accuracy: 0.8125 - val_loss: 1.3071 - val_accuracy: 0.7352\n",
            "Epoch 15/20\n",
            "450/450 [==============================] - 7s 16ms/step - loss: 1.0212 - accuracy: 0.8152 - val_loss: 1.2154 - val_accuracy: 0.7538\n",
            "Epoch 16/20\n",
            "450/450 [==============================] - 7s 16ms/step - loss: 1.0211 - accuracy: 0.8181 - val_loss: 1.6944 - val_accuracy: 0.6624\n",
            "Epoch 17/20\n",
            "450/450 [==============================] - 7s 16ms/step - loss: 1.0493 - accuracy: 0.8163 - val_loss: 1.2243 - val_accuracy: 0.7632\n",
            "Epoch 18/20\n",
            "450/450 [==============================] - 7s 16ms/step - loss: 1.0144 - accuracy: 0.8244 - val_loss: 1.3003 - val_accuracy: 0.7422\n",
            "Epoch 19/20\n",
            "450/450 [==============================] - 7s 16ms/step - loss: 1.0193 - accuracy: 0.8249 - val_loss: 1.2709 - val_accuracy: 0.7532\n",
            "Epoch 20/20\n",
            "450/450 [==============================] - 7s 16ms/step - loss: 1.0051 - accuracy: 0.8299 - val_loss: 1.2339 - val_accuracy: 0.7564\n",
            "313/313 [==============================] - 2s 5ms/step - loss: 1.2566 - accuracy: 0.7527\n",
            "test set accuracy:  75.26999711990356\n"
          ]
        },
        {
          "output_type": "stream",
          "name": "stderr",
          "text": [
            "/usr/local/lib/python3.7/dist-packages/ipykernel_launcher.py:37: SettingWithCopyWarning: \n",
            "A value is trying to be set on a copy of a slice from a DataFrame.\n",
            "Try using .loc[row_indexer,col_indexer] = value instead\n",
            "\n",
            "See the caveats in the documentation: https://pandas.pydata.org/pandas-docs/stable/user_guide/indexing.html#returning-a-view-versus-a-copy\n",
            "/usr/local/lib/python3.7/dist-packages/ipykernel_launcher.py:38: SettingWithCopyWarning: \n",
            "A value is trying to be set on a copy of a slice from a DataFrame.\n",
            "Try using .loc[row_indexer,col_indexer] = value instead\n",
            "\n",
            "See the caveats in the documentation: https://pandas.pydata.org/pandas-docs/stable/user_guide/indexing.html#returning-a-view-versus-a-copy\n",
            "/usr/local/lib/python3.7/dist-packages/ipykernel_launcher.py:39: SettingWithCopyWarning: \n",
            "A value is trying to be set on a copy of a slice from a DataFrame.\n",
            "Try using .loc[row_indexer,col_indexer] = value instead\n",
            "\n",
            "See the caveats in the documentation: https://pandas.pydata.org/pandas-docs/stable/user_guide/indexing.html#returning-a-view-versus-a-copy\n"
          ]
        },
        {
          "output_type": "display_data",
          "data": {
            "image/png": "[encoded data removed]",
            "text/plain": [
              "<Figure size 1152x288 with 2 Axes>"
            ]
          },
          "metadata": {
            "needs_background": "light"
          }
        },
        {
          "output_type": "execute_result",
          "data": {
            "text/html": [
              "\n",
              "  <div id=\"df-feaae577-4b2f-40cc-8348-8b39976556b8\">\n",
              "    <div class=\"colab-df-container\">\n",
              "      <div>\n",
              "<style scoped>\n",
              "    .dataframe tbody tr th:only-of-type {\n",
              "        vertical-align: middle;\n",
              "    }\n",
              "\n",
              "    .dataframe tbody tr th {\n",
              "        vertical-align: top;\n",
              "    }\n",
              "\n",
              "    .dataframe thead th {\n",
              "        text-align: right;\n",
              "    }\n",
              "</style>\n",
              "<table border=\"1\" class=\"dataframe\">\n",
              "  <thead>\n",
              "    <tr style=\"text-align: right;\">\n",
              "      <th></th>\n",
              "      <th>Model</th>\n",
              "      <th>loss</th>\n",
              "      <th>accuracy</th>\n",
              "      <th>val_loss</th>\n",
              "      <th>val_accuracy</th>\n",
              "      <th>test_loss</th>\n",
              "      <th>test_accuracy</th>\n",
              "      <th>process_time</th>\n",
              "    </tr>\n",
              "  </thead>\n",
              "  <tbody>\n",
              "    <tr>\n",
              "      <th>0</th>\n",
              "      <td>DNN with 2 layers (no regularization)</td>\n",
              "      <td>1.349523</td>\n",
              "      <td>0.519867</td>\n",
              "      <td>1.466743</td>\n",
              "      <td>0.4830</td>\n",
              "      <td>1.461208</td>\n",
              "      <td>0.4870</td>\n",
              "      <td>37.715019</td>\n",
              "    </tr>\n",
              "    <tr>\n",
              "      <th>1</th>\n",
              "      <td>DNN with 3 layers (no regularization)</td>\n",
              "      <td>1.149056</td>\n",
              "      <td>0.589911</td>\n",
              "      <td>1.445502</td>\n",
              "      <td>0.5046</td>\n",
              "      <td>1.396864</td>\n",
              "      <td>0.5175</td>\n",
              "      <td>44.277055</td>\n",
              "    </tr>\n",
              "    <tr>\n",
              "      <th>2</th>\n",
              "      <td>CNN with 2 convolution/max pooling layers (no ...</td>\n",
              "      <td>0.156272</td>\n",
              "      <td>0.948267</td>\n",
              "      <td>1.544913</td>\n",
              "      <td>0.7226</td>\n",
              "      <td>1.646841</td>\n",
              "      <td>0.7123</td>\n",
              "      <td>149.813825</td>\n",
              "    </tr>\n",
              "    <tr>\n",
              "      <th>3</th>\n",
              "      <td>CNN with 3 convolution/max pooling layers (no ...</td>\n",
              "      <td>0.399279</td>\n",
              "      <td>0.857822</td>\n",
              "      <td>0.627919</td>\n",
              "      <td>0.7942</td>\n",
              "      <td>0.647574</td>\n",
              "      <td>0.7948</td>\n",
              "      <td>208.209461</td>\n",
              "    </tr>\n",
              "    <tr>\n",
              "      <th>4</th>\n",
              "      <td>DNN with 2 layers (with regularization)</td>\n",
              "      <td>1.571404</td>\n",
              "      <td>0.472289</td>\n",
              "      <td>1.629954</td>\n",
              "      <td>0.4416</td>\n",
              "      <td>1.602469</td>\n",
              "      <td>0.4593</td>\n",
              "      <td>38.177297</td>\n",
              "    </tr>\n",
              "    <tr>\n",
              "      <th>5</th>\n",
              "      <td>DNN with 3 layers (with regularization)</td>\n",
              "      <td>1.494352</td>\n",
              "      <td>0.506733</td>\n",
              "      <td>1.558566</td>\n",
              "      <td>0.4848</td>\n",
              "      <td>1.522716</td>\n",
              "      <td>0.5011</td>\n",
              "      <td>44.222440</td>\n",
              "    </tr>\n",
              "    <tr>\n",
              "      <th>6</th>\n",
              "      <td>CNN with 2 convolution/max pooling layers (wit...</td>\n",
              "      <td>1.005052</td>\n",
              "      <td>0.829933</td>\n",
              "      <td>1.233858</td>\n",
              "      <td>0.7564</td>\n",
              "      <td>1.256636</td>\n",
              "      <td>0.7527</td>\n",
              "      <td>149.461681</td>\n",
              "    </tr>\n",
              "  </tbody>\n",
              "</table>\n",
              "</div>\n",
              "      <button class=\"colab-df-convert\" onclick=\"convertToInteractive('df-feaae577-4b2f-40cc-8348-8b39976556b8')\"\n",
              "              title=\"Convert this dataframe to an interactive table.\"\n",
              "              style=\"display:none;\">\n",
              "        \n",
              "  <svg xmlns=\"http://www.w3.org/2000/svg\" height=\"24px\"viewBox=\"0 0 24 24\"\n",
              "       width=\"24px\">\n",
              "    <path d=\"M0 0h24v24H0V0z\" fill=\"none\"/>\n",
              "    <path d=\"M18.56 5.44l.94 2.06.94-2.06 2.06-.94-2.06-.94-.94-2.06-.94 2.06-2.06.94zm-11 1L8.5 8.5l.94-2.06 2.06-.94-2.06-.94L8.5 2.5l-.94 2.06-2.06.94zm10 10l.94 2.06.94-2.06 2.06-.94-2.06-.94-.94-2.06-.94 2.06-2.06.94z\"/><path d=\"M17.41 7.96l-1.37-1.37c-.4-.4-.92-.59-1.43-.59-.52 0-1.04.2-1.43.59L10.3 9.45l-7.72 7.72c-.78.78-.78 2.05 0 2.83L4 21.41c.39.39.9.59 1.41.59.51 0 1.02-.2 1.41-.59l7.78-7.78 2.81-2.81c.8-.78.8-2.07 0-2.86zM5.41 20L4 18.59l7.72-7.72 1.47 1.35L5.41 20z\"/>\n",
              "  </svg>\n",
              "      </button>\n",
              "      \n",
              "  <style>\n",
              "    .colab-df-container {\n",
              "      display:flex;\n",
              "      flex-wrap:wrap;\n",
              "      gap: 12px;\n",
              "    }\n",
              "\n",
              "    .colab-df-convert {\n",
              "      background-color: #E8F0FE;\n",
              "      border: none;\n",
              "      border-radius: 50%;\n",
              "      cursor: pointer;\n",
              "      display: none;\n",
              "      fill: #1967D2;\n",
              "      height: 32px;\n",
              "      padding: 0 0 0 0;\n",
              "      width: 32px;\n",
              "    }\n",
              "\n",
              "    .colab-df-convert:hover {\n",
              "      background-color: #E2EBFA;\n",
              "      box-shadow: 0px 1px 2px rgba(60, 64, 67, 0.3), 0px 1px 3px 1px rgba(60, 64, 67, 0.15);\n",
              "      fill: #174EA6;\n",
              "    }\n",
              "\n",
              "    [theme=dark] .colab-df-convert {\n",
              "      background-color: #3B4455;\n",
              "      fill: #D2E3FC;\n",
              "    }\n",
              "\n",
              "    [theme=dark] .colab-df-convert:hover {\n",
              "      background-color: #434B5C;\n",
              "      box-shadow: 0px 1px 3px 1px rgba(0, 0, 0, 0.15);\n",
              "      filter: drop-shadow(0px 1px 2px rgba(0, 0, 0, 0.3));\n",
              "      fill: #FFFFFF;\n",
              "    }\n",
              "  </style>\n",
              "\n",
              "      <script>\n",
              "        const buttonEl =\n",
              "          document.querySelector('#df-feaae577-4b2f-40cc-8348-8b39976556b8 button.colab-df-convert');\n",
              "        buttonEl.style.display =\n",
              "          google.colab.kernel.accessAllowed ? 'block' : 'none';\n",
              "\n",
              "        async function convertToInteractive(key) {\n",
              "          const element = document.querySelector('#df-feaae577-4b2f-40cc-8348-8b39976556b8');\n",
              "          const dataTable =\n",
              "            await google.colab.kernel.invokeFunction('convertToInteractive',\n",
              "                                                     [key], {});\n",
              "          if (!dataTable) return;\n",
              "\n",
              "          const docLinkHtml = 'Like what you see? Visit the ' +\n",
              "            '<a target=\"_blank\" href=https://colab.research.google.com/notebooks/data_table.ipynb>data table notebook</a>'\n",
              "            + ' to learn more about interactive tables.';\n",
              "          element.innerHTML = '';\n",
              "          dataTable['output_type'] = 'display_data';\n",
              "          await google.colab.output.renderOutput(dataTable, element);\n",
              "          const docLink = document.createElement('div');\n",
              "          docLink.innerHTML = docLinkHtml;\n",
              "          element.appendChild(docLink);\n",
              "        }\n",
              "      </script>\n",
              "    </div>\n",
              "  </div>\n",
              "  "
            ],
            "text/plain": [
              "                                               Model  ...  process_time\n",
              "0              DNN with 2 layers (no regularization)  ...     37.715019\n",
              "1              DNN with 3 layers (no regularization)  ...     44.277055\n",
              "2  CNN with 2 convolution/max pooling layers (no ...  ...    149.813825\n",
              "3  CNN with 3 convolution/max pooling layers (no ...  ...    208.209461\n",
              "4            DNN with 2 layers (with regularization)  ...     38.177297\n",
              "5            DNN with 3 layers (with regularization)  ...     44.222440\n",
              "6  CNN with 2 convolution/max pooling layers (wit...  ...    149.461681\n",
              "\n",
              "[7 rows x 8 columns]"
            ]
          },
          "metadata": {},
          "execution_count": 34
        }
      ]
    },
    {
      "cell_type": "code",
      "source": [
        "model4_reg = models.Sequential()\n",
        "model4_reg.add(layers.Conv2D(filters=128, kernel_size=(3, 3), strides=(1, 1), activation=tf.nn.relu,input_shape=(32, 32, 3)))\n",
        "model4_reg.add(layers.MaxPool2D((2, 2),strides=2))\n",
        "model4_reg.add(layers.Dropout(0.3))\n",
        "model4_reg.add(layers.Conv2D(filters=256, kernel_size=(3, 3), strides=(1, 1), activation=tf.nn.relu))\n",
        "model4_reg.add(layers.MaxPool2D(pool_size=(2, 2),strides=2))\n",
        "model4_reg.add(layers.Dropout(0.3))\n",
        "model4_reg.add(layers.Conv2D(filters=512, kernel_size=(3, 3), strides=(1, 1), activation=tf.nn.relu))\n",
        "model4_reg.add(layers.MaxPool2D(pool_size=(2, 2),strides=2))\n",
        "model4_reg.add(layers.Dropout(0.3))\n",
        "model4_reg.add(layers.Flatten())\n",
        "model4_reg.add(layers.BatchNormalization())\n",
        "model4_reg.add(layers.Dense(units=384, activation=tf.nn.relu,kernel_regularizer=tf.keras.regularizers.L2(0.001)))\n",
        "model4_reg.add(layers.Dense(units=10, activation=tf.nn.softmax))\n",
        "\n",
        "result4_reg = compile_train_model(model4_reg)\n",
        "\n",
        "new_col = ['CNN with 3 convolution/max pooling layers (with regularization)']   \n",
        "result4_reg.insert(loc=0, column='Model', value=new_col)\n",
        "assignment_result_table = assignment_result_table.append(result4_reg, ignore_index = True)\n",
        "assignment_result_table\n"
      ],
      "metadata": {
        "id": "Ic3HKewnwqpD",
        "outputId": "97e74789-6888-411a-e203-db7992c7102e",
        "colab": {
          "base_uri": "https://localhost:8080/",
          "height": 1000
        }
      },
      "execution_count": 35,
      "outputs": [
        {
          "output_type": "stream",
          "name": "stdout",
          "text": [
            "Epoch 1/20\n",
            "450/450 [==============================] - 11s 22ms/step - loss: 1.9683 - accuracy: 0.4380 - val_loss: 1.6465 - val_accuracy: 0.5330\n",
            "Epoch 2/20\n",
            "450/450 [==============================] - 8s 18ms/step - loss: 1.3564 - accuracy: 0.5886 - val_loss: 1.1657 - val_accuracy: 0.6382\n",
            "Epoch 3/20\n",
            "450/450 [==============================] - 8s 17ms/step - loss: 1.1486 - accuracy: 0.6454 - val_loss: 1.1838 - val_accuracy: 0.6268\n",
            "Epoch 4/20\n",
            "450/450 [==============================] - 8s 18ms/step - loss: 1.0568 - accuracy: 0.6770 - val_loss: 0.9645 - val_accuracy: 0.7002\n",
            "Epoch 5/20\n",
            "450/450 [==============================] - 8s 18ms/step - loss: 0.9942 - accuracy: 0.6996 - val_loss: 0.9517 - val_accuracy: 0.7116\n",
            "Epoch 6/20\n",
            "450/450 [==============================] - 9s 20ms/step - loss: 0.9467 - accuracy: 0.7177 - val_loss: 0.9293 - val_accuracy: 0.7254\n",
            "Epoch 7/20\n",
            "450/450 [==============================] - 8s 18ms/step - loss: 0.9105 - accuracy: 0.7322 - val_loss: 0.9894 - val_accuracy: 0.7040\n",
            "Epoch 8/20\n",
            "450/450 [==============================] - 8s 18ms/step - loss: 0.8825 - accuracy: 0.7455 - val_loss: 0.8474 - val_accuracy: 0.7576\n",
            "Epoch 9/20\n",
            "450/450 [==============================] - 8s 18ms/step - loss: 0.8656 - accuracy: 0.7523 - val_loss: 0.8544 - val_accuracy: 0.7606\n",
            "Epoch 10/20\n",
            "450/450 [==============================] - 8s 18ms/step - loss: 0.8391 - accuracy: 0.7607 - val_loss: 0.8413 - val_accuracy: 0.7634\n",
            "Epoch 11/20\n",
            "450/450 [==============================] - 8s 18ms/step - loss: 0.8215 - accuracy: 0.7684 - val_loss: 0.8368 - val_accuracy: 0.7616\n",
            "Epoch 12/20\n",
            "450/450 [==============================] - 8s 18ms/step - loss: 0.7973 - accuracy: 0.7778 - val_loss: 0.7637 - val_accuracy: 0.7906\n",
            "Epoch 13/20\n",
            "450/450 [==============================] - 8s 18ms/step - loss: 0.7910 - accuracy: 0.7806 - val_loss: 0.8325 - val_accuracy: 0.7636\n",
            "Epoch 14/20\n",
            "450/450 [==============================] - 8s 18ms/step - loss: 0.7676 - accuracy: 0.7903 - val_loss: 0.8569 - val_accuracy: 0.7630\n",
            "Epoch 15/20\n",
            "450/450 [==============================] - 8s 18ms/step - loss: 0.7531 - accuracy: 0.7925 - val_loss: 0.8443 - val_accuracy: 0.7748\n",
            "Epoch 16/20\n",
            "450/450 [==============================] - 8s 18ms/step - loss: 0.7302 - accuracy: 0.7974 - val_loss: 0.8034 - val_accuracy: 0.7784\n",
            "Epoch 17/20\n",
            "450/450 [==============================] - 8s 19ms/step - loss: 0.7247 - accuracy: 0.8022 - val_loss: 0.7356 - val_accuracy: 0.8018\n",
            "Epoch 18/20\n",
            "450/450 [==============================] - 8s 18ms/step - loss: 0.7014 - accuracy: 0.8102 - val_loss: 0.7353 - val_accuracy: 0.8050\n",
            "Epoch 19/20\n",
            "450/450 [==============================] - 8s 18ms/step - loss: 0.6940 - accuracy: 0.8123 - val_loss: 0.7675 - val_accuracy: 0.7916\n",
            "Epoch 20/20\n",
            "450/450 [==============================] - 8s 19ms/step - loss: 0.6782 - accuracy: 0.8180 - val_loss: 0.7957 - val_accuracy: 0.7824\n",
            "313/313 [==============================] - 3s 6ms/step - loss: 0.8117 - accuracy: 0.7817\n",
            "test set accuracy:  78.17000150680542\n"
          ]
        },
        {
          "output_type": "stream",
          "name": "stderr",
          "text": [
            "/usr/local/lib/python3.7/dist-packages/ipykernel_launcher.py:37: SettingWithCopyWarning: \n",
            "A value is trying to be set on a copy of a slice from a DataFrame.\n",
            "Try using .loc[row_indexer,col_indexer] = value instead\n",
            "\n",
            "See the caveats in the documentation: https://pandas.pydata.org/pandas-docs/stable/user_guide/indexing.html#returning-a-view-versus-a-copy\n",
            "/usr/local/lib/python3.7/dist-packages/ipykernel_launcher.py:38: SettingWithCopyWarning: \n",
            "A value is trying to be set on a copy of a slice from a DataFrame.\n",
            "Try using .loc[row_indexer,col_indexer] = value instead\n",
            "\n",
            "See the caveats in the documentation: https://pandas.pydata.org/pandas-docs/stable/user_guide/indexing.html#returning-a-view-versus-a-copy\n",
            "/usr/local/lib/python3.7/dist-packages/ipykernel_launcher.py:39: SettingWithCopyWarning: \n",
            "A value is trying to be set on a copy of a slice from a DataFrame.\n",
            "Try using .loc[row_indexer,col_indexer] = value instead\n",
            "\n",
            "See the caveats in the documentation: https://pandas.pydata.org/pandas-docs/stable/user_guide/indexing.html#returning-a-view-versus-a-copy\n"
          ]
        },
        {
          "output_type": "display_data",
          "data": {
            "image/png": "[encoded data removed]",
            "text/plain": [
              "<Figure size 1152x288 with 2 Axes>"
            ]
          },
          "metadata": {
            "needs_background": "light"
          }
        },
        {
          "output_type": "execute_result",
          "data": {
            "text/html": [
              "\n",
              "  <div id=\"df-01fb7f1b-6122-4eaa-9396-e5d27d612f3f\">\n",
              "    <div class=\"colab-df-container\">\n",
              "      <div>\n",
              "<style scoped>\n",
              "    .dataframe tbody tr th:only-of-type {\n",
              "        vertical-align: middle;\n",
              "    }\n",
              "\n",
              "    .dataframe tbody tr th {\n",
              "        vertical-align: top;\n",
              "    }\n",
              "\n",
              "    .dataframe thead th {\n",
              "        text-align: right;\n",
              "    }\n",
              "</style>\n",
              "<table border=\"1\" class=\"dataframe\">\n",
              "  <thead>\n",
              "    <tr style=\"text-align: right;\">\n",
              "      <th></th>\n",
              "      <th>Model</th>\n",
              "      <th>loss</th>\n",
              "      <th>accuracy</th>\n",
              "      <th>val_loss</th>\n",
              "      <th>val_accuracy</th>\n",
              "      <th>test_loss</th>\n",
              "      <th>test_accuracy</th>\n",
              "      <th>process_time</th>\n",
              "    </tr>\n",
              "  </thead>\n",
              "  <tbody>\n",
              "    <tr>\n",
              "      <th>0</th>\n",
              "      <td>DNN with 2 layers (no regularization)</td>\n",
              "      <td>1.349523</td>\n",
              "      <td>0.519867</td>\n",
              "      <td>1.466743</td>\n",
              "      <td>0.4830</td>\n",
              "      <td>1.461208</td>\n",
              "      <td>0.4870</td>\n",
              "      <td>37.715019</td>\n",
              "    </tr>\n",
              "    <tr>\n",
              "      <th>1</th>\n",
              "      <td>DNN with 3 layers (no regularization)</td>\n",
              "      <td>1.149056</td>\n",
              "      <td>0.589911</td>\n",
              "      <td>1.445502</td>\n",
              "      <td>0.5046</td>\n",
              "      <td>1.396864</td>\n",
              "      <td>0.5175</td>\n",
              "      <td>44.277055</td>\n",
              "    </tr>\n",
              "    <tr>\n",
              "      <th>2</th>\n",
              "      <td>CNN with 2 convolution/max pooling layers (no ...</td>\n",
              "      <td>0.156272</td>\n",
              "      <td>0.948267</td>\n",
              "      <td>1.544913</td>\n",
              "      <td>0.7226</td>\n",
              "      <td>1.646841</td>\n",
              "      <td>0.7123</td>\n",
              "      <td>149.813825</td>\n",
              "    </tr>\n",
              "    <tr>\n",
              "      <th>3</th>\n",
              "      <td>CNN with 3 convolution/max pooling layers (no ...</td>\n",
              "      <td>0.399279</td>\n",
              "      <td>0.857822</td>\n",
              "      <td>0.627919</td>\n",
              "      <td>0.7942</td>\n",
              "      <td>0.647574</td>\n",
              "      <td>0.7948</td>\n",
              "      <td>208.209461</td>\n",
              "    </tr>\n",
              "    <tr>\n",
              "      <th>4</th>\n",
              "      <td>DNN with 2 layers (with regularization)</td>\n",
              "      <td>1.571404</td>\n",
              "      <td>0.472289</td>\n",
              "      <td>1.629954</td>\n",
              "      <td>0.4416</td>\n",
              "      <td>1.602469</td>\n",
              "      <td>0.4593</td>\n",
              "      <td>38.177297</td>\n",
              "    </tr>\n",
              "    <tr>\n",
              "      <th>5</th>\n",
              "      <td>DNN with 3 layers (with regularization)</td>\n",
              "      <td>1.494352</td>\n",
              "      <td>0.506733</td>\n",
              "      <td>1.558566</td>\n",
              "      <td>0.4848</td>\n",
              "      <td>1.522716</td>\n",
              "      <td>0.5011</td>\n",
              "      <td>44.222440</td>\n",
              "    </tr>\n",
              "    <tr>\n",
              "      <th>6</th>\n",
              "      <td>CNN with 2 convolution/max pooling layers (wit...</td>\n",
              "      <td>1.005052</td>\n",
              "      <td>0.829933</td>\n",
              "      <td>1.233858</td>\n",
              "      <td>0.7564</td>\n",
              "      <td>1.256636</td>\n",
              "      <td>0.7527</td>\n",
              "      <td>149.461681</td>\n",
              "    </tr>\n",
              "    <tr>\n",
              "      <th>7</th>\n",
              "      <td>CNN with 3 convolution/max pooling layers (wit...</td>\n",
              "      <td>0.678220</td>\n",
              "      <td>0.818000</td>\n",
              "      <td>0.795677</td>\n",
              "      <td>0.7824</td>\n",
              "      <td>0.811685</td>\n",
              "      <td>0.7817</td>\n",
              "      <td>209.517619</td>\n",
              "    </tr>\n",
              "  </tbody>\n",
              "</table>\n",
              "</div>\n",
              "      <button class=\"colab-df-convert\" onclick=\"convertToInteractive('df-01fb7f1b-6122-4eaa-9396-e5d27d612f3f')\"\n",
              "              title=\"Convert this dataframe to an interactive table.\"\n",
              "              style=\"display:none;\">\n",
              "        \n",
              "  <svg xmlns=\"http://www.w3.org/2000/svg\" height=\"24px\"viewBox=\"0 0 24 24\"\n",
              "       width=\"24px\">\n",
              "    <path d=\"M0 0h24v24H0V0z\" fill=\"none\"/>\n",
              "    <path d=\"M18.56 5.44l.94 2.06.94-2.06 2.06-.94-2.06-.94-.94-2.06-.94 2.06-2.06.94zm-11 1L8.5 8.5l.94-2.06 2.06-.94-2.06-.94L8.5 2.5l-.94 2.06-2.06.94zm10 10l.94 2.06.94-2.06 2.06-.94-2.06-.94-.94-2.06-.94 2.06-2.06.94z\"/><path d=\"M17.41 7.96l-1.37-1.37c-.4-.4-.92-.59-1.43-.59-.52 0-1.04.2-1.43.59L10.3 9.45l-7.72 7.72c-.78.78-.78 2.05 0 2.83L4 21.41c.39.39.9.59 1.41.59.51 0 1.02-.2 1.41-.59l7.78-7.78 2.81-2.81c.8-.78.8-2.07 0-2.86zM5.41 20L4 18.59l7.72-7.72 1.47 1.35L5.41 20z\"/>\n",
              "  </svg>\n",
              "      </button>\n",
              "      \n",
              "  <style>\n",
              "    .colab-df-container {\n",
              "      display:flex;\n",
              "      flex-wrap:wrap;\n",
              "      gap: 12px;\n",
              "    }\n",
              "\n",
              "    .colab-df-convert {\n",
              "      background-color: #E8F0FE;\n",
              "      border: none;\n",
              "      border-radius: 50%;\n",
              "      cursor: pointer;\n",
              "      display: none;\n",
              "      fill: #1967D2;\n",
              "      height: 32px;\n",
              "      padding: 0 0 0 0;\n",
              "      width: 32px;\n",
              "    }\n",
              "\n",
              "    .colab-df-convert:hover {\n",
              "      background-color: #E2EBFA;\n",
              "      box-shadow: 0px 1px 2px rgba(60, 64, 67, 0.3), 0px 1px 3px 1px rgba(60, 64, 67, 0.15);\n",
              "      fill: #174EA6;\n",
              "    }\n",
              "\n",
              "    [theme=dark] .colab-df-convert {\n",
              "      background-color: #3B4455;\n",
              "      fill: #D2E3FC;\n",
              "    }\n",
              "\n",
              "    [theme=dark] .colab-df-convert:hover {\n",
              "      background-color: #434B5C;\n",
              "      box-shadow: 0px 1px 3px 1px rgba(0, 0, 0, 0.15);\n",
              "      filter: drop-shadow(0px 1px 2px rgba(0, 0, 0, 0.3));\n",
              "      fill: #FFFFFF;\n",
              "    }\n",
              "  </style>\n",
              "\n",
              "      <script>\n",
              "        const buttonEl =\n",
              "          document.querySelector('#df-01fb7f1b-6122-4eaa-9396-e5d27d612f3f button.colab-df-convert');\n",
              "        buttonEl.style.display =\n",
              "          google.colab.kernel.accessAllowed ? 'block' : 'none';\n",
              "\n",
              "        async function convertToInteractive(key) {\n",
              "          const element = document.querySelector('#df-01fb7f1b-6122-4eaa-9396-e5d27d612f3f');\n",
              "          const dataTable =\n",
              "            await google.colab.kernel.invokeFunction('convertToInteractive',\n",
              "                                                     [key], {});\n",
              "          if (!dataTable) return;\n",
              "\n",
              "          const docLinkHtml = 'Like what you see? Visit the ' +\n",
              "            '<a target=\"_blank\" href=https://colab.research.google.com/notebooks/data_table.ipynb>data table notebook</a>'\n",
              "            + ' to learn more about interactive tables.';\n",
              "          element.innerHTML = '';\n",
              "          dataTable['output_type'] = 'display_data';\n",
              "          await google.colab.output.renderOutput(dataTable, element);\n",
              "          const docLink = document.createElement('div');\n",
              "          docLink.innerHTML = docLinkHtml;\n",
              "          element.appendChild(docLink);\n",
              "        }\n",
              "      </script>\n",
              "    </div>\n",
              "  </div>\n",
              "  "
            ],
            "text/plain": [
              "                                               Model  ...  process_time\n",
              "0              DNN with 2 layers (no regularization)  ...     37.715019\n",
              "1              DNN with 3 layers (no regularization)  ...     44.277055\n",
              "2  CNN with 2 convolution/max pooling layers (no ...  ...    149.813825\n",
              "3  CNN with 3 convolution/max pooling layers (no ...  ...    208.209461\n",
              "4            DNN with 2 layers (with regularization)  ...     38.177297\n",
              "5            DNN with 3 layers (with regularization)  ...     44.222440\n",
              "6  CNN with 2 convolution/max pooling layers (wit...  ...    149.461681\n",
              "7  CNN with 3 convolution/max pooling layers (wit...  ...    209.517619\n",
              "\n",
              "[8 rows x 8 columns]"
            ]
          },
          "metadata": {},
          "execution_count": 35
        }
      ]
    },
    {
      "cell_type": "markdown",
      "source": [
        "(b) Create more experiments on your own by tweaking architectures and/or hyper parameters."
      ],
      "metadata": {
        "id": "cuijk7k5w8H5"
      }
    },
    {
      "cell_type": "code",
      "source": [
        ""
      ],
      "metadata": {
        "id": "lnktqSnyw_nA"
      },
      "execution_count": 35,
      "outputs": []
    },
    {
      "cell_type": "markdown",
      "metadata": {
        "id": "7uyMNPRdBQTA"
      },
      "source": [
        "### Load HDF5 Model Format "
      ]
    },
    {
      "cell_type": "markdown",
      "metadata": {
        "id": "PRoYhaAVT_0T"
      },
      "source": [
        "<div class=\"alert alert-block alert-info\">\n",
        "<b>tf.keras.models.load_model</b><br>\n",
        "https://www.tensorflow.org/api_docs/python/tf/keras/models/load_model</div>"
      ]
    },
    {
      "cell_type": "code",
      "metadata": {
        "id": "QjE3aqniBQTA",
        "outputId": "891643b0-fee2-4b6e-f92b-7cb54cc39296",
        "colab": {
          "base_uri": "https://localhost:8080/",
          "height": 310
        }
      },
      "source": [
        "model = tf.keras.models.load_model('/content/gdrive/My Drive/Colab Notebooks/models/model_0.8072.h5')"
      ],
      "execution_count": 36,
      "outputs": [
        {
          "output_type": "error",
          "ename": "OSError",
          "evalue": "ignored",
          "traceback": [
            "\u001b[0;31m---------------------------------------------------------------------------\u001b[0m",
            "\u001b[0;31mOSError\u001b[0m                                   Traceback (most recent call last)",
            "\u001b[0;32m<ipython-input-36-489959b89779>\u001b[0m in \u001b[0;36m<module>\u001b[0;34m()\u001b[0m\n\u001b[0;32m----> 1\u001b[0;31m \u001b[0mmodel\u001b[0m \u001b[0;34m=\u001b[0m \u001b[0mtf\u001b[0m\u001b[0;34m.\u001b[0m\u001b[0mkeras\u001b[0m\u001b[0;34m.\u001b[0m\u001b[0mmodels\u001b[0m\u001b[0;34m.\u001b[0m\u001b[0mload_model\u001b[0m\u001b[0;34m(\u001b[0m\u001b[0;34m'/content/gdrive/My Drive/Colab Notebooks/models/model_0.8072.h5'\u001b[0m\u001b[0;34m)\u001b[0m\u001b[0;34m\u001b[0m\u001b[0;34m\u001b[0m\u001b[0m\n\u001b[0m",
            "\u001b[0;32m/usr/local/lib/python3.7/dist-packages/keras/utils/traceback_utils.py\u001b[0m in \u001b[0;36merror_handler\u001b[0;34m(*args, **kwargs)\u001b[0m\n\u001b[1;32m     65\u001b[0m     \u001b[0;32mexcept\u001b[0m \u001b[0mException\u001b[0m \u001b[0;32mas\u001b[0m \u001b[0me\u001b[0m\u001b[0;34m:\u001b[0m  \u001b[0;31m# pylint: disable=broad-except\u001b[0m\u001b[0;34m\u001b[0m\u001b[0;34m\u001b[0m\u001b[0m\n\u001b[1;32m     66\u001b[0m       \u001b[0mfiltered_tb\u001b[0m \u001b[0;34m=\u001b[0m \u001b[0m_process_traceback_frames\u001b[0m\u001b[0;34m(\u001b[0m\u001b[0me\u001b[0m\u001b[0;34m.\u001b[0m\u001b[0m__traceback__\u001b[0m\u001b[0;34m)\u001b[0m\u001b[0;34m\u001b[0m\u001b[0;34m\u001b[0m\u001b[0m\n\u001b[0;32m---> 67\u001b[0;31m       \u001b[0;32mraise\u001b[0m \u001b[0me\u001b[0m\u001b[0;34m.\u001b[0m\u001b[0mwith_traceback\u001b[0m\u001b[0;34m(\u001b[0m\u001b[0mfiltered_tb\u001b[0m\u001b[0;34m)\u001b[0m \u001b[0;32mfrom\u001b[0m \u001b[0;32mNone\u001b[0m\u001b[0;34m\u001b[0m\u001b[0;34m\u001b[0m\u001b[0m\n\u001b[0m\u001b[1;32m     68\u001b[0m     \u001b[0;32mfinally\u001b[0m\u001b[0;34m:\u001b[0m\u001b[0;34m\u001b[0m\u001b[0;34m\u001b[0m\u001b[0m\n\u001b[1;32m     69\u001b[0m       \u001b[0;32mdel\u001b[0m \u001b[0mfiltered_tb\u001b[0m\u001b[0;34m\u001b[0m\u001b[0;34m\u001b[0m\u001b[0m\n",
            "\u001b[0;32m/usr/local/lib/python3.7/dist-packages/keras/saving/save.py\u001b[0m in \u001b[0;36mload_model\u001b[0;34m(filepath, custom_objects, compile, options)\u001b[0m\n\u001b[1;32m    207\u001b[0m         \u001b[0;32mif\u001b[0m \u001b[0misinstance\u001b[0m\u001b[0;34m(\u001b[0m\u001b[0mfilepath\u001b[0m\u001b[0;34m,\u001b[0m \u001b[0mstr\u001b[0m\u001b[0;34m)\u001b[0m\u001b[0;34m:\u001b[0m\u001b[0;34m\u001b[0m\u001b[0;34m\u001b[0m\u001b[0m\n\u001b[1;32m    208\u001b[0m           \u001b[0;32mif\u001b[0m \u001b[0;32mnot\u001b[0m \u001b[0mtf\u001b[0m\u001b[0;34m.\u001b[0m\u001b[0mio\u001b[0m\u001b[0;34m.\u001b[0m\u001b[0mgfile\u001b[0m\u001b[0;34m.\u001b[0m\u001b[0mexists\u001b[0m\u001b[0;34m(\u001b[0m\u001b[0mfilepath\u001b[0m\u001b[0;34m)\u001b[0m\u001b[0;34m:\u001b[0m\u001b[0;34m\u001b[0m\u001b[0;34m\u001b[0m\u001b[0m\n\u001b[0;32m--> 209\u001b[0;31m             \u001b[0;32mraise\u001b[0m \u001b[0mIOError\u001b[0m\u001b[0;34m(\u001b[0m\u001b[0;34mf'No file or directory found at {filepath}'\u001b[0m\u001b[0;34m)\u001b[0m\u001b[0;34m\u001b[0m\u001b[0;34m\u001b[0m\u001b[0m\n\u001b[0m\u001b[1;32m    210\u001b[0m           \u001b[0;32mif\u001b[0m \u001b[0msaving_utils\u001b[0m\u001b[0;34m.\u001b[0m\u001b[0mis_hdf5_filepath\u001b[0m\u001b[0;34m(\u001b[0m\u001b[0mfilepath\u001b[0m\u001b[0;34m)\u001b[0m \u001b[0;32mand\u001b[0m \u001b[0mh5py\u001b[0m \u001b[0;32mis\u001b[0m \u001b[0;32mNone\u001b[0m\u001b[0;34m:\u001b[0m\u001b[0;34m\u001b[0m\u001b[0;34m\u001b[0m\u001b[0m\n\u001b[1;32m    211\u001b[0m             raise ImportError(\n",
            "\u001b[0;31mOSError\u001b[0m: No file or directory found at /content/gdrive/My Drive/Colab Notebooks/models/model_0.8072.h5"
          ]
        }
      ]
    },
    {
      "cell_type": "code",
      "metadata": {
        "id": "LzxYqvOVBQTA"
      },
      "source": [
        "preds = model.predict(x_test_norm)"
      ],
      "execution_count": null,
      "outputs": []
    },
    {
      "cell_type": "code",
      "metadata": {
        "id": "fOIByBY-BQTA"
      },
      "source": [
        "preds.shape"
      ],
      "execution_count": null,
      "outputs": []
    },
    {
      "cell_type": "markdown",
      "metadata": {
        "id": "q1h-XqX5BQTB"
      },
      "source": [
        "\n"
      ]
    },
    {
      "cell_type": "markdown",
      "metadata": {
        "id": "qgK4yZt4BQTB"
      },
      "source": [
        "### Predictions"
      ]
    },
    {
      "cell_type": "code",
      "metadata": {
        "id": "yur69upzBQTB"
      },
      "source": [
        "cm = sns.light_palette((260, 75, 60), input=\"husl\", as_cmap=True)"
      ],
      "execution_count": null,
      "outputs": []
    },
    {
      "cell_type": "code",
      "metadata": {
        "id": "FoXrnXb8BQTB"
      },
      "source": [
        "df = pd.DataFrame(preds[0:20], columns = ['airplane', 'automobile', 'bird', 'cat', 'deer', 'dog', 'frog', 'horse', 'ship', 'truck'])\n",
        "df.style.format(\"{:.2%}\").background_gradient(cmap=cm)"
      ],
      "execution_count": null,
      "outputs": []
    },
    {
      "cell_type": "code",
      "metadata": {
        "id": "--jq-EuoaTh8"
      },
      "source": [
        "(_,_), (test_images, test_labels) = tf.keras.datasets.cifar10.load_data()\n",
        "\n",
        "img = test_images[2004]\n",
        "img_tensor = image.img_to_array(img)\n",
        "img_tensor = np.expand_dims(img_tensor, axis=0)\n",
        "\n",
        "class_names = ['airplane'\n",
        ",'automobile'\n",
        ",'bird'\n",
        ",'cat'\n",
        ",'deer'\n",
        ",'dog'\n",
        ",'frog' \n",
        ",'horse'\n",
        ",'ship'\n",
        ",'truck']\n",
        "\n",
        "plt.imshow(img, cmap='viridis')\n",
        "plt.axis('off')\n",
        "plt.show()"
      ],
      "execution_count": null,
      "outputs": []
    },
    {
      "cell_type": "code",
      "metadata": {
        "id": "v7HMVYT_aUNs"
      },
      "source": [
        "# Extracts the outputs of the top 8 layers:\n",
        "layer_outputs = [layer.output for layer in model.layers[:8]]\n",
        "# Creates a model that will return these outputs, given the model input:\n",
        "activation_model = models.Model(inputs=model.input, outputs=layer_outputs)"
      ],
      "execution_count": null,
      "outputs": []
    },
    {
      "cell_type": "code",
      "metadata": {
        "id": "Q9sSr6LpBQTB"
      },
      "source": [
        "activations = activation_model.predict(img_tensor)\n",
        "len(activations)"
      ],
      "execution_count": null,
      "outputs": []
    },
    {
      "cell_type": "code",
      "metadata": {
        "id": "kdf1Xm4Zc0T2"
      },
      "source": [
        "layer_names = []\n",
        "for layer in model.layers:\n",
        "    layer_names.append(layer.name)\n",
        "    \n",
        "layer_names"
      ],
      "execution_count": null,
      "outputs": []
    },
    {
      "cell_type": "code",
      "metadata": {
        "id": "E_KkKxCuBQTB",
        "scrolled": false
      },
      "source": [
        "# These are the names of the layers, so can have them as part of our plot\n",
        "layer_names = []\n",
        "for layer in model.layers[:3]:\n",
        "    layer_names.append(layer.name)\n",
        "\n",
        "images_per_row = 16\n",
        "\n",
        "# Now let's display our feature maps\n",
        "for layer_name, layer_activation in zip(layer_names, activations):\n",
        "    # This is the number of features in the feature map\n",
        "    n_features = layer_activation.shape[-1]\n",
        "\n",
        "    # The feature map has shape (1, size, size, n_features)\n",
        "    size = layer_activation.shape[1]\n",
        "\n",
        "    # We will tile the activation channels in this matrix\n",
        "    n_cols = n_features // images_per_row\n",
        "    display_grid = np.zeros((size * n_cols, images_per_row * size))\n",
        "\n",
        "    # We'll tile each filter into this big horizontal grid\n",
        "    for col in range(n_cols):\n",
        "        for row in range(images_per_row):\n",
        "            channel_image = layer_activation[0,\n",
        "                                             :, :,\n",
        "                                             col * images_per_row + row]\n",
        "            # Post-process the feature to make it visually palatable\n",
        "            channel_image -= channel_image.mean()\n",
        "            channel_image /= channel_image.std()\n",
        "            channel_image *= 64\n",
        "            channel_image += 128\n",
        "            channel_image = np.clip(channel_image, 0, 255).astype('uint8')\n",
        "            display_grid[col * size : (col + 1) * size,\n",
        "                         row * size : (row + 1) * size] = channel_image\n",
        "\n",
        "    # Display the grid\n",
        "    scale = 1. / size\n",
        "    plt.figure(figsize=(scale * display_grid.shape[1],\n",
        "                        scale * display_grid.shape[0]))\n",
        "    plt.title(layer_name)\n",
        "    plt.grid(False)\n",
        "    plt.imshow(display_grid, aspect='auto', cmap='viridis')\n",
        "    \n",
        "plt.show();"
      ],
      "execution_count": null,
      "outputs": []
    }
  ]
}